{
 "cells": [
  {
   "cell_type": "markdown",
   "metadata": {},
   "source": [
    "This is a recommender system built using K nearest neighbors"
   ]
  },
  {
   "cell_type": "code",
   "execution_count": 377,
   "metadata": {},
   "outputs": [],
   "source": [
    "#!/usr/bin/env python\n",
    "# coding: utf-8\n",
    "\n",
    "# general purpose libraries\n",
    "import platform\n",
    "import os\n",
    "import dateutil\n",
    "import itertools\n",
    "\n",
    "# database connection libraries\n",
    "import sqlite3\n",
    "from sqlite3 import Error\n",
    "\n",
    "# mathematics libraries\n",
    "import pandas as pd\n",
    "import numpy as np\n",
    "\n",
    "# ML libraries\n",
    "from sklearn.neighbors import KDTree                    # Nearest neighbors\n",
    "from sklearn.preprocessing import StandardScaler        # scales all values between a range \n",
    "from sklearn.model_selection import train_test_split    # cross-validation\n",
    "from tpot import TPOTRegressor                          # genetic algorithm implementation\n",
    "from sklearn.externals import joblib                    # model loading\n",
    "import pickle                                           # model saving\n",
    "\n",
    "# data visualisation libraries\n",
    "import matplotlib.pyplot as plt\n",
    "from mpl_toolkits.mplot3d import Axes3D"
   ]
  },
  {
   "cell_type": "markdown",
   "metadata": {},
   "source": [
    "this Function connects with the SQL DB"
   ]
  },
  {
   "cell_type": "code",
   "execution_count": 378,
   "metadata": {},
   "outputs": [],
   "source": [
    "def create_connection(db_file):\n",
    "        \"\"\" create a database connection to the SQLite database\n",
    "            specified by the db_file\n",
    "        :param db_file: database file\n",
    "        :return: Connection object or None\n",
    "        \"\"\"\n",
    "        try:\n",
    "            conn = sqlite3.connect(db_file)\n",
    "            return conn\n",
    "        except Error as e:\n",
    "            print(e)\n",
    "        return None"
   ]
  },
  {
   "cell_type": "markdown",
   "metadata": {},
   "source": [
    "Connecting all the DBs"
   ]
  },
  {
   "cell_type": "code",
   "execution_count": 379,
   "metadata": {},
   "outputs": [],
   "source": [
    "Sql_connection1 = create_connection('/opt/apps/scripts/jaarvis_demand_supply/evo.db')\n",
    "Sql_connection = create_connection('/opt/apps/scripts/jaarvis_demand_supply/zone_travel.db')"
   ]
  },
  {
   "cell_type": "markdown",
   "metadata": {},
   "source": [
    "Here we are checking what tables are there in our DB"
   ]
  },
  {
   "cell_type": "code",
   "execution_count": 402,
   "metadata": {},
   "outputs": [
    {
     "name": "stdout",
     "output_type": "stream",
     "text": [
      "[('zone_travel_detail',)]\n"
     ]
    }
   ],
   "source": [
    "cursor = Sql_connection.cursor()\n",
    "cursor.execute(\"SELECT name FROM sqlite_master WHERE type='table';\")\n",
    "print(cursor.fetchall())"
   ]
  },
  {
   "cell_type": "code",
   "execution_count": 465,
   "metadata": {},
   "outputs": [],
   "source": [
    "technician_db = pd.read_sql_query(\"select * from zone_technician;\", Sql_connection1)\n",
    "technician_db = technician_db.fillna(-9999)"
   ]
  },
  {
   "cell_type": "code",
   "execution_count": 466,
   "metadata": {},
   "outputs": [],
   "source": [
    "avg_trip_cost = pd.read_sql_query(\"select * from zone_trip_avg;\", Sql_connection1)\n"
   ]
  },
  {
   "cell_type": "code",
   "execution_count": 467,
   "metadata": {},
   "outputs": [],
   "source": [
    "zone_detail_df = pd.read_sql_query(\"select * from zone_travel_detail;\", Sql_connection)\n",
    "# zone_detail_df.head()"
   ]
  },
  {
   "cell_type": "markdown",
   "metadata": {},
   "source": [
    "Data Preprocessing"
   ]
  },
  {
   "cell_type": "code",
   "execution_count": 468,
   "metadata": {},
   "outputs": [],
   "source": [
    "temp = zone_detail_df.loc[zone_detail_df['to_zone'].isin(list(avg_trip_cost.zone.unique()))]\n",
    "temp = temp.loc[temp['from_zone'].isin(list(avg_trip_cost.zone.unique()))]\n",
    "\n",
    "zone_detail_df = temp"
   ]
  },
  {
   "cell_type": "code",
   "execution_count": 469,
   "metadata": {},
   "outputs": [],
   "source": [
    "avg_trip_cost.total_trips = avg_trip_cost.total_trips.astype(int)"
   ]
  },
  {
   "cell_type": "code",
   "execution_count": 470,
   "metadata": {},
   "outputs": [],
   "source": [
    "avg_trip_cost = avg_trip_cost.sort_values(by = 'zone')"
   ]
  },
  {
   "cell_type": "code",
   "execution_count": 471,
   "metadata": {},
   "outputs": [],
   "source": [
    "# bringing all DFs in same format so that they can be joined to pass to the ML model\n",
    "cost_diff=pd.DataFrame(list(itertools.product(avg_trip_cost.zone,avg_trip_cost.zone)),columns=['from_zone','to_zone'])\n",
    "dic = dict(zip(avg_trip_cost.zone,avg_trip_cost.avg_cost))\n",
    "cost_diff['cost_diff']=cost_diff.from_zone.map(dic)-cost_diff.to_zone.map(dic)\n",
    "cost_diff.head()\n",
    "\n",
    "cost_diff = cost_diff.fillna(-9999)"
   ]
  },
  {
   "cell_type": "code",
   "execution_count": 472,
   "metadata": {},
   "outputs": [],
   "source": [
    "# Missing values handling\n",
    "technician_db = technician_db.loc[technician_db['zone'].isin(list(avg_trip_cost.zone.unique()))]"
   ]
  },
  {
   "cell_type": "code",
   "execution_count": 473,
   "metadata": {},
   "outputs": [
    {
     "name": "stderr",
     "output_type": "stream",
     "text": [
      "/usr/local/lib/python3.5/dist-packages/pandas/core/indexing.py:189: SettingWithCopyWarning: \n",
      "A value is trying to be set on a copy of a slice from a DataFrame\n",
      "\n",
      "See the caveats in the documentation: http://pandas.pydata.org/pandas-docs/stable/indexing.html#indexing-view-versus-copy\n",
      "  self._setitem_with_indexer(indexer, value)\n"
     ]
    }
   ],
   "source": [
    "technician_db.avg.loc[technician_db['avg'] < 3 ] = -15\n",
    "technician_db.avg.loc[technician_db['avg'] > 10] = -1\n",
    "technician_db.avg.loc[technician_db['avg'] > 3] = 10\n",
    "technician_db.avg.loc[technician_db['avg'] == -1] = 0\n",
    "\n",
    "technician_db = technician_db.fillna(-9999)"
   ]
  },
  {
   "cell_type": "code",
   "execution_count": 474,
   "metadata": {},
   "outputs": [],
   "source": [
    "# missing_zones = pd.DataFrame({'id':[],'avg':[],'zone':[],'from_time':[],'to_time':[]})\n",
    "# missing_zones.zone= avg_trip_cost.zone[~avg_trip_cost.zone.isin(technician_db.zone)]"
   ]
  },
  {
   "cell_type": "code",
   "execution_count": 475,
   "metadata": {},
   "outputs": [],
   "source": [
    "# temp_df = pd.concat([technician_db,missing_zones],ignore_index=True)"
   ]
  },
  {
   "cell_type": "code",
   "execution_count": 476,
   "metadata": {},
   "outputs": [],
   "source": [
    "technician_db = technician_db.drop_duplicates('zone', keep='last')"
   ]
  },
  {
   "cell_type": "code",
   "execution_count": 477,
   "metadata": {},
   "outputs": [],
   "source": [
    "import itertools\n",
    "tech_diff=pd.DataFrame(list(itertools.product(technician_db.zone,technician_db.zone)),columns=['from_zone','to_zone'])\n",
    "dic = dict(zip(technician_db.zone,technician_db.avg))\n",
    "tech_diff['tech_diff']=tech_diff.from_zone.map(dic)\n",
    "\n",
    "tech_diff = tech_diff.fillna(-9999)\n",
    "\n"
   ]
  },
  {
   "cell_type": "code",
   "execution_count": 487,
   "metadata": {},
   "outputs": [],
   "source": [
    "# final DF after data preprocessing & cleaning & joining\n",
    "supply_df = pd.merge(zone_detail_df, tech_diff,  how='left', left_on=['from_zone','to_zone'], right_on = ['from_zone','to_zone'])\n",
    "supply_df = pd.merge(supply_df,cost_diff ,  how='left', left_on=['from_zone','to_zone'], right_on = ['from_zone','to_zone'])\n",
    "supply_df = supply_df.fillna(-9999)"
   ]
  },
  {
   "cell_type": "code",
   "execution_count": 488,
   "metadata": {},
   "outputs": [],
   "source": [
    "supply_df['vector'] = list(map(list,(zip(supply_df.kilometers,supply_df.minutes,supply_df.cost_diff,supply_df.tech_diff))))"
   ]
  },
  {
   "cell_type": "code",
   "execution_count": 489,
   "metadata": {},
   "outputs": [],
   "source": [
    "supply_pivot_df = pd.pivot_table(supply_df,values=['vector'],index=['from_zone'],columns=['to_zone'],aggfunc='first')"
   ]
  },
  {
   "cell_type": "code",
   "execution_count": 490,
   "metadata": {},
   "outputs": [],
   "source": [
    "supply_pivot_df = supply_pivot_df.vector"
   ]
  },
  {
   "cell_type": "code",
   "execution_count": 491,
   "metadata": {},
   "outputs": [],
   "source": [
    "supply_pivot_df = supply_pivot_df.sort_index()\n",
    "supply_pivot_df = supply_pivot_df[supply_pivot_df.columns.sort_values()]\n"
   ]
  },
  {
   "cell_type": "code",
   "execution_count": 492,
   "metadata": {},
   "outputs": [],
   "source": [
    "supply_pivot_df=supply_pivot_df.applymap(lambda x: [-9999,-9999,-9999,-9999] if x is np.nan else x)\n",
    "supply_pivot_df = supply_pivot_df[supply_pivot_df.index.isin(supply_pivot_df.columns)]\n",
    "supply_pivot_df = supply_pivot_df.loc[:, supply_pivot_df.columns.isin(supply_pivot_df.index)]"
   ]
  },
  {
   "cell_type": "code",
   "execution_count": 540,
   "metadata": {},
   "outputs": [],
   "source": [
    "for i in range(supply_pivot_df.shape[0]):\n",
    "    supply_pivot_df.iloc[i,i]=[0,0,0,0]"
   ]
  },
  {
   "cell_type": "markdown",
   "metadata": {},
   "source": [
    "weighted_score = time*x1+distance*x2+average_trip_cost*x3+no_of_tech*x4+cost_of_relocating*x5+hot_zone*x6+supply gap*x7"
   ]
  },
  {
   "cell_type": "markdown",
   "metadata": {},
   "source": [
    "Garstin_Bastion = "
   ]
  },
  {
   "cell_type": "code",
   "execution_count": 577,
   "metadata": {},
   "outputs": [],
   "source": [
    "# def nearest_neighbors():\n",
    "from sklearn.neighbors import KDTree\n",
    "neighbor_list=[]\n",
    "for x in range(0,supply_pivot_df.shape[0]):\n",
    "    df  = [np.array(j) for i,j in supply_pivot_df.iloc[x,:].iteritems()]\n",
    "    kdt = KDTree(df, leaf_size=30, metric='euclidean')\n",
    "    zone_neighbors = kdt.query(df, k=5, return_distance=False)[x]\n",
    "    neighbor_list.append([supply_pivot_df.columns[i] for i in zone_neighbors])"
   ]
  },
  {
   "cell_type": "code",
   "execution_count": 341,
   "metadata": {},
   "outputs": [
    {
     "data": {
      "text/plain": [
       "30"
      ]
     },
     "execution_count": 341,
     "metadata": {},
     "output_type": "execute_result"
    }
   ],
   "source": [
    "# import matplotlib.pyplot as plt\n",
    "# from mpl_toolkits.mplot3d import Axes3D\n",
    "# import numpy as np\n",
    "# # X, Y, Z, U, V, W = zip(*df)\n",
    "# # fig = plt.figure()\n",
    "# # ax = fig.add_subplot(111, projection='3d')\n",
    "# # ax.quiver(X, Y, Z, U, V, W)\n",
    "\n",
    "# # ax.set_xlim([-2, 2])\n",
    "# # ax.set_ylim([-2, 2])\n",
    "# # ax.set_zlim([-2, 2])\n",
    "# # ax.legend()\n",
    "# # plt.show()\n",
    "\n",
    "# avg_trip_cost = avg_trip_cost[2:]\n",
    "# # np.where(avg_trip_cost.zone =='V5Z 2L5')\n",
    "# # df = avg_trip_cost.set_index('zone')\n",
    "# # mux = pd.MultiIndex.from_product([avg_trip_cost.zone, avg_trip_cost.zone], names=['name1','name2'])\n",
    "\n",
    "# # df = (avg_trip_cost['avg_cost'].reindex(mux, level=0)\n",
    "# #         .sub(df.reindex(mux, level=1)['avg_cost'])\n",
    "# #         .rename('time_diff')\n",
    "# #         .reset_index())\n",
    "# supply_df = supply_df[numpy.isfinite(supply_df['cost_diff'])]\n",
    "# supply_df = supply_df[numpy.isfinite(supply_df['kilometers'])]\n",
    "# list(set(supply_df.to_zone) - set(supply_df.from_zone))\n",
    "# # zone_detail_df.to_zone.isin()\n",
    "len(set(avg_trip_cost.zone.unique()).difference((set(zone_detail_df.to_zone.unique()))))\n"
   ]
  },
  {
   "cell_type": "code",
   "execution_count": 286,
   "metadata": {},
   "outputs": [
    {
     "name": "stdout",
     "output_type": "stream",
     "text": [
      "nan\n"
     ]
    }
   ],
   "source": [
    "# demand = pd.read_json('http://139.59.93.34:5000/demand')\n",
    "# live_cars = pd.read_json('live_cars.json')\n",
    "# demand = demand.T\n",
    "# live_cars = live_cars.T\n",
    "# # demand = demand.fillna(0)\n",
    "# # live_cars = live_cars.fillna(0)\n",
    "\n",
    "# def type_conversion(x):\n",
    "#     if type(x)== list:\n",
    "#         return tuple(x)\n",
    "#     else:\n",
    "#         print(x)\n",
    "    \n",
    "# live_cars.lat_long = live_cars.lat_long.apply(lambda x: type_conversion(x))\n",
    "# demand.lat_long = demand.lat_long.apply(lambda x: type_conversion(x))\n",
    "\n",
    "# result= pd.merge(live_cars,demand, how='outer',on='lat_long')\n",
    "\n"
   ]
  },
  {
   "cell_type": "code",
   "execution_count": 578,
   "metadata": {},
   "outputs": [
    {
     "data": {
      "text/plain": [
       "[['14640', 'V5V 3E2', 'V5R 5K6', 'V5W 1G5', 'V5M 4C1'],\n",
       " ['V1M 2R6', 'V1M 3G1', 'V3C 2S9', 'V3L 3P2', 'V3L 3X6'],\n",
       " ['V1M 3G1', 'V3C 2S9', 'V3L 3P2', 'V3L 3X6', 'V3L 3V9'],\n",
       " ['V2J 3A9', 'V3L 3P2', 'V3L 3X6', 'V3K 7B3', 'V3L 3V9'],\n",
       " ['V3C 2S9', 'V3L 3P2', 'V3L 3X6', 'V3L 3V9', 'V3L 3H7'],\n",
       " ['V3J 3Z9', 'V3K 7B3', 'V3L 3X6', 'V5A 4X6', 'V3L 3X1'],\n",
       " ['V3K 7B3', 'V3L 3P2', 'V3L 3X6', 'V3L 4C9', 'V3L 3X1'],\n",
       " ['V3L 0A5', 'V3L 2T3', 'V3L 4C9', 'V3N 3N4', 'V3L 0H4'],\n",
       " ['V3L 0C9', 'V3L 3A9', 'V3L 3B2', 'V3M 3K3', 'V3L 1K3'],\n",
       " ['V3L 0E3', 'V3L 3V9', 'V3L 3H7', 'V3L 3X1', 'V3L 0H4'],\n",
       " ['V3L 0E7', 'V3L 4G6', 'V3L 0H4', 'V3L 2G1', 'V3L 1A7'],\n",
       " ['V3L 0H4', 'V3L 3H7', 'V3L 4G6', 'V3L 3V9', 'V3L 4C9'],\n",
       " ['V3L 1A7', 'V3L 1A9', 'V3L 1B9', 'V3L 1G2', 'V3L 2K1'],\n",
       " ['V3L 1A9', 'V3L 1B9', 'V3L 1G2', 'V3L 2K1', 'V3L 2G1'],\n",
       " ['V3L 1B9', 'V3L 1G2', 'V3L 2K1', 'V3L 2G1', 'V3L 1K3'],\n",
       " ['V3L 1G2', 'V3L 2K1', 'V3M 3K3', 'V3L 3A9', 'V3L 2G1'],\n",
       " ['V3L 1K3', 'V3M 3K3', 'V3L 3A9', 'V3L 2G1', 'V3L 3B2'],\n",
       " ['V3L 2G1', 'V3L 2K1', 'V3M 3K3', 'V3L 3A9', 'V3L 3B2'],\n",
       " ['V3L 2K1', 'V3M 3K3', 'V3L 3A9', 'V3L 3B2', 'V3L 3H7'],\n",
       " ['V3L 2T3', 'V3L 4C9', 'V3M 3K3', 'V3L 3A9', 'V3L 3B2'],\n",
       " ['V3L 2W6', 'V3N 3N4', 'V3L 3C5', 'V3L 3A9', 'V3L 3B2'],\n",
       " ['V3L 3A9', 'V3L 3B2', 'V3M 3K3', 'V3L 3C5', 'V3L 3C2'],\n",
       " ['V3L 3B2', 'V3M 3K3', 'V3L 3C5', 'V3L 3C2', 'V3N 3N4'],\n",
       " ['V3L 3C2', 'V3L 3C5', 'V3M 3K3', 'V3M 4K4', 'V3N 3N4'],\n",
       " ['V3L 3C5', 'V3N 3N4', 'V3M 4K4', 'V3M 3K3', 'V3L 4G6'],\n",
       " ['V3L 3H7', 'V3L 3V9', 'V3L 4G6', 'V3L 4C9', 'V3L 3X1'],\n",
       " ['V3L 3P2', 'V3L 3X6', 'V3L 3V9', 'V3L 3X1', 'V3L 4C9'],\n",
       " ['V3L 3V9', 'V3L 4G6', 'V3L 4C9', 'V3L 3X1', 'V3L 3X6'],\n",
       " ['V3L 3X1', 'V3L 3X6', 'V3L 4C9', 'V3L 4G6', 'V3N 3N4'],\n",
       " ['V3L 3X6', 'V3L 4C9', 'V3L 4G6', 'V3N 3N4', 'V3M 4K4'],\n",
       " ['V3L 4C9', 'V3L 4G6', 'V3N 3N4', 'V3M 3K3', 'V3M 4K4'],\n",
       " ['V3L 4G6', 'V3N 3N4', 'V3M 3K3', 'V3M 4K4', 'V5G 4X7'],\n",
       " ['V3M 3K3', 'V3M 4K4', 'V3N 3N4', 'V5G 4X7', 'V5M 1B1'],\n",
       " ['V3M 4K4', 'V3N 3N4', 'V5M 1B1', 'V5R 5S1', 'V5R 3Z5'],\n",
       " ['V3N 3N4', 'V5M 1B1', 'V5R 5S1', 'V5A 4X6', 'V5R 3Z5'],\n",
       " ['V5A 4X6', 'V5M 1B1', 'V5R 5S1', 'V6A 1Z3', 'V5N 1A9'],\n",
       " ['V5G 4X7', 'V5R 5S1', 'V5M 1B1', 'V5R 3Z5', 'V5K 5C5'],\n",
       " ['V5K 1Y8', 'V5L 5C3', 'V5N 1A9', 'V5L 3X1', 'V5L 3X2'],\n",
       " ['V5K 1Z8', 'V5K 1Y8', 'V5K 5C5', 'V5L 5C3', 'V5M 1B1'],\n",
       " ['V5K 5C5', 'V5K 1Y8', 'V5N 1A9', 'V5L 5C3', 'V5M 1B1'],\n",
       " ['V5L 3K9', 'V5L 3X2', 'V6A 1Z3', 'V6A 2V7', 'V5N 1A9'],\n",
       " ['V5L 3X1', 'V6E 1V1', 'V6E 4R5', 'V6E 4H6', 'V6E 1L6'],\n",
       " ['V5L 3X2', 'V6A 1Z3', 'V6A 2V7', 'V5M 1B1', 'V5N 1A9'],\n",
       " ['V5L 4E5', 'V5L 3X2', 'V5L 3X1', 'V5L 5C3', 'V5L 3K9'],\n",
       " ['V5L 5C3', 'V5L 3K9', 'V6A 1E1', 'V5L 3X1', 'V5L 3X2'],\n",
       " ['V5M 1B1', 'V5N 1A9', 'V6A 1Z3', 'V6A 2V7', 'V5R 5H3'],\n",
       " ['V5M 4C1', 'V5R 5S1', 'V5R 5K6', 'V5R 3Z5', 'V5R 5H3'],\n",
       " ['V5N 1A9', 'V6A 1Z3', 'V6A 2V7', 'V5T 3K5', 'V5T 4K8'],\n",
       " ['V5N 1H2', 'V5N 1S2', 'V5L 3K9', 'V5L 3X2', 'V5N 1A9'],\n",
       " ['V5N 1S2', 'V5L 3K9', 'V5L 3X2', 'V5T 4C2', 'V5M 1B1'],\n",
       " ['V5N 1X6', 'V6E 1V1', 'V6E 4R5', 'V6E 4H6', 'V6E 1L6'],\n",
       " ['V5N 2T6', 'V5R 3Z5', 'V5R 5H3', 'V5R 5S1', 'V5T 3K5'],\n",
       " ['V5P 3T8', 'V5W 1J4', 'V5V 3C7', 'V5R 5H3', 'V5X 4K1'],\n",
       " ['V5P 4R6', 'V5W 1G5', 'V5V 3E2', 'V5W 1J4', 'V5X 4K1'],\n",
       " ['V5R 3Z5', 'V5R 5H3', 'V5R 5S1', 'V5T 3K5', 'V5T 4K8'],\n",
       " ['V5R 5G4', 'V6E 1V1', 'V6E 4R5', 'V6E 4H6', 'V6E 1L6'],\n",
       " ['V5R 5H3', 'V5R 5S1', 'V5T 3K5', 'V5T 4K8', 'V6A 1Z3'],\n",
       " ['V5R 5H6', 'V5R 5K6', 'V5R 5G4', 'V5P 3T8', 'V5R 5S1'],\n",
       " ['V5R 5K6', 'V5R 5S1', 'V5W 1G5', 'V5V 3E2', 'V5T 1X4'],\n",
       " ['V5R 5S1', 'V5T 3K5', 'V5T 4K8', 'V6A 1Z3', 'V6A 2V7'],\n",
       " ['V5T 1X4', 'V5T 3K5', 'V5T 4K8', 'V5V 3E2', 'V6H 1A4'],\n",
       " ['V5T 2C3', 'V5T 4K8', 'V5T 3K5', 'V5T 4C2', 'V6A 2V7'],\n",
       " ['V5T 3K5', 'V5T 4K8', 'V6A 2V7', 'V6H 1A4', 'V6A 1Z3'],\n",
       " ['V5T 4C2', 'V6E 1V1', 'V6E 4R5', 'V6E 4H6', 'V6E 1L6'],\n",
       " ['V5T 4K8', 'V6A 2V7', 'V6H 1A4', 'V6A 1Z3', 'V6E 1V1'],\n",
       " ['V5V 3C7', 'V6E 1V1', 'V6E 4R5', 'V6E 4H6', 'V6E 1L6'],\n",
       " ['V5V 3E2', 'V5W 1G5', 'V6H 1A4', 'V6A 1Z3', 'V6J 1C9'],\n",
       " ['V5W 1A6', 'V5T 4C2', 'V6E 1L6', 'V6E 1V1', 'V6E 4R5'],\n",
       " ['V5W 1G5', 'V6M 1P8', 'V6M 4J6', 'V6A 1Z3', 'V6H 1A4'],\n",
       " ['V5W 1J4', 'V6Z 3B7', 'V6E 1L6', 'V6E 1V1', 'V6E 4R5'],\n",
       " ['V5W 1P3', 'V6E 1V1', 'V6E 4R5', 'V6E 4H6', 'V6E 1L6'],\n",
       " ['V5W 2A2', 'V6E 1V1', 'V6E 4R5', 'V6E 4H6', 'V6E 1L6'],\n",
       " ['V5X 4K1', 'V6E 1V1', 'V6E 4R5', 'V6E 4H6', 'V6E 1L6'],\n",
       " ['V5Y', 'V6E 1V1', 'V6E 4R5', 'V6E 4H6', 'V6E 1L6'],\n",
       " ['V5Y 1K7', 'V5T 2C3', 'V6B 6B1', 'V6A 2V7', 'V6Z 3B7'],\n",
       " ['V5Y 3Z5', 'V6E 1V1', 'V6E 4R5', 'V6E 4H6', 'V6E 1L6'],\n",
       " ['V5Z 2G9', 'V6H 2R5', 'V5Y', 'V6M 2P7', 'V6H 1A4'],\n",
       " ['V6A 1B2', 'V6B 2K7', 'V6A 2V4', 'V6C 1T2', 'V5L 5C3'],\n",
       " ['V6A 1E1', 'V6E 1V1', 'V6E 4R5', 'V6E 4H6', 'V6E 1L6'],\n",
       " ['V6A 1Z3', 'V6A 2V7', 'V6E 1L6', 'V6E 1V1', 'V6H 1A4'],\n",
       " ['V6A 2V4', 'V6A 2V7', 'V6B 6B1', 'V6B 4M3', 'V6A 1E1'],\n",
       " ['V6A 2V7', 'V6E 1L6', 'V6E 1V1', 'V6H 1A4', 'V6G 1Y7'],\n",
       " ['V6B 0J9', 'V6A 2V4', 'V6B 4M3', 'V6B 2K7', 'V6B 6B1'],\n",
       " ['V6B 1A4', 'V6E 4R5', 'V6C 1T2', 'V6B 2K7', 'V6Z 1B1'],\n",
       " ['V6B 1B7', 'V5Y 3Z5', 'V6G 2E1', 'V6C 1T2', 'V6G 3A5'],\n",
       " ['V6B 2K7', 'V6E 1V1', 'V6E 4R5', 'V6E 4H6', 'V6E 1L6'],\n",
       " ['V6B 4M3', 'V6B 2K7', 'V6C 1T2', 'V6A 1E1', 'V6Z 3B7'],\n",
       " ['V6B 6B1', 'V6A 2V7', 'V6B 2K7', 'V6C 1T2', 'V6Z 3B7'],\n",
       " ['V6C', 'V6B 4M3', 'V6B 2K7', 'V6C 1T2', 'V6B 6B1'],\n",
       " ['V6C 0B9', 'V6E 4R5', 'V6B 1A4', 'V6G 2E1', 'V6Z 2X4'],\n",
       " ['V6C 1T2', 'V6E 1V1', 'V6E 4R5', 'V6E 4H6', 'V6E 1L6'],\n",
       " ['V6E 1B2', 'V6E 1L6', 'V6Z 3B7', 'V6E 1V1', 'V6G 1Y7'],\n",
       " ['V6E 1L6', 'V6E 1V1', 'V6G 1Y7', 'V6G 1W5', 'V6G 2E1'],\n",
       " ['V6E 1T7', 'V6E 1V1', 'V6G 1Y7', 'V6G 1W5', 'V6J 1C9'],\n",
       " ['V6E 1V1', 'V6G 1Y7', 'V6G 1W5', 'V6G 2E1', 'V6H 1A4'],\n",
       " ['V6E 4H6', 'V6E 1B2', 'V6E 1L6', 'V6B 6B1', 'V6G 3A5'],\n",
       " ['V6E 4R5', 'V6G 2E1', 'V6C 1T2', 'V6Z 1B1', 'V6G 2L9'],\n",
       " ['V6G 1W5', 'V6G 3A5', 'V6G 2E1', 'V6G 1Y7', 'V6E 4H6'],\n",
       " ['V6G 1Y7', 'V6G 2E1', 'V6H 1A4', 'V6T 1Z4', 'V7R 4K9'],\n",
       " ['V6G 2E1', 'V6H 1A4', 'V7R 4K9', 'V6T 1Z4', 'V6T 1Z2'],\n",
       " ['V6G 2L9', 'V6J 1C9', 'V6H 1A4', 'V6M 1P8', 'V6M 4J6'],\n",
       " ['V6G 3A5', 'V6E 1V1', 'V6E 4R5', 'V6E 4H6', 'V6E 1L6'],\n",
       " ['V6H 1A4', 'V6T 1Z4', 'V6T 1Z2', 'V7R 4K9', 'V6J 1C9'],\n",
       " ['V6H 2R5', 'V5Y 1K7', 'V5T 2C3', 'V6H 1A4', 'V5T 4K8'],\n",
       " ['V6H 3R9', 'V6H 1A4', 'V6H 2R5', 'V5Y 1K7', 'V6E 1V1'],\n",
       " ['V6H 4A7', 'V6H 1A4', 'V6J 1K3', 'V6Z 2X4', 'V6H 3R9'],\n",
       " ['V6J 1C9', 'V6M 1P8', 'V6M 4J6', 'V6T 1Z4', 'V6T 1Z2'],\n",
       " ['V6J 1K3', 'V6E 1V1', 'V6E 4R5', 'V6E 4H6', 'V6E 1L6'],\n",
       " ['V6M 1P8', 'V6M 4J6', 'V6T 1Z2', 'V6T 1Z4', 'V7M 2Y4'],\n",
       " ['V6M 2P7', 'V6E 1V1', 'V6E 4R5', 'V6E 4H6', 'V6E 1L6'],\n",
       " ['V6M 2Z4', 'V6M 1P8', 'V6M 4J6', 'V5Z 2G9', 'V6M 2P7'],\n",
       " ['V6M 4J6', 'V6T 1Z2', 'V6T 1Z4', 'V7M 2Y4', 'V7R 4T8'],\n",
       " ['V6P 4P2', 'V5V 3E2', 'V5W 1G5', 'V5W 1J4', 'V6M 2P7'],\n",
       " ['V6S 0A9', 'V6T 1Z4', 'V6H 2R5', 'V5Z 2G9', 'V6H 1A4'],\n",
       " ['V6T 1L4', 'V6T 1Z4', 'V6T 1Z2', 'V6J 1C9', 'V6B 1B7'],\n",
       " ['V6T 1Z2', 'V6T 1Z4', 'V7R 4K9', 'V7M 2Y4', 'V7R 4T8'],\n",
       " ['V6T 1Z4', 'V7R 4K9', 'V7M 2Y4', 'V7R 4T8', 'V6E 4R5'],\n",
       " ['V6Z 1B1', 'V6Z 2X4', 'V6J 1K3', 'V6H 1A4', 'V6J 1C9'],\n",
       " ['V6Z 2X4', 'V6E 1V1', 'V6E 4R5', 'V6E 4H6', 'V6E 1L6'],\n",
       " ['V6Z 3B7', 'V6E 1V1', 'V6E 4R5', 'V6E 4H6', 'V6E 1L6'],\n",
       " ['V7M 1J6', 'V5K 5C5', 'V5M 1B1', 'V7R 4T8', 'V7R 4K9'],\n",
       " ['V7M 2Y4', 'V7R 4K9', 'V7R 4T8', 'V6E 1V1', 'V6E 4R5'],\n",
       " ['V7M 3N2', 'V7R 4K9', 'V6E 4H6', 'V5M 1B1', 'V6G 1Y7'],\n",
       " ['V7R 4K9', 'V7R 4T8', 'V6E 1L6', 'V6E 1V1', 'V6E 4R5'],\n",
       " ['V7R 4T8', 'V6E 1V1', 'V6E 4R5', 'V6E 4H6', 'V6E 1L6']]"
      ]
     },
     "execution_count": 578,
     "metadata": {},
     "output_type": "execute_result"
    }
   ],
   "source": [
    "neighbor_list"
   ]
  },
  {
   "cell_type": "code",
   "execution_count": 573,
   "metadata": {},
   "outputs": [
    {
     "name": "stdout",
     "output_type": "stream",
     "text": [
      "V7R 4T8\n",
      "V6E 1V1\n",
      "V6E 4R5\n",
      "V6E 4H6\n",
      "V6E 1L6\n"
     ]
    }
   ],
   "source": [
    "for i in kdt.query(df, k=5, return_distance=False)[x]:\n",
    "    print(supply_pivot_df.columns[i])"
   ]
  },
  {
   "cell_type": "code",
   "execution_count": null,
   "metadata": {},
   "outputs": [],
   "source": []
  },
  {
   "cell_type": "code",
   "execution_count": 581,
   "metadata": {},
   "outputs": [
    {
     "name": "stdout",
     "output_type": "stream",
     "text": [
      "connection to DB file successful!.....\n",
      "data loaded successfully!....\n",
      "                        Lat_Lon\n",
      "0     [49.2784729, -122.909424]\n",
      "1       [49.2777863, -122.9121]\n",
      "2       [49.27774, -122.912086]\n",
      "3     [49.2774849, -122.912193]\n",
      "4     [49.2304573, -122.886292]\n",
      "5     [49.2304649, -122.886337]\n",
      "6       [49.23193, -122.887505]\n",
      "7     [49.2318573, -122.887505]\n",
      "8      [49.279808, -122.923683]\n",
      "9        [49.27993, -122.92382]\n",
      "10    [49.2300644, -122.886368]\n",
      "11      [49.23061, -122.890114]\n",
      "12    [49.2282677, -122.888954]\n",
      "13    [49.2294769, -122.890251]\n",
      "14      [49.22822, -122.891472]\n",
      "15     [49.230217, -122.894249]\n",
      "16    [49.2284431, -122.893921]\n",
      "17      [49.22935, -122.894722]\n",
      "18    [49.2284164, -122.894081]\n",
      "19      [49.22941, -122.894882]\n",
      "20      [49.23089, -122.896111]\n",
      "21      [49.23005, -122.896324]\n",
      "22      [49.22646, -122.894844]\n",
      "23    [49.2246437, -122.894051]\n",
      "24    [49.2310867, -122.900383]\n",
      "25      [49.22462, -122.897362]\n",
      "26     [49.231678, -122.902786]\n",
      "27     [49.222023, -122.895645]\n",
      "28        [49.22904, -122.9013]\n",
      "29      [49.22365, -122.897408]\n",
      "...                         ...\n",
      "1218  [49.2651863, -123.241554]\n",
      "1219  [49.2650948, -123.241486]\n",
      "1220   [49.265007, -123.241486]\n",
      "1221      [49.26516, -123.2417]\n",
      "1222  [49.2620354, -123.240227]\n",
      "1223  [49.2551537, -123.235069]\n",
      "1224  [49.2552071, -123.235161]\n",
      "1225  [49.2527046, -123.233269]\n",
      "1226  [49.2526779, -123.233315]\n",
      "1227    [49.25518, -123.235222]\n",
      "1228  [49.2551537, -123.235291]\n",
      "1229  [49.2511673, -123.233467]\n",
      "1230  [49.2512169, -123.233551]\n",
      "1231     [49.2705727, -123.249]\n",
      "1232  [49.2616653, -123.242928]\n",
      "1233  [49.2616959, -123.242989]\n",
      "1234  [49.2537766, -123.237206]\n",
      "1235    [49.25377, -123.237251]\n",
      "1236   [49.251442, -123.235832]\n",
      "1237  [49.2514725, -123.235878]\n",
      "1238  [49.2513466, -123.235954]\n",
      "1239  [49.2607346, -123.245956]\n",
      "1240  [49.2605934, -123.245857]\n",
      "1241   [49.2606163, -123.24588]\n",
      "1242  [49.2581329, -123.245018]\n",
      "1243  [49.2601471, -123.249519]\n",
      "1244      [49.25823, -123.2481]\n",
      "1245    [49.2583542, -123.2482]\n",
      "1246      [49.25873, -123.2509]\n",
      "1247    [49.26259, -123.256119]\n",
      "\n",
      "[1248 rows x 1 columns]\n"
     ]
    }
   ],
   "source": [
    "live_cars_result()"
   ]
  },
  {
   "cell_type": "code",
   "execution_count": null,
   "metadata": {},
   "outputs": [],
   "source": []
  },
  {
   "cell_type": "code",
   "execution_count": null,
   "metadata": {},
   "outputs": [],
   "source": []
  }
 ],
 "metadata": {
  "kernelspec": {
   "display_name": "Python 3",
   "language": "python",
   "name": "python3"
  },
  "language_info": {
   "codemirror_mode": {
    "name": "ipython",
    "version": 3
   },
   "file_extension": ".py",
   "mimetype": "text/x-python",
   "name": "python",
   "nbconvert_exporter": "python",
   "pygments_lexer": "ipython3",
   "version": "3.5.2"
  }
 },
 "nbformat": 4,
 "nbformat_minor": 2
}
