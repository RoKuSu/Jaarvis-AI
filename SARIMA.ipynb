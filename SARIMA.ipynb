{
 "cells": [
  {
   "cell_type": "code",
   "execution_count": 1,
   "metadata": {},
   "outputs": [],
   "source": [
    "#!/usr/bin/env python\n",
    "# coding: utf-8\n",
    "import numpy\n",
    "import sklearn\n",
    "import dateutil\n",
    "import sqlite3\n",
    "from sqlite3 import Error\n",
    "from sklearn import preprocessing\n",
    "import pandas as pd\n",
    "import pickle\n",
    "from sklearn.externals import joblib\n",
    "from sklearn.ensemble import RandomForestRegressor\n",
    "from sklearn.preprocessing import StandardScaler\n",
    "from sklearn.preprocessing import PolynomialFeatures\n",
    "from sklearn.linear_model import LinearRegression\n",
    "import platform\n",
    "import os\n",
    "from tpot import TPOTRegressor\n",
    "from sklearn.model_selection import train_test_split"
   ]
  },
  {
   "cell_type": "code",
   "execution_count": 2,
   "metadata": {},
   "outputs": [],
   "source": [
    "def create_connection(db_file):\n",
    "        \"\"\" create a database connection to the SQLite database\n",
    "            specified by the db_file\n",
    "        :param db_file: database file\n",
    "        :return: Connection object or None\n",
    "        \"\"\"\n",
    "        try:\n",
    "            conn = sqlite3.connect(db_file)\n",
    "            return conn\n",
    "        except Error as e:\n",
    "            print(e)\n",
    "        return None"
   ]
  },
  {
   "cell_type": "code",
   "execution_count": 3,
   "metadata": {},
   "outputs": [],
   "source": [
    "Sql_connection1 = create_connection('/opt/apps/scripts/jaarvis_demand_supply/evo.db')"
   ]
  },
  {
   "cell_type": "code",
   "execution_count": 4,
   "metadata": {},
   "outputs": [],
   "source": [
    "train_df = pd.read_sql_query(\"select * from zones order by id;\", Sql_connection1)"
   ]
  },
  {
   "cell_type": "code",
   "execution_count": 5,
   "metadata": {},
   "outputs": [],
   "source": [
    "train_df.booked_vehicles=train_df.booked_vehicles.fillna(0)\n",
    "train_df.free_vehicles=train_df.free_vehicles.fillna(0)\n",
    "train_df=train_df.dropna(how='any')"
   ]
  },
  {
   "cell_type": "code",
   "execution_count": 6,
   "metadata": {},
   "outputs": [],
   "source": [
    "train_df = train_df[~train_df.astype(str).eq('None').any(1)]"
   ]
  },
  {
   "cell_type": "code",
   "execution_count": 7,
   "metadata": {},
   "outputs": [],
   "source": [
    "train_df = train_df.mask(train_df.eq('None')).dropna()"
   ]
  },
  {
   "cell_type": "code",
   "execution_count": 8,
   "metadata": {},
   "outputs": [],
   "source": [
    "train_df=train_df[~train_df.zone.apply(lambda x: str(x).isdigit())]"
   ]
  },
  {
   "cell_type": "code",
   "execution_count": 9,
   "metadata": {},
   "outputs": [],
   "source": [
    "train_df.time = train_df.time.astype(str).str[:2].astype(int)"
   ]
  },
  {
   "cell_type": "code",
   "execution_count": 10,
   "metadata": {},
   "outputs": [],
   "source": [
    "train_df.time = train_df.time.replace(regex=True, to_replace=r'\\D', value=r'')"
   ]
  },
  {
   "cell_type": "code",
   "execution_count": 11,
   "metadata": {},
   "outputs": [],
   "source": [
    "train_df=train_df.sort_values(['zone','year','month','week','day','time'],ascending=True)"
   ]
  },
  {
   "cell_type": "code",
   "execution_count": 12,
   "metadata": {},
   "outputs": [],
   "source": [
    "train_df['date']=train_df[['year','month','day']].apply(lambda x: '-'.join(x.dropna().astype(str).values), axis=1)"
   ]
  },
  {
   "cell_type": "code",
   "execution_count": 13,
   "metadata": {},
   "outputs": [],
   "source": [
    "train_df = train_df.drop(['id','year','month','week','day'],axis=1)"
   ]
  },
  {
   "cell_type": "code",
   "execution_count": 14,
   "metadata": {},
   "outputs": [],
   "source": [
    "train_df['date']=train_df[['date','time']].apply(lambda x: ' '.join(x.dropna().astype(str).values), axis=1)"
   ]
  },
  {
   "cell_type": "code",
   "execution_count": 15,
   "metadata": {},
   "outputs": [],
   "source": [
    "train_df['date']=train_df[['date','time']].apply(lambda x: x.astype(str)+':00:00', axis=1)"
   ]
  },
  {
   "cell_type": "code",
   "execution_count": 16,
   "metadata": {},
   "outputs": [],
   "source": [
    "train_df=train_df.sort_values(['date','zone'])"
   ]
  },
  {
   "cell_type": "code",
   "execution_count": 36,
   "metadata": {},
   "outputs": [],
   "source": [
    "# pivot_table(df, values='D', index=['A', 'B'],columns=['C'], aggfunc=np.sum)\n",
    "train_booked_df=pd.pivot_table(train_df,values=['booked_vehicles'],index=['date'],columns=['zone'])\n",
    "train_free_df=pd.pivot_table(train_df,values=['free_vehicles'],index=['date'],columns=['zone'])"
   ]
  },
  {
   "cell_type": "code",
   "execution_count": 37,
   "metadata": {},
   "outputs": [],
   "source": [
    "train_booked_df = train_booked_df.fillna(0)\n",
    "train_free_df = train_free_df.fillna(0)"
   ]
  },
  {
   "cell_type": "code",
   "execution_count": 38,
   "metadata": {
    "scrolled": true
   },
   "outputs": [],
   "source": [
    "train_booked_df=train_booked_df.booked_vehicles\n",
    "train_free_df=train_free_df.free_vehicles"
   ]
  },
  {
   "cell_type": "code",
   "execution_count": 39,
   "metadata": {},
   "outputs": [],
   "source": [
    "booked_df = train_booked_df.reindex(pd.date_range(start='2018-11-16 14:00:00', end=train_booked_df.index[-1], freq='H'))\n",
    "free_df = train_free_df.reindex(pd.date_range(start='2018-11-16 14:00:00', end=train_free_df.index[-1], freq='H'))"
   ]
  },
  {
   "cell_type": "code",
   "execution_count": 40,
   "metadata": {},
   "outputs": [],
   "source": [
    "booked_df = booked_df[~booked_df.index.isin(train_booked_df.index)]\n",
    "free_df = free_df[~free_df.index.isin(train_free_df.index)]"
   ]
  },
  {
   "cell_type": "code",
   "execution_count": 41,
   "metadata": {},
   "outputs": [],
   "source": [
    "train_booked_df=pd.concat([train_booked_df,booked_df])\n",
    "train_free_df = pd.concat([train_free_df,free_df])"
   ]
  },
  {
   "cell_type": "code",
   "execution_count": 42,
   "metadata": {},
   "outputs": [],
   "source": [
    "import datetime\n",
    "train_booked_df=train_booked_df.iloc[pd.to_datetime(train_booked_df.index).values.argsort()]\n",
    "train_free_df=train_free_df.iloc[pd.to_datetime(train_free_df.index).values.argsort()]\n",
    "# train_booked_df.index = pd.to_datetime(train_booked_df.index)\n",
    "# train_free_df.index = pd.to_datetime(train_free_df.index)\n",
    "train_booked_df = train_booked_df.fillna(0)\n",
    "train_free_df = train_free_df.fillna(0)\n",
    "# train_booked_df.sort_index()\n",
    "# train_free_df.sort_index()"
   ]
  },
  {
   "cell_type": "code",
   "execution_count": 43,
   "metadata": {},
   "outputs": [],
   "source": [
    "train_booked_df.index = pd.to_datetime(train_booked_df.index) - pd.Timedelta(hours=5)\n",
    "train_free_df.index = pd.to_datetime(train_free_df.index) - pd.Timedelta(hours=5)"
   ]
  },
  {
   "cell_type": "code",
   "execution_count": 44,
   "metadata": {},
   "outputs": [],
   "source": [
    "import statsmodels.api\n",
    "# from pyramid.arima import auto_arima\n",
    "# model = auto_arima(train_booked_df['V5M'][48+168*0:48+168*1], trace=True, error_action='ignore', suppress_warnings=True)\n",
    "# model.fit(train_booked_df['V5M'][48+168*0:48+168*1])\n",
    "# forecast = model.predict(n_periods=24)\n",
    "# forecast"
   ]
  },
  {
   "cell_type": "code",
   "execution_count": 45,
   "metadata": {},
   "outputs": [
    {
     "name": "stderr",
     "output_type": "stream",
     "text": [
      "/usr/local/lib/python3.5/dist-packages/statsmodels/tsa/base/tsa_model.py:171: ValueWarning: No frequency information was provided, so inferred frequency H will be used.\n",
      "  % freq, ValueWarning)\n"
     ]
    }
   ],
   "source": [
    "model2=statsmodels.api.tsa.SARIMAX(train_booked_df.V5R[-171:-171+168],order=(1,0,1),seasonal_order=(1,1,0,24))\n",
    "model2 = model2.fit()"
   ]
  },
  {
   "cell_type": "code",
   "execution_count": 46,
   "metadata": {},
   "outputs": [],
   "source": [
    "# import matplotlib.pyplot as plt\n",
    "# %matplotlib inline \n",
    "# import statsmodels\n",
    "# plt.rcParams['figure.figsize'] = [20,10]\n",
    "# plt.tight_layout()\n",
    "# fig,ax = plt.subplots()\n",
    "# fig1 = ax.plot(train_booked_df.V5R[-171:-171+168].values, label='actual' )\n",
    "# fig2 = ax.plot(numpy.ceil(numpy.array(model2.forecast(24))), label= 'predicted' )\n",
    "# ax.legend(fancybox=True, loc='upper right', shadow=True)\n",
    "# ax.set_xlabel('hours in a week')\n",
    "# ax.set_ylabel('no. of vehicles')\n",
    "# ax.set_title('V7P 6h/Jan/2019 - 13th/Jan/2019')\n",
    "# plt.show()"
   ]
  },
  {
   "cell_type": "code",
   "execution_count": 47,
   "metadata": {},
   "outputs": [],
   "source": [
    "import matplotlib.pyplot as plt\n",
    "# %matplotlib inline \n",
    "# import statsmodels\n",
    "# plt.rcParams['figure.figsize'] = [10,5]\n",
    "# plt.tight_layout()\n",
    "# fig,ax = plt.subplots()\n",
    "# fig1 = ax.plot(train_booked_df.V5R[-171-].values, label='actual' )\n",
    "# fig2 = ax.plot(numpy.ceil(numpy.array(model2.forecast(24))), label= 'predicted' )\n",
    "# ax.legend(fancybox=True, loc='upper right', shadow=True)\n",
    "# ax.set_xlabel('hours in a week')\n",
    "# ax.set_ylabel('no. of vehicles')\n",
    "# ax.set_title('V7P 6h/Jan/2019 - 13th/Jan/2019')\n",
    "# plt.show()# "
   ]
  },
  {
   "cell_type": "code",
   "execution_count": 51,
   "metadata": {},
   "outputs": [],
   "source": [
    "def booking_model_saving(path1,path2):\n",
    "    os.chdir(path1)\n",
    "    for x in train_booked_df.keys():\n",
    "        try:\n",
    "            \n",
    "            model = statsmodels.api.tsa.SARIMAX(train_booked_df[x][-171:-171+168],order=(1,0,1),seasonal_order=(1,1,0,24),enforce_stationarity=False)\n",
    "            model = model.fit()\n",
    "            model = model.save(str(x)+'.pkl')\n",
    "        except:\n",
    "            print( x, 'model not created')\n",
    "    print('demand_models_created')\n",
    "    \n",
    "    os.chdir(path2)\n",
    "    for y in train_free_df.keys():\n",
    "        try:\n",
    "            \n",
    "            model = statsmodels.api.tsa.SARIMAX(train_free_df[y][-171:-171+168],order=(1,0,1),seasonal_order=(1,1,0,24),enforce_stationarity=False)\n",
    "            model = model.fit()\n",
    "            model = model.save(str(y)+'.pkl')\n",
    "        except:\n",
    "            print( y, 'model not created')\n",
    "    print('available_models_created')"
   ]
  },
  {
   "cell_type": "code",
   "execution_count": 52,
   "metadata": {},
   "outputs": [
    {
     "name": "stderr",
     "output_type": "stream",
     "text": [
      "/usr/local/lib/python3.5/dist-packages/statsmodels/tsa/base/tsa_model.py:171: ValueWarning: No frequency information was provided, so inferred frequency H will be used.\n",
      "  % freq, ValueWarning)\n",
      "/usr/local/lib/python3.5/dist-packages/statsmodels/tsa/base/tsa_model.py:171: ValueWarning: No frequency information was provided, so inferred frequency H will be used.\n",
      "  % freq, ValueWarning)\n",
      "/usr/local/lib/python3.5/dist-packages/statsmodels/tsa/base/tsa_model.py:171: ValueWarning: No frequency information was provided, so inferred frequency H will be used.\n",
      "  % freq, ValueWarning)\n",
      "/usr/local/lib/python3.5/dist-packages/statsmodels/tsa/base/tsa_model.py:171: ValueWarning: No frequency information was provided, so inferred frequency H will be used.\n",
      "  % freq, ValueWarning)\n",
      "/usr/local/lib/python3.5/dist-packages/statsmodels/tsa/base/tsa_model.py:171: ValueWarning: No frequency information was provided, so inferred frequency H will be used.\n",
      "  % freq, ValueWarning)\n",
      "/usr/local/lib/python3.5/dist-packages/statsmodels/tsa/base/tsa_model.py:171: ValueWarning: No frequency information was provided, so inferred frequency H will be used.\n",
      "  % freq, ValueWarning)\n",
      "/usr/local/lib/python3.5/dist-packages/statsmodels/tsa/base/tsa_model.py:171: ValueWarning: No frequency information was provided, so inferred frequency H will be used.\n",
      "  % freq, ValueWarning)\n",
      "/usr/local/lib/python3.5/dist-packages/statsmodels/tsa/base/tsa_model.py:171: ValueWarning: No frequency information was provided, so inferred frequency H will be used.\n",
      "  % freq, ValueWarning)\n"
     ]
    },
    {
     "name": "stdout",
     "output_type": "stream",
     "text": [
      "V3K 7B3 model not created\n",
      "V3L 0A4 model not created\n"
     ]
    },
    {
     "name": "stderr",
     "output_type": "stream",
     "text": [
      "/usr/local/lib/python3.5/dist-packages/statsmodels/tsa/base/tsa_model.py:171: ValueWarning: No frequency information was provided, so inferred frequency H will be used.\n",
      "  % freq, ValueWarning)\n",
      "/usr/local/lib/python3.5/dist-packages/statsmodels/tsa/base/tsa_model.py:171: ValueWarning: No frequency information was provided, so inferred frequency H will be used.\n",
      "  % freq, ValueWarning)\n",
      "/usr/local/lib/python3.5/dist-packages/statsmodels/tsa/base/tsa_model.py:171: ValueWarning: No frequency information was provided, so inferred frequency H will be used.\n",
      "  % freq, ValueWarning)\n",
      "/usr/local/lib/python3.5/dist-packages/statsmodels/tsa/base/tsa_model.py:171: ValueWarning: No frequency information was provided, so inferred frequency H will be used.\n",
      "  % freq, ValueWarning)\n",
      "/usr/local/lib/python3.5/dist-packages/statsmodels/tsa/base/tsa_model.py:171: ValueWarning: No frequency information was provided, so inferred frequency H will be used.\n",
      "  % freq, ValueWarning)\n",
      "/usr/local/lib/python3.5/dist-packages/statsmodels/tsa/base/tsa_model.py:171: ValueWarning: No frequency information was provided, so inferred frequency H will be used.\n",
      "  % freq, ValueWarning)\n",
      "/usr/local/lib/python3.5/dist-packages/statsmodels/tsa/base/tsa_model.py:171: ValueWarning: No frequency information was provided, so inferred frequency H will be used.\n",
      "  % freq, ValueWarning)\n",
      "/usr/local/lib/python3.5/dist-packages/statsmodels/tsa/base/tsa_model.py:171: ValueWarning: No frequency information was provided, so inferred frequency H will be used.\n",
      "  % freq, ValueWarning)\n",
      "/usr/local/lib/python3.5/dist-packages/statsmodels/tsa/base/tsa_model.py:171: ValueWarning: No frequency information was provided, so inferred frequency H will be used.\n",
      "  % freq, ValueWarning)\n",
      "/usr/local/lib/python3.5/dist-packages/statsmodels/tsa/base/tsa_model.py:171: ValueWarning: No frequency information was provided, so inferred frequency H will be used.\n",
      "  % freq, ValueWarning)\n",
      "/usr/local/lib/python3.5/dist-packages/statsmodels/tsa/base/tsa_model.py:171: ValueWarning: No frequency information was provided, so inferred frequency H will be used.\n",
      "  % freq, ValueWarning)\n"
     ]
    },
    {
     "name": "stdout",
     "output_type": "stream",
     "text": [
      "V3L 1G6 model not created\n",
      "V3L 1J6 model not created\n",
      "V3L 1J7 model not created\n"
     ]
    },
    {
     "name": "stderr",
     "output_type": "stream",
     "text": [
      "/usr/local/lib/python3.5/dist-packages/statsmodels/tsa/base/tsa_model.py:171: ValueWarning: No frequency information was provided, so inferred frequency H will be used.\n",
      "  % freq, ValueWarning)\n",
      "/usr/local/lib/python3.5/dist-packages/statsmodels/tsa/base/tsa_model.py:171: ValueWarning: No frequency information was provided, so inferred frequency H will be used.\n",
      "  % freq, ValueWarning)\n",
      "/usr/local/lib/python3.5/dist-packages/statsmodels/tsa/base/tsa_model.py:171: ValueWarning: No frequency information was provided, so inferred frequency H will be used.\n",
      "  % freq, ValueWarning)\n",
      "/usr/local/lib/python3.5/dist-packages/statsmodels/tsa/base/tsa_model.py:171: ValueWarning: No frequency information was provided, so inferred frequency H will be used.\n",
      "  % freq, ValueWarning)\n",
      "/usr/local/lib/python3.5/dist-packages/statsmodels/tsa/base/tsa_model.py:171: ValueWarning: No frequency information was provided, so inferred frequency H will be used.\n",
      "  % freq, ValueWarning)\n",
      "/usr/local/lib/python3.5/dist-packages/statsmodels/tsa/base/tsa_model.py:171: ValueWarning: No frequency information was provided, so inferred frequency H will be used.\n",
      "  % freq, ValueWarning)\n",
      "/usr/local/lib/python3.5/dist-packages/statsmodels/tsa/base/tsa_model.py:171: ValueWarning: No frequency information was provided, so inferred frequency H will be used.\n",
      "  % freq, ValueWarning)\n",
      "/usr/local/lib/python3.5/dist-packages/statsmodels/tsa/base/tsa_model.py:171: ValueWarning: No frequency information was provided, so inferred frequency H will be used.\n",
      "  % freq, ValueWarning)\n",
      "/usr/local/lib/python3.5/dist-packages/statsmodels/tsa/base/tsa_model.py:171: ValueWarning: No frequency information was provided, so inferred frequency H will be used.\n",
      "  % freq, ValueWarning)\n",
      "/usr/local/lib/python3.5/dist-packages/statsmodels/tsa/base/tsa_model.py:171: ValueWarning: No frequency information was provided, so inferred frequency H will be used.\n",
      "  % freq, ValueWarning)\n",
      "/usr/local/lib/python3.5/dist-packages/statsmodels/tsa/base/tsa_model.py:171: ValueWarning: No frequency information was provided, so inferred frequency H will be used.\n",
      "  % freq, ValueWarning)\n"
     ]
    },
    {
     "name": "stdout",
     "output_type": "stream",
     "text": [
      "V3L 1L8 model not created\n",
      "V3L 1M2 model not created\n",
      "V3L 1M6 model not created\n",
      "V3L 1N4 model not created\n",
      "V3L 1T1 model not created\n",
      "V3L 1V5 model not created\n",
      "V3L 1W1 model not created\n",
      "V3L 2B2 model not created\n",
      "V3L 2C4 model not created\n",
      "V3L 2E2 model not created\n"
     ]
    },
    {
     "name": "stderr",
     "output_type": "stream",
     "text": [
      "/usr/local/lib/python3.5/dist-packages/statsmodels/tsa/base/tsa_model.py:171: ValueWarning: No frequency information was provided, so inferred frequency H will be used.\n",
      "  % freq, ValueWarning)\n",
      "/usr/local/lib/python3.5/dist-packages/statsmodels/tsa/base/tsa_model.py:171: ValueWarning: No frequency information was provided, so inferred frequency H will be used.\n",
      "  % freq, ValueWarning)\n",
      "/usr/local/lib/python3.5/dist-packages/statsmodels/tsa/base/tsa_model.py:171: ValueWarning: No frequency information was provided, so inferred frequency H will be used.\n",
      "  % freq, ValueWarning)\n",
      "/usr/local/lib/python3.5/dist-packages/statsmodels/tsa/base/tsa_model.py:171: ValueWarning: No frequency information was provided, so inferred frequency H will be used.\n",
      "  % freq, ValueWarning)\n",
      "/usr/local/lib/python3.5/dist-packages/statsmodels/tsa/base/tsa_model.py:171: ValueWarning: No frequency information was provided, so inferred frequency H will be used.\n",
      "  % freq, ValueWarning)\n"
     ]
    },
    {
     "name": "stdout",
     "output_type": "stream",
     "text": [
      "V3L 2G2 model not created\n",
      "V3L 2G6 model not created\n",
      "V3L 2G7 model not created\n",
      "V3L 2H6 model not created\n"
     ]
    },
    {
     "name": "stderr",
     "output_type": "stream",
     "text": [
      "/usr/local/lib/python3.5/dist-packages/statsmodels/tsa/base/tsa_model.py:171: ValueWarning: No frequency information was provided, so inferred frequency H will be used.\n",
      "  % freq, ValueWarning)\n",
      "/usr/local/lib/python3.5/dist-packages/statsmodels/tsa/base/tsa_model.py:171: ValueWarning: No frequency information was provided, so inferred frequency H will be used.\n",
      "  % freq, ValueWarning)\n",
      "/usr/local/lib/python3.5/dist-packages/statsmodels/tsa/base/tsa_model.py:171: ValueWarning: No frequency information was provided, so inferred frequency H will be used.\n",
      "  % freq, ValueWarning)\n",
      "/usr/local/lib/python3.5/dist-packages/statsmodels/tsa/base/tsa_model.py:171: ValueWarning: No frequency information was provided, so inferred frequency H will be used.\n",
      "  % freq, ValueWarning)\n",
      "/usr/local/lib/python3.5/dist-packages/statsmodels/tsa/base/tsa_model.py:171: ValueWarning: No frequency information was provided, so inferred frequency H will be used.\n",
      "  % freq, ValueWarning)\n",
      "/usr/local/lib/python3.5/dist-packages/statsmodels/tsa/base/tsa_model.py:171: ValueWarning: No frequency information was provided, so inferred frequency H will be used.\n",
      "  % freq, ValueWarning)\n",
      "/usr/local/lib/python3.5/dist-packages/statsmodels/tsa/base/tsa_model.py:171: ValueWarning: No frequency information was provided, so inferred frequency H will be used.\n",
      "  % freq, ValueWarning)\n",
      "/usr/local/lib/python3.5/dist-packages/statsmodels/tsa/base/tsa_model.py:171: ValueWarning: No frequency information was provided, so inferred frequency H will be used.\n",
      "  % freq, ValueWarning)\n"
     ]
    },
    {
     "name": "stdout",
     "output_type": "stream",
     "text": [
      "V3L 2K5 model not created\n",
      "V3L 2M2 model not created\n",
      "V3L 2N9 model not created\n",
      "V3L 2P2 model not created\n",
      "V3L 2P7 model not created\n",
      "V3L 2R1 model not created\n",
      "V3L 2T3 model not created\n"
     ]
    },
    {
     "name": "stderr",
     "output_type": "stream",
     "text": [
      "/usr/local/lib/python3.5/dist-packages/statsmodels/tsa/base/tsa_model.py:171: ValueWarning: No frequency information was provided, so inferred frequency H will be used.\n",
      "  % freq, ValueWarning)\n",
      "/usr/local/lib/python3.5/dist-packages/statsmodels/tsa/base/tsa_model.py:171: ValueWarning: No frequency information was provided, so inferred frequency H will be used.\n",
      "  % freq, ValueWarning)\n"
     ]
    },
    {
     "name": "stdout",
     "output_type": "stream",
     "text": [
      "V3L 2X2 model not created\n"
     ]
    },
    {
     "name": "stderr",
     "output_type": "stream",
     "text": [
      "/usr/local/lib/python3.5/dist-packages/statsmodels/tsa/base/tsa_model.py:171: ValueWarning: No frequency information was provided, so inferred frequency H will be used.\n",
      "  % freq, ValueWarning)\n",
      "/usr/local/lib/python3.5/dist-packages/statsmodels/tsa/base/tsa_model.py:171: ValueWarning: No frequency information was provided, so inferred frequency H will be used.\n",
      "  % freq, ValueWarning)\n",
      "/usr/local/lib/python3.5/dist-packages/statsmodels/tsa/base/tsa_model.py:171: ValueWarning: No frequency information was provided, so inferred frequency H will be used.\n",
      "  % freq, ValueWarning)\n",
      "/usr/local/lib/python3.5/dist-packages/statsmodels/tsa/base/tsa_model.py:171: ValueWarning: No frequency information was provided, so inferred frequency H will be used.\n",
      "  % freq, ValueWarning)\n",
      "/usr/local/lib/python3.5/dist-packages/statsmodels/tsa/base/tsa_model.py:171: ValueWarning: No frequency information was provided, so inferred frequency H will be used.\n",
      "  % freq, ValueWarning)\n",
      "/usr/local/lib/python3.5/dist-packages/statsmodels/tsa/base/tsa_model.py:171: ValueWarning: No frequency information was provided, so inferred frequency H will be used.\n",
      "  % freq, ValueWarning)\n",
      "/usr/local/lib/python3.5/dist-packages/statsmodels/tsa/base/tsa_model.py:171: ValueWarning: No frequency information was provided, so inferred frequency H will be used.\n",
      "  % freq, ValueWarning)\n",
      "/usr/local/lib/python3.5/dist-packages/statsmodels/tsa/base/tsa_model.py:171: ValueWarning: No frequency information was provided, so inferred frequency H will be used.\n",
      "  % freq, ValueWarning)\n",
      "/usr/local/lib/python3.5/dist-packages/statsmodels/tsa/base/tsa_model.py:171: ValueWarning: No frequency information was provided, so inferred frequency H will be used.\n",
      "  % freq, ValueWarning)\n",
      "/usr/local/lib/python3.5/dist-packages/statsmodels/tsa/base/tsa_model.py:171: ValueWarning: No frequency information was provided, so inferred frequency H will be used.\n",
      "  % freq, ValueWarning)\n",
      "/usr/local/lib/python3.5/dist-packages/statsmodels/tsa/base/tsa_model.py:171: ValueWarning: No frequency information was provided, so inferred frequency H will be used.\n",
      "  % freq, ValueWarning)\n",
      "/usr/local/lib/python3.5/dist-packages/statsmodels/tsa/base/tsa_model.py:171: ValueWarning: No frequency information was provided, so inferred frequency H will be used.\n",
      "  % freq, ValueWarning)\n",
      "/usr/local/lib/python3.5/dist-packages/statsmodels/tsa/base/tsa_model.py:171: ValueWarning: No frequency information was provided, so inferred frequency H will be used.\n",
      "  % freq, ValueWarning)\n",
      "/usr/local/lib/python3.5/dist-packages/statsmodels/tsa/base/tsa_model.py:171: ValueWarning: No frequency information was provided, so inferred frequency H will be used.\n",
      "  % freq, ValueWarning)\n"
     ]
    },
    {
     "name": "stdout",
     "output_type": "stream",
     "text": [
      "V3L 3C5 model not created\n",
      "V3L 3C7 model not created\n",
      "V3L 3C8 model not created\n",
      "V3L 3G8 model not created\n",
      "V3L 3H3 model not created\n",
      "V3L 3H4 model not created\n",
      "V3L 3H7 model not created\n",
      "V3L 3J1 model not created\n",
      "V3L 3L3 model not created\n",
      "V3L 3M6 model not created\n",
      "V3L 3N1 model not created\n"
     ]
    },
    {
     "name": "stderr",
     "output_type": "stream",
     "text": [
      "/usr/local/lib/python3.5/dist-packages/statsmodels/tsa/base/tsa_model.py:171: ValueWarning: No frequency information was provided, so inferred frequency H will be used.\n",
      "  % freq, ValueWarning)\n",
      "/usr/local/lib/python3.5/dist-packages/statsmodels/tsa/base/tsa_model.py:171: ValueWarning: No frequency information was provided, so inferred frequency H will be used.\n",
      "  % freq, ValueWarning)\n",
      "/usr/local/lib/python3.5/dist-packages/statsmodels/tsa/base/tsa_model.py:171: ValueWarning: No frequency information was provided, so inferred frequency H will be used.\n",
      "  % freq, ValueWarning)\n",
      "/usr/local/lib/python3.5/dist-packages/statsmodels/tsa/base/tsa_model.py:171: ValueWarning: No frequency information was provided, so inferred frequency H will be used.\n",
      "  % freq, ValueWarning)\n"
     ]
    },
    {
     "name": "stdout",
     "output_type": "stream",
     "text": [
      "V3L 3T7 model not created\n",
      "V3L 3T8 model not created\n",
      "V3L 3V9 model not created\n"
     ]
    },
    {
     "name": "stderr",
     "output_type": "stream",
     "text": [
      "/usr/local/lib/python3.5/dist-packages/statsmodels/tsa/base/tsa_model.py:171: ValueWarning: No frequency information was provided, so inferred frequency H will be used.\n",
      "  % freq, ValueWarning)\n",
      "/usr/local/lib/python3.5/dist-packages/statsmodels/tsa/base/tsa_model.py:171: ValueWarning: No frequency information was provided, so inferred frequency H will be used.\n",
      "  % freq, ValueWarning)\n",
      "/usr/local/lib/python3.5/dist-packages/statsmodels/tsa/base/tsa_model.py:171: ValueWarning: No frequency information was provided, so inferred frequency H will be used.\n",
      "  % freq, ValueWarning)\n",
      "/usr/local/lib/python3.5/dist-packages/statsmodels/tsa/base/tsa_model.py:171: ValueWarning: No frequency information was provided, so inferred frequency H will be used.\n",
      "  % freq, ValueWarning)\n",
      "/usr/local/lib/python3.5/dist-packages/statsmodels/tsa/base/tsa_model.py:171: ValueWarning: No frequency information was provided, so inferred frequency H will be used.\n",
      "  % freq, ValueWarning)\n",
      "/usr/local/lib/python3.5/dist-packages/statsmodels/tsa/base/tsa_model.py:171: ValueWarning: No frequency information was provided, so inferred frequency H will be used.\n",
      "  % freq, ValueWarning)\n",
      "/usr/local/lib/python3.5/dist-packages/statsmodels/tsa/base/tsa_model.py:171: ValueWarning: No frequency information was provided, so inferred frequency H will be used.\n",
      "  % freq, ValueWarning)\n"
     ]
    },
    {
     "name": "stdout",
     "output_type": "stream",
     "text": [
      "V3L 3Z5 model not created\n",
      "V3L 3Z7 model not created\n",
      "V3L 4B3 model not created\n",
      "V3L 4B7 model not created\n",
      "V3L 4B9 model not created\n"
     ]
    },
    {
     "name": "stderr",
     "output_type": "stream",
     "text": [
      "/usr/local/lib/python3.5/dist-packages/statsmodels/tsa/base/tsa_model.py:171: ValueWarning: No frequency information was provided, so inferred frequency H will be used.\n",
      "  % freq, ValueWarning)\n",
      "/usr/local/lib/python3.5/dist-packages/statsmodels/tsa/base/tsa_model.py:171: ValueWarning: No frequency information was provided, so inferred frequency H will be used.\n",
      "  % freq, ValueWarning)\n",
      "/usr/local/lib/python3.5/dist-packages/statsmodels/tsa/base/tsa_model.py:171: ValueWarning: No frequency information was provided, so inferred frequency H will be used.\n",
      "  % freq, ValueWarning)\n",
      "/usr/local/lib/python3.5/dist-packages/statsmodels/tsa/base/tsa_model.py:171: ValueWarning: No frequency information was provided, so inferred frequency H will be used.\n",
      "  % freq, ValueWarning)\n",
      "/usr/local/lib/python3.5/dist-packages/statsmodels/tsa/base/tsa_model.py:171: ValueWarning: No frequency information was provided, so inferred frequency H will be used.\n",
      "  % freq, ValueWarning)\n",
      "/usr/local/lib/python3.5/dist-packages/statsmodels/tsa/base/tsa_model.py:171: ValueWarning: No frequency information was provided, so inferred frequency H will be used.\n",
      "  % freq, ValueWarning)\n",
      "/usr/local/lib/python3.5/dist-packages/statsmodels/tsa/base/tsa_model.py:171: ValueWarning: No frequency information was provided, so inferred frequency H will be used.\n",
      "  % freq, ValueWarning)\n",
      "/usr/local/lib/python3.5/dist-packages/statsmodels/tsa/base/tsa_model.py:171: ValueWarning: No frequency information was provided, so inferred frequency H will be used.\n",
      "  % freq, ValueWarning)\n",
      "/usr/local/lib/python3.5/dist-packages/statsmodels/tsa/base/tsa_model.py:171: ValueWarning: No frequency information was provided, so inferred frequency H will be used.\n",
      "  % freq, ValueWarning)\n"
     ]
    },
    {
     "name": "stdout",
     "output_type": "stream",
     "text": [
      "V3L 4G6 model not created\n",
      "V3L 4H5 model not created\n",
      "V3L 4K2 model not created\n",
      "V3L 4K6 model not created\n",
      "V3L 4K8 model not created\n",
      "V3L 4M8 model not created\n",
      "V3L 4P8 model not created\n",
      "V3L 4R5 model not created\n"
     ]
    },
    {
     "name": "stderr",
     "output_type": "stream",
     "text": [
      "/usr/local/lib/python3.5/dist-packages/statsmodels/tsa/base/tsa_model.py:171: ValueWarning: No frequency information was provided, so inferred frequency H will be used.\n",
      "  % freq, ValueWarning)\n",
      "/usr/local/lib/python3.5/dist-packages/statsmodels/tsa/base/tsa_model.py:171: ValueWarning: No frequency information was provided, so inferred frequency H will be used.\n",
      "  % freq, ValueWarning)\n",
      "/usr/local/lib/python3.5/dist-packages/statsmodels/tsa/base/tsa_model.py:171: ValueWarning: No frequency information was provided, so inferred frequency H will be used.\n",
      "  % freq, ValueWarning)\n",
      "/usr/local/lib/python3.5/dist-packages/statsmodels/tsa/base/tsa_model.py:171: ValueWarning: No frequency information was provided, so inferred frequency H will be used.\n",
      "  % freq, ValueWarning)\n",
      "/usr/local/lib/python3.5/dist-packages/statsmodels/tsa/base/tsa_model.py:171: ValueWarning: No frequency information was provided, so inferred frequency H will be used.\n",
      "  % freq, ValueWarning)\n",
      "/usr/local/lib/python3.5/dist-packages/statsmodels/tsa/base/tsa_model.py:171: ValueWarning: No frequency information was provided, so inferred frequency H will be used.\n",
      "  % freq, ValueWarning)\n"
     ]
    },
    {
     "name": "stdout",
     "output_type": "stream",
     "text": [
      "V3L 5B7 model not created\n",
      "V3L 5E8 model not created\n",
      "V3L 5H4 model not created\n",
      "V3L 5M1 model not created\n",
      "V3L 5M4 model not created\n"
     ]
    },
    {
     "name": "stderr",
     "output_type": "stream",
     "text": [
      "/usr/local/lib/python3.5/dist-packages/statsmodels/tsa/base/tsa_model.py:171: ValueWarning: No frequency information was provided, so inferred frequency H will be used.\n",
      "  % freq, ValueWarning)\n",
      "/usr/local/lib/python3.5/dist-packages/statsmodels/tsa/base/tsa_model.py:171: ValueWarning: No frequency information was provided, so inferred frequency H will be used.\n",
      "  % freq, ValueWarning)\n",
      "/usr/local/lib/python3.5/dist-packages/statsmodels/tsa/base/tsa_model.py:171: ValueWarning: No frequency information was provided, so inferred frequency H will be used.\n",
      "  % freq, ValueWarning)\n"
     ]
    },
    {
     "name": "stdout",
     "output_type": "stream",
     "text": [
      "V3L 5R2 model not created\n",
      "V3L 5R6 model not created\n"
     ]
    },
    {
     "name": "stderr",
     "output_type": "stream",
     "text": [
      "/usr/local/lib/python3.5/dist-packages/statsmodels/tsa/base/tsa_model.py:171: ValueWarning: No frequency information was provided, so inferred frequency H will be used.\n",
      "  % freq, ValueWarning)\n",
      "/usr/local/lib/python3.5/dist-packages/statsmodels/tsa/base/tsa_model.py:171: ValueWarning: No frequency information was provided, so inferred frequency H will be used.\n",
      "  % freq, ValueWarning)\n",
      "/usr/local/lib/python3.5/dist-packages/statsmodels/tsa/base/tsa_model.py:171: ValueWarning: No frequency information was provided, so inferred frequency H will be used.\n",
      "  % freq, ValueWarning)\n",
      "/usr/local/lib/python3.5/dist-packages/statsmodels/tsa/base/tsa_model.py:171: ValueWarning: No frequency information was provided, so inferred frequency H will be used.\n",
      "  % freq, ValueWarning)\n",
      "/usr/local/lib/python3.5/dist-packages/statsmodels/tsa/base/tsa_model.py:171: ValueWarning: No frequency information was provided, so inferred frequency H will be used.\n",
      "  % freq, ValueWarning)\n",
      "/usr/local/lib/python3.5/dist-packages/statsmodels/tsa/base/tsa_model.py:171: ValueWarning: No frequency information was provided, so inferred frequency H will be used.\n",
      "  % freq, ValueWarning)\n",
      "/usr/local/lib/python3.5/dist-packages/statsmodels/tsa/base/tsa_model.py:171: ValueWarning: No frequency information was provided, so inferred frequency H will be used.\n",
      "  % freq, ValueWarning)\n",
      "/usr/local/lib/python3.5/dist-packages/statsmodels/tsa/base/tsa_model.py:171: ValueWarning: No frequency information was provided, so inferred frequency H will be used.\n",
      "  % freq, ValueWarning)\n",
      "/usr/local/lib/python3.5/dist-packages/statsmodels/tsa/base/tsa_model.py:171: ValueWarning: No frequency information was provided, so inferred frequency H will be used.\n",
      "  % freq, ValueWarning)\n"
     ]
    },
    {
     "name": "stdout",
     "output_type": "stream",
     "text": [
      "V3M 1N4 model not created\n",
      "V3M 1N5 model not created\n"
     ]
    },
    {
     "name": "stderr",
     "output_type": "stream",
     "text": [
      "/usr/local/lib/python3.5/dist-packages/statsmodels/tsa/base/tsa_model.py:171: ValueWarning: No frequency information was provided, so inferred frequency H will be used.\n",
      "  % freq, ValueWarning)\n",
      "/usr/local/lib/python3.5/dist-packages/statsmodels/tsa/base/tsa_model.py:171: ValueWarning: No frequency information was provided, so inferred frequency H will be used.\n",
      "  % freq, ValueWarning)\n",
      "/usr/local/lib/python3.5/dist-packages/statsmodels/tsa/base/tsa_model.py:171: ValueWarning: No frequency information was provided, so inferred frequency H will be used.\n",
      "  % freq, ValueWarning)\n",
      "/usr/local/lib/python3.5/dist-packages/statsmodels/tsa/base/tsa_model.py:171: ValueWarning: No frequency information was provided, so inferred frequency H will be used.\n",
      "  % freq, ValueWarning)\n",
      "/usr/local/lib/python3.5/dist-packages/statsmodels/tsa/base/tsa_model.py:171: ValueWarning: No frequency information was provided, so inferred frequency H will be used.\n",
      "  % freq, ValueWarning)\n"
     ]
    },
    {
     "name": "stdout",
     "output_type": "stream",
     "text": [
      "V3M 1W3 model not created\n",
      "V3M 1W4 model not created\n",
      "V3M 1Y4 model not created\n",
      "V3M 2A5 model not created\n"
     ]
    },
    {
     "name": "stderr",
     "output_type": "stream",
     "text": [
      "/usr/local/lib/python3.5/dist-packages/statsmodels/tsa/base/tsa_model.py:171: ValueWarning: No frequency information was provided, so inferred frequency H will be used.\n",
      "  % freq, ValueWarning)\n",
      "/usr/local/lib/python3.5/dist-packages/statsmodels/tsa/base/tsa_model.py:171: ValueWarning: No frequency information was provided, so inferred frequency H will be used.\n",
      "  % freq, ValueWarning)\n",
      "/usr/local/lib/python3.5/dist-packages/statsmodels/tsa/base/tsa_model.py:171: ValueWarning: No frequency information was provided, so inferred frequency H will be used.\n",
      "  % freq, ValueWarning)\n",
      "/usr/local/lib/python3.5/dist-packages/statsmodels/tsa/base/tsa_model.py:171: ValueWarning: No frequency information was provided, so inferred frequency H will be used.\n",
      "  % freq, ValueWarning)\n",
      "/usr/local/lib/python3.5/dist-packages/statsmodels/tsa/base/tsa_model.py:171: ValueWarning: No frequency information was provided, so inferred frequency H will be used.\n",
      "  % freq, ValueWarning)\n"
     ]
    },
    {
     "name": "stdout",
     "output_type": "stream",
     "text": [
      "V3M 2V9 model not created\n",
      "V3M 3B5 model not created\n",
      "V3M 3H7 model not created\n"
     ]
    },
    {
     "name": "stderr",
     "output_type": "stream",
     "text": [
      "/usr/local/lib/python3.5/dist-packages/statsmodels/tsa/base/tsa_model.py:171: ValueWarning: No frequency information was provided, so inferred frequency H will be used.\n",
      "  % freq, ValueWarning)\n",
      "/usr/local/lib/python3.5/dist-packages/statsmodels/tsa/base/tsa_model.py:171: ValueWarning: No frequency information was provided, so inferred frequency H will be used.\n",
      "  % freq, ValueWarning)\n",
      "/usr/local/lib/python3.5/dist-packages/statsmodels/tsa/base/tsa_model.py:171: ValueWarning: No frequency information was provided, so inferred frequency H will be used.\n",
      "  % freq, ValueWarning)\n",
      "/usr/local/lib/python3.5/dist-packages/statsmodels/tsa/base/tsa_model.py:171: ValueWarning: No frequency information was provided, so inferred frequency H will be used.\n",
      "  % freq, ValueWarning)\n",
      "/usr/local/lib/python3.5/dist-packages/statsmodels/tsa/base/tsa_model.py:171: ValueWarning: No frequency information was provided, so inferred frequency H will be used.\n",
      "  % freq, ValueWarning)\n",
      "/usr/local/lib/python3.5/dist-packages/statsmodels/tsa/base/tsa_model.py:171: ValueWarning: No frequency information was provided, so inferred frequency H will be used.\n",
      "  % freq, ValueWarning)\n",
      "/usr/local/lib/python3.5/dist-packages/statsmodels/tsa/base/tsa_model.py:171: ValueWarning: No frequency information was provided, so inferred frequency H will be used.\n",
      "  % freq, ValueWarning)\n",
      "/usr/local/lib/python3.5/dist-packages/statsmodels/tsa/base/tsa_model.py:171: ValueWarning: No frequency information was provided, so inferred frequency H will be used.\n",
      "  % freq, ValueWarning)\n",
      "/usr/local/lib/python3.5/dist-packages/statsmodels/tsa/base/tsa_model.py:171: ValueWarning: No frequency information was provided, so inferred frequency H will be used.\n",
      "  % freq, ValueWarning)\n"
     ]
    },
    {
     "name": "stdout",
     "output_type": "stream",
     "text": [
      "V3M 3S8 model not created\n",
      "V3M 3S9 model not created\n",
      "V3M 3Y6 model not created\n",
      "V3M 3Z4 model not created\n",
      "V3M 4E9 model not created\n",
      "V3M 4G4 model not created\n"
     ]
    },
    {
     "name": "stderr",
     "output_type": "stream",
     "text": [
      "/usr/local/lib/python3.5/dist-packages/statsmodels/tsa/base/tsa_model.py:171: ValueWarning: No frequency information was provided, so inferred frequency H will be used.\n",
      "  % freq, ValueWarning)\n",
      "/usr/local/lib/python3.5/dist-packages/statsmodels/tsa/base/tsa_model.py:171: ValueWarning: No frequency information was provided, so inferred frequency H will be used.\n",
      "  % freq, ValueWarning)\n",
      "/usr/local/lib/python3.5/dist-packages/statsmodels/tsa/base/tsa_model.py:171: ValueWarning: No frequency information was provided, so inferred frequency H will be used.\n",
      "  % freq, ValueWarning)\n",
      "/usr/local/lib/python3.5/dist-packages/statsmodels/tsa/base/tsa_model.py:171: ValueWarning: No frequency information was provided, so inferred frequency H will be used.\n",
      "  % freq, ValueWarning)\n",
      "/usr/local/lib/python3.5/dist-packages/statsmodels/tsa/base/tsa_model.py:171: ValueWarning: No frequency information was provided, so inferred frequency H will be used.\n",
      "  % freq, ValueWarning)\n",
      "/usr/local/lib/python3.5/dist-packages/statsmodels/tsa/base/tsa_model.py:171: ValueWarning: No frequency information was provided, so inferred frequency H will be used.\n",
      "  % freq, ValueWarning)\n",
      "/usr/local/lib/python3.5/dist-packages/statsmodels/tsa/base/tsa_model.py:171: ValueWarning: No frequency information was provided, so inferred frequency H will be used.\n",
      "  % freq, ValueWarning)\n",
      "/usr/local/lib/python3.5/dist-packages/statsmodels/tsa/base/tsa_model.py:171: ValueWarning: No frequency information was provided, so inferred frequency H will be used.\n",
      "  % freq, ValueWarning)\n",
      "/usr/local/lib/python3.5/dist-packages/statsmodels/tsa/base/tsa_model.py:171: ValueWarning: No frequency information was provided, so inferred frequency H will be used.\n",
      "  % freq, ValueWarning)\n",
      "/usr/local/lib/python3.5/dist-packages/statsmodels/tsa/base/tsa_model.py:171: ValueWarning: No frequency information was provided, so inferred frequency H will be used.\n",
      "  % freq, ValueWarning)\n",
      "/usr/local/lib/python3.5/dist-packages/statsmodels/tsa/base/tsa_model.py:171: ValueWarning: No frequency information was provided, so inferred frequency H will be used.\n",
      "  % freq, ValueWarning)\n"
     ]
    },
    {
     "name": "stdout",
     "output_type": "stream",
     "text": [
      "V3M 4J4 model not created\n",
      "V3M 4J8 model not created\n",
      "V3M 4J9 model not created\n",
      "V3M 4K2 model not created\n",
      "V3M 4K3 model not created\n",
      "V3M 4K4 model not created\n",
      "V3M 4K7 model not created\n",
      "V3M 4M1 model not created\n",
      "V3M 4R2 model not created\n"
     ]
    },
    {
     "name": "stderr",
     "output_type": "stream",
     "text": [
      "/usr/local/lib/python3.5/dist-packages/statsmodels/tsa/base/tsa_model.py:171: ValueWarning: No frequency information was provided, so inferred frequency H will be used.\n",
      "  % freq, ValueWarning)\n",
      "/usr/local/lib/python3.5/dist-packages/statsmodels/tsa/base/tsa_model.py:171: ValueWarning: No frequency information was provided, so inferred frequency H will be used.\n",
      "  % freq, ValueWarning)\n",
      "/usr/local/lib/python3.5/dist-packages/statsmodels/base/model.py:508: ConvergenceWarning: Maximum Likelihood optimization failed to converge. Check mle_retvals\n",
      "  \"Check mle_retvals\", ConvergenceWarning)\n",
      "/usr/local/lib/python3.5/dist-packages/statsmodels/tsa/base/tsa_model.py:171: ValueWarning: No frequency information was provided, so inferred frequency H will be used.\n",
      "  % freq, ValueWarning)\n",
      "/usr/local/lib/python3.5/dist-packages/statsmodels/tsa/base/tsa_model.py:171: ValueWarning: No frequency information was provided, so inferred frequency H will be used.\n",
      "  % freq, ValueWarning)\n",
      "/usr/local/lib/python3.5/dist-packages/statsmodels/tsa/base/tsa_model.py:171: ValueWarning: No frequency information was provided, so inferred frequency H will be used.\n",
      "  % freq, ValueWarning)\n",
      "/usr/local/lib/python3.5/dist-packages/statsmodels/tsa/base/tsa_model.py:171: ValueWarning: No frequency information was provided, so inferred frequency H will be used.\n",
      "  % freq, ValueWarning)\n",
      "/usr/local/lib/python3.5/dist-packages/statsmodels/tsa/base/tsa_model.py:171: ValueWarning: No frequency information was provided, so inferred frequency H will be used.\n",
      "  % freq, ValueWarning)\n"
     ]
    },
    {
     "name": "stdout",
     "output_type": "stream",
     "text": [
      "V3M 6H6 model not created\n",
      "V3M 6T95 model not created\n",
      "V3M 7A8 model not created\n"
     ]
    },
    {
     "name": "stderr",
     "output_type": "stream",
     "text": [
      "/usr/local/lib/python3.5/dist-packages/statsmodels/tsa/base/tsa_model.py:171: ValueWarning: No frequency information was provided, so inferred frequency H will be used.\n",
      "  % freq, ValueWarning)\n",
      "/usr/local/lib/python3.5/dist-packages/statsmodels/tsa/base/tsa_model.py:171: ValueWarning: No frequency information was provided, so inferred frequency H will be used.\n",
      "  % freq, ValueWarning)\n",
      "/usr/local/lib/python3.5/dist-packages/statsmodels/tsa/base/tsa_model.py:171: ValueWarning: No frequency information was provided, so inferred frequency H will be used.\n",
      "  % freq, ValueWarning)\n"
     ]
    },
    {
     "name": "stdout",
     "output_type": "stream",
     "text": [
      "V3N 2S4 model not created\n",
      "V3N 2T2 model not created\n"
     ]
    },
    {
     "name": "stderr",
     "output_type": "stream",
     "text": [
      "/usr/local/lib/python3.5/dist-packages/statsmodels/tsa/base/tsa_model.py:171: ValueWarning: No frequency information was provided, so inferred frequency H will be used.\n",
      "  % freq, ValueWarning)\n",
      "/usr/local/lib/python3.5/dist-packages/statsmodels/tsa/base/tsa_model.py:171: ValueWarning: No frequency information was provided, so inferred frequency H will be used.\n",
      "  % freq, ValueWarning)\n",
      "/usr/local/lib/python3.5/dist-packages/statsmodels/tsa/base/tsa_model.py:171: ValueWarning: No frequency information was provided, so inferred frequency H will be used.\n",
      "  % freq, ValueWarning)\n",
      "/usr/local/lib/python3.5/dist-packages/statsmodels/tsa/base/tsa_model.py:171: ValueWarning: No frequency information was provided, so inferred frequency H will be used.\n",
      "  % freq, ValueWarning)\n",
      "/usr/local/lib/python3.5/dist-packages/statsmodels/tsa/base/tsa_model.py:171: ValueWarning: No frequency information was provided, so inferred frequency H will be used.\n",
      "  % freq, ValueWarning)\n"
     ]
    },
    {
     "name": "stdout",
     "output_type": "stream",
     "text": [
      "V3N 5B9 model not created\n",
      "V5A 4X6 model not created\n"
     ]
    },
    {
     "name": "stderr",
     "output_type": "stream",
     "text": [
      "/usr/local/lib/python3.5/dist-packages/statsmodels/tsa/base/tsa_model.py:171: ValueWarning: No frequency information was provided, so inferred frequency H will be used.\n",
      "  % freq, ValueWarning)\n",
      "/usr/local/lib/python3.5/dist-packages/statsmodels/tsa/base/tsa_model.py:171: ValueWarning: No frequency information was provided, so inferred frequency H will be used.\n",
      "  % freq, ValueWarning)\n",
      "/usr/local/lib/python3.5/dist-packages/statsmodels/tsa/base/tsa_model.py:171: ValueWarning: No frequency information was provided, so inferred frequency H will be used.\n",
      "  % freq, ValueWarning)\n",
      "/usr/local/lib/python3.5/dist-packages/statsmodels/tsa/base/tsa_model.py:171: ValueWarning: No frequency information was provided, so inferred frequency H will be used.\n",
      "  % freq, ValueWarning)\n",
      "/usr/local/lib/python3.5/dist-packages/statsmodels/tsa/base/tsa_model.py:171: ValueWarning: No frequency information was provided, so inferred frequency H will be used.\n",
      "  % freq, ValueWarning)\n"
     ]
    },
    {
     "name": "stdout",
     "output_type": "stream",
     "text": [
      "V5H 0C6 model not created\n"
     ]
    },
    {
     "name": "stderr",
     "output_type": "stream",
     "text": [
      "/usr/local/lib/python3.5/dist-packages/statsmodels/tsa/base/tsa_model.py:171: ValueWarning: No frequency information was provided, so inferred frequency H will be used.\n",
      "  % freq, ValueWarning)\n",
      "/usr/local/lib/python3.5/dist-packages/statsmodels/tsa/base/tsa_model.py:171: ValueWarning: No frequency information was provided, so inferred frequency H will be used.\n",
      "  % freq, ValueWarning)\n",
      "/usr/local/lib/python3.5/dist-packages/statsmodels/tsa/base/tsa_model.py:171: ValueWarning: No frequency information was provided, so inferred frequency H will be used.\n",
      "  % freq, ValueWarning)\n",
      "/usr/local/lib/python3.5/dist-packages/statsmodels/tsa/base/tsa_model.py:171: ValueWarning: No frequency information was provided, so inferred frequency H will be used.\n",
      "  % freq, ValueWarning)\n"
     ]
    },
    {
     "name": "stdout",
     "output_type": "stream",
     "text": [
      "V5H 2H9 model not created\n",
      "V5H 3E8 model not created\n",
      "V5H 3E9 model not created\n"
     ]
    },
    {
     "name": "stderr",
     "output_type": "stream",
     "text": [
      "/usr/local/lib/python3.5/dist-packages/statsmodels/tsa/base/tsa_model.py:171: ValueWarning: No frequency information was provided, so inferred frequency H will be used.\n",
      "  % freq, ValueWarning)\n",
      "/usr/local/lib/python3.5/dist-packages/statsmodels/tsa/base/tsa_model.py:171: ValueWarning: No frequency information was provided, so inferred frequency H will be used.\n",
      "  % freq, ValueWarning)\n",
      "/usr/local/lib/python3.5/dist-packages/statsmodels/tsa/base/tsa_model.py:171: ValueWarning: No frequency information was provided, so inferred frequency H will be used.\n",
      "  % freq, ValueWarning)\n",
      "/usr/local/lib/python3.5/dist-packages/statsmodels/tsa/base/tsa_model.py:171: ValueWarning: No frequency information was provided, so inferred frequency H will be used.\n",
      "  % freq, ValueWarning)\n",
      "/usr/local/lib/python3.5/dist-packages/statsmodels/tsa/base/tsa_model.py:171: ValueWarning: No frequency information was provided, so inferred frequency H will be used.\n",
      "  % freq, ValueWarning)\n",
      "/usr/local/lib/python3.5/dist-packages/statsmodels/tsa/base/tsa_model.py:171: ValueWarning: No frequency information was provided, so inferred frequency H will be used.\n",
      "  % freq, ValueWarning)\n",
      "/usr/local/lib/python3.5/dist-packages/statsmodels/tsa/base/tsa_model.py:171: ValueWarning: No frequency information was provided, so inferred frequency H will be used.\n",
      "  % freq, ValueWarning)\n",
      "/usr/local/lib/python3.5/dist-packages/statsmodels/tsa/base/tsa_model.py:171: ValueWarning: No frequency information was provided, so inferred frequency H will be used.\n",
      "  % freq, ValueWarning)\n",
      "/usr/local/lib/python3.5/dist-packages/statsmodels/tsa/base/tsa_model.py:171: ValueWarning: No frequency information was provided, so inferred frequency H will be used.\n",
      "  % freq, ValueWarning)\n",
      "/usr/local/lib/python3.5/dist-packages/statsmodels/tsa/base/tsa_model.py:171: ValueWarning: No frequency information was provided, so inferred frequency H will be used.\n",
      "  % freq, ValueWarning)\n"
     ]
    },
    {
     "name": "stdout",
     "output_type": "stream",
     "text": [
      "V5K 1E6 model not created\n",
      "V5K 1G9 model not created\n",
      "V5K 1H5 model not created\n",
      "V5K 1J6 model not created\n",
      "V5K 1L9 model not created\n",
      "V5K 1M2 model not created\n",
      "V5K 1S5 model not created\n",
      "V5K 1V6 model not created\n"
     ]
    },
    {
     "name": "stderr",
     "output_type": "stream",
     "text": [
      "/usr/local/lib/python3.5/dist-packages/statsmodels/tsa/base/tsa_model.py:171: ValueWarning: No frequency information was provided, so inferred frequency H will be used.\n",
      "  % freq, ValueWarning)\n",
      "/usr/local/lib/python3.5/dist-packages/statsmodels/tsa/base/tsa_model.py:171: ValueWarning: No frequency information was provided, so inferred frequency H will be used.\n",
      "  % freq, ValueWarning)\n"
     ]
    },
    {
     "name": "stdout",
     "output_type": "stream",
     "text": [
      "V5K 1Z2 model not created\n"
     ]
    },
    {
     "name": "stderr",
     "output_type": "stream",
     "text": [
      "/usr/local/lib/python3.5/dist-packages/statsmodels/tsa/base/tsa_model.py:171: ValueWarning: No frequency information was provided, so inferred frequency H will be used.\n",
      "  % freq, ValueWarning)\n",
      "/usr/local/lib/python3.5/dist-packages/statsmodels/tsa/base/tsa_model.py:171: ValueWarning: No frequency information was provided, so inferred frequency H will be used.\n",
      "  % freq, ValueWarning)\n",
      "/usr/local/lib/python3.5/dist-packages/statsmodels/tsa/base/tsa_model.py:171: ValueWarning: No frequency information was provided, so inferred frequency H will be used.\n",
      "  % freq, ValueWarning)\n",
      "/usr/local/lib/python3.5/dist-packages/statsmodels/tsa/base/tsa_model.py:171: ValueWarning: No frequency information was provided, so inferred frequency H will be used.\n",
      "  % freq, ValueWarning)\n",
      "/usr/local/lib/python3.5/dist-packages/statsmodels/tsa/base/tsa_model.py:171: ValueWarning: No frequency information was provided, so inferred frequency H will be used.\n",
      "  % freq, ValueWarning)\n",
      "/usr/local/lib/python3.5/dist-packages/statsmodels/tsa/base/tsa_model.py:171: ValueWarning: No frequency information was provided, so inferred frequency H will be used.\n",
      "  % freq, ValueWarning)\n",
      "/usr/local/lib/python3.5/dist-packages/statsmodels/tsa/base/tsa_model.py:171: ValueWarning: No frequency information was provided, so inferred frequency H will be used.\n",
      "  % freq, ValueWarning)\n",
      "/usr/local/lib/python3.5/dist-packages/statsmodels/tsa/base/tsa_model.py:171: ValueWarning: No frequency information was provided, so inferred frequency H will be used.\n",
      "  % freq, ValueWarning)\n",
      "/usr/local/lib/python3.5/dist-packages/statsmodels/tsa/base/tsa_model.py:171: ValueWarning: No frequency information was provided, so inferred frequency H will be used.\n",
      "  % freq, ValueWarning)\n",
      "/usr/local/lib/python3.5/dist-packages/statsmodels/tsa/base/tsa_model.py:171: ValueWarning: No frequency information was provided, so inferred frequency H will be used.\n",
      "  % freq, ValueWarning)\n",
      "/usr/local/lib/python3.5/dist-packages/statsmodels/tsa/base/tsa_model.py:171: ValueWarning: No frequency information was provided, so inferred frequency H will be used.\n",
      "  % freq, ValueWarning)\n",
      "/usr/local/lib/python3.5/dist-packages/statsmodels/tsa/base/tsa_model.py:171: ValueWarning: No frequency information was provided, so inferred frequency H will be used.\n",
      "  % freq, ValueWarning)\n"
     ]
    },
    {
     "name": "stdout",
     "output_type": "stream",
     "text": [
      "V5K 1Z8 model not created\n",
      "V5K 2A3 model not created\n",
      "V5K 2C3 model not created\n",
      "V5K 2H3 model not created\n",
      "V5K 2K8 model not created\n",
      "V5K 2L2 model not created\n",
      "V5K 2R4 model not created\n",
      "V5K 2S4 model not created\n",
      "V5K 3A6 model not created\n",
      "V5K 3A8 model not created\n",
      "V5K 3E1 model not created\n"
     ]
    },
    {
     "name": "stderr",
     "output_type": "stream",
     "text": [
      "/usr/local/lib/python3.5/dist-packages/statsmodels/tsa/base/tsa_model.py:171: ValueWarning: No frequency information was provided, so inferred frequency H will be used.\n",
      "  % freq, ValueWarning)\n",
      "/usr/local/lib/python3.5/dist-packages/statsmodels/tsa/base/tsa_model.py:171: ValueWarning: No frequency information was provided, so inferred frequency H will be used.\n",
      "  % freq, ValueWarning)\n",
      "/usr/local/lib/python3.5/dist-packages/statsmodels/tsa/base/tsa_model.py:171: ValueWarning: No frequency information was provided, so inferred frequency H will be used.\n",
      "  % freq, ValueWarning)\n",
      "/usr/local/lib/python3.5/dist-packages/statsmodels/tsa/base/tsa_model.py:171: ValueWarning: No frequency information was provided, so inferred frequency H will be used.\n",
      "  % freq, ValueWarning)\n",
      "/usr/local/lib/python3.5/dist-packages/statsmodels/tsa/base/tsa_model.py:171: ValueWarning: No frequency information was provided, so inferred frequency H will be used.\n",
      "  % freq, ValueWarning)\n",
      "/usr/local/lib/python3.5/dist-packages/statsmodels/tsa/base/tsa_model.py:171: ValueWarning: No frequency information was provided, so inferred frequency H will be used.\n",
      "  % freq, ValueWarning)\n",
      "/usr/local/lib/python3.5/dist-packages/statsmodels/tsa/base/tsa_model.py:171: ValueWarning: No frequency information was provided, so inferred frequency H will be used.\n",
      "  % freq, ValueWarning)\n",
      "/usr/local/lib/python3.5/dist-packages/statsmodels/tsa/base/tsa_model.py:171: ValueWarning: No frequency information was provided, so inferred frequency H will be used.\n",
      "  % freq, ValueWarning)\n",
      "/usr/local/lib/python3.5/dist-packages/statsmodels/tsa/base/tsa_model.py:171: ValueWarning: No frequency information was provided, so inferred frequency H will be used.\n",
      "  % freq, ValueWarning)\n",
      "/usr/local/lib/python3.5/dist-packages/statsmodels/tsa/base/tsa_model.py:171: ValueWarning: No frequency information was provided, so inferred frequency H will be used.\n",
      "  % freq, ValueWarning)\n"
     ]
    },
    {
     "name": "stdout",
     "output_type": "stream",
     "text": [
      "V5K 3K4 model not created\n",
      "V5K 3K5 model not created\n",
      "V5K 3L1 model not created\n",
      "V5K 3N8 model not created\n",
      "V5K 3S1 model not created\n",
      "V5K 3W5 model not created\n",
      "V5K 4G3 model not created\n",
      "V5K 4G4 model not created\n",
      "V5K 4H3 model not created\n"
     ]
    },
    {
     "name": "stderr",
     "output_type": "stream",
     "text": [
      "/usr/local/lib/python3.5/dist-packages/statsmodels/tsa/base/tsa_model.py:171: ValueWarning: No frequency information was provided, so inferred frequency H will be used.\n",
      "  % freq, ValueWarning)\n",
      "/usr/local/lib/python3.5/dist-packages/statsmodels/tsa/base/tsa_model.py:171: ValueWarning: No frequency information was provided, so inferred frequency H will be used.\n",
      "  % freq, ValueWarning)\n",
      "/usr/local/lib/python3.5/dist-packages/statsmodels/tsa/base/tsa_model.py:171: ValueWarning: No frequency information was provided, so inferred frequency H will be used.\n",
      "  % freq, ValueWarning)\n",
      "/usr/local/lib/python3.5/dist-packages/statsmodels/tsa/base/tsa_model.py:171: ValueWarning: No frequency information was provided, so inferred frequency H will be used.\n",
      "  % freq, ValueWarning)\n",
      "/usr/local/lib/python3.5/dist-packages/statsmodels/tsa/base/tsa_model.py:171: ValueWarning: No frequency information was provided, so inferred frequency H will be used.\n",
      "  % freq, ValueWarning)\n"
     ]
    },
    {
     "name": "stdout",
     "output_type": "stream",
     "text": [
      "V5K 4K1 model not created\n",
      "V5K 4N2 model not created\n",
      "V5K 4R9 model not created\n",
      "V5K 4X7 model not created\n"
     ]
    },
    {
     "name": "stderr",
     "output_type": "stream",
     "text": [
      "/usr/local/lib/python3.5/dist-packages/statsmodels/tsa/base/tsa_model.py:171: ValueWarning: No frequency information was provided, so inferred frequency H will be used.\n",
      "  % freq, ValueWarning)\n",
      "/usr/local/lib/python3.5/dist-packages/statsmodels/tsa/base/tsa_model.py:171: ValueWarning: No frequency information was provided, so inferred frequency H will be used.\n",
      "  % freq, ValueWarning)\n",
      "/usr/local/lib/python3.5/dist-packages/statsmodels/tsa/base/tsa_model.py:171: ValueWarning: No frequency information was provided, so inferred frequency H will be used.\n",
      "  % freq, ValueWarning)\n",
      "/usr/local/lib/python3.5/dist-packages/statsmodels/tsa/base/tsa_model.py:171: ValueWarning: No frequency information was provided, so inferred frequency H will be used.\n",
      "  % freq, ValueWarning)\n",
      "/usr/local/lib/python3.5/dist-packages/statsmodels/tsa/base/tsa_model.py:171: ValueWarning: No frequency information was provided, so inferred frequency H will be used.\n",
      "  % freq, ValueWarning)\n",
      "/usr/local/lib/python3.5/dist-packages/statsmodels/tsa/base/tsa_model.py:171: ValueWarning: No frequency information was provided, so inferred frequency H will be used.\n",
      "  % freq, ValueWarning)\n",
      "/usr/local/lib/python3.5/dist-packages/statsmodels/tsa/base/tsa_model.py:171: ValueWarning: No frequency information was provided, so inferred frequency H will be used.\n",
      "  % freq, ValueWarning)\n",
      "/usr/local/lib/python3.5/dist-packages/statsmodels/tsa/base/tsa_model.py:171: ValueWarning: No frequency information was provided, so inferred frequency H will be used.\n",
      "  % freq, ValueWarning)\n"
     ]
    },
    {
     "name": "stdout",
     "output_type": "stream",
     "text": [
      "V5K 4Z8 model not created\n",
      "V5K 5B8 model not created\n",
      "V5K 5C5 model not created\n",
      "V5K 5E4 model not created\n",
      "V5K 5H3 model not created\n",
      "V5K 5H5 model not created\n",
      "V5K 5J1 model not created\n"
     ]
    },
    {
     "name": "stderr",
     "output_type": "stream",
     "text": [
      "/usr/local/lib/python3.5/dist-packages/statsmodels/tsa/base/tsa_model.py:171: ValueWarning: No frequency information was provided, so inferred frequency H will be used.\n",
      "  % freq, ValueWarning)\n",
      "/usr/local/lib/python3.5/dist-packages/statsmodels/tsa/base/tsa_model.py:171: ValueWarning: No frequency information was provided, so inferred frequency H will be used.\n",
      "  % freq, ValueWarning)\n",
      "/usr/local/lib/python3.5/dist-packages/statsmodels/tsa/base/tsa_model.py:171: ValueWarning: No frequency information was provided, so inferred frequency H will be used.\n",
      "  % freq, ValueWarning)\n",
      "/usr/local/lib/python3.5/dist-packages/statsmodels/tsa/base/tsa_model.py:171: ValueWarning: No frequency information was provided, so inferred frequency H will be used.\n",
      "  % freq, ValueWarning)\n",
      "/usr/local/lib/python3.5/dist-packages/statsmodels/tsa/base/tsa_model.py:171: ValueWarning: No frequency information was provided, so inferred frequency H will be used.\n",
      "  % freq, ValueWarning)\n",
      "/usr/local/lib/python3.5/dist-packages/statsmodels/tsa/base/tsa_model.py:171: ValueWarning: No frequency information was provided, so inferred frequency H will be used.\n",
      "  % freq, ValueWarning)\n"
     ]
    },
    {
     "name": "stdout",
     "output_type": "stream",
     "text": [
      "V5L 1B2 model not created\n",
      "V5L 1B4 model not created\n",
      "V5L 1B8 model not created\n",
      "V5L 1E9 model not created\n",
      "V5L 1G6 model not created\n"
     ]
    },
    {
     "name": "stderr",
     "output_type": "stream",
     "text": [
      "/usr/local/lib/python3.5/dist-packages/statsmodels/tsa/base/tsa_model.py:171: ValueWarning: No frequency information was provided, so inferred frequency H will be used.\n",
      "  % freq, ValueWarning)\n",
      "/usr/local/lib/python3.5/dist-packages/statsmodels/tsa/base/tsa_model.py:171: ValueWarning: No frequency information was provided, so inferred frequency H will be used.\n",
      "  % freq, ValueWarning)\n",
      "/usr/local/lib/python3.5/dist-packages/statsmodels/tsa/base/tsa_model.py:171: ValueWarning: No frequency information was provided, so inferred frequency H will be used.\n",
      "  % freq, ValueWarning)\n"
     ]
    },
    {
     "name": "stdout",
     "output_type": "stream",
     "text": [
      "V5L 1H5 model not created\n"
     ]
    },
    {
     "name": "stderr",
     "output_type": "stream",
     "text": [
      "/usr/local/lib/python3.5/dist-packages/statsmodels/tsa/base/tsa_model.py:171: ValueWarning: No frequency information was provided, so inferred frequency H will be used.\n",
      "  % freq, ValueWarning)\n",
      "/usr/local/lib/python3.5/dist-packages/statsmodels/tsa/base/tsa_model.py:171: ValueWarning: No frequency information was provided, so inferred frequency H will be used.\n",
      "  % freq, ValueWarning)\n",
      "/usr/local/lib/python3.5/dist-packages/statsmodels/tsa/base/tsa_model.py:171: ValueWarning: No frequency information was provided, so inferred frequency H will be used.\n",
      "  % freq, ValueWarning)\n"
     ]
    },
    {
     "name": "stdout",
     "output_type": "stream",
     "text": [
      "V5L 1L6 model not created\n"
     ]
    },
    {
     "name": "stderr",
     "output_type": "stream",
     "text": [
      "/usr/local/lib/python3.5/dist-packages/statsmodels/tsa/base/tsa_model.py:171: ValueWarning: No frequency information was provided, so inferred frequency H will be used.\n",
      "  % freq, ValueWarning)\n",
      "/usr/local/lib/python3.5/dist-packages/statsmodels/tsa/base/tsa_model.py:171: ValueWarning: No frequency information was provided, so inferred frequency H will be used.\n",
      "  % freq, ValueWarning)\n",
      "/usr/local/lib/python3.5/dist-packages/statsmodels/tsa/base/tsa_model.py:171: ValueWarning: No frequency information was provided, so inferred frequency H will be used.\n",
      "  % freq, ValueWarning)\n",
      "/usr/local/lib/python3.5/dist-packages/statsmodels/tsa/base/tsa_model.py:171: ValueWarning: No frequency information was provided, so inferred frequency H will be used.\n",
      "  % freq, ValueWarning)\n"
     ]
    },
    {
     "name": "stdout",
     "output_type": "stream",
     "text": [
      "V5L 1T8 model not created\n",
      "V5L 1V2 model not created\n"
     ]
    },
    {
     "name": "stderr",
     "output_type": "stream",
     "text": [
      "/usr/local/lib/python3.5/dist-packages/statsmodels/tsa/base/tsa_model.py:171: ValueWarning: No frequency information was provided, so inferred frequency H will be used.\n",
      "  % freq, ValueWarning)\n",
      "/usr/local/lib/python3.5/dist-packages/statsmodels/tsa/base/tsa_model.py:171: ValueWarning: No frequency information was provided, so inferred frequency H will be used.\n",
      "  % freq, ValueWarning)\n",
      "/usr/local/lib/python3.5/dist-packages/statsmodels/tsa/base/tsa_model.py:171: ValueWarning: No frequency information was provided, so inferred frequency H will be used.\n",
      "  % freq, ValueWarning)\n"
     ]
    },
    {
     "name": "stdout",
     "output_type": "stream",
     "text": [
      "V5L 1V8 model not created\n",
      "V5L 1W9 model not created\n"
     ]
    },
    {
     "name": "stderr",
     "output_type": "stream",
     "text": [
      "/usr/local/lib/python3.5/dist-packages/statsmodels/tsa/base/tsa_model.py:171: ValueWarning: No frequency information was provided, so inferred frequency H will be used.\n",
      "  % freq, ValueWarning)\n",
      "/usr/local/lib/python3.5/dist-packages/statsmodels/tsa/base/tsa_model.py:171: ValueWarning: No frequency information was provided, so inferred frequency H will be used.\n",
      "  % freq, ValueWarning)\n",
      "/usr/local/lib/python3.5/dist-packages/statsmodels/tsa/base/tsa_model.py:171: ValueWarning: No frequency information was provided, so inferred frequency H will be used.\n",
      "  % freq, ValueWarning)\n",
      "/usr/local/lib/python3.5/dist-packages/statsmodels/tsa/base/tsa_model.py:171: ValueWarning: No frequency information was provided, so inferred frequency H will be used.\n",
      "  % freq, ValueWarning)\n"
     ]
    },
    {
     "name": "stdout",
     "output_type": "stream",
     "text": [
      "V5L 1Y4 model not created\n",
      "V5L 1Z8 model not created\n",
      "V5L 2B4 model not created\n"
     ]
    },
    {
     "name": "stderr",
     "output_type": "stream",
     "text": [
      "/usr/local/lib/python3.5/dist-packages/statsmodels/tsa/base/tsa_model.py:171: ValueWarning: No frequency information was provided, so inferred frequency H will be used.\n",
      "  % freq, ValueWarning)\n",
      "/usr/local/lib/python3.5/dist-packages/statsmodels/tsa/base/tsa_model.py:171: ValueWarning: No frequency information was provided, so inferred frequency H will be used.\n",
      "  % freq, ValueWarning)\n",
      "/usr/local/lib/python3.5/dist-packages/statsmodels/tsa/base/tsa_model.py:171: ValueWarning: No frequency information was provided, so inferred frequency H will be used.\n",
      "  % freq, ValueWarning)\n",
      "/usr/local/lib/python3.5/dist-packages/statsmodels/tsa/base/tsa_model.py:171: ValueWarning: No frequency information was provided, so inferred frequency H will be used.\n",
      "  % freq, ValueWarning)\n"
     ]
    },
    {
     "name": "stdout",
     "output_type": "stream",
     "text": [
      "V5L 2H1 model not created\n",
      "V5L 2J2 model not created\n"
     ]
    },
    {
     "name": "stderr",
     "output_type": "stream",
     "text": [
      "/usr/local/lib/python3.5/dist-packages/statsmodels/tsa/base/tsa_model.py:171: ValueWarning: No frequency information was provided, so inferred frequency H will be used.\n",
      "  % freq, ValueWarning)\n",
      "/usr/local/lib/python3.5/dist-packages/statsmodels/tsa/base/tsa_model.py:171: ValueWarning: No frequency information was provided, so inferred frequency H will be used.\n",
      "  % freq, ValueWarning)\n",
      "/usr/local/lib/python3.5/dist-packages/statsmodels/tsa/base/tsa_model.py:171: ValueWarning: No frequency information was provided, so inferred frequency H will be used.\n",
      "  % freq, ValueWarning)\n",
      "/usr/local/lib/python3.5/dist-packages/statsmodels/tsa/base/tsa_model.py:171: ValueWarning: No frequency information was provided, so inferred frequency H will be used.\n",
      "  % freq, ValueWarning)\n",
      "/usr/local/lib/python3.5/dist-packages/statsmodels/tsa/base/tsa_model.py:171: ValueWarning: No frequency information was provided, so inferred frequency H will be used.\n",
      "  % freq, ValueWarning)\n"
     ]
    },
    {
     "name": "stdout",
     "output_type": "stream",
     "text": [
      "V5L 2T1 model not created\n",
      "V5L 2T5 model not created\n",
      "V5L 2V1 model not created\n"
     ]
    },
    {
     "name": "stderr",
     "output_type": "stream",
     "text": [
      "/usr/local/lib/python3.5/dist-packages/statsmodels/tsa/base/tsa_model.py:171: ValueWarning: No frequency information was provided, so inferred frequency H will be used.\n",
      "  % freq, ValueWarning)\n",
      "/usr/local/lib/python3.5/dist-packages/statsmodels/tsa/base/tsa_model.py:171: ValueWarning: No frequency information was provided, so inferred frequency H will be used.\n",
      "  % freq, ValueWarning)\n",
      "/usr/local/lib/python3.5/dist-packages/statsmodels/tsa/base/tsa_model.py:171: ValueWarning: No frequency information was provided, so inferred frequency H will be used.\n",
      "  % freq, ValueWarning)\n",
      "/usr/local/lib/python3.5/dist-packages/statsmodels/tsa/base/tsa_model.py:171: ValueWarning: No frequency information was provided, so inferred frequency H will be used.\n",
      "  % freq, ValueWarning)\n",
      "/usr/local/lib/python3.5/dist-packages/statsmodels/tsa/base/tsa_model.py:171: ValueWarning: No frequency information was provided, so inferred frequency H will be used.\n",
      "  % freq, ValueWarning)\n",
      "/usr/local/lib/python3.5/dist-packages/statsmodels/tsa/base/tsa_model.py:171: ValueWarning: No frequency information was provided, so inferred frequency H will be used.\n",
      "  % freq, ValueWarning)\n",
      "/usr/local/lib/python3.5/dist-packages/statsmodels/tsa/base/tsa_model.py:171: ValueWarning: No frequency information was provided, so inferred frequency H will be used.\n",
      "  % freq, ValueWarning)\n"
     ]
    },
    {
     "name": "stdout",
     "output_type": "stream",
     "text": [
      "V5L 3B1 model not created\n",
      "V5L 3B9 model not created\n",
      "V5L 3E8 model not created\n",
      "V5L 3J6 model not created\n",
      "V5L 3K4 model not created\n",
      "V5L 3K8 model not created\n"
     ]
    },
    {
     "name": "stderr",
     "output_type": "stream",
     "text": [
      "/usr/local/lib/python3.5/dist-packages/statsmodels/tsa/base/tsa_model.py:171: ValueWarning: No frequency information was provided, so inferred frequency H will be used.\n",
      "  % freq, ValueWarning)\n",
      "/usr/local/lib/python3.5/dist-packages/statsmodels/tsa/base/tsa_model.py:171: ValueWarning: No frequency information was provided, so inferred frequency H will be used.\n",
      "  % freq, ValueWarning)\n",
      "/usr/local/lib/python3.5/dist-packages/statsmodels/tsa/base/tsa_model.py:171: ValueWarning: No frequency information was provided, so inferred frequency H will be used.\n",
      "  % freq, ValueWarning)\n"
     ]
    },
    {
     "name": "stdout",
     "output_type": "stream",
     "text": [
      "V5L 3L7 model not created\n",
      "V5L 3R2 model not created\n"
     ]
    },
    {
     "name": "stderr",
     "output_type": "stream",
     "text": [
      "/usr/local/lib/python3.5/dist-packages/statsmodels/base/model.py:508: ConvergenceWarning: Maximum Likelihood optimization failed to converge. Check mle_retvals\n",
      "  \"Check mle_retvals\", ConvergenceWarning)\n",
      "/usr/local/lib/python3.5/dist-packages/statsmodels/tsa/base/tsa_model.py:171: ValueWarning: No frequency information was provided, so inferred frequency H will be used.\n",
      "  % freq, ValueWarning)\n",
      "/usr/local/lib/python3.5/dist-packages/statsmodels/tsa/base/tsa_model.py:171: ValueWarning: No frequency information was provided, so inferred frequency H will be used.\n",
      "  % freq, ValueWarning)\n",
      "/usr/local/lib/python3.5/dist-packages/statsmodels/tsa/base/tsa_model.py:171: ValueWarning: No frequency information was provided, so inferred frequency H will be used.\n",
      "  % freq, ValueWarning)\n",
      "/usr/local/lib/python3.5/dist-packages/statsmodels/tsa/base/tsa_model.py:171: ValueWarning: No frequency information was provided, so inferred frequency H will be used.\n",
      "  % freq, ValueWarning)\n"
     ]
    },
    {
     "name": "stdout",
     "output_type": "stream",
     "text": [
      "V5L 3V3 model not created\n",
      "V5L 3W7 model not created\n",
      "V5L 3X1 model not created\n"
     ]
    },
    {
     "name": "stderr",
     "output_type": "stream",
     "text": [
      "/usr/local/lib/python3.5/dist-packages/statsmodels/tsa/base/tsa_model.py:171: ValueWarning: No frequency information was provided, so inferred frequency H will be used.\n",
      "  % freq, ValueWarning)\n",
      "/usr/local/lib/python3.5/dist-packages/statsmodels/tsa/base/tsa_model.py:171: ValueWarning: No frequency information was provided, so inferred frequency H will be used.\n",
      "  % freq, ValueWarning)\n",
      "/usr/local/lib/python3.5/dist-packages/statsmodels/tsa/base/tsa_model.py:171: ValueWarning: No frequency information was provided, so inferred frequency H will be used.\n",
      "  % freq, ValueWarning)\n",
      "/usr/local/lib/python3.5/dist-packages/statsmodels/tsa/base/tsa_model.py:171: ValueWarning: No frequency information was provided, so inferred frequency H will be used.\n",
      "  % freq, ValueWarning)\n",
      "/usr/local/lib/python3.5/dist-packages/statsmodels/tsa/base/tsa_model.py:171: ValueWarning: No frequency information was provided, so inferred frequency H will be used.\n",
      "  % freq, ValueWarning)\n",
      "/usr/local/lib/python3.5/dist-packages/statsmodels/tsa/base/tsa_model.py:171: ValueWarning: No frequency information was provided, so inferred frequency H will be used.\n",
      "  % freq, ValueWarning)\n",
      "/usr/local/lib/python3.5/dist-packages/statsmodels/tsa/base/tsa_model.py:171: ValueWarning: No frequency information was provided, so inferred frequency H will be used.\n",
      "  % freq, ValueWarning)\n",
      "/usr/local/lib/python3.5/dist-packages/statsmodels/tsa/base/tsa_model.py:171: ValueWarning: No frequency information was provided, so inferred frequency H will be used.\n",
      "  % freq, ValueWarning)\n"
     ]
    },
    {
     "name": "stdout",
     "output_type": "stream",
     "text": [
      "V5L 3Y5 model not created\n",
      "V5L 4A2 model not created\n",
      "V5L 4A5 model not created\n",
      "V5L 4A6 model not created\n",
      "V5L 4A8 model not created\n",
      "V5L 4B3 model not created\n",
      "V5L 4B8 model not created\n"
     ]
    },
    {
     "name": "stderr",
     "output_type": "stream",
     "text": [
      "/usr/local/lib/python3.5/dist-packages/statsmodels/tsa/base/tsa_model.py:171: ValueWarning: No frequency information was provided, so inferred frequency H will be used.\n",
      "  % freq, ValueWarning)\n",
      "/usr/local/lib/python3.5/dist-packages/statsmodels/base/model.py:508: ConvergenceWarning: Maximum Likelihood optimization failed to converge. Check mle_retvals\n",
      "  \"Check mle_retvals\", ConvergenceWarning)\n",
      "/usr/local/lib/python3.5/dist-packages/statsmodels/tsa/base/tsa_model.py:171: ValueWarning: No frequency information was provided, so inferred frequency H will be used.\n",
      "  % freq, ValueWarning)\n",
      "/usr/local/lib/python3.5/dist-packages/statsmodels/tsa/base/tsa_model.py:171: ValueWarning: No frequency information was provided, so inferred frequency H will be used.\n",
      "  % freq, ValueWarning)\n",
      "/usr/local/lib/python3.5/dist-packages/statsmodels/tsa/base/tsa_model.py:171: ValueWarning: No frequency information was provided, so inferred frequency H will be used.\n",
      "  % freq, ValueWarning)\n",
      "/usr/local/lib/python3.5/dist-packages/statsmodels/tsa/base/tsa_model.py:171: ValueWarning: No frequency information was provided, so inferred frequency H will be used.\n",
      "  % freq, ValueWarning)\n",
      "/usr/local/lib/python3.5/dist-packages/statsmodels/tsa/base/tsa_model.py:171: ValueWarning: No frequency information was provided, so inferred frequency H will be used.\n",
      "  % freq, ValueWarning)\n"
     ]
    },
    {
     "name": "stdout",
     "output_type": "stream",
     "text": [
      "V5L 4K4 model not created\n",
      "V5L 4L4 model not created\n",
      "V5L 4L9 model not created\n"
     ]
    },
    {
     "name": "stderr",
     "output_type": "stream",
     "text": [
      "/usr/local/lib/python3.5/dist-packages/statsmodels/base/model.py:508: ConvergenceWarning: Maximum Likelihood optimization failed to converge. Check mle_retvals\n",
      "  \"Check mle_retvals\", ConvergenceWarning)\n",
      "/usr/local/lib/python3.5/dist-packages/statsmodels/tsa/base/tsa_model.py:171: ValueWarning: No frequency information was provided, so inferred frequency H will be used.\n",
      "  % freq, ValueWarning)\n",
      "/usr/local/lib/python3.5/dist-packages/statsmodels/tsa/base/tsa_model.py:171: ValueWarning: No frequency information was provided, so inferred frequency H will be used.\n",
      "  % freq, ValueWarning)\n"
     ]
    },
    {
     "name": "stdout",
     "output_type": "stream",
     "text": [
      "V5L 4N9 model not created\n"
     ]
    },
    {
     "name": "stderr",
     "output_type": "stream",
     "text": [
      "/usr/local/lib/python3.5/dist-packages/statsmodels/tsa/base/tsa_model.py:171: ValueWarning: No frequency information was provided, so inferred frequency H will be used.\n",
      "  % freq, ValueWarning)\n",
      "/usr/local/lib/python3.5/dist-packages/statsmodels/tsa/base/tsa_model.py:171: ValueWarning: No frequency information was provided, so inferred frequency H will be used.\n",
      "  % freq, ValueWarning)\n"
     ]
    },
    {
     "name": "stdout",
     "output_type": "stream",
     "text": [
      "V5L 4X4 model not created\n"
     ]
    },
    {
     "name": "stderr",
     "output_type": "stream",
     "text": [
      "/usr/local/lib/python3.5/dist-packages/statsmodels/tsa/base/tsa_model.py:171: ValueWarning: No frequency information was provided, so inferred frequency H will be used.\n",
      "  % freq, ValueWarning)\n",
      "/usr/local/lib/python3.5/dist-packages/statsmodels/tsa/base/tsa_model.py:171: ValueWarning: No frequency information was provided, so inferred frequency H will be used.\n",
      "  % freq, ValueWarning)\n"
     ]
    },
    {
     "name": "stdout",
     "output_type": "stream",
     "text": [
      "V5L 5A8 model not created\n"
     ]
    },
    {
     "name": "stderr",
     "output_type": "stream",
     "text": [
      "/usr/local/lib/python3.5/dist-packages/statsmodels/tsa/base/tsa_model.py:171: ValueWarning: No frequency information was provided, so inferred frequency H will be used.\n",
      "  % freq, ValueWarning)\n",
      "/usr/local/lib/python3.5/dist-packages/statsmodels/tsa/base/tsa_model.py:171: ValueWarning: No frequency information was provided, so inferred frequency H will be used.\n",
      "  % freq, ValueWarning)\n",
      "/usr/local/lib/python3.5/dist-packages/statsmodels/tsa/base/tsa_model.py:171: ValueWarning: No frequency information was provided, so inferred frequency H will be used.\n",
      "  % freq, ValueWarning)\n",
      "/usr/local/lib/python3.5/dist-packages/statsmodels/tsa/base/tsa_model.py:171: ValueWarning: No frequency information was provided, so inferred frequency H will be used.\n",
      "  % freq, ValueWarning)\n",
      "/usr/local/lib/python3.5/dist-packages/statsmodels/tsa/base/tsa_model.py:171: ValueWarning: No frequency information was provided, so inferred frequency H will be used.\n",
      "  % freq, ValueWarning)\n",
      "/usr/local/lib/python3.5/dist-packages/statsmodels/tsa/base/tsa_model.py:171: ValueWarning: No frequency information was provided, so inferred frequency H will be used.\n",
      "  % freq, ValueWarning)\n",
      "/usr/local/lib/python3.5/dist-packages/statsmodels/tsa/base/tsa_model.py:171: ValueWarning: No frequency information was provided, so inferred frequency H will be used.\n",
      "  % freq, ValueWarning)\n",
      "/usr/local/lib/python3.5/dist-packages/statsmodels/tsa/base/tsa_model.py:171: ValueWarning: No frequency information was provided, so inferred frequency H will be used.\n",
      "  % freq, ValueWarning)\n",
      "/usr/local/lib/python3.5/dist-packages/statsmodels/tsa/base/tsa_model.py:171: ValueWarning: No frequency information was provided, so inferred frequency H will be used.\n",
      "  % freq, ValueWarning)\n",
      "/usr/local/lib/python3.5/dist-packages/statsmodels/tsa/base/tsa_model.py:171: ValueWarning: No frequency information was provided, so inferred frequency H will be used.\n",
      "  % freq, ValueWarning)\n"
     ]
    },
    {
     "name": "stdout",
     "output_type": "stream",
     "text": [
      "V5M 1C9 model not created\n",
      "V5M 1G7 model not created\n",
      "V5M 1G8 model not created\n",
      "V5M 1H3 model not created\n",
      "V5M 1J9 model not created\n",
      "V5M 1L7 model not created\n",
      "V5M 1V5 model not created\n"
     ]
    },
    {
     "name": "stderr",
     "output_type": "stream",
     "text": [
      "/usr/local/lib/python3.5/dist-packages/statsmodels/base/model.py:508: ConvergenceWarning: Maximum Likelihood optimization failed to converge. Check mle_retvals\n",
      "  \"Check mle_retvals\", ConvergenceWarning)\n",
      "/usr/local/lib/python3.5/dist-packages/statsmodels/tsa/base/tsa_model.py:171: ValueWarning: No frequency information was provided, so inferred frequency H will be used.\n",
      "  % freq, ValueWarning)\n",
      "/usr/local/lib/python3.5/dist-packages/statsmodels/tsa/base/tsa_model.py:171: ValueWarning: No frequency information was provided, so inferred frequency H will be used.\n",
      "  % freq, ValueWarning)\n"
     ]
    },
    {
     "name": "stdout",
     "output_type": "stream",
     "text": [
      "V5M 2B1 model not created\n"
     ]
    },
    {
     "name": "stderr",
     "output_type": "stream",
     "text": [
      "/usr/local/lib/python3.5/dist-packages/statsmodels/tsa/base/tsa_model.py:171: ValueWarning: No frequency information was provided, so inferred frequency H will be used.\n",
      "  % freq, ValueWarning)\n",
      "/usr/local/lib/python3.5/dist-packages/statsmodels/tsa/base/tsa_model.py:171: ValueWarning: No frequency information was provided, so inferred frequency H will be used.\n",
      "  % freq, ValueWarning)\n",
      "/usr/local/lib/python3.5/dist-packages/statsmodels/tsa/base/tsa_model.py:171: ValueWarning: No frequency information was provided, so inferred frequency H will be used.\n",
      "  % freq, ValueWarning)\n"
     ]
    },
    {
     "name": "stdout",
     "output_type": "stream",
     "text": [
      "V5M 2M1 model not created\n",
      "V5M 2Y3 model not created\n"
     ]
    },
    {
     "name": "stderr",
     "output_type": "stream",
     "text": [
      "/usr/local/lib/python3.5/dist-packages/statsmodels/tsa/base/tsa_model.py:171: ValueWarning: No frequency information was provided, so inferred frequency H will be used.\n",
      "  % freq, ValueWarning)\n",
      "/usr/local/lib/python3.5/dist-packages/statsmodels/tsa/base/tsa_model.py:171: ValueWarning: No frequency information was provided, so inferred frequency H will be used.\n",
      "  % freq, ValueWarning)\n"
     ]
    },
    {
     "name": "stdout",
     "output_type": "stream",
     "text": [
      "V5M 3B4 model not created\n"
     ]
    },
    {
     "name": "stderr",
     "output_type": "stream",
     "text": [
      "/usr/local/lib/python3.5/dist-packages/statsmodels/tsa/base/tsa_model.py:171: ValueWarning: No frequency information was provided, so inferred frequency H will be used.\n",
      "  % freq, ValueWarning)\n",
      "/usr/local/lib/python3.5/dist-packages/statsmodels/tsa/base/tsa_model.py:171: ValueWarning: No frequency information was provided, so inferred frequency H will be used.\n",
      "  % freq, ValueWarning)\n",
      "/usr/local/lib/python3.5/dist-packages/statsmodels/tsa/base/tsa_model.py:171: ValueWarning: No frequency information was provided, so inferred frequency H will be used.\n",
      "  % freq, ValueWarning)\n",
      "/usr/local/lib/python3.5/dist-packages/statsmodels/tsa/base/tsa_model.py:171: ValueWarning: No frequency information was provided, so inferred frequency H will be used.\n",
      "  % freq, ValueWarning)\n",
      "/usr/local/lib/python3.5/dist-packages/statsmodels/tsa/base/tsa_model.py:171: ValueWarning: No frequency information was provided, so inferred frequency H will be used.\n",
      "  % freq, ValueWarning)\n",
      "/usr/local/lib/python3.5/dist-packages/statsmodels/tsa/base/tsa_model.py:171: ValueWarning: No frequency information was provided, so inferred frequency H will be used.\n",
      "  % freq, ValueWarning)\n",
      "/usr/local/lib/python3.5/dist-packages/statsmodels/tsa/base/tsa_model.py:171: ValueWarning: No frequency information was provided, so inferred frequency H will be used.\n",
      "  % freq, ValueWarning)\n",
      "/usr/local/lib/python3.5/dist-packages/statsmodels/tsa/base/tsa_model.py:171: ValueWarning: No frequency information was provided, so inferred frequency H will be used.\n",
      "  % freq, ValueWarning)\n",
      "/usr/local/lib/python3.5/dist-packages/statsmodels/tsa/base/tsa_model.py:171: ValueWarning: No frequency information was provided, so inferred frequency H will be used.\n",
      "  % freq, ValueWarning)\n",
      "/usr/local/lib/python3.5/dist-packages/statsmodels/tsa/base/tsa_model.py:171: ValueWarning: No frequency information was provided, so inferred frequency H will be used.\n",
      "  % freq, ValueWarning)\n",
      "/usr/local/lib/python3.5/dist-packages/statsmodels/tsa/base/tsa_model.py:171: ValueWarning: No frequency information was provided, so inferred frequency H will be used.\n",
      "  % freq, ValueWarning)\n",
      "/usr/local/lib/python3.5/dist-packages/statsmodels/tsa/base/tsa_model.py:171: ValueWarning: No frequency information was provided, so inferred frequency H will be used.\n",
      "  % freq, ValueWarning)\n"
     ]
    },
    {
     "name": "stdout",
     "output_type": "stream",
     "text": [
      "V5M 3H8 model not created\n",
      "V5M 3J3 model not created\n",
      "V5M 3K1 model not created\n",
      "V5M 3M1 model not created\n",
      "V5M 3M9 model not created\n",
      "V5M 3N8 model not created\n",
      "V5M 3R4 model not created\n",
      "V5M 3T3 model not created\n",
      "V5M 3T6 model not created\n",
      "V5M 3W5 model not created\n",
      "V5M 3X8 model not created\n"
     ]
    },
    {
     "name": "stderr",
     "output_type": "stream",
     "text": [
      "/usr/local/lib/python3.5/dist-packages/statsmodels/tsa/base/tsa_model.py:171: ValueWarning: No frequency information was provided, so inferred frequency H will be used.\n",
      "  % freq, ValueWarning)\n",
      "/usr/local/lib/python3.5/dist-packages/statsmodels/tsa/base/tsa_model.py:171: ValueWarning: No frequency information was provided, so inferred frequency H will be used.\n",
      "  % freq, ValueWarning)\n",
      "/usr/local/lib/python3.5/dist-packages/statsmodels/tsa/base/tsa_model.py:171: ValueWarning: No frequency information was provided, so inferred frequency H will be used.\n",
      "  % freq, ValueWarning)\n"
     ]
    },
    {
     "name": "stdout",
     "output_type": "stream",
     "text": [
      "V5M 3Y7 model not created\n",
      "V5M 4A3 model not created\n"
     ]
    },
    {
     "name": "stderr",
     "output_type": "stream",
     "text": [
      "/usr/local/lib/python3.5/dist-packages/statsmodels/tsa/base/tsa_model.py:171: ValueWarning: No frequency information was provided, so inferred frequency H will be used.\n",
      "  % freq, ValueWarning)\n",
      "/usr/local/lib/python3.5/dist-packages/statsmodels/tsa/base/tsa_model.py:171: ValueWarning: No frequency information was provided, so inferred frequency H will be used.\n",
      "  % freq, ValueWarning)\n",
      "/usr/local/lib/python3.5/dist-packages/statsmodels/tsa/base/tsa_model.py:171: ValueWarning: No frequency information was provided, so inferred frequency H will be used.\n",
      "  % freq, ValueWarning)\n",
      "/usr/local/lib/python3.5/dist-packages/statsmodels/tsa/base/tsa_model.py:171: ValueWarning: No frequency information was provided, so inferred frequency H will be used.\n",
      "  % freq, ValueWarning)\n",
      "/usr/local/lib/python3.5/dist-packages/statsmodels/tsa/base/tsa_model.py:171: ValueWarning: No frequency information was provided, so inferred frequency H will be used.\n",
      "  % freq, ValueWarning)\n"
     ]
    },
    {
     "name": "stdout",
     "output_type": "stream",
     "text": [
      "V5M 4C5 model not created\n",
      "V5M 4H7 model not created\n",
      "V5M 4J1 model not created\n",
      "V5M 4M5 model not created\n"
     ]
    },
    {
     "name": "stderr",
     "output_type": "stream",
     "text": [
      "/usr/local/lib/python3.5/dist-packages/statsmodels/base/model.py:508: ConvergenceWarning: Maximum Likelihood optimization failed to converge. Check mle_retvals\n",
      "  \"Check mle_retvals\", ConvergenceWarning)\n",
      "/usr/local/lib/python3.5/dist-packages/statsmodels/tsa/base/tsa_model.py:171: ValueWarning: No frequency information was provided, so inferred frequency H will be used.\n",
      "  % freq, ValueWarning)\n",
      "/usr/local/lib/python3.5/dist-packages/statsmodels/tsa/base/tsa_model.py:171: ValueWarning: No frequency information was provided, so inferred frequency H will be used.\n",
      "  % freq, ValueWarning)\n"
     ]
    },
    {
     "name": "stdout",
     "output_type": "stream",
     "text": [
      "V5M 4P7 model not created\n"
     ]
    },
    {
     "name": "stderr",
     "output_type": "stream",
     "text": [
      "/usr/local/lib/python3.5/dist-packages/statsmodels/tsa/base/tsa_model.py:171: ValueWarning: No frequency information was provided, so inferred frequency H will be used.\n",
      "  % freq, ValueWarning)\n",
      "/usr/local/lib/python3.5/dist-packages/statsmodels/tsa/base/tsa_model.py:171: ValueWarning: No frequency information was provided, so inferred frequency H will be used.\n",
      "  % freq, ValueWarning)\n",
      "/usr/local/lib/python3.5/dist-packages/statsmodels/tsa/base/tsa_model.py:171: ValueWarning: No frequency information was provided, so inferred frequency H will be used.\n",
      "  % freq, ValueWarning)\n"
     ]
    },
    {
     "name": "stdout",
     "output_type": "stream",
     "text": [
      "V5M 4T9 model not created\n",
      "V5M 4W7 model not created\n"
     ]
    },
    {
     "name": "stderr",
     "output_type": "stream",
     "text": [
      "/usr/local/lib/python3.5/dist-packages/statsmodels/tsa/base/tsa_model.py:171: ValueWarning: No frequency information was provided, so inferred frequency H will be used.\n",
      "  % freq, ValueWarning)\n",
      "/usr/local/lib/python3.5/dist-packages/statsmodels/tsa/base/tsa_model.py:171: ValueWarning: No frequency information was provided, so inferred frequency H will be used.\n",
      "  % freq, ValueWarning)\n"
     ]
    },
    {
     "name": "stdout",
     "output_type": "stream",
     "text": [
      "V5N 0B5 model not created\n"
     ]
    },
    {
     "name": "stderr",
     "output_type": "stream",
     "text": [
      "/usr/local/lib/python3.5/dist-packages/statsmodels/tsa/base/tsa_model.py:171: ValueWarning: No frequency information was provided, so inferred frequency H will be used.\n",
      "  % freq, ValueWarning)\n",
      "/usr/local/lib/python3.5/dist-packages/statsmodels/tsa/base/tsa_model.py:171: ValueWarning: No frequency information was provided, so inferred frequency H will be used.\n",
      "  % freq, ValueWarning)\n",
      "/usr/local/lib/python3.5/dist-packages/statsmodels/tsa/base/tsa_model.py:171: ValueWarning: No frequency information was provided, so inferred frequency H will be used.\n",
      "  % freq, ValueWarning)\n"
     ]
    },
    {
     "name": "stdout",
     "output_type": "stream",
     "text": [
      "V5N 1C3 model not created\n",
      "V5N 1G8 model not created\n"
     ]
    },
    {
     "name": "stderr",
     "output_type": "stream",
     "text": [
      "/usr/local/lib/python3.5/dist-packages/statsmodels/tsa/base/tsa_model.py:171: ValueWarning: No frequency information was provided, so inferred frequency H will be used.\n",
      "  % freq, ValueWarning)\n",
      "/usr/local/lib/python3.5/dist-packages/statsmodels/tsa/base/tsa_model.py:171: ValueWarning: No frequency information was provided, so inferred frequency H will be used.\n",
      "  % freq, ValueWarning)\n",
      "/usr/local/lib/python3.5/dist-packages/statsmodels/tsa/base/tsa_model.py:171: ValueWarning: No frequency information was provided, so inferred frequency H will be used.\n",
      "  % freq, ValueWarning)\n",
      "/usr/local/lib/python3.5/dist-packages/statsmodels/tsa/base/tsa_model.py:171: ValueWarning: No frequency information was provided, so inferred frequency H will be used.\n",
      "  % freq, ValueWarning)\n",
      "/usr/local/lib/python3.5/dist-packages/statsmodels/tsa/base/tsa_model.py:171: ValueWarning: No frequency information was provided, so inferred frequency H will be used.\n",
      "  % freq, ValueWarning)\n",
      "/usr/local/lib/python3.5/dist-packages/statsmodels/tsa/base/tsa_model.py:171: ValueWarning: No frequency information was provided, so inferred frequency H will be used.\n",
      "  % freq, ValueWarning)\n",
      "/usr/local/lib/python3.5/dist-packages/statsmodels/tsa/base/tsa_model.py:171: ValueWarning: No frequency information was provided, so inferred frequency H will be used.\n",
      "  % freq, ValueWarning)\n",
      "/usr/local/lib/python3.5/dist-packages/statsmodels/tsa/base/tsa_model.py:171: ValueWarning: No frequency information was provided, so inferred frequency H will be used.\n",
      "  % freq, ValueWarning)\n",
      "/usr/local/lib/python3.5/dist-packages/statsmodels/tsa/base/tsa_model.py:171: ValueWarning: No frequency information was provided, so inferred frequency H will be used.\n",
      "  % freq, ValueWarning)\n"
     ]
    },
    {
     "name": "stdout",
     "output_type": "stream",
     "text": [
      "V5N 1J2 model not created\n",
      "V5N 1K6 model not created\n",
      "V5N 1L9 model not created\n",
      "V5N 1M6 model not created\n",
      "V5N 1M8 model not created\n",
      "V5N 1N1 model not created\n",
      "V5N 1N7 model not created\n",
      "V5N 1P9 model not created\n"
     ]
    },
    {
     "name": "stderr",
     "output_type": "stream",
     "text": [
      "/usr/local/lib/python3.5/dist-packages/statsmodels/tsa/base/tsa_model.py:171: ValueWarning: No frequency information was provided, so inferred frequency H will be used.\n",
      "  % freq, ValueWarning)\n",
      "/usr/local/lib/python3.5/dist-packages/statsmodels/tsa/base/tsa_model.py:171: ValueWarning: No frequency information was provided, so inferred frequency H will be used.\n",
      "  % freq, ValueWarning)\n",
      "/usr/local/lib/python3.5/dist-packages/statsmodels/tsa/base/tsa_model.py:171: ValueWarning: No frequency information was provided, so inferred frequency H will be used.\n",
      "  % freq, ValueWarning)\n"
     ]
    },
    {
     "name": "stdout",
     "output_type": "stream",
     "text": [
      "V5N 1S7 model not created\n",
      "V5N 1T5 model not created\n"
     ]
    },
    {
     "name": "stderr",
     "output_type": "stream",
     "text": [
      "/usr/local/lib/python3.5/dist-packages/statsmodels/tsa/base/tsa_model.py:171: ValueWarning: No frequency information was provided, so inferred frequency H will be used.\n",
      "  % freq, ValueWarning)\n",
      "/usr/local/lib/python3.5/dist-packages/statsmodels/tsa/base/tsa_model.py:171: ValueWarning: No frequency information was provided, so inferred frequency H will be used.\n",
      "  % freq, ValueWarning)\n",
      "/usr/local/lib/python3.5/dist-packages/statsmodels/tsa/base/tsa_model.py:171: ValueWarning: No frequency information was provided, so inferred frequency H will be used.\n",
      "  % freq, ValueWarning)\n"
     ]
    },
    {
     "name": "stdout",
     "output_type": "stream",
     "text": [
      "V5N 1X5 model not created\n"
     ]
    },
    {
     "name": "stderr",
     "output_type": "stream",
     "text": [
      "/usr/local/lib/python3.5/dist-packages/statsmodels/tsa/base/tsa_model.py:171: ValueWarning: No frequency information was provided, so inferred frequency H will be used.\n",
      "  % freq, ValueWarning)\n",
      "/usr/local/lib/python3.5/dist-packages/statsmodels/tsa/base/tsa_model.py:171: ValueWarning: No frequency information was provided, so inferred frequency H will be used.\n",
      "  % freq, ValueWarning)\n",
      "/usr/local/lib/python3.5/dist-packages/statsmodels/tsa/base/tsa_model.py:171: ValueWarning: No frequency information was provided, so inferred frequency H will be used.\n",
      "  % freq, ValueWarning)\n",
      "/usr/local/lib/python3.5/dist-packages/statsmodels/tsa/base/tsa_model.py:171: ValueWarning: No frequency information was provided, so inferred frequency H will be used.\n",
      "  % freq, ValueWarning)\n",
      "/usr/local/lib/python3.5/dist-packages/statsmodels/tsa/base/tsa_model.py:171: ValueWarning: No frequency information was provided, so inferred frequency H will be used.\n",
      "  % freq, ValueWarning)\n",
      "/usr/local/lib/python3.5/dist-packages/statsmodels/tsa/base/tsa_model.py:171: ValueWarning: No frequency information was provided, so inferred frequency H will be used.\n",
      "  % freq, ValueWarning)\n",
      "/usr/local/lib/python3.5/dist-packages/statsmodels/tsa/base/tsa_model.py:171: ValueWarning: No frequency information was provided, so inferred frequency H will be used.\n",
      "  % freq, ValueWarning)\n",
      "/usr/local/lib/python3.5/dist-packages/statsmodels/tsa/base/tsa_model.py:171: ValueWarning: No frequency information was provided, so inferred frequency H will be used.\n",
      "  % freq, ValueWarning)\n",
      "/usr/local/lib/python3.5/dist-packages/statsmodels/tsa/base/tsa_model.py:171: ValueWarning: No frequency information was provided, so inferred frequency H will be used.\n",
      "  % freq, ValueWarning)\n",
      "/usr/local/lib/python3.5/dist-packages/statsmodels/tsa/base/tsa_model.py:171: ValueWarning: No frequency information was provided, so inferred frequency H will be used.\n",
      "  % freq, ValueWarning)\n",
      "/usr/local/lib/python3.5/dist-packages/statsmodels/tsa/base/tsa_model.py:171: ValueWarning: No frequency information was provided, so inferred frequency H will be used.\n",
      "  % freq, ValueWarning)\n"
     ]
    },
    {
     "name": "stdout",
     "output_type": "stream",
     "text": [
      "V5N 2B9 model not created\n",
      "V5N 2H6 model not created\n",
      "V5N 2K8 model not created\n",
      "V5N 2L2 model not created\n",
      "V5N 2L5 model not created\n",
      "V5N 2N2 model not created\n",
      "V5N 2N7 model not created\n"
     ]
    },
    {
     "name": "stderr",
     "output_type": "stream",
     "text": [
      "/usr/local/lib/python3.5/dist-packages/statsmodels/tsa/base/tsa_model.py:171: ValueWarning: No frequency information was provided, so inferred frequency H will be used.\n",
      "  % freq, ValueWarning)\n",
      "/usr/local/lib/python3.5/dist-packages/statsmodels/tsa/base/tsa_model.py:171: ValueWarning: No frequency information was provided, so inferred frequency H will be used.\n",
      "  % freq, ValueWarning)\n",
      "/usr/local/lib/python3.5/dist-packages/statsmodels/tsa/base/tsa_model.py:171: ValueWarning: No frequency information was provided, so inferred frequency H will be used.\n",
      "  % freq, ValueWarning)\n"
     ]
    },
    {
     "name": "stdout",
     "output_type": "stream",
     "text": [
      "V5N 2S2 model not created\n",
      "V5N 2S9 model not created\n"
     ]
    },
    {
     "name": "stderr",
     "output_type": "stream",
     "text": [
      "/usr/local/lib/python3.5/dist-packages/statsmodels/tsa/base/tsa_model.py:171: ValueWarning: No frequency information was provided, so inferred frequency H will be used.\n",
      "  % freq, ValueWarning)\n",
      "/usr/local/lib/python3.5/dist-packages/statsmodels/tsa/base/tsa_model.py:171: ValueWarning: No frequency information was provided, so inferred frequency H will be used.\n",
      "  % freq, ValueWarning)\n",
      "/usr/local/lib/python3.5/dist-packages/statsmodels/tsa/base/tsa_model.py:171: ValueWarning: No frequency information was provided, so inferred frequency H will be used.\n",
      "  % freq, ValueWarning)\n",
      "/usr/local/lib/python3.5/dist-packages/statsmodels/tsa/base/tsa_model.py:171: ValueWarning: No frequency information was provided, so inferred frequency H will be used.\n",
      "  % freq, ValueWarning)\n",
      "/usr/local/lib/python3.5/dist-packages/statsmodels/tsa/base/tsa_model.py:171: ValueWarning: No frequency information was provided, so inferred frequency H will be used.\n",
      "  % freq, ValueWarning)\n",
      "/usr/local/lib/python3.5/dist-packages/statsmodels/tsa/base/tsa_model.py:171: ValueWarning: No frequency information was provided, so inferred frequency H will be used.\n",
      "  % freq, ValueWarning)\n",
      "/usr/local/lib/python3.5/dist-packages/statsmodels/tsa/base/tsa_model.py:171: ValueWarning: No frequency information was provided, so inferred frequency H will be used.\n",
      "  % freq, ValueWarning)\n",
      "/usr/local/lib/python3.5/dist-packages/statsmodels/tsa/base/tsa_model.py:171: ValueWarning: No frequency information was provided, so inferred frequency H will be used.\n",
      "  % freq, ValueWarning)\n",
      "/usr/local/lib/python3.5/dist-packages/statsmodels/tsa/base/tsa_model.py:171: ValueWarning: No frequency information was provided, so inferred frequency H will be used.\n",
      "  % freq, ValueWarning)\n",
      "/usr/local/lib/python3.5/dist-packages/statsmodels/tsa/base/tsa_model.py:171: ValueWarning: No frequency information was provided, so inferred frequency H will be used.\n",
      "  % freq, ValueWarning)\n",
      "/usr/local/lib/python3.5/dist-packages/statsmodels/tsa/base/tsa_model.py:171: ValueWarning: No frequency information was provided, so inferred frequency H will be used.\n",
      "  % freq, ValueWarning)\n",
      "/usr/local/lib/python3.5/dist-packages/statsmodels/tsa/base/tsa_model.py:171: ValueWarning: No frequency information was provided, so inferred frequency H will be used.\n",
      "  % freq, ValueWarning)\n",
      "/usr/local/lib/python3.5/dist-packages/statsmodels/tsa/base/tsa_model.py:171: ValueWarning: No frequency information was provided, so inferred frequency H will be used.\n",
      "  % freq, ValueWarning)\n"
     ]
    },
    {
     "name": "stdout",
     "output_type": "stream",
     "text": [
      "V5N 2Y2 model not created\n",
      "V5N 2Y4 model not created\n",
      "V5N 3A9 model not created\n",
      "V5N 3E2 model not created\n",
      "V5N 3G5 model not created\n",
      "V5N 3J1 model not created\n",
      "V5N 3L8 model not created\n",
      "V5N 3L9 model not created\n",
      "V5N 3M1 model not created\n",
      "V5N 3M4 model not created\n",
      "V5N 3M8 model not created\n",
      "V5N 3N7 model not created\n"
     ]
    },
    {
     "name": "stderr",
     "output_type": "stream",
     "text": [
      "/usr/local/lib/python3.5/dist-packages/statsmodels/tsa/base/tsa_model.py:171: ValueWarning: No frequency information was provided, so inferred frequency H will be used.\n",
      "  % freq, ValueWarning)\n",
      "/usr/local/lib/python3.5/dist-packages/statsmodels/tsa/base/tsa_model.py:171: ValueWarning: No frequency information was provided, so inferred frequency H will be used.\n",
      "  % freq, ValueWarning)\n",
      "/usr/local/lib/python3.5/dist-packages/statsmodels/tsa/base/tsa_model.py:171: ValueWarning: No frequency information was provided, so inferred frequency H will be used.\n",
      "  % freq, ValueWarning)\n"
     ]
    },
    {
     "name": "stdout",
     "output_type": "stream",
     "text": [
      "V5N 3R2 model not created\n",
      "V5N 3R5 model not created\n"
     ]
    },
    {
     "name": "stderr",
     "output_type": "stream",
     "text": [
      "/usr/local/lib/python3.5/dist-packages/statsmodels/tsa/base/tsa_model.py:171: ValueWarning: No frequency information was provided, so inferred frequency H will be used.\n",
      "  % freq, ValueWarning)\n",
      "/usr/local/lib/python3.5/dist-packages/statsmodels/tsa/base/tsa_model.py:171: ValueWarning: No frequency information was provided, so inferred frequency H will be used.\n",
      "  % freq, ValueWarning)\n",
      "/usr/local/lib/python3.5/dist-packages/statsmodels/tsa/base/tsa_model.py:171: ValueWarning: No frequency information was provided, so inferred frequency H will be used.\n",
      "  % freq, ValueWarning)\n",
      "/usr/local/lib/python3.5/dist-packages/statsmodels/tsa/base/tsa_model.py:171: ValueWarning: No frequency information was provided, so inferred frequency H will be used.\n",
      "  % freq, ValueWarning)\n",
      "/usr/local/lib/python3.5/dist-packages/statsmodels/tsa/base/tsa_model.py:171: ValueWarning: No frequency information was provided, so inferred frequency H will be used.\n",
      "  % freq, ValueWarning)\n",
      "/usr/local/lib/python3.5/dist-packages/statsmodels/tsa/base/tsa_model.py:171: ValueWarning: No frequency information was provided, so inferred frequency H will be used.\n",
      "  % freq, ValueWarning)\n",
      "/usr/local/lib/python3.5/dist-packages/statsmodels/tsa/base/tsa_model.py:171: ValueWarning: No frequency information was provided, so inferred frequency H will be used.\n",
      "  % freq, ValueWarning)\n"
     ]
    },
    {
     "name": "stdout",
     "output_type": "stream",
     "text": [
      "V5N 3T6 model not created\n",
      "V5N 3W1 model not created\n",
      "V5N 3X3 model not created\n",
      "V5N 3Y7 model not created\n",
      "V5N 3Z6 model not created\n"
     ]
    },
    {
     "name": "stderr",
     "output_type": "stream",
     "text": [
      "/usr/local/lib/python3.5/dist-packages/statsmodels/tsa/base/tsa_model.py:171: ValueWarning: No frequency information was provided, so inferred frequency H will be used.\n",
      "  % freq, ValueWarning)\n",
      "/usr/local/lib/python3.5/dist-packages/statsmodels/tsa/base/tsa_model.py:171: ValueWarning: No frequency information was provided, so inferred frequency H will be used.\n",
      "  % freq, ValueWarning)\n"
     ]
    },
    {
     "name": "stdout",
     "output_type": "stream",
     "text": [
      "V5N 4E5 model not created\n"
     ]
    },
    {
     "name": "stderr",
     "output_type": "stream",
     "text": [
      "/usr/local/lib/python3.5/dist-packages/statsmodels/tsa/base/tsa_model.py:171: ValueWarning: No frequency information was provided, so inferred frequency H will be used.\n",
      "  % freq, ValueWarning)\n",
      "/usr/local/lib/python3.5/dist-packages/statsmodels/tsa/base/tsa_model.py:171: ValueWarning: No frequency information was provided, so inferred frequency H will be used.\n",
      "  % freq, ValueWarning)\n"
     ]
    },
    {
     "name": "stdout",
     "output_type": "stream",
     "text": [
      "V5N 4G2 model not created\n"
     ]
    },
    {
     "name": "stderr",
     "output_type": "stream",
     "text": [
      "/usr/local/lib/python3.5/dist-packages/statsmodels/tsa/base/tsa_model.py:171: ValueWarning: No frequency information was provided, so inferred frequency H will be used.\n",
      "  % freq, ValueWarning)\n",
      "/usr/local/lib/python3.5/dist-packages/statsmodels/tsa/base/tsa_model.py:171: ValueWarning: No frequency information was provided, so inferred frequency H will be used.\n",
      "  % freq, ValueWarning)\n",
      "/usr/local/lib/python3.5/dist-packages/statsmodels/tsa/base/tsa_model.py:171: ValueWarning: No frequency information was provided, so inferred frequency H will be used.\n",
      "  % freq, ValueWarning)\n",
      "/usr/local/lib/python3.5/dist-packages/statsmodels/tsa/base/tsa_model.py:171: ValueWarning: No frequency information was provided, so inferred frequency H will be used.\n",
      "  % freq, ValueWarning)\n",
      "/usr/local/lib/python3.5/dist-packages/statsmodels/tsa/base/tsa_model.py:171: ValueWarning: No frequency information was provided, so inferred frequency H will be used.\n",
      "  % freq, ValueWarning)\n",
      "/usr/local/lib/python3.5/dist-packages/statsmodels/tsa/base/tsa_model.py:171: ValueWarning: No frequency information was provided, so inferred frequency H will be used.\n",
      "  % freq, ValueWarning)\n",
      "/usr/local/lib/python3.5/dist-packages/statsmodels/tsa/base/tsa_model.py:171: ValueWarning: No frequency information was provided, so inferred frequency H will be used.\n",
      "  % freq, ValueWarning)\n"
     ]
    },
    {
     "name": "stdout",
     "output_type": "stream",
     "text": [
      "V5N 4R2 model not created\n",
      "V5N 4T7 model not created\n",
      "V5N 4T8 model not created\n"
     ]
    },
    {
     "name": "stderr",
     "output_type": "stream",
     "text": [
      "/usr/local/lib/python3.5/dist-packages/statsmodels/tsa/base/tsa_model.py:171: ValueWarning: No frequency information was provided, so inferred frequency H will be used.\n",
      "  % freq, ValueWarning)\n",
      "/usr/local/lib/python3.5/dist-packages/statsmodels/tsa/base/tsa_model.py:171: ValueWarning: No frequency information was provided, so inferred frequency H will be used.\n",
      "  % freq, ValueWarning)\n",
      "/usr/local/lib/python3.5/dist-packages/statsmodels/tsa/base/tsa_model.py:171: ValueWarning: No frequency information was provided, so inferred frequency H will be used.\n",
      "  % freq, ValueWarning)\n"
     ]
    },
    {
     "name": "stdout",
     "output_type": "stream",
     "text": [
      "V5N 4X7 model not created\n",
      "V5N 4Y3 model not created\n"
     ]
    },
    {
     "name": "stderr",
     "output_type": "stream",
     "text": [
      "/usr/local/lib/python3.5/dist-packages/statsmodels/tsa/base/tsa_model.py:171: ValueWarning: No frequency information was provided, so inferred frequency H will be used.\n",
      "  % freq, ValueWarning)\n",
      "/usr/local/lib/python3.5/dist-packages/statsmodels/tsa/base/tsa_model.py:171: ValueWarning: No frequency information was provided, so inferred frequency H will be used.\n",
      "  % freq, ValueWarning)\n"
     ]
    },
    {
     "name": "stdout",
     "output_type": "stream",
     "text": [
      "V5N 5E4 model not created\n"
     ]
    },
    {
     "name": "stderr",
     "output_type": "stream",
     "text": [
      "/usr/local/lib/python3.5/dist-packages/statsmodels/tsa/base/tsa_model.py:171: ValueWarning: No frequency information was provided, so inferred frequency H will be used.\n",
      "  % freq, ValueWarning)\n",
      "/usr/local/lib/python3.5/dist-packages/statsmodels/tsa/base/tsa_model.py:171: ValueWarning: No frequency information was provided, so inferred frequency H will be used.\n",
      "  % freq, ValueWarning)\n",
      "/usr/local/lib/python3.5/dist-packages/statsmodels/tsa/base/tsa_model.py:171: ValueWarning: No frequency information was provided, so inferred frequency H will be used.\n",
      "  % freq, ValueWarning)\n",
      "/usr/local/lib/python3.5/dist-packages/statsmodels/tsa/base/tsa_model.py:171: ValueWarning: No frequency information was provided, so inferred frequency H will be used.\n",
      "  % freq, ValueWarning)\n",
      "/usr/local/lib/python3.5/dist-packages/statsmodels/tsa/base/tsa_model.py:171: ValueWarning: No frequency information was provided, so inferred frequency H will be used.\n",
      "  % freq, ValueWarning)\n",
      "/usr/local/lib/python3.5/dist-packages/statsmodels/tsa/base/tsa_model.py:171: ValueWarning: No frequency information was provided, so inferred frequency H will be used.\n",
      "  % freq, ValueWarning)\n",
      "/usr/local/lib/python3.5/dist-packages/statsmodels/tsa/base/tsa_model.py:171: ValueWarning: No frequency information was provided, so inferred frequency H will be used.\n",
      "  % freq, ValueWarning)\n",
      "/usr/local/lib/python3.5/dist-packages/statsmodels/tsa/base/tsa_model.py:171: ValueWarning: No frequency information was provided, so inferred frequency H will be used.\n",
      "  % freq, ValueWarning)\n",
      "/usr/local/lib/python3.5/dist-packages/statsmodels/tsa/base/tsa_model.py:171: ValueWarning: No frequency information was provided, so inferred frequency H will be used.\n",
      "  % freq, ValueWarning)\n",
      "/usr/local/lib/python3.5/dist-packages/statsmodels/tsa/base/tsa_model.py:171: ValueWarning: No frequency information was provided, so inferred frequency H will be used.\n",
      "  % freq, ValueWarning)\n",
      "/usr/local/lib/python3.5/dist-packages/statsmodels/tsa/base/tsa_model.py:171: ValueWarning: No frequency information was provided, so inferred frequency H will be used.\n",
      "  % freq, ValueWarning)\n",
      "/usr/local/lib/python3.5/dist-packages/statsmodels/tsa/base/tsa_model.py:171: ValueWarning: No frequency information was provided, so inferred frequency H will be used.\n",
      "  % freq, ValueWarning)\n"
     ]
    },
    {
     "name": "stdout",
     "output_type": "stream",
     "text": [
      "V5N 5H7 model not created\n",
      "V5N 5H9 model not created\n",
      "V5N 5K4 model not created\n",
      "V5N 5K9 model not created\n",
      "V5N 5N9 model not created\n",
      "V5N 5R9 model not created\n",
      "V5N 5T6 model not created\n",
      "V5N 5X2 model not created\n",
      "V5N 5X7 model not created\n",
      "V5N 5Y2 model not created\n",
      "V5N 5Z1 model not created\n"
     ]
    },
    {
     "name": "stderr",
     "output_type": "stream",
     "text": [
      "/usr/local/lib/python3.5/dist-packages/statsmodels/tsa/base/tsa_model.py:171: ValueWarning: No frequency information was provided, so inferred frequency H will be used.\n",
      "  % freq, ValueWarning)\n",
      "/usr/local/lib/python3.5/dist-packages/statsmodels/tsa/base/tsa_model.py:171: ValueWarning: No frequency information was provided, so inferred frequency H will be used.\n",
      "  % freq, ValueWarning)\n",
      "/usr/local/lib/python3.5/dist-packages/statsmodels/tsa/base/tsa_model.py:171: ValueWarning: No frequency information was provided, so inferred frequency H will be used.\n",
      "  % freq, ValueWarning)\n"
     ]
    },
    {
     "name": "stdout",
     "output_type": "stream",
     "text": [
      "V5P 1B3 model not created\n",
      "V5P 1C9 model not created\n"
     ]
    },
    {
     "name": "stderr",
     "output_type": "stream",
     "text": [
      "/usr/local/lib/python3.5/dist-packages/statsmodels/tsa/base/tsa_model.py:171: ValueWarning: No frequency information was provided, so inferred frequency H will be used.\n",
      "  % freq, ValueWarning)\n",
      "/usr/local/lib/python3.5/dist-packages/statsmodels/tsa/base/tsa_model.py:171: ValueWarning: No frequency information was provided, so inferred frequency H will be used.\n",
      "  % freq, ValueWarning)\n",
      "/usr/local/lib/python3.5/dist-packages/statsmodels/tsa/base/tsa_model.py:171: ValueWarning: No frequency information was provided, so inferred frequency H will be used.\n",
      "  % freq, ValueWarning)\n",
      "/usr/local/lib/python3.5/dist-packages/statsmodels/tsa/base/tsa_model.py:171: ValueWarning: No frequency information was provided, so inferred frequency H will be used.\n",
      "  % freq, ValueWarning)\n",
      "/usr/local/lib/python3.5/dist-packages/statsmodels/tsa/base/tsa_model.py:171: ValueWarning: No frequency information was provided, so inferred frequency H will be used.\n",
      "  % freq, ValueWarning)\n",
      "/usr/local/lib/python3.5/dist-packages/statsmodels/tsa/base/tsa_model.py:171: ValueWarning: No frequency information was provided, so inferred frequency H will be used.\n",
      "  % freq, ValueWarning)\n",
      "/usr/local/lib/python3.5/dist-packages/statsmodels/tsa/base/tsa_model.py:171: ValueWarning: No frequency information was provided, so inferred frequency H will be used.\n",
      "  % freq, ValueWarning)\n",
      "/usr/local/lib/python3.5/dist-packages/statsmodels/tsa/base/tsa_model.py:171: ValueWarning: No frequency information was provided, so inferred frequency H will be used.\n",
      "  % freq, ValueWarning)\n",
      "/usr/local/lib/python3.5/dist-packages/statsmodels/tsa/base/tsa_model.py:171: ValueWarning: No frequency information was provided, so inferred frequency H will be used.\n",
      "  % freq, ValueWarning)\n",
      "/usr/local/lib/python3.5/dist-packages/statsmodels/tsa/base/tsa_model.py:171: ValueWarning: No frequency information was provided, so inferred frequency H will be used.\n",
      "  % freq, ValueWarning)\n",
      "/usr/local/lib/python3.5/dist-packages/statsmodels/tsa/base/tsa_model.py:171: ValueWarning: No frequency information was provided, so inferred frequency H will be used.\n",
      "  % freq, ValueWarning)\n",
      "/usr/local/lib/python3.5/dist-packages/statsmodels/tsa/base/tsa_model.py:171: ValueWarning: No frequency information was provided, so inferred frequency H will be used.\n",
      "  % freq, ValueWarning)\n",
      "/usr/local/lib/python3.5/dist-packages/statsmodels/tsa/base/tsa_model.py:171: ValueWarning: No frequency information was provided, so inferred frequency H will be used.\n",
      "  % freq, ValueWarning)\n",
      "/usr/local/lib/python3.5/dist-packages/statsmodels/tsa/base/tsa_model.py:171: ValueWarning: No frequency information was provided, so inferred frequency H will be used.\n",
      "  % freq, ValueWarning)\n",
      "/usr/local/lib/python3.5/dist-packages/statsmodels/tsa/base/tsa_model.py:171: ValueWarning: No frequency information was provided, so inferred frequency H will be used.\n",
      "  % freq, ValueWarning)\n",
      "/usr/local/lib/python3.5/dist-packages/statsmodels/tsa/base/tsa_model.py:171: ValueWarning: No frequency information was provided, so inferred frequency H will be used.\n",
      "  % freq, ValueWarning)\n",
      "/usr/local/lib/python3.5/dist-packages/statsmodels/tsa/base/tsa_model.py:171: ValueWarning: No frequency information was provided, so inferred frequency H will be used.\n",
      "  % freq, ValueWarning)\n"
     ]
    },
    {
     "name": "stdout",
     "output_type": "stream",
     "text": [
      "V5P 1H4 model not created\n",
      "V5P 1J3 model not created\n",
      "V5P 1J7 model not created\n",
      "V5P 1V2 model not created\n",
      "V5P 1X4 model not created\n",
      "V5P 2E7 model not created\n",
      "V5P 2L5 model not created\n",
      "V5P 2L6 model not created\n",
      "V5P 2S9 model not created\n",
      "V5P 2V4 model not created\n",
      "V5P 2Y1 model not created\n",
      "V5P 3N6 model not created\n",
      "V5P 3N8 model not created\n",
      "V5P 3T6 model not created\n",
      "V5P 3V1 model not created\n",
      "V5P 3V8 model not created\n"
     ]
    },
    {
     "name": "stderr",
     "output_type": "stream",
     "text": [
      "/usr/local/lib/python3.5/dist-packages/statsmodels/tsa/base/tsa_model.py:171: ValueWarning: No frequency information was provided, so inferred frequency H will be used.\n",
      "  % freq, ValueWarning)\n",
      "/usr/local/lib/python3.5/dist-packages/statsmodels/tsa/base/tsa_model.py:171: ValueWarning: No frequency information was provided, so inferred frequency H will be used.\n",
      "  % freq, ValueWarning)\n",
      "/usr/local/lib/python3.5/dist-packages/statsmodels/tsa/base/tsa_model.py:171: ValueWarning: No frequency information was provided, so inferred frequency H will be used.\n",
      "  % freq, ValueWarning)\n",
      "/usr/local/lib/python3.5/dist-packages/statsmodels/tsa/base/tsa_model.py:171: ValueWarning: No frequency information was provided, so inferred frequency H will be used.\n",
      "  % freq, ValueWarning)\n"
     ]
    },
    {
     "name": "stdout",
     "output_type": "stream",
     "text": [
      "V5P 3Y7 model not created\n",
      "V5P 3Y8 model not created\n",
      "V5P 3Y9 model not created\n"
     ]
    },
    {
     "name": "stderr",
     "output_type": "stream",
     "text": [
      "/usr/local/lib/python3.5/dist-packages/statsmodels/tsa/base/tsa_model.py:171: ValueWarning: No frequency information was provided, so inferred frequency H will be used.\n",
      "  % freq, ValueWarning)\n",
      "/usr/local/lib/python3.5/dist-packages/statsmodels/tsa/base/tsa_model.py:171: ValueWarning: No frequency information was provided, so inferred frequency H will be used.\n",
      "  % freq, ValueWarning)\n",
      "/usr/local/lib/python3.5/dist-packages/statsmodels/tsa/base/tsa_model.py:171: ValueWarning: No frequency information was provided, so inferred frequency H will be used.\n",
      "  % freq, ValueWarning)\n",
      "/usr/local/lib/python3.5/dist-packages/statsmodels/tsa/base/tsa_model.py:171: ValueWarning: No frequency information was provided, so inferred frequency H will be used.\n",
      "  % freq, ValueWarning)\n",
      "/usr/local/lib/python3.5/dist-packages/statsmodels/tsa/base/tsa_model.py:171: ValueWarning: No frequency information was provided, so inferred frequency H will be used.\n",
      "  % freq, ValueWarning)\n",
      "/usr/local/lib/python3.5/dist-packages/statsmodels/tsa/base/tsa_model.py:171: ValueWarning: No frequency information was provided, so inferred frequency H will be used.\n",
      "  % freq, ValueWarning)\n",
      "/usr/local/lib/python3.5/dist-packages/statsmodels/tsa/base/tsa_model.py:171: ValueWarning: No frequency information was provided, so inferred frequency H will be used.\n",
      "  % freq, ValueWarning)\n"
     ]
    },
    {
     "name": "stdout",
     "output_type": "stream",
     "text": [
      "V5P 4V5 model not created\n",
      "V5P 4X7 model not created\n",
      "V5P 4X8 model not created\n"
     ]
    },
    {
     "name": "stderr",
     "output_type": "stream",
     "text": [
      "/usr/local/lib/python3.5/dist-packages/statsmodels/tsa/base/tsa_model.py:171: ValueWarning: No frequency information was provided, so inferred frequency H will be used.\n",
      "  % freq, ValueWarning)\n",
      "/usr/local/lib/python3.5/dist-packages/statsmodels/tsa/base/tsa_model.py:171: ValueWarning: No frequency information was provided, so inferred frequency H will be used.\n",
      "  % freq, ValueWarning)\n",
      "/usr/local/lib/python3.5/dist-packages/statsmodels/tsa/base/tsa_model.py:171: ValueWarning: No frequency information was provided, so inferred frequency H will be used.\n",
      "  % freq, ValueWarning)\n",
      "/usr/local/lib/python3.5/dist-packages/statsmodels/tsa/base/tsa_model.py:171: ValueWarning: No frequency information was provided, so inferred frequency H will be used.\n",
      "  % freq, ValueWarning)\n",
      "/usr/local/lib/python3.5/dist-packages/statsmodels/tsa/base/tsa_model.py:171: ValueWarning: No frequency information was provided, so inferred frequency H will be used.\n",
      "  % freq, ValueWarning)\n",
      "/usr/local/lib/python3.5/dist-packages/statsmodels/tsa/base/tsa_model.py:171: ValueWarning: No frequency information was provided, so inferred frequency H will be used.\n",
      "  % freq, ValueWarning)\n"
     ]
    },
    {
     "name": "stdout",
     "output_type": "stream",
     "text": [
      "V5R 0B3 model not created\n",
      "V5R 1G5 model not created\n",
      "V5R 1G9 model not created\n",
      "V5R 1M4 model not created\n"
     ]
    },
    {
     "name": "stderr",
     "output_type": "stream",
     "text": [
      "/usr/local/lib/python3.5/dist-packages/statsmodels/tsa/base/tsa_model.py:171: ValueWarning: No frequency information was provided, so inferred frequency H will be used.\n",
      "  % freq, ValueWarning)\n",
      "/usr/local/lib/python3.5/dist-packages/statsmodels/tsa/base/tsa_model.py:171: ValueWarning: No frequency information was provided, so inferred frequency H will be used.\n",
      "  % freq, ValueWarning)\n",
      "/usr/local/lib/python3.5/dist-packages/statsmodels/tsa/base/tsa_model.py:171: ValueWarning: No frequency information was provided, so inferred frequency H will be used.\n",
      "  % freq, ValueWarning)\n",
      "/usr/local/lib/python3.5/dist-packages/statsmodels/tsa/base/tsa_model.py:171: ValueWarning: No frequency information was provided, so inferred frequency H will be used.\n",
      "  % freq, ValueWarning)\n",
      "/usr/local/lib/python3.5/dist-packages/statsmodels/tsa/base/tsa_model.py:171: ValueWarning: No frequency information was provided, so inferred frequency H will be used.\n",
      "  % freq, ValueWarning)\n",
      "/usr/local/lib/python3.5/dist-packages/statsmodels/tsa/base/tsa_model.py:171: ValueWarning: No frequency information was provided, so inferred frequency H will be used.\n",
      "  % freq, ValueWarning)\n",
      "/usr/local/lib/python3.5/dist-packages/statsmodels/tsa/base/tsa_model.py:171: ValueWarning: No frequency information was provided, so inferred frequency H will be used.\n",
      "  % freq, ValueWarning)\n",
      "/usr/local/lib/python3.5/dist-packages/statsmodels/tsa/base/tsa_model.py:171: ValueWarning: No frequency information was provided, so inferred frequency H will be used.\n",
      "  % freq, ValueWarning)\n"
     ]
    },
    {
     "name": "stdout",
     "output_type": "stream",
     "text": [
      "V5R 1R8 model not created\n",
      "V5R 2A1 model not created\n",
      "V5R 2B9 model not created\n",
      "V5R 2G3 model not created\n",
      "V5R 2H8 model not created\n",
      "V5R 2H9 model not created\n"
     ]
    },
    {
     "name": "stderr",
     "output_type": "stream",
     "text": [
      "/usr/local/lib/python3.5/dist-packages/statsmodels/tsa/base/tsa_model.py:171: ValueWarning: No frequency information was provided, so inferred frequency H will be used.\n",
      "  % freq, ValueWarning)\n",
      "/usr/local/lib/python3.5/dist-packages/statsmodels/tsa/base/tsa_model.py:171: ValueWarning: No frequency information was provided, so inferred frequency H will be used.\n",
      "  % freq, ValueWarning)\n",
      "/usr/local/lib/python3.5/dist-packages/statsmodels/tsa/base/tsa_model.py:171: ValueWarning: No frequency information was provided, so inferred frequency H will be used.\n",
      "  % freq, ValueWarning)\n",
      "/usr/local/lib/python3.5/dist-packages/statsmodels/tsa/base/tsa_model.py:171: ValueWarning: No frequency information was provided, so inferred frequency H will be used.\n",
      "  % freq, ValueWarning)\n",
      "/usr/local/lib/python3.5/dist-packages/statsmodels/tsa/base/tsa_model.py:171: ValueWarning: No frequency information was provided, so inferred frequency H will be used.\n",
      "  % freq, ValueWarning)\n",
      "/usr/local/lib/python3.5/dist-packages/statsmodels/tsa/base/tsa_model.py:171: ValueWarning: No frequency information was provided, so inferred frequency H will be used.\n",
      "  % freq, ValueWarning)\n",
      "/usr/local/lib/python3.5/dist-packages/statsmodels/tsa/base/tsa_model.py:171: ValueWarning: No frequency information was provided, so inferred frequency H will be used.\n",
      "  % freq, ValueWarning)\n",
      "/usr/local/lib/python3.5/dist-packages/statsmodels/tsa/base/tsa_model.py:171: ValueWarning: No frequency information was provided, so inferred frequency H will be used.\n",
      "  % freq, ValueWarning)\n",
      "/usr/local/lib/python3.5/dist-packages/statsmodels/tsa/base/tsa_model.py:171: ValueWarning: No frequency information was provided, so inferred frequency H will be used.\n",
      "  % freq, ValueWarning)\n",
      "/usr/local/lib/python3.5/dist-packages/statsmodels/tsa/base/tsa_model.py:171: ValueWarning: No frequency information was provided, so inferred frequency H will be used.\n",
      "  % freq, ValueWarning)\n",
      "/usr/local/lib/python3.5/dist-packages/statsmodels/tsa/base/tsa_model.py:171: ValueWarning: No frequency information was provided, so inferred frequency H will be used.\n",
      "  % freq, ValueWarning)\n",
      "/usr/local/lib/python3.5/dist-packages/statsmodels/tsa/base/tsa_model.py:171: ValueWarning: No frequency information was provided, so inferred frequency H will be used.\n",
      "  % freq, ValueWarning)\n",
      "/usr/local/lib/python3.5/dist-packages/statsmodels/tsa/base/tsa_model.py:171: ValueWarning: No frequency information was provided, so inferred frequency H will be used.\n",
      "  % freq, ValueWarning)\n",
      "/usr/local/lib/python3.5/dist-packages/statsmodels/tsa/base/tsa_model.py:171: ValueWarning: No frequency information was provided, so inferred frequency H will be used.\n",
      "  % freq, ValueWarning)\n"
     ]
    },
    {
     "name": "stdout",
     "output_type": "stream",
     "text": [
      "V5R 2V5 model not created\n",
      "V5R 3A2 model not created\n",
      "V5R 3A6 model not created\n",
      "V5R 3A8 model not created\n",
      "V5R 3C4 model not created\n",
      "V5R 3E1 model not created\n",
      "V5R 3E3 model not created\n",
      "V5R 3K5 model not created\n",
      "V5R 3L3 model not created\n",
      "V5R 3M7 model not created\n",
      "V5R 3T7 model not created\n",
      "V5R 3W4 model not created\n",
      "V5R 3Y6 model not created\n"
     ]
    },
    {
     "name": "stderr",
     "output_type": "stream",
     "text": [
      "/usr/local/lib/python3.5/dist-packages/statsmodels/tsa/base/tsa_model.py:171: ValueWarning: No frequency information was provided, so inferred frequency H will be used.\n",
      "  % freq, ValueWarning)\n",
      "/usr/local/lib/python3.5/dist-packages/statsmodels/tsa/base/tsa_model.py:171: ValueWarning: No frequency information was provided, so inferred frequency H will be used.\n",
      "  % freq, ValueWarning)\n",
      "/usr/local/lib/python3.5/dist-packages/statsmodels/tsa/base/tsa_model.py:171: ValueWarning: No frequency information was provided, so inferred frequency H will be used.\n",
      "  % freq, ValueWarning)\n",
      "/usr/local/lib/python3.5/dist-packages/statsmodels/tsa/base/tsa_model.py:171: ValueWarning: No frequency information was provided, so inferred frequency H will be used.\n",
      "  % freq, ValueWarning)\n",
      "/usr/local/lib/python3.5/dist-packages/statsmodels/tsa/base/tsa_model.py:171: ValueWarning: No frequency information was provided, so inferred frequency H will be used.\n",
      "  % freq, ValueWarning)\n",
      "/usr/local/lib/python3.5/dist-packages/statsmodels/tsa/base/tsa_model.py:171: ValueWarning: No frequency information was provided, so inferred frequency H will be used.\n",
      "  % freq, ValueWarning)\n",
      "/usr/local/lib/python3.5/dist-packages/statsmodels/tsa/base/tsa_model.py:171: ValueWarning: No frequency information was provided, so inferred frequency H will be used.\n",
      "  % freq, ValueWarning)\n",
      "/usr/local/lib/python3.5/dist-packages/statsmodels/tsa/base/tsa_model.py:171: ValueWarning: No frequency information was provided, so inferred frequency H will be used.\n",
      "  % freq, ValueWarning)\n",
      "/usr/local/lib/python3.5/dist-packages/statsmodels/tsa/base/tsa_model.py:171: ValueWarning: No frequency information was provided, so inferred frequency H will be used.\n",
      "  % freq, ValueWarning)\n",
      "/usr/local/lib/python3.5/dist-packages/statsmodels/tsa/base/tsa_model.py:171: ValueWarning: No frequency information was provided, so inferred frequency H will be used.\n",
      "  % freq, ValueWarning)\n",
      "/usr/local/lib/python3.5/dist-packages/statsmodels/tsa/base/tsa_model.py:171: ValueWarning: No frequency information was provided, so inferred frequency H will be used.\n",
      "  % freq, ValueWarning)\n",
      "/usr/local/lib/python3.5/dist-packages/statsmodels/tsa/base/tsa_model.py:171: ValueWarning: No frequency information was provided, so inferred frequency H will be used.\n",
      "  % freq, ValueWarning)\n",
      "/usr/local/lib/python3.5/dist-packages/statsmodels/tsa/base/tsa_model.py:171: ValueWarning: No frequency information was provided, so inferred frequency H will be used.\n",
      "  % freq, ValueWarning)\n",
      "/usr/local/lib/python3.5/dist-packages/statsmodels/tsa/base/tsa_model.py:171: ValueWarning: No frequency information was provided, so inferred frequency H will be used.\n",
      "  % freq, ValueWarning)\n"
     ]
    },
    {
     "name": "stdout",
     "output_type": "stream",
     "text": [
      "V5R 4B1 model not created\n",
      "V5R 4G8 model not created\n",
      "V5R 4H4 model not created\n",
      "V5R 4K2 model not created\n",
      "V5R 4L6 model not created\n",
      "V5R 4N5 model not created\n",
      "V5R 4P3 model not created\n",
      "V5R 4Z4 model not created\n",
      "V5R 5A6 model not created\n",
      "V5R 5B5 model not created\n",
      "V5R 5C7 model not created\n",
      "V5R 5E1 model not created\n",
      "V5R 5G5 model not created\n"
     ]
    },
    {
     "name": "stderr",
     "output_type": "stream",
     "text": [
      "/usr/local/lib/python3.5/dist-packages/statsmodels/tsa/base/tsa_model.py:171: ValueWarning: No frequency information was provided, so inferred frequency H will be used.\n",
      "  % freq, ValueWarning)\n",
      "/usr/local/lib/python3.5/dist-packages/statsmodels/tsa/base/tsa_model.py:171: ValueWarning: No frequency information was provided, so inferred frequency H will be used.\n",
      "  % freq, ValueWarning)\n",
      "/usr/local/lib/python3.5/dist-packages/statsmodels/tsa/base/tsa_model.py:171: ValueWarning: No frequency information was provided, so inferred frequency H will be used.\n",
      "  % freq, ValueWarning)\n",
      "/usr/local/lib/python3.5/dist-packages/statsmodels/tsa/base/tsa_model.py:171: ValueWarning: No frequency information was provided, so inferred frequency H will be used.\n",
      "  % freq, ValueWarning)\n",
      "/usr/local/lib/python3.5/dist-packages/statsmodels/tsa/base/tsa_model.py:171: ValueWarning: No frequency information was provided, so inferred frequency H will be used.\n",
      "  % freq, ValueWarning)\n",
      "/usr/local/lib/python3.5/dist-packages/statsmodels/tsa/base/tsa_model.py:171: ValueWarning: No frequency information was provided, so inferred frequency H will be used.\n",
      "  % freq, ValueWarning)\n",
      "/usr/local/lib/python3.5/dist-packages/statsmodels/tsa/base/tsa_model.py:171: ValueWarning: No frequency information was provided, so inferred frequency H will be used.\n",
      "  % freq, ValueWarning)\n"
     ]
    },
    {
     "name": "stdout",
     "output_type": "stream",
     "text": [
      "V5R 5H2 model not created\n",
      "V5R 5H3 model not created\n",
      "V5R 5H7 model not created\n",
      "V5R 5J8 model not created\n",
      "V5R 5K4 model not created\n"
     ]
    },
    {
     "name": "stderr",
     "output_type": "stream",
     "text": [
      "/usr/local/lib/python3.5/dist-packages/statsmodels/tsa/base/tsa_model.py:171: ValueWarning: No frequency information was provided, so inferred frequency H will be used.\n",
      "  % freq, ValueWarning)\n",
      "/usr/local/lib/python3.5/dist-packages/statsmodels/tsa/base/tsa_model.py:171: ValueWarning: No frequency information was provided, so inferred frequency H will be used.\n",
      "  % freq, ValueWarning)\n"
     ]
    },
    {
     "name": "stdout",
     "output_type": "stream",
     "text": [
      "V5R 5K7 model not created\n"
     ]
    },
    {
     "name": "stderr",
     "output_type": "stream",
     "text": [
      "/usr/local/lib/python3.5/dist-packages/statsmodels/base/model.py:508: ConvergenceWarning: Maximum Likelihood optimization failed to converge. Check mle_retvals\n",
      "  \"Check mle_retvals\", ConvergenceWarning)\n",
      "/usr/local/lib/python3.5/dist-packages/statsmodels/tsa/base/tsa_model.py:171: ValueWarning: No frequency information was provided, so inferred frequency H will be used.\n",
      "  % freq, ValueWarning)\n",
      "/usr/local/lib/python3.5/dist-packages/statsmodels/tsa/base/tsa_model.py:171: ValueWarning: No frequency information was provided, so inferred frequency H will be used.\n",
      "  % freq, ValueWarning)\n",
      "/usr/local/lib/python3.5/dist-packages/statsmodels/tsa/base/tsa_model.py:171: ValueWarning: No frequency information was provided, so inferred frequency H will be used.\n",
      "  % freq, ValueWarning)\n"
     ]
    },
    {
     "name": "stdout",
     "output_type": "stream",
     "text": [
      "V5R 5L2 model not created\n",
      "V5R 5L3 model not created\n"
     ]
    },
    {
     "name": "stderr",
     "output_type": "stream",
     "text": [
      "/usr/local/lib/python3.5/dist-packages/statsmodels/tsa/base/tsa_model.py:171: ValueWarning: No frequency information was provided, so inferred frequency H will be used.\n",
      "  % freq, ValueWarning)\n",
      "/usr/local/lib/python3.5/dist-packages/statsmodels/tsa/base/tsa_model.py:171: ValueWarning: No frequency information was provided, so inferred frequency H will be used.\n",
      "  % freq, ValueWarning)\n",
      "/usr/local/lib/python3.5/dist-packages/statsmodels/base/model.py:508: ConvergenceWarning: Maximum Likelihood optimization failed to converge. Check mle_retvals\n",
      "  \"Check mle_retvals\", ConvergenceWarning)\n",
      "/usr/local/lib/python3.5/dist-packages/statsmodels/tsa/base/tsa_model.py:171: ValueWarning: No frequency information was provided, so inferred frequency H will be used.\n",
      "  % freq, ValueWarning)\n",
      "/usr/local/lib/python3.5/dist-packages/statsmodels/tsa/base/tsa_model.py:171: ValueWarning: No frequency information was provided, so inferred frequency H will be used.\n",
      "  % freq, ValueWarning)\n",
      "/usr/local/lib/python3.5/dist-packages/statsmodels/tsa/base/tsa_model.py:171: ValueWarning: No frequency information was provided, so inferred frequency H will be used.\n",
      "  % freq, ValueWarning)\n"
     ]
    },
    {
     "name": "stdout",
     "output_type": "stream",
     "text": [
      "V5R 5L9 model not created\n",
      "V5R 5N9 model not created\n"
     ]
    },
    {
     "name": "stderr",
     "output_type": "stream",
     "text": [
      "/usr/local/lib/python3.5/dist-packages/statsmodels/tsa/base/tsa_model.py:171: ValueWarning: No frequency information was provided, so inferred frequency H will be used.\n",
      "  % freq, ValueWarning)\n",
      "/usr/local/lib/python3.5/dist-packages/statsmodels/tsa/base/tsa_model.py:171: ValueWarning: No frequency information was provided, so inferred frequency H will be used.\n",
      "  % freq, ValueWarning)\n",
      "/usr/local/lib/python3.5/dist-packages/statsmodels/tsa/base/tsa_model.py:171: ValueWarning: No frequency information was provided, so inferred frequency H will be used.\n",
      "  % freq, ValueWarning)\n",
      "/usr/local/lib/python3.5/dist-packages/statsmodels/tsa/base/tsa_model.py:171: ValueWarning: No frequency information was provided, so inferred frequency H will be used.\n",
      "  % freq, ValueWarning)\n",
      "/usr/local/lib/python3.5/dist-packages/statsmodels/tsa/base/tsa_model.py:171: ValueWarning: No frequency information was provided, so inferred frequency H will be used.\n",
      "  % freq, ValueWarning)\n",
      "/usr/local/lib/python3.5/dist-packages/statsmodels/tsa/base/tsa_model.py:171: ValueWarning: No frequency information was provided, so inferred frequency H will be used.\n",
      "  % freq, ValueWarning)\n"
     ]
    },
    {
     "name": "stdout",
     "output_type": "stream",
     "text": [
      "V5R 5X4 model not created\n",
      "V5R 5Y7 model not created\n",
      "V5R 6B9 model not created\n",
      "V5R 6C2 model not created\n",
      "V5R 6G1 model not created\n"
     ]
    },
    {
     "name": "stderr",
     "output_type": "stream",
     "text": [
      "/usr/local/lib/python3.5/dist-packages/statsmodels/tsa/base/tsa_model.py:171: ValueWarning: No frequency information was provided, so inferred frequency H will be used.\n",
      "  % freq, ValueWarning)\n",
      "/usr/local/lib/python3.5/dist-packages/statsmodels/tsa/base/tsa_model.py:171: ValueWarning: No frequency information was provided, so inferred frequency H will be used.\n",
      "  % freq, ValueWarning)\n",
      "/usr/local/lib/python3.5/dist-packages/statsmodels/base/model.py:508: ConvergenceWarning: Maximum Likelihood optimization failed to converge. Check mle_retvals\n",
      "  \"Check mle_retvals\", ConvergenceWarning)\n",
      "/usr/local/lib/python3.5/dist-packages/statsmodels/tsa/base/tsa_model.py:171: ValueWarning: No frequency information was provided, so inferred frequency H will be used.\n",
      "  % freq, ValueWarning)\n",
      "/usr/local/lib/python3.5/dist-packages/statsmodels/tsa/base/tsa_model.py:171: ValueWarning: No frequency information was provided, so inferred frequency H will be used.\n",
      "  % freq, ValueWarning)\n"
     ]
    },
    {
     "name": "stdout",
     "output_type": "stream",
     "text": [
      "V5R 6H6 model not created\n",
      "V5R 6H8 model not created\n"
     ]
    },
    {
     "name": "stderr",
     "output_type": "stream",
     "text": [
      "/usr/local/lib/python3.5/dist-packages/statsmodels/tsa/base/tsa_model.py:171: ValueWarning: No frequency information was provided, so inferred frequency H will be used.\n",
      "  % freq, ValueWarning)\n",
      "/usr/local/lib/python3.5/dist-packages/statsmodels/tsa/base/tsa_model.py:171: ValueWarning: No frequency information was provided, so inferred frequency H will be used.\n",
      "  % freq, ValueWarning)\n",
      "/usr/local/lib/python3.5/dist-packages/statsmodels/tsa/base/tsa_model.py:171: ValueWarning: No frequency information was provided, so inferred frequency H will be used.\n",
      "  % freq, ValueWarning)\n",
      "/usr/local/lib/python3.5/dist-packages/statsmodels/tsa/base/tsa_model.py:171: ValueWarning: No frequency information was provided, so inferred frequency H will be used.\n",
      "  % freq, ValueWarning)\n",
      "/usr/local/lib/python3.5/dist-packages/statsmodels/tsa/base/tsa_model.py:171: ValueWarning: No frequency information was provided, so inferred frequency H will be used.\n",
      "  % freq, ValueWarning)\n",
      "/usr/local/lib/python3.5/dist-packages/statsmodels/tsa/base/tsa_model.py:171: ValueWarning: No frequency information was provided, so inferred frequency H will be used.\n",
      "  % freq, ValueWarning)\n",
      "/usr/local/lib/python3.5/dist-packages/statsmodels/tsa/base/tsa_model.py:171: ValueWarning: No frequency information was provided, so inferred frequency H will be used.\n",
      "  % freq, ValueWarning)\n",
      "/usr/local/lib/python3.5/dist-packages/statsmodels/tsa/base/tsa_model.py:171: ValueWarning: No frequency information was provided, so inferred frequency H will be used.\n",
      "  % freq, ValueWarning)\n",
      "/usr/local/lib/python3.5/dist-packages/statsmodels/tsa/base/tsa_model.py:171: ValueWarning: No frequency information was provided, so inferred frequency H will be used.\n",
      "  % freq, ValueWarning)\n",
      "/usr/local/lib/python3.5/dist-packages/statsmodels/tsa/base/tsa_model.py:171: ValueWarning: No frequency information was provided, so inferred frequency H will be used.\n",
      "  % freq, ValueWarning)\n"
     ]
    },
    {
     "name": "stdout",
     "output_type": "stream",
     "text": [
      "V5S 1H9 model not created\n",
      "V5S 1P3 model not created\n",
      "V5S 1Z7 model not created\n",
      "V5S 2B7 model not created\n",
      "V5S 3B8 model not created\n",
      "V5S 3G7 model not created\n",
      "V5S 3J7 model not created\n",
      "V5S 3Y3 model not created\n"
     ]
    },
    {
     "name": "stderr",
     "output_type": "stream",
     "text": [
      "/usr/local/lib/python3.5/dist-packages/statsmodels/tsa/base/tsa_model.py:171: ValueWarning: No frequency information was provided, so inferred frequency H will be used.\n",
      "  % freq, ValueWarning)\n",
      "/usr/local/lib/python3.5/dist-packages/statsmodels/tsa/base/tsa_model.py:171: ValueWarning: No frequency information was provided, so inferred frequency H will be used.\n",
      "  % freq, ValueWarning)\n",
      "/usr/local/lib/python3.5/dist-packages/statsmodels/tsa/base/tsa_model.py:171: ValueWarning: No frequency information was provided, so inferred frequency H will be used.\n",
      "  % freq, ValueWarning)\n",
      "/usr/local/lib/python3.5/dist-packages/statsmodels/tsa/base/tsa_model.py:171: ValueWarning: No frequency information was provided, so inferred frequency H will be used.\n",
      "  % freq, ValueWarning)\n",
      "/usr/local/lib/python3.5/dist-packages/statsmodels/tsa/base/tsa_model.py:171: ValueWarning: No frequency information was provided, so inferred frequency H will be used.\n",
      "  % freq, ValueWarning)\n",
      "/usr/local/lib/python3.5/dist-packages/statsmodels/tsa/base/tsa_model.py:171: ValueWarning: No frequency information was provided, so inferred frequency H will be used.\n",
      "  % freq, ValueWarning)\n",
      "/usr/local/lib/python3.5/dist-packages/statsmodels/tsa/base/tsa_model.py:171: ValueWarning: No frequency information was provided, so inferred frequency H will be used.\n",
      "  % freq, ValueWarning)\n"
     ]
    },
    {
     "name": "stdout",
     "output_type": "stream",
     "text": [
      "V5S 4G1 model not created\n",
      "V5S 4G4 model not created\n",
      "V5S 4G5 model not created\n",
      "V5S 4K6 model not created\n",
      "V5S 4R3 model not created\n",
      "V5S 4V4 model not created\n"
     ]
    },
    {
     "name": "stderr",
     "output_type": "stream",
     "text": [
      "/usr/local/lib/python3.5/dist-packages/statsmodels/tsa/base/tsa_model.py:171: ValueWarning: No frequency information was provided, so inferred frequency H will be used.\n",
      "  % freq, ValueWarning)\n",
      "/usr/local/lib/python3.5/dist-packages/statsmodels/tsa/base/tsa_model.py:171: ValueWarning: No frequency information was provided, so inferred frequency H will be used.\n",
      "  % freq, ValueWarning)\n"
     ]
    },
    {
     "name": "stdout",
     "output_type": "stream",
     "text": [
      "V5T 0A3 model not created\n"
     ]
    },
    {
     "name": "stderr",
     "output_type": "stream",
     "text": [
      "/usr/local/lib/python3.5/dist-packages/statsmodels/tsa/base/tsa_model.py:171: ValueWarning: No frequency information was provided, so inferred frequency H will be used.\n",
      "  % freq, ValueWarning)\n",
      "/usr/local/lib/python3.5/dist-packages/statsmodels/tsa/base/tsa_model.py:171: ValueWarning: No frequency information was provided, so inferred frequency H will be used.\n",
      "  % freq, ValueWarning)\n"
     ]
    },
    {
     "name": "stdout",
     "output_type": "stream",
     "text": [
      "V5T 1A9 model not created\n"
     ]
    },
    {
     "name": "stderr",
     "output_type": "stream",
     "text": [
      "/usr/local/lib/python3.5/dist-packages/statsmodels/tsa/base/tsa_model.py:171: ValueWarning: No frequency information was provided, so inferred frequency H will be used.\n",
      "  % freq, ValueWarning)\n",
      "/usr/local/lib/python3.5/dist-packages/statsmodels/tsa/base/tsa_model.py:171: ValueWarning: No frequency information was provided, so inferred frequency H will be used.\n",
      "  % freq, ValueWarning)\n"
     ]
    },
    {
     "name": "stdout",
     "output_type": "stream",
     "text": [
      "V5T 1B8 model not created\n"
     ]
    },
    {
     "name": "stderr",
     "output_type": "stream",
     "text": [
      "/usr/local/lib/python3.5/dist-packages/statsmodels/tsa/base/tsa_model.py:171: ValueWarning: No frequency information was provided, so inferred frequency H will be used.\n",
      "  % freq, ValueWarning)\n",
      "/usr/local/lib/python3.5/dist-packages/statsmodels/tsa/base/tsa_model.py:171: ValueWarning: No frequency information was provided, so inferred frequency H will be used.\n",
      "  % freq, ValueWarning)\n"
     ]
    },
    {
     "name": "stdout",
     "output_type": "stream",
     "text": [
      "V5T 1E2 model not created\n"
     ]
    },
    {
     "name": "stderr",
     "output_type": "stream",
     "text": [
      "/usr/local/lib/python3.5/dist-packages/statsmodels/tsa/base/tsa_model.py:171: ValueWarning: No frequency information was provided, so inferred frequency H will be used.\n",
      "  % freq, ValueWarning)\n",
      "/usr/local/lib/python3.5/dist-packages/statsmodels/tsa/base/tsa_model.py:171: ValueWarning: No frequency information was provided, so inferred frequency H will be used.\n",
      "  % freq, ValueWarning)\n"
     ]
    },
    {
     "name": "stdout",
     "output_type": "stream",
     "text": [
      "V5T 1H3 model not created\n"
     ]
    },
    {
     "name": "stderr",
     "output_type": "stream",
     "text": [
      "/usr/local/lib/python3.5/dist-packages/statsmodels/tsa/base/tsa_model.py:171: ValueWarning: No frequency information was provided, so inferred frequency H will be used.\n",
      "  % freq, ValueWarning)\n",
      "/usr/local/lib/python3.5/dist-packages/statsmodels/tsa/base/tsa_model.py:171: ValueWarning: No frequency information was provided, so inferred frequency H will be used.\n",
      "  % freq, ValueWarning)\n",
      "/usr/local/lib/python3.5/dist-packages/statsmodels/tsa/base/tsa_model.py:171: ValueWarning: No frequency information was provided, so inferred frequency H will be used.\n",
      "  % freq, ValueWarning)\n",
      "/usr/local/lib/python3.5/dist-packages/statsmodels/tsa/base/tsa_model.py:171: ValueWarning: No frequency information was provided, so inferred frequency H will be used.\n",
      "  % freq, ValueWarning)\n",
      "/usr/local/lib/python3.5/dist-packages/statsmodels/tsa/base/tsa_model.py:171: ValueWarning: No frequency information was provided, so inferred frequency H will be used.\n",
      "  % freq, ValueWarning)\n",
      "/usr/local/lib/python3.5/dist-packages/statsmodels/tsa/base/tsa_model.py:171: ValueWarning: No frequency information was provided, so inferred frequency H will be used.\n",
      "  % freq, ValueWarning)\n",
      "/usr/local/lib/python3.5/dist-packages/statsmodels/tsa/base/tsa_model.py:171: ValueWarning: No frequency information was provided, so inferred frequency H will be used.\n",
      "  % freq, ValueWarning)\n"
     ]
    },
    {
     "name": "stdout",
     "output_type": "stream",
     "text": [
      "V5T 1J7 model not created\n",
      "V5T 1L3 model not created\n",
      "V5T 1M5 model not created\n",
      "V5T 1N9 model not created\n",
      "V5T 1P7 model not created\n"
     ]
    },
    {
     "name": "stderr",
     "output_type": "stream",
     "text": [
      "/usr/local/lib/python3.5/dist-packages/statsmodels/tsa/base/tsa_model.py:171: ValueWarning: No frequency information was provided, so inferred frequency H will be used.\n",
      "  % freq, ValueWarning)\n",
      "/usr/local/lib/python3.5/dist-packages/statsmodels/tsa/base/tsa_model.py:171: ValueWarning: No frequency information was provided, so inferred frequency H will be used.\n",
      "  % freq, ValueWarning)\n",
      "/usr/local/lib/python3.5/dist-packages/statsmodels/tsa/base/tsa_model.py:171: ValueWarning: No frequency information was provided, so inferred frequency H will be used.\n",
      "  % freq, ValueWarning)\n"
     ]
    },
    {
     "name": "stdout",
     "output_type": "stream",
     "text": [
      "V5T 1S2 model not created\n",
      "V5T 1S7 model not created\n"
     ]
    },
    {
     "name": "stderr",
     "output_type": "stream",
     "text": [
      "/usr/local/lib/python3.5/dist-packages/statsmodels/tsa/base/tsa_model.py:171: ValueWarning: No frequency information was provided, so inferred frequency H will be used.\n",
      "  % freq, ValueWarning)\n",
      "/usr/local/lib/python3.5/dist-packages/statsmodels/base/model.py:508: ConvergenceWarning: Maximum Likelihood optimization failed to converge. Check mle_retvals\n",
      "  \"Check mle_retvals\", ConvergenceWarning)\n",
      "/usr/local/lib/python3.5/dist-packages/statsmodels/tsa/base/tsa_model.py:171: ValueWarning: No frequency information was provided, so inferred frequency H will be used.\n",
      "  % freq, ValueWarning)\n",
      "/usr/local/lib/python3.5/dist-packages/statsmodels/tsa/base/tsa_model.py:171: ValueWarning: No frequency information was provided, so inferred frequency H will be used.\n",
      "  % freq, ValueWarning)\n",
      "/usr/local/lib/python3.5/dist-packages/statsmodels/tsa/base/tsa_model.py:171: ValueWarning: No frequency information was provided, so inferred frequency H will be used.\n",
      "  % freq, ValueWarning)\n",
      "/usr/local/lib/python3.5/dist-packages/statsmodels/tsa/base/tsa_model.py:171: ValueWarning: No frequency information was provided, so inferred frequency H will be used.\n",
      "  % freq, ValueWarning)\n"
     ]
    },
    {
     "name": "stdout",
     "output_type": "stream",
     "text": [
      "V5T 1Y4 model not created\n",
      "V5T 1Z8 model not created\n",
      "V5T 2B4 model not created\n"
     ]
    },
    {
     "name": "stderr",
     "output_type": "stream",
     "text": [
      "/usr/local/lib/python3.5/dist-packages/statsmodels/tsa/base/tsa_model.py:171: ValueWarning: No frequency information was provided, so inferred frequency H will be used.\n",
      "  % freq, ValueWarning)\n",
      "/usr/local/lib/python3.5/dist-packages/statsmodels/tsa/base/tsa_model.py:171: ValueWarning: No frequency information was provided, so inferred frequency H will be used.\n",
      "  % freq, ValueWarning)\n",
      "/usr/local/lib/python3.5/dist-packages/statsmodels/tsa/base/tsa_model.py:171: ValueWarning: No frequency information was provided, so inferred frequency H will be used.\n",
      "  % freq, ValueWarning)\n",
      "/usr/local/lib/python3.5/dist-packages/statsmodels/tsa/base/tsa_model.py:171: ValueWarning: No frequency information was provided, so inferred frequency H will be used.\n",
      "  % freq, ValueWarning)\n"
     ]
    },
    {
     "name": "stdout",
     "output_type": "stream",
     "text": [
      "V5T 2C6 model not created\n",
      "V5T 2E4 model not created\n",
      "V5T 2E5 model not created\n"
     ]
    },
    {
     "name": "stderr",
     "output_type": "stream",
     "text": [
      "/usr/local/lib/python3.5/dist-packages/statsmodels/base/model.py:508: ConvergenceWarning: Maximum Likelihood optimization failed to converge. Check mle_retvals\n",
      "  \"Check mle_retvals\", ConvergenceWarning)\n",
      "/usr/local/lib/python3.5/dist-packages/statsmodels/tsa/base/tsa_model.py:171: ValueWarning: No frequency information was provided, so inferred frequency H will be used.\n",
      "  % freq, ValueWarning)\n",
      "/usr/local/lib/python3.5/dist-packages/statsmodels/tsa/base/tsa_model.py:171: ValueWarning: No frequency information was provided, so inferred frequency H will be used.\n",
      "  % freq, ValueWarning)\n",
      "/usr/local/lib/python3.5/dist-packages/statsmodels/tsa/base/tsa_model.py:171: ValueWarning: No frequency information was provided, so inferred frequency H will be used.\n",
      "  % freq, ValueWarning)\n",
      "/usr/local/lib/python3.5/dist-packages/statsmodels/tsa/base/tsa_model.py:171: ValueWarning: No frequency information was provided, so inferred frequency H will be used.\n",
      "  % freq, ValueWarning)\n",
      "/usr/local/lib/python3.5/dist-packages/statsmodels/tsa/base/tsa_model.py:171: ValueWarning: No frequency information was provided, so inferred frequency H will be used.\n",
      "  % freq, ValueWarning)\n",
      "/usr/local/lib/python3.5/dist-packages/statsmodels/tsa/base/tsa_model.py:171: ValueWarning: No frequency information was provided, so inferred frequency H will be used.\n",
      "  % freq, ValueWarning)\n",
      "/usr/local/lib/python3.5/dist-packages/statsmodels/tsa/base/tsa_model.py:171: ValueWarning: No frequency information was provided, so inferred frequency H will be used.\n",
      "  % freq, ValueWarning)\n",
      "/usr/local/lib/python3.5/dist-packages/statsmodels/tsa/base/tsa_model.py:171: ValueWarning: No frequency information was provided, so inferred frequency H will be used.\n",
      "  % freq, ValueWarning)\n",
      "/usr/local/lib/python3.5/dist-packages/statsmodels/tsa/base/tsa_model.py:171: ValueWarning: No frequency information was provided, so inferred frequency H will be used.\n",
      "  % freq, ValueWarning)\n"
     ]
    },
    {
     "name": "stdout",
     "output_type": "stream",
     "text": [
      "V5T 2L4 model not created\n",
      "V5T 2M1 model not created\n",
      "V5T 2M6 model not created\n",
      "V5T 2N4 model not created\n",
      "V5T 2P3 model not created\n",
      "V5T 2R1 model not created\n",
      "V5T 2R4 model not created\n"
     ]
    },
    {
     "name": "stderr",
     "output_type": "stream",
     "text": [
      "/usr/local/lib/python3.5/dist-packages/statsmodels/tsa/base/tsa_model.py:171: ValueWarning: No frequency information was provided, so inferred frequency H will be used.\n",
      "  % freq, ValueWarning)\n",
      "/usr/local/lib/python3.5/dist-packages/statsmodels/tsa/base/tsa_model.py:171: ValueWarning: No frequency information was provided, so inferred frequency H will be used.\n",
      "  % freq, ValueWarning)\n",
      "/usr/local/lib/python3.5/dist-packages/statsmodels/tsa/base/tsa_model.py:171: ValueWarning: No frequency information was provided, so inferred frequency H will be used.\n",
      "  % freq, ValueWarning)\n",
      "/usr/local/lib/python3.5/dist-packages/statsmodels/tsa/base/tsa_model.py:171: ValueWarning: No frequency information was provided, so inferred frequency H will be used.\n",
      "  % freq, ValueWarning)\n"
     ]
    },
    {
     "name": "stdout",
     "output_type": "stream",
     "text": [
      "V5T 2S9 model not created\n",
      "V5T 2V2 model not created\n",
      "V5T 2V7 model not created\n"
     ]
    },
    {
     "name": "stderr",
     "output_type": "stream",
     "text": [
      "/usr/local/lib/python3.5/dist-packages/statsmodels/tsa/base/tsa_model.py:171: ValueWarning: No frequency information was provided, so inferred frequency H will be used.\n",
      "  % freq, ValueWarning)\n",
      "/usr/local/lib/python3.5/dist-packages/statsmodels/tsa/base/tsa_model.py:171: ValueWarning: No frequency information was provided, so inferred frequency H will be used.\n",
      "  % freq, ValueWarning)\n",
      "/usr/local/lib/python3.5/dist-packages/statsmodels/tsa/base/tsa_model.py:171: ValueWarning: No frequency information was provided, so inferred frequency H will be used.\n",
      "  % freq, ValueWarning)\n",
      "/usr/local/lib/python3.5/dist-packages/statsmodels/tsa/base/tsa_model.py:171: ValueWarning: No frequency information was provided, so inferred frequency H will be used.\n",
      "  % freq, ValueWarning)\n",
      "/usr/local/lib/python3.5/dist-packages/statsmodels/tsa/base/tsa_model.py:171: ValueWarning: No frequency information was provided, so inferred frequency H will be used.\n",
      "  % freq, ValueWarning)\n",
      "/usr/local/lib/python3.5/dist-packages/statsmodels/tsa/base/tsa_model.py:171: ValueWarning: No frequency information was provided, so inferred frequency H will be used.\n",
      "  % freq, ValueWarning)\n"
     ]
    },
    {
     "name": "stdout",
     "output_type": "stream",
     "text": [
      "V5T 3A6 model not created\n",
      "V5T 3A8 model not created\n",
      "V5T 3C7 model not created\n",
      "V5T 3H7 model not created\n",
      "V5T 3J6 model not created\n"
     ]
    },
    {
     "name": "stderr",
     "output_type": "stream",
     "text": [
      "/usr/local/lib/python3.5/dist-packages/statsmodels/tsa/base/tsa_model.py:171: ValueWarning: No frequency information was provided, so inferred frequency H will be used.\n",
      "  % freq, ValueWarning)\n",
      "/usr/local/lib/python3.5/dist-packages/statsmodels/tsa/base/tsa_model.py:171: ValueWarning: No frequency information was provided, so inferred frequency H will be used.\n",
      "  % freq, ValueWarning)\n",
      "/usr/local/lib/python3.5/dist-packages/statsmodels/tsa/base/tsa_model.py:171: ValueWarning: No frequency information was provided, so inferred frequency H will be used.\n",
      "  % freq, ValueWarning)\n",
      "/usr/local/lib/python3.5/dist-packages/statsmodels/tsa/base/tsa_model.py:171: ValueWarning: No frequency information was provided, so inferred frequency H will be used.\n",
      "  % freq, ValueWarning)\n",
      "/usr/local/lib/python3.5/dist-packages/statsmodels/tsa/base/tsa_model.py:171: ValueWarning: No frequency information was provided, so inferred frequency H will be used.\n",
      "  % freq, ValueWarning)\n",
      "/usr/local/lib/python3.5/dist-packages/statsmodels/tsa/base/tsa_model.py:171: ValueWarning: No frequency information was provided, so inferred frequency H will be used.\n",
      "  % freq, ValueWarning)\n",
      "/usr/local/lib/python3.5/dist-packages/statsmodels/tsa/base/tsa_model.py:171: ValueWarning: No frequency information was provided, so inferred frequency H will be used.\n",
      "  % freq, ValueWarning)\n",
      "/usr/local/lib/python3.5/dist-packages/statsmodels/tsa/base/tsa_model.py:171: ValueWarning: No frequency information was provided, so inferred frequency H will be used.\n",
      "  % freq, ValueWarning)\n",
      "/usr/local/lib/python3.5/dist-packages/statsmodels/tsa/base/tsa_model.py:171: ValueWarning: No frequency information was provided, so inferred frequency H will be used.\n",
      "  % freq, ValueWarning)\n",
      "/usr/local/lib/python3.5/dist-packages/statsmodels/tsa/base/tsa_model.py:171: ValueWarning: No frequency information was provided, so inferred frequency H will be used.\n",
      "  % freq, ValueWarning)\n",
      "/usr/local/lib/python3.5/dist-packages/statsmodels/tsa/base/tsa_model.py:171: ValueWarning: No frequency information was provided, so inferred frequency H will be used.\n",
      "  % freq, ValueWarning)\n",
      "/usr/local/lib/python3.5/dist-packages/statsmodels/tsa/base/tsa_model.py:171: ValueWarning: No frequency information was provided, so inferred frequency H will be used.\n",
      "  % freq, ValueWarning)\n",
      "/usr/local/lib/python3.5/dist-packages/statsmodels/tsa/base/tsa_model.py:171: ValueWarning: No frequency information was provided, so inferred frequency H will be used.\n",
      "  % freq, ValueWarning)\n",
      "/usr/local/lib/python3.5/dist-packages/statsmodels/tsa/base/tsa_model.py:171: ValueWarning: No frequency information was provided, so inferred frequency H will be used.\n",
      "  % freq, ValueWarning)\n",
      "/usr/local/lib/python3.5/dist-packages/statsmodels/tsa/base/tsa_model.py:171: ValueWarning: No frequency information was provided, so inferred frequency H will be used.\n",
      "  % freq, ValueWarning)\n",
      "/usr/local/lib/python3.5/dist-packages/statsmodels/tsa/base/tsa_model.py:171: ValueWarning: No frequency information was provided, so inferred frequency H will be used.\n",
      "  % freq, ValueWarning)\n"
     ]
    },
    {
     "name": "stdout",
     "output_type": "stream",
     "text": [
      "V5T 3K9 model not created\n",
      "V5T 3L1 model not created\n",
      "V5T 3L7 model not created\n",
      "V5T 3R2 model not created\n",
      "V5T 3R7 model not created\n",
      "V5T 3S6 model not created\n",
      "V5T 3T3 model not created\n",
      "V5T 3V2 model not created\n",
      "V5T 3W2 model not created\n",
      "V5T 3X2 model not created\n",
      "V5T 3Y3 model not created\n",
      "V5T 3Y5 model not created\n",
      "V5T 3Z5 model not created\n",
      "V5T 3Z9 model not created\n"
     ]
    },
    {
     "name": "stderr",
     "output_type": "stream",
     "text": [
      "/usr/local/lib/python3.5/dist-packages/statsmodels/tsa/base/tsa_model.py:171: ValueWarning: No frequency information was provided, so inferred frequency H will be used.\n",
      "  % freq, ValueWarning)\n",
      "/usr/local/lib/python3.5/dist-packages/statsmodels/tsa/base/tsa_model.py:171: ValueWarning: No frequency information was provided, so inferred frequency H will be used.\n",
      "  % freq, ValueWarning)\n",
      "/usr/local/lib/python3.5/dist-packages/statsmodels/tsa/base/tsa_model.py:171: ValueWarning: No frequency information was provided, so inferred frequency H will be used.\n",
      "  % freq, ValueWarning)\n"
     ]
    },
    {
     "name": "stdout",
     "output_type": "stream",
     "text": [
      "V5T 4P2 model not created\n"
     ]
    },
    {
     "name": "stderr",
     "output_type": "stream",
     "text": [
      "/usr/local/lib/python3.5/dist-packages/statsmodels/tsa/base/tsa_model.py:171: ValueWarning: No frequency information was provided, so inferred frequency H will be used.\n",
      "  % freq, ValueWarning)\n",
      "/usr/local/lib/python3.5/dist-packages/statsmodels/tsa/base/tsa_model.py:171: ValueWarning: No frequency information was provided, so inferred frequency H will be used.\n",
      "  % freq, ValueWarning)\n",
      "/usr/local/lib/python3.5/dist-packages/statsmodels/tsa/base/tsa_model.py:171: ValueWarning: No frequency information was provided, so inferred frequency H will be used.\n",
      "  % freq, ValueWarning)\n"
     ]
    },
    {
     "name": "stdout",
     "output_type": "stream",
     "text": [
      "V5T 4T1 model not created\n",
      "V5T 4T3 model not created\n"
     ]
    },
    {
     "name": "stderr",
     "output_type": "stream",
     "text": [
      "/usr/local/lib/python3.5/dist-packages/statsmodels/tsa/base/tsa_model.py:171: ValueWarning: No frequency information was provided, so inferred frequency H will be used.\n",
      "  % freq, ValueWarning)\n",
      "/usr/local/lib/python3.5/dist-packages/statsmodels/tsa/base/tsa_model.py:171: ValueWarning: No frequency information was provided, so inferred frequency H will be used.\n",
      "  % freq, ValueWarning)\n",
      "/usr/local/lib/python3.5/dist-packages/statsmodels/tsa/base/tsa_model.py:171: ValueWarning: No frequency information was provided, so inferred frequency H will be used.\n",
      "  % freq, ValueWarning)\n"
     ]
    },
    {
     "name": "stdout",
     "output_type": "stream",
     "text": [
      "V5T 4V5 model not created\n",
      "V5T 4V9 model not created\n"
     ]
    },
    {
     "name": "stderr",
     "output_type": "stream",
     "text": [
      "/usr/local/lib/python3.5/dist-packages/statsmodels/tsa/base/tsa_model.py:171: ValueWarning: No frequency information was provided, so inferred frequency H will be used.\n",
      "  % freq, ValueWarning)\n",
      "/usr/local/lib/python3.5/dist-packages/statsmodels/tsa/base/tsa_model.py:171: ValueWarning: No frequency information was provided, so inferred frequency H will be used.\n",
      "  % freq, ValueWarning)\n",
      "/usr/local/lib/python3.5/dist-packages/statsmodels/tsa/base/tsa_model.py:171: ValueWarning: No frequency information was provided, so inferred frequency H will be used.\n",
      "  % freq, ValueWarning)\n",
      "/usr/local/lib/python3.5/dist-packages/statsmodels/tsa/base/tsa_model.py:171: ValueWarning: No frequency information was provided, so inferred frequency H will be used.\n",
      "  % freq, ValueWarning)\n",
      "/usr/local/lib/python3.5/dist-packages/statsmodels/tsa/base/tsa_model.py:171: ValueWarning: No frequency information was provided, so inferred frequency H will be used.\n",
      "  % freq, ValueWarning)\n",
      "/usr/local/lib/python3.5/dist-packages/statsmodels/tsa/base/tsa_model.py:171: ValueWarning: No frequency information was provided, so inferred frequency H will be used.\n",
      "  % freq, ValueWarning)\n",
      "/usr/local/lib/python3.5/dist-packages/statsmodels/tsa/base/tsa_model.py:171: ValueWarning: No frequency information was provided, so inferred frequency H will be used.\n",
      "  % freq, ValueWarning)\n",
      "/usr/local/lib/python3.5/dist-packages/statsmodels/tsa/base/tsa_model.py:171: ValueWarning: No frequency information was provided, so inferred frequency H will be used.\n",
      "  % freq, ValueWarning)\n",
      "/usr/local/lib/python3.5/dist-packages/statsmodels/tsa/base/tsa_model.py:171: ValueWarning: No frequency information was provided, so inferred frequency H will be used.\n",
      "  % freq, ValueWarning)\n",
      "/usr/local/lib/python3.5/dist-packages/statsmodels/tsa/base/tsa_model.py:171: ValueWarning: No frequency information was provided, so inferred frequency H will be used.\n",
      "  % freq, ValueWarning)\n",
      "/usr/local/lib/python3.5/dist-packages/statsmodels/tsa/base/tsa_model.py:171: ValueWarning: No frequency information was provided, so inferred frequency H will be used.\n",
      "  % freq, ValueWarning)\n",
      "/usr/local/lib/python3.5/dist-packages/statsmodels/tsa/base/tsa_model.py:171: ValueWarning: No frequency information was provided, so inferred frequency H will be used.\n",
      "  % freq, ValueWarning)\n",
      "/usr/local/lib/python3.5/dist-packages/statsmodels/tsa/base/tsa_model.py:171: ValueWarning: No frequency information was provided, so inferred frequency H will be used.\n",
      "  % freq, ValueWarning)\n",
      "/usr/local/lib/python3.5/dist-packages/statsmodels/tsa/base/tsa_model.py:171: ValueWarning: No frequency information was provided, so inferred frequency H will be used.\n",
      "  % freq, ValueWarning)\n",
      "/usr/local/lib/python3.5/dist-packages/statsmodels/tsa/base/tsa_model.py:171: ValueWarning: No frequency information was provided, so inferred frequency H will be used.\n",
      "  % freq, ValueWarning)\n"
     ]
    },
    {
     "name": "stdout",
     "output_type": "stream",
     "text": [
      "V5V 0E6 model not created\n",
      "V5V 1B1 model not created\n",
      "V5V 1G3 model not created\n",
      "V5V 1H1 model not created\n",
      "V5V 1R8 model not created\n",
      "V5V 1V6 model not created\n",
      "V5V 1Y2 model not created\n",
      "V5V 2C8 model not created\n",
      "V5V 2H7 model not created\n",
      "V5V 2J5 model not created\n",
      "V5V 2P1 model not created\n",
      "V5V 2R5 model not created\n",
      "V5V 2S2 model not created\n",
      "V5V 2S7 model not created\n"
     ]
    },
    {
     "name": "stderr",
     "output_type": "stream",
     "text": [
      "/usr/local/lib/python3.5/dist-packages/statsmodels/tsa/base/tsa_model.py:171: ValueWarning: No frequency information was provided, so inferred frequency H will be used.\n",
      "  % freq, ValueWarning)\n",
      "/usr/local/lib/python3.5/dist-packages/statsmodels/tsa/base/tsa_model.py:171: ValueWarning: No frequency information was provided, so inferred frequency H will be used.\n",
      "  % freq, ValueWarning)\n",
      "/usr/local/lib/python3.5/dist-packages/statsmodels/tsa/base/tsa_model.py:171: ValueWarning: No frequency information was provided, so inferred frequency H will be used.\n",
      "  % freq, ValueWarning)\n",
      "/usr/local/lib/python3.5/dist-packages/statsmodels/tsa/base/tsa_model.py:171: ValueWarning: No frequency information was provided, so inferred frequency H will be used.\n",
      "  % freq, ValueWarning)\n",
      "/usr/local/lib/python3.5/dist-packages/statsmodels/tsa/base/tsa_model.py:171: ValueWarning: No frequency information was provided, so inferred frequency H will be used.\n",
      "  % freq, ValueWarning)\n",
      "/usr/local/lib/python3.5/dist-packages/statsmodels/tsa/base/tsa_model.py:171: ValueWarning: No frequency information was provided, so inferred frequency H will be used.\n",
      "  % freq, ValueWarning)\n",
      "/usr/local/lib/python3.5/dist-packages/statsmodels/tsa/base/tsa_model.py:171: ValueWarning: No frequency information was provided, so inferred frequency H will be used.\n",
      "  % freq, ValueWarning)\n",
      "/usr/local/lib/python3.5/dist-packages/statsmodels/tsa/base/tsa_model.py:171: ValueWarning: No frequency information was provided, so inferred frequency H will be used.\n",
      "  % freq, ValueWarning)\n",
      "/usr/local/lib/python3.5/dist-packages/statsmodels/tsa/base/tsa_model.py:171: ValueWarning: No frequency information was provided, so inferred frequency H will be used.\n",
      "  % freq, ValueWarning)\n"
     ]
    },
    {
     "name": "stdout",
     "output_type": "stream",
     "text": [
      "V5V 2V3 model not created\n",
      "V5V 2V5 model not created\n",
      "V5V 2V6 model not created\n",
      "V5V 2W6 model not created\n",
      "V5V 2W8 model not created\n",
      "V5V 2X3 model not created\n",
      "V5V 2Y4 model not created\n",
      "V5V 2Z4 model not created\n"
     ]
    },
    {
     "name": "stderr",
     "output_type": "stream",
     "text": [
      "/usr/local/lib/python3.5/dist-packages/statsmodels/tsa/base/tsa_model.py:171: ValueWarning: No frequency information was provided, so inferred frequency H will be used.\n",
      "  % freq, ValueWarning)\n",
      "/usr/local/lib/python3.5/dist-packages/statsmodels/tsa/base/tsa_model.py:171: ValueWarning: No frequency information was provided, so inferred frequency H will be used.\n",
      "  % freq, ValueWarning)\n"
     ]
    },
    {
     "name": "stdout",
     "output_type": "stream",
     "text": [
      "V5V 3C8 model not created\n"
     ]
    },
    {
     "name": "stderr",
     "output_type": "stream",
     "text": [
      "/usr/local/lib/python3.5/dist-packages/statsmodels/tsa/base/tsa_model.py:171: ValueWarning: No frequency information was provided, so inferred frequency H will be used.\n",
      "  % freq, ValueWarning)\n",
      "/usr/local/lib/python3.5/dist-packages/statsmodels/tsa/base/tsa_model.py:171: ValueWarning: No frequency information was provided, so inferred frequency H will be used.\n",
      "  % freq, ValueWarning)\n",
      "/usr/local/lib/python3.5/dist-packages/statsmodels/tsa/base/tsa_model.py:171: ValueWarning: No frequency information was provided, so inferred frequency H will be used.\n",
      "  % freq, ValueWarning)\n",
      "/usr/local/lib/python3.5/dist-packages/statsmodels/tsa/base/tsa_model.py:171: ValueWarning: No frequency information was provided, so inferred frequency H will be used.\n",
      "  % freq, ValueWarning)\n"
     ]
    },
    {
     "name": "stdout",
     "output_type": "stream",
     "text": [
      "V5V 3E5 model not created\n",
      "V5V 3H4 model not created\n",
      "V5V 3J1 model not created\n"
     ]
    },
    {
     "name": "stderr",
     "output_type": "stream",
     "text": [
      "/usr/local/lib/python3.5/dist-packages/statsmodels/tsa/base/tsa_model.py:171: ValueWarning: No frequency information was provided, so inferred frequency H will be used.\n",
      "  % freq, ValueWarning)\n",
      "/usr/local/lib/python3.5/dist-packages/statsmodels/tsa/base/tsa_model.py:171: ValueWarning: No frequency information was provided, so inferred frequency H will be used.\n",
      "  % freq, ValueWarning)\n",
      "/usr/local/lib/python3.5/dist-packages/statsmodels/tsa/base/tsa_model.py:171: ValueWarning: No frequency information was provided, so inferred frequency H will be used.\n",
      "  % freq, ValueWarning)\n"
     ]
    },
    {
     "name": "stdout",
     "output_type": "stream",
     "text": [
      "V5V 3M8 model not created\n",
      "V5V 3N8 model not created\n"
     ]
    },
    {
     "name": "stderr",
     "output_type": "stream",
     "text": [
      "/usr/local/lib/python3.5/dist-packages/statsmodels/tsa/base/tsa_model.py:171: ValueWarning: No frequency information was provided, so inferred frequency H will be used.\n",
      "  % freq, ValueWarning)\n",
      "/usr/local/lib/python3.5/dist-packages/statsmodels/tsa/base/tsa_model.py:171: ValueWarning: No frequency information was provided, so inferred frequency H will be used.\n",
      "  % freq, ValueWarning)\n",
      "/usr/local/lib/python3.5/dist-packages/statsmodels/tsa/base/tsa_model.py:171: ValueWarning: No frequency information was provided, so inferred frequency H will be used.\n",
      "  % freq, ValueWarning)\n",
      "/usr/local/lib/python3.5/dist-packages/statsmodels/tsa/base/tsa_model.py:171: ValueWarning: No frequency information was provided, so inferred frequency H will be used.\n",
      "  % freq, ValueWarning)\n",
      "/usr/local/lib/python3.5/dist-packages/statsmodels/tsa/base/tsa_model.py:171: ValueWarning: No frequency information was provided, so inferred frequency H will be used.\n",
      "  % freq, ValueWarning)\n",
      "/usr/local/lib/python3.5/dist-packages/statsmodels/tsa/base/tsa_model.py:171: ValueWarning: No frequency information was provided, so inferred frequency H will be used.\n",
      "  % freq, ValueWarning)\n",
      "/usr/local/lib/python3.5/dist-packages/statsmodels/tsa/base/tsa_model.py:171: ValueWarning: No frequency information was provided, so inferred frequency H will be used.\n",
      "  % freq, ValueWarning)\n"
     ]
    },
    {
     "name": "stdout",
     "output_type": "stream",
     "text": [
      "V5V 3R2 model not created\n",
      "V5V 3R3 model not created\n",
      "V5V 3R6 model not created\n",
      "V5V 3Y5 model not created\n",
      "V5V 3Y9 model not created\n",
      "V5V 4A7 model not created\n"
     ]
    },
    {
     "name": "stderr",
     "output_type": "stream",
     "text": [
      "/usr/local/lib/python3.5/dist-packages/statsmodels/tsa/base/tsa_model.py:171: ValueWarning: No frequency information was provided, so inferred frequency H will be used.\n",
      "  % freq, ValueWarning)\n",
      "/usr/local/lib/python3.5/dist-packages/statsmodels/tsa/base/tsa_model.py:171: ValueWarning: No frequency information was provided, so inferred frequency H will be used.\n",
      "  % freq, ValueWarning)\n",
      "/usr/local/lib/python3.5/dist-packages/statsmodels/tsa/base/tsa_model.py:171: ValueWarning: No frequency information was provided, so inferred frequency H will be used.\n",
      "  % freq, ValueWarning)\n",
      "/usr/local/lib/python3.5/dist-packages/statsmodels/tsa/base/tsa_model.py:171: ValueWarning: No frequency information was provided, so inferred frequency H will be used.\n",
      "  % freq, ValueWarning)\n",
      "/usr/local/lib/python3.5/dist-packages/statsmodels/tsa/base/tsa_model.py:171: ValueWarning: No frequency information was provided, so inferred frequency H will be used.\n",
      "  % freq, ValueWarning)\n",
      "/usr/local/lib/python3.5/dist-packages/statsmodels/tsa/base/tsa_model.py:171: ValueWarning: No frequency information was provided, so inferred frequency H will be used.\n",
      "  % freq, ValueWarning)\n",
      "/usr/local/lib/python3.5/dist-packages/statsmodels/tsa/base/tsa_model.py:171: ValueWarning: No frequency information was provided, so inferred frequency H will be used.\n",
      "  % freq, ValueWarning)\n",
      "/usr/local/lib/python3.5/dist-packages/statsmodels/tsa/base/tsa_model.py:171: ValueWarning: No frequency information was provided, so inferred frequency H will be used.\n",
      "  % freq, ValueWarning)\n",
      "/usr/local/lib/python3.5/dist-packages/statsmodels/tsa/base/tsa_model.py:171: ValueWarning: No frequency information was provided, so inferred frequency H will be used.\n",
      "  % freq, ValueWarning)\n",
      "/usr/local/lib/python3.5/dist-packages/statsmodels/tsa/base/tsa_model.py:171: ValueWarning: No frequency information was provided, so inferred frequency H will be used.\n",
      "  % freq, ValueWarning)\n",
      "/usr/local/lib/python3.5/dist-packages/statsmodels/tsa/base/tsa_model.py:171: ValueWarning: No frequency information was provided, so inferred frequency H will be used.\n",
      "  % freq, ValueWarning)\n",
      "/usr/local/lib/python3.5/dist-packages/statsmodels/tsa/base/tsa_model.py:171: ValueWarning: No frequency information was provided, so inferred frequency H will be used.\n",
      "  % freq, ValueWarning)\n",
      "/usr/local/lib/python3.5/dist-packages/statsmodels/tsa/base/tsa_model.py:171: ValueWarning: No frequency information was provided, so inferred frequency H will be used.\n",
      "  % freq, ValueWarning)\n"
     ]
    },
    {
     "name": "stdout",
     "output_type": "stream",
     "text": [
      "V5V 4H1 model not created\n",
      "V5V 4H4 model not created\n",
      "V5V 4P4 model not created\n",
      "V5V 4P7 model not created\n",
      "V5V 4R3 model not created\n",
      "V5V 4S9 model not created\n",
      "V5V 4X4 model not created\n",
      "V5V 4Y4 model not created\n",
      "V5V 4Z5 model not created\n",
      "V5V 5A6 model not created\n",
      "V5V 5E5 model not created\n",
      "V5V 5E7 model not created\n"
     ]
    },
    {
     "name": "stderr",
     "output_type": "stream",
     "text": [
      "/usr/local/lib/python3.5/dist-packages/statsmodels/tsa/base/tsa_model.py:171: ValueWarning: No frequency information was provided, so inferred frequency H will be used.\n",
      "  % freq, ValueWarning)\n",
      "/usr/local/lib/python3.5/dist-packages/statsmodels/tsa/base/tsa_model.py:171: ValueWarning: No frequency information was provided, so inferred frequency H will be used.\n",
      "  % freq, ValueWarning)\n",
      "/usr/local/lib/python3.5/dist-packages/statsmodels/tsa/base/tsa_model.py:171: ValueWarning: No frequency information was provided, so inferred frequency H will be used.\n",
      "  % freq, ValueWarning)\n"
     ]
    },
    {
     "name": "stdout",
     "output_type": "stream",
     "text": [
      "V5W 1A1 model not created\n"
     ]
    },
    {
     "name": "stderr",
     "output_type": "stream",
     "text": [
      "/usr/local/lib/python3.5/dist-packages/statsmodels/tsa/base/tsa_model.py:171: ValueWarning: No frequency information was provided, so inferred frequency H will be used.\n",
      "  % freq, ValueWarning)\n",
      "/usr/local/lib/python3.5/dist-packages/statsmodels/tsa/base/tsa_model.py:171: ValueWarning: No frequency information was provided, so inferred frequency H will be used.\n",
      "  % freq, ValueWarning)\n",
      "/usr/local/lib/python3.5/dist-packages/statsmodels/tsa/base/tsa_model.py:171: ValueWarning: No frequency information was provided, so inferred frequency H will be used.\n",
      "  % freq, ValueWarning)\n",
      "/usr/local/lib/python3.5/dist-packages/statsmodels/tsa/base/tsa_model.py:171: ValueWarning: No frequency information was provided, so inferred frequency H will be used.\n",
      "  % freq, ValueWarning)\n",
      "/usr/local/lib/python3.5/dist-packages/statsmodels/tsa/base/tsa_model.py:171: ValueWarning: No frequency information was provided, so inferred frequency H will be used.\n",
      "  % freq, ValueWarning)\n"
     ]
    },
    {
     "name": "stdout",
     "output_type": "stream",
     "text": [
      "V5W 1B4 model not created\n",
      "V5W 1G5 model not created\n",
      "V5W 1J4 model not created\n",
      "V5W 1L3 model not created\n"
     ]
    },
    {
     "name": "stderr",
     "output_type": "stream",
     "text": [
      "/usr/local/lib/python3.5/dist-packages/statsmodels/tsa/base/tsa_model.py:171: ValueWarning: No frequency information was provided, so inferred frequency H will be used.\n",
      "  % freq, ValueWarning)\n",
      "/usr/local/lib/python3.5/dist-packages/statsmodels/tsa/base/tsa_model.py:171: ValueWarning: No frequency information was provided, so inferred frequency H will be used.\n",
      "  % freq, ValueWarning)\n",
      "/usr/local/lib/python3.5/dist-packages/statsmodels/tsa/base/tsa_model.py:171: ValueWarning: No frequency information was provided, so inferred frequency H will be used.\n",
      "  % freq, ValueWarning)\n",
      "/usr/local/lib/python3.5/dist-packages/statsmodels/tsa/base/tsa_model.py:171: ValueWarning: No frequency information was provided, so inferred frequency H will be used.\n",
      "  % freq, ValueWarning)\n",
      "/usr/local/lib/python3.5/dist-packages/statsmodels/tsa/base/tsa_model.py:171: ValueWarning: No frequency information was provided, so inferred frequency H will be used.\n",
      "  % freq, ValueWarning)\n",
      "/usr/local/lib/python3.5/dist-packages/statsmodels/tsa/base/tsa_model.py:171: ValueWarning: No frequency information was provided, so inferred frequency H will be used.\n",
      "  % freq, ValueWarning)\n",
      "/usr/local/lib/python3.5/dist-packages/statsmodels/tsa/base/tsa_model.py:171: ValueWarning: No frequency information was provided, so inferred frequency H will be used.\n",
      "  % freq, ValueWarning)\n",
      "/usr/local/lib/python3.5/dist-packages/statsmodels/tsa/base/tsa_model.py:171: ValueWarning: No frequency information was provided, so inferred frequency H will be used.\n",
      "  % freq, ValueWarning)\n",
      "/usr/local/lib/python3.5/dist-packages/statsmodels/tsa/base/tsa_model.py:171: ValueWarning: No frequency information was provided, so inferred frequency H will be used.\n",
      "  % freq, ValueWarning)\n",
      "/usr/local/lib/python3.5/dist-packages/statsmodels/tsa/base/tsa_model.py:171: ValueWarning: No frequency information was provided, so inferred frequency H will be used.\n",
      "  % freq, ValueWarning)\n"
     ]
    },
    {
     "name": "stdout",
     "output_type": "stream",
     "text": [
      "V5W 1P6 model not created\n",
      "V5W 1S5 model not created\n",
      "V5W 1T4 model not created\n",
      "V5W 1T6 model not created\n",
      "V5W 1T9 model not created\n",
      "V5W 1W1 model not created\n",
      "V5W 1W3 model not created\n",
      "V5W 1W7 model not created\n",
      "V5W 1Y7 model not created\n"
     ]
    },
    {
     "name": "stderr",
     "output_type": "stream",
     "text": [
      "/usr/local/lib/python3.5/dist-packages/statsmodels/base/model.py:508: ConvergenceWarning: Maximum Likelihood optimization failed to converge. Check mle_retvals\n",
      "  \"Check mle_retvals\", ConvergenceWarning)\n",
      "/usr/local/lib/python3.5/dist-packages/statsmodels/tsa/base/tsa_model.py:171: ValueWarning: No frequency information was provided, so inferred frequency H will be used.\n",
      "  % freq, ValueWarning)\n"
     ]
    },
    {
     "name": "stdout",
     "output_type": "stream",
     "text": [
      "V5W 2G9 model not created\n",
      "V5W 2J2 model not created\n",
      "V5W 2K9 model not created\n",
      "V5W 2L3 model not created\n"
     ]
    },
    {
     "name": "stderr",
     "output_type": "stream",
     "text": [
      "/usr/local/lib/python3.5/dist-packages/statsmodels/tsa/base/tsa_model.py:171: ValueWarning: No frequency information was provided, so inferred frequency H will be used.\n",
      "  % freq, ValueWarning)\n",
      "/usr/local/lib/python3.5/dist-packages/statsmodels/tsa/base/tsa_model.py:171: ValueWarning: No frequency information was provided, so inferred frequency H will be used.\n",
      "  % freq, ValueWarning)\n",
      "/usr/local/lib/python3.5/dist-packages/statsmodels/tsa/base/tsa_model.py:171: ValueWarning: No frequency information was provided, so inferred frequency H will be used.\n",
      "  % freq, ValueWarning)\n",
      "/usr/local/lib/python3.5/dist-packages/statsmodels/tsa/base/tsa_model.py:171: ValueWarning: No frequency information was provided, so inferred frequency H will be used.\n",
      "  % freq, ValueWarning)\n",
      "/usr/local/lib/python3.5/dist-packages/statsmodels/tsa/base/tsa_model.py:171: ValueWarning: No frequency information was provided, so inferred frequency H will be used.\n",
      "  % freq, ValueWarning)\n",
      "/usr/local/lib/python3.5/dist-packages/statsmodels/tsa/base/tsa_model.py:171: ValueWarning: No frequency information was provided, so inferred frequency H will be used.\n",
      "  % freq, ValueWarning)\n",
      "/usr/local/lib/python3.5/dist-packages/statsmodels/tsa/base/tsa_model.py:171: ValueWarning: No frequency information was provided, so inferred frequency H will be used.\n",
      "  % freq, ValueWarning)\n",
      "/usr/local/lib/python3.5/dist-packages/statsmodels/tsa/base/tsa_model.py:171: ValueWarning: No frequency information was provided, so inferred frequency H will be used.\n",
      "  % freq, ValueWarning)\n",
      "/usr/local/lib/python3.5/dist-packages/statsmodels/tsa/base/tsa_model.py:171: ValueWarning: No frequency information was provided, so inferred frequency H will be used.\n",
      "  % freq, ValueWarning)\n",
      "/usr/local/lib/python3.5/dist-packages/statsmodels/tsa/base/tsa_model.py:171: ValueWarning: No frequency information was provided, so inferred frequency H will be used.\n",
      "  % freq, ValueWarning)\n",
      "/usr/local/lib/python3.5/dist-packages/statsmodels/tsa/base/tsa_model.py:171: ValueWarning: No frequency information was provided, so inferred frequency H will be used.\n",
      "  % freq, ValueWarning)\n",
      "/usr/local/lib/python3.5/dist-packages/statsmodels/tsa/base/tsa_model.py:171: ValueWarning: No frequency information was provided, so inferred frequency H will be used.\n",
      "  % freq, ValueWarning)\n",
      "/usr/local/lib/python3.5/dist-packages/statsmodels/tsa/base/tsa_model.py:171: ValueWarning: No frequency information was provided, so inferred frequency H will be used.\n",
      "  % freq, ValueWarning)\n",
      "/usr/local/lib/python3.5/dist-packages/statsmodels/tsa/base/tsa_model.py:171: ValueWarning: No frequency information was provided, so inferred frequency H will be used.\n",
      "  % freq, ValueWarning)\n",
      "/usr/local/lib/python3.5/dist-packages/statsmodels/tsa/base/tsa_model.py:171: ValueWarning: No frequency information was provided, so inferred frequency H will be used.\n",
      "  % freq, ValueWarning)\n"
     ]
    },
    {
     "name": "stdout",
     "output_type": "stream",
     "text": [
      "V5W 2N2 model not created\n",
      "V5W 2N3 model not created\n",
      "V5W 3H3 model not created\n",
      "V5W 3M3 model not created\n",
      "V5W 3M7 model not created\n",
      "V5W 3S4 model not created\n",
      "V5W 3W5 model not created\n",
      "V5W 3X1 model not created\n",
      "V5W 3Y3 model not created\n",
      "V5W 3Z9 model not created\n"
     ]
    },
    {
     "name": "stderr",
     "output_type": "stream",
     "text": [
      "/usr/local/lib/python3.5/dist-packages/statsmodels/tsa/base/tsa_model.py:171: ValueWarning: No frequency information was provided, so inferred frequency H will be used.\n",
      "  % freq, ValueWarning)\n",
      "/usr/local/lib/python3.5/dist-packages/statsmodels/base/model.py:508: ConvergenceWarning: Maximum Likelihood optimization failed to converge. Check mle_retvals\n",
      "  \"Check mle_retvals\", ConvergenceWarning)\n",
      "/usr/local/lib/python3.5/dist-packages/statsmodels/tsa/base/tsa_model.py:171: ValueWarning: No frequency information was provided, so inferred frequency H will be used.\n",
      "  % freq, ValueWarning)\n",
      "/usr/local/lib/python3.5/dist-packages/statsmodels/tsa/base/tsa_model.py:171: ValueWarning: No frequency information was provided, so inferred frequency H will be used.\n",
      "  % freq, ValueWarning)\n",
      "/usr/local/lib/python3.5/dist-packages/statsmodels/tsa/base/tsa_model.py:171: ValueWarning: No frequency information was provided, so inferred frequency H will be used.\n",
      "  % freq, ValueWarning)\n",
      "/usr/local/lib/python3.5/dist-packages/statsmodels/tsa/base/tsa_model.py:171: ValueWarning: No frequency information was provided, so inferred frequency H will be used.\n",
      "  % freq, ValueWarning)\n",
      "/usr/local/lib/python3.5/dist-packages/statsmodels/tsa/base/tsa_model.py:171: ValueWarning: No frequency information was provided, so inferred frequency H will be used.\n",
      "  % freq, ValueWarning)\n",
      "/usr/local/lib/python3.5/dist-packages/statsmodels/tsa/base/tsa_model.py:171: ValueWarning: No frequency information was provided, so inferred frequency H will be used.\n",
      "  % freq, ValueWarning)\n",
      "/usr/local/lib/python3.5/dist-packages/statsmodels/tsa/base/tsa_model.py:171: ValueWarning: No frequency information was provided, so inferred frequency H will be used.\n",
      "  % freq, ValueWarning)\n",
      "/usr/local/lib/python3.5/dist-packages/statsmodels/tsa/base/tsa_model.py:171: ValueWarning: No frequency information was provided, so inferred frequency H will be used.\n",
      "  % freq, ValueWarning)\n",
      "/usr/local/lib/python3.5/dist-packages/statsmodels/tsa/base/tsa_model.py:171: ValueWarning: No frequency information was provided, so inferred frequency H will be used.\n",
      "  % freq, ValueWarning)\n",
      "/usr/local/lib/python3.5/dist-packages/statsmodels/tsa/base/tsa_model.py:171: ValueWarning: No frequency information was provided, so inferred frequency H will be used.\n",
      "  % freq, ValueWarning)\n",
      "/usr/local/lib/python3.5/dist-packages/statsmodels/tsa/base/tsa_model.py:171: ValueWarning: No frequency information was provided, so inferred frequency H will be used.\n",
      "  % freq, ValueWarning)\n"
     ]
    },
    {
     "name": "stdout",
     "output_type": "stream",
     "text": [
      "V5X 1A5 model not created\n",
      "V5X 1A9 model not created\n",
      "V5X 1E4 model not created\n",
      "V5X 1G6 model not created\n",
      "V5X 1P2 model not created\n",
      "V5X 1W2 model not created\n",
      "V5X 2B1 model not created\n",
      "V5X 2C1 model not created\n",
      "V5X 2E5 model not created\n",
      "V5X 2R5 model not created\n"
     ]
    },
    {
     "name": "stderr",
     "output_type": "stream",
     "text": [
      "/usr/local/lib/python3.5/dist-packages/statsmodels/tsa/base/tsa_model.py:171: ValueWarning: No frequency information was provided, so inferred frequency H will be used.\n",
      "  % freq, ValueWarning)\n",
      "/usr/local/lib/python3.5/dist-packages/statsmodels/tsa/base/tsa_model.py:171: ValueWarning: No frequency information was provided, so inferred frequency H will be used.\n",
      "  % freq, ValueWarning)\n",
      "/usr/local/lib/python3.5/dist-packages/statsmodels/tsa/base/tsa_model.py:171: ValueWarning: No frequency information was provided, so inferred frequency H will be used.\n",
      "  % freq, ValueWarning)\n",
      "/usr/local/lib/python3.5/dist-packages/statsmodels/tsa/base/tsa_model.py:171: ValueWarning: No frequency information was provided, so inferred frequency H will be used.\n",
      "  % freq, ValueWarning)\n",
      "/usr/local/lib/python3.5/dist-packages/statsmodels/tsa/base/tsa_model.py:171: ValueWarning: No frequency information was provided, so inferred frequency H will be used.\n",
      "  % freq, ValueWarning)\n",
      "/usr/local/lib/python3.5/dist-packages/statsmodels/tsa/base/tsa_model.py:171: ValueWarning: No frequency information was provided, so inferred frequency H will be used.\n",
      "  % freq, ValueWarning)\n",
      "/usr/local/lib/python3.5/dist-packages/statsmodels/tsa/base/tsa_model.py:171: ValueWarning: No frequency information was provided, so inferred frequency H will be used.\n",
      "  % freq, ValueWarning)\n",
      "/usr/local/lib/python3.5/dist-packages/statsmodels/tsa/base/tsa_model.py:171: ValueWarning: No frequency information was provided, so inferred frequency H will be used.\n",
      "  % freq, ValueWarning)\n",
      "/usr/local/lib/python3.5/dist-packages/statsmodels/tsa/base/tsa_model.py:171: ValueWarning: No frequency information was provided, so inferred frequency H will be used.\n",
      "  % freq, ValueWarning)\n"
     ]
    },
    {
     "name": "stdout",
     "output_type": "stream",
     "text": [
      "V5X 2Z8 model not created\n",
      "V5X 3B2 model not created\n",
      "V5X 3K2 model not created\n",
      "V5X 3L6 model not created\n",
      "V5X 3R2 model not created\n",
      "V5X 3T5 model not created\n",
      "V5X 3V5 model not created\n",
      "V5X 4C4 model not created\n"
     ]
    },
    {
     "name": "stderr",
     "output_type": "stream",
     "text": [
      "/usr/local/lib/python3.5/dist-packages/statsmodels/tsa/base/tsa_model.py:171: ValueWarning: No frequency information was provided, so inferred frequency H will be used.\n",
      "  % freq, ValueWarning)\n",
      "/usr/local/lib/python3.5/dist-packages/statsmodels/tsa/base/tsa_model.py:171: ValueWarning: No frequency information was provided, so inferred frequency H will be used.\n",
      "  % freq, ValueWarning)\n"
     ]
    },
    {
     "name": "stdout",
     "output_type": "stream",
     "text": [
      "V5X 4G2 model not created\n"
     ]
    },
    {
     "name": "stderr",
     "output_type": "stream",
     "text": [
      "/usr/local/lib/python3.5/dist-packages/statsmodels/tsa/base/tsa_model.py:171: ValueWarning: No frequency information was provided, so inferred frequency H will be used.\n",
      "  % freq, ValueWarning)\n",
      "/usr/local/lib/python3.5/dist-packages/statsmodels/tsa/base/tsa_model.py:171: ValueWarning: No frequency information was provided, so inferred frequency H will be used.\n",
      "  % freq, ValueWarning)\n",
      "/usr/local/lib/python3.5/dist-packages/statsmodels/tsa/base/tsa_model.py:171: ValueWarning: No frequency information was provided, so inferred frequency H will be used.\n",
      "  % freq, ValueWarning)\n"
     ]
    },
    {
     "name": "stdout",
     "output_type": "stream",
     "text": [
      "V5X 4L6 model not created\n",
      "V5X 4V3 model not created\n"
     ]
    },
    {
     "name": "stderr",
     "output_type": "stream",
     "text": [
      "/usr/local/lib/python3.5/dist-packages/statsmodels/tsa/base/tsa_model.py:171: ValueWarning: No frequency information was provided, so inferred frequency H will be used.\n",
      "  % freq, ValueWarning)\n",
      "/usr/local/lib/python3.5/dist-packages/statsmodels/tsa/base/tsa_model.py:171: ValueWarning: No frequency information was provided, so inferred frequency H will be used.\n",
      "  % freq, ValueWarning)\n",
      "/usr/local/lib/python3.5/dist-packages/statsmodels/tsa/base/tsa_model.py:171: ValueWarning: No frequency information was provided, so inferred frequency H will be used.\n",
      "  % freq, ValueWarning)\n"
     ]
    },
    {
     "name": "stdout",
     "output_type": "stream",
     "text": [
      "V5Y 0A6 model not created\n",
      "V5Y 0B1 model not created\n"
     ]
    },
    {
     "name": "stderr",
     "output_type": "stream",
     "text": [
      "/usr/local/lib/python3.5/dist-packages/statsmodels/tsa/base/tsa_model.py:171: ValueWarning: No frequency information was provided, so inferred frequency H will be used.\n",
      "  % freq, ValueWarning)\n",
      "/usr/local/lib/python3.5/dist-packages/statsmodels/tsa/base/tsa_model.py:171: ValueWarning: No frequency information was provided, so inferred frequency H will be used.\n",
      "  % freq, ValueWarning)\n",
      "/usr/local/lib/python3.5/dist-packages/statsmodels/tsa/base/tsa_model.py:171: ValueWarning: No frequency information was provided, so inferred frequency H will be used.\n",
      "  % freq, ValueWarning)\n"
     ]
    },
    {
     "name": "stdout",
     "output_type": "stream",
     "text": [
      "V5Y 0E4 model not created\n"
     ]
    },
    {
     "name": "stderr",
     "output_type": "stream",
     "text": [
      "/usr/local/lib/python3.5/dist-packages/statsmodels/tsa/base/tsa_model.py:171: ValueWarning: No frequency information was provided, so inferred frequency H will be used.\n",
      "  % freq, ValueWarning)\n",
      "/usr/local/lib/python3.5/dist-packages/statsmodels/tsa/base/tsa_model.py:171: ValueWarning: No frequency information was provided, so inferred frequency H will be used.\n",
      "  % freq, ValueWarning)\n",
      "/usr/local/lib/python3.5/dist-packages/statsmodels/tsa/base/tsa_model.py:171: ValueWarning: No frequency information was provided, so inferred frequency H will be used.\n",
      "  % freq, ValueWarning)\n",
      "/usr/local/lib/python3.5/dist-packages/statsmodels/tsa/base/tsa_model.py:171: ValueWarning: No frequency information was provided, so inferred frequency H will be used.\n",
      "  % freq, ValueWarning)\n",
      "/usr/local/lib/python3.5/dist-packages/statsmodels/tsa/base/tsa_model.py:171: ValueWarning: No frequency information was provided, so inferred frequency H will be used.\n",
      "  % freq, ValueWarning)\n"
     ]
    },
    {
     "name": "stdout",
     "output_type": "stream",
     "text": [
      "V5Y 1C8 model not created\n",
      "V5Y 1G4 model not created\n",
      "V5Y 1G8 model not created\n"
     ]
    },
    {
     "name": "stderr",
     "output_type": "stream",
     "text": [
      "/usr/local/lib/python3.5/dist-packages/statsmodels/tsa/base/tsa_model.py:171: ValueWarning: No frequency information was provided, so inferred frequency H will be used.\n",
      "  % freq, ValueWarning)\n",
      "/usr/local/lib/python3.5/dist-packages/statsmodels/tsa/base/tsa_model.py:171: ValueWarning: No frequency information was provided, so inferred frequency H will be used.\n",
      "  % freq, ValueWarning)\n",
      "/usr/local/lib/python3.5/dist-packages/statsmodels/tsa/base/tsa_model.py:171: ValueWarning: No frequency information was provided, so inferred frequency H will be used.\n",
      "  % freq, ValueWarning)\n",
      "/usr/local/lib/python3.5/dist-packages/statsmodels/tsa/base/tsa_model.py:171: ValueWarning: No frequency information was provided, so inferred frequency H will be used.\n",
      "  % freq, ValueWarning)\n",
      "/usr/local/lib/python3.5/dist-packages/statsmodels/tsa/base/tsa_model.py:171: ValueWarning: No frequency information was provided, so inferred frequency H will be used.\n",
      "  % freq, ValueWarning)\n"
     ]
    },
    {
     "name": "stdout",
     "output_type": "stream",
     "text": [
      "V5Y 1M4 model not created\n"
     ]
    },
    {
     "name": "stderr",
     "output_type": "stream",
     "text": [
      "/usr/local/lib/python3.5/dist-packages/statsmodels/tsa/base/tsa_model.py:171: ValueWarning: No frequency information was provided, so inferred frequency H will be used.\n",
      "  % freq, ValueWarning)\n",
      "/usr/local/lib/python3.5/dist-packages/statsmodels/base/model.py:508: ConvergenceWarning: Maximum Likelihood optimization failed to converge. Check mle_retvals\n",
      "  \"Check mle_retvals\", ConvergenceWarning)\n",
      "/usr/local/lib/python3.5/dist-packages/statsmodels/tsa/base/tsa_model.py:171: ValueWarning: No frequency information was provided, so inferred frequency H will be used.\n",
      "  % freq, ValueWarning)\n",
      "/usr/local/lib/python3.5/dist-packages/statsmodels/tsa/base/tsa_model.py:171: ValueWarning: No frequency information was provided, so inferred frequency H will be used.\n",
      "  % freq, ValueWarning)\n",
      "/usr/local/lib/python3.5/dist-packages/statsmodels/tsa/base/tsa_model.py:171: ValueWarning: No frequency information was provided, so inferred frequency H will be used.\n",
      "  % freq, ValueWarning)\n",
      "/usr/local/lib/python3.5/dist-packages/statsmodels/tsa/base/tsa_model.py:171: ValueWarning: No frequency information was provided, so inferred frequency H will be used.\n",
      "  % freq, ValueWarning)\n",
      "/usr/local/lib/python3.5/dist-packages/statsmodels/tsa/base/tsa_model.py:171: ValueWarning: No frequency information was provided, so inferred frequency H will be used.\n",
      "  % freq, ValueWarning)\n",
      "/usr/local/lib/python3.5/dist-packages/statsmodels/tsa/base/tsa_model.py:171: ValueWarning: No frequency information was provided, so inferred frequency H will be used.\n",
      "  % freq, ValueWarning)\n",
      "/usr/local/lib/python3.5/dist-packages/statsmodels/tsa/base/tsa_model.py:171: ValueWarning: No frequency information was provided, so inferred frequency H will be used.\n",
      "  % freq, ValueWarning)\n",
      "/usr/local/lib/python3.5/dist-packages/statsmodels/tsa/base/tsa_model.py:171: ValueWarning: No frequency information was provided, so inferred frequency H will be used.\n",
      "  % freq, ValueWarning)\n"
     ]
    },
    {
     "name": "stdout",
     "output_type": "stream",
     "text": [
      "V5Y 1S6 model not created\n",
      "V5Y 1Y2 model not created\n",
      "V5Y 1Z6 model not created\n",
      "V5Y 2A1 model not created\n",
      "V5Y 2A5 model not created\n",
      "V5Y 2B2 model not created\n",
      "V5Y 2E8 model not created\n"
     ]
    },
    {
     "name": "stderr",
     "output_type": "stream",
     "text": [
      "/usr/local/lib/python3.5/dist-packages/statsmodels/tsa/base/tsa_model.py:171: ValueWarning: No frequency information was provided, so inferred frequency H will be used.\n",
      "  % freq, ValueWarning)\n",
      "/usr/local/lib/python3.5/dist-packages/statsmodels/tsa/base/tsa_model.py:171: ValueWarning: No frequency information was provided, so inferred frequency H will be used.\n",
      "  % freq, ValueWarning)\n",
      "/usr/local/lib/python3.5/dist-packages/statsmodels/tsa/base/tsa_model.py:171: ValueWarning: No frequency information was provided, so inferred frequency H will be used.\n",
      "  % freq, ValueWarning)\n",
      "/usr/local/lib/python3.5/dist-packages/statsmodels/tsa/base/tsa_model.py:171: ValueWarning: No frequency information was provided, so inferred frequency H will be used.\n",
      "  % freq, ValueWarning)\n",
      "/usr/local/lib/python3.5/dist-packages/statsmodels/tsa/base/tsa_model.py:171: ValueWarning: No frequency information was provided, so inferred frequency H will be used.\n",
      "  % freq, ValueWarning)\n"
     ]
    },
    {
     "name": "stdout",
     "output_type": "stream",
     "text": [
      "V5Y 2J6 model not created\n",
      "V5Y 2M4 model not created\n",
      "V5Y 2Y4 model not created\n",
      "V5Y 2Z3 model not created\n"
     ]
    },
    {
     "name": "stderr",
     "output_type": "stream",
     "text": [
      "/usr/local/lib/python3.5/dist-packages/statsmodels/tsa/base/tsa_model.py:171: ValueWarning: No frequency information was provided, so inferred frequency H will be used.\n",
      "  % freq, ValueWarning)\n",
      "/usr/local/lib/python3.5/dist-packages/statsmodels/tsa/base/tsa_model.py:171: ValueWarning: No frequency information was provided, so inferred frequency H will be used.\n",
      "  % freq, ValueWarning)\n",
      "/usr/local/lib/python3.5/dist-packages/statsmodels/tsa/base/tsa_model.py:171: ValueWarning: No frequency information was provided, so inferred frequency H will be used.\n",
      "  % freq, ValueWarning)\n",
      "/usr/local/lib/python3.5/dist-packages/statsmodels/tsa/base/tsa_model.py:171: ValueWarning: No frequency information was provided, so inferred frequency H will be used.\n",
      "  % freq, ValueWarning)\n",
      "/usr/local/lib/python3.5/dist-packages/statsmodels/tsa/base/tsa_model.py:171: ValueWarning: No frequency information was provided, so inferred frequency H will be used.\n",
      "  % freq, ValueWarning)\n"
     ]
    },
    {
     "name": "stdout",
     "output_type": "stream",
     "text": [
      "V5Y 3K5 model not created\n",
      "V5Y 3L9 model not created\n"
     ]
    },
    {
     "name": "stderr",
     "output_type": "stream",
     "text": [
      "/usr/local/lib/python3.5/dist-packages/statsmodels/tsa/base/tsa_model.py:171: ValueWarning: No frequency information was provided, so inferred frequency H will be used.\n",
      "  % freq, ValueWarning)\n",
      "/usr/local/lib/python3.5/dist-packages/statsmodels/tsa/base/tsa_model.py:171: ValueWarning: No frequency information was provided, so inferred frequency H will be used.\n",
      "  % freq, ValueWarning)\n",
      "/usr/local/lib/python3.5/dist-packages/statsmodels/tsa/base/tsa_model.py:171: ValueWarning: No frequency information was provided, so inferred frequency H will be used.\n",
      "  % freq, ValueWarning)\n",
      "/usr/local/lib/python3.5/dist-packages/statsmodels/tsa/base/tsa_model.py:171: ValueWarning: No frequency information was provided, so inferred frequency H will be used.\n",
      "  % freq, ValueWarning)\n"
     ]
    },
    {
     "name": "stdout",
     "output_type": "stream",
     "text": [
      "V5Y 3S5 model not created\n",
      "V5Y 3V8 model not created\n",
      "V5Y 3W3 model not created\n"
     ]
    },
    {
     "name": "stderr",
     "output_type": "stream",
     "text": [
      "/usr/local/lib/python3.5/dist-packages/statsmodels/tsa/base/tsa_model.py:171: ValueWarning: No frequency information was provided, so inferred frequency H will be used.\n",
      "  % freq, ValueWarning)\n",
      "/usr/local/lib/python3.5/dist-packages/statsmodels/tsa/base/tsa_model.py:171: ValueWarning: No frequency information was provided, so inferred frequency H will be used.\n",
      "  % freq, ValueWarning)\n"
     ]
    },
    {
     "name": "stdout",
     "output_type": "stream",
     "text": [
      "V5Y 3Z5 model not created\n"
     ]
    },
    {
     "name": "stderr",
     "output_type": "stream",
     "text": [
      "/usr/local/lib/python3.5/dist-packages/statsmodels/tsa/base/tsa_model.py:171: ValueWarning: No frequency information was provided, so inferred frequency H will be used.\n",
      "  % freq, ValueWarning)\n",
      "/usr/local/lib/python3.5/dist-packages/statsmodels/tsa/base/tsa_model.py:171: ValueWarning: No frequency information was provided, so inferred frequency H will be used.\n",
      "  % freq, ValueWarning)\n",
      "/usr/local/lib/python3.5/dist-packages/statsmodels/tsa/base/tsa_model.py:171: ValueWarning: No frequency information was provided, so inferred frequency H will be used.\n",
      "  % freq, ValueWarning)\n",
      "/usr/local/lib/python3.5/dist-packages/statsmodels/tsa/base/tsa_model.py:171: ValueWarning: No frequency information was provided, so inferred frequency H will be used.\n",
      "  % freq, ValueWarning)\n",
      "/usr/local/lib/python3.5/dist-packages/statsmodels/tsa/base/tsa_model.py:171: ValueWarning: No frequency information was provided, so inferred frequency H will be used.\n",
      "  % freq, ValueWarning)\n",
      "/usr/local/lib/python3.5/dist-packages/statsmodels/tsa/base/tsa_model.py:171: ValueWarning: No frequency information was provided, so inferred frequency H will be used.\n",
      "  % freq, ValueWarning)\n",
      "/usr/local/lib/python3.5/dist-packages/statsmodels/tsa/base/tsa_model.py:171: ValueWarning: No frequency information was provided, so inferred frequency H will be used.\n",
      "  % freq, ValueWarning)\n",
      "/usr/local/lib/python3.5/dist-packages/statsmodels/tsa/base/tsa_model.py:171: ValueWarning: No frequency information was provided, so inferred frequency H will be used.\n",
      "  % freq, ValueWarning)\n",
      "/usr/local/lib/python3.5/dist-packages/statsmodels/tsa/base/tsa_model.py:171: ValueWarning: No frequency information was provided, so inferred frequency H will be used.\n",
      "  % freq, ValueWarning)\n",
      "/usr/local/lib/python3.5/dist-packages/statsmodels/tsa/base/tsa_model.py:171: ValueWarning: No frequency information was provided, so inferred frequency H will be used.\n",
      "  % freq, ValueWarning)\n",
      "/usr/local/lib/python3.5/dist-packages/statsmodels/tsa/base/tsa_model.py:171: ValueWarning: No frequency information was provided, so inferred frequency H will be used.\n",
      "  % freq, ValueWarning)\n",
      "/usr/local/lib/python3.5/dist-packages/statsmodels/tsa/base/tsa_model.py:171: ValueWarning: No frequency information was provided, so inferred frequency H will be used.\n",
      "  % freq, ValueWarning)\n",
      "/usr/local/lib/python3.5/dist-packages/statsmodels/tsa/base/tsa_model.py:171: ValueWarning: No frequency information was provided, so inferred frequency H will be used.\n",
      "  % freq, ValueWarning)\n",
      "/usr/local/lib/python3.5/dist-packages/statsmodels/tsa/base/tsa_model.py:171: ValueWarning: No frequency information was provided, so inferred frequency H will be used.\n",
      "  % freq, ValueWarning)\n",
      "/usr/local/lib/python3.5/dist-packages/statsmodels/tsa/base/tsa_model.py:171: ValueWarning: No frequency information was provided, so inferred frequency H will be used.\n",
      "  % freq, ValueWarning)\n",
      "/usr/local/lib/python3.5/dist-packages/statsmodels/tsa/base/tsa_model.py:171: ValueWarning: No frequency information was provided, so inferred frequency H will be used.\n",
      "  % freq, ValueWarning)\n",
      "/usr/local/lib/python3.5/dist-packages/statsmodels/tsa/base/tsa_model.py:171: ValueWarning: No frequency information was provided, so inferred frequency H will be used.\n",
      "  % freq, ValueWarning)\n",
      "/usr/local/lib/python3.5/dist-packages/statsmodels/tsa/base/tsa_model.py:171: ValueWarning: No frequency information was provided, so inferred frequency H will be used.\n",
      "  % freq, ValueWarning)\n",
      "/usr/local/lib/python3.5/dist-packages/statsmodels/tsa/base/tsa_model.py:171: ValueWarning: No frequency information was provided, so inferred frequency H will be used.\n",
      "  % freq, ValueWarning)\n"
     ]
    },
    {
     "name": "stdout",
     "output_type": "stream",
     "text": [
      "V5Z 0C9 model not created\n",
      "V5Z 1E9 model not created\n",
      "V5Z 1K1 model not created\n",
      "V5Z 1M9 model not created\n",
      "V5Z 1N2 model not created\n",
      "V5Z 1N6 model not created\n",
      "V5Z 1P2 model not created\n",
      "V5Z 1P4 model not created\n",
      "V5Z 1R7 model not created\n",
      "V5Z 1T2 model not created\n",
      "V5Z 1T9 model not created\n",
      "V5Z 1V2 model not created\n",
      "V5Z 1W4 model not created\n",
      "V5Z 1Y4 model not created\n"
     ]
    },
    {
     "name": "stderr",
     "output_type": "stream",
     "text": [
      "/usr/local/lib/python3.5/dist-packages/statsmodels/tsa/base/tsa_model.py:171: ValueWarning: No frequency information was provided, so inferred frequency H will be used.\n",
      "  % freq, ValueWarning)\n",
      "/usr/local/lib/python3.5/dist-packages/statsmodels/tsa/base/tsa_model.py:171: ValueWarning: No frequency information was provided, so inferred frequency H will be used.\n",
      "  % freq, ValueWarning)\n"
     ]
    },
    {
     "name": "stdout",
     "output_type": "stream",
     "text": [
      "V5Z 2H6 model not created\n"
     ]
    },
    {
     "name": "stderr",
     "output_type": "stream",
     "text": [
      "/usr/local/lib/python3.5/dist-packages/statsmodels/tsa/base/tsa_model.py:171: ValueWarning: No frequency information was provided, so inferred frequency H will be used.\n",
      "  % freq, ValueWarning)\n",
      "/usr/local/lib/python3.5/dist-packages/statsmodels/tsa/base/tsa_model.py:171: ValueWarning: No frequency information was provided, so inferred frequency H will be used.\n",
      "  % freq, ValueWarning)\n",
      "/usr/local/lib/python3.5/dist-packages/statsmodels/tsa/base/tsa_model.py:171: ValueWarning: No frequency information was provided, so inferred frequency H will be used.\n",
      "  % freq, ValueWarning)\n",
      "/usr/local/lib/python3.5/dist-packages/statsmodels/tsa/base/tsa_model.py:171: ValueWarning: No frequency information was provided, so inferred frequency H will be used.\n",
      "  % freq, ValueWarning)\n",
      "/usr/local/lib/python3.5/dist-packages/statsmodels/tsa/base/tsa_model.py:171: ValueWarning: No frequency information was provided, so inferred frequency H will be used.\n",
      "  % freq, ValueWarning)\n",
      "/usr/local/lib/python3.5/dist-packages/statsmodels/tsa/base/tsa_model.py:171: ValueWarning: No frequency information was provided, so inferred frequency H will be used.\n",
      "  % freq, ValueWarning)\n",
      "/usr/local/lib/python3.5/dist-packages/statsmodels/tsa/base/tsa_model.py:171: ValueWarning: No frequency information was provided, so inferred frequency H will be used.\n",
      "  % freq, ValueWarning)\n"
     ]
    },
    {
     "name": "stdout",
     "output_type": "stream",
     "text": [
      "V5Z 2R3 model not created\n",
      "V5Z 2R4 model not created\n",
      "V5Z 2S1 model not created\n",
      "V5Z 2S4 model not created\n"
     ]
    },
    {
     "name": "stderr",
     "output_type": "stream",
     "text": [
      "/usr/local/lib/python3.5/dist-packages/statsmodels/tsa/base/tsa_model.py:171: ValueWarning: No frequency information was provided, so inferred frequency H will be used.\n",
      "  % freq, ValueWarning)\n",
      "/usr/local/lib/python3.5/dist-packages/statsmodels/tsa/base/tsa_model.py:171: ValueWarning: No frequency information was provided, so inferred frequency H will be used.\n",
      "  % freq, ValueWarning)\n",
      "/usr/local/lib/python3.5/dist-packages/statsmodels/tsa/base/tsa_model.py:171: ValueWarning: No frequency information was provided, so inferred frequency H will be used.\n",
      "  % freq, ValueWarning)\n",
      "/usr/local/lib/python3.5/dist-packages/statsmodels/tsa/base/tsa_model.py:171: ValueWarning: No frequency information was provided, so inferred frequency H will be used.\n",
      "  % freq, ValueWarning)\n"
     ]
    },
    {
     "name": "stdout",
     "output_type": "stream",
     "text": [
      "V5Z 2W7 model not created\n",
      "V5Z 3G2 model not created\n",
      "V5Z 3H9 model not created\n"
     ]
    },
    {
     "name": "stderr",
     "output_type": "stream",
     "text": [
      "/usr/local/lib/python3.5/dist-packages/statsmodels/tsa/base/tsa_model.py:171: ValueWarning: No frequency information was provided, so inferred frequency H will be used.\n",
      "  % freq, ValueWarning)\n",
      "/usr/local/lib/python3.5/dist-packages/statsmodels/tsa/base/tsa_model.py:171: ValueWarning: No frequency information was provided, so inferred frequency H will be used.\n",
      "  % freq, ValueWarning)\n",
      "/usr/local/lib/python3.5/dist-packages/statsmodels/tsa/base/tsa_model.py:171: ValueWarning: No frequency information was provided, so inferred frequency H will be used.\n",
      "  % freq, ValueWarning)\n",
      "/usr/local/lib/python3.5/dist-packages/statsmodels/tsa/base/tsa_model.py:171: ValueWarning: No frequency information was provided, so inferred frequency H will be used.\n",
      "  % freq, ValueWarning)\n",
      "/usr/local/lib/python3.5/dist-packages/statsmodels/tsa/base/tsa_model.py:171: ValueWarning: No frequency information was provided, so inferred frequency H will be used.\n",
      "  % freq, ValueWarning)\n",
      "/usr/local/lib/python3.5/dist-packages/statsmodels/tsa/base/tsa_model.py:171: ValueWarning: No frequency information was provided, so inferred frequency H will be used.\n",
      "  % freq, ValueWarning)\n",
      "/usr/local/lib/python3.5/dist-packages/statsmodels/tsa/base/tsa_model.py:171: ValueWarning: No frequency information was provided, so inferred frequency H will be used.\n",
      "  % freq, ValueWarning)\n",
      "/usr/local/lib/python3.5/dist-packages/statsmodels/tsa/base/tsa_model.py:171: ValueWarning: No frequency information was provided, so inferred frequency H will be used.\n",
      "  % freq, ValueWarning)\n",
      "/usr/local/lib/python3.5/dist-packages/statsmodels/tsa/base/tsa_model.py:171: ValueWarning: No frequency information was provided, so inferred frequency H will be used.\n",
      "  % freq, ValueWarning)\n",
      "/usr/local/lib/python3.5/dist-packages/statsmodels/tsa/base/tsa_model.py:171: ValueWarning: No frequency information was provided, so inferred frequency H will be used.\n",
      "  % freq, ValueWarning)\n"
     ]
    },
    {
     "name": "stdout",
     "output_type": "stream",
     "text": [
      "V5Z 3N5 model not created\n",
      "V5Z 3N6 model not created\n",
      "V5Z 3R3 model not created\n",
      "V5Z 3S2 model not created\n",
      "V5Z 3T5 model not created\n",
      "V5Z 3V1 model not created\n",
      "V5Z 3V3 model not created\n"
     ]
    },
    {
     "name": "stderr",
     "output_type": "stream",
     "text": [
      "/usr/local/lib/python3.5/dist-packages/statsmodels/tsa/base/tsa_model.py:171: ValueWarning: No frequency information was provided, so inferred frequency H will be used.\n",
      "  % freq, ValueWarning)\n",
      "/usr/local/lib/python3.5/dist-packages/statsmodels/tsa/base/tsa_model.py:171: ValueWarning: No frequency information was provided, so inferred frequency H will be used.\n",
      "  % freq, ValueWarning)\n"
     ]
    },
    {
     "name": "stdout",
     "output_type": "stream",
     "text": [
      "V5Z 4P9 model not created\n"
     ]
    },
    {
     "name": "stderr",
     "output_type": "stream",
     "text": [
      "/usr/local/lib/python3.5/dist-packages/statsmodels/tsa/base/tsa_model.py:171: ValueWarning: No frequency information was provided, so inferred frequency H will be used.\n",
      "  % freq, ValueWarning)\n",
      "/usr/local/lib/python3.5/dist-packages/statsmodels/tsa/base/tsa_model.py:171: ValueWarning: No frequency information was provided, so inferred frequency H will be used.\n",
      "  % freq, ValueWarning)\n",
      "/usr/local/lib/python3.5/dist-packages/statsmodels/tsa/base/tsa_model.py:171: ValueWarning: No frequency information was provided, so inferred frequency H will be used.\n",
      "  % freq, ValueWarning)\n",
      "/usr/local/lib/python3.5/dist-packages/statsmodels/tsa/base/tsa_model.py:171: ValueWarning: No frequency information was provided, so inferred frequency H will be used.\n",
      "  % freq, ValueWarning)\n",
      "/usr/local/lib/python3.5/dist-packages/statsmodels/tsa/base/tsa_model.py:171: ValueWarning: No frequency information was provided, so inferred frequency H will be used.\n",
      "  % freq, ValueWarning)\n"
     ]
    },
    {
     "name": "stdout",
     "output_type": "stream",
     "text": [
      "V6A 1B2 model not created\n"
     ]
    },
    {
     "name": "stderr",
     "output_type": "stream",
     "text": [
      "/usr/local/lib/python3.5/dist-packages/statsmodels/tsa/base/tsa_model.py:171: ValueWarning: No frequency information was provided, so inferred frequency H will be used.\n",
      "  % freq, ValueWarning)\n",
      "/usr/local/lib/python3.5/dist-packages/statsmodels/tsa/base/tsa_model.py:171: ValueWarning: No frequency information was provided, so inferred frequency H will be used.\n",
      "  % freq, ValueWarning)\n",
      "/usr/local/lib/python3.5/dist-packages/statsmodels/tsa/base/tsa_model.py:171: ValueWarning: No frequency information was provided, so inferred frequency H will be used.\n",
      "  % freq, ValueWarning)\n",
      "/usr/local/lib/python3.5/dist-packages/statsmodels/tsa/base/tsa_model.py:171: ValueWarning: No frequency information was provided, so inferred frequency H will be used.\n",
      "  % freq, ValueWarning)\n",
      "/usr/local/lib/python3.5/dist-packages/statsmodels/tsa/base/tsa_model.py:171: ValueWarning: No frequency information was provided, so inferred frequency H will be used.\n",
      "  % freq, ValueWarning)\n",
      "/usr/local/lib/python3.5/dist-packages/statsmodels/tsa/base/tsa_model.py:171: ValueWarning: No frequency information was provided, so inferred frequency H will be used.\n",
      "  % freq, ValueWarning)\n",
      "/usr/local/lib/python3.5/dist-packages/statsmodels/tsa/base/tsa_model.py:171: ValueWarning: No frequency information was provided, so inferred frequency H will be used.\n",
      "  % freq, ValueWarning)\n",
      "/usr/local/lib/python3.5/dist-packages/statsmodels/tsa/base/tsa_model.py:171: ValueWarning: No frequency information was provided, so inferred frequency H will be used.\n",
      "  % freq, ValueWarning)\n",
      "/usr/local/lib/python3.5/dist-packages/statsmodels/tsa/base/tsa_model.py:171: ValueWarning: No frequency information was provided, so inferred frequency H will be used.\n",
      "  % freq, ValueWarning)\n"
     ]
    },
    {
     "name": "stdout",
     "output_type": "stream",
     "text": [
      "V6A 1H5 model not created\n",
      "V6A 1H7 model not created\n"
     ]
    },
    {
     "name": "stderr",
     "output_type": "stream",
     "text": [
      "/usr/local/lib/python3.5/dist-packages/statsmodels/tsa/base/tsa_model.py:171: ValueWarning: No frequency information was provided, so inferred frequency H will be used.\n",
      "  % freq, ValueWarning)\n",
      "/usr/local/lib/python3.5/dist-packages/statsmodels/tsa/base/tsa_model.py:171: ValueWarning: No frequency information was provided, so inferred frequency H will be used.\n",
      "  % freq, ValueWarning)\n",
      "/usr/local/lib/python3.5/dist-packages/statsmodels/tsa/base/tsa_model.py:171: ValueWarning: No frequency information was provided, so inferred frequency H will be used.\n",
      "  % freq, ValueWarning)\n"
     ]
    },
    {
     "name": "stdout",
     "output_type": "stream",
     "text": [
      "V6A 1L7 model not created\n",
      "V6A 1L9 model not created\n"
     ]
    },
    {
     "name": "stderr",
     "output_type": "stream",
     "text": [
      "/usr/local/lib/python3.5/dist-packages/statsmodels/tsa/base/tsa_model.py:171: ValueWarning: No frequency information was provided, so inferred frequency H will be used.\n",
      "  % freq, ValueWarning)\n",
      "/usr/local/lib/python3.5/dist-packages/statsmodels/tsa/base/tsa_model.py:171: ValueWarning: No frequency information was provided, so inferred frequency H will be used.\n",
      "  % freq, ValueWarning)\n",
      "/usr/local/lib/python3.5/dist-packages/statsmodels/tsa/base/tsa_model.py:171: ValueWarning: No frequency information was provided, so inferred frequency H will be used.\n",
      "  % freq, ValueWarning)\n",
      "/usr/local/lib/python3.5/dist-packages/statsmodels/tsa/base/tsa_model.py:171: ValueWarning: No frequency information was provided, so inferred frequency H will be used.\n",
      "  % freq, ValueWarning)\n",
      "/usr/local/lib/python3.5/dist-packages/statsmodels/tsa/base/tsa_model.py:171: ValueWarning: No frequency information was provided, so inferred frequency H will be used.\n",
      "  % freq, ValueWarning)\n",
      "/usr/local/lib/python3.5/dist-packages/statsmodels/tsa/base/tsa_model.py:171: ValueWarning: No frequency information was provided, so inferred frequency H will be used.\n",
      "  % freq, ValueWarning)\n",
      "/usr/local/lib/python3.5/dist-packages/statsmodels/tsa/base/tsa_model.py:171: ValueWarning: No frequency information was provided, so inferred frequency H will be used.\n",
      "  % freq, ValueWarning)\n",
      "/usr/local/lib/python3.5/dist-packages/statsmodels/tsa/base/tsa_model.py:171: ValueWarning: No frequency information was provided, so inferred frequency H will be used.\n",
      "  % freq, ValueWarning)\n",
      "/usr/local/lib/python3.5/dist-packages/statsmodels/tsa/base/tsa_model.py:171: ValueWarning: No frequency information was provided, so inferred frequency H will be used.\n",
      "  % freq, ValueWarning)\n"
     ]
    },
    {
     "name": "stdout",
     "output_type": "stream",
     "text": [
      "V6A 1S3 model not created\n"
     ]
    },
    {
     "name": "stderr",
     "output_type": "stream",
     "text": [
      "/usr/local/lib/python3.5/dist-packages/statsmodels/tsa/base/tsa_model.py:171: ValueWarning: No frequency information was provided, so inferred frequency H will be used.\n",
      "  % freq, ValueWarning)\n",
      "/usr/local/lib/python3.5/dist-packages/statsmodels/tsa/base/tsa_model.py:171: ValueWarning: No frequency information was provided, so inferred frequency H will be used.\n",
      "  % freq, ValueWarning)\n",
      "/usr/local/lib/python3.5/dist-packages/statsmodels/tsa/base/tsa_model.py:171: ValueWarning: No frequency information was provided, so inferred frequency H will be used.\n",
      "  % freq, ValueWarning)\n",
      "/usr/local/lib/python3.5/dist-packages/statsmodels/tsa/base/tsa_model.py:171: ValueWarning: No frequency information was provided, so inferred frequency H will be used.\n",
      "  % freq, ValueWarning)\n",
      "/usr/local/lib/python3.5/dist-packages/statsmodels/tsa/base/tsa_model.py:171: ValueWarning: No frequency information was provided, so inferred frequency H will be used.\n",
      "  % freq, ValueWarning)\n"
     ]
    },
    {
     "name": "stdout",
     "output_type": "stream",
     "text": [
      "V6A 1V1 model not created\n",
      "V6A 1V6 model not created\n",
      "V6A 1V9 model not created\n"
     ]
    },
    {
     "name": "stderr",
     "output_type": "stream",
     "text": [
      "/usr/local/lib/python3.5/dist-packages/statsmodels/tsa/base/tsa_model.py:171: ValueWarning: No frequency information was provided, so inferred frequency H will be used.\n",
      "  % freq, ValueWarning)\n",
      "/usr/local/lib/python3.5/dist-packages/statsmodels/tsa/base/tsa_model.py:171: ValueWarning: No frequency information was provided, so inferred frequency H will be used.\n",
      "  % freq, ValueWarning)\n",
      "/usr/local/lib/python3.5/dist-packages/statsmodels/tsa/base/tsa_model.py:171: ValueWarning: No frequency information was provided, so inferred frequency H will be used.\n",
      "  % freq, ValueWarning)\n",
      "/usr/local/lib/python3.5/dist-packages/statsmodels/tsa/base/tsa_model.py:171: ValueWarning: No frequency information was provided, so inferred frequency H will be used.\n",
      "  % freq, ValueWarning)\n"
     ]
    },
    {
     "name": "stdout",
     "output_type": "stream",
     "text": [
      "V6A 1Y7 model not created\n"
     ]
    },
    {
     "name": "stderr",
     "output_type": "stream",
     "text": [
      "/usr/local/lib/python3.5/dist-packages/statsmodels/tsa/base/tsa_model.py:171: ValueWarning: No frequency information was provided, so inferred frequency H will be used.\n",
      "  % freq, ValueWarning)\n",
      "/usr/local/lib/python3.5/dist-packages/statsmodels/tsa/base/tsa_model.py:171: ValueWarning: No frequency information was provided, so inferred frequency H will be used.\n",
      "  % freq, ValueWarning)\n",
      "/usr/local/lib/python3.5/dist-packages/statsmodels/tsa/base/tsa_model.py:171: ValueWarning: No frequency information was provided, so inferred frequency H will be used.\n",
      "  % freq, ValueWarning)\n",
      "/usr/local/lib/python3.5/dist-packages/statsmodels/tsa/base/tsa_model.py:171: ValueWarning: No frequency information was provided, so inferred frequency H will be used.\n",
      "  % freq, ValueWarning)\n",
      "/usr/local/lib/python3.5/dist-packages/statsmodels/tsa/base/tsa_model.py:171: ValueWarning: No frequency information was provided, so inferred frequency H will be used.\n",
      "  % freq, ValueWarning)\n",
      "/usr/local/lib/python3.5/dist-packages/statsmodels/tsa/base/tsa_model.py:171: ValueWarning: No frequency information was provided, so inferred frequency H will be used.\n",
      "  % freq, ValueWarning)\n",
      "/usr/local/lib/python3.5/dist-packages/statsmodels/tsa/base/tsa_model.py:171: ValueWarning: No frequency information was provided, so inferred frequency H will be used.\n",
      "  % freq, ValueWarning)\n"
     ]
    },
    {
     "name": "stdout",
     "output_type": "stream",
     "text": [
      "V6A 1Z5 model not created\n",
      "V6A 1Z6 model not created\n",
      "V6A 1Z7 model not created\n",
      "V6A 2A5 model not created\n",
      "V6A 2B6 model not created\n",
      "V6A 2C3 model not created\n"
     ]
    },
    {
     "name": "stderr",
     "output_type": "stream",
     "text": [
      "/usr/local/lib/python3.5/dist-packages/statsmodels/tsa/base/tsa_model.py:171: ValueWarning: No frequency information was provided, so inferred frequency H will be used.\n",
      "  % freq, ValueWarning)\n",
      "/usr/local/lib/python3.5/dist-packages/statsmodels/tsa/base/tsa_model.py:171: ValueWarning: No frequency information was provided, so inferred frequency H will be used.\n",
      "  % freq, ValueWarning)\n",
      "/usr/local/lib/python3.5/dist-packages/statsmodels/tsa/base/tsa_model.py:171: ValueWarning: No frequency information was provided, so inferred frequency H will be used.\n",
      "  % freq, ValueWarning)\n",
      "/usr/local/lib/python3.5/dist-packages/statsmodels/tsa/base/tsa_model.py:171: ValueWarning: No frequency information was provided, so inferred frequency H will be used.\n",
      "  % freq, ValueWarning)\n"
     ]
    },
    {
     "name": "stdout",
     "output_type": "stream",
     "text": [
      "V6A 2K1 model not created\n",
      "V6A 2K7 model not created\n"
     ]
    },
    {
     "name": "stderr",
     "output_type": "stream",
     "text": [
      "/usr/local/lib/python3.5/dist-packages/statsmodels/tsa/base/tsa_model.py:171: ValueWarning: No frequency information was provided, so inferred frequency H will be used.\n",
      "  % freq, ValueWarning)\n",
      "/usr/local/lib/python3.5/dist-packages/statsmodels/tsa/base/tsa_model.py:171: ValueWarning: No frequency information was provided, so inferred frequency H will be used.\n",
      "  % freq, ValueWarning)\n",
      "/usr/local/lib/python3.5/dist-packages/statsmodels/tsa/base/tsa_model.py:171: ValueWarning: No frequency information was provided, so inferred frequency H will be used.\n",
      "  % freq, ValueWarning)\n",
      "/usr/local/lib/python3.5/dist-packages/statsmodels/tsa/base/tsa_model.py:171: ValueWarning: No frequency information was provided, so inferred frequency H will be used.\n",
      "  % freq, ValueWarning)\n",
      "/usr/local/lib/python3.5/dist-packages/statsmodels/tsa/base/tsa_model.py:171: ValueWarning: No frequency information was provided, so inferred frequency H will be used.\n",
      "  % freq, ValueWarning)\n"
     ]
    },
    {
     "name": "stdout",
     "output_type": "stream",
     "text": [
      "V6A 2P8 model not created\n",
      "V6A 2R1 model not created\n"
     ]
    },
    {
     "name": "stderr",
     "output_type": "stream",
     "text": [
      "/usr/local/lib/python3.5/dist-packages/statsmodels/tsa/base/tsa_model.py:171: ValueWarning: No frequency information was provided, so inferred frequency H will be used.\n",
      "  % freq, ValueWarning)\n",
      "/usr/local/lib/python3.5/dist-packages/statsmodels/tsa/base/tsa_model.py:171: ValueWarning: No frequency information was provided, so inferred frequency H will be used.\n",
      "  % freq, ValueWarning)\n",
      "/usr/local/lib/python3.5/dist-packages/statsmodels/tsa/base/tsa_model.py:171: ValueWarning: No frequency information was provided, so inferred frequency H will be used.\n",
      "  % freq, ValueWarning)\n",
      "/usr/local/lib/python3.5/dist-packages/statsmodels/tsa/base/tsa_model.py:171: ValueWarning: No frequency information was provided, so inferred frequency H will be used.\n",
      "  % freq, ValueWarning)\n",
      "/usr/local/lib/python3.5/dist-packages/statsmodels/tsa/base/tsa_model.py:171: ValueWarning: No frequency information was provided, so inferred frequency H will be used.\n",
      "  % freq, ValueWarning)\n",
      "/usr/local/lib/python3.5/dist-packages/statsmodels/tsa/base/tsa_model.py:171: ValueWarning: No frequency information was provided, so inferred frequency H will be used.\n",
      "  % freq, ValueWarning)\n",
      "/usr/local/lib/python3.5/dist-packages/statsmodels/tsa/base/tsa_model.py:171: ValueWarning: No frequency information was provided, so inferred frequency H will be used.\n",
      "  % freq, ValueWarning)\n",
      "/usr/local/lib/python3.5/dist-packages/statsmodels/tsa/base/tsa_model.py:171: ValueWarning: No frequency information was provided, so inferred frequency H will be used.\n",
      "  % freq, ValueWarning)\n"
     ]
    },
    {
     "name": "stdout",
     "output_type": "stream",
     "text": [
      "V6A 2Z8 model not created\n"
     ]
    },
    {
     "name": "stderr",
     "output_type": "stream",
     "text": [
      "/usr/local/lib/python3.5/dist-packages/statsmodels/tsa/base/tsa_model.py:171: ValueWarning: No frequency information was provided, so inferred frequency H will be used.\n",
      "  % freq, ValueWarning)\n",
      "/usr/local/lib/python3.5/dist-packages/statsmodels/tsa/base/tsa_model.py:171: ValueWarning: No frequency information was provided, so inferred frequency H will be used.\n",
      "  % freq, ValueWarning)\n"
     ]
    },
    {
     "name": "stdout",
     "output_type": "stream",
     "text": [
      "V6A 3A1 model not created\n"
     ]
    },
    {
     "name": "stderr",
     "output_type": "stream",
     "text": [
      "/usr/local/lib/python3.5/dist-packages/statsmodels/tsa/base/tsa_model.py:171: ValueWarning: No frequency information was provided, so inferred frequency H will be used.\n",
      "  % freq, ValueWarning)\n",
      "/usr/local/lib/python3.5/dist-packages/statsmodels/tsa/base/tsa_model.py:171: ValueWarning: No frequency information was provided, so inferred frequency H will be used.\n",
      "  % freq, ValueWarning)\n",
      "/usr/local/lib/python3.5/dist-packages/statsmodels/tsa/base/tsa_model.py:171: ValueWarning: No frequency information was provided, so inferred frequency H will be used.\n",
      "  % freq, ValueWarning)\n",
      "/usr/local/lib/python3.5/dist-packages/statsmodels/tsa/base/tsa_model.py:171: ValueWarning: No frequency information was provided, so inferred frequency H will be used.\n",
      "  % freq, ValueWarning)\n"
     ]
    },
    {
     "name": "stdout",
     "output_type": "stream",
     "text": [
      "V6A 3A8 model not created\n",
      "V6A 3E1 model not created\n",
      "V6A 3E5 model not created\n"
     ]
    },
    {
     "name": "stderr",
     "output_type": "stream",
     "text": [
      "/usr/local/lib/python3.5/dist-packages/statsmodels/tsa/base/tsa_model.py:171: ValueWarning: No frequency information was provided, so inferred frequency H will be used.\n",
      "  % freq, ValueWarning)\n",
      "/usr/local/lib/python3.5/dist-packages/statsmodels/tsa/base/tsa_model.py:171: ValueWarning: No frequency information was provided, so inferred frequency H will be used.\n",
      "  % freq, ValueWarning)\n"
     ]
    },
    {
     "name": "stdout",
     "output_type": "stream",
     "text": [
      "V6A 3J1 model not created\n"
     ]
    },
    {
     "name": "stderr",
     "output_type": "stream",
     "text": [
      "/usr/local/lib/python3.5/dist-packages/statsmodels/tsa/base/tsa_model.py:171: ValueWarning: No frequency information was provided, so inferred frequency H will be used.\n",
      "  % freq, ValueWarning)\n",
      "/usr/local/lib/python3.5/dist-packages/statsmodels/tsa/base/tsa_model.py:171: ValueWarning: No frequency information was provided, so inferred frequency H will be used.\n",
      "  % freq, ValueWarning)\n",
      "/usr/local/lib/python3.5/dist-packages/statsmodels/tsa/base/tsa_model.py:171: ValueWarning: No frequency information was provided, so inferred frequency H will be used.\n",
      "  % freq, ValueWarning)\n"
     ]
    },
    {
     "name": "stdout",
     "output_type": "stream",
     "text": [
      "V6A 3K2 model not created\n",
      "V6A 3L5 model not created\n"
     ]
    },
    {
     "name": "stderr",
     "output_type": "stream",
     "text": [
      "/usr/local/lib/python3.5/dist-packages/statsmodels/tsa/base/tsa_model.py:171: ValueWarning: No frequency information was provided, so inferred frequency H will be used.\n",
      "  % freq, ValueWarning)\n",
      "/usr/local/lib/python3.5/dist-packages/statsmodels/base/model.py:508: ConvergenceWarning: Maximum Likelihood optimization failed to converge. Check mle_retvals\n",
      "  \"Check mle_retvals\", ConvergenceWarning)\n",
      "/usr/local/lib/python3.5/dist-packages/statsmodels/tsa/base/tsa_model.py:171: ValueWarning: No frequency information was provided, so inferred frequency H will be used.\n",
      "  % freq, ValueWarning)\n",
      "/usr/local/lib/python3.5/dist-packages/statsmodels/tsa/base/tsa_model.py:171: ValueWarning: No frequency information was provided, so inferred frequency H will be used.\n",
      "  % freq, ValueWarning)\n",
      "/usr/local/lib/python3.5/dist-packages/statsmodels/tsa/base/tsa_model.py:171: ValueWarning: No frequency information was provided, so inferred frequency H will be used.\n",
      "  % freq, ValueWarning)\n",
      "/usr/local/lib/python3.5/dist-packages/statsmodels/tsa/base/tsa_model.py:171: ValueWarning: No frequency information was provided, so inferred frequency H will be used.\n",
      "  % freq, ValueWarning)\n"
     ]
    },
    {
     "name": "stdout",
     "output_type": "stream",
     "text": [
      "V6A 3T8 model not created\n",
      "V6A 3X1 model not created\n"
     ]
    },
    {
     "name": "stderr",
     "output_type": "stream",
     "text": [
      "/usr/local/lib/python3.5/dist-packages/statsmodels/tsa/base/tsa_model.py:171: ValueWarning: No frequency information was provided, so inferred frequency H will be used.\n",
      "  % freq, ValueWarning)\n",
      "/usr/local/lib/python3.5/dist-packages/statsmodels/tsa/base/tsa_model.py:171: ValueWarning: No frequency information was provided, so inferred frequency H will be used.\n",
      "  % freq, ValueWarning)\n",
      "/usr/local/lib/python3.5/dist-packages/statsmodels/tsa/base/tsa_model.py:171: ValueWarning: No frequency information was provided, so inferred frequency H will be used.\n",
      "  % freq, ValueWarning)\n"
     ]
    },
    {
     "name": "stdout",
     "output_type": "stream",
     "text": [
      "V6A 3X4 model not created\n",
      "V6A 3Y1 model not created\n"
     ]
    },
    {
     "name": "stderr",
     "output_type": "stream",
     "text": [
      "/usr/local/lib/python3.5/dist-packages/statsmodels/tsa/base/tsa_model.py:171: ValueWarning: No frequency information was provided, so inferred frequency H will be used.\n",
      "  % freq, ValueWarning)\n",
      "/usr/local/lib/python3.5/dist-packages/statsmodels/tsa/base/tsa_model.py:171: ValueWarning: No frequency information was provided, so inferred frequency H will be used.\n",
      "  % freq, ValueWarning)\n"
     ]
    },
    {
     "name": "stdout",
     "output_type": "stream",
     "text": [
      "V6A 3Z7 model not created\n"
     ]
    },
    {
     "name": "stderr",
     "output_type": "stream",
     "text": [
      "/usr/local/lib/python3.5/dist-packages/statsmodels/tsa/base/tsa_model.py:171: ValueWarning: No frequency information was provided, so inferred frequency H will be used.\n",
      "  % freq, ValueWarning)\n",
      "/usr/local/lib/python3.5/dist-packages/statsmodels/tsa/base/tsa_model.py:171: ValueWarning: No frequency information was provided, so inferred frequency H will be used.\n",
      "  % freq, ValueWarning)\n"
     ]
    },
    {
     "name": "stdout",
     "output_type": "stream",
     "text": [
      "V6A 4E3 model not created\n"
     ]
    },
    {
     "name": "stderr",
     "output_type": "stream",
     "text": [
      "/usr/local/lib/python3.5/dist-packages/statsmodels/tsa/base/tsa_model.py:171: ValueWarning: No frequency information was provided, so inferred frequency H will be used.\n",
      "  % freq, ValueWarning)\n",
      "/usr/local/lib/python3.5/dist-packages/statsmodels/tsa/base/tsa_model.py:171: ValueWarning: No frequency information was provided, so inferred frequency H will be used.\n",
      "  % freq, ValueWarning)\n",
      "/usr/local/lib/python3.5/dist-packages/statsmodels/tsa/base/tsa_model.py:171: ValueWarning: No frequency information was provided, so inferred frequency H will be used.\n",
      "  % freq, ValueWarning)\n"
     ]
    },
    {
     "name": "stdout",
     "output_type": "stream",
     "text": [
      "V6A 4J2 model not created\n",
      "V6A 4J6 model not created\n"
     ]
    },
    {
     "name": "stderr",
     "output_type": "stream",
     "text": [
      "/usr/local/lib/python3.5/dist-packages/statsmodels/tsa/base/tsa_model.py:171: ValueWarning: No frequency information was provided, so inferred frequency H will be used.\n",
      "  % freq, ValueWarning)\n",
      "/usr/local/lib/python3.5/dist-packages/statsmodels/tsa/base/tsa_model.py:171: ValueWarning: No frequency information was provided, so inferred frequency H will be used.\n",
      "  % freq, ValueWarning)\n",
      "/usr/local/lib/python3.5/dist-packages/statsmodels/tsa/base/tsa_model.py:171: ValueWarning: No frequency information was provided, so inferred frequency H will be used.\n",
      "  % freq, ValueWarning)\n",
      "/usr/local/lib/python3.5/dist-packages/statsmodels/tsa/base/tsa_model.py:171: ValueWarning: No frequency information was provided, so inferred frequency H will be used.\n",
      "  % freq, ValueWarning)\n",
      "/usr/local/lib/python3.5/dist-packages/statsmodels/tsa/base/tsa_model.py:171: ValueWarning: No frequency information was provided, so inferred frequency H will be used.\n",
      "  % freq, ValueWarning)\n"
     ]
    },
    {
     "name": "stdout",
     "output_type": "stream",
     "text": [
      "V6B model not created\n",
      "V6B 0G0 model not created\n",
      "V6B 0G9 model not created\n",
      "V6B 0H8 model not created\n"
     ]
    },
    {
     "name": "stderr",
     "output_type": "stream",
     "text": [
      "/usr/local/lib/python3.5/dist-packages/statsmodels/tsa/base/tsa_model.py:171: ValueWarning: No frequency information was provided, so inferred frequency H will be used.\n",
      "  % freq, ValueWarning)\n",
      "/usr/local/lib/python3.5/dist-packages/statsmodels/tsa/base/tsa_model.py:171: ValueWarning: No frequency information was provided, so inferred frequency H will be used.\n",
      "  % freq, ValueWarning)\n",
      "/usr/local/lib/python3.5/dist-packages/statsmodels/tsa/base/tsa_model.py:171: ValueWarning: No frequency information was provided, so inferred frequency H will be used.\n",
      "  % freq, ValueWarning)\n",
      "/usr/local/lib/python3.5/dist-packages/statsmodels/tsa/base/tsa_model.py:171: ValueWarning: No frequency information was provided, so inferred frequency H will be used.\n",
      "  % freq, ValueWarning)\n",
      "/usr/local/lib/python3.5/dist-packages/statsmodels/tsa/base/tsa_model.py:171: ValueWarning: No frequency information was provided, so inferred frequency H will be used.\n",
      "  % freq, ValueWarning)\n"
     ]
    },
    {
     "name": "stdout",
     "output_type": "stream",
     "text": [
      "V6B 0M2 model not created\n",
      "V6B 1A5 model not created\n",
      "V6B 1B2 model not created\n"
     ]
    },
    {
     "name": "stderr",
     "output_type": "stream",
     "text": [
      "/usr/local/lib/python3.5/dist-packages/statsmodels/tsa/base/tsa_model.py:171: ValueWarning: No frequency information was provided, so inferred frequency H will be used.\n",
      "  % freq, ValueWarning)\n",
      "/usr/local/lib/python3.5/dist-packages/statsmodels/tsa/base/tsa_model.py:171: ValueWarning: No frequency information was provided, so inferred frequency H will be used.\n",
      "  % freq, ValueWarning)\n"
     ]
    },
    {
     "name": "stdout",
     "output_type": "stream",
     "text": [
      "V6B 1C1 model not created\n"
     ]
    },
    {
     "name": "stderr",
     "output_type": "stream",
     "text": [
      "/usr/local/lib/python3.5/dist-packages/statsmodels/tsa/base/tsa_model.py:171: ValueWarning: No frequency information was provided, so inferred frequency H will be used.\n",
      "  % freq, ValueWarning)\n",
      "/usr/local/lib/python3.5/dist-packages/statsmodels/tsa/base/tsa_model.py:171: ValueWarning: No frequency information was provided, so inferred frequency H will be used.\n",
      "  % freq, ValueWarning)\n",
      "/usr/local/lib/python3.5/dist-packages/statsmodels/tsa/base/tsa_model.py:171: ValueWarning: No frequency information was provided, so inferred frequency H will be used.\n",
      "  % freq, ValueWarning)\n"
     ]
    },
    {
     "name": "stdout",
     "output_type": "stream",
     "text": [
      "V6B 1C9 model not created\n"
     ]
    },
    {
     "name": "stderr",
     "output_type": "stream",
     "text": [
      "/usr/local/lib/python3.5/dist-packages/statsmodels/tsa/base/tsa_model.py:171: ValueWarning: No frequency information was provided, so inferred frequency H will be used.\n",
      "  % freq, ValueWarning)\n",
      "/usr/local/lib/python3.5/dist-packages/statsmodels/tsa/base/tsa_model.py:171: ValueWarning: No frequency information was provided, so inferred frequency H will be used.\n",
      "  % freq, ValueWarning)\n",
      "/usr/local/lib/python3.5/dist-packages/statsmodels/tsa/base/tsa_model.py:171: ValueWarning: No frequency information was provided, so inferred frequency H will be used.\n",
      "  % freq, ValueWarning)\n"
     ]
    },
    {
     "name": "stdout",
     "output_type": "stream",
     "text": [
      "V6B 1G4 model not created\n"
     ]
    },
    {
     "name": "stderr",
     "output_type": "stream",
     "text": [
      "/usr/local/lib/python3.5/dist-packages/statsmodels/tsa/base/tsa_model.py:171: ValueWarning: No frequency information was provided, so inferred frequency H will be used.\n",
      "  % freq, ValueWarning)\n",
      "/usr/local/lib/python3.5/dist-packages/statsmodels/tsa/base/tsa_model.py:171: ValueWarning: No frequency information was provided, so inferred frequency H will be used.\n",
      "  % freq, ValueWarning)\n",
      "/usr/local/lib/python3.5/dist-packages/statsmodels/tsa/base/tsa_model.py:171: ValueWarning: No frequency information was provided, so inferred frequency H will be used.\n",
      "  % freq, ValueWarning)\n",
      "/usr/local/lib/python3.5/dist-packages/statsmodels/tsa/base/tsa_model.py:171: ValueWarning: No frequency information was provided, so inferred frequency H will be used.\n",
      "  % freq, ValueWarning)\n"
     ]
    },
    {
     "name": "stdout",
     "output_type": "stream",
     "text": [
      "V6B 1H5 model not created\n"
     ]
    },
    {
     "name": "stderr",
     "output_type": "stream",
     "text": [
      "/usr/local/lib/python3.5/dist-packages/statsmodels/base/model.py:508: ConvergenceWarning: Maximum Likelihood optimization failed to converge. Check mle_retvals\n",
      "  \"Check mle_retvals\", ConvergenceWarning)\n",
      "/usr/local/lib/python3.5/dist-packages/statsmodels/tsa/base/tsa_model.py:171: ValueWarning: No frequency information was provided, so inferred frequency H will be used.\n",
      "  % freq, ValueWarning)\n",
      "/usr/local/lib/python3.5/dist-packages/statsmodels/base/model.py:508: ConvergenceWarning: Maximum Likelihood optimization failed to converge. Check mle_retvals\n",
      "  \"Check mle_retvals\", ConvergenceWarning)\n",
      "/usr/local/lib/python3.5/dist-packages/statsmodels/tsa/base/tsa_model.py:171: ValueWarning: No frequency information was provided, so inferred frequency H will be used.\n",
      "  % freq, ValueWarning)\n",
      "/usr/local/lib/python3.5/dist-packages/statsmodels/tsa/base/tsa_model.py:171: ValueWarning: No frequency information was provided, so inferred frequency H will be used.\n",
      "  % freq, ValueWarning)\n"
     ]
    },
    {
     "name": "stdout",
     "output_type": "stream",
     "text": [
      "V6B 1P1 model not created\n"
     ]
    },
    {
     "name": "stderr",
     "output_type": "stream",
     "text": [
      "/usr/local/lib/python3.5/dist-packages/statsmodels/tsa/base/tsa_model.py:171: ValueWarning: No frequency information was provided, so inferred frequency H will be used.\n",
      "  % freq, ValueWarning)\n",
      "/usr/local/lib/python3.5/dist-packages/statsmodels/tsa/base/tsa_model.py:171: ValueWarning: No frequency information was provided, so inferred frequency H will be used.\n",
      "  % freq, ValueWarning)\n",
      "/usr/local/lib/python3.5/dist-packages/statsmodels/tsa/base/tsa_model.py:171: ValueWarning: No frequency information was provided, so inferred frequency H will be used.\n",
      "  % freq, ValueWarning)\n",
      "/usr/local/lib/python3.5/dist-packages/statsmodels/tsa/base/tsa_model.py:171: ValueWarning: No frequency information was provided, so inferred frequency H will be used.\n",
      "  % freq, ValueWarning)\n",
      "/usr/local/lib/python3.5/dist-packages/statsmodels/tsa/base/tsa_model.py:171: ValueWarning: No frequency information was provided, so inferred frequency H will be used.\n",
      "  % freq, ValueWarning)\n",
      "/usr/local/lib/python3.5/dist-packages/statsmodels/tsa/base/tsa_model.py:171: ValueWarning: No frequency information was provided, so inferred frequency H will be used.\n",
      "  % freq, ValueWarning)\n",
      "/usr/local/lib/python3.5/dist-packages/statsmodels/tsa/base/tsa_model.py:171: ValueWarning: No frequency information was provided, so inferred frequency H will be used.\n",
      "  % freq, ValueWarning)\n",
      "/usr/local/lib/python3.5/dist-packages/statsmodels/tsa/base/tsa_model.py:171: ValueWarning: No frequency information was provided, so inferred frequency H will be used.\n",
      "  % freq, ValueWarning)\n",
      "/usr/local/lib/python3.5/dist-packages/statsmodels/tsa/base/tsa_model.py:171: ValueWarning: No frequency information was provided, so inferred frequency H will be used.\n",
      "  % freq, ValueWarning)\n",
      "/usr/local/lib/python3.5/dist-packages/statsmodels/tsa/base/tsa_model.py:171: ValueWarning: No frequency information was provided, so inferred frequency H will be used.\n",
      "  % freq, ValueWarning)\n",
      "/usr/local/lib/python3.5/dist-packages/statsmodels/tsa/base/tsa_model.py:171: ValueWarning: No frequency information was provided, so inferred frequency H will be used.\n",
      "  % freq, ValueWarning)\n"
     ]
    },
    {
     "name": "stdout",
     "output_type": "stream",
     "text": [
      "V6B 1Y7 model not created\n",
      "V6B 2B9 model not created\n"
     ]
    },
    {
     "name": "stderr",
     "output_type": "stream",
     "text": [
      "/usr/local/lib/python3.5/dist-packages/statsmodels/tsa/base/tsa_model.py:171: ValueWarning: No frequency information was provided, so inferred frequency H will be used.\n",
      "  % freq, ValueWarning)\n",
      "/usr/local/lib/python3.5/dist-packages/statsmodels/tsa/base/tsa_model.py:171: ValueWarning: No frequency information was provided, so inferred frequency H will be used.\n",
      "  % freq, ValueWarning)\n"
     ]
    },
    {
     "name": "stdout",
     "output_type": "stream",
     "text": [
      "V6B 2J1 model not created\n"
     ]
    },
    {
     "name": "stderr",
     "output_type": "stream",
     "text": [
      "/usr/local/lib/python3.5/dist-packages/statsmodels/tsa/base/tsa_model.py:171: ValueWarning: No frequency information was provided, so inferred frequency H will be used.\n",
      "  % freq, ValueWarning)\n",
      "/usr/local/lib/python3.5/dist-packages/statsmodels/tsa/base/tsa_model.py:171: ValueWarning: No frequency information was provided, so inferred frequency H will be used.\n",
      "  % freq, ValueWarning)\n"
     ]
    },
    {
     "name": "stdout",
     "output_type": "stream",
     "text": [
      "V6B 2K7 model not created\n"
     ]
    },
    {
     "name": "stderr",
     "output_type": "stream",
     "text": [
      "/usr/local/lib/python3.5/dist-packages/statsmodels/tsa/base/tsa_model.py:171: ValueWarning: No frequency information was provided, so inferred frequency H will be used.\n",
      "  % freq, ValueWarning)\n",
      "/usr/local/lib/python3.5/dist-packages/statsmodels/tsa/base/tsa_model.py:171: ValueWarning: No frequency information was provided, so inferred frequency H will be used.\n",
      "  % freq, ValueWarning)\n",
      "/usr/local/lib/python3.5/dist-packages/statsmodels/tsa/base/tsa_model.py:171: ValueWarning: No frequency information was provided, so inferred frequency H will be used.\n",
      "  % freq, ValueWarning)\n",
      "/usr/local/lib/python3.5/dist-packages/statsmodels/tsa/base/tsa_model.py:171: ValueWarning: No frequency information was provided, so inferred frequency H will be used.\n",
      "  % freq, ValueWarning)\n",
      "/usr/local/lib/python3.5/dist-packages/statsmodels/tsa/base/tsa_model.py:171: ValueWarning: No frequency information was provided, so inferred frequency H will be used.\n",
      "  % freq, ValueWarning)\n",
      "/usr/local/lib/python3.5/dist-packages/statsmodels/tsa/base/tsa_model.py:171: ValueWarning: No frequency information was provided, so inferred frequency H will be used.\n",
      "  % freq, ValueWarning)\n",
      "/usr/local/lib/python3.5/dist-packages/statsmodels/tsa/base/tsa_model.py:171: ValueWarning: No frequency information was provided, so inferred frequency H will be used.\n",
      "  % freq, ValueWarning)\n"
     ]
    },
    {
     "name": "stdout",
     "output_type": "stream",
     "text": [
      "V6B 2N3 model not created\n",
      "V6B 2N4 model not created\n",
      "V6B 2N7 model not created\n",
      "V6B 2R5 model not created\n"
     ]
    },
    {
     "name": "stderr",
     "output_type": "stream",
     "text": [
      "/usr/local/lib/python3.5/dist-packages/statsmodels/tsa/base/tsa_model.py:171: ValueWarning: No frequency information was provided, so inferred frequency H will be used.\n",
      "  % freq, ValueWarning)\n",
      "/usr/local/lib/python3.5/dist-packages/statsmodels/tsa/base/tsa_model.py:171: ValueWarning: No frequency information was provided, so inferred frequency H will be used.\n",
      "  % freq, ValueWarning)\n",
      "/usr/local/lib/python3.5/dist-packages/statsmodels/tsa/base/tsa_model.py:171: ValueWarning: No frequency information was provided, so inferred frequency H will be used.\n",
      "  % freq, ValueWarning)\n",
      "/usr/local/lib/python3.5/dist-packages/statsmodels/base/model.py:508: ConvergenceWarning: Maximum Likelihood optimization failed to converge. Check mle_retvals\n",
      "  \"Check mle_retvals\", ConvergenceWarning)\n",
      "/usr/local/lib/python3.5/dist-packages/statsmodels/tsa/base/tsa_model.py:171: ValueWarning: No frequency information was provided, so inferred frequency H will be used.\n",
      "  % freq, ValueWarning)\n",
      "/usr/local/lib/python3.5/dist-packages/statsmodels/tsa/base/tsa_model.py:171: ValueWarning: No frequency information was provided, so inferred frequency H will be used.\n",
      "  % freq, ValueWarning)\n",
      "/usr/local/lib/python3.5/dist-packages/statsmodels/tsa/base/tsa_model.py:171: ValueWarning: No frequency information was provided, so inferred frequency H will be used.\n",
      "  % freq, ValueWarning)\n",
      "/usr/local/lib/python3.5/dist-packages/statsmodels/tsa/base/tsa_model.py:171: ValueWarning: No frequency information was provided, so inferred frequency H will be used.\n",
      "  % freq, ValueWarning)\n"
     ]
    },
    {
     "name": "stdout",
     "output_type": "stream",
     "text": [
      "V6B 3A4 model not created\n",
      "V6B 3A6 model not created\n"
     ]
    },
    {
     "name": "stderr",
     "output_type": "stream",
     "text": [
      "/usr/local/lib/python3.5/dist-packages/statsmodels/tsa/base/tsa_model.py:171: ValueWarning: No frequency information was provided, so inferred frequency H will be used.\n",
      "  % freq, ValueWarning)\n",
      "/usr/local/lib/python3.5/dist-packages/statsmodels/tsa/base/tsa_model.py:171: ValueWarning: No frequency information was provided, so inferred frequency H will be used.\n",
      "  % freq, ValueWarning)\n"
     ]
    },
    {
     "name": "stdout",
     "output_type": "stream",
     "text": [
      "V6B 3B4 model not created\n"
     ]
    },
    {
     "name": "stderr",
     "output_type": "stream",
     "text": [
      "/usr/local/lib/python3.5/dist-packages/statsmodels/tsa/base/tsa_model.py:171: ValueWarning: No frequency information was provided, so inferred frequency H will be used.\n",
      "  % freq, ValueWarning)\n",
      "/usr/local/lib/python3.5/dist-packages/statsmodels/tsa/base/tsa_model.py:171: ValueWarning: No frequency information was provided, so inferred frequency H will be used.\n",
      "  % freq, ValueWarning)\n",
      "/usr/local/lib/python3.5/dist-packages/statsmodels/tsa/base/tsa_model.py:171: ValueWarning: No frequency information was provided, so inferred frequency H will be used.\n",
      "  % freq, ValueWarning)\n"
     ]
    },
    {
     "name": "stdout",
     "output_type": "stream",
     "text": [
      "V6B 3K3 model not created\n"
     ]
    },
    {
     "name": "stderr",
     "output_type": "stream",
     "text": [
      "/usr/local/lib/python3.5/dist-packages/statsmodels/tsa/base/tsa_model.py:171: ValueWarning: No frequency information was provided, so inferred frequency H will be used.\n",
      "  % freq, ValueWarning)\n",
      "/usr/local/lib/python3.5/dist-packages/statsmodels/tsa/base/tsa_model.py:171: ValueWarning: No frequency information was provided, so inferred frequency H will be used.\n",
      "  % freq, ValueWarning)\n",
      "/usr/local/lib/python3.5/dist-packages/statsmodels/tsa/base/tsa_model.py:171: ValueWarning: No frequency information was provided, so inferred frequency H will be used.\n",
      "  % freq, ValueWarning)\n"
     ]
    },
    {
     "name": "stdout",
     "output_type": "stream",
     "text": [
      "V6B 3M6 model not created\n"
     ]
    },
    {
     "name": "stderr",
     "output_type": "stream",
     "text": [
      "/usr/local/lib/python3.5/dist-packages/statsmodels/tsa/base/tsa_model.py:171: ValueWarning: No frequency information was provided, so inferred frequency H will be used.\n",
      "  % freq, ValueWarning)\n",
      "/usr/local/lib/python3.5/dist-packages/statsmodels/tsa/base/tsa_model.py:171: ValueWarning: No frequency information was provided, so inferred frequency H will be used.\n",
      "  % freq, ValueWarning)\n"
     ]
    },
    {
     "name": "stdout",
     "output_type": "stream",
     "text": [
      "V6B 4K2 model not created\n"
     ]
    },
    {
     "name": "stderr",
     "output_type": "stream",
     "text": [
      "/usr/local/lib/python3.5/dist-packages/statsmodels/tsa/base/tsa_model.py:171: ValueWarning: No frequency information was provided, so inferred frequency H will be used.\n",
      "  % freq, ValueWarning)\n",
      "/usr/local/lib/python3.5/dist-packages/statsmodels/tsa/base/tsa_model.py:171: ValueWarning: No frequency information was provided, so inferred frequency H will be used.\n",
      "  % freq, ValueWarning)\n",
      "/usr/local/lib/python3.5/dist-packages/statsmodels/tsa/base/tsa_model.py:171: ValueWarning: No frequency information was provided, so inferred frequency H will be used.\n",
      "  % freq, ValueWarning)\n"
     ]
    },
    {
     "name": "stdout",
     "output_type": "stream",
     "text": [
      "V6B 4N5 model not created\n",
      "V6B 4N6 model not created\n"
     ]
    },
    {
     "name": "stderr",
     "output_type": "stream",
     "text": [
      "/usr/local/lib/python3.5/dist-packages/statsmodels/tsa/base/tsa_model.py:171: ValueWarning: No frequency information was provided, so inferred frequency H will be used.\n",
      "  % freq, ValueWarning)\n",
      "/usr/local/lib/python3.5/dist-packages/statsmodels/tsa/base/tsa_model.py:171: ValueWarning: No frequency information was provided, so inferred frequency H will be used.\n",
      "  % freq, ValueWarning)\n",
      "/usr/local/lib/python3.5/dist-packages/statsmodels/tsa/base/tsa_model.py:171: ValueWarning: No frequency information was provided, so inferred frequency H will be used.\n",
      "  % freq, ValueWarning)\n",
      "/usr/local/lib/python3.5/dist-packages/statsmodels/tsa/base/tsa_model.py:171: ValueWarning: No frequency information was provided, so inferred frequency H will be used.\n",
      "  % freq, ValueWarning)\n",
      "/usr/local/lib/python3.5/dist-packages/statsmodels/tsa/base/tsa_model.py:171: ValueWarning: No frequency information was provided, so inferred frequency H will be used.\n",
      "  % freq, ValueWarning)\n",
      "/usr/local/lib/python3.5/dist-packages/statsmodels/tsa/base/tsa_model.py:171: ValueWarning: No frequency information was provided, so inferred frequency H will be used.\n",
      "  % freq, ValueWarning)\n",
      "/usr/local/lib/python3.5/dist-packages/statsmodels/tsa/base/tsa_model.py:171: ValueWarning: No frequency information was provided, so inferred frequency H will be used.\n",
      "  % freq, ValueWarning)\n"
     ]
    },
    {
     "name": "stdout",
     "output_type": "stream",
     "text": [
      "V6B 5Z3 model not created\n"
     ]
    },
    {
     "name": "stderr",
     "output_type": "stream",
     "text": [
      "/usr/local/lib/python3.5/dist-packages/statsmodels/tsa/base/tsa_model.py:171: ValueWarning: No frequency information was provided, so inferred frequency H will be used.\n",
      "  % freq, ValueWarning)\n",
      "/usr/local/lib/python3.5/dist-packages/statsmodels/tsa/base/tsa_model.py:171: ValueWarning: No frequency information was provided, so inferred frequency H will be used.\n",
      "  % freq, ValueWarning)\n",
      "/usr/local/lib/python3.5/dist-packages/statsmodels/tsa/base/tsa_model.py:171: ValueWarning: No frequency information was provided, so inferred frequency H will be used.\n",
      "  % freq, ValueWarning)\n"
     ]
    },
    {
     "name": "stdout",
     "output_type": "stream",
     "text": [
      "V6B 6L4 model not created\n"
     ]
    },
    {
     "name": "stderr",
     "output_type": "stream",
     "text": [
      "/usr/local/lib/python3.5/dist-packages/statsmodels/tsa/base/tsa_model.py:171: ValueWarning: No frequency information was provided, so inferred frequency H will be used.\n",
      "  % freq, ValueWarning)\n",
      "/usr/local/lib/python3.5/dist-packages/statsmodels/tsa/base/tsa_model.py:171: ValueWarning: No frequency information was provided, so inferred frequency H will be used.\n",
      "  % freq, ValueWarning)\n",
      "/usr/local/lib/python3.5/dist-packages/statsmodels/tsa/base/tsa_model.py:171: ValueWarning: No frequency information was provided, so inferred frequency H will be used.\n",
      "  % freq, ValueWarning)\n",
      "/usr/local/lib/python3.5/dist-packages/statsmodels/tsa/base/tsa_model.py:171: ValueWarning: No frequency information was provided, so inferred frequency H will be used.\n",
      "  % freq, ValueWarning)\n",
      "/usr/local/lib/python3.5/dist-packages/statsmodels/tsa/base/tsa_model.py:171: ValueWarning: No frequency information was provided, so inferred frequency H will be used.\n",
      "  % freq, ValueWarning)\n",
      "/usr/local/lib/python3.5/dist-packages/statsmodels/tsa/base/tsa_model.py:171: ValueWarning: No frequency information was provided, so inferred frequency H will be used.\n",
      "  % freq, ValueWarning)\n",
      "/usr/local/lib/python3.5/dist-packages/statsmodels/tsa/base/tsa_model.py:171: ValueWarning: No frequency information was provided, so inferred frequency H will be used.\n",
      "  % freq, ValueWarning)\n",
      "/usr/local/lib/python3.5/dist-packages/statsmodels/tsa/base/tsa_model.py:171: ValueWarning: No frequency information was provided, so inferred frequency H will be used.\n",
      "  % freq, ValueWarning)\n"
     ]
    },
    {
     "name": "stdout",
     "output_type": "stream",
     "text": [
      "V6C 0B9 model not created\n",
      "V6C 1A8 model not created\n",
      "V6C 1E1 model not created\n",
      "V6C 1N5 model not created\n"
     ]
    },
    {
     "name": "stderr",
     "output_type": "stream",
     "text": [
      "/usr/local/lib/python3.5/dist-packages/statsmodels/tsa/base/tsa_model.py:171: ValueWarning: No frequency information was provided, so inferred frequency H will be used.\n",
      "  % freq, ValueWarning)\n",
      "/usr/local/lib/python3.5/dist-packages/statsmodels/base/model.py:508: ConvergenceWarning: Maximum Likelihood optimization failed to converge. Check mle_retvals\n",
      "  \"Check mle_retvals\", ConvergenceWarning)\n",
      "/usr/local/lib/python3.5/dist-packages/statsmodels/tsa/base/tsa_model.py:171: ValueWarning: No frequency information was provided, so inferred frequency H will be used.\n",
      "  % freq, ValueWarning)\n",
      "/usr/local/lib/python3.5/dist-packages/statsmodels/tsa/base/tsa_model.py:171: ValueWarning: No frequency information was provided, so inferred frequency H will be used.\n",
      "  % freq, ValueWarning)\n"
     ]
    },
    {
     "name": "stdout",
     "output_type": "stream",
     "text": [
      "V6C 1V4 model not created\n"
     ]
    },
    {
     "name": "stderr",
     "output_type": "stream",
     "text": [
      "/usr/local/lib/python3.5/dist-packages/statsmodels/tsa/base/tsa_model.py:171: ValueWarning: No frequency information was provided, so inferred frequency H will be used.\n",
      "  % freq, ValueWarning)\n",
      "/usr/local/lib/python3.5/dist-packages/statsmodels/tsa/base/tsa_model.py:171: ValueWarning: No frequency information was provided, so inferred frequency H will be used.\n",
      "  % freq, ValueWarning)\n",
      "/usr/local/lib/python3.5/dist-packages/statsmodels/tsa/base/tsa_model.py:171: ValueWarning: No frequency information was provided, so inferred frequency H will be used.\n",
      "  % freq, ValueWarning)\n",
      "/usr/local/lib/python3.5/dist-packages/statsmodels/tsa/base/tsa_model.py:171: ValueWarning: No frequency information was provided, so inferred frequency H will be used.\n",
      "  % freq, ValueWarning)\n"
     ]
    },
    {
     "name": "stdout",
     "output_type": "stream",
     "text": [
      "V6C 1X5 model not created\n",
      "V6C 1X6 model not created\n",
      "V6C 2L1 model not created\n"
     ]
    },
    {
     "name": "stderr",
     "output_type": "stream",
     "text": [
      "/usr/local/lib/python3.5/dist-packages/statsmodels/tsa/base/tsa_model.py:171: ValueWarning: No frequency information was provided, so inferred frequency H will be used.\n",
      "  % freq, ValueWarning)\n",
      "/usr/local/lib/python3.5/dist-packages/statsmodels/tsa/base/tsa_model.py:171: ValueWarning: No frequency information was provided, so inferred frequency H will be used.\n",
      "  % freq, ValueWarning)\n"
     ]
    },
    {
     "name": "stdout",
     "output_type": "stream",
     "text": [
      "V6C 2X1 model not created\n"
     ]
    },
    {
     "name": "stderr",
     "output_type": "stream",
     "text": [
      "/usr/local/lib/python3.5/dist-packages/statsmodels/tsa/base/tsa_model.py:171: ValueWarning: No frequency information was provided, so inferred frequency H will be used.\n",
      "  % freq, ValueWarning)\n",
      "/usr/local/lib/python3.5/dist-packages/statsmodels/tsa/base/tsa_model.py:171: ValueWarning: No frequency information was provided, so inferred frequency H will be used.\n",
      "  % freq, ValueWarning)\n",
      "/usr/local/lib/python3.5/dist-packages/statsmodels/tsa/base/tsa_model.py:171: ValueWarning: No frequency information was provided, so inferred frequency H will be used.\n",
      "  % freq, ValueWarning)\n",
      "/usr/local/lib/python3.5/dist-packages/statsmodels/tsa/base/tsa_model.py:171: ValueWarning: No frequency information was provided, so inferred frequency H will be used.\n",
      "  % freq, ValueWarning)\n",
      "/usr/local/lib/python3.5/dist-packages/statsmodels/tsa/base/tsa_model.py:171: ValueWarning: No frequency information was provided, so inferred frequency H will be used.\n",
      "  % freq, ValueWarning)\n",
      "/usr/local/lib/python3.5/dist-packages/statsmodels/tsa/base/tsa_model.py:171: ValueWarning: No frequency information was provided, so inferred frequency H will be used.\n",
      "  % freq, ValueWarning)\n",
      "/usr/local/lib/python3.5/dist-packages/statsmodels/tsa/base/tsa_model.py:171: ValueWarning: No frequency information was provided, so inferred frequency H will be used.\n",
      "  % freq, ValueWarning)\n"
     ]
    },
    {
     "name": "stdout",
     "output_type": "stream",
     "text": [
      "V6C 3L6 model not created\n",
      "V6C 3S1 model not created\n",
      "V6E 0B4 model not created\n",
      "V6E 0C4 model not created\n",
      "V6E 1A1 model not created\n",
      "V6E 1A3 model not created\n"
     ]
    },
    {
     "name": "stderr",
     "output_type": "stream",
     "text": [
      "/usr/local/lib/python3.5/dist-packages/statsmodels/tsa/base/tsa_model.py:171: ValueWarning: No frequency information was provided, so inferred frequency H will be used.\n",
      "  % freq, ValueWarning)\n",
      "/usr/local/lib/python3.5/dist-packages/statsmodels/tsa/base/tsa_model.py:171: ValueWarning: No frequency information was provided, so inferred frequency H will be used.\n",
      "  % freq, ValueWarning)\n",
      "/usr/local/lib/python3.5/dist-packages/statsmodels/base/model.py:508: ConvergenceWarning: Maximum Likelihood optimization failed to converge. Check mle_retvals\n",
      "  \"Check mle_retvals\", ConvergenceWarning)\n",
      "/usr/local/lib/python3.5/dist-packages/statsmodels/tsa/base/tsa_model.py:171: ValueWarning: No frequency information was provided, so inferred frequency H will be used.\n",
      "  % freq, ValueWarning)\n",
      "/usr/local/lib/python3.5/dist-packages/statsmodels/tsa/base/tsa_model.py:171: ValueWarning: No frequency information was provided, so inferred frequency H will be used.\n",
      "  % freq, ValueWarning)\n"
     ]
    },
    {
     "name": "stdout",
     "output_type": "stream",
     "text": [
      "V6E 1C1 model not created\n"
     ]
    },
    {
     "name": "stderr",
     "output_type": "stream",
     "text": [
      "/usr/local/lib/python3.5/dist-packages/statsmodels/tsa/base/tsa_model.py:171: ValueWarning: No frequency information was provided, so inferred frequency H will be used.\n",
      "  % freq, ValueWarning)\n",
      "/usr/local/lib/python3.5/dist-packages/statsmodels/tsa/base/tsa_model.py:171: ValueWarning: No frequency information was provided, so inferred frequency H will be used.\n",
      "  % freq, ValueWarning)\n",
      "/usr/local/lib/python3.5/dist-packages/statsmodels/tsa/base/tsa_model.py:171: ValueWarning: No frequency information was provided, so inferred frequency H will be used.\n",
      "  % freq, ValueWarning)\n"
     ]
    },
    {
     "name": "stdout",
     "output_type": "stream",
     "text": [
      "V6E 1C6 model not created\n",
      "V6E 1E8 model not created\n"
     ]
    },
    {
     "name": "stderr",
     "output_type": "stream",
     "text": [
      "/usr/local/lib/python3.5/dist-packages/statsmodels/tsa/base/tsa_model.py:171: ValueWarning: No frequency information was provided, so inferred frequency H will be used.\n",
      "  % freq, ValueWarning)\n",
      "/usr/local/lib/python3.5/dist-packages/statsmodels/tsa/base/tsa_model.py:171: ValueWarning: No frequency information was provided, so inferred frequency H will be used.\n",
      "  % freq, ValueWarning)\n"
     ]
    },
    {
     "name": "stdout",
     "output_type": "stream",
     "text": [
      "V6E 1J6 model not created\n"
     ]
    },
    {
     "name": "stderr",
     "output_type": "stream",
     "text": [
      "/usr/local/lib/python3.5/dist-packages/statsmodels/tsa/base/tsa_model.py:171: ValueWarning: No frequency information was provided, so inferred frequency H will be used.\n",
      "  % freq, ValueWarning)\n",
      "/usr/local/lib/python3.5/dist-packages/statsmodels/tsa/base/tsa_model.py:171: ValueWarning: No frequency information was provided, so inferred frequency H will be used.\n",
      "  % freq, ValueWarning)\n",
      "/usr/local/lib/python3.5/dist-packages/statsmodels/tsa/base/tsa_model.py:171: ValueWarning: No frequency information was provided, so inferred frequency H will be used.\n",
      "  % freq, ValueWarning)\n",
      "/usr/local/lib/python3.5/dist-packages/statsmodels/tsa/base/tsa_model.py:171: ValueWarning: No frequency information was provided, so inferred frequency H will be used.\n",
      "  % freq, ValueWarning)\n"
     ]
    },
    {
     "name": "stdout",
     "output_type": "stream",
     "text": [
      "V6E 1K6 model not created\n",
      "V6E 1K7 model not created\n",
      "V6E 1L5 model not created\n"
     ]
    },
    {
     "name": "stderr",
     "output_type": "stream",
     "text": [
      "/usr/local/lib/python3.5/dist-packages/statsmodels/tsa/base/tsa_model.py:171: ValueWarning: No frequency information was provided, so inferred frequency H will be used.\n",
      "  % freq, ValueWarning)\n",
      "/usr/local/lib/python3.5/dist-packages/statsmodels/tsa/base/tsa_model.py:171: ValueWarning: No frequency information was provided, so inferred frequency H will be used.\n",
      "  % freq, ValueWarning)\n",
      "/usr/local/lib/python3.5/dist-packages/statsmodels/base/model.py:508: ConvergenceWarning: Maximum Likelihood optimization failed to converge. Check mle_retvals\n",
      "  \"Check mle_retvals\", ConvergenceWarning)\n",
      "/usr/local/lib/python3.5/dist-packages/statsmodels/tsa/base/tsa_model.py:171: ValueWarning: No frequency information was provided, so inferred frequency H will be used.\n",
      "  % freq, ValueWarning)\n",
      "/usr/local/lib/python3.5/dist-packages/statsmodels/tsa/base/tsa_model.py:171: ValueWarning: No frequency information was provided, so inferred frequency H will be used.\n",
      "  % freq, ValueWarning)\n",
      "/usr/local/lib/python3.5/dist-packages/statsmodels/tsa/base/tsa_model.py:171: ValueWarning: No frequency information was provided, so inferred frequency H will be used.\n",
      "  % freq, ValueWarning)\n",
      "/usr/local/lib/python3.5/dist-packages/statsmodels/tsa/base/tsa_model.py:171: ValueWarning: No frequency information was provided, so inferred frequency H will be used.\n",
      "  % freq, ValueWarning)\n",
      "/usr/local/lib/python3.5/dist-packages/statsmodels/tsa/base/tsa_model.py:171: ValueWarning: No frequency information was provided, so inferred frequency H will be used.\n",
      "  % freq, ValueWarning)\n",
      "/usr/local/lib/python3.5/dist-packages/statsmodels/tsa/base/tsa_model.py:171: ValueWarning: No frequency information was provided, so inferred frequency H will be used.\n",
      "  % freq, ValueWarning)\n",
      "/usr/local/lib/python3.5/dist-packages/statsmodels/tsa/base/tsa_model.py:171: ValueWarning: No frequency information was provided, so inferred frequency H will be used.\n",
      "  % freq, ValueWarning)\n"
     ]
    },
    {
     "name": "stdout",
     "output_type": "stream",
     "text": [
      "V6E 1S4 model not created\n",
      "V6E 1S7 model not created\n"
     ]
    },
    {
     "name": "stderr",
     "output_type": "stream",
     "text": [
      "/usr/local/lib/python3.5/dist-packages/statsmodels/tsa/base/tsa_model.py:171: ValueWarning: No frequency information was provided, so inferred frequency H will be used.\n",
      "  % freq, ValueWarning)\n",
      "/usr/local/lib/python3.5/dist-packages/statsmodels/tsa/base/tsa_model.py:171: ValueWarning: No frequency information was provided, so inferred frequency H will be used.\n",
      "  % freq, ValueWarning)\n",
      "/usr/local/lib/python3.5/dist-packages/statsmodels/tsa/base/tsa_model.py:171: ValueWarning: No frequency information was provided, so inferred frequency H will be used.\n",
      "  % freq, ValueWarning)\n",
      "/usr/local/lib/python3.5/dist-packages/statsmodels/tsa/base/tsa_model.py:171: ValueWarning: No frequency information was provided, so inferred frequency H will be used.\n",
      "  % freq, ValueWarning)\n",
      "/usr/local/lib/python3.5/dist-packages/statsmodels/tsa/base/tsa_model.py:171: ValueWarning: No frequency information was provided, so inferred frequency H will be used.\n",
      "  % freq, ValueWarning)\n"
     ]
    },
    {
     "name": "stdout",
     "output_type": "stream",
     "text": [
      "V6E 1V3 model not created\n",
      "V6E 1V6 model not created\n"
     ]
    },
    {
     "name": "stderr",
     "output_type": "stream",
     "text": [
      "/usr/local/lib/python3.5/dist-packages/statsmodels/tsa/base/tsa_model.py:171: ValueWarning: No frequency information was provided, so inferred frequency H will be used.\n",
      "  % freq, ValueWarning)\n",
      "/usr/local/lib/python3.5/dist-packages/statsmodels/tsa/base/tsa_model.py:171: ValueWarning: No frequency information was provided, so inferred frequency H will be used.\n",
      "  % freq, ValueWarning)\n",
      "/usr/local/lib/python3.5/dist-packages/statsmodels/tsa/base/tsa_model.py:171: ValueWarning: No frequency information was provided, so inferred frequency H will be used.\n",
      "  % freq, ValueWarning)\n"
     ]
    },
    {
     "name": "stdout",
     "output_type": "stream",
     "text": [
      "V6E 1X5 model not created\n",
      "V6E 1X9 model not created\n"
     ]
    },
    {
     "name": "stderr",
     "output_type": "stream",
     "text": [
      "/usr/local/lib/python3.5/dist-packages/statsmodels/tsa/base/tsa_model.py:171: ValueWarning: No frequency information was provided, so inferred frequency H will be used.\n",
      "  % freq, ValueWarning)\n",
      "/usr/local/lib/python3.5/dist-packages/statsmodels/tsa/base/tsa_model.py:171: ValueWarning: No frequency information was provided, so inferred frequency H will be used.\n",
      "  % freq, ValueWarning)\n",
      "/usr/local/lib/python3.5/dist-packages/statsmodels/tsa/base/tsa_model.py:171: ValueWarning: No frequency information was provided, so inferred frequency H will be used.\n",
      "  % freq, ValueWarning)\n",
      "/usr/local/lib/python3.5/dist-packages/statsmodels/tsa/base/tsa_model.py:171: ValueWarning: No frequency information was provided, so inferred frequency H will be used.\n",
      "  % freq, ValueWarning)\n",
      "/usr/local/lib/python3.5/dist-packages/statsmodels/tsa/base/tsa_model.py:171: ValueWarning: No frequency information was provided, so inferred frequency H will be used.\n",
      "  % freq, ValueWarning)\n",
      "/usr/local/lib/python3.5/dist-packages/statsmodels/tsa/base/tsa_model.py:171: ValueWarning: No frequency information was provided, so inferred frequency H will be used.\n",
      "  % freq, ValueWarning)\n",
      "/usr/local/lib/python3.5/dist-packages/statsmodels/tsa/base/tsa_model.py:171: ValueWarning: No frequency information was provided, so inferred frequency H will be used.\n",
      "  % freq, ValueWarning)\n"
     ]
    },
    {
     "name": "stdout",
     "output_type": "stream",
     "text": [
      "V6E 2C2 model not created\n",
      "V6E 2C5 model not created\n",
      "V6E 2E5 model not created\n"
     ]
    },
    {
     "name": "stderr",
     "output_type": "stream",
     "text": [
      "/usr/local/lib/python3.5/dist-packages/statsmodels/tsa/base/tsa_model.py:171: ValueWarning: No frequency information was provided, so inferred frequency H will be used.\n",
      "  % freq, ValueWarning)\n",
      "/usr/local/lib/python3.5/dist-packages/statsmodels/tsa/base/tsa_model.py:171: ValueWarning: No frequency information was provided, so inferred frequency H will be used.\n",
      "  % freq, ValueWarning)\n",
      "/usr/local/lib/python3.5/dist-packages/statsmodels/tsa/base/tsa_model.py:171: ValueWarning: No frequency information was provided, so inferred frequency H will be used.\n",
      "  % freq, ValueWarning)\n",
      "/usr/local/lib/python3.5/dist-packages/statsmodels/tsa/base/tsa_model.py:171: ValueWarning: No frequency information was provided, so inferred frequency H will be used.\n",
      "  % freq, ValueWarning)\n"
     ]
    },
    {
     "name": "stdout",
     "output_type": "stream",
     "text": [
      "V6E 2R9 model not created\n",
      "V6E 3J7 model not created\n"
     ]
    },
    {
     "name": "stderr",
     "output_type": "stream",
     "text": [
      "/usr/local/lib/python3.5/dist-packages/statsmodels/tsa/base/tsa_model.py:171: ValueWarning: No frequency information was provided, so inferred frequency H will be used.\n",
      "  % freq, ValueWarning)\n",
      "/usr/local/lib/python3.5/dist-packages/statsmodels/tsa/base/tsa_model.py:171: ValueWarning: No frequency information was provided, so inferred frequency H will be used.\n",
      "  % freq, ValueWarning)\n",
      "/usr/local/lib/python3.5/dist-packages/statsmodels/tsa/base/tsa_model.py:171: ValueWarning: No frequency information was provided, so inferred frequency H will be used.\n",
      "  % freq, ValueWarning)\n",
      "/usr/local/lib/python3.5/dist-packages/statsmodels/tsa/base/tsa_model.py:171: ValueWarning: No frequency information was provided, so inferred frequency H will be used.\n",
      "  % freq, ValueWarning)\n",
      "/usr/local/lib/python3.5/dist-packages/statsmodels/tsa/base/tsa_model.py:171: ValueWarning: No frequency information was provided, so inferred frequency H will be used.\n",
      "  % freq, ValueWarning)\n"
     ]
    },
    {
     "name": "stdout",
     "output_type": "stream",
     "text": [
      "V6E 3V1 model not created\n",
      "V6E 3V8 model not created\n",
      "V6E 4A2 model not created\n"
     ]
    },
    {
     "name": "stderr",
     "output_type": "stream",
     "text": [
      "/usr/local/lib/python3.5/dist-packages/statsmodels/tsa/base/tsa_model.py:171: ValueWarning: No frequency information was provided, so inferred frequency H will be used.\n",
      "  % freq, ValueWarning)\n",
      "/usr/local/lib/python3.5/dist-packages/statsmodels/tsa/base/tsa_model.py:171: ValueWarning: No frequency information was provided, so inferred frequency H will be used.\n",
      "  % freq, ValueWarning)\n"
     ]
    },
    {
     "name": "stdout",
     "output_type": "stream",
     "text": [
      "V6E 4L4 model not created\n"
     ]
    },
    {
     "name": "stderr",
     "output_type": "stream",
     "text": [
      "/usr/local/lib/python3.5/dist-packages/statsmodels/tsa/base/tsa_model.py:171: ValueWarning: No frequency information was provided, so inferred frequency H will be used.\n",
      "  % freq, ValueWarning)\n",
      "/usr/local/lib/python3.5/dist-packages/statsmodels/tsa/base/tsa_model.py:171: ValueWarning: No frequency information was provided, so inferred frequency H will be used.\n",
      "  % freq, ValueWarning)\n",
      "/usr/local/lib/python3.5/dist-packages/statsmodels/tsa/base/tsa_model.py:171: ValueWarning: No frequency information was provided, so inferred frequency H will be used.\n",
      "  % freq, ValueWarning)\n"
     ]
    },
    {
     "name": "stdout",
     "output_type": "stream",
     "text": [
      "V6E 4R5 model not created\n"
     ]
    },
    {
     "name": "stderr",
     "output_type": "stream",
     "text": [
      "/usr/local/lib/python3.5/dist-packages/statsmodels/tsa/base/tsa_model.py:171: ValueWarning: No frequency information was provided, so inferred frequency H will be used.\n",
      "  % freq, ValueWarning)\n",
      "/usr/local/lib/python3.5/dist-packages/statsmodels/tsa/base/tsa_model.py:171: ValueWarning: No frequency information was provided, so inferred frequency H will be used.\n",
      "  % freq, ValueWarning)\n"
     ]
    },
    {
     "name": "stdout",
     "output_type": "stream",
     "text": [
      "V6E 4T9 model not created\n"
     ]
    },
    {
     "name": "stderr",
     "output_type": "stream",
     "text": [
      "/usr/local/lib/python3.5/dist-packages/statsmodels/tsa/base/tsa_model.py:171: ValueWarning: No frequency information was provided, so inferred frequency H will be used.\n",
      "  % freq, ValueWarning)\n",
      "/usr/local/lib/python3.5/dist-packages/statsmodels/tsa/base/tsa_model.py:171: ValueWarning: No frequency information was provided, so inferred frequency H will be used.\n",
      "  % freq, ValueWarning)\n",
      "/usr/local/lib/python3.5/dist-packages/statsmodels/tsa/base/tsa_model.py:171: ValueWarning: No frequency information was provided, so inferred frequency H will be used.\n",
      "  % freq, ValueWarning)\n",
      "/usr/local/lib/python3.5/dist-packages/statsmodels/tsa/base/tsa_model.py:171: ValueWarning: No frequency information was provided, so inferred frequency H will be used.\n",
      "  % freq, ValueWarning)\n",
      "/usr/local/lib/python3.5/dist-packages/statsmodels/tsa/base/tsa_model.py:171: ValueWarning: No frequency information was provided, so inferred frequency H will be used.\n",
      "  % freq, ValueWarning)\n",
      "/usr/local/lib/python3.5/dist-packages/statsmodels/tsa/base/tsa_model.py:171: ValueWarning: No frequency information was provided, so inferred frequency H will be used.\n",
      "  % freq, ValueWarning)\n",
      "/usr/local/lib/python3.5/dist-packages/statsmodels/tsa/base/tsa_model.py:171: ValueWarning: No frequency information was provided, so inferred frequency H will be used.\n",
      "  % freq, ValueWarning)\n",
      "/usr/local/lib/python3.5/dist-packages/statsmodels/tsa/base/tsa_model.py:171: ValueWarning: No frequency information was provided, so inferred frequency H will be used.\n",
      "  % freq, ValueWarning)\n",
      "/usr/local/lib/python3.5/dist-packages/statsmodels/tsa/base/tsa_model.py:171: ValueWarning: No frequency information was provided, so inferred frequency H will be used.\n",
      "  % freq, ValueWarning)\n",
      "/usr/local/lib/python3.5/dist-packages/statsmodels/tsa/base/tsa_model.py:171: ValueWarning: No frequency information was provided, so inferred frequency H will be used.\n",
      "  % freq, ValueWarning)\n",
      "/usr/local/lib/python3.5/dist-packages/statsmodels/tsa/base/tsa_model.py:171: ValueWarning: No frequency information was provided, so inferred frequency H will be used.\n",
      "  % freq, ValueWarning)\n",
      "/usr/local/lib/python3.5/dist-packages/statsmodels/tsa/base/tsa_model.py:171: ValueWarning: No frequency information was provided, so inferred frequency H will be used.\n",
      "  % freq, ValueWarning)\n",
      "/usr/local/lib/python3.5/dist-packages/statsmodels/tsa/base/tsa_model.py:171: ValueWarning: No frequency information was provided, so inferred frequency H will be used.\n",
      "  % freq, ValueWarning)\n",
      "/usr/local/lib/python3.5/dist-packages/statsmodels/tsa/base/tsa_model.py:171: ValueWarning: No frequency information was provided, so inferred frequency H will be used.\n",
      "  % freq, ValueWarning)\n",
      "/usr/local/lib/python3.5/dist-packages/statsmodels/tsa/base/tsa_model.py:171: ValueWarning: No frequency information was provided, so inferred frequency H will be used.\n",
      "  % freq, ValueWarning)\n",
      "/usr/local/lib/python3.5/dist-packages/statsmodels/tsa/base/tsa_model.py:171: ValueWarning: No frequency information was provided, so inferred frequency H will be used.\n",
      "  % freq, ValueWarning)\n",
      "/usr/local/lib/python3.5/dist-packages/statsmodels/tsa/base/tsa_model.py:171: ValueWarning: No frequency information was provided, so inferred frequency H will be used.\n",
      "  % freq, ValueWarning)\n",
      "/usr/local/lib/python3.5/dist-packages/statsmodels/tsa/base/tsa_model.py:171: ValueWarning: No frequency information was provided, so inferred frequency H will be used.\n",
      "  % freq, ValueWarning)\n",
      "/usr/local/lib/python3.5/dist-packages/statsmodels/tsa/base/tsa_model.py:171: ValueWarning: No frequency information was provided, so inferred frequency H will be used.\n",
      "  % freq, ValueWarning)\n"
     ]
    },
    {
     "name": "stdout",
     "output_type": "stream",
     "text": [
      "V6G 1B6 model not created\n",
      "V6G 1B9 model not created\n",
      "V6G 1C7 model not created\n",
      "V6G 1E2 model not created\n",
      "V6G 1K4 model not created\n",
      "V6G 1K6 model not created\n",
      "V6G 1N3 model not created\n",
      "V6G 1P1 model not created\n",
      "V6G 1P4 model not created\n",
      "V6G 1S1 model not created\n",
      "V6G 1S3 model not created\n",
      "V6G 1T1 model not created\n",
      "V6G 1T5 model not created\n",
      "V6G 1W1 model not created\n",
      "V6G 1W5 model not created\n",
      "V6G 1W6 model not created\n",
      "V6G 1W7 model not created\n"
     ]
    },
    {
     "name": "stderr",
     "output_type": "stream",
     "text": [
      "/usr/local/lib/python3.5/dist-packages/statsmodels/tsa/base/tsa_model.py:171: ValueWarning: No frequency information was provided, so inferred frequency H will be used.\n",
      "  % freq, ValueWarning)\n",
      "/usr/local/lib/python3.5/dist-packages/statsmodels/tsa/base/tsa_model.py:171: ValueWarning: No frequency information was provided, so inferred frequency H will be used.\n",
      "  % freq, ValueWarning)\n"
     ]
    },
    {
     "name": "stdout",
     "output_type": "stream",
     "text": [
      "V6G 1Y3 model not created\n"
     ]
    },
    {
     "name": "stderr",
     "output_type": "stream",
     "text": [
      "/usr/local/lib/python3.5/dist-packages/statsmodels/tsa/base/tsa_model.py:171: ValueWarning: No frequency information was provided, so inferred frequency H will be used.\n",
      "  % freq, ValueWarning)\n",
      "/usr/local/lib/python3.5/dist-packages/statsmodels/tsa/base/tsa_model.py:171: ValueWarning: No frequency information was provided, so inferred frequency H will be used.\n",
      "  % freq, ValueWarning)\n",
      "/usr/local/lib/python3.5/dist-packages/statsmodels/tsa/base/tsa_model.py:171: ValueWarning: No frequency information was provided, so inferred frequency H will be used.\n",
      "  % freq, ValueWarning)\n",
      "/usr/local/lib/python3.5/dist-packages/statsmodels/tsa/base/tsa_model.py:171: ValueWarning: No frequency information was provided, so inferred frequency H will be used.\n",
      "  % freq, ValueWarning)\n",
      "/usr/local/lib/python3.5/dist-packages/statsmodels/tsa/base/tsa_model.py:171: ValueWarning: No frequency information was provided, so inferred frequency H will be used.\n",
      "  % freq, ValueWarning)\n",
      "/usr/local/lib/python3.5/dist-packages/statsmodels/tsa/base/tsa_model.py:171: ValueWarning: No frequency information was provided, so inferred frequency H will be used.\n",
      "  % freq, ValueWarning)\n",
      "/usr/local/lib/python3.5/dist-packages/statsmodels/tsa/base/tsa_model.py:171: ValueWarning: No frequency information was provided, so inferred frequency H will be used.\n",
      "  % freq, ValueWarning)\n",
      "/usr/local/lib/python3.5/dist-packages/statsmodels/tsa/base/tsa_model.py:171: ValueWarning: No frequency information was provided, so inferred frequency H will be used.\n",
      "  % freq, ValueWarning)\n",
      "/usr/local/lib/python3.5/dist-packages/statsmodels/tsa/base/tsa_model.py:171: ValueWarning: No frequency information was provided, so inferred frequency H will be used.\n",
      "  % freq, ValueWarning)\n",
      "/usr/local/lib/python3.5/dist-packages/statsmodels/tsa/base/tsa_model.py:171: ValueWarning: No frequency information was provided, so inferred frequency H will be used.\n",
      "  % freq, ValueWarning)\n"
     ]
    },
    {
     "name": "stdout",
     "output_type": "stream",
     "text": [
      "V6G 2B5 model not created\n",
      "V6G 2B7 model not created\n",
      "V6G 2E1 model not created\n",
      "V6G 2E9 model not created\n",
      "V6G 2G2 model not created\n",
      "V6G 2G7 model not created\n",
      "V6G 2H1 model not created\n",
      "V6G 2H3 model not created\n"
     ]
    },
    {
     "name": "stderr",
     "output_type": "stream",
     "text": [
      "/usr/local/lib/python3.5/dist-packages/statsmodels/tsa/base/tsa_model.py:171: ValueWarning: No frequency information was provided, so inferred frequency H will be used.\n",
      "  % freq, ValueWarning)\n",
      "/usr/local/lib/python3.5/dist-packages/statsmodels/tsa/base/tsa_model.py:171: ValueWarning: No frequency information was provided, so inferred frequency H will be used.\n",
      "  % freq, ValueWarning)\n",
      "/usr/local/lib/python3.5/dist-packages/statsmodels/tsa/base/tsa_model.py:171: ValueWarning: No frequency information was provided, so inferred frequency H will be used.\n",
      "  % freq, ValueWarning)\n",
      "/usr/local/lib/python3.5/dist-packages/statsmodels/tsa/base/tsa_model.py:171: ValueWarning: No frequency information was provided, so inferred frequency H will be used.\n",
      "  % freq, ValueWarning)\n",
      "/usr/local/lib/python3.5/dist-packages/statsmodels/tsa/base/tsa_model.py:171: ValueWarning: No frequency information was provided, so inferred frequency H will be used.\n",
      "  % freq, ValueWarning)\n",
      "/usr/local/lib/python3.5/dist-packages/statsmodels/tsa/base/tsa_model.py:171: ValueWarning: No frequency information was provided, so inferred frequency H will be used.\n",
      "  % freq, ValueWarning)\n",
      "/usr/local/lib/python3.5/dist-packages/statsmodels/tsa/base/tsa_model.py:171: ValueWarning: No frequency information was provided, so inferred frequency H will be used.\n",
      "  % freq, ValueWarning)\n"
     ]
    },
    {
     "name": "stdout",
     "output_type": "stream",
     "text": [
      "V6G 2L9 model not created\n",
      "V6G 2M8 model not created\n",
      "V6G 2N5 model not created\n",
      "V6G 2N8 model not created\n",
      "V6G 2P6 model not created\n"
     ]
    },
    {
     "name": "stderr",
     "output_type": "stream",
     "text": [
      "/usr/local/lib/python3.5/dist-packages/statsmodels/tsa/base/tsa_model.py:171: ValueWarning: No frequency information was provided, so inferred frequency H will be used.\n",
      "  % freq, ValueWarning)\n",
      "/usr/local/lib/python3.5/dist-packages/statsmodels/tsa/base/tsa_model.py:171: ValueWarning: No frequency information was provided, so inferred frequency H will be used.\n",
      "  % freq, ValueWarning)\n"
     ]
    },
    {
     "name": "stdout",
     "output_type": "stream",
     "text": [
      "V6G 2R6 model not created\n"
     ]
    },
    {
     "name": "stderr",
     "output_type": "stream",
     "text": [
      "/usr/local/lib/python3.5/dist-packages/statsmodels/tsa/base/tsa_model.py:171: ValueWarning: No frequency information was provided, so inferred frequency H will be used.\n",
      "  % freq, ValueWarning)\n",
      "/usr/local/lib/python3.5/dist-packages/statsmodels/tsa/base/tsa_model.py:171: ValueWarning: No frequency information was provided, so inferred frequency H will be used.\n",
      "  % freq, ValueWarning)\n"
     ]
    },
    {
     "name": "stdout",
     "output_type": "stream",
     "text": [
      "V6G 3A5 model not created\n"
     ]
    },
    {
     "name": "stderr",
     "output_type": "stream",
     "text": [
      "/usr/local/lib/python3.5/dist-packages/statsmodels/base/model.py:508: ConvergenceWarning: Maximum Likelihood optimization failed to converge. Check mle_retvals\n",
      "  \"Check mle_retvals\", ConvergenceWarning)\n",
      "/usr/local/lib/python3.5/dist-packages/statsmodels/tsa/base/tsa_model.py:171: ValueWarning: No frequency information was provided, so inferred frequency H will be used.\n",
      "  % freq, ValueWarning)\n",
      "/usr/local/lib/python3.5/dist-packages/statsmodels/tsa/base/tsa_model.py:171: ValueWarning: No frequency information was provided, so inferred frequency H will be used.\n",
      "  % freq, ValueWarning)\n"
     ]
    },
    {
     "name": "stdout",
     "output_type": "stream",
     "text": [
      "V6G 3E8 model not created\n"
     ]
    },
    {
     "name": "stderr",
     "output_type": "stream",
     "text": [
      "/usr/local/lib/python3.5/dist-packages/statsmodels/tsa/base/tsa_model.py:171: ValueWarning: No frequency information was provided, so inferred frequency H will be used.\n",
      "  % freq, ValueWarning)\n",
      "/usr/local/lib/python3.5/dist-packages/statsmodels/tsa/base/tsa_model.py:171: ValueWarning: No frequency information was provided, so inferred frequency H will be used.\n",
      "  % freq, ValueWarning)\n",
      "/usr/local/lib/python3.5/dist-packages/statsmodels/tsa/base/tsa_model.py:171: ValueWarning: No frequency information was provided, so inferred frequency H will be used.\n",
      "  % freq, ValueWarning)\n"
     ]
    },
    {
     "name": "stdout",
     "output_type": "stream",
     "text": [
      "V6H 1A4 model not created\n",
      "V6H 1H2 model not created\n"
     ]
    },
    {
     "name": "stderr",
     "output_type": "stream",
     "text": [
      "/usr/local/lib/python3.5/dist-packages/statsmodels/tsa/base/tsa_model.py:171: ValueWarning: No frequency information was provided, so inferred frequency H will be used.\n",
      "  % freq, ValueWarning)\n",
      "/usr/local/lib/python3.5/dist-packages/statsmodels/tsa/base/tsa_model.py:171: ValueWarning: No frequency information was provided, so inferred frequency H will be used.\n",
      "  % freq, ValueWarning)\n",
      "/usr/local/lib/python3.5/dist-packages/statsmodels/tsa/base/tsa_model.py:171: ValueWarning: No frequency information was provided, so inferred frequency H will be used.\n",
      "  % freq, ValueWarning)\n"
     ]
    },
    {
     "name": "stdout",
     "output_type": "stream",
     "text": [
      "V6H 1J7 model not created\n",
      "V6H 1J9 model not created\n"
     ]
    },
    {
     "name": "stderr",
     "output_type": "stream",
     "text": [
      "/usr/local/lib/python3.5/dist-packages/statsmodels/tsa/base/tsa_model.py:171: ValueWarning: No frequency information was provided, so inferred frequency H will be used.\n",
      "  % freq, ValueWarning)\n",
      "/usr/local/lib/python3.5/dist-packages/statsmodels/tsa/base/tsa_model.py:171: ValueWarning: No frequency information was provided, so inferred frequency H will be used.\n",
      "  % freq, ValueWarning)\n",
      "/usr/local/lib/python3.5/dist-packages/statsmodels/tsa/base/tsa_model.py:171: ValueWarning: No frequency information was provided, so inferred frequency H will be used.\n",
      "  % freq, ValueWarning)\n",
      "/usr/local/lib/python3.5/dist-packages/statsmodels/tsa/base/tsa_model.py:171: ValueWarning: No frequency information was provided, so inferred frequency H will be used.\n",
      "  % freq, ValueWarning)\n",
      "/usr/local/lib/python3.5/dist-packages/statsmodels/tsa/base/tsa_model.py:171: ValueWarning: No frequency information was provided, so inferred frequency H will be used.\n",
      "  % freq, ValueWarning)\n",
      "/usr/local/lib/python3.5/dist-packages/statsmodels/tsa/base/tsa_model.py:171: ValueWarning: No frequency information was provided, so inferred frequency H will be used.\n",
      "  % freq, ValueWarning)\n",
      "/usr/local/lib/python3.5/dist-packages/statsmodels/tsa/base/tsa_model.py:171: ValueWarning: No frequency information was provided, so inferred frequency H will be used.\n",
      "  % freq, ValueWarning)\n",
      "/usr/local/lib/python3.5/dist-packages/statsmodels/tsa/base/tsa_model.py:171: ValueWarning: No frequency information was provided, so inferred frequency H will be used.\n",
      "  % freq, ValueWarning)\n",
      "/usr/local/lib/python3.5/dist-packages/statsmodels/tsa/base/tsa_model.py:171: ValueWarning: No frequency information was provided, so inferred frequency H will be used.\n",
      "  % freq, ValueWarning)\n"
     ]
    },
    {
     "name": "stdout",
     "output_type": "stream",
     "text": [
      "V6H 1L9 model not created\n",
      "V6H 1M3 model not created\n",
      "V6H 1M7 model not created\n",
      "V6H 1N5 model not created\n",
      "V6H 1N6 model not created\n",
      "V6H 1P6 model not created\n",
      "V6H 1R2 model not created\n"
     ]
    },
    {
     "name": "stderr",
     "output_type": "stream",
     "text": [
      "/usr/local/lib/python3.5/dist-packages/statsmodels/tsa/base/tsa_model.py:171: ValueWarning: No frequency information was provided, so inferred frequency H will be used.\n",
      "  % freq, ValueWarning)\n",
      "/usr/local/lib/python3.5/dist-packages/statsmodels/tsa/base/tsa_model.py:171: ValueWarning: No frequency information was provided, so inferred frequency H will be used.\n",
      "  % freq, ValueWarning)\n",
      "/usr/local/lib/python3.5/dist-packages/statsmodels/tsa/base/tsa_model.py:171: ValueWarning: No frequency information was provided, so inferred frequency H will be used.\n",
      "  % freq, ValueWarning)\n",
      "/usr/local/lib/python3.5/dist-packages/statsmodels/tsa/base/tsa_model.py:171: ValueWarning: No frequency information was provided, so inferred frequency H will be used.\n",
      "  % freq, ValueWarning)\n"
     ]
    },
    {
     "name": "stdout",
     "output_type": "stream",
     "text": [
      "V6H 1R4 model not created\n",
      "V6H 1S1 model not created\n",
      "V6H 1S3 model not created\n"
     ]
    },
    {
     "name": "stderr",
     "output_type": "stream",
     "text": [
      "/usr/local/lib/python3.5/dist-packages/statsmodels/tsa/base/tsa_model.py:171: ValueWarning: No frequency information was provided, so inferred frequency H will be used.\n",
      "  % freq, ValueWarning)\n",
      "/usr/local/lib/python3.5/dist-packages/statsmodels/tsa/base/tsa_model.py:171: ValueWarning: No frequency information was provided, so inferred frequency H will be used.\n",
      "  % freq, ValueWarning)\n"
     ]
    },
    {
     "name": "stdout",
     "output_type": "stream",
     "text": [
      "V6H 1T1 model not created\n"
     ]
    },
    {
     "name": "stderr",
     "output_type": "stream",
     "text": [
      "/usr/local/lib/python3.5/dist-packages/statsmodels/tsa/base/tsa_model.py:171: ValueWarning: No frequency information was provided, so inferred frequency H will be used.\n",
      "  % freq, ValueWarning)\n",
      "/usr/local/lib/python3.5/dist-packages/statsmodels/tsa/base/tsa_model.py:171: ValueWarning: No frequency information was provided, so inferred frequency H will be used.\n",
      "  % freq, ValueWarning)\n",
      "/usr/local/lib/python3.5/dist-packages/statsmodels/tsa/base/tsa_model.py:171: ValueWarning: No frequency information was provided, so inferred frequency H will be used.\n",
      "  % freq, ValueWarning)\n",
      "/usr/local/lib/python3.5/dist-packages/statsmodels/tsa/base/tsa_model.py:171: ValueWarning: No frequency information was provided, so inferred frequency H will be used.\n",
      "  % freq, ValueWarning)\n",
      "/usr/local/lib/python3.5/dist-packages/statsmodels/tsa/base/tsa_model.py:171: ValueWarning: No frequency information was provided, so inferred frequency H will be used.\n",
      "  % freq, ValueWarning)\n"
     ]
    },
    {
     "name": "stdout",
     "output_type": "stream",
     "text": [
      "V6H 1V8 model not created\n",
      "V6H 1V9 model not created\n",
      "V6H 1W3 model not created\n",
      "V6H 1X2 model not created\n"
     ]
    },
    {
     "name": "stderr",
     "output_type": "stream",
     "text": [
      "/usr/local/lib/python3.5/dist-packages/statsmodels/tsa/base/tsa_model.py:171: ValueWarning: No frequency information was provided, so inferred frequency H will be used.\n",
      "  % freq, ValueWarning)\n",
      "/usr/local/lib/python3.5/dist-packages/statsmodels/tsa/base/tsa_model.py:171: ValueWarning: No frequency information was provided, so inferred frequency H will be used.\n",
      "  % freq, ValueWarning)\n",
      "/usr/local/lib/python3.5/dist-packages/statsmodels/tsa/base/tsa_model.py:171: ValueWarning: No frequency information was provided, so inferred frequency H will be used.\n",
      "  % freq, ValueWarning)\n",
      "/usr/local/lib/python3.5/dist-packages/statsmodels/tsa/base/tsa_model.py:171: ValueWarning: No frequency information was provided, so inferred frequency H will be used.\n",
      "  % freq, ValueWarning)\n",
      "/usr/local/lib/python3.5/dist-packages/statsmodels/tsa/base/tsa_model.py:171: ValueWarning: No frequency information was provided, so inferred frequency H will be used.\n",
      "  % freq, ValueWarning)\n",
      "/usr/local/lib/python3.5/dist-packages/statsmodels/tsa/base/tsa_model.py:171: ValueWarning: No frequency information was provided, so inferred frequency H will be used.\n",
      "  % freq, ValueWarning)\n",
      "/usr/local/lib/python3.5/dist-packages/statsmodels/tsa/base/tsa_model.py:171: ValueWarning: No frequency information was provided, so inferred frequency H will be used.\n",
      "  % freq, ValueWarning)\n"
     ]
    },
    {
     "name": "stdout",
     "output_type": "stream",
     "text": [
      "V6H 2K8 model not created\n",
      "V6H 2L2 model not created\n",
      "V6H 2L7 model not created\n",
      "V6H 2M9 model not created\n",
      "V6H 2N9 model not created\n",
      "V6H 2P9 model not created\n"
     ]
    },
    {
     "name": "stderr",
     "output_type": "stream",
     "text": [
      "/usr/local/lib/python3.5/dist-packages/statsmodels/tsa/base/tsa_model.py:171: ValueWarning: No frequency information was provided, so inferred frequency H will be used.\n",
      "  % freq, ValueWarning)\n",
      "/usr/local/lib/python3.5/dist-packages/statsmodels/tsa/base/tsa_model.py:171: ValueWarning: No frequency information was provided, so inferred frequency H will be used.\n",
      "  % freq, ValueWarning)\n",
      "/usr/local/lib/python3.5/dist-packages/statsmodels/tsa/base/tsa_model.py:171: ValueWarning: No frequency information was provided, so inferred frequency H will be used.\n",
      "  % freq, ValueWarning)\n",
      "/usr/local/lib/python3.5/dist-packages/statsmodels/tsa/base/tsa_model.py:171: ValueWarning: No frequency information was provided, so inferred frequency H will be used.\n",
      "  % freq, ValueWarning)\n",
      "/usr/local/lib/python3.5/dist-packages/statsmodels/tsa/base/tsa_model.py:171: ValueWarning: No frequency information was provided, so inferred frequency H will be used.\n",
      "  % freq, ValueWarning)\n",
      "/usr/local/lib/python3.5/dist-packages/statsmodels/tsa/base/tsa_model.py:171: ValueWarning: No frequency information was provided, so inferred frequency H will be used.\n",
      "  % freq, ValueWarning)\n",
      "/usr/local/lib/python3.5/dist-packages/statsmodels/tsa/base/tsa_model.py:171: ValueWarning: No frequency information was provided, so inferred frequency H will be used.\n",
      "  % freq, ValueWarning)\n",
      "/usr/local/lib/python3.5/dist-packages/statsmodels/tsa/base/tsa_model.py:171: ValueWarning: No frequency information was provided, so inferred frequency H will be used.\n",
      "  % freq, ValueWarning)\n",
      "/usr/local/lib/python3.5/dist-packages/statsmodels/tsa/base/tsa_model.py:171: ValueWarning: No frequency information was provided, so inferred frequency H will be used.\n",
      "  % freq, ValueWarning)\n",
      "/usr/local/lib/python3.5/dist-packages/statsmodels/tsa/base/tsa_model.py:171: ValueWarning: No frequency information was provided, so inferred frequency H will be used.\n",
      "  % freq, ValueWarning)\n",
      "/usr/local/lib/python3.5/dist-packages/statsmodels/tsa/base/tsa_model.py:171: ValueWarning: No frequency information was provided, so inferred frequency H will be used.\n",
      "  % freq, ValueWarning)\n",
      "/usr/local/lib/python3.5/dist-packages/statsmodels/tsa/base/tsa_model.py:171: ValueWarning: No frequency information was provided, so inferred frequency H will be used.\n",
      "  % freq, ValueWarning)\n",
      "/usr/local/lib/python3.5/dist-packages/statsmodels/tsa/base/tsa_model.py:171: ValueWarning: No frequency information was provided, so inferred frequency H will be used.\n",
      "  % freq, ValueWarning)\n"
     ]
    },
    {
     "name": "stdout",
     "output_type": "stream",
     "text": [
      "V6H 2S1 model not created\n",
      "V6H 2S2 model not created\n",
      "V6H 2S4 model not created\n",
      "V6H 2S7 model not created\n",
      "V6H 2V7 model not created\n",
      "V6H 2W6 model not created\n",
      "V6H 2W9 model not created\n",
      "V6H 2Z9 model not created\n",
      "V6H 3B3 model not created\n",
      "V6H 3J3 model not created\n",
      "V6H 3J6 model not created\n"
     ]
    },
    {
     "name": "stderr",
     "output_type": "stream",
     "text": [
      "/usr/local/lib/python3.5/dist-packages/statsmodels/base/model.py:508: ConvergenceWarning: Maximum Likelihood optimization failed to converge. Check mle_retvals\n",
      "  \"Check mle_retvals\", ConvergenceWarning)\n",
      "/usr/local/lib/python3.5/dist-packages/statsmodels/tsa/base/tsa_model.py:171: ValueWarning: No frequency information was provided, so inferred frequency H will be used.\n",
      "  % freq, ValueWarning)\n",
      "/usr/local/lib/python3.5/dist-packages/statsmodels/base/model.py:508: ConvergenceWarning: Maximum Likelihood optimization failed to converge. Check mle_retvals\n",
      "  \"Check mle_retvals\", ConvergenceWarning)\n",
      "/usr/local/lib/python3.5/dist-packages/statsmodels/tsa/base/tsa_model.py:171: ValueWarning: No frequency information was provided, so inferred frequency H will be used.\n",
      "  % freq, ValueWarning)\n",
      "/usr/local/lib/python3.5/dist-packages/statsmodels/tsa/base/tsa_model.py:171: ValueWarning: No frequency information was provided, so inferred frequency H will be used.\n",
      "  % freq, ValueWarning)\n",
      "/usr/local/lib/python3.5/dist-packages/statsmodels/tsa/base/tsa_model.py:171: ValueWarning: No frequency information was provided, so inferred frequency H will be used.\n",
      "  % freq, ValueWarning)\n"
     ]
    },
    {
     "name": "stdout",
     "output_type": "stream",
     "text": [
      "V6H 3L2 model not created\n",
      "V6H 3N6 model not created\n"
     ]
    },
    {
     "name": "stderr",
     "output_type": "stream",
     "text": [
      "/usr/local/lib/python3.5/dist-packages/statsmodels/tsa/base/tsa_model.py:171: ValueWarning: No frequency information was provided, so inferred frequency H will be used.\n",
      "  % freq, ValueWarning)\n",
      "/usr/local/lib/python3.5/dist-packages/statsmodels/tsa/base/tsa_model.py:171: ValueWarning: No frequency information was provided, so inferred frequency H will be used.\n",
      "  % freq, ValueWarning)\n"
     ]
    },
    {
     "name": "stdout",
     "output_type": "stream",
     "text": [
      "V6H 3R5 model not created\n"
     ]
    },
    {
     "name": "stderr",
     "output_type": "stream",
     "text": [
      "/usr/local/lib/python3.5/dist-packages/statsmodels/tsa/base/tsa_model.py:171: ValueWarning: No frequency information was provided, so inferred frequency H will be used.\n",
      "  % freq, ValueWarning)\n",
      "/usr/local/lib/python3.5/dist-packages/statsmodels/base/model.py:508: ConvergenceWarning: Maximum Likelihood optimization failed to converge. Check mle_retvals\n",
      "  \"Check mle_retvals\", ConvergenceWarning)\n",
      "/usr/local/lib/python3.5/dist-packages/statsmodels/tsa/base/tsa_model.py:171: ValueWarning: No frequency information was provided, so inferred frequency H will be used.\n",
      "  % freq, ValueWarning)\n",
      "/usr/local/lib/python3.5/dist-packages/statsmodels/tsa/base/tsa_model.py:171: ValueWarning: No frequency information was provided, so inferred frequency H will be used.\n",
      "  % freq, ValueWarning)\n",
      "/usr/local/lib/python3.5/dist-packages/statsmodels/tsa/base/tsa_model.py:171: ValueWarning: No frequency information was provided, so inferred frequency H will be used.\n",
      "  % freq, ValueWarning)\n",
      "/usr/local/lib/python3.5/dist-packages/statsmodels/tsa/base/tsa_model.py:171: ValueWarning: No frequency information was provided, so inferred frequency H will be used.\n",
      "  % freq, ValueWarning)\n",
      "/usr/local/lib/python3.5/dist-packages/statsmodels/tsa/base/tsa_model.py:171: ValueWarning: No frequency information was provided, so inferred frequency H will be used.\n",
      "  % freq, ValueWarning)\n",
      "/usr/local/lib/python3.5/dist-packages/statsmodels/tsa/base/tsa_model.py:171: ValueWarning: No frequency information was provided, so inferred frequency H will be used.\n",
      "  % freq, ValueWarning)\n",
      "/usr/local/lib/python3.5/dist-packages/statsmodels/tsa/base/tsa_model.py:171: ValueWarning: No frequency information was provided, so inferred frequency H will be used.\n",
      "  % freq, ValueWarning)\n",
      "/usr/local/lib/python3.5/dist-packages/statsmodels/tsa/base/tsa_model.py:171: ValueWarning: No frequency information was provided, so inferred frequency H will be used.\n",
      "  % freq, ValueWarning)\n"
     ]
    },
    {
     "name": "stdout",
     "output_type": "stream",
     "text": [
      "V6H 3S6 model not created\n",
      "V6H 3X5 model not created\n",
      "V6H 3X9 model not created\n",
      "V6H 3Y9 model not created\n",
      "V6H 3Z3 model not created\n",
      "V6H 3Z6 model not created\n"
     ]
    },
    {
     "name": "stderr",
     "output_type": "stream",
     "text": [
      "/usr/local/lib/python3.5/dist-packages/statsmodels/tsa/base/tsa_model.py:171: ValueWarning: No frequency information was provided, so inferred frequency H will be used.\n",
      "  % freq, ValueWarning)\n",
      "/usr/local/lib/python3.5/dist-packages/statsmodels/tsa/base/tsa_model.py:171: ValueWarning: No frequency information was provided, so inferred frequency H will be used.\n",
      "  % freq, ValueWarning)\n",
      "/usr/local/lib/python3.5/dist-packages/statsmodels/tsa/base/tsa_model.py:171: ValueWarning: No frequency information was provided, so inferred frequency H will be used.\n",
      "  % freq, ValueWarning)\n",
      "/usr/local/lib/python3.5/dist-packages/statsmodels/tsa/base/tsa_model.py:171: ValueWarning: No frequency information was provided, so inferred frequency H will be used.\n",
      "  % freq, ValueWarning)\n"
     ]
    },
    {
     "name": "stdout",
     "output_type": "stream",
     "text": [
      "V6H 4B5 model not created\n",
      "V6H 4C8 model not created\n",
      "V6H 4E1 model not created\n"
     ]
    },
    {
     "name": "stderr",
     "output_type": "stream",
     "text": [
      "/usr/local/lib/python3.5/dist-packages/statsmodels/tsa/base/tsa_model.py:171: ValueWarning: No frequency information was provided, so inferred frequency H will be used.\n",
      "  % freq, ValueWarning)\n",
      "/usr/local/lib/python3.5/dist-packages/statsmodels/tsa/base/tsa_model.py:171: ValueWarning: No frequency information was provided, so inferred frequency H will be used.\n",
      "  % freq, ValueWarning)\n"
     ]
    },
    {
     "name": "stdout",
     "output_type": "stream",
     "text": [
      "V6J 0A8 model not created\n"
     ]
    },
    {
     "name": "stderr",
     "output_type": "stream",
     "text": [
      "/usr/local/lib/python3.5/dist-packages/statsmodels/tsa/base/tsa_model.py:171: ValueWarning: No frequency information was provided, so inferred frequency H will be used.\n",
      "  % freq, ValueWarning)\n",
      "/usr/local/lib/python3.5/dist-packages/statsmodels/tsa/base/tsa_model.py:171: ValueWarning: No frequency information was provided, so inferred frequency H will be used.\n",
      "  % freq, ValueWarning)\n",
      "/usr/local/lib/python3.5/dist-packages/statsmodels/tsa/base/tsa_model.py:171: ValueWarning: No frequency information was provided, so inferred frequency H will be used.\n",
      "  % freq, ValueWarning)\n",
      "/usr/local/lib/python3.5/dist-packages/statsmodels/tsa/base/tsa_model.py:171: ValueWarning: No frequency information was provided, so inferred frequency H will be used.\n",
      "  % freq, ValueWarning)\n",
      "/usr/local/lib/python3.5/dist-packages/statsmodels/tsa/base/tsa_model.py:171: ValueWarning: No frequency information was provided, so inferred frequency H will be used.\n",
      "  % freq, ValueWarning)\n",
      "/usr/local/lib/python3.5/dist-packages/statsmodels/tsa/base/tsa_model.py:171: ValueWarning: No frequency information was provided, so inferred frequency H will be used.\n",
      "  % freq, ValueWarning)\n",
      "/usr/local/lib/python3.5/dist-packages/statsmodels/tsa/base/tsa_model.py:171: ValueWarning: No frequency information was provided, so inferred frequency H will be used.\n",
      "  % freq, ValueWarning)\n"
     ]
    },
    {
     "name": "stdout",
     "output_type": "stream",
     "text": [
      "V6J 1B8 model not created\n",
      "V6J 1C3 model not created\n",
      "V6J 1C9 model not created\n",
      "V6J 1K2 model not created\n",
      "V6J 1K3 model not created\n",
      "V6J 1L5 model not created\n"
     ]
    },
    {
     "name": "stderr",
     "output_type": "stream",
     "text": [
      "/usr/local/lib/python3.5/dist-packages/statsmodels/tsa/base/tsa_model.py:171: ValueWarning: No frequency information was provided, so inferred frequency H will be used.\n",
      "  % freq, ValueWarning)\n",
      "/usr/local/lib/python3.5/dist-packages/statsmodels/tsa/base/tsa_model.py:171: ValueWarning: No frequency information was provided, so inferred frequency H will be used.\n",
      "  % freq, ValueWarning)\n"
     ]
    },
    {
     "name": "stdout",
     "output_type": "stream",
     "text": [
      "V6J 1P2 model not created\n"
     ]
    },
    {
     "name": "stderr",
     "output_type": "stream",
     "text": [
      "/usr/local/lib/python3.5/dist-packages/statsmodels/tsa/base/tsa_model.py:171: ValueWarning: No frequency information was provided, so inferred frequency H will be used.\n",
      "  % freq, ValueWarning)\n",
      "/usr/local/lib/python3.5/dist-packages/statsmodels/tsa/base/tsa_model.py:171: ValueWarning: No frequency information was provided, so inferred frequency H will be used.\n",
      "  % freq, ValueWarning)\n"
     ]
    },
    {
     "name": "stdout",
     "output_type": "stream",
     "text": [
      "V6J 1S4 model not created\n"
     ]
    },
    {
     "name": "stderr",
     "output_type": "stream",
     "text": [
      "/usr/local/lib/python3.5/dist-packages/statsmodels/tsa/base/tsa_model.py:171: ValueWarning: No frequency information was provided, so inferred frequency H will be used.\n",
      "  % freq, ValueWarning)\n",
      "/usr/local/lib/python3.5/dist-packages/statsmodels/tsa/base/tsa_model.py:171: ValueWarning: No frequency information was provided, so inferred frequency H will be used.\n",
      "  % freq, ValueWarning)\n",
      "/usr/local/lib/python3.5/dist-packages/statsmodels/tsa/base/tsa_model.py:171: ValueWarning: No frequency information was provided, so inferred frequency H will be used.\n",
      "  % freq, ValueWarning)\n",
      "/usr/local/lib/python3.5/dist-packages/statsmodels/tsa/base/tsa_model.py:171: ValueWarning: No frequency information was provided, so inferred frequency H will be used.\n",
      "  % freq, ValueWarning)\n"
     ]
    },
    {
     "name": "stdout",
     "output_type": "stream",
     "text": [
      "V6J 2H1 model not created\n"
     ]
    },
    {
     "name": "stderr",
     "output_type": "stream",
     "text": [
      "/usr/local/lib/python3.5/dist-packages/statsmodels/tsa/base/tsa_model.py:171: ValueWarning: No frequency information was provided, so inferred frequency H will be used.\n",
      "  % freq, ValueWarning)\n",
      "/usr/local/lib/python3.5/dist-packages/statsmodels/tsa/base/tsa_model.py:171: ValueWarning: No frequency information was provided, so inferred frequency H will be used.\n",
      "  % freq, ValueWarning)\n",
      "/usr/local/lib/python3.5/dist-packages/statsmodels/tsa/base/tsa_model.py:171: ValueWarning: No frequency information was provided, so inferred frequency H will be used.\n",
      "  % freq, ValueWarning)\n",
      "/usr/local/lib/python3.5/dist-packages/statsmodels/tsa/base/tsa_model.py:171: ValueWarning: No frequency information was provided, so inferred frequency H will be used.\n",
      "  % freq, ValueWarning)\n",
      "/usr/local/lib/python3.5/dist-packages/statsmodels/tsa/base/tsa_model.py:171: ValueWarning: No frequency information was provided, so inferred frequency H will be used.\n",
      "  % freq, ValueWarning)\n"
     ]
    },
    {
     "name": "stdout",
     "output_type": "stream",
     "text": [
      "V6J 2M6 model not created\n",
      "V6J 2T6 model not created\n",
      "V6J 3G2 model not created\n",
      "V6J 3G3 model not created\n"
     ]
    },
    {
     "name": "stderr",
     "output_type": "stream",
     "text": [
      "/usr/local/lib/python3.5/dist-packages/statsmodels/tsa/base/tsa_model.py:171: ValueWarning: No frequency information was provided, so inferred frequency H will be used.\n",
      "  % freq, ValueWarning)\n",
      "/usr/local/lib/python3.5/dist-packages/statsmodels/base/model.py:508: ConvergenceWarning: Maximum Likelihood optimization failed to converge. Check mle_retvals\n",
      "  \"Check mle_retvals\", ConvergenceWarning)\n",
      "/usr/local/lib/python3.5/dist-packages/statsmodels/tsa/base/tsa_model.py:171: ValueWarning: No frequency information was provided, so inferred frequency H will be used.\n",
      "  % freq, ValueWarning)\n"
     ]
    },
    {
     "name": "stdout",
     "output_type": "stream",
     "text": [
      "V6J 3W2 model not created\n"
     ]
    },
    {
     "name": "stderr",
     "output_type": "stream",
     "text": [
      "/usr/local/lib/python3.5/dist-packages/statsmodels/tsa/base/tsa_model.py:171: ValueWarning: No frequency information was provided, so inferred frequency H will be used.\n",
      "  % freq, ValueWarning)\n",
      "/usr/local/lib/python3.5/dist-packages/statsmodels/base/model.py:508: ConvergenceWarning: Maximum Likelihood optimization failed to converge. Check mle_retvals\n",
      "  \"Check mle_retvals\", ConvergenceWarning)\n",
      "/usr/local/lib/python3.5/dist-packages/statsmodels/tsa/base/tsa_model.py:171: ValueWarning: No frequency information was provided, so inferred frequency H will be used.\n",
      "  % freq, ValueWarning)\n",
      "/usr/local/lib/python3.5/dist-packages/statsmodels/tsa/base/tsa_model.py:171: ValueWarning: No frequency information was provided, so inferred frequency H will be used.\n",
      "  % freq, ValueWarning)\n",
      "/usr/local/lib/python3.5/dist-packages/statsmodels/tsa/base/tsa_model.py:171: ValueWarning: No frequency information was provided, so inferred frequency H will be used.\n",
      "  % freq, ValueWarning)\n",
      "/usr/local/lib/python3.5/dist-packages/statsmodels/tsa/base/tsa_model.py:171: ValueWarning: No frequency information was provided, so inferred frequency H will be used.\n",
      "  % freq, ValueWarning)\n"
     ]
    },
    {
     "name": "stdout",
     "output_type": "stream",
     "text": [
      "V6J 3Y4 model not created\n",
      "V6J 3Y5 model not created\n",
      "V6J 3Z3 model not created\n"
     ]
    },
    {
     "name": "stderr",
     "output_type": "stream",
     "text": [
      "/usr/local/lib/python3.5/dist-packages/statsmodels/tsa/base/tsa_model.py:171: ValueWarning: No frequency information was provided, so inferred frequency H will be used.\n",
      "  % freq, ValueWarning)\n",
      "/usr/local/lib/python3.5/dist-packages/statsmodels/tsa/base/tsa_model.py:171: ValueWarning: No frequency information was provided, so inferred frequency H will be used.\n",
      "  % freq, ValueWarning)\n",
      "/usr/local/lib/python3.5/dist-packages/statsmodels/tsa/base/tsa_model.py:171: ValueWarning: No frequency information was provided, so inferred frequency H will be used.\n",
      "  % freq, ValueWarning)\n",
      "/usr/local/lib/python3.5/dist-packages/statsmodels/tsa/base/tsa_model.py:171: ValueWarning: No frequency information was provided, so inferred frequency H will be used.\n",
      "  % freq, ValueWarning)\n",
      "/usr/local/lib/python3.5/dist-packages/statsmodels/tsa/base/tsa_model.py:171: ValueWarning: No frequency information was provided, so inferred frequency H will be used.\n",
      "  % freq, ValueWarning)\n",
      "/usr/local/lib/python3.5/dist-packages/statsmodels/tsa/base/tsa_model.py:171: ValueWarning: No frequency information was provided, so inferred frequency H will be used.\n",
      "  % freq, ValueWarning)\n",
      "/usr/local/lib/python3.5/dist-packages/statsmodels/tsa/base/tsa_model.py:171: ValueWarning: No frequency information was provided, so inferred frequency H will be used.\n",
      "  % freq, ValueWarning)\n",
      "/usr/local/lib/python3.5/dist-packages/statsmodels/tsa/base/tsa_model.py:171: ValueWarning: No frequency information was provided, so inferred frequency H will be used.\n",
      "  % freq, ValueWarning)\n",
      "/usr/local/lib/python3.5/dist-packages/statsmodels/tsa/base/tsa_model.py:171: ValueWarning: No frequency information was provided, so inferred frequency H will be used.\n",
      "  % freq, ValueWarning)\n"
     ]
    },
    {
     "name": "stdout",
     "output_type": "stream",
     "text": [
      "V6J 4J9 model not created\n",
      "V6J 4L2 model not created\n",
      "V6J 4M6 model not created\n",
      "V6J 4T8 model not created\n",
      "V6J 4Z2 model not created\n",
      "V6J 5C1 model not created\n",
      "V6J 5G4 model not created\n",
      "V6J 5K3 model not created\n"
     ]
    },
    {
     "name": "stderr",
     "output_type": "stream",
     "text": [
      "/usr/local/lib/python3.5/dist-packages/statsmodels/tsa/base/tsa_model.py:171: ValueWarning: No frequency information was provided, so inferred frequency H will be used.\n",
      "  % freq, ValueWarning)\n",
      "/usr/local/lib/python3.5/dist-packages/statsmodels/tsa/base/tsa_model.py:171: ValueWarning: No frequency information was provided, so inferred frequency H will be used.\n",
      "  % freq, ValueWarning)\n",
      "/usr/local/lib/python3.5/dist-packages/statsmodels/tsa/base/tsa_model.py:171: ValueWarning: No frequency information was provided, so inferred frequency H will be used.\n",
      "  % freq, ValueWarning)\n",
      "/usr/local/lib/python3.5/dist-packages/statsmodels/tsa/base/tsa_model.py:171: ValueWarning: No frequency information was provided, so inferred frequency H will be used.\n",
      "  % freq, ValueWarning)\n",
      "/usr/local/lib/python3.5/dist-packages/statsmodels/tsa/base/tsa_model.py:171: ValueWarning: No frequency information was provided, so inferred frequency H will be used.\n",
      "  % freq, ValueWarning)\n",
      "/usr/local/lib/python3.5/dist-packages/statsmodels/tsa/base/tsa_model.py:171: ValueWarning: No frequency information was provided, so inferred frequency H will be used.\n",
      "  % freq, ValueWarning)\n",
      "/usr/local/lib/python3.5/dist-packages/statsmodels/tsa/base/tsa_model.py:171: ValueWarning: No frequency information was provided, so inferred frequency H will be used.\n",
      "  % freq, ValueWarning)\n",
      "/usr/local/lib/python3.5/dist-packages/statsmodels/tsa/base/tsa_model.py:171: ValueWarning: No frequency information was provided, so inferred frequency H will be used.\n",
      "  % freq, ValueWarning)\n",
      "/usr/local/lib/python3.5/dist-packages/statsmodels/tsa/base/tsa_model.py:171: ValueWarning: No frequency information was provided, so inferred frequency H will be used.\n",
      "  % freq, ValueWarning)\n",
      "/usr/local/lib/python3.5/dist-packages/statsmodels/tsa/base/tsa_model.py:171: ValueWarning: No frequency information was provided, so inferred frequency H will be used.\n",
      "  % freq, ValueWarning)\n",
      "/usr/local/lib/python3.5/dist-packages/statsmodels/tsa/base/tsa_model.py:171: ValueWarning: No frequency information was provided, so inferred frequency H will be used.\n",
      "  % freq, ValueWarning)\n",
      "/usr/local/lib/python3.5/dist-packages/statsmodels/tsa/base/tsa_model.py:171: ValueWarning: No frequency information was provided, so inferred frequency H will be used.\n",
      "  % freq, ValueWarning)\n"
     ]
    },
    {
     "name": "stdout",
     "output_type": "stream",
     "text": [
      "V6K 1B4 model not created\n",
      "V6K 1B6 model not created\n",
      "V6K 1C2 model not created\n",
      "V6K 1C6 model not created\n",
      "V6K 1H7 model not created\n",
      "V6K 1J5 model not created\n",
      "V6K 1K5 model not created\n",
      "V6K 1L5 model not created\n",
      "V6K 1M4 model not created\n",
      "V6K 1P3 model not created\n"
     ]
    },
    {
     "name": "stderr",
     "output_type": "stream",
     "text": [
      "/usr/local/lib/python3.5/dist-packages/statsmodels/tsa/base/tsa_model.py:171: ValueWarning: No frequency information was provided, so inferred frequency H will be used.\n",
      "  % freq, ValueWarning)\n",
      "/usr/local/lib/python3.5/dist-packages/statsmodels/tsa/base/tsa_model.py:171: ValueWarning: No frequency information was provided, so inferred frequency H will be used.\n",
      "  % freq, ValueWarning)\n",
      "/usr/local/lib/python3.5/dist-packages/statsmodels/tsa/base/tsa_model.py:171: ValueWarning: No frequency information was provided, so inferred frequency H will be used.\n",
      "  % freq, ValueWarning)\n",
      "/usr/local/lib/python3.5/dist-packages/statsmodels/tsa/base/tsa_model.py:171: ValueWarning: No frequency information was provided, so inferred frequency H will be used.\n",
      "  % freq, ValueWarning)\n",
      "/usr/local/lib/python3.5/dist-packages/statsmodels/tsa/base/tsa_model.py:171: ValueWarning: No frequency information was provided, so inferred frequency H will be used.\n",
      "  % freq, ValueWarning)\n",
      "/usr/local/lib/python3.5/dist-packages/statsmodels/tsa/base/tsa_model.py:171: ValueWarning: No frequency information was provided, so inferred frequency H will be used.\n",
      "  % freq, ValueWarning)\n",
      "/usr/local/lib/python3.5/dist-packages/statsmodels/tsa/base/tsa_model.py:171: ValueWarning: No frequency information was provided, so inferred frequency H will be used.\n",
      "  % freq, ValueWarning)\n"
     ]
    },
    {
     "name": "stdout",
     "output_type": "stream",
     "text": [
      "V6K 1V8 model not created\n",
      "V6K 1W4 model not created\n",
      "V6K 1W6 model not created\n",
      "V6K 2A9 model not created\n",
      "V6K 2C5 model not created\n",
      "V6K 2E6 model not created\n"
     ]
    },
    {
     "name": "stderr",
     "output_type": "stream",
     "text": [
      "/usr/local/lib/python3.5/dist-packages/statsmodels/tsa/base/tsa_model.py:171: ValueWarning: No frequency information was provided, so inferred frequency H will be used.\n",
      "  % freq, ValueWarning)\n",
      "/usr/local/lib/python3.5/dist-packages/statsmodels/tsa/base/tsa_model.py:171: ValueWarning: No frequency information was provided, so inferred frequency H will be used.\n",
      "  % freq, ValueWarning)\n"
     ]
    },
    {
     "name": "stdout",
     "output_type": "stream",
     "text": [
      "V6K 2G4 model not created\n"
     ]
    },
    {
     "name": "stderr",
     "output_type": "stream",
     "text": [
      "/usr/local/lib/python3.5/dist-packages/statsmodels/tsa/base/tsa_model.py:171: ValueWarning: No frequency information was provided, so inferred frequency H will be used.\n",
      "  % freq, ValueWarning)\n",
      "/usr/local/lib/python3.5/dist-packages/statsmodels/tsa/base/tsa_model.py:171: ValueWarning: No frequency information was provided, so inferred frequency H will be used.\n",
      "  % freq, ValueWarning)\n",
      "/usr/local/lib/python3.5/dist-packages/statsmodels/tsa/base/tsa_model.py:171: ValueWarning: No frequency information was provided, so inferred frequency H will be used.\n",
      "  % freq, ValueWarning)\n",
      "/usr/local/lib/python3.5/dist-packages/statsmodels/tsa/base/tsa_model.py:171: ValueWarning: No frequency information was provided, so inferred frequency H will be used.\n",
      "  % freq, ValueWarning)\n",
      "/usr/local/lib/python3.5/dist-packages/statsmodels/tsa/base/tsa_model.py:171: ValueWarning: No frequency information was provided, so inferred frequency H will be used.\n",
      "  % freq, ValueWarning)\n",
      "/usr/local/lib/python3.5/dist-packages/statsmodels/tsa/base/tsa_model.py:171: ValueWarning: No frequency information was provided, so inferred frequency H will be used.\n",
      "  % freq, ValueWarning)\n"
     ]
    },
    {
     "name": "stdout",
     "output_type": "stream",
     "text": [
      "V6K 2N5 model not created\n",
      "V6K 2P1 model not created\n",
      "V6K 2R2 model not created\n",
      "V6K 2R5 model not created\n"
     ]
    },
    {
     "name": "stderr",
     "output_type": "stream",
     "text": [
      "/usr/local/lib/python3.5/dist-packages/statsmodels/tsa/base/tsa_model.py:171: ValueWarning: No frequency information was provided, so inferred frequency H will be used.\n",
      "  % freq, ValueWarning)\n",
      "/usr/local/lib/python3.5/dist-packages/statsmodels/tsa/base/tsa_model.py:171: ValueWarning: No frequency information was provided, so inferred frequency H will be used.\n",
      "  % freq, ValueWarning)\n",
      "/usr/local/lib/python3.5/dist-packages/statsmodels/tsa/base/tsa_model.py:171: ValueWarning: No frequency information was provided, so inferred frequency H will be used.\n",
      "  % freq, ValueWarning)\n"
     ]
    },
    {
     "name": "stdout",
     "output_type": "stream",
     "text": [
      "V6K 3E4 model not created\n",
      "V6K 3E5 model not created\n"
     ]
    },
    {
     "name": "stderr",
     "output_type": "stream",
     "text": [
      "/usr/local/lib/python3.5/dist-packages/statsmodels/tsa/base/tsa_model.py:171: ValueWarning: No frequency information was provided, so inferred frequency H will be used.\n",
      "  % freq, ValueWarning)\n",
      "/usr/local/lib/python3.5/dist-packages/statsmodels/tsa/base/tsa_model.py:171: ValueWarning: No frequency information was provided, so inferred frequency H will be used.\n",
      "  % freq, ValueWarning)\n",
      "/usr/local/lib/python3.5/dist-packages/statsmodels/tsa/base/tsa_model.py:171: ValueWarning: No frequency information was provided, so inferred frequency H will be used.\n",
      "  % freq, ValueWarning)\n",
      "/usr/local/lib/python3.5/dist-packages/statsmodels/tsa/base/tsa_model.py:171: ValueWarning: No frequency information was provided, so inferred frequency H will be used.\n",
      "  % freq, ValueWarning)\n",
      "/usr/local/lib/python3.5/dist-packages/statsmodels/tsa/base/tsa_model.py:171: ValueWarning: No frequency information was provided, so inferred frequency H will be used.\n",
      "  % freq, ValueWarning)\n",
      "/usr/local/lib/python3.5/dist-packages/statsmodels/tsa/base/tsa_model.py:171: ValueWarning: No frequency information was provided, so inferred frequency H will be used.\n",
      "  % freq, ValueWarning)\n",
      "/usr/local/lib/python3.5/dist-packages/statsmodels/tsa/base/tsa_model.py:171: ValueWarning: No frequency information was provided, so inferred frequency H will be used.\n",
      "  % freq, ValueWarning)\n",
      "/usr/local/lib/python3.5/dist-packages/statsmodels/tsa/base/tsa_model.py:171: ValueWarning: No frequency information was provided, so inferred frequency H will be used.\n",
      "  % freq, ValueWarning)\n",
      "/usr/local/lib/python3.5/dist-packages/statsmodels/tsa/base/tsa_model.py:171: ValueWarning: No frequency information was provided, so inferred frequency H will be used.\n",
      "  % freq, ValueWarning)\n",
      "/usr/local/lib/python3.5/dist-packages/statsmodels/tsa/base/tsa_model.py:171: ValueWarning: No frequency information was provided, so inferred frequency H will be used.\n",
      "  % freq, ValueWarning)\n",
      "/usr/local/lib/python3.5/dist-packages/statsmodels/tsa/base/tsa_model.py:171: ValueWarning: No frequency information was provided, so inferred frequency H will be used.\n",
      "  % freq, ValueWarning)\n",
      "/usr/local/lib/python3.5/dist-packages/statsmodels/tsa/base/tsa_model.py:171: ValueWarning: No frequency information was provided, so inferred frequency H will be used.\n",
      "  % freq, ValueWarning)\n",
      "/usr/local/lib/python3.5/dist-packages/statsmodels/tsa/base/tsa_model.py:171: ValueWarning: No frequency information was provided, so inferred frequency H will be used.\n",
      "  % freq, ValueWarning)\n",
      "/usr/local/lib/python3.5/dist-packages/statsmodels/tsa/base/tsa_model.py:171: ValueWarning: No frequency information was provided, so inferred frequency H will be used.\n",
      "  % freq, ValueWarning)\n",
      "/usr/local/lib/python3.5/dist-packages/statsmodels/tsa/base/tsa_model.py:171: ValueWarning: No frequency information was provided, so inferred frequency H will be used.\n",
      "  % freq, ValueWarning)\n",
      "/usr/local/lib/python3.5/dist-packages/statsmodels/tsa/base/tsa_model.py:171: ValueWarning: No frequency information was provided, so inferred frequency H will be used.\n",
      "  % freq, ValueWarning)\n",
      "/usr/local/lib/python3.5/dist-packages/statsmodels/tsa/base/tsa_model.py:171: ValueWarning: No frequency information was provided, so inferred frequency H will be used.\n",
      "  % freq, ValueWarning)\n",
      "/usr/local/lib/python3.5/dist-packages/statsmodels/tsa/base/tsa_model.py:171: ValueWarning: No frequency information was provided, so inferred frequency H will be used.\n",
      "  % freq, ValueWarning)\n",
      "/usr/local/lib/python3.5/dist-packages/statsmodels/tsa/base/tsa_model.py:171: ValueWarning: No frequency information was provided, so inferred frequency H will be used.\n",
      "  % freq, ValueWarning)\n",
      "/usr/local/lib/python3.5/dist-packages/statsmodels/tsa/base/tsa_model.py:171: ValueWarning: No frequency information was provided, so inferred frequency H will be used.\n",
      "  % freq, ValueWarning)\n"
     ]
    },
    {
     "name": "stdout",
     "output_type": "stream",
     "text": [
      "V6K 3J2 model not created\n",
      "V6K 3J3 model not created\n",
      "V6K 3J5 model not created\n",
      "V6K 3J6 model not created\n",
      "V6K 3K4 model not created\n",
      "V6K 3L4 model not created\n",
      "V6K 3M2 model not created\n",
      "V6K 3N1 model not created\n",
      "V6K 3R1 model not created\n",
      "V6K 3R5 model not created\n",
      "V6K 3S5 model not created\n",
      "V6K 3T6 model not created\n",
      "V6K 3W9 model not created\n",
      "V6K 3X2 model not created\n",
      "V6K 3Y3 model not created\n",
      "V6K 3Y8 model not created\n",
      "V6K 4J6 model not created\n",
      "V6K 4S4 model not created\n"
     ]
    },
    {
     "name": "stderr",
     "output_type": "stream",
     "text": [
      "/usr/local/lib/python3.5/dist-packages/statsmodels/tsa/base/tsa_model.py:171: ValueWarning: No frequency information was provided, so inferred frequency H will be used.\n",
      "  % freq, ValueWarning)\n",
      "/usr/local/lib/python3.5/dist-packages/statsmodels/tsa/base/tsa_model.py:171: ValueWarning: No frequency information was provided, so inferred frequency H will be used.\n",
      "  % freq, ValueWarning)\n",
      "/usr/local/lib/python3.5/dist-packages/statsmodels/tsa/base/tsa_model.py:171: ValueWarning: No frequency information was provided, so inferred frequency H will be used.\n",
      "  % freq, ValueWarning)\n",
      "/usr/local/lib/python3.5/dist-packages/statsmodels/tsa/base/tsa_model.py:171: ValueWarning: No frequency information was provided, so inferred frequency H will be used.\n",
      "  % freq, ValueWarning)\n",
      "/usr/local/lib/python3.5/dist-packages/statsmodels/tsa/base/tsa_model.py:171: ValueWarning: No frequency information was provided, so inferred frequency H will be used.\n",
      "  % freq, ValueWarning)\n",
      "/usr/local/lib/python3.5/dist-packages/statsmodels/tsa/base/tsa_model.py:171: ValueWarning: No frequency information was provided, so inferred frequency H will be used.\n",
      "  % freq, ValueWarning)\n",
      "/usr/local/lib/python3.5/dist-packages/statsmodels/tsa/base/tsa_model.py:171: ValueWarning: No frequency information was provided, so inferred frequency H will be used.\n",
      "  % freq, ValueWarning)\n",
      "/usr/local/lib/python3.5/dist-packages/statsmodels/tsa/base/tsa_model.py:171: ValueWarning: No frequency information was provided, so inferred frequency H will be used.\n",
      "  % freq, ValueWarning)\n",
      "/usr/local/lib/python3.5/dist-packages/statsmodels/tsa/base/tsa_model.py:171: ValueWarning: No frequency information was provided, so inferred frequency H will be used.\n",
      "  % freq, ValueWarning)\n",
      "/usr/local/lib/python3.5/dist-packages/statsmodels/tsa/base/tsa_model.py:171: ValueWarning: No frequency information was provided, so inferred frequency H will be used.\n",
      "  % freq, ValueWarning)\n"
     ]
    },
    {
     "name": "stdout",
     "output_type": "stream",
     "text": [
      "V6L 1A9 model not created\n",
      "V6L 1T6 model not created\n",
      "V6L 1X2 model not created\n",
      "V6L 1X4 model not created\n",
      "V6L 1Y5 model not created\n",
      "V6L 2A4 model not created\n",
      "V6L 2B9 model not created\n",
      "V6L 2C8 model not created\n"
     ]
    },
    {
     "name": "stderr",
     "output_type": "stream",
     "text": [
      "/usr/local/lib/python3.5/dist-packages/statsmodels/tsa/base/tsa_model.py:171: ValueWarning: No frequency information was provided, so inferred frequency H will be used.\n",
      "  % freq, ValueWarning)\n",
      "/usr/local/lib/python3.5/dist-packages/statsmodels/tsa/base/tsa_model.py:171: ValueWarning: No frequency information was provided, so inferred frequency H will be used.\n",
      "  % freq, ValueWarning)\n",
      "/usr/local/lib/python3.5/dist-packages/statsmodels/tsa/base/tsa_model.py:171: ValueWarning: No frequency information was provided, so inferred frequency H will be used.\n",
      "  % freq, ValueWarning)\n",
      "/usr/local/lib/python3.5/dist-packages/statsmodels/tsa/base/tsa_model.py:171: ValueWarning: No frequency information was provided, so inferred frequency H will be used.\n",
      "  % freq, ValueWarning)\n",
      "/usr/local/lib/python3.5/dist-packages/statsmodels/tsa/base/tsa_model.py:171: ValueWarning: No frequency information was provided, so inferred frequency H will be used.\n",
      "  % freq, ValueWarning)\n",
      "/usr/local/lib/python3.5/dist-packages/statsmodels/tsa/base/tsa_model.py:171: ValueWarning: No frequency information was provided, so inferred frequency H will be used.\n",
      "  % freq, ValueWarning)\n",
      "/usr/local/lib/python3.5/dist-packages/statsmodels/tsa/base/tsa_model.py:171: ValueWarning: No frequency information was provided, so inferred frequency H will be used.\n",
      "  % freq, ValueWarning)\n",
      "/usr/local/lib/python3.5/dist-packages/statsmodels/tsa/base/tsa_model.py:171: ValueWarning: No frequency information was provided, so inferred frequency H will be used.\n",
      "  % freq, ValueWarning)\n"
     ]
    },
    {
     "name": "stdout",
     "output_type": "stream",
     "text": [
      "V6L 2M7 model not created\n",
      "V6L 2P2 model not created\n",
      "V6L 2T8 model not created\n",
      "V6L 2X7 model not created\n",
      "V6L 3E4 model not created\n",
      "V6L 3E5 model not created\n",
      "V6L 3H8 model not created\n"
     ]
    },
    {
     "name": "stderr",
     "output_type": "stream",
     "text": [
      "/usr/local/lib/python3.5/dist-packages/statsmodels/tsa/base/tsa_model.py:171: ValueWarning: No frequency information was provided, so inferred frequency H will be used.\n",
      "  % freq, ValueWarning)\n",
      "/usr/local/lib/python3.5/dist-packages/statsmodels/tsa/base/tsa_model.py:171: ValueWarning: No frequency information was provided, so inferred frequency H will be used.\n",
      "  % freq, ValueWarning)\n",
      "/usr/local/lib/python3.5/dist-packages/statsmodels/tsa/base/tsa_model.py:171: ValueWarning: No frequency information was provided, so inferred frequency H will be used.\n",
      "  % freq, ValueWarning)\n",
      "/usr/local/lib/python3.5/dist-packages/statsmodels/tsa/base/tsa_model.py:171: ValueWarning: No frequency information was provided, so inferred frequency H will be used.\n",
      "  % freq, ValueWarning)\n",
      "/usr/local/lib/python3.5/dist-packages/statsmodels/tsa/base/tsa_model.py:171: ValueWarning: No frequency information was provided, so inferred frequency H will be used.\n",
      "  % freq, ValueWarning)\n"
     ]
    },
    {
     "name": "stdout",
     "output_type": "stream",
     "text": [
      "V6M 1A3 model not created\n",
      "V6M 1E9 model not created\n",
      "V6M 1H9 model not created\n",
      "V6M 1L5 model not created\n"
     ]
    },
    {
     "name": "stderr",
     "output_type": "stream",
     "text": [
      "/usr/local/lib/python3.5/dist-packages/statsmodels/tsa/base/tsa_model.py:171: ValueWarning: No frequency information was provided, so inferred frequency H will be used.\n",
      "  % freq, ValueWarning)\n",
      "/usr/local/lib/python3.5/dist-packages/statsmodels/tsa/base/tsa_model.py:171: ValueWarning: No frequency information was provided, so inferred frequency H will be used.\n",
      "  % freq, ValueWarning)\n"
     ]
    },
    {
     "name": "stdout",
     "output_type": "stream",
     "text": [
      "V6M 1L9 model not created\n"
     ]
    },
    {
     "name": "stderr",
     "output_type": "stream",
     "text": [
      "/usr/local/lib/python3.5/dist-packages/statsmodels/tsa/base/tsa_model.py:171: ValueWarning: No frequency information was provided, so inferred frequency H will be used.\n",
      "  % freq, ValueWarning)\n",
      "/usr/local/lib/python3.5/dist-packages/statsmodels/tsa/base/tsa_model.py:171: ValueWarning: No frequency information was provided, so inferred frequency H will be used.\n",
      "  % freq, ValueWarning)\n"
     ]
    },
    {
     "name": "stdout",
     "output_type": "stream",
     "text": [
      "V6M 1M2 model not created\n"
     ]
    },
    {
     "name": "stderr",
     "output_type": "stream",
     "text": [
      "/usr/local/lib/python3.5/dist-packages/statsmodels/tsa/base/tsa_model.py:171: ValueWarning: No frequency information was provided, so inferred frequency H will be used.\n",
      "  % freq, ValueWarning)\n",
      "/usr/local/lib/python3.5/dist-packages/statsmodels/tsa/base/tsa_model.py:171: ValueWarning: No frequency information was provided, so inferred frequency H will be used.\n",
      "  % freq, ValueWarning)\n",
      "/usr/local/lib/python3.5/dist-packages/statsmodels/tsa/base/tsa_model.py:171: ValueWarning: No frequency information was provided, so inferred frequency H will be used.\n",
      "  % freq, ValueWarning)\n"
     ]
    },
    {
     "name": "stdout",
     "output_type": "stream",
     "text": [
      "V6M 1P5 model not created\n",
      "V6M 1P6 model not created\n"
     ]
    },
    {
     "name": "stderr",
     "output_type": "stream",
     "text": [
      "/usr/local/lib/python3.5/dist-packages/statsmodels/base/model.py:508: ConvergenceWarning: Maximum Likelihood optimization failed to converge. Check mle_retvals\n",
      "  \"Check mle_retvals\", ConvergenceWarning)\n",
      "/usr/local/lib/python3.5/dist-packages/statsmodels/tsa/base/tsa_model.py:171: ValueWarning: No frequency information was provided, so inferred frequency H will be used.\n",
      "  % freq, ValueWarning)\n",
      "/usr/local/lib/python3.5/dist-packages/statsmodels/tsa/base/tsa_model.py:171: ValueWarning: No frequency information was provided, so inferred frequency H will be used.\n",
      "  % freq, ValueWarning)\n",
      "/usr/local/lib/python3.5/dist-packages/statsmodels/tsa/base/tsa_model.py:171: ValueWarning: No frequency information was provided, so inferred frequency H will be used.\n",
      "  % freq, ValueWarning)\n",
      "/usr/local/lib/python3.5/dist-packages/statsmodels/tsa/base/tsa_model.py:171: ValueWarning: No frequency information was provided, so inferred frequency H will be used.\n",
      "  % freq, ValueWarning)\n",
      "/usr/local/lib/python3.5/dist-packages/statsmodels/tsa/base/tsa_model.py:171: ValueWarning: No frequency information was provided, so inferred frequency H will be used.\n",
      "  % freq, ValueWarning)\n",
      "/usr/local/lib/python3.5/dist-packages/statsmodels/tsa/base/tsa_model.py:171: ValueWarning: No frequency information was provided, so inferred frequency H will be used.\n",
      "  % freq, ValueWarning)\n",
      "/usr/local/lib/python3.5/dist-packages/statsmodels/tsa/base/tsa_model.py:171: ValueWarning: No frequency information was provided, so inferred frequency H will be used.\n",
      "  % freq, ValueWarning)\n",
      "/usr/local/lib/python3.5/dist-packages/statsmodels/tsa/base/tsa_model.py:171: ValueWarning: No frequency information was provided, so inferred frequency H will be used.\n",
      "  % freq, ValueWarning)\n",
      "/usr/local/lib/python3.5/dist-packages/statsmodels/tsa/base/tsa_model.py:171: ValueWarning: No frequency information was provided, so inferred frequency H will be used.\n",
      "  % freq, ValueWarning)\n"
     ]
    },
    {
     "name": "stdout",
     "output_type": "stream",
     "text": [
      "V6M 1P9 model not created\n",
      "V6M 1R4 model not created\n",
      "V6M 1S7 model not created\n",
      "V6M 1S9 model not created\n",
      "V6M 1T1 model not created\n",
      "V6M 1V1 model not created\n",
      "V6M 1V2 model not created\n",
      "V6M 1V3 model not created\n"
     ]
    },
    {
     "name": "stderr",
     "output_type": "stream",
     "text": [
      "/usr/local/lib/python3.5/dist-packages/statsmodels/tsa/base/tsa_model.py:171: ValueWarning: No frequency information was provided, so inferred frequency H will be used.\n",
      "  % freq, ValueWarning)\n",
      "/usr/local/lib/python3.5/dist-packages/statsmodels/tsa/base/tsa_model.py:171: ValueWarning: No frequency information was provided, so inferred frequency H will be used.\n",
      "  % freq, ValueWarning)\n",
      "/usr/local/lib/python3.5/dist-packages/statsmodels/tsa/base/tsa_model.py:171: ValueWarning: No frequency information was provided, so inferred frequency H will be used.\n",
      "  % freq, ValueWarning)\n"
     ]
    },
    {
     "name": "stdout",
     "output_type": "stream",
     "text": [
      "V6M 1V9 model not created\n",
      "V6M 1W6 model not created\n"
     ]
    },
    {
     "name": "stderr",
     "output_type": "stream",
     "text": [
      "/usr/local/lib/python3.5/dist-packages/statsmodels/tsa/base/tsa_model.py:171: ValueWarning: No frequency information was provided, so inferred frequency H will be used.\n",
      "  % freq, ValueWarning)\n",
      "/usr/local/lib/python3.5/dist-packages/statsmodels/tsa/base/tsa_model.py:171: ValueWarning: No frequency information was provided, so inferred frequency H will be used.\n",
      "  % freq, ValueWarning)\n",
      "/usr/local/lib/python3.5/dist-packages/statsmodels/tsa/base/tsa_model.py:171: ValueWarning: No frequency information was provided, so inferred frequency H will be used.\n",
      "  % freq, ValueWarning)\n"
     ]
    },
    {
     "name": "stdout",
     "output_type": "stream",
     "text": [
      "V6M 1X2 model not created\n",
      "V6M 1X4 model not created\n"
     ]
    },
    {
     "name": "stderr",
     "output_type": "stream",
     "text": [
      "/usr/local/lib/python3.5/dist-packages/statsmodels/tsa/base/tsa_model.py:171: ValueWarning: No frequency information was provided, so inferred frequency H will be used.\n",
      "  % freq, ValueWarning)\n",
      "/usr/local/lib/python3.5/dist-packages/statsmodels/tsa/base/tsa_model.py:171: ValueWarning: No frequency information was provided, so inferred frequency H will be used.\n",
      "  % freq, ValueWarning)\n",
      "/usr/local/lib/python3.5/dist-packages/statsmodels/tsa/base/tsa_model.py:171: ValueWarning: No frequency information was provided, so inferred frequency H will be used.\n",
      "  % freq, ValueWarning)\n"
     ]
    },
    {
     "name": "stdout",
     "output_type": "stream",
     "text": [
      "V6M 2A8 model not created\n"
     ]
    },
    {
     "name": "stderr",
     "output_type": "stream",
     "text": [
      "/usr/local/lib/python3.5/dist-packages/statsmodels/tsa/base/tsa_model.py:171: ValueWarning: No frequency information was provided, so inferred frequency H will be used.\n",
      "  % freq, ValueWarning)\n",
      "/usr/local/lib/python3.5/dist-packages/statsmodels/tsa/base/tsa_model.py:171: ValueWarning: No frequency information was provided, so inferred frequency H will be used.\n",
      "  % freq, ValueWarning)\n",
      "/usr/local/lib/python3.5/dist-packages/statsmodels/tsa/base/tsa_model.py:171: ValueWarning: No frequency information was provided, so inferred frequency H will be used.\n",
      "  % freq, ValueWarning)\n",
      "/usr/local/lib/python3.5/dist-packages/statsmodels/tsa/base/tsa_model.py:171: ValueWarning: No frequency information was provided, so inferred frequency H will be used.\n",
      "  % freq, ValueWarning)\n",
      "/usr/local/lib/python3.5/dist-packages/statsmodels/tsa/base/tsa_model.py:171: ValueWarning: No frequency information was provided, so inferred frequency H will be used.\n",
      "  % freq, ValueWarning)\n",
      "/usr/local/lib/python3.5/dist-packages/statsmodels/tsa/base/tsa_model.py:171: ValueWarning: No frequency information was provided, so inferred frequency H will be used.\n",
      "  % freq, ValueWarning)\n"
     ]
    },
    {
     "name": "stdout",
     "output_type": "stream",
     "text": [
      "V6M 2G8 model not created\n",
      "V6M 2H1 model not created\n",
      "V6M 2N5 model not created\n",
      "V6M 2P5 model not created\n"
     ]
    },
    {
     "name": "stderr",
     "output_type": "stream",
     "text": [
      "/usr/local/lib/python3.5/dist-packages/statsmodels/tsa/base/tsa_model.py:171: ValueWarning: No frequency information was provided, so inferred frequency H will be used.\n",
      "  % freq, ValueWarning)\n",
      "/usr/local/lib/python3.5/dist-packages/statsmodels/tsa/base/tsa_model.py:171: ValueWarning: No frequency information was provided, so inferred frequency H will be used.\n",
      "  % freq, ValueWarning)\n"
     ]
    },
    {
     "name": "stdout",
     "output_type": "stream",
     "text": [
      "V6M 2P9 model not created\n"
     ]
    },
    {
     "name": "stderr",
     "output_type": "stream",
     "text": [
      "/usr/local/lib/python3.5/dist-packages/statsmodels/base/model.py:508: ConvergenceWarning: Maximum Likelihood optimization failed to converge. Check mle_retvals\n",
      "  \"Check mle_retvals\", ConvergenceWarning)\n",
      "/usr/local/lib/python3.5/dist-packages/statsmodels/tsa/base/tsa_model.py:171: ValueWarning: No frequency information was provided, so inferred frequency H will be used.\n",
      "  % freq, ValueWarning)\n",
      "/usr/local/lib/python3.5/dist-packages/statsmodels/tsa/base/tsa_model.py:171: ValueWarning: No frequency information was provided, so inferred frequency H will be used.\n",
      "  % freq, ValueWarning)\n",
      "/usr/local/lib/python3.5/dist-packages/statsmodels/tsa/base/tsa_model.py:171: ValueWarning: No frequency information was provided, so inferred frequency H will be used.\n",
      "  % freq, ValueWarning)\n",
      "/usr/local/lib/python3.5/dist-packages/statsmodels/tsa/base/tsa_model.py:171: ValueWarning: No frequency information was provided, so inferred frequency H will be used.\n",
      "  % freq, ValueWarning)\n",
      "/usr/local/lib/python3.5/dist-packages/statsmodels/tsa/base/tsa_model.py:171: ValueWarning: No frequency information was provided, so inferred frequency H will be used.\n",
      "  % freq, ValueWarning)\n",
      "/usr/local/lib/python3.5/dist-packages/statsmodels/tsa/base/tsa_model.py:171: ValueWarning: No frequency information was provided, so inferred frequency H will be used.\n",
      "  % freq, ValueWarning)\n",
      "/usr/local/lib/python3.5/dist-packages/statsmodels/tsa/base/tsa_model.py:171: ValueWarning: No frequency information was provided, so inferred frequency H will be used.\n",
      "  % freq, ValueWarning)\n"
     ]
    },
    {
     "name": "stdout",
     "output_type": "stream",
     "text": [
      "V6M 2X4 model not created\n",
      "V6M 2Y5 model not created\n",
      "V6M 2Z1 model not created\n"
     ]
    },
    {
     "name": "stderr",
     "output_type": "stream",
     "text": [
      "/usr/local/lib/python3.5/dist-packages/statsmodels/tsa/base/tsa_model.py:171: ValueWarning: No frequency information was provided, so inferred frequency H will be used.\n",
      "  % freq, ValueWarning)\n",
      "/usr/local/lib/python3.5/dist-packages/statsmodels/tsa/base/tsa_model.py:171: ValueWarning: No frequency information was provided, so inferred frequency H will be used.\n",
      "  % freq, ValueWarning)\n",
      "/usr/local/lib/python3.5/dist-packages/statsmodels/tsa/base/tsa_model.py:171: ValueWarning: No frequency information was provided, so inferred frequency H will be used.\n",
      "  % freq, ValueWarning)\n",
      "/usr/local/lib/python3.5/dist-packages/statsmodels/tsa/base/tsa_model.py:171: ValueWarning: No frequency information was provided, so inferred frequency H will be used.\n",
      "  % freq, ValueWarning)\n",
      "/usr/local/lib/python3.5/dist-packages/statsmodels/tsa/base/tsa_model.py:171: ValueWarning: No frequency information was provided, so inferred frequency H will be used.\n",
      "  % freq, ValueWarning)\n",
      "/usr/local/lib/python3.5/dist-packages/statsmodels/tsa/base/tsa_model.py:171: ValueWarning: No frequency information was provided, so inferred frequency H will be used.\n",
      "  % freq, ValueWarning)\n",
      "/usr/local/lib/python3.5/dist-packages/statsmodels/tsa/base/tsa_model.py:171: ValueWarning: No frequency information was provided, so inferred frequency H will be used.\n",
      "  % freq, ValueWarning)\n",
      "/usr/local/lib/python3.5/dist-packages/statsmodels/tsa/base/tsa_model.py:171: ValueWarning: No frequency information was provided, so inferred frequency H will be used.\n",
      "  % freq, ValueWarning)\n",
      "/usr/local/lib/python3.5/dist-packages/statsmodels/tsa/base/tsa_model.py:171: ValueWarning: No frequency information was provided, so inferred frequency H will be used.\n",
      "  % freq, ValueWarning)\n",
      "/usr/local/lib/python3.5/dist-packages/statsmodels/tsa/base/tsa_model.py:171: ValueWarning: No frequency information was provided, so inferred frequency H will be used.\n",
      "  % freq, ValueWarning)\n",
      "/usr/local/lib/python3.5/dist-packages/statsmodels/tsa/base/tsa_model.py:171: ValueWarning: No frequency information was provided, so inferred frequency H will be used.\n",
      "  % freq, ValueWarning)\n",
      "/usr/local/lib/python3.5/dist-packages/statsmodels/tsa/base/tsa_model.py:171: ValueWarning: No frequency information was provided, so inferred frequency H will be used.\n",
      "  % freq, ValueWarning)\n",
      "/usr/local/lib/python3.5/dist-packages/statsmodels/tsa/base/tsa_model.py:171: ValueWarning: No frequency information was provided, so inferred frequency H will be used.\n",
      "  % freq, ValueWarning)\n"
     ]
    },
    {
     "name": "stdout",
     "output_type": "stream",
     "text": [
      "V6M 3A6 model not created\n",
      "V6M 3B2 model not created\n",
      "V6M 3B7 model not created\n",
      "V6M 3V6 model not created\n",
      "V6M 3W9 model not created\n",
      "V6M 3X6 model not created\n",
      "V6M 3Y1 model not created\n",
      "V6M 4B9 model not created\n",
      "V6M 4H1 model not created\n",
      "V6M 4J5 model not created\n"
     ]
    },
    {
     "name": "stderr",
     "output_type": "stream",
     "text": [
      "/usr/local/lib/python3.5/dist-packages/statsmodels/tsa/base/tsa_model.py:171: ValueWarning: No frequency information was provided, so inferred frequency H will be used.\n",
      "  % freq, ValueWarning)\n",
      "/usr/local/lib/python3.5/dist-packages/statsmodels/tsa/base/tsa_model.py:171: ValueWarning: No frequency information was provided, so inferred frequency H will be used.\n",
      "  % freq, ValueWarning)\n"
     ]
    },
    {
     "name": "stdout",
     "output_type": "stream",
     "text": [
      "V6M 4L4 model not created\n"
     ]
    },
    {
     "name": "stderr",
     "output_type": "stream",
     "text": [
      "/usr/local/lib/python3.5/dist-packages/statsmodels/tsa/base/tsa_model.py:171: ValueWarning: No frequency information was provided, so inferred frequency H will be used.\n",
      "  % freq, ValueWarning)\n",
      "/usr/local/lib/python3.5/dist-packages/statsmodels/tsa/base/tsa_model.py:171: ValueWarning: No frequency information was provided, so inferred frequency H will be used.\n",
      "  % freq, ValueWarning)\n",
      "/usr/local/lib/python3.5/dist-packages/statsmodels/tsa/base/tsa_model.py:171: ValueWarning: No frequency information was provided, so inferred frequency H will be used.\n",
      "  % freq, ValueWarning)\n",
      "/usr/local/lib/python3.5/dist-packages/statsmodels/tsa/base/tsa_model.py:171: ValueWarning: No frequency information was provided, so inferred frequency H will be used.\n",
      "  % freq, ValueWarning)\n"
     ]
    },
    {
     "name": "stdout",
     "output_type": "stream",
     "text": [
      "V6N 1G8 model not created\n",
      "V6N 1N3 model not created\n",
      "V6N 2B7 model not created\n"
     ]
    },
    {
     "name": "stderr",
     "output_type": "stream",
     "text": [
      "/usr/local/lib/python3.5/dist-packages/statsmodels/tsa/base/tsa_model.py:171: ValueWarning: No frequency information was provided, so inferred frequency H will be used.\n",
      "  % freq, ValueWarning)\n",
      "/usr/local/lib/python3.5/dist-packages/statsmodels/tsa/base/tsa_model.py:171: ValueWarning: No frequency information was provided, so inferred frequency H will be used.\n",
      "  % freq, ValueWarning)\n",
      "/usr/local/lib/python3.5/dist-packages/statsmodels/tsa/base/tsa_model.py:171: ValueWarning: No frequency information was provided, so inferred frequency H will be used.\n",
      "  % freq, ValueWarning)\n",
      "/usr/local/lib/python3.5/dist-packages/statsmodels/tsa/base/tsa_model.py:171: ValueWarning: No frequency information was provided, so inferred frequency H will be used.\n",
      "  % freq, ValueWarning)\n",
      "/usr/local/lib/python3.5/dist-packages/statsmodels/tsa/base/tsa_model.py:171: ValueWarning: No frequency information was provided, so inferred frequency H will be used.\n",
      "  % freq, ValueWarning)\n",
      "/usr/local/lib/python3.5/dist-packages/statsmodels/tsa/base/tsa_model.py:171: ValueWarning: No frequency information was provided, so inferred frequency H will be used.\n",
      "  % freq, ValueWarning)\n",
      "/usr/local/lib/python3.5/dist-packages/statsmodels/tsa/base/tsa_model.py:171: ValueWarning: No frequency information was provided, so inferred frequency H will be used.\n",
      "  % freq, ValueWarning)\n",
      "/usr/local/lib/python3.5/dist-packages/statsmodels/tsa/base/tsa_model.py:171: ValueWarning: No frequency information was provided, so inferred frequency H will be used.\n",
      "  % freq, ValueWarning)\n",
      "/usr/local/lib/python3.5/dist-packages/statsmodels/tsa/base/tsa_model.py:171: ValueWarning: No frequency information was provided, so inferred frequency H will be used.\n",
      "  % freq, ValueWarning)\n",
      "/usr/local/lib/python3.5/dist-packages/statsmodels/tsa/base/tsa_model.py:171: ValueWarning: No frequency information was provided, so inferred frequency H will be used.\n",
      "  % freq, ValueWarning)\n"
     ]
    },
    {
     "name": "stdout",
     "output_type": "stream",
     "text": [
      "V6N 2M9 model not created\n",
      "V6N 2N2 model not created\n",
      "V6N 2N7 model not created\n",
      "V6N 2S8 model not created\n",
      "V6N 2S9 model not created\n",
      "V6N 3E2 model not created\n",
      "V6N 3E6 model not created\n",
      "V6N 3G3 model not created\n",
      "V6N 4A5 model not created\n"
     ]
    },
    {
     "name": "stderr",
     "output_type": "stream",
     "text": [
      "/usr/local/lib/python3.5/dist-packages/statsmodels/tsa/base/tsa_model.py:171: ValueWarning: No frequency information was provided, so inferred frequency H will be used.\n",
      "  % freq, ValueWarning)\n",
      "/usr/local/lib/python3.5/dist-packages/statsmodels/tsa/base/tsa_model.py:171: ValueWarning: No frequency information was provided, so inferred frequency H will be used.\n",
      "  % freq, ValueWarning)\n"
     ]
    },
    {
     "name": "stdout",
     "output_type": "stream",
     "text": [
      "V6N 4J1 model not created\n"
     ]
    },
    {
     "name": "stderr",
     "output_type": "stream",
     "text": [
      "/usr/local/lib/python3.5/dist-packages/statsmodels/tsa/base/tsa_model.py:171: ValueWarning: No frequency information was provided, so inferred frequency H will be used.\n",
      "  % freq, ValueWarning)\n",
      "/usr/local/lib/python3.5/dist-packages/statsmodels/tsa/base/tsa_model.py:171: ValueWarning: No frequency information was provided, so inferred frequency H will be used.\n",
      "  % freq, ValueWarning)\n",
      "/usr/local/lib/python3.5/dist-packages/statsmodels/tsa/base/tsa_model.py:171: ValueWarning: No frequency information was provided, so inferred frequency H will be used.\n",
      "  % freq, ValueWarning)\n",
      "/usr/local/lib/python3.5/dist-packages/statsmodels/tsa/base/tsa_model.py:171: ValueWarning: No frequency information was provided, so inferred frequency H will be used.\n",
      "  % freq, ValueWarning)\n",
      "/usr/local/lib/python3.5/dist-packages/statsmodels/tsa/base/tsa_model.py:171: ValueWarning: No frequency information was provided, so inferred frequency H will be used.\n",
      "  % freq, ValueWarning)\n",
      "/usr/local/lib/python3.5/dist-packages/statsmodels/tsa/base/tsa_model.py:171: ValueWarning: No frequency information was provided, so inferred frequency H will be used.\n",
      "  % freq, ValueWarning)\n",
      "/usr/local/lib/python3.5/dist-packages/statsmodels/tsa/base/tsa_model.py:171: ValueWarning: No frequency information was provided, so inferred frequency H will be used.\n",
      "  % freq, ValueWarning)\n",
      "/usr/local/lib/python3.5/dist-packages/statsmodels/tsa/base/tsa_model.py:171: ValueWarning: No frequency information was provided, so inferred frequency H will be used.\n",
      "  % freq, ValueWarning)\n",
      "/usr/local/lib/python3.5/dist-packages/statsmodels/tsa/base/tsa_model.py:171: ValueWarning: No frequency information was provided, so inferred frequency H will be used.\n",
      "  % freq, ValueWarning)\n",
      "/usr/local/lib/python3.5/dist-packages/statsmodels/tsa/base/tsa_model.py:171: ValueWarning: No frequency information was provided, so inferred frequency H will be used.\n",
      "  % freq, ValueWarning)\n",
      "/usr/local/lib/python3.5/dist-packages/statsmodels/tsa/base/tsa_model.py:171: ValueWarning: No frequency information was provided, so inferred frequency H will be used.\n",
      "  % freq, ValueWarning)\n",
      "/usr/local/lib/python3.5/dist-packages/statsmodels/tsa/base/tsa_model.py:171: ValueWarning: No frequency information was provided, so inferred frequency H will be used.\n",
      "  % freq, ValueWarning)\n",
      "/usr/local/lib/python3.5/dist-packages/statsmodels/tsa/base/tsa_model.py:171: ValueWarning: No frequency information was provided, so inferred frequency H will be used.\n",
      "  % freq, ValueWarning)\n",
      "/usr/local/lib/python3.5/dist-packages/statsmodels/tsa/base/tsa_model.py:171: ValueWarning: No frequency information was provided, so inferred frequency H will be used.\n",
      "  % freq, ValueWarning)\n",
      "/usr/local/lib/python3.5/dist-packages/statsmodels/tsa/base/tsa_model.py:171: ValueWarning: No frequency information was provided, so inferred frequency H will be used.\n",
      "  % freq, ValueWarning)\n",
      "/usr/local/lib/python3.5/dist-packages/statsmodels/tsa/base/tsa_model.py:171: ValueWarning: No frequency information was provided, so inferred frequency H will be used.\n",
      "  % freq, ValueWarning)\n",
      "/usr/local/lib/python3.5/dist-packages/statsmodels/tsa/base/tsa_model.py:171: ValueWarning: No frequency information was provided, so inferred frequency H will be used.\n",
      "  % freq, ValueWarning)\n",
      "/usr/local/lib/python3.5/dist-packages/statsmodels/tsa/base/tsa_model.py:171: ValueWarning: No frequency information was provided, so inferred frequency H will be used.\n",
      "  % freq, ValueWarning)\n",
      "/usr/local/lib/python3.5/dist-packages/statsmodels/tsa/base/tsa_model.py:171: ValueWarning: No frequency information was provided, so inferred frequency H will be used.\n",
      "  % freq, ValueWarning)\n",
      "/usr/local/lib/python3.5/dist-packages/statsmodels/tsa/base/tsa_model.py:171: ValueWarning: No frequency information was provided, so inferred frequency H will be used.\n",
      "  % freq, ValueWarning)\n",
      "/usr/local/lib/python3.5/dist-packages/statsmodels/tsa/base/tsa_model.py:171: ValueWarning: No frequency information was provided, so inferred frequency H will be used.\n",
      "  % freq, ValueWarning)\n",
      "/usr/local/lib/python3.5/dist-packages/statsmodels/tsa/base/tsa_model.py:171: ValueWarning: No frequency information was provided, so inferred frequency H will be used.\n",
      "  % freq, ValueWarning)\n"
     ]
    },
    {
     "name": "stdout",
     "output_type": "stream",
     "text": [
      "V6P 1H2 model not created\n",
      "V6P 1K7 model not created\n",
      "V6P 1N3 model not created\n",
      "V6P 1S5 model not created\n",
      "V6P 1W3 model not created\n",
      "V6P 1Y1 model not created\n",
      "V6P 2M4 model not created\n",
      "V6P 2T1 model not created\n",
      "V6P 2T3 model not created\n",
      "V6P 2T5 model not created\n",
      "V6P 2X5 model not created\n",
      "V6P 2Y4 model not created\n",
      "V6P 2Y7 model not created\n",
      "V6P 2Z5 model not created\n",
      "V6P 3A9 model not created\n",
      "V6P 3B4 model not created\n",
      "V6P 3B5 model not created\n",
      "V6P 3B8 model not created\n",
      "V6P 3C6 model not created\n",
      "V6P 3C7 model not created\n",
      "V6P 3C8 model not created\n",
      "V6P 3J3 model not created\n"
     ]
    },
    {
     "name": "stderr",
     "output_type": "stream",
     "text": [
      "/usr/local/lib/python3.5/dist-packages/statsmodels/tsa/base/tsa_model.py:171: ValueWarning: No frequency information was provided, so inferred frequency H will be used.\n",
      "  % freq, ValueWarning)\n",
      "/usr/local/lib/python3.5/dist-packages/statsmodels/tsa/base/tsa_model.py:171: ValueWarning: No frequency information was provided, so inferred frequency H will be used.\n",
      "  % freq, ValueWarning)\n",
      "/usr/local/lib/python3.5/dist-packages/statsmodels/tsa/base/tsa_model.py:171: ValueWarning: No frequency information was provided, so inferred frequency H will be used.\n",
      "  % freq, ValueWarning)\n",
      "/usr/local/lib/python3.5/dist-packages/statsmodels/tsa/base/tsa_model.py:171: ValueWarning: No frequency information was provided, so inferred frequency H will be used.\n",
      "  % freq, ValueWarning)\n",
      "/usr/local/lib/python3.5/dist-packages/statsmodels/tsa/base/tsa_model.py:171: ValueWarning: No frequency information was provided, so inferred frequency H will be used.\n",
      "  % freq, ValueWarning)\n",
      "/usr/local/lib/python3.5/dist-packages/statsmodels/tsa/base/tsa_model.py:171: ValueWarning: No frequency information was provided, so inferred frequency H will be used.\n",
      "  % freq, ValueWarning)\n",
      "/usr/local/lib/python3.5/dist-packages/statsmodels/tsa/base/tsa_model.py:171: ValueWarning: No frequency information was provided, so inferred frequency H will be used.\n",
      "  % freq, ValueWarning)\n",
      "/usr/local/lib/python3.5/dist-packages/statsmodels/tsa/base/tsa_model.py:171: ValueWarning: No frequency information was provided, so inferred frequency H will be used.\n",
      "  % freq, ValueWarning)\n",
      "/usr/local/lib/python3.5/dist-packages/statsmodels/tsa/base/tsa_model.py:171: ValueWarning: No frequency information was provided, so inferred frequency H will be used.\n",
      "  % freq, ValueWarning)\n",
      "/usr/local/lib/python3.5/dist-packages/statsmodels/tsa/base/tsa_model.py:171: ValueWarning: No frequency information was provided, so inferred frequency H will be used.\n",
      "  % freq, ValueWarning)\n",
      "/usr/local/lib/python3.5/dist-packages/statsmodels/tsa/base/tsa_model.py:171: ValueWarning: No frequency information was provided, so inferred frequency H will be used.\n",
      "  % freq, ValueWarning)\n",
      "/usr/local/lib/python3.5/dist-packages/statsmodels/tsa/base/tsa_model.py:171: ValueWarning: No frequency information was provided, so inferred frequency H will be used.\n",
      "  % freq, ValueWarning)\n",
      "/usr/local/lib/python3.5/dist-packages/statsmodels/tsa/base/tsa_model.py:171: ValueWarning: No frequency information was provided, so inferred frequency H will be used.\n",
      "  % freq, ValueWarning)\n",
      "/usr/local/lib/python3.5/dist-packages/statsmodels/tsa/base/tsa_model.py:171: ValueWarning: No frequency information was provided, so inferred frequency H will be used.\n",
      "  % freq, ValueWarning)\n",
      "/usr/local/lib/python3.5/dist-packages/statsmodels/tsa/base/tsa_model.py:171: ValueWarning: No frequency information was provided, so inferred frequency H will be used.\n",
      "  % freq, ValueWarning)\n",
      "/usr/local/lib/python3.5/dist-packages/statsmodels/tsa/base/tsa_model.py:171: ValueWarning: No frequency information was provided, so inferred frequency H will be used.\n",
      "  % freq, ValueWarning)\n",
      "/usr/local/lib/python3.5/dist-packages/statsmodels/tsa/base/tsa_model.py:171: ValueWarning: No frequency information was provided, so inferred frequency H will be used.\n",
      "  % freq, ValueWarning)\n",
      "/usr/local/lib/python3.5/dist-packages/statsmodels/tsa/base/tsa_model.py:171: ValueWarning: No frequency information was provided, so inferred frequency H will be used.\n",
      "  % freq, ValueWarning)\n",
      "/usr/local/lib/python3.5/dist-packages/statsmodels/tsa/base/tsa_model.py:171: ValueWarning: No frequency information was provided, so inferred frequency H will be used.\n",
      "  % freq, ValueWarning)\n",
      "/usr/local/lib/python3.5/dist-packages/statsmodels/tsa/base/tsa_model.py:171: ValueWarning: No frequency information was provided, so inferred frequency H will be used.\n",
      "  % freq, ValueWarning)\n",
      "/usr/local/lib/python3.5/dist-packages/statsmodels/tsa/base/tsa_model.py:171: ValueWarning: No frequency information was provided, so inferred frequency H will be used.\n",
      "  % freq, ValueWarning)\n",
      "/usr/local/lib/python3.5/dist-packages/statsmodels/tsa/base/tsa_model.py:171: ValueWarning: No frequency information was provided, so inferred frequency H will be used.\n",
      "  % freq, ValueWarning)\n"
     ]
    },
    {
     "name": "stdout",
     "output_type": "stream",
     "text": [
      "V6P 3X9 model not created\n",
      "V6P 3Z2 model not created\n",
      "V6P 4J3 model not created\n",
      "V6P 4L9 model not created\n",
      "V6P 4M2 model not created\n",
      "V6P 4M6 model not created\n",
      "V6P 4P2 model not created\n",
      "V6P 4P7 model not created\n",
      "V6P 4P8 model not created\n",
      "V6P 4R5 model not created\n",
      "V6P 4V2 model not created\n",
      "V6P 4W4 model not created\n",
      "V6P 4Y3 model not created\n",
      "V6P 4Y6 model not created\n",
      "V6P 4Y7 model not created\n",
      "V6P 4Z9 model not created\n",
      "V6P 5A4 model not created\n",
      "V6P 6H2 model not created\n",
      "V6P 6V2 model not created\n"
     ]
    },
    {
     "name": "stderr",
     "output_type": "stream",
     "text": [
      "/usr/local/lib/python3.5/dist-packages/statsmodels/tsa/base/tsa_model.py:171: ValueWarning: No frequency information was provided, so inferred frequency H will be used.\n",
      "  % freq, ValueWarning)\n",
      "/usr/local/lib/python3.5/dist-packages/statsmodels/tsa/base/tsa_model.py:171: ValueWarning: No frequency information was provided, so inferred frequency H will be used.\n",
      "  % freq, ValueWarning)\n",
      "/usr/local/lib/python3.5/dist-packages/statsmodels/tsa/base/tsa_model.py:171: ValueWarning: No frequency information was provided, so inferred frequency H will be used.\n",
      "  % freq, ValueWarning)\n",
      "/usr/local/lib/python3.5/dist-packages/statsmodels/tsa/base/tsa_model.py:171: ValueWarning: No frequency information was provided, so inferred frequency H will be used.\n",
      "  % freq, ValueWarning)\n"
     ]
    },
    {
     "name": "stdout",
     "output_type": "stream",
     "text": [
      "V6R 0C7 model not created\n",
      "V6R 1B8 model not created\n"
     ]
    },
    {
     "name": "stderr",
     "output_type": "stream",
     "text": [
      "/usr/local/lib/python3.5/dist-packages/statsmodels/tsa/base/tsa_model.py:171: ValueWarning: No frequency information was provided, so inferred frequency H will be used.\n",
      "  % freq, ValueWarning)\n",
      "/usr/local/lib/python3.5/dist-packages/statsmodels/tsa/base/tsa_model.py:171: ValueWarning: No frequency information was provided, so inferred frequency H will be used.\n",
      "  % freq, ValueWarning)\n",
      "/usr/local/lib/python3.5/dist-packages/statsmodels/tsa/base/tsa_model.py:171: ValueWarning: No frequency information was provided, so inferred frequency H will be used.\n",
      "  % freq, ValueWarning)\n",
      "/usr/local/lib/python3.5/dist-packages/statsmodels/tsa/base/tsa_model.py:171: ValueWarning: No frequency information was provided, so inferred frequency H will be used.\n",
      "  % freq, ValueWarning)\n",
      "/usr/local/lib/python3.5/dist-packages/statsmodels/tsa/base/tsa_model.py:171: ValueWarning: No frequency information was provided, so inferred frequency H will be used.\n",
      "  % freq, ValueWarning)\n"
     ]
    },
    {
     "name": "stdout",
     "output_type": "stream",
     "text": [
      "V6R 1G9 model not created\n",
      "V6R 1K4 model not created\n",
      "V6R 1L6 model not created\n",
      "V6R 1S6 model not created\n"
     ]
    },
    {
     "name": "stderr",
     "output_type": "stream",
     "text": [
      "/usr/local/lib/python3.5/dist-packages/statsmodels/tsa/base/tsa_model.py:171: ValueWarning: No frequency information was provided, so inferred frequency H will be used.\n",
      "  % freq, ValueWarning)\n",
      "/usr/local/lib/python3.5/dist-packages/statsmodels/tsa/base/tsa_model.py:171: ValueWarning: No frequency information was provided, so inferred frequency H will be used.\n",
      "  % freq, ValueWarning)\n",
      "/usr/local/lib/python3.5/dist-packages/statsmodels/tsa/base/tsa_model.py:171: ValueWarning: No frequency information was provided, so inferred frequency H will be used.\n",
      "  % freq, ValueWarning)\n",
      "/usr/local/lib/python3.5/dist-packages/statsmodels/tsa/base/tsa_model.py:171: ValueWarning: No frequency information was provided, so inferred frequency H will be used.\n",
      "  % freq, ValueWarning)\n",
      "/usr/local/lib/python3.5/dist-packages/statsmodels/tsa/base/tsa_model.py:171: ValueWarning: No frequency information was provided, so inferred frequency H will be used.\n",
      "  % freq, ValueWarning)\n",
      "/usr/local/lib/python3.5/dist-packages/statsmodels/tsa/base/tsa_model.py:171: ValueWarning: No frequency information was provided, so inferred frequency H will be used.\n",
      "  % freq, ValueWarning)\n",
      "/usr/local/lib/python3.5/dist-packages/statsmodels/tsa/base/tsa_model.py:171: ValueWarning: No frequency information was provided, so inferred frequency H will be used.\n",
      "  % freq, ValueWarning)\n",
      "/usr/local/lib/python3.5/dist-packages/statsmodels/tsa/base/tsa_model.py:171: ValueWarning: No frequency information was provided, so inferred frequency H will be used.\n",
      "  % freq, ValueWarning)\n",
      "/usr/local/lib/python3.5/dist-packages/statsmodels/tsa/base/tsa_model.py:171: ValueWarning: No frequency information was provided, so inferred frequency H will be used.\n",
      "  % freq, ValueWarning)\n"
     ]
    },
    {
     "name": "stdout",
     "output_type": "stream",
     "text": [
      "V6R 1Y8 model not created\n",
      "V6R 2B3 model not created\n",
      "V6R 2C3 model not created\n",
      "V6R 2J1 model not created\n",
      "V6R 2J5 model not created\n",
      "V6R 2L7 model not created\n",
      "V6R 2M4 model not created\n",
      "V6R 2N9 model not created\n"
     ]
    },
    {
     "name": "stderr",
     "output_type": "stream",
     "text": [
      "/usr/local/lib/python3.5/dist-packages/statsmodels/base/model.py:508: ConvergenceWarning: Maximum Likelihood optimization failed to converge. Check mle_retvals\n",
      "  \"Check mle_retvals\", ConvergenceWarning)\n",
      "/usr/local/lib/python3.5/dist-packages/statsmodels/tsa/base/tsa_model.py:171: ValueWarning: No frequency information was provided, so inferred frequency H will be used.\n",
      "  % freq, ValueWarning)\n",
      "/usr/local/lib/python3.5/dist-packages/statsmodels/tsa/base/tsa_model.py:171: ValueWarning: No frequency information was provided, so inferred frequency H will be used.\n",
      "  % freq, ValueWarning)\n",
      "/usr/local/lib/python3.5/dist-packages/statsmodels/tsa/base/tsa_model.py:171: ValueWarning: No frequency information was provided, so inferred frequency H will be used.\n",
      "  % freq, ValueWarning)\n",
      "/usr/local/lib/python3.5/dist-packages/statsmodels/tsa/base/tsa_model.py:171: ValueWarning: No frequency information was provided, so inferred frequency H will be used.\n",
      "  % freq, ValueWarning)\n",
      "/usr/local/lib/python3.5/dist-packages/statsmodels/tsa/base/tsa_model.py:171: ValueWarning: No frequency information was provided, so inferred frequency H will be used.\n",
      "  % freq, ValueWarning)\n",
      "/usr/local/lib/python3.5/dist-packages/statsmodels/tsa/base/tsa_model.py:171: ValueWarning: No frequency information was provided, so inferred frequency H will be used.\n",
      "  % freq, ValueWarning)\n",
      "/usr/local/lib/python3.5/dist-packages/statsmodels/tsa/base/tsa_model.py:171: ValueWarning: No frequency information was provided, so inferred frequency H will be used.\n",
      "  % freq, ValueWarning)\n",
      "/usr/local/lib/python3.5/dist-packages/statsmodels/tsa/base/tsa_model.py:171: ValueWarning: No frequency information was provided, so inferred frequency H will be used.\n",
      "  % freq, ValueWarning)\n",
      "/usr/local/lib/python3.5/dist-packages/statsmodels/tsa/base/tsa_model.py:171: ValueWarning: No frequency information was provided, so inferred frequency H will be used.\n",
      "  % freq, ValueWarning)\n",
      "/usr/local/lib/python3.5/dist-packages/statsmodels/tsa/base/tsa_model.py:171: ValueWarning: No frequency information was provided, so inferred frequency H will be used.\n",
      "  % freq, ValueWarning)\n"
     ]
    },
    {
     "name": "stdout",
     "output_type": "stream",
     "text": [
      "V6R 2W4 model not created\n",
      "V6R 2X4 model not created\n",
      "V6R 2Z9 model not created\n",
      "V6R 3B8 model not created\n",
      "V6R 3C5 model not created\n",
      "V6R 3G5 model not created\n",
      "V6R 3H8 model not created\n",
      "V6R 3R6 model not created\n",
      "V6R 3S2 model not created\n"
     ]
    },
    {
     "name": "stderr",
     "output_type": "stream",
     "text": [
      "/usr/local/lib/python3.5/dist-packages/statsmodels/tsa/base/tsa_model.py:171: ValueWarning: No frequency information was provided, so inferred frequency H will be used.\n",
      "  % freq, ValueWarning)\n",
      "/usr/local/lib/python3.5/dist-packages/statsmodels/tsa/base/tsa_model.py:171: ValueWarning: No frequency information was provided, so inferred frequency H will be used.\n",
      "  % freq, ValueWarning)\n",
      "/usr/local/lib/python3.5/dist-packages/statsmodels/tsa/base/tsa_model.py:171: ValueWarning: No frequency information was provided, so inferred frequency H will be used.\n",
      "  % freq, ValueWarning)\n"
     ]
    },
    {
     "name": "stdout",
     "output_type": "stream",
     "text": [
      "V6R 3S8 model not created\n",
      "V6R 3T5 model not created\n"
     ]
    },
    {
     "name": "stderr",
     "output_type": "stream",
     "text": [
      "/usr/local/lib/python3.5/dist-packages/statsmodels/base/model.py:508: ConvergenceWarning: Maximum Likelihood optimization failed to converge. Check mle_retvals\n",
      "  \"Check mle_retvals\", ConvergenceWarning)\n",
      "/usr/local/lib/python3.5/dist-packages/statsmodels/tsa/base/tsa_model.py:171: ValueWarning: No frequency information was provided, so inferred frequency H will be used.\n",
      "  % freq, ValueWarning)\n"
     ]
    },
    {
     "name": "stdout",
     "output_type": "stream",
     "text": [
      "V6R 3X4 model not created\n",
      "V6R 3Z8 model not created\n",
      "V6R 4G3 model not created\n",
      "V6R 4J2 model not created\n"
     ]
    },
    {
     "name": "stderr",
     "output_type": "stream",
     "text": [
      "/usr/local/lib/python3.5/dist-packages/statsmodels/tsa/base/tsa_model.py:171: ValueWarning: No frequency information was provided, so inferred frequency H will be used.\n",
      "  % freq, ValueWarning)\n",
      "/usr/local/lib/python3.5/dist-packages/statsmodels/tsa/base/tsa_model.py:171: ValueWarning: No frequency information was provided, so inferred frequency H will be used.\n",
      "  % freq, ValueWarning)\n",
      "/usr/local/lib/python3.5/dist-packages/statsmodels/tsa/base/tsa_model.py:171: ValueWarning: No frequency information was provided, so inferred frequency H will be used.\n",
      "  % freq, ValueWarning)\n",
      "/usr/local/lib/python3.5/dist-packages/statsmodels/tsa/base/tsa_model.py:171: ValueWarning: No frequency information was provided, so inferred frequency H will be used.\n",
      "  % freq, ValueWarning)\n",
      "/usr/local/lib/python3.5/dist-packages/statsmodels/tsa/base/tsa_model.py:171: ValueWarning: No frequency information was provided, so inferred frequency H will be used.\n",
      "  % freq, ValueWarning)\n",
      "/usr/local/lib/python3.5/dist-packages/statsmodels/tsa/base/tsa_model.py:171: ValueWarning: No frequency information was provided, so inferred frequency H will be used.\n",
      "  % freq, ValueWarning)\n"
     ]
    },
    {
     "name": "stdout",
     "output_type": "stream",
     "text": [
      "V6R 4R9 model not created\n"
     ]
    },
    {
     "name": "stderr",
     "output_type": "stream",
     "text": [
      "/usr/local/lib/python3.5/dist-packages/statsmodels/tsa/base/tsa_model.py:171: ValueWarning: No frequency information was provided, so inferred frequency H will be used.\n",
      "  % freq, ValueWarning)\n",
      "/usr/local/lib/python3.5/dist-packages/statsmodels/tsa/base/tsa_model.py:171: ValueWarning: No frequency information was provided, so inferred frequency H will be used.\n",
      "  % freq, ValueWarning)\n",
      "/usr/local/lib/python3.5/dist-packages/statsmodels/tsa/base/tsa_model.py:171: ValueWarning: No frequency information was provided, so inferred frequency H will be used.\n",
      "  % freq, ValueWarning)\n",
      "/usr/local/lib/python3.5/dist-packages/statsmodels/tsa/base/tsa_model.py:171: ValueWarning: No frequency information was provided, so inferred frequency H will be used.\n",
      "  % freq, ValueWarning)\n",
      "/usr/local/lib/python3.5/dist-packages/statsmodels/tsa/base/tsa_model.py:171: ValueWarning: No frequency information was provided, so inferred frequency H will be used.\n",
      "  % freq, ValueWarning)\n",
      "/usr/local/lib/python3.5/dist-packages/statsmodels/tsa/base/tsa_model.py:171: ValueWarning: No frequency information was provided, so inferred frequency H will be used.\n",
      "  % freq, ValueWarning)\n",
      "/usr/local/lib/python3.5/dist-packages/statsmodels/tsa/base/tsa_model.py:171: ValueWarning: No frequency information was provided, so inferred frequency H will be used.\n",
      "  % freq, ValueWarning)\n"
     ]
    },
    {
     "name": "stdout",
     "output_type": "stream",
     "text": [
      "V6S 0A9 model not created\n",
      "V6S 0B0 model not created\n",
      "V6S 0B1 model not created\n",
      "V6S 0B3 model not created\n",
      "V6S 0B4 model not created\n"
     ]
    },
    {
     "name": "stderr",
     "output_type": "stream",
     "text": [
      "/usr/local/lib/python3.5/dist-packages/statsmodels/tsa/base/tsa_model.py:171: ValueWarning: No frequency information was provided, so inferred frequency H will be used.\n",
      "  % freq, ValueWarning)\n",
      "/usr/local/lib/python3.5/dist-packages/statsmodels/tsa/base/tsa_model.py:171: ValueWarning: No frequency information was provided, so inferred frequency H will be used.\n",
      "  % freq, ValueWarning)\n",
      "/usr/local/lib/python3.5/dist-packages/statsmodels/tsa/base/tsa_model.py:171: ValueWarning: No frequency information was provided, so inferred frequency H will be used.\n",
      "  % freq, ValueWarning)\n",
      "/usr/local/lib/python3.5/dist-packages/statsmodels/tsa/base/tsa_model.py:171: ValueWarning: No frequency information was provided, so inferred frequency H will be used.\n",
      "  % freq, ValueWarning)\n",
      "/usr/local/lib/python3.5/dist-packages/statsmodels/tsa/base/tsa_model.py:171: ValueWarning: No frequency information was provided, so inferred frequency H will be used.\n",
      "  % freq, ValueWarning)\n",
      "/usr/local/lib/python3.5/dist-packages/statsmodels/tsa/base/tsa_model.py:171: ValueWarning: No frequency information was provided, so inferred frequency H will be used.\n",
      "  % freq, ValueWarning)\n",
      "/usr/local/lib/python3.5/dist-packages/statsmodels/tsa/base/tsa_model.py:171: ValueWarning: No frequency information was provided, so inferred frequency H will be used.\n",
      "  % freq, ValueWarning)\n",
      "/usr/local/lib/python3.5/dist-packages/statsmodels/tsa/base/tsa_model.py:171: ValueWarning: No frequency information was provided, so inferred frequency H will be used.\n",
      "  % freq, ValueWarning)\n",
      "/usr/local/lib/python3.5/dist-packages/statsmodels/tsa/base/tsa_model.py:171: ValueWarning: No frequency information was provided, so inferred frequency H will be used.\n",
      "  % freq, ValueWarning)\n",
      "/usr/local/lib/python3.5/dist-packages/statsmodels/tsa/base/tsa_model.py:171: ValueWarning: No frequency information was provided, so inferred frequency H will be used.\n",
      "  % freq, ValueWarning)\n",
      "/usr/local/lib/python3.5/dist-packages/statsmodels/tsa/base/tsa_model.py:171: ValueWarning: No frequency information was provided, so inferred frequency H will be used.\n",
      "  % freq, ValueWarning)\n",
      "/usr/local/lib/python3.5/dist-packages/statsmodels/tsa/base/tsa_model.py:171: ValueWarning: No frequency information was provided, so inferred frequency H will be used.\n",
      "  % freq, ValueWarning)\n",
      "/usr/local/lib/python3.5/dist-packages/statsmodels/tsa/base/tsa_model.py:171: ValueWarning: No frequency information was provided, so inferred frequency H will be used.\n",
      "  % freq, ValueWarning)\n",
      "/usr/local/lib/python3.5/dist-packages/statsmodels/tsa/base/tsa_model.py:171: ValueWarning: No frequency information was provided, so inferred frequency H will be used.\n",
      "  % freq, ValueWarning)\n",
      "/usr/local/lib/python3.5/dist-packages/statsmodels/tsa/base/tsa_model.py:171: ValueWarning: No frequency information was provided, so inferred frequency H will be used.\n",
      "  % freq, ValueWarning)\n",
      "/usr/local/lib/python3.5/dist-packages/statsmodels/tsa/base/tsa_model.py:171: ValueWarning: No frequency information was provided, so inferred frequency H will be used.\n",
      "  % freq, ValueWarning)\n",
      "/usr/local/lib/python3.5/dist-packages/statsmodels/tsa/base/tsa_model.py:171: ValueWarning: No frequency information was provided, so inferred frequency H will be used.\n",
      "  % freq, ValueWarning)\n",
      "/usr/local/lib/python3.5/dist-packages/statsmodels/tsa/base/tsa_model.py:171: ValueWarning: No frequency information was provided, so inferred frequency H will be used.\n",
      "  % freq, ValueWarning)\n",
      "/usr/local/lib/python3.5/dist-packages/statsmodels/tsa/base/tsa_model.py:171: ValueWarning: No frequency information was provided, so inferred frequency H will be used.\n",
      "  % freq, ValueWarning)\n",
      "/usr/local/lib/python3.5/dist-packages/statsmodels/tsa/base/tsa_model.py:171: ValueWarning: No frequency information was provided, so inferred frequency H will be used.\n",
      "  % freq, ValueWarning)\n",
      "/usr/local/lib/python3.5/dist-packages/statsmodels/tsa/base/tsa_model.py:171: ValueWarning: No frequency information was provided, so inferred frequency H will be used.\n",
      "  % freq, ValueWarning)\n",
      "/usr/local/lib/python3.5/dist-packages/statsmodels/tsa/base/tsa_model.py:171: ValueWarning: No frequency information was provided, so inferred frequency H will be used.\n",
      "  % freq, ValueWarning)\n"
     ]
    },
    {
     "name": "stdout",
     "output_type": "stream",
     "text": [
      "V6S 0B6 model not created\n",
      "V6S 0B7 model not created\n",
      "V6S 0E3 model not created\n",
      "V6S 1A1 model not created\n",
      "V6S 1B7 model not created\n",
      "V6S 1C2 model not created\n",
      "V6S 1G5 model not created\n",
      "V6S 1H3 model not created\n",
      "V6S 1H6 model not created\n",
      "V6S 1J7 model not created\n",
      "V6S 1K1 model not created\n",
      "V6S 1K7 model not created\n",
      "V6S 1L2 model not created\n",
      "V6S 1L3 model not created\n",
      "V6S 1L4 model not created\n",
      "V6S 1L8 model not created\n",
      "V6S 1M5 model not created\n",
      "V6S 1P4 model not created\n",
      "V6S 1V5 model not created\n",
      "V6S 1X3 model not created\n",
      "V6S 1Z2 model not created\n",
      "V6S 1Z3 model not created\n",
      "V6S 2C1 model not created\n"
     ]
    },
    {
     "name": "stderr",
     "output_type": "stream",
     "text": [
      "/usr/local/lib/python3.5/dist-packages/statsmodels/tsa/base/tsa_model.py:171: ValueWarning: No frequency information was provided, so inferred frequency H will be used.\n",
      "  % freq, ValueWarning)\n",
      "/usr/local/lib/python3.5/dist-packages/statsmodels/tsa/base/tsa_model.py:171: ValueWarning: No frequency information was provided, so inferred frequency H will be used.\n",
      "  % freq, ValueWarning)\n",
      "/usr/local/lib/python3.5/dist-packages/statsmodels/tsa/base/tsa_model.py:171: ValueWarning: No frequency information was provided, so inferred frequency H will be used.\n",
      "  % freq, ValueWarning)\n",
      "/usr/local/lib/python3.5/dist-packages/statsmodels/tsa/base/tsa_model.py:171: ValueWarning: No frequency information was provided, so inferred frequency H will be used.\n",
      "  % freq, ValueWarning)\n",
      "/usr/local/lib/python3.5/dist-packages/statsmodels/tsa/base/tsa_model.py:171: ValueWarning: No frequency information was provided, so inferred frequency H will be used.\n",
      "  % freq, ValueWarning)\n",
      "/usr/local/lib/python3.5/dist-packages/statsmodels/tsa/base/tsa_model.py:171: ValueWarning: No frequency information was provided, so inferred frequency H will be used.\n",
      "  % freq, ValueWarning)\n",
      "/usr/local/lib/python3.5/dist-packages/statsmodels/tsa/base/tsa_model.py:171: ValueWarning: No frequency information was provided, so inferred frequency H will be used.\n",
      "  % freq, ValueWarning)\n"
     ]
    },
    {
     "name": "stdout",
     "output_type": "stream",
     "text": [
      "V6S 2C4 model not created\n",
      "V6S 2C5 model not created\n",
      "V6S 2C7 model not created\n",
      "V6S 2C8 model not created\n",
      "V6S 2C9 model not created\n"
     ]
    },
    {
     "name": "stderr",
     "output_type": "stream",
     "text": [
      "/usr/local/lib/python3.5/dist-packages/statsmodels/tsa/base/tsa_model.py:171: ValueWarning: No frequency information was provided, so inferred frequency H will be used.\n",
      "  % freq, ValueWarning)\n",
      "/usr/local/lib/python3.5/dist-packages/statsmodels/tsa/base/tsa_model.py:171: ValueWarning: No frequency information was provided, so inferred frequency H will be used.\n",
      "  % freq, ValueWarning)\n",
      "/usr/local/lib/python3.5/dist-packages/statsmodels/tsa/base/tsa_model.py:171: ValueWarning: No frequency information was provided, so inferred frequency H will be used.\n",
      "  % freq, ValueWarning)\n",
      "/usr/local/lib/python3.5/dist-packages/statsmodels/tsa/base/tsa_model.py:171: ValueWarning: No frequency information was provided, so inferred frequency H will be used.\n",
      "  % freq, ValueWarning)\n",
      "/usr/local/lib/python3.5/dist-packages/statsmodels/tsa/base/tsa_model.py:171: ValueWarning: No frequency information was provided, so inferred frequency H will be used.\n",
      "  % freq, ValueWarning)\n"
     ]
    },
    {
     "name": "stdout",
     "output_type": "stream",
     "text": [
      "V6S 2E3 model not created\n",
      "V6S 2L2 model not created\n",
      "V6S 2L9 model not created\n",
      "V6S 2M9 model not created\n"
     ]
    },
    {
     "name": "stderr",
     "output_type": "stream",
     "text": [
      "/usr/local/lib/python3.5/dist-packages/statsmodels/tsa/base/tsa_model.py:171: ValueWarning: No frequency information was provided, so inferred frequency H will be used.\n",
      "  % freq, ValueWarning)\n",
      "/usr/local/lib/python3.5/dist-packages/statsmodels/tsa/base/tsa_model.py:171: ValueWarning: No frequency information was provided, so inferred frequency H will be used.\n",
      "  % freq, ValueWarning)\n",
      "/usr/local/lib/python3.5/dist-packages/statsmodels/tsa/base/tsa_model.py:171: ValueWarning: No frequency information was provided, so inferred frequency H will be used.\n",
      "  % freq, ValueWarning)\n",
      "/usr/local/lib/python3.5/dist-packages/statsmodels/tsa/base/tsa_model.py:171: ValueWarning: No frequency information was provided, so inferred frequency H will be used.\n",
      "  % freq, ValueWarning)\n",
      "/usr/local/lib/python3.5/dist-packages/statsmodels/tsa/base/tsa_model.py:171: ValueWarning: No frequency information was provided, so inferred frequency H will be used.\n",
      "  % freq, ValueWarning)\n",
      "/usr/local/lib/python3.5/dist-packages/statsmodels/tsa/base/tsa_model.py:171: ValueWarning: No frequency information was provided, so inferred frequency H will be used.\n",
      "  % freq, ValueWarning)\n",
      "/usr/local/lib/python3.5/dist-packages/statsmodels/tsa/base/tsa_model.py:171: ValueWarning: No frequency information was provided, so inferred frequency H will be used.\n",
      "  % freq, ValueWarning)\n",
      "/usr/local/lib/python3.5/dist-packages/statsmodels/tsa/base/tsa_model.py:171: ValueWarning: No frequency information was provided, so inferred frequency H will be used.\n",
      "  % freq, ValueWarning)\n",
      "/usr/local/lib/python3.5/dist-packages/statsmodels/tsa/base/tsa_model.py:171: ValueWarning: No frequency information was provided, so inferred frequency H will be used.\n",
      "  % freq, ValueWarning)\n",
      "/usr/local/lib/python3.5/dist-packages/statsmodels/tsa/base/tsa_model.py:171: ValueWarning: No frequency information was provided, so inferred frequency H will be used.\n",
      "  % freq, ValueWarning)\n",
      "/usr/local/lib/python3.5/dist-packages/statsmodels/tsa/base/tsa_model.py:171: ValueWarning: No frequency information was provided, so inferred frequency H will be used.\n",
      "  % freq, ValueWarning)\n",
      "/usr/local/lib/python3.5/dist-packages/statsmodels/tsa/base/tsa_model.py:171: ValueWarning: No frequency information was provided, so inferred frequency H will be used.\n",
      "  % freq, ValueWarning)\n",
      "/usr/local/lib/python3.5/dist-packages/statsmodels/tsa/base/tsa_model.py:171: ValueWarning: No frequency information was provided, so inferred frequency H will be used.\n",
      "  % freq, ValueWarning)\n",
      "/usr/local/lib/python3.5/dist-packages/statsmodels/tsa/base/tsa_model.py:171: ValueWarning: No frequency information was provided, so inferred frequency H will be used.\n",
      "  % freq, ValueWarning)\n",
      "/usr/local/lib/python3.5/dist-packages/statsmodels/tsa/base/tsa_model.py:171: ValueWarning: No frequency information was provided, so inferred frequency H will be used.\n",
      "  % freq, ValueWarning)\n",
      "/usr/local/lib/python3.5/dist-packages/statsmodels/tsa/base/tsa_model.py:171: ValueWarning: No frequency information was provided, so inferred frequency H will be used.\n",
      "  % freq, ValueWarning)\n",
      "/usr/local/lib/python3.5/dist-packages/statsmodels/tsa/base/tsa_model.py:171: ValueWarning: No frequency information was provided, so inferred frequency H will be used.\n",
      "  % freq, ValueWarning)\n",
      "/usr/local/lib/python3.5/dist-packages/statsmodels/tsa/base/tsa_model.py:171: ValueWarning: No frequency information was provided, so inferred frequency H will be used.\n",
      "  % freq, ValueWarning)\n",
      "/usr/local/lib/python3.5/dist-packages/statsmodels/tsa/base/tsa_model.py:171: ValueWarning: No frequency information was provided, so inferred frequency H will be used.\n",
      "  % freq, ValueWarning)\n"
     ]
    },
    {
     "name": "stdout",
     "output_type": "stream",
     "text": [
      "V6T 1J6 model not created\n",
      "V6T 1K2 model not created\n",
      "V6T 1L4 model not created\n",
      "V6T 1Z2 model not created\n",
      "V6T 1Z4 model not created\n",
      "V6T 2B5 model not created\n",
      "V6T 2B7 model not created\n",
      "V6T 2B9 model not created\n",
      "V6T 2E7 model not created\n",
      "V6T 2G5 model not created\n",
      "V6T 2G8 model not created\n",
      "V6T 2H2 model not created\n",
      "V6T 2H3 model not created\n",
      "V6T 2J4 model not created\n",
      "V6T 2J8 model not created\n",
      "V6T 2L2 model not created\n",
      "V6T 2L6 model not created\n"
     ]
    },
    {
     "name": "stderr",
     "output_type": "stream",
     "text": [
      "/usr/local/lib/python3.5/dist-packages/statsmodels/tsa/base/tsa_model.py:171: ValueWarning: No frequency information was provided, so inferred frequency H will be used.\n",
      "  % freq, ValueWarning)\n",
      "/usr/local/lib/python3.5/dist-packages/statsmodels/tsa/base/tsa_model.py:171: ValueWarning: No frequency information was provided, so inferred frequency H will be used.\n",
      "  % freq, ValueWarning)\n"
     ]
    },
    {
     "name": "stdout",
     "output_type": "stream",
     "text": [
      "V6Z 1A8 model not created\n"
     ]
    },
    {
     "name": "stderr",
     "output_type": "stream",
     "text": [
      "/usr/local/lib/python3.5/dist-packages/statsmodels/tsa/base/tsa_model.py:171: ValueWarning: No frequency information was provided, so inferred frequency H will be used.\n",
      "  % freq, ValueWarning)\n",
      "/usr/local/lib/python3.5/dist-packages/statsmodels/base/model.py:508: ConvergenceWarning: Maximum Likelihood optimization failed to converge. Check mle_retvals\n",
      "  \"Check mle_retvals\", ConvergenceWarning)\n",
      "/usr/local/lib/python3.5/dist-packages/statsmodels/tsa/base/tsa_model.py:171: ValueWarning: No frequency information was provided, so inferred frequency H will be used.\n",
      "  % freq, ValueWarning)\n"
     ]
    },
    {
     "name": "stdout",
     "output_type": "stream",
     "text": [
      "V6Z 1W2 model not created\n"
     ]
    },
    {
     "name": "stderr",
     "output_type": "stream",
     "text": [
      "/usr/local/lib/python3.5/dist-packages/statsmodels/tsa/base/tsa_model.py:171: ValueWarning: No frequency information was provided, so inferred frequency H will be used.\n",
      "  % freq, ValueWarning)\n",
      "/usr/local/lib/python3.5/dist-packages/statsmodels/tsa/base/tsa_model.py:171: ValueWarning: No frequency information was provided, so inferred frequency H will be used.\n",
      "  % freq, ValueWarning)\n",
      "/usr/local/lib/python3.5/dist-packages/statsmodels/tsa/base/tsa_model.py:171: ValueWarning: No frequency information was provided, so inferred frequency H will be used.\n",
      "  % freq, ValueWarning)\n"
     ]
    },
    {
     "name": "stdout",
     "output_type": "stream",
     "text": [
      "V6Z 1X9 model not created\n"
     ]
    },
    {
     "name": "stderr",
     "output_type": "stream",
     "text": [
      "/usr/local/lib/python3.5/dist-packages/statsmodels/tsa/base/tsa_model.py:171: ValueWarning: No frequency information was provided, so inferred frequency H will be used.\n",
      "  % freq, ValueWarning)\n",
      "/usr/local/lib/python3.5/dist-packages/statsmodels/tsa/base/tsa_model.py:171: ValueWarning: No frequency information was provided, so inferred frequency H will be used.\n",
      "  % freq, ValueWarning)\n",
      "/usr/local/lib/python3.5/dist-packages/statsmodels/tsa/base/tsa_model.py:171: ValueWarning: No frequency information was provided, so inferred frequency H will be used.\n",
      "  % freq, ValueWarning)\n",
      "/usr/local/lib/python3.5/dist-packages/statsmodels/tsa/base/tsa_model.py:171: ValueWarning: No frequency information was provided, so inferred frequency H will be used.\n",
      "  % freq, ValueWarning)\n",
      "/usr/local/lib/python3.5/dist-packages/statsmodels/base/model.py:508: ConvergenceWarning: Maximum Likelihood optimization failed to converge. Check mle_retvals\n",
      "  \"Check mle_retvals\", ConvergenceWarning)\n",
      "/usr/local/lib/python3.5/dist-packages/statsmodels/tsa/base/tsa_model.py:171: ValueWarning: No frequency information was provided, so inferred frequency H will be used.\n",
      "  % freq, ValueWarning)\n",
      "/usr/local/lib/python3.5/dist-packages/statsmodels/tsa/base/tsa_model.py:171: ValueWarning: No frequency information was provided, so inferred frequency H will be used.\n",
      "  % freq, ValueWarning)\n",
      "/usr/local/lib/python3.5/dist-packages/statsmodels/tsa/base/tsa_model.py:171: ValueWarning: No frequency information was provided, so inferred frequency H will be used.\n",
      "  % freq, ValueWarning)\n",
      "/usr/local/lib/python3.5/dist-packages/statsmodels/tsa/base/tsa_model.py:171: ValueWarning: No frequency information was provided, so inferred frequency H will be used.\n",
      "  % freq, ValueWarning)\n",
      "/usr/local/lib/python3.5/dist-packages/statsmodels/tsa/base/tsa_model.py:171: ValueWarning: No frequency information was provided, so inferred frequency H will be used.\n",
      "  % freq, ValueWarning)\n"
     ]
    },
    {
     "name": "stdout",
     "output_type": "stream",
     "text": [
      "V6Z 2R9 model not created\n"
     ]
    },
    {
     "name": "stderr",
     "output_type": "stream",
     "text": [
      "/usr/local/lib/python3.5/dist-packages/statsmodels/tsa/base/tsa_model.py:171: ValueWarning: No frequency information was provided, so inferred frequency H will be used.\n",
      "  % freq, ValueWarning)\n",
      "/usr/local/lib/python3.5/dist-packages/statsmodels/tsa/base/tsa_model.py:171: ValueWarning: No frequency information was provided, so inferred frequency H will be used.\n",
      "  % freq, ValueWarning)\n",
      "/usr/local/lib/python3.5/dist-packages/statsmodels/tsa/base/tsa_model.py:171: ValueWarning: No frequency information was provided, so inferred frequency H will be used.\n",
      "  % freq, ValueWarning)\n",
      "/usr/local/lib/python3.5/dist-packages/statsmodels/tsa/base/tsa_model.py:171: ValueWarning: No frequency information was provided, so inferred frequency H will be used.\n",
      "  % freq, ValueWarning)\n"
     ]
    },
    {
     "name": "stdout",
     "output_type": "stream",
     "text": [
      "V6Z 2Y3 model not created\n"
     ]
    },
    {
     "name": "stderr",
     "output_type": "stream",
     "text": [
      "/usr/local/lib/python3.5/dist-packages/statsmodels/tsa/base/tsa_model.py:171: ValueWarning: No frequency information was provided, so inferred frequency H will be used.\n",
      "  % freq, ValueWarning)\n",
      "/usr/local/lib/python3.5/dist-packages/statsmodels/tsa/base/tsa_model.py:171: ValueWarning: No frequency information was provided, so inferred frequency H will be used.\n",
      "  % freq, ValueWarning)\n"
     ]
    },
    {
     "name": "stdout",
     "output_type": "stream",
     "text": [
      "V6Z 2Z4 model not created\n"
     ]
    },
    {
     "name": "stderr",
     "output_type": "stream",
     "text": [
      "/usr/local/lib/python3.5/dist-packages/statsmodels/tsa/base/tsa_model.py:171: ValueWarning: No frequency information was provided, so inferred frequency H will be used.\n",
      "  % freq, ValueWarning)\n",
      "/usr/local/lib/python3.5/dist-packages/statsmodels/tsa/base/tsa_model.py:171: ValueWarning: No frequency information was provided, so inferred frequency H will be used.\n",
      "  % freq, ValueWarning)\n"
     ]
    },
    {
     "name": "stdout",
     "output_type": "stream",
     "text": [
      "V6Z 3B7 model not created\n"
     ]
    },
    {
     "name": "stderr",
     "output_type": "stream",
     "text": [
      "/usr/local/lib/python3.5/dist-packages/statsmodels/tsa/base/tsa_model.py:171: ValueWarning: No frequency information was provided, so inferred frequency H will be used.\n",
      "  % freq, ValueWarning)\n",
      "/usr/local/lib/python3.5/dist-packages/statsmodels/tsa/base/tsa_model.py:171: ValueWarning: No frequency information was provided, so inferred frequency H will be used.\n",
      "  % freq, ValueWarning)\n"
     ]
    },
    {
     "name": "stdout",
     "output_type": "stream",
     "text": [
      "V7B model not created\n"
     ]
    },
    {
     "name": "stderr",
     "output_type": "stream",
     "text": [
      "/usr/local/lib/python3.5/dist-packages/statsmodels/tsa/base/tsa_model.py:171: ValueWarning: No frequency information was provided, so inferred frequency H will be used.\n",
      "  % freq, ValueWarning)\n",
      "/usr/local/lib/python3.5/dist-packages/statsmodels/tsa/base/tsa_model.py:171: ValueWarning: No frequency information was provided, so inferred frequency H will be used.\n",
      "  % freq, ValueWarning)\n"
     ]
    },
    {
     "name": "stdout",
     "output_type": "stream",
     "text": [
      "V7B 1B3 model not created\n"
     ]
    },
    {
     "name": "stderr",
     "output_type": "stream",
     "text": [
      "/usr/local/lib/python3.5/dist-packages/statsmodels/tsa/base/tsa_model.py:171: ValueWarning: No frequency information was provided, so inferred frequency H will be used.\n",
      "  % freq, ValueWarning)\n",
      "/usr/local/lib/python3.5/dist-packages/statsmodels/tsa/base/tsa_model.py:171: ValueWarning: No frequency information was provided, so inferred frequency H will be used.\n",
      "  % freq, ValueWarning)\n"
     ]
    },
    {
     "name": "stdout",
     "output_type": "stream",
     "text": [
      "V7H 0A2 model not created\n"
     ]
    },
    {
     "name": "stderr",
     "output_type": "stream",
     "text": [
      "/usr/local/lib/python3.5/dist-packages/statsmodels/tsa/base/tsa_model.py:171: ValueWarning: No frequency information was provided, so inferred frequency H will be used.\n",
      "  % freq, ValueWarning)\n",
      "/usr/local/lib/python3.5/dist-packages/statsmodels/tsa/base/tsa_model.py:171: ValueWarning: No frequency information was provided, so inferred frequency H will be used.\n",
      "  % freq, ValueWarning)\n",
      "/usr/local/lib/python3.5/dist-packages/statsmodels/tsa/base/tsa_model.py:171: ValueWarning: No frequency information was provided, so inferred frequency H will be used.\n",
      "  % freq, ValueWarning)\n",
      "/usr/local/lib/python3.5/dist-packages/statsmodels/tsa/base/tsa_model.py:171: ValueWarning: No frequency information was provided, so inferred frequency H will be used.\n",
      "  % freq, ValueWarning)\n"
     ]
    },
    {
     "name": "stdout",
     "output_type": "stream",
     "text": [
      "V7H 1B1 model not created\n",
      "V7H 2M5 model not created\n",
      "V7H 2Y1 model not created\n"
     ]
    },
    {
     "name": "stderr",
     "output_type": "stream",
     "text": [
      "/usr/local/lib/python3.5/dist-packages/statsmodels/tsa/base/tsa_model.py:171: ValueWarning: No frequency information was provided, so inferred frequency H will be used.\n",
      "  % freq, ValueWarning)\n",
      "/usr/local/lib/python3.5/dist-packages/statsmodels/tsa/base/tsa_model.py:171: ValueWarning: No frequency information was provided, so inferred frequency H will be used.\n",
      "  % freq, ValueWarning)\n",
      "/usr/local/lib/python3.5/dist-packages/statsmodels/tsa/base/tsa_model.py:171: ValueWarning: No frequency information was provided, so inferred frequency H will be used.\n",
      "  % freq, ValueWarning)\n",
      "/usr/local/lib/python3.5/dist-packages/statsmodels/tsa/base/tsa_model.py:171: ValueWarning: No frequency information was provided, so inferred frequency H will be used.\n",
      "  % freq, ValueWarning)\n"
     ]
    },
    {
     "name": "stdout",
     "output_type": "stream",
     "text": [
      "V7J 1C4 model not created\n",
      "V7J 1G1 model not created\n",
      "V7J 1G4 model not created\n"
     ]
    },
    {
     "name": "stderr",
     "output_type": "stream",
     "text": [
      "/usr/local/lib/python3.5/dist-packages/statsmodels/base/model.py:508: ConvergenceWarning: Maximum Likelihood optimization failed to converge. Check mle_retvals\n",
      "  \"Check mle_retvals\", ConvergenceWarning)\n",
      "/usr/local/lib/python3.5/dist-packages/statsmodels/tsa/base/tsa_model.py:171: ValueWarning: No frequency information was provided, so inferred frequency H will be used.\n",
      "  % freq, ValueWarning)\n",
      "/usr/local/lib/python3.5/dist-packages/statsmodels/tsa/base/tsa_model.py:171: ValueWarning: No frequency information was provided, so inferred frequency H will be used.\n",
      "  % freq, ValueWarning)\n",
      "/usr/local/lib/python3.5/dist-packages/statsmodels/tsa/base/tsa_model.py:171: ValueWarning: No frequency information was provided, so inferred frequency H will be used.\n",
      "  % freq, ValueWarning)\n",
      "/usr/local/lib/python3.5/dist-packages/statsmodels/tsa/base/tsa_model.py:171: ValueWarning: No frequency information was provided, so inferred frequency H will be used.\n",
      "  % freq, ValueWarning)\n",
      "/usr/local/lib/python3.5/dist-packages/statsmodels/tsa/base/tsa_model.py:171: ValueWarning: No frequency information was provided, so inferred frequency H will be used.\n",
      "  % freq, ValueWarning)\n",
      "/usr/local/lib/python3.5/dist-packages/statsmodels/tsa/base/tsa_model.py:171: ValueWarning: No frequency information was provided, so inferred frequency H will be used.\n",
      "  % freq, ValueWarning)\n",
      "/usr/local/lib/python3.5/dist-packages/statsmodels/tsa/base/tsa_model.py:171: ValueWarning: No frequency information was provided, so inferred frequency H will be used.\n",
      "  % freq, ValueWarning)\n"
     ]
    },
    {
     "name": "stdout",
     "output_type": "stream",
     "text": [
      "V7J 1H3 model not created\n",
      "V7J 1J3 model not created\n",
      "V7J 2C1 model not created\n",
      "V7J 2C2 model not created\n",
      "V7J 2H4 model not created\n",
      "V7J 2H8 model not created\n"
     ]
    },
    {
     "name": "stderr",
     "output_type": "stream",
     "text": [
      "/usr/local/lib/python3.5/dist-packages/statsmodels/tsa/base/tsa_model.py:171: ValueWarning: No frequency information was provided, so inferred frequency H will be used.\n",
      "  % freq, ValueWarning)\n",
      "/usr/local/lib/python3.5/dist-packages/statsmodels/tsa/base/tsa_model.py:171: ValueWarning: No frequency information was provided, so inferred frequency H will be used.\n",
      "  % freq, ValueWarning)\n",
      "/usr/local/lib/python3.5/dist-packages/statsmodels/tsa/base/tsa_model.py:171: ValueWarning: No frequency information was provided, so inferred frequency H will be used.\n",
      "  % freq, ValueWarning)\n"
     ]
    },
    {
     "name": "stdout",
     "output_type": "stream",
     "text": [
      "V7J 3H4 model not created\n",
      "V7J 3V8 model not created\n"
     ]
    },
    {
     "name": "stderr",
     "output_type": "stream",
     "text": [
      "/usr/local/lib/python3.5/dist-packages/statsmodels/tsa/base/tsa_model.py:171: ValueWarning: No frequency information was provided, so inferred frequency H will be used.\n",
      "  % freq, ValueWarning)\n",
      "/usr/local/lib/python3.5/dist-packages/statsmodels/tsa/base/tsa_model.py:171: ValueWarning: No frequency information was provided, so inferred frequency H will be used.\n",
      "  % freq, ValueWarning)\n"
     ]
    },
    {
     "name": "stdout",
     "output_type": "stream",
     "text": [
      "V7L 0B2 model not created\n"
     ]
    },
    {
     "name": "stderr",
     "output_type": "stream",
     "text": [
      "/usr/local/lib/python3.5/dist-packages/statsmodels/tsa/base/tsa_model.py:171: ValueWarning: No frequency information was provided, so inferred frequency H will be used.\n",
      "  % freq, ValueWarning)\n",
      "/usr/local/lib/python3.5/dist-packages/statsmodels/tsa/base/tsa_model.py:171: ValueWarning: No frequency information was provided, so inferred frequency H will be used.\n",
      "  % freq, ValueWarning)\n"
     ]
    },
    {
     "name": "stdout",
     "output_type": "stream",
     "text": [
      "V7L 1A9 model not created\n"
     ]
    },
    {
     "name": "stderr",
     "output_type": "stream",
     "text": [
      "/usr/local/lib/python3.5/dist-packages/statsmodels/tsa/base/tsa_model.py:171: ValueWarning: No frequency information was provided, so inferred frequency H will be used.\n",
      "  % freq, ValueWarning)\n",
      "/usr/local/lib/python3.5/dist-packages/statsmodels/tsa/base/tsa_model.py:171: ValueWarning: No frequency information was provided, so inferred frequency H will be used.\n",
      "  % freq, ValueWarning)\n",
      "/usr/local/lib/python3.5/dist-packages/statsmodels/tsa/base/tsa_model.py:171: ValueWarning: No frequency information was provided, so inferred frequency H will be used.\n",
      "  % freq, ValueWarning)\n",
      "/usr/local/lib/python3.5/dist-packages/statsmodels/tsa/base/tsa_model.py:171: ValueWarning: No frequency information was provided, so inferred frequency H will be used.\n",
      "  % freq, ValueWarning)\n",
      "/usr/local/lib/python3.5/dist-packages/statsmodels/tsa/base/tsa_model.py:171: ValueWarning: No frequency information was provided, so inferred frequency H will be used.\n",
      "  % freq, ValueWarning)\n"
     ]
    },
    {
     "name": "stdout",
     "output_type": "stream",
     "text": [
      "V7L 1N1 model not created\n",
      "V7L 1N4 model not created\n",
      "V7L 1P1 model not created\n",
      "V7L 1Y9 model not created\n"
     ]
    },
    {
     "name": "stderr",
     "output_type": "stream",
     "text": [
      "/usr/local/lib/python3.5/dist-packages/statsmodels/tsa/base/tsa_model.py:171: ValueWarning: No frequency information was provided, so inferred frequency H will be used.\n",
      "  % freq, ValueWarning)\n",
      "/usr/local/lib/python3.5/dist-packages/statsmodels/tsa/base/tsa_model.py:171: ValueWarning: No frequency information was provided, so inferred frequency H will be used.\n",
      "  % freq, ValueWarning)\n"
     ]
    },
    {
     "name": "stdout",
     "output_type": "stream",
     "text": [
      "V7L 2C9 model not created\n"
     ]
    },
    {
     "name": "stderr",
     "output_type": "stream",
     "text": [
      "/usr/local/lib/python3.5/dist-packages/statsmodels/tsa/base/tsa_model.py:171: ValueWarning: No frequency information was provided, so inferred frequency H will be used.\n",
      "  % freq, ValueWarning)\n",
      "/usr/local/lib/python3.5/dist-packages/statsmodels/tsa/base/tsa_model.py:171: ValueWarning: No frequency information was provided, so inferred frequency H will be used.\n",
      "  % freq, ValueWarning)\n",
      "/usr/local/lib/python3.5/dist-packages/statsmodels/tsa/base/tsa_model.py:171: ValueWarning: No frequency information was provided, so inferred frequency H will be used.\n",
      "  % freq, ValueWarning)\n",
      "/usr/local/lib/python3.5/dist-packages/statsmodels/tsa/base/tsa_model.py:171: ValueWarning: No frequency information was provided, so inferred frequency H will be used.\n",
      "  % freq, ValueWarning)\n"
     ]
    },
    {
     "name": "stdout",
     "output_type": "stream",
     "text": [
      "V7L 2L6 model not created\n",
      "V7L 2L8 model not created\n",
      "V7L 2N3 model not created\n"
     ]
    },
    {
     "name": "stderr",
     "output_type": "stream",
     "text": [
      "/usr/local/lib/python3.5/dist-packages/statsmodels/tsa/base/tsa_model.py:171: ValueWarning: No frequency information was provided, so inferred frequency H will be used.\n",
      "  % freq, ValueWarning)\n",
      "/usr/local/lib/python3.5/dist-packages/statsmodels/tsa/base/tsa_model.py:171: ValueWarning: No frequency information was provided, so inferred frequency H will be used.\n",
      "  % freq, ValueWarning)\n",
      "/usr/local/lib/python3.5/dist-packages/statsmodels/tsa/base/tsa_model.py:171: ValueWarning: No frequency information was provided, so inferred frequency H will be used.\n",
      "  % freq, ValueWarning)\n",
      "/usr/local/lib/python3.5/dist-packages/statsmodels/tsa/base/tsa_model.py:171: ValueWarning: No frequency information was provided, so inferred frequency H will be used.\n",
      "  % freq, ValueWarning)\n",
      "/usr/local/lib/python3.5/dist-packages/statsmodels/tsa/base/tsa_model.py:171: ValueWarning: No frequency information was provided, so inferred frequency H will be used.\n",
      "  % freq, ValueWarning)\n",
      "/usr/local/lib/python3.5/dist-packages/statsmodels/tsa/base/tsa_model.py:171: ValueWarning: No frequency information was provided, so inferred frequency H will be used.\n",
      "  % freq, ValueWarning)\n",
      "/usr/local/lib/python3.5/dist-packages/statsmodels/tsa/base/tsa_model.py:171: ValueWarning: No frequency information was provided, so inferred frequency H will be used.\n",
      "  % freq, ValueWarning)\n"
     ]
    },
    {
     "name": "stdout",
     "output_type": "stream",
     "text": [
      "V7L 2V9 model not created\n",
      "V7L 3H3 model not created\n",
      "V7L 3H7 model not created\n",
      "V7L 3L3 model not created\n",
      "V7L 3N4 model not created\n",
      "V7L 3N5 model not created\n"
     ]
    },
    {
     "name": "stderr",
     "output_type": "stream",
     "text": [
      "/usr/local/lib/python3.5/dist-packages/statsmodels/tsa/base/tsa_model.py:171: ValueWarning: No frequency information was provided, so inferred frequency H will be used.\n",
      "  % freq, ValueWarning)\n",
      "/usr/local/lib/python3.5/dist-packages/statsmodels/tsa/base/tsa_model.py:171: ValueWarning: No frequency information was provided, so inferred frequency H will be used.\n",
      "  % freq, ValueWarning)\n",
      "/usr/local/lib/python3.5/dist-packages/statsmodels/tsa/base/tsa_model.py:171: ValueWarning: No frequency information was provided, so inferred frequency H will be used.\n",
      "  % freq, ValueWarning)\n",
      "/usr/local/lib/python3.5/dist-packages/statsmodels/tsa/base/tsa_model.py:171: ValueWarning: No frequency information was provided, so inferred frequency H will be used.\n",
      "  % freq, ValueWarning)\n",
      "/usr/local/lib/python3.5/dist-packages/statsmodels/tsa/base/tsa_model.py:171: ValueWarning: No frequency information was provided, so inferred frequency H will be used.\n",
      "  % freq, ValueWarning)\n",
      "/usr/local/lib/python3.5/dist-packages/statsmodels/tsa/base/tsa_model.py:171: ValueWarning: No frequency information was provided, so inferred frequency H will be used.\n",
      "  % freq, ValueWarning)\n",
      "/usr/local/lib/python3.5/dist-packages/statsmodels/tsa/base/tsa_model.py:171: ValueWarning: No frequency information was provided, so inferred frequency H will be used.\n",
      "  % freq, ValueWarning)\n",
      "/usr/local/lib/python3.5/dist-packages/statsmodels/tsa/base/tsa_model.py:171: ValueWarning: No frequency information was provided, so inferred frequency H will be used.\n",
      "  % freq, ValueWarning)\n",
      "/usr/local/lib/python3.5/dist-packages/statsmodels/tsa/base/tsa_model.py:171: ValueWarning: No frequency information was provided, so inferred frequency H will be used.\n",
      "  % freq, ValueWarning)\n",
      "/usr/local/lib/python3.5/dist-packages/statsmodels/tsa/base/tsa_model.py:171: ValueWarning: No frequency information was provided, so inferred frequency H will be used.\n",
      "  % freq, ValueWarning)\n"
     ]
    },
    {
     "name": "stdout",
     "output_type": "stream",
     "text": [
      "V7L 4G8 model not created\n",
      "V7L 4M3 model not created\n",
      "V7L 4T1 model not created\n",
      "V7L 4V1 model not created\n",
      "V7L 4W1 model not created\n",
      "V7L 4X7 model not created\n",
      "V7L 4X9 model not created\n",
      "V7M model not created\n",
      "V7M 1A7 model not created\n"
     ]
    },
    {
     "name": "stderr",
     "output_type": "stream",
     "text": [
      "/usr/local/lib/python3.5/dist-packages/statsmodels/tsa/base/tsa_model.py:171: ValueWarning: No frequency information was provided, so inferred frequency H will be used.\n",
      "  % freq, ValueWarning)\n",
      "/usr/local/lib/python3.5/dist-packages/statsmodels/tsa/base/tsa_model.py:171: ValueWarning: No frequency information was provided, so inferred frequency H will be used.\n",
      "  % freq, ValueWarning)\n",
      "/usr/local/lib/python3.5/dist-packages/statsmodels/tsa/base/tsa_model.py:171: ValueWarning: No frequency information was provided, so inferred frequency H will be used.\n",
      "  % freq, ValueWarning)\n",
      "/usr/local/lib/python3.5/dist-packages/statsmodels/tsa/base/tsa_model.py:171: ValueWarning: No frequency information was provided, so inferred frequency H will be used.\n",
      "  % freq, ValueWarning)\n",
      "/usr/local/lib/python3.5/dist-packages/statsmodels/tsa/base/tsa_model.py:171: ValueWarning: No frequency information was provided, so inferred frequency H will be used.\n",
      "  % freq, ValueWarning)\n",
      "/usr/local/lib/python3.5/dist-packages/statsmodels/tsa/base/tsa_model.py:171: ValueWarning: No frequency information was provided, so inferred frequency H will be used.\n",
      "  % freq, ValueWarning)\n",
      "/usr/local/lib/python3.5/dist-packages/statsmodels/tsa/base/tsa_model.py:171: ValueWarning: No frequency information was provided, so inferred frequency H will be used.\n",
      "  % freq, ValueWarning)\n",
      "/usr/local/lib/python3.5/dist-packages/statsmodels/tsa/base/tsa_model.py:171: ValueWarning: No frequency information was provided, so inferred frequency H will be used.\n",
      "  % freq, ValueWarning)\n"
     ]
    },
    {
     "name": "stdout",
     "output_type": "stream",
     "text": [
      "V7M 1B4 model not created\n",
      "V7M 1B5 model not created\n",
      "V7M 1C8 model not created\n",
      "V7M 1E6 model not created\n",
      "V7M 1G1 model not created\n",
      "V7M 1G2 model not created\n",
      "V7M 1G4 model not created\n"
     ]
    },
    {
     "name": "stderr",
     "output_type": "stream",
     "text": [
      "/usr/local/lib/python3.5/dist-packages/statsmodels/tsa/base/tsa_model.py:171: ValueWarning: No frequency information was provided, so inferred frequency H will be used.\n",
      "  % freq, ValueWarning)\n",
      "/usr/local/lib/python3.5/dist-packages/statsmodels/tsa/base/tsa_model.py:171: ValueWarning: No frequency information was provided, so inferred frequency H will be used.\n",
      "  % freq, ValueWarning)\n",
      "/usr/local/lib/python3.5/dist-packages/statsmodels/tsa/base/tsa_model.py:171: ValueWarning: No frequency information was provided, so inferred frequency H will be used.\n",
      "  % freq, ValueWarning)\n",
      "/usr/local/lib/python3.5/dist-packages/statsmodels/tsa/base/tsa_model.py:171: ValueWarning: No frequency information was provided, so inferred frequency H will be used.\n",
      "  % freq, ValueWarning)\n",
      "/usr/local/lib/python3.5/dist-packages/statsmodels/tsa/base/tsa_model.py:171: ValueWarning: No frequency information was provided, so inferred frequency H will be used.\n",
      "  % freq, ValueWarning)\n",
      "/usr/local/lib/python3.5/dist-packages/statsmodels/tsa/base/tsa_model.py:171: ValueWarning: No frequency information was provided, so inferred frequency H will be used.\n",
      "  % freq, ValueWarning)\n",
      "/usr/local/lib/python3.5/dist-packages/statsmodels/tsa/base/tsa_model.py:171: ValueWarning: No frequency information was provided, so inferred frequency H will be used.\n",
      "  % freq, ValueWarning)\n",
      "/usr/local/lib/python3.5/dist-packages/statsmodels/tsa/base/tsa_model.py:171: ValueWarning: No frequency information was provided, so inferred frequency H will be used.\n",
      "  % freq, ValueWarning)\n",
      "/usr/local/lib/python3.5/dist-packages/statsmodels/tsa/base/tsa_model.py:171: ValueWarning: No frequency information was provided, so inferred frequency H will be used.\n",
      "  % freq, ValueWarning)\n",
      "/usr/local/lib/python3.5/dist-packages/statsmodels/tsa/base/tsa_model.py:171: ValueWarning: No frequency information was provided, so inferred frequency H will be used.\n",
      "  % freq, ValueWarning)\n"
     ]
    },
    {
     "name": "stdout",
     "output_type": "stream",
     "text": [
      "V7M 1K8 model not created\n",
      "V7M 1L1 model not created\n",
      "V7M 1M5 model not created\n",
      "V7M 1W1 model not created\n",
      "V7M 2A7 model not created\n",
      "V7M 2C2 model not created\n",
      "V7M 2E2 model not created\n",
      "V7M 2E9 model not created\n",
      "V7M 2G1 model not created\n"
     ]
    },
    {
     "name": "stderr",
     "output_type": "stream",
     "text": [
      "/usr/local/lib/python3.5/dist-packages/statsmodels/tsa/base/tsa_model.py:171: ValueWarning: No frequency information was provided, so inferred frequency H will be used.\n",
      "  % freq, ValueWarning)\n",
      "/usr/local/lib/python3.5/dist-packages/statsmodels/tsa/base/tsa_model.py:171: ValueWarning: No frequency information was provided, so inferred frequency H will be used.\n",
      "  % freq, ValueWarning)\n"
     ]
    },
    {
     "name": "stdout",
     "output_type": "stream",
     "text": [
      "V7M 2H6 model not created\n"
     ]
    },
    {
     "name": "stderr",
     "output_type": "stream",
     "text": [
      "/usr/local/lib/python3.5/dist-packages/statsmodels/tsa/base/tsa_model.py:171: ValueWarning: No frequency information was provided, so inferred frequency H will be used.\n",
      "  % freq, ValueWarning)\n",
      "/usr/local/lib/python3.5/dist-packages/statsmodels/tsa/base/tsa_model.py:171: ValueWarning: No frequency information was provided, so inferred frequency H will be used.\n",
      "  % freq, ValueWarning)\n",
      "/usr/local/lib/python3.5/dist-packages/statsmodels/tsa/base/tsa_model.py:171: ValueWarning: No frequency information was provided, so inferred frequency H will be used.\n",
      "  % freq, ValueWarning)\n",
      "/usr/local/lib/python3.5/dist-packages/statsmodels/tsa/base/tsa_model.py:171: ValueWarning: No frequency information was provided, so inferred frequency H will be used.\n",
      "  % freq, ValueWarning)\n",
      "/usr/local/lib/python3.5/dist-packages/statsmodels/tsa/base/tsa_model.py:171: ValueWarning: No frequency information was provided, so inferred frequency H will be used.\n",
      "  % freq, ValueWarning)\n",
      "/usr/local/lib/python3.5/dist-packages/statsmodels/tsa/base/tsa_model.py:171: ValueWarning: No frequency information was provided, so inferred frequency H will be used.\n",
      "  % freq, ValueWarning)\n",
      "/usr/local/lib/python3.5/dist-packages/statsmodels/tsa/base/tsa_model.py:171: ValueWarning: No frequency information was provided, so inferred frequency H will be used.\n",
      "  % freq, ValueWarning)\n",
      "/usr/local/lib/python3.5/dist-packages/statsmodels/tsa/base/tsa_model.py:171: ValueWarning: No frequency information was provided, so inferred frequency H will be used.\n",
      "  % freq, ValueWarning)\n",
      "/usr/local/lib/python3.5/dist-packages/statsmodels/tsa/base/tsa_model.py:171: ValueWarning: No frequency information was provided, so inferred frequency H will be used.\n",
      "  % freq, ValueWarning)\n",
      "/usr/local/lib/python3.5/dist-packages/statsmodels/tsa/base/tsa_model.py:171: ValueWarning: No frequency information was provided, so inferred frequency H will be used.\n",
      "  % freq, ValueWarning)\n"
     ]
    },
    {
     "name": "stdout",
     "output_type": "stream",
     "text": [
      "V7M 2L9 model not created\n",
      "V7M 2R6 model not created\n",
      "V7M 2V8 model not created\n",
      "V7M 2V9 model not created\n",
      "V7M 2W1 model not created\n",
      "V7M 2W3 model not created\n",
      "V7M 2W5 model not created\n",
      "V7M 2X8 model not created\n"
     ]
    },
    {
     "name": "stderr",
     "output_type": "stream",
     "text": [
      "/usr/local/lib/python3.5/dist-packages/statsmodels/base/model.py:508: ConvergenceWarning: Maximum Likelihood optimization failed to converge. Check mle_retvals\n",
      "  \"Check mle_retvals\", ConvergenceWarning)\n",
      "/usr/local/lib/python3.5/dist-packages/statsmodels/tsa/base/tsa_model.py:171: ValueWarning: No frequency information was provided, so inferred frequency H will be used.\n",
      "  % freq, ValueWarning)\n",
      "/usr/local/lib/python3.5/dist-packages/statsmodels/tsa/base/tsa_model.py:171: ValueWarning: No frequency information was provided, so inferred frequency H will be used.\n",
      "  % freq, ValueWarning)\n",
      "/usr/local/lib/python3.5/dist-packages/statsmodels/tsa/base/tsa_model.py:171: ValueWarning: No frequency information was provided, so inferred frequency H will be used.\n",
      "  % freq, ValueWarning)\n",
      "/usr/local/lib/python3.5/dist-packages/statsmodels/tsa/base/tsa_model.py:171: ValueWarning: No frequency information was provided, so inferred frequency H will be used.\n",
      "  % freq, ValueWarning)\n",
      "/usr/local/lib/python3.5/dist-packages/statsmodels/tsa/base/tsa_model.py:171: ValueWarning: No frequency information was provided, so inferred frequency H will be used.\n",
      "  % freq, ValueWarning)\n",
      "/usr/local/lib/python3.5/dist-packages/statsmodels/tsa/base/tsa_model.py:171: ValueWarning: No frequency information was provided, so inferred frequency H will be used.\n",
      "  % freq, ValueWarning)\n",
      "/usr/local/lib/python3.5/dist-packages/statsmodels/tsa/base/tsa_model.py:171: ValueWarning: No frequency information was provided, so inferred frequency H will be used.\n",
      "  % freq, ValueWarning)\n",
      "/usr/local/lib/python3.5/dist-packages/statsmodels/tsa/base/tsa_model.py:171: ValueWarning: No frequency information was provided, so inferred frequency H will be used.\n",
      "  % freq, ValueWarning)\n",
      "/usr/local/lib/python3.5/dist-packages/statsmodels/tsa/base/tsa_model.py:171: ValueWarning: No frequency information was provided, so inferred frequency H will be used.\n",
      "  % freq, ValueWarning)\n",
      "/usr/local/lib/python3.5/dist-packages/statsmodels/tsa/base/tsa_model.py:171: ValueWarning: No frequency information was provided, so inferred frequency H will be used.\n",
      "  % freq, ValueWarning)\n"
     ]
    },
    {
     "name": "stdout",
     "output_type": "stream",
     "text": [
      "V7M 2Z4 model not created\n",
      "V7M 3A9 model not created\n",
      "V7M 3B2 model not created\n",
      "V7M 3B3 model not created\n",
      "V7M 3E5 model not created\n",
      "V7M 3E6 model not created\n",
      "V7M 3H3 model not created\n",
      "V7M 3H8 model not created\n",
      "V7M 3K1 model not created\n"
     ]
    },
    {
     "name": "stderr",
     "output_type": "stream",
     "text": [
      "/usr/local/lib/python3.5/dist-packages/statsmodels/tsa/base/tsa_model.py:171: ValueWarning: No frequency information was provided, so inferred frequency H will be used.\n",
      "  % freq, ValueWarning)\n",
      "/usr/local/lib/python3.5/dist-packages/statsmodels/tsa/base/tsa_model.py:171: ValueWarning: No frequency information was provided, so inferred frequency H will be used.\n",
      "  % freq, ValueWarning)\n",
      "/usr/local/lib/python3.5/dist-packages/statsmodels/tsa/base/tsa_model.py:171: ValueWarning: No frequency information was provided, so inferred frequency H will be used.\n",
      "  % freq, ValueWarning)\n",
      "/usr/local/lib/python3.5/dist-packages/statsmodels/tsa/base/tsa_model.py:171: ValueWarning: No frequency information was provided, so inferred frequency H will be used.\n",
      "  % freq, ValueWarning)\n"
     ]
    },
    {
     "name": "stdout",
     "output_type": "stream",
     "text": [
      "V7M 3K6 model not created\n",
      "V7M 3L5 model not created\n",
      "V7M 3M2 model not created\n"
     ]
    },
    {
     "name": "stderr",
     "output_type": "stream",
     "text": [
      "/usr/local/lib/python3.5/dist-packages/statsmodels/tsa/base/tsa_model.py:171: ValueWarning: No frequency information was provided, so inferred frequency H will be used.\n",
      "  % freq, ValueWarning)\n",
      "/usr/local/lib/python3.5/dist-packages/statsmodels/tsa/base/tsa_model.py:171: ValueWarning: No frequency information was provided, so inferred frequency H will be used.\n",
      "  % freq, ValueWarning)\n",
      "/usr/local/lib/python3.5/dist-packages/statsmodels/tsa/base/tsa_model.py:171: ValueWarning: No frequency information was provided, so inferred frequency H will be used.\n",
      "  % freq, ValueWarning)\n",
      "/usr/local/lib/python3.5/dist-packages/statsmodels/tsa/base/tsa_model.py:171: ValueWarning: No frequency information was provided, so inferred frequency H will be used.\n",
      "  % freq, ValueWarning)\n",
      "/usr/local/lib/python3.5/dist-packages/statsmodels/tsa/base/tsa_model.py:171: ValueWarning: No frequency information was provided, so inferred frequency H will be used.\n",
      "  % freq, ValueWarning)\n"
     ]
    },
    {
     "name": "stdout",
     "output_type": "stream",
     "text": [
      "V7P 1E4 model not created\n",
      "V7P 1R9 model not created\n"
     ]
    },
    {
     "name": "stderr",
     "output_type": "stream",
     "text": [
      "/usr/local/lib/python3.5/dist-packages/statsmodels/tsa/base/tsa_model.py:171: ValueWarning: No frequency information was provided, so inferred frequency H will be used.\n",
      "  % freq, ValueWarning)\n",
      "/usr/local/lib/python3.5/dist-packages/statsmodels/tsa/base/tsa_model.py:171: ValueWarning: No frequency information was provided, so inferred frequency H will be used.\n",
      "  % freq, ValueWarning)\n",
      "/usr/local/lib/python3.5/dist-packages/statsmodels/tsa/base/tsa_model.py:171: ValueWarning: No frequency information was provided, so inferred frequency H will be used.\n",
      "  % freq, ValueWarning)\n",
      "/usr/local/lib/python3.5/dist-packages/statsmodels/tsa/base/tsa_model.py:171: ValueWarning: No frequency information was provided, so inferred frequency H will be used.\n",
      "  % freq, ValueWarning)\n",
      "/usr/local/lib/python3.5/dist-packages/statsmodels/tsa/base/tsa_model.py:171: ValueWarning: No frequency information was provided, so inferred frequency H will be used.\n",
      "  % freq, ValueWarning)\n",
      "/usr/local/lib/python3.5/dist-packages/statsmodels/tsa/base/tsa_model.py:171: ValueWarning: No frequency information was provided, so inferred frequency H will be used.\n",
      "  % freq, ValueWarning)\n",
      "/usr/local/lib/python3.5/dist-packages/statsmodels/tsa/base/tsa_model.py:171: ValueWarning: No frequency information was provided, so inferred frequency H will be used.\n",
      "  % freq, ValueWarning)\n",
      "/usr/local/lib/python3.5/dist-packages/statsmodels/tsa/base/tsa_model.py:171: ValueWarning: No frequency information was provided, so inferred frequency H will be used.\n",
      "  % freq, ValueWarning)\n",
      "/usr/local/lib/python3.5/dist-packages/statsmodels/tsa/base/tsa_model.py:171: ValueWarning: No frequency information was provided, so inferred frequency H will be used.\n",
      "  % freq, ValueWarning)\n",
      "/usr/local/lib/python3.5/dist-packages/statsmodels/tsa/base/tsa_model.py:171: ValueWarning: No frequency information was provided, so inferred frequency H will be used.\n",
      "  % freq, ValueWarning)\n",
      "/usr/local/lib/python3.5/dist-packages/statsmodels/tsa/base/tsa_model.py:171: ValueWarning: No frequency information was provided, so inferred frequency H will be used.\n",
      "  % freq, ValueWarning)\n"
     ]
    },
    {
     "name": "stdout",
     "output_type": "stream",
     "text": [
      "V7P 1S3 model not created\n",
      "V7P 1V9 model not created\n",
      "V7P 2B4 model not created\n",
      "V7P 2K3 model not created\n",
      "V7P 2L2 model not created\n",
      "V7P 3J4 model not created\n",
      "V7P 3K7 model not created\n",
      "V7P 3P9 model not created\n",
      "V7P 3S1 model not created\n",
      "V7R 4K9 model not created\n"
     ]
    },
    {
     "name": "stderr",
     "output_type": "stream",
     "text": [
      "/usr/local/lib/python3.5/dist-packages/statsmodels/tsa/base/tsa_model.py:171: ValueWarning: No frequency information was provided, so inferred frequency H will be used.\n",
      "  % freq, ValueWarning)\n",
      "/usr/local/lib/python3.5/dist-packages/statsmodels/tsa/base/tsa_model.py:171: ValueWarning: No frequency information was provided, so inferred frequency H will be used.\n",
      "  % freq, ValueWarning)\n"
     ]
    },
    {
     "name": "stdout",
     "output_type": "stream",
     "text": [
      "V7R 4N4 model not created\n"
     ]
    },
    {
     "name": "stderr",
     "output_type": "stream",
     "text": [
      "/usr/local/lib/python3.5/dist-packages/statsmodels/tsa/base/tsa_model.py:171: ValueWarning: No frequency information was provided, so inferred frequency H will be used.\n",
      "  % freq, ValueWarning)\n",
      "/usr/local/lib/python3.5/dist-packages/statsmodels/tsa/base/tsa_model.py:171: ValueWarning: No frequency information was provided, so inferred frequency H will be used.\n",
      "  % freq, ValueWarning)\n",
      "/usr/local/lib/python3.5/dist-packages/statsmodels/tsa/base/tsa_model.py:171: ValueWarning: No frequency information was provided, so inferred frequency H will be used.\n",
      "  % freq, ValueWarning)\n",
      "/usr/local/lib/python3.5/dist-packages/statsmodels/tsa/base/tsa_model.py:171: ValueWarning: No frequency information was provided, so inferred frequency H will be used.\n",
      "  % freq, ValueWarning)\n",
      "/usr/local/lib/python3.5/dist-packages/statsmodels/tsa/base/tsa_model.py:171: ValueWarning: No frequency information was provided, so inferred frequency H will be used.\n",
      "  % freq, ValueWarning)\n",
      "/usr/local/lib/python3.5/dist-packages/statsmodels/tsa/base/tsa_model.py:171: ValueWarning: No frequency information was provided, so inferred frequency H will be used.\n",
      "  % freq, ValueWarning)\n",
      "/usr/local/lib/python3.5/dist-packages/statsmodels/tsa/base/tsa_model.py:171: ValueWarning: No frequency information was provided, so inferred frequency H will be used.\n",
      "  % freq, ValueWarning)\n"
     ]
    },
    {
     "name": "stdout",
     "output_type": "stream",
     "text": [
      "V7R 4T8 model not created\n",
      "V7R 4V1 model not created\n",
      "V7R 4V3 model not created\n",
      "V7R 4V6 model not created\n",
      "V7R 4W1 model not created\n",
      "V7R 4W6 model not created\n"
     ]
    },
    {
     "name": "stderr",
     "output_type": "stream",
     "text": [
      "/usr/local/lib/python3.5/dist-packages/statsmodels/tsa/base/tsa_model.py:171: ValueWarning: No frequency information was provided, so inferred frequency H will be used.\n",
      "  % freq, ValueWarning)\n",
      "/usr/local/lib/python3.5/dist-packages/statsmodels/tsa/base/tsa_model.py:171: ValueWarning: No frequency information was provided, so inferred frequency H will be used.\n",
      "  % freq, ValueWarning)\n"
     ]
    },
    {
     "name": "stdout",
     "output_type": "stream",
     "text": [
      "V7X 1M7 model not created\n"
     ]
    },
    {
     "name": "stderr",
     "output_type": "stream",
     "text": [
      "/usr/local/lib/python3.5/dist-packages/statsmodels/tsa/base/tsa_model.py:171: ValueWarning: No frequency information was provided, so inferred frequency H will be used.\n",
      "  % freq, ValueWarning)\n",
      "/usr/local/lib/python3.5/dist-packages/statsmodels/tsa/base/tsa_model.py:171: ValueWarning: No frequency information was provided, so inferred frequency H will be used.\n",
      "  % freq, ValueWarning)\n"
     ]
    },
    {
     "name": "stdout",
     "output_type": "stream",
     "text": [
      "V7Y 1A1 model not created\n"
     ]
    },
    {
     "name": "stderr",
     "output_type": "stream",
     "text": [
      "/usr/local/lib/python3.5/dist-packages/statsmodels/tsa/base/tsa_model.py:171: ValueWarning: No frequency information was provided, so inferred frequency H will be used.\n",
      "  % freq, ValueWarning)\n"
     ]
    },
    {
     "name": "stdout",
     "output_type": "stream",
     "text": [
      "available_models_created\n"
     ]
    }
   ],
   "source": [
    "booking_model_saving('/opt/apps/Jaarvis_Demand_Supply/demand_models','/opt/apps/Jaarvis_Demand_Supply/available_models')"
   ]
  },
  {
   "cell_type": "code",
   "execution_count": 50,
   "metadata": {},
   "outputs": [],
   "source": [
    "# %matplotlib inline \n",
    "# import statsmodels\n",
    "# plt.rcParams['figure.figsize'] = [12,6]\n",
    "# train_booked_df.V5R[-171:-171+168].plot()\n",
    "# model2.forecast(24*3).plot()\n",
    "# plt.legend(loc=4)\n",
    "# plt.xlabel('hours')\n",
    "# plt.ylabel('Price')\n",
    "# plt.show()"
   ]
  },
  {
   "cell_type": "code",
   "execution_count": 96,
   "metadata": {},
   "outputs": [],
   "source": [
    "import glob\n",
    "import pickle\n",
    "import json\n",
    "from collections import defaultdict\n",
    "def model_load_predict(path1,path2):\n",
    "    booked=defaultdict(dict)\n",
    "    available = defaultdict(dict)\n",
    "    demand = {}\n",
    "    for x in glob.glob(os.path.join(path1, '*.pkl')):\n",
    "        try:\n",
    "            model_book = pickle.load(open(x, 'rb'))\n",
    "            zone= re.findall('[a-zA-Z]\\d[a-zA-Z]\\s{0,1}\\d{0,1}[a-zA-Z]{0,1}\\d{0,1}',x)[0]\n",
    "            print(zone)\n",
    "            booked[zone]['cars'] = [0 if i < 0 else i for i in numpy.ceil((model_book.forecast(24)))]\n",
    "            print(lat_long_df[lat_long_df['zone'].str.contains(zone)]['lat'].values[0],lat_long_df[lat_long_df['zone'].str.contains(zone)]['log'].values[0])\n",
    "            booked[zone]['lat_long'] = lat_long_df[lat_long_df['zone'].str.contains(zone)]['lat'].values[0],lat_long_df[lat_long_df['zone'].str.contains(zone)]['log'].values[0]\n",
    "        except:\n",
    "            print('problem with zone '+zone)\n",
    "    for y in glob.glob(os.path.join(path2, '*.pkl')):\n",
    "        try:\n",
    "            model_free = pickle.load(open(y, 'rb'))\n",
    "            zone = re.findall('[a-zA-Z]\\d[a-zA-Z]\\s{0,1}\\d{0,1}[a-zA-Z]{0,1}\\d{0,1}',y)[0]\n",
    "            print(zone)\n",
    "            available[zone]['cars'] = [0 if i < 0 else i for i in numpy.ceil((model_free.forecast(24)))]\n",
    "            print(lat_long_df[lat_long_df['zone'].str.contains(zone)]['lat'].values[0],lat_long_df[lat_long_df['zone'].str.contains(zone)]['log'].values[0])\n",
    "            available[zone]['lat_long'] = lat_long_df[lat_long_df['zone'].str.contains(zone)]['lat'].values[0],lat_long_df[lat_long_df['zone'].str.contains(zone)]['log'].values[0]\n",
    "        except:\n",
    "            print('problem with zone '+zone)\n",
    "    demand['booked'] = booked\n",
    "    demand['available'] = available\n",
    "    return json.dumps(demand)"
   ]
  },
  {
   "cell_type": "code",
   "execution_count": 97,
   "metadata": {},
   "outputs": [
    {
     "name": "stdout",
     "output_type": "stream",
     "text": [
      "V6B 2J2\n",
      "problem with zone V6B 2J2\n",
      "V5Z 2T1\n",
      "problem with zone V5Z 2T1\n",
      "V5N\n",
      "49.2663951 -123.0699288\n",
      "V6B 5A1\n",
      "problem with zone V6B 5A1\n",
      "V5V 3M5\n",
      "problem with zone V5V 3M5\n",
      "V6A 1G7\n",
      "problem with zone V6A 1G7\n",
      "V3M 0G8\n",
      "problem with zone V3M 0G8\n",
      "V6M 2G8\n",
      "problem with zone V6M 2G8\n",
      "V6Z 3G5\n",
      "problem with zone V6Z 3G5\n",
      "V6Z 1B1\n",
      "problem with zone V6Z 1B1\n",
      "V3L 5B3\n",
      "problem with zone V3L 5B3\n",
      "V6M 1M3\n",
      "problem with zone V6M 1M3\n",
      "V6A 1R8\n",
      "problem with zone V6A 1R8\n",
      "V5T 1J3\n",
      "problem with zone V5T 1J3\n",
      "V6A 1A4\n",
      "problem with zone V6A 1A4\n",
      "V5P\n",
      "49.23866229999999 -123.0601234\n",
      "V6E 1P1\n",
      "problem with zone V6E 1P1\n",
      "V3M 4K4\n",
      "49.2116003 -122.9353234\n",
      "V3M 2A5\n",
      "problem with zone V3M 2A5\n",
      "V5Y 0B2\n",
      "problem with zone V5Y 0B2\n",
      "V6B 1B7\n",
      "problem with zone V6B 1B7\n",
      "V6B 2T5\n",
      "problem with zone V6B 2T5\n",
      "V6B 1C9\n",
      "problem with zone V6B 1C9\n",
      "V6Z 1Y6\n",
      "problem with zone V6Z 1Y6\n",
      "V5P 4K6\n",
      "problem with zone V5P 4K6\n",
      "V3L 3C2\n",
      "problem with zone V3L 3C2\n",
      "V3L 3C5\n",
      "problem with zone V3L 3C5\n",
      "V5T 2W6\n",
      "problem with zone V5T 2W6\n",
      "V5P 4K7\n",
      "problem with zone V5P 4K7\n",
      "V5N 1X8\n",
      "problem with zone V5N 1X8\n",
      "V5R 5L6\n",
      "problem with zone V5R 5L6\n",
      "V6G 2A7\n",
      "problem with zone V6G 2A7\n",
      "V6B 3B4\n",
      "problem with zone V6B 3B4\n",
      "V6B 2E2\n",
      "problem with zone V6B 2E2\n",
      "V5N 4E9\n",
      "problem with zone V5N 4E9\n",
      "V6A 1H7\n",
      "problem with zone V6A 1H7\n",
      "V6E 4M3\n",
      "problem with zone V6E 4M3\n",
      "V5Z 3M5\n",
      "problem with zone V5Z 3M5\n",
      "V5N 1V6\n",
      "problem with zone V5N 1V6\n",
      "V6R\n",
      "49.2710022 -123.1848155\n",
      "V6A 1M3\n",
      "problem with zone V6A 1M3\n",
      "V6Z 2Z2\n",
      "problem with zone V6Z 2Z2\n",
      "V5T 4K8\n",
      "49.2609072 -123.0955336\n",
      "V3M 1K3\n",
      "problem with zone V3M 1K3\n",
      "V5T 1B3\n",
      "problem with zone V5T 1B3\n",
      "V6B 2N3\n",
      "problem with zone V6B 2N3\n",
      "V6B 2K7\n",
      "problem with zone V6B 2K7\n",
      "V5W 1A6\n",
      "problem with zone V5W 1A6\n",
      "V5N 1H2\n",
      "problem with zone V5N 1H2\n",
      "V6B 4M3\n",
      "problem with zone V6B 4M3\n",
      "V5N 3P9\n",
      "problem with zone V5N 3P9\n",
      "V6G 2J6\n",
      "problem with zone V6G 2J6\n",
      "V5M\n",
      "49.2691675 -123.0514035\n",
      "V6M 1L9\n",
      "problem with zone V6M 1L9\n",
      "V7M 2H3\n",
      "problem with zone V7M 2H3\n",
      "V6M 2A9\n",
      "problem with zone V6M 2A9\n",
      "V5R 2A1\n",
      "problem with zone V5R 2A1\n",
      "V5M 4J1\n",
      "problem with zone V5M 4J1\n",
      "V5Y 1K7\n",
      "problem with zone V5Y 1K7\n",
      "V6B 1V8\n",
      "problem with zone V6B 1V8\n",
      "V6Z 1Y5\n",
      "problem with zone V6Z 1Y5\n",
      "V5T 1J5\n",
      "problem with zone V5T 1J5\n",
      "V6B 6L2\n",
      "problem with zone V6B 6L2\n",
      "V1M 3G1\n",
      "problem with zone V1M 3G1\n",
      "V7L 1A4\n",
      "problem with zone V7L 1A4\n",
      "V6B 1E5\n",
      "problem with zone V6B 1E5\n",
      "V6M 1X5\n",
      "problem with zone V6M 1X5\n",
      "V5P 4R6\n",
      "problem with zone V5P 4R6\n",
      "V6N\n",
      "49.237282 -123.1637835\n",
      "V5Y 2M4\n",
      "problem with zone V5Y 2M4\n",
      "V3N 2G5\n",
      "problem with zone V3N 2G5\n",
      "V5Y 0B1\n",
      "problem with zone V5Y 0B1\n",
      "V6A 3P8\n",
      "problem with zone V6A 3P8\n",
      "V6B 1P2\n",
      "problem with zone V6B 1P2\n",
      "V6A 1T1\n",
      "problem with zone V6A 1T1\n",
      "V5Z\n",
      "49.2648452 -123.1251921\n",
      "V5X 2S5\n",
      "problem with zone V5X 2S5\n",
      "V6B 6L9\n",
      "problem with zone V6B 6L9\n",
      "V5R 1N4\n",
      "problem with zone V5R 1N4\n",
      "V3M 5T5\n",
      "problem with zone V3M 5T5\n",
      "V6B 1S5\n",
      "problem with zone V6B 1S5\n",
      "V5L 4X9\n",
      "problem with zone V5L 4X9\n",
      "V3L4C9\n",
      "problem with zone V3L4C9\n",
      "V3L 4C9\n",
      "problem with zone V3L 4C9\n",
      "V5Y 1L6\n",
      "problem with zone V5Y 1L6\n",
      "V6M 2Z4\n",
      "problem with zone V6M 2Z4\n",
      "V5V 3E2\n",
      "49.2520943 -123.0790627\n",
      "V5L 4E2\n",
      "problem with zone V5L 4E2\n",
      "V6H 3K2\n",
      "problem with zone V6H 3K2\n",
      "V5N 2P7\n",
      "problem with zone V5N 2P7\n",
      "V5T 2R6\n",
      "problem with zone V5T 2R6\n",
      "V6H 2R2\n",
      "problem with zone V6H 2R2\n",
      "V6B 6B1\n",
      "problem with zone V6B 6B1\n",
      "V6A 2S7\n",
      "problem with zone V6A 2S7\n",
      "V6P\n",
      "49.2175428 -123.125648\n",
      "V6B 3J5\n",
      "problem with zone V6B 3J5\n",
      "V3C 2S9\n",
      "problem with zone V3C 2S9\n",
      "V6T 0B3\n",
      "problem with zone V6T 0B3\n",
      "V5N 0B5\n",
      "problem with zone V5N 0B5\n",
      "V6A 3K1\n",
      "problem with zone V6A 3K1\n",
      "V7R 4L9\n",
      "problem with zone V7R 4L9\n",
      "V6M 1L8\n",
      "problem with zone V6M 1L8\n",
      "V5N 4M4\n",
      "problem with zone V5N 4M4\n",
      "V6B 1K6\n",
      "problem with zone V6B 1K6\n",
      "V3L 1A7\n",
      "problem with zone V3L 1A7\n",
      "V6M 1Z6\n",
      "problem with zone V6M 1Z6\n",
      "V6E 1N5\n",
      "problem with zone V6E 1N5\n",
      "V6A 2V4\n",
      "problem with zone V6A 2V4\n",
      "V5R 5S1\n",
      "49.2403521 -123.0272829\n",
      "V5L 1N9\n",
      "problem with zone V5L 1N9\n",
      "V5L 4T6\n",
      "problem with zone V5L 4T6\n",
      "V6E 1C1\n",
      "problem with zone V6E 1C1\n",
      "V6E 4H6\n",
      "problem with zone V6E 4H6\n",
      "V3L 3P2\n",
      "problem with zone V3L 3P2\n",
      "V6B 2K9\n",
      "problem with zone V6B 2K9\n",
      "V6E 1Y4\n",
      "problem with zone V6E 1Y4\n",
      "V3M 6H5\n",
      "problem with zone V3M 6H5\n",
      "V6K 3E6\n",
      "problem with zone V6K 3E6\n",
      "V5T 1E8\n",
      "problem with zone V5T 1E8\n",
      "V5R 1P3\n",
      "problem with zone V5R 1P3\n",
      "V6B 1G7\n",
      "problem with zone V6B 1G7\n",
      "V7L 2A4\n",
      "problem with zone V7L 2A4\n",
      "V3M 3L9\n",
      "problem with zone V3M 3L9\n",
      "V7B 1C7\n",
      "problem with zone V7B 1C7\n",
      "V6B 3G2\n",
      "problem with zone V6B 3G2\n",
      "V6M 2B8\n",
      "problem with zone V6M 2B8\n",
      "V7M 1J6\n",
      "problem with zone V7M 1J6\n",
      "V6G 3B1\n",
      "problem with zone V6G 3B1\n",
      "V6J 1A3\n",
      "problem with zone V6J 1A3\n",
      "V7J 2K7\n",
      "problem with zone V7J 2K7\n",
      "V6B 1T3\n",
      "problem with zone V6B 1T3\n",
      "V6A 3Y9\n",
      "problem with zone V6A 3Y9\n",
      "V6Z 1X6\n",
      "problem with zone V6Z 1X6\n",
      "V5W 2L8\n",
      "problem with zone V5W 2L8\n",
      "V6R 2R1\n",
      "problem with zone V6R 2R1\n",
      "V6A 0A7\n",
      "problem with zone V6A 0A7\n",
      "V6E 1B0\n",
      "problem with zone V6E 1B0\n",
      "V6P 3M4\n",
      "problem with zone V6P 3M4\n",
      "V5N 1X6\n",
      "problem with zone V5N 1X6\n",
      "V6B 2L3\n",
      "problem with zone V6B 2L3\n",
      "V6A 2H2\n",
      "problem with zone V6A 2H2\n",
      "V6B 1V4\n",
      "problem with zone V6B 1V4\n",
      "V5V 2T3\n",
      "problem with zone V5V 2T3\n",
      "V3M 1R2\n",
      "problem with zone V3M 1R2\n",
      "V6Z 2H2\n",
      "problem with zone V6Z 2H2\n",
      "V5L 2E3\n",
      "problem with zone V5L 2E3\n",
      "V5M 4T5\n",
      "problem with zone V5M 4T5\n",
      "V6Z 2X7\n",
      "problem with zone V6Z 2X7\n",
      "V6A 1Z3\n",
      "49.2787065 -123.0802639\n",
      "V5N 3S5\n",
      "problem with zone V5N 3S5\n",
      "V6M 2X2\n",
      "problem with zone V6M 2X2\n",
      "V6S 0A6\n",
      "problem with zone V6S 0A6\n",
      "V5L 1G8\n",
      "problem with zone V5L 1G8\n",
      "V6K 2X8\n",
      "problem with zone V6K 2X8\n",
      "V1M 2R6\n",
      "problem with zone V1M 2R6\n",
      "V6A 1G1\n",
      "problem with zone V6A 1G1\n",
      "V5L 1Y3\n",
      "problem with zone V5L 1Y3\n",
      "V5L 1L5\n",
      "problem with zone V5L 1L5\n",
      "V6M 1P8\n",
      "49.23705469999999 -123.1314889\n",
      "V6A 1S2\n",
      "problem with zone V6A 1S2\n",
      "V7M 2K3\n",
      "problem with zone V7M 2K3\n",
      "V5H 0C6\n",
      "problem with zone V5H 0C6\n",
      "V5L 2K8\n",
      "problem with zone V5L 2K8\n",
      "V6R 3S5\n",
      "problem with zone V6R 3S5\n",
      "V5L 4N8\n",
      "problem with zone V5L 4N8\n",
      "V6E 1V8\n",
      "problem with zone V6E 1V8\n",
      "V6B 2R7\n",
      "problem with zone V6B 2R7\n",
      "V6M 3A5\n",
      "problem with zone V6M 3A5\n",
      "V5L 4E5\n",
      "problem with zone V5L 4E5\n",
      "V6B 6R5\n",
      "problem with zone V6B 6R5\n",
      "V5Z 4K6\n",
      "problem with zone V5Z 4K6\n",
      "V7P\n",
      "49.3237588 -123.0982218\n",
      "V3N 3H7\n",
      "problem with zone V3N 3H7\n",
      "V6J 1R1\n",
      "problem with zone V6J 1R1\n",
      "V5N 3Z8\n",
      "problem with zone V5N 3Z8\n",
      "V3L 2W6\n",
      "problem with zone V3L 2W6\n",
      "V5Z 0A2\n",
      "problem with zone V5Z 0A2\n",
      "V7L 2J2\n",
      "problem with zone V7L 2J2\n",
      "V6J 3X2\n",
      "problem with zone V6J 3X2\n",
      "V3M 1C4\n",
      "problem with zone V3M 1C4\n",
      "V7H 1A8\n",
      "problem with zone V7H 1A8\n",
      "V5Y 4B6\n",
      "problem with zone V5Y 4B6\n",
      "V3L 5P5\n",
      "problem with zone V3L 5P5\n",
      "V6A 1K7\n",
      "problem with zone V6A 1K7\n",
      "V5N 1X7\n",
      "problem with zone V5N 1X7\n",
      "V5T 3K5\n",
      "49.2573626 -123.0905485\n",
      "V6B 2X1\n",
      "problem with zone V6B 2X1\n",
      "V5L\n",
      "49.287259 -123.0614253\n",
      "V5M 0C4\n",
      "problem with zone V5M 0C4\n",
      "V6J 2L7\n",
      "problem with zone V6J 2L7\n",
      "V3L 4M8\n",
      "problem with zone V3L 4M8\n",
      "V6Z 2N2\n",
      "problem with zone V6Z 2N2\n",
      "V6K 2G8\n",
      "problem with zone V6K 2G8\n",
      "V5K 4H6\n",
      "problem with zone V5K 4H6\n",
      "V6Z 2B7\n",
      "problem with zone V6Z 2B7\n",
      "V7R 4P6\n",
      "problem with zone V7R 4P6\n",
      "V6R 1V9\n",
      "problem with zone V6R 1V9\n",
      "V6Z 2C7\n",
      "problem with zone V6Z 2C7\n",
      "V5Y 4B7\n",
      "problem with zone V5Y 4B7\n",
      "V5Y 0B8\n",
      "problem with zone V5Y 0B8\n",
      "V5T 4V5\n",
      "problem with zone V5T 4V5\n",
      "V5N 2T6\n",
      "49.24342830000001 -123.0607594\n",
      "V5L 3T4\n",
      "problem with zone V5L 3T4\n",
      "V7M 2Y4\n",
      "49.3239753 -123.0837488\n",
      "V6A 1E1\n",
      "problem with zone V6A 1E1\n",
      "V6A 3S7\n",
      "problem with zone V6A 3S7\n",
      "V7L 2N3\n",
      "problem with zone V7L 2N3\n",
      "V7J 1H2\n",
      "problem with zone V7J 1H2\n",
      "V6M 1X1\n",
      "problem with zone V6M 1X1\n",
      "V6A 3A3\n",
      "problem with zone V6A 3A3\n",
      "V6K 2G3\n",
      "problem with zone V6K 2G3\n",
      "V6B 3K4\n",
      "problem with zone V6B 3K4\n",
      "V6A\n",
      "49.2815044 -123.0922622\n",
      "V5S\n",
      "49.2279388 -123.0575954\n",
      "V6J 2B8\n",
      "problem with zone V6J 2B8\n",
      "V6E 4M8\n",
      "problem with zone V6E 4M8\n",
      "V5Y\n",
      "49.2694492 -123.1068107\n",
      "V6K 1A1\n",
      "problem with zone V6K 1A1\n",
      "V5W\n",
      "49.2382917 -123.0995778\n",
      "V6P 6Y5\n",
      "problem with zone V6P 6Y5\n",
      "V6S 2E1\n",
      "problem with zone V6S 2E1\n",
      "V6G 1X5\n",
      "problem with zone V6G 1X5\n",
      "V6A 1M9\n",
      "problem with zone V6A 1M9\n",
      "V6B 5X5\n",
      "problem with zone V6B 5X5\n",
      "V6B 1C6\n",
      "problem with zone V6B 1C6\n",
      "V5L 2H1\n",
      "problem with zone V5L 2H1\n",
      "V3L 3V9\n",
      "problem with zone V3L 3V9\n",
      "V5N 5E4\n",
      "problem with zone V5N 5E4\n",
      "V6Z 1M1\n",
      "problem with zone V6Z 1M1\n",
      "V6E 1N2\n",
      "problem with zone V6E 1N2\n",
      "V6J 4A1\n",
      "problem with zone V6J 4A1\n",
      "V5N 1S2\n",
      "problem with zone V5N 1S2\n",
      "V3L 0E7\n",
      "problem with zone V3L 0E7\n",
      "V5Z 2M9\n",
      "problem with zone V5Z 2M9\n",
      "V6A 2M9\n",
      "problem with zone V6A 2M9\n",
      "V5T 1S1\n",
      "problem with zone V5T 1S1\n",
      "V6Z 2T9\n",
      "problem with zone V6Z 2T9\n",
      "V5V 3P3\n",
      "problem with zone V5V 3P3\n",
      "V5R 6G8\n",
      "problem with zone V5R 6G8\n",
      "V7Y\n",
      "49.2832353 -123.1177638\n",
      "V7M 1B3\n",
      "problem with zone V7M 1B3\n",
      "V5R 5L7\n",
      "problem with zone V5R 5L7\n",
      "V3L 0E3\n",
      "problem with zone V3L 0E3\n",
      "V7L 1L1\n",
      "problem with zone V7L 1L1\n",
      "V5N 3T2\n",
      "problem with zone V5N 3T2\n"
     ]
    },
    {
     "name": "stdout",
     "output_type": "stream",
     "text": [
      "V5T 2K4\n",
      "problem with zone V5T 2K4\n",
      "V6A 1E9\n",
      "problem with zone V6A 1E9\n",
      "V6H 2K5\n",
      "problem with zone V6H 2K5\n",
      "V7M 2K1\n",
      "problem with zone V7M 2K1\n",
      "V3L 4G6\n",
      "49.2209088 -122.9070855\n",
      "V3L 3H7\n",
      "problem with zone V3L 3H7\n",
      "V6E 1V1\n",
      "49.2787634 -123.1360312\n",
      "V5Y 2Z6\n",
      "problem with zone V5Y 2Z6\n",
      "V5R 5G9\n",
      "problem with zone V5R 5G9\n",
      "V6B 3P3\n",
      "problem with zone V6B 3P3\n",
      "V5Z 2G9\n",
      "problem with zone V5Z 2G9\n",
      "V7N 1X1\n",
      "problem with zone V7N 1X1\n",
      "V6M 2V5\n",
      "problem with zone V6M 2V5\n",
      "V6E 1J7\n",
      "problem with zone V6E 1J7\n",
      "V6B 1E1\n",
      "problem with zone V6B 1E1\n",
      "V5G 4J3\n",
      "problem with zone V5G 4J3\n",
      "V6Z\n",
      "49.2755926 -123.1293344\n",
      "V5N 4L1\n",
      "problem with zone V5N 4L1\n",
      "V6B 3L9\n",
      "problem with zone V6B 3L9\n",
      "V6C 1T2\n",
      "problem with zone V6C 1T2\n",
      "V5R\n",
      "49.2495001 -123.048236\n",
      "V6E 1N4\n",
      "problem with zone V6E 1N4\n",
      "V5R 3Z5\n",
      "49.2370448 -123.0428101\n",
      "V6R 4K5\n",
      "problem with zone V6R 4K5\n",
      "V3L 2K1\n",
      "problem with zone V3L 2K1\n",
      "V5Y 1H4\n",
      "problem with zone V5Y 1H4\n",
      "V5L 1S3\n",
      "problem with zone V5L 1S3\n",
      "V7B 0A1\n",
      "problem with zone V7B 0A1\n",
      "V6A 4H6\n",
      "problem with zone V6A 4H6\n",
      "V5G 4L7\n",
      "problem with zone V5G 4L7\n",
      "V6B 1C1\n",
      "problem with zone V6B 1C1\n",
      "V6M 2W7\n",
      "problem with zone V6M 2W7\n",
      "V6C 1V5\n",
      "problem with zone V6C 1V5\n",
      "V5M 4P3\n",
      "problem with zone V5M 4P3\n",
      "V6A 1X9\n",
      "problem with zone V6A 1X9\n",
      "V3M 3K3\n",
      "problem with zone V3M 3K3\n",
      "V5T 4C2\n",
      "problem with zone V5T 4C2\n",
      "V6E 1X9\n",
      "problem with zone V6E 1X9\n",
      "V6C 1S4\n",
      "problem with zone V6C 1S4\n",
      "V6E 3P3\n",
      "problem with zone V6E 3P3\n",
      "V5T\n",
      "49.26619119999999 -123.0882315\n",
      "V5Y 4B1\n",
      "problem with zone V5Y 4B1\n",
      "V5G 4M9\n",
      "problem with zone V5G 4M9\n",
      "V3M 4H4\n",
      "problem with zone V3M 4H4\n",
      "V6A 1P6\n",
      "problem with zone V6A 1P6\n",
      "V6B 1R3\n",
      "problem with zone V6B 1R3\n",
      "V7P 1E4\n",
      "problem with zone V7P 1E4\n",
      "V5V 3A4\n",
      "problem with zone V5V 3A4\n",
      "V5T 4T1\n",
      "problem with zone V5T 4T1\n",
      "V5N 5E5\n",
      "problem with zone V5N 5E5\n",
      "V6G\n",
      "49.2885483 -123.1332516\n",
      "V6B 0J9\n",
      "problem with zone V6B 0J9\n",
      "V6A 1X3\n",
      "problem with zone V6A 1X3\n",
      "V6R 3W6\n",
      "problem with zone V6R 3W6\n",
      "V6A 2S5\n",
      "problem with zone V6A 2S5\n",
      "V7L 2T3\n",
      "problem with zone V7L 2T3\n",
      "V5V 4S9\n",
      "problem with zone V5V 4S9\n",
      "V6A 3T8\n",
      "problem with zone V6A 3T8\n",
      "V5T 2G1\n",
      "problem with zone V5T 2G1\n",
      "V6L 2H8\n",
      "problem with zone V6L 2H8\n",
      "V5Z 3M9\n",
      "problem with zone V5Z 3M9\n",
      "V5K 1B5\n",
      "problem with zone V5K 1B5\n",
      "V6N 4G1\n",
      "problem with zone V6N 4G1\n",
      "V3J 3Z9\n",
      "problem with zone V3J 3Z9\n",
      "V6E 2E9\n",
      "problem with zone V6E 2E9\n",
      "V5Y 1G9\n",
      "problem with zone V5Y 1G9\n",
      "V6B 1P1\n",
      "problem with zone V6B 1P1\n",
      "V6G 2W3\n",
      "problem with zone V6G 2W3\n",
      "V6K 3G6\n",
      "problem with zone V6K 3G6\n",
      "V6K 4T4\n",
      "problem with zone V6K 4T4\n",
      "V5Z 2L7\n",
      "problem with zone V5Z 2L7\n",
      "V6A 3X2\n",
      "problem with zone V6A 3X2\n",
      "V6B\n",
      "49.2735935 -123.1139088\n",
      "V6B 3A7\n",
      "problem with zone V6B 3A7\n",
      "V3L 1B9\n",
      "problem with zone V3L 1B9\n",
      "V6H 1R3\n",
      "problem with zone V6H 1R3\n",
      "V6G 1Y7\n",
      "49.28405979999999 -123.1419258\n",
      "V6A 1T3\n",
      "problem with zone V6A 1T3\n",
      "V5L 3B1\n",
      "problem with zone V5L 3B1\n",
      "V5L 5C3\n",
      "problem with zone V5L 5C3\n",
      "V6B 2Z5\n",
      "problem with zone V6B 2Z5\n",
      "V6E3W1\n",
      "problem with zone V6E3W1\n",
      "V5G 4X7\n",
      "problem with zone V5G 4X7\n",
      "V5T 4R8\n",
      "problem with zone V5T 4R8\n",
      "V6M 1V5\n",
      "problem with zone V6M 1V5\n",
      "V6B 1H4\n",
      "problem with zone V6B 1H4\n",
      "V5K\n",
      "49.28635389999999 -123.0288899\n",
      "V7M 3N2\n",
      "problem with zone V7M 3N2\n",
      "V6M 4J6\n",
      "49.2370674 -123.1304866\n",
      "V5M 1Z6\n",
      "problem with zone V5M 1Z6\n",
      "V5K 3K3\n",
      "problem with zone V5K 3K3\n",
      "V6M 2Z2\n",
      "problem with zone V6M 2Z2\n",
      "V6Z 2K8\n",
      "problem with zone V6Z 2K8\n",
      "V6K 2M4\n",
      "problem with zone V6K 2M4\n",
      "V5Y 1P3\n",
      "problem with zone V5Y 1P3\n",
      "V6C 3A8\n",
      "problem with zone V6C 3A8\n",
      "V5W 2A2\n",
      "problem with zone V5W 2A2\n",
      "V3L 1K3\n",
      "problem with zone V3L 1K3\n",
      "V6Z 2X4\n",
      "problem with zone V6Z 2X4\n",
      "V5N 4Z2\n",
      "problem with zone V5N 4Z2\n",
      "V6E 2P4\n",
      "problem with zone V6E 2P4\n",
      "V5P 1E4\n",
      "problem with zone V5P 1E4\n",
      "V5M 2Z2\n",
      "problem with zone V5M 2Z2\n",
      "V5R 5K6\n",
      "49.2333228 -123.03369\n",
      "V3M 3N7\n",
      "problem with zone V3M 3N7\n",
      "V6B 6N7\n",
      "problem with zone V6B 6N7\n",
      "V5N 4V1\n",
      "problem with zone V5N 4V1\n",
      "V6H 1L6\n",
      "problem with zone V6H 1L6\n",
      "V6E 1C2\n",
      "problem with zone V6E 1C2\n",
      "V6J 3H1\n",
      "problem with zone V6J 3H1\n",
      "V6M 2P7\n",
      "problem with zone V6M 2P7\n",
      "V6S 0B5\n",
      "problem with zone V6S 0B5\n",
      "V7Y 1E8\n",
      "problem with zone V7Y 1E8\n",
      "V6A 2Z9\n",
      "problem with zone V6A 2Z9\n",
      "V6A 1Z5\n",
      "problem with zone V6A 1Z5\n",
      "V5X 4C5\n",
      "problem with zone V5X 4C5\n",
      "V5R 2T3\n",
      "problem with zone V5R 2T3\n",
      "V6E 3T3\n",
      "problem with zone V6E 3T3\n",
      "V6E 1B2\n",
      "problem with zone V6E 1B2\n",
      "V6A 1P1\n",
      "problem with zone V6A 1P1\n",
      "V6A 2V8\n",
      "problem with zone V6A 2V8\n",
      "V6B 5J3\n",
      "problem with zone V6B 5J3\n",
      "V5W 1P3\n",
      "problem with zone V5W 1P3\n",
      "V5L 3X2\n",
      "49.2745208 -123.0692635\n",
      "V6A2V7\n",
      "problem with zone V6A2V7\n",
      "V5Y 1B3\n",
      "problem with zone V5Y 1B3\n",
      "V6A 4C7\n",
      "problem with zone V6A 4C7\n",
      "V5R 6H5\n",
      "problem with zone V5R 6H5\n",
      "V5L 2P7\n",
      "problem with zone V5L 2P7\n",
      "V6B 1T5\n",
      "problem with zone V6B 1T5\n",
      "V5T 1W9\n",
      "problem with zone V5T 1W9\n",
      "V5M 2E9\n",
      "problem with zone V5M 2E9\n",
      "V5L 1V3\n",
      "problem with zone V5L 1V3\n",
      "V6H 1L3\n",
      "problem with zone V6H 1L3\n",
      "V6B 1G6\n",
      "problem with zone V6B 1G6\n",
      "V6A 2W5\n",
      "problem with zone V6A 2W5\n",
      "V5K 1Y8\n",
      "problem with zone V5K 1Y8\n",
      "V6A 3L8\n",
      "problem with zone V6A 3L8\n",
      "V6B 1H7\n",
      "problem with zone V6B 1H7\n",
      "V6A 2W1\n",
      "problem with zone V6A 2W1\n",
      "V3L 3A9\n",
      "problem with zone V3L 3A9\n",
      "V5X\n",
      "49.2154902 -123.1138536\n",
      "V5L 3K9\n",
      "49.2720496 -123.0777653\n",
      "V6C 2R7\n",
      "problem with zone V6C 2R7\n",
      "V6J 1X6\n",
      "problem with zone V6J 1X6\n",
      "V3L 3X1\n",
      "problem with zone V3L 3X1\n",
      "V6M 2W9\n",
      "problem with zone V6M 2W9\n",
      "V5P 3Z7\n",
      "problem with zone V5P 3Z7\n",
      "V3L 5M4\n",
      "problem with zone V3L 5M4\n",
      "V6H\n",
      "49.2658088 -123.1299151\n",
      "V6H 3S2\n",
      "problem with zone V6H 3S2\n",
      "V6L\n",
      "49.2561388 -123.1634375\n",
      "V3L 0H4\n",
      "problem with zone V3L 0H4\n",
      "V5T 4T6\n",
      "problem with zone V5T 4T6\n",
      "V5H 2B3\n",
      "problem with zone V5H 2B3\n",
      "V6H 3J7\n",
      "problem with zone V6H 3J7\n",
      "V6H 3P7\n",
      "problem with zone V6H 3P7\n",
      "V6M 1M1\n",
      "problem with zone V6M 1M1\n",
      "V6A 1R1\n",
      "problem with zone V6A 1R1\n",
      "V6H 3R9\n",
      "problem with zone V6H 3R9\n",
      "V6A 2E3\n",
      "problem with zone V6A 2E3\n",
      "V5Y 3J6\n",
      "problem with zone V5Y 3J6\n",
      "V3L 3X6\n",
      "problem with zone V3L 3X6\n",
      "V6K\n",
      "49.269879 -123.1635425\n",
      "V7L\n",
      "49.3065259 -123.0551161\n",
      "V6E 1Z3\n",
      "problem with zone V6E 1Z3\n",
      "V5R 0B2\n",
      "problem with zone V5R 0B2\n",
      "V5N 4L3\n",
      "problem with zone V5N 4L3\n",
      "V5V 4E6\n",
      "problem with zone V5V 4E6\n",
      "V6P 3T9\n",
      "problem with zone V6P 3T9\n",
      "V6N 2C4\n",
      "problem with zone V6N 2C4\n",
      "V5Y 3R4\n",
      "problem with zone V5Y 3R4\n",
      "V5Z 2L5\n",
      "problem with zone V5Z 2L5\n",
      "V6R 1B9\n",
      "problem with zone V6R 1B9\n",
      "V5T 3A8\n",
      "problem with zone V5T 3A8\n",
      "V6K 1T2\n",
      "problem with zone V6K 1T2\n",
      "V6E 4S7\n",
      "problem with zone V6E 4S7\n",
      "V3L 1A9\n",
      "problem with zone V3L 1A9\n",
      "V6J\n",
      "49.2750332 -123.1486865\n",
      "V6A 1R2\n",
      "problem with zone V6A 1R2\n",
      "V6H 1J4\n",
      "problem with zone V6H 1J4\n",
      "V6E 1T7\n",
      "49.2771176 -123.1358988\n",
      "V6B 2Z4\n",
      "problem with zone V6B 2Z4\n",
      "V6H 4A7\n",
      "problem with zone V6H 4A7\n",
      "V6E 3J7\n",
      "problem with zone V6E 3J7\n",
      "V7M\n",
      "49.31323099999999 -123.0848137\n",
      "V3L 1G2\n",
      "problem with zone V3L 1G2\n",
      "V5R 6G4\n",
      "problem with zone V5R 6G4\n",
      "V5L 1H3\n",
      "problem with zone V5L 1H3\n",
      "V2J 3A9\n",
      "problem with zone V2J 3A9\n",
      "V6C\n",
      "49.2854069 -123.1187459\n",
      "V5L 1K5\n",
      "problem with zone V5L 1K5\n",
      "V7M 3K2\n",
      "problem with zone V7M 3K2\n",
      "V5X 0C4\n",
      "problem with zone V5X 0C4\n",
      "V6H 1T7\n",
      "problem with zone V6H 1T7\n",
      "V6Z 3B4\n",
      "problem with zone V6Z 3B4\n",
      "V5Y 2H5\n",
      "problem with zone V5Y 2H5\n",
      "V3M 6B9\n",
      "problem with zone V3M 6B9\n",
      "V5R 5L1\n",
      "problem with zone V5R 5L1\n",
      "V3L 5S3\n",
      "problem with zone V3L 5S3\n",
      "V6E 1Z6\n",
      "problem with zone V6E 1Z6\n",
      "V7H 1B1\n",
      "problem with zone V7H 1B1\n",
      "V6B 2M8\n",
      "problem with zone V6B 2M8\n",
      "V5R 5L4\n",
      "problem with zone V5R 5L4\n",
      "V5N 2B7\n",
      "problem with zone V5N 2B7\n",
      "V5M 3E4\n",
      "problem with zone V5M 3E4\n",
      "V6E 1G7\n",
      "problem with zone V6E 1G7\n",
      "V5M 4C1\n",
      "49.2558695 -123.0284308\n",
      "V5T 1C7\n",
      "problem with zone V5T 1C7\n",
      "V5A 4X6\n",
      "49.2785576 -122.910379\n",
      "V6H 3S3\n",
      "problem with zone V6H 3S3\n",
      "V5Y 3H4\n",
      "problem with zone V5Y 3H4\n",
      "V6A 1X5\n",
      "problem with zone V6A 1X5\n",
      "V6B 0J4\n",
      "problem with zone V6B 0J4\n",
      "V5N 4K1\n",
      "problem with zone V5N 4K1\n",
      "V7Y 1G5\n",
      "problem with zone V7Y 1G5\n",
      "V5T 1X4\n",
      "49.2627093 -123.092422\n",
      "V7P 1S2\n",
      "problem with zone V7P 1S2\n",
      "V6J 2C2\n",
      "problem with zone V6J 2C2\n",
      "V6A 1G2\n",
      "problem with zone V6A 1G2\n",
      "V3M 2S7\n",
      "problem with zone V3M 2S7\n",
      "V6E 1Z7\n",
      "problem with zone V6E 1Z7\n",
      "V5Y 3X2\n",
      "problem with zone V5Y 3X2\n",
      "V5L 4E7\n",
      "problem with zone V5L 4E7\n",
      "V6B 1Y1\n",
      "problem with zone V6B 1Y1\n",
      "V6A 1B1\n",
      "problem with zone V6A 1B1\n",
      "V6G 2P7\n",
      "problem with zone V6G 2P7\n",
      "V6J 1M6\n",
      "problem with zone V6J 1M6\n",
      "V5K 1Z3\n",
      "problem with zone V5K 1Z3\n",
      "V3M 4G9\n",
      "problem with zone V3M 4G9\n",
      "V6E 1N1\n",
      "problem with zone V6E 1N1\n",
      "V6E 1J6\n",
      "problem with zone V6E 1J6\n",
      "V5V\n",
      "49.2450856 -123.1016386\n",
      "V6H 1S5\n",
      "problem with zone V6H 1S5\n",
      "V6E 1L6\n",
      "49.28285409999999 -123.1332696\n",
      "V6B 2R5\n",
      "problem with zone V6B 2R5\n",
      "V7L 4B3\n",
      "problem with zone V7L 4B3\n",
      "V6E 1T8\n",
      "problem with zone V6E 1T8\n",
      "V6A 2P3\n",
      "problem with zone V6A 2P3\n",
      "V6M\n",
      "49.2407644 -123.1362284\n",
      "V5L 2C4\n",
      "problem with zone V5L 2C4\n",
      "V3L 2G1\n",
      "problem with zone V3L 2G1\n",
      "V3N 3N4\n",
      "49.21947170000001 -122.9284603\n",
      "V5S 4B3\n",
      "problem with zone V5S 4B3\n"
     ]
    },
    {
     "name": "stdout",
     "output_type": "stream",
     "text": [
      "V3M 0J2\n",
      "problem with zone V3M 0J2\n",
      "V6J 3H6\n",
      "problem with zone V6J 3H6\n",
      "V6Z 2M4\n",
      "problem with zone V6Z 2M4\n",
      "V5L 2W2\n",
      "problem with zone V5L 2W2\n",
      "V5N 1A9\n",
      "49.269823 -123.0684064\n",
      "V5K 4Z6\n",
      "problem with zone V5K 4Z6\n",
      "V5Z 3N2\n",
      "problem with zone V5Z 3N2\n",
      "V6G 3A5\n",
      "problem with zone V6G 3A5\n",
      "V5V 5E9\n",
      "problem with zone V5V 5E9\n",
      "V5X 4K1\n",
      "problem with zone V5X 4K1\n",
      "V6A 1E3\n",
      "problem with zone V6A 1E3\n",
      "V3M 2M9\n",
      "problem with zone V3M 2M9\n",
      "V6B 2J2\n",
      "problem with zone V6B 2J2\n",
      "V5Z 2T1\n",
      "problem with zone V5Z 2T1\n",
      "V5N\n",
      "49.2663951 -123.0699288\n",
      "V6B 5A1\n",
      "problem with zone V6B 5A1\n",
      "V5V 3M5\n",
      "problem with zone V5V 3M5\n",
      "V6A 1G7\n",
      "problem with zone V6A 1G7\n",
      "V3M 0G8\n",
      "problem with zone V3M 0G8\n",
      "V6Z 3G5\n",
      "problem with zone V6Z 3G5\n",
      "V6Z 1B1\n",
      "problem with zone V6Z 1B1\n",
      "V3L 5B3\n",
      "problem with zone V3L 5B3\n",
      "V6M 1M3\n",
      "problem with zone V6M 1M3\n",
      "V6A 1R8\n",
      "problem with zone V6A 1R8\n",
      "V5T 1J3\n",
      "problem with zone V5T 1J3\n",
      "V6A 1A4\n",
      "problem with zone V6A 1A4\n",
      "V3M 1A5\n",
      "problem with zone V3M 1A5\n",
      "V5P\n",
      "49.23866229999999 -123.0601234\n",
      "V6A 1G4\n",
      "problem with zone V6A 1G4\n",
      "V6E 1P1\n",
      "problem with zone V6E 1P1\n",
      "V5Y 0B2\n",
      "problem with zone V5Y 0B2\n",
      "V6B 1B7\n",
      "problem with zone V6B 1B7\n",
      "V6B 2T5\n",
      "problem with zone V6B 2T5\n",
      "V6Z 1Y6\n",
      "problem with zone V6Z 1Y6\n",
      "V5P 4K6\n",
      "problem with zone V5P 4K6\n",
      "V3L 3C2\n",
      "problem with zone V3L 3C2\n",
      "V5T 2W6\n",
      "problem with zone V5T 2W6\n",
      "V5P 4K7\n",
      "problem with zone V5P 4K7\n",
      "V5N 1X8\n",
      "problem with zone V5N 1X8\n",
      "V5T 1A7\n",
      "problem with zone V5T 1A7\n",
      "V5R 5L6\n",
      "problem with zone V5R 5L6\n",
      "V6G 2A7\n",
      "problem with zone V6G 2A7\n",
      "V6B 2E2\n",
      "problem with zone V6B 2E2\n",
      "V5N 4E9\n",
      "problem with zone V5N 4E9\n",
      "V6E 4M3\n",
      "problem with zone V6E 4M3\n",
      "V5Z 3M5\n",
      "problem with zone V5Z 3M5\n",
      "V5N 1V6\n",
      "problem with zone V5N 1V6\n",
      "V6R\n",
      "49.2710022 -123.1848155\n",
      "V6A 1M3\n",
      "problem with zone V6A 1M3\n",
      "V6Z 2Z2\n",
      "problem with zone V6Z 2Z2\n",
      "V5T 4K8\n",
      "49.2609072 -123.0955336\n",
      "V3M 1K3\n",
      "problem with zone V3M 1K3\n",
      "V5T 1B3\n",
      "problem with zone V5T 1B3\n",
      "V5W 1A6\n",
      "problem with zone V5W 1A6\n",
      "V5N 1H2\n",
      "problem with zone V5N 1H2\n",
      "V6B 4M3\n",
      "problem with zone V6B 4M3\n",
      "V5M 3Y4\n",
      "problem with zone V5M 3Y4\n",
      "V5N 3P9\n",
      "problem with zone V5N 3P9\n",
      "V6G 2J6\n",
      "problem with zone V6G 2J6\n",
      "V5M\n",
      "49.2691675 -123.0514035\n",
      "V7M 2H3\n",
      "problem with zone V7M 2H3\n",
      "V6M 2A9\n",
      "problem with zone V6M 2A9\n",
      "V5Y 1K7\n",
      "problem with zone V5Y 1K7\n",
      "V6B 1V8\n",
      "problem with zone V6B 1V8\n",
      "V6Z 1Y5\n",
      "problem with zone V6Z 1Y5\n",
      "V5T 1J5\n",
      "problem with zone V5T 1J5\n",
      "V6B 6L2\n",
      "problem with zone V6B 6L2\n",
      "V1M 3G1\n",
      "problem with zone V1M 3G1\n",
      "V3N 4C3\n",
      "problem with zone V3N 4C3\n",
      "V7L 1A4\n",
      "problem with zone V7L 1A4\n",
      "V6B 1E5\n",
      "problem with zone V6B 1E5\n",
      "V6M 1X5\n",
      "problem with zone V6M 1X5\n",
      "V5P 4R6\n",
      "problem with zone V5P 4R6\n",
      "V6N\n",
      "49.237282 -123.1637835\n",
      "V3N 2G5\n",
      "problem with zone V3N 2G5\n",
      "V6A 3P8\n",
      "problem with zone V6A 3P8\n",
      "V6B 1P2\n",
      "problem with zone V6B 1P2\n",
      "V6A 1T1\n",
      "problem with zone V6A 1T1\n",
      "V5Z\n",
      "49.2648452 -123.1251921\n",
      "V5X 2S5\n",
      "problem with zone V5X 2S5\n",
      "V6B 6L9\n",
      "problem with zone V6B 6L9\n",
      "V5R 1N4\n",
      "problem with zone V5R 1N4\n",
      "V3M 5T5\n",
      "problem with zone V3M 5T5\n",
      "V6B 1S5\n",
      "problem with zone V6B 1S5\n",
      "V5L 4X9\n",
      "problem with zone V5L 4X9\n",
      "V3L4C9\n",
      "problem with zone V3L4C9\n",
      "V3L 4C9\n",
      "problem with zone V3L 4C9\n",
      "V5Y 1L6\n",
      "problem with zone V5Y 1L6\n",
      "V6M 2Z4\n",
      "problem with zone V6M 2Z4\n",
      "V5V 3E2\n",
      "49.2520943 -123.0790627\n",
      "V5L 4E2\n",
      "problem with zone V5L 4E2\n",
      "V6H 3K2\n",
      "problem with zone V6H 3K2\n",
      "V5N 2P7\n",
      "problem with zone V5N 2P7\n",
      "V5T 2R6\n",
      "problem with zone V5T 2R6\n",
      "V6H 2R2\n",
      "problem with zone V6H 2R2\n",
      "V6B 6B1\n",
      "problem with zone V6B 6B1\n",
      "V6A 2S7\n",
      "problem with zone V6A 2S7\n",
      "V6P\n",
      "49.2175428 -123.125648\n",
      "V6B 3J5\n",
      "problem with zone V6B 3J5\n",
      "V3C 2S9\n",
      "problem with zone V3C 2S9\n",
      "V3L 0C9\n",
      "problem with zone V3L 0C9\n",
      "V6T 0B3\n",
      "problem with zone V6T 0B3\n",
      "V6A 3K1\n",
      "problem with zone V6A 3K1\n",
      "V5Y 1M8\n",
      "problem with zone V5Y 1M8\n",
      "V7R 4L9\n",
      "problem with zone V7R 4L9\n",
      "V6M 1L8\n",
      "problem with zone V6M 1L8\n",
      "V5N 4M4\n",
      "problem with zone V5N 4M4\n",
      "V6B 1K6\n",
      "problem with zone V6B 1K6\n",
      "V3L 1A7\n",
      "problem with zone V3L 1A7\n",
      "V6M 1Z6\n",
      "problem with zone V6M 1Z6\n",
      "V6E 1N5\n",
      "problem with zone V6E 1N5\n",
      "V6A 2V4\n",
      "problem with zone V6A 2V4\n",
      "V5R 5S1\n",
      "49.2403521 -123.0272829\n",
      "V5L 1N9\n",
      "problem with zone V5L 1N9\n",
      "V6A 2M2\n",
      "problem with zone V6A 2M2\n",
      "V5L 4T6\n",
      "problem with zone V5L 4T6\n",
      "V6E 4H6\n",
      "problem with zone V6E 4H6\n",
      "V3L 3P2\n",
      "problem with zone V3L 3P2\n",
      "V6B 2K9\n",
      "problem with zone V6B 2K9\n",
      "V6B 4P4\n",
      "problem with zone V6B 4P4\n",
      "V6E 1Y4\n",
      "problem with zone V6E 1Y4\n",
      "V3M 6H5\n",
      "problem with zone V3M 6H5\n",
      "V6K 3E6\n",
      "problem with zone V6K 3E6\n",
      "V5T 1E8\n",
      "problem with zone V5T 1E8\n",
      "V5R 1P3\n",
      "problem with zone V5R 1P3\n",
      "V6B 1G7\n",
      "problem with zone V6B 1G7\n",
      "V7L 2A4\n",
      "problem with zone V7L 2A4\n",
      "V3M 3L9\n",
      "problem with zone V3M 3L9\n",
      "V7B 1C7\n",
      "problem with zone V7B 1C7\n",
      "V6B 3G2\n",
      "problem with zone V6B 3G2\n",
      "V6M 2B8\n",
      "problem with zone V6M 2B8\n",
      "V6H 2R5\n",
      "problem with zone V6H 2R5\n",
      "V7M 1J6\n",
      "problem with zone V7M 1J6\n",
      "V6G 3B1\n",
      "problem with zone V6G 3B1\n",
      "V6J 1A3\n",
      "problem with zone V6J 1A3\n",
      "V7J 2K7\n",
      "problem with zone V7J 2K7\n",
      "V6B 1T3\n",
      "problem with zone V6B 1T3\n",
      "V6A 3Y9\n",
      "problem with zone V6A 3Y9\n",
      "V6Z 1X6\n",
      "problem with zone V6Z 1X6\n",
      "V5W 2L8\n",
      "problem with zone V5W 2L8\n",
      "V6R 2R1\n",
      "problem with zone V6R 2R1\n",
      "V6A 0A7\n",
      "problem with zone V6A 0A7\n",
      "V6E 1B0\n",
      "problem with zone V6E 1B0\n",
      "V6P 3M4\n",
      "problem with zone V6P 3M4\n",
      "V5N 1X6\n",
      "problem with zone V5N 1X6\n",
      "V6B 2L3\n",
      "problem with zone V6B 2L3\n",
      "V6A 2H2\n",
      "problem with zone V6A 2H2\n",
      "V6B 1V4\n",
      "problem with zone V6B 1V4\n",
      "V5V 2T3\n",
      "problem with zone V5V 2T3\n",
      "V3M 1R2\n",
      "problem with zone V3M 1R2\n",
      "V6Z 2H2\n",
      "problem with zone V6Z 2H2\n",
      "V5L 2E3\n",
      "problem with zone V5L 2E3\n",
      "V5M 4T5\n",
      "problem with zone V5M 4T5\n",
      "V6Z 2X7\n",
      "problem with zone V6Z 2X7\n",
      "V6A 1Z3\n",
      "49.2787065 -123.0802639\n",
      "V5N 3S5\n",
      "problem with zone V5N 3S5\n",
      "V7J\n",
      "49.307039 -123.0413649\n",
      "V6M 2X2\n",
      "problem with zone V6M 2X2\n",
      "V6S 0A6\n",
      "problem with zone V6S 0A6\n",
      "V5L 1G8\n",
      "problem with zone V5L 1G8\n",
      "V6K 2X8\n",
      "problem with zone V6K 2X8\n",
      "V1M 2R6\n",
      "problem with zone V1M 2R6\n",
      "V6A 1G1\n",
      "problem with zone V6A 1G1\n",
      "V5L 1Y3\n",
      "problem with zone V5L 1Y3\n",
      "V5L 1L5\n",
      "problem with zone V5L 1L5\n",
      "V6M 1P8\n",
      "49.23705469999999 -123.1314889\n",
      "V6A 1S2\n",
      "problem with zone V6A 1S2\n",
      "V7M 2K3\n",
      "problem with zone V7M 2K3\n",
      "V5L 2K8\n",
      "problem with zone V5L 2K8\n",
      "V6R 3S5\n",
      "problem with zone V6R 3S5\n",
      "V5L 4N8\n",
      "problem with zone V5L 4N8\n",
      "V6E 1V8\n",
      "problem with zone V6E 1V8\n",
      "V6B 2R7\n",
      "problem with zone V6B 2R7\n",
      "V6M 3A5\n",
      "problem with zone V6M 3A5\n",
      "V5L 4E5\n",
      "problem with zone V5L 4E5\n",
      "V6B 6R5\n",
      "problem with zone V6B 6R5\n",
      "V5Z 4K6\n",
      "problem with zone V5Z 4K6\n",
      "V7P\n",
      "49.3237588 -123.0982218\n",
      "V3N 3H7\n",
      "problem with zone V3N 3H7\n",
      "V6J 1R1\n",
      "problem with zone V6J 1R1\n",
      "V5N 3Z8\n",
      "problem with zone V5N 3Z8\n",
      "V3L 2W6\n",
      "problem with zone V3L 2W6\n",
      "V5Z 0A2\n",
      "problem with zone V5Z 0A2\n",
      "V7L 2J2\n",
      "problem with zone V7L 2J2\n",
      "V6J 3X2\n",
      "problem with zone V6J 3X2\n",
      "V3M 1C4\n",
      "problem with zone V3M 1C4\n",
      "V7H 1A8\n",
      "problem with zone V7H 1A8\n",
      "V5Y 4B6\n",
      "problem with zone V5Y 4B6\n",
      "V3L 5P5\n",
      "problem with zone V3L 5P5\n",
      "V6A 1K7\n",
      "problem with zone V6A 1K7\n",
      "V5N 1X7\n",
      "problem with zone V5N 1X7\n",
      "V5T 3K5\n",
      "49.2573626 -123.0905485\n",
      "V6B 2X1\n",
      "problem with zone V6B 2X1\n",
      "V5L\n",
      "49.287259 -123.0614253\n",
      "V5M 0C4\n",
      "problem with zone V5M 0C4\n",
      "V6J 2L7\n",
      "problem with zone V6J 2L7\n",
      "V6Z 2N2\n",
      "problem with zone V6Z 2N2\n",
      "V6K 2G8\n",
      "problem with zone V6K 2G8\n",
      "V5K 4H6\n",
      "problem with zone V5K 4H6\n",
      "V6Z 2B7\n",
      "problem with zone V6Z 2B7\n",
      "V7R 4P6\n",
      "problem with zone V7R 4P6\n",
      "V6R 1V9\n",
      "problem with zone V6R 1V9\n",
      "V6Z 2C7\n",
      "problem with zone V6Z 2C7\n",
      "V5Y 4B7\n",
      "problem with zone V5Y 4B7\n",
      "V5Y 0B8\n",
      "problem with zone V5Y 0B8\n",
      "V5N 2T6\n",
      "49.24342830000001 -123.0607594\n",
      "V5L 3T4\n",
      "problem with zone V5L 3T4\n",
      "V7M 2Y4\n",
      "49.3239753 -123.0837488\n",
      "V6A 1E1\n",
      "problem with zone V6A 1E1\n",
      "V6A 3S7\n",
      "problem with zone V6A 3S7\n",
      "V7J 1H2\n",
      "problem with zone V7J 1H2\n",
      "V6M 1X1\n",
      "problem with zone V6M 1X1\n",
      "V6A 3A3\n",
      "problem with zone V6A 3A3\n",
      "V6K 2G3\n",
      "problem with zone V6K 2G3\n",
      "V6B 3K4\n",
      "problem with zone V6B 3K4\n",
      "V6A\n",
      "49.2815044 -123.0922622\n",
      "V5S\n",
      "49.2279388 -123.0575954\n",
      "V6J 2B8\n",
      "problem with zone V6J 2B8\n",
      "V6E 4M8\n",
      "problem with zone V6E 4M8\n",
      "V5Y\n",
      "49.2694492 -123.1068107\n",
      "V6K 1A1\n",
      "problem with zone V6K 1A1\n",
      "V5W\n",
      "49.2382917 -123.0995778\n",
      "V6P 6Y5\n",
      "problem with zone V6P 6Y5\n",
      "V6S 2E1\n",
      "problem with zone V6S 2E1\n",
      "V6G 1X5\n",
      "problem with zone V6G 1X5\n",
      "V6A 1M9\n",
      "problem with zone V6A 1M9\n",
      "V6B 5X5\n",
      "problem with zone V6B 5X5\n",
      "V6B 1C6\n",
      "problem with zone V6B 1C6\n",
      "V6Z 1M1\n",
      "problem with zone V6Z 1M1\n",
      "V6E 1N2\n",
      "problem with zone V6E 1N2\n",
      "V6J 4A1\n",
      "problem with zone V6J 4A1\n",
      "V5N 1S2\n",
      "problem with zone V5N 1S2\n",
      "V3L 0E7\n",
      "problem with zone V3L 0E7\n",
      "V5Z 2M9\n",
      "problem with zone V5Z 2M9\n",
      "V6A 2M9\n",
      "problem with zone V6A 2M9\n",
      "V5T 1S1\n",
      "problem with zone V5T 1S1\n",
      "V6Z 2T9\n",
      "problem with zone V6Z 2T9\n",
      "V5V 3P3\n",
      "problem with zone V5V 3P3\n",
      "V5R 6G8\n",
      "problem with zone V5R 6G8\n",
      "V7Y\n",
      "49.2832353 -123.1177638\n",
      "V7M 1B3\n",
      "problem with zone V7M 1B3\n",
      "V5R 5L7\n",
      "problem with zone V5R 5L7\n",
      "V3L 0E3\n",
      "problem with zone V3L 0E3\n",
      "V7L 1L1\n",
      "problem with zone V7L 1L1\n",
      "V5N 3T2\n",
      "problem with zone V5N 3T2\n"
     ]
    },
    {
     "name": "stdout",
     "output_type": "stream",
     "text": [
      "V5T 2K4\n",
      "problem with zone V5T 2K4\n",
      "V6A 1E9\n",
      "problem with zone V6A 1E9\n",
      "V6H 2K5\n",
      "problem with zone V6H 2K5\n",
      "V7M 2K1\n",
      "problem with zone V7M 2K1\n",
      "V6E 1V1\n",
      "49.2787634 -123.1360312\n",
      "V5Y 2Z6\n",
      "problem with zone V5Y 2Z6\n",
      "V6E 1B5\n",
      "problem with zone V6E 1B5\n",
      "V5R 5G9\n",
      "problem with zone V5R 5G9\n",
      "V6B 3P3\n",
      "problem with zone V6B 3P3\n",
      "V5Z 2G9\n",
      "problem with zone V5Z 2G9\n",
      "V6B 5A7\n",
      "problem with zone V6B 5A7\n",
      "V7N 1X1\n",
      "problem with zone V7N 1X1\n",
      "V6M 2V5\n",
      "problem with zone V6M 2V5\n",
      "V6E 1J7\n",
      "problem with zone V6E 1J7\n",
      "V6B 1E1\n",
      "problem with zone V6B 1E1\n",
      "V5G 4J3\n",
      "problem with zone V5G 4J3\n",
      "V6Z\n",
      "49.2755926 -123.1293344\n",
      "V5N 4L1\n",
      "problem with zone V5N 4L1\n",
      "V6B 3L9\n",
      "problem with zone V6B 3L9\n",
      "V6C 1T2\n",
      "problem with zone V6C 1T2\n",
      "V5R\n",
      "49.2495001 -123.048236\n",
      "V6E 1N4\n",
      "problem with zone V6E 1N4\n",
      "V5R 3Z5\n",
      "49.2370448 -123.0428101\n",
      "V6R 4K5\n",
      "problem with zone V6R 4K5\n",
      "V3L 2K1\n",
      "problem with zone V3L 2K1\n",
      "V5Y 1H4\n",
      "problem with zone V5Y 1H4\n",
      "V5L 1S3\n",
      "problem with zone V5L 1S3\n",
      "V7B 0A1\n",
      "problem with zone V7B 0A1\n",
      "V6A 4H6\n",
      "problem with zone V6A 4H6\n",
      "V5G 4L7\n",
      "problem with zone V5G 4L7\n",
      "V6M 2W7\n",
      "problem with zone V6M 2W7\n",
      "V6C 1V5\n",
      "problem with zone V6C 1V5\n",
      "V5M 4P3\n",
      "problem with zone V5M 4P3\n",
      "V6A 1X9\n",
      "problem with zone V6A 1X9\n",
      "V3M 3K3\n",
      "problem with zone V3M 3K3\n",
      "V5T 4C2\n",
      "problem with zone V5T 4C2\n",
      "V6C 1S4\n",
      "problem with zone V6C 1S4\n",
      "V6E 3P3\n",
      "problem with zone V6E 3P3\n",
      "V5T\n",
      "49.26619119999999 -123.0882315\n",
      "V5Y 4B1\n",
      "problem with zone V5Y 4B1\n",
      "V5G 4M9\n",
      "problem with zone V5G 4M9\n",
      "V3M 4H4\n",
      "problem with zone V3M 4H4\n",
      "V6A 1P6\n",
      "problem with zone V6A 1P6\n",
      "V6G 2J7\n",
      "problem with zone V6G 2J7\n",
      "V6B 1R3\n",
      "problem with zone V6B 1R3\n",
      "V5V 3A4\n",
      "problem with zone V5V 3A4\n",
      "V5N 5E5\n",
      "problem with zone V5N 5E5\n",
      "V6G\n",
      "49.2885483 -123.1332516\n",
      "V6B 0J9\n",
      "problem with zone V6B 0J9\n",
      "V6A 1X3\n",
      "problem with zone V6A 1X3\n",
      "V6R 3W6\n",
      "problem with zone V6R 3W6\n",
      "V6A 2S5\n",
      "problem with zone V6A 2S5\n",
      "V7L 2T3\n",
      "problem with zone V7L 2T3\n",
      "V5T 2G1\n",
      "problem with zone V5T 2G1\n",
      "V6L 2H8\n",
      "problem with zone V6L 2H8\n",
      "V5Z 3M9\n",
      "problem with zone V5Z 3M9\n",
      "V5K 1B5\n",
      "problem with zone V5K 1B5\n",
      "V5R 5G8\n",
      "problem with zone V5R 5G8\n",
      "V6N 4G1\n",
      "problem with zone V6N 4G1\n",
      "V3J 3Z9\n",
      "problem with zone V3J 3Z9\n",
      "V6E 2E9\n",
      "problem with zone V6E 2E9\n",
      "V5Y 1G9\n",
      "problem with zone V5Y 1G9\n",
      "V6G 2W3\n",
      "problem with zone V6G 2W3\n",
      "V6K 3G6\n",
      "problem with zone V6K 3G6\n",
      "V6K 4T4\n",
      "problem with zone V6K 4T4\n",
      "V5Z 2L7\n",
      "problem with zone V5Z 2L7\n",
      "V6A 3X2\n",
      "problem with zone V6A 3X2\n",
      "V5N 1W3\n",
      "problem with zone V5N 1W3\n",
      "V6B 3A7\n",
      "problem with zone V6B 3A7\n",
      "V3L 1B9\n",
      "problem with zone V3L 1B9\n",
      "V6H 1R3\n",
      "problem with zone V6H 1R3\n",
      "V6G 1Y7\n",
      "49.28405979999999 -123.1419258\n",
      "V6A 1T3\n",
      "problem with zone V6A 1T3\n",
      "V5Y 1B8\n",
      "problem with zone V5Y 1B8\n",
      "V5L 5C3\n",
      "problem with zone V5L 5C3\n",
      "V6B 2Z5\n",
      "problem with zone V6B 2Z5\n",
      "V6A 3G1\n",
      "problem with zone V6A 3G1\n",
      "V6E3W1\n",
      "problem with zone V6E3W1\n",
      "V5G 4X7\n",
      "problem with zone V5G 4X7\n",
      "V5T 4R8\n",
      "problem with zone V5T 4R8\n",
      "V6M 1V5\n",
      "problem with zone V6M 1V5\n",
      "V6B 1H4\n",
      "problem with zone V6B 1H4\n",
      "V5K\n",
      "49.28635389999999 -123.0288899\n",
      "V7M 3N2\n",
      "problem with zone V7M 3N2\n",
      "V6M 4J6\n",
      "49.2370674 -123.1304866\n",
      "V6E 1M5\n",
      "problem with zone V6E 1M5\n",
      "V5M 1Z6\n",
      "problem with zone V5M 1Z6\n",
      "V5K 3K3\n",
      "problem with zone V5K 3K3\n",
      "V6M 2Z2\n",
      "problem with zone V6M 2Z2\n",
      "V6Z 2K8\n",
      "problem with zone V6Z 2K8\n",
      "V6K 2M4\n",
      "problem with zone V6K 2M4\n",
      "V5Y 1P3\n",
      "problem with zone V5Y 1P3\n",
      "V6C 3A8\n",
      "problem with zone V6C 3A8\n",
      "V5W 2A2\n",
      "problem with zone V5W 2A2\n",
      "V3L 1K3\n",
      "problem with zone V3L 1K3\n",
      "V6Z 2X4\n",
      "problem with zone V6Z 2X4\n",
      "V5T 2C3\n",
      "problem with zone V5T 2C3\n",
      "V5N 4Z2\n",
      "problem with zone V5N 4Z2\n",
      "V6E 2P4\n",
      "problem with zone V6E 2P4\n",
      "V5P 1E4\n",
      "problem with zone V5P 1E4\n",
      "V5M 2Z2\n",
      "problem with zone V5M 2Z2\n",
      "V3L 3B2\n",
      "problem with zone V3L 3B2\n",
      "V5R 5K6\n",
      "49.2333228 -123.03369\n",
      "V3M 3N7\n",
      "problem with zone V3M 3N7\n",
      "V6B 5P2\n",
      "problem with zone V6B 5P2\n",
      "V6B 1X4\n",
      "problem with zone V6B 1X4\n",
      "V6B 6N7\n",
      "problem with zone V6B 6N7\n",
      "V5N 4V1\n",
      "problem with zone V5N 4V1\n",
      "V6H 1L6\n",
      "problem with zone V6H 1L6\n",
      "V6E 1C2\n",
      "problem with zone V6E 1C2\n",
      "V6J 3H1\n",
      "problem with zone V6J 3H1\n",
      "V6M 2P7\n",
      "problem with zone V6M 2P7\n",
      "V6S 0B5\n",
      "problem with zone V6S 0B5\n",
      "V7Y 1E8\n",
      "problem with zone V7Y 1E8\n",
      "V6A 2Z9\n",
      "problem with zone V6A 2Z9\n",
      "V5X 4C5\n",
      "problem with zone V5X 4C5\n",
      "V5R 2T3\n",
      "problem with zone V5R 2T3\n",
      "V6E 3T3\n",
      "problem with zone V6E 3T3\n",
      "V6E 1B2\n",
      "problem with zone V6E 1B2\n",
      "V6A 1P1\n",
      "problem with zone V6A 1P1\n",
      "V6A 2V8\n",
      "problem with zone V6A 2V8\n",
      "V6B 5J3\n",
      "problem with zone V6B 5J3\n",
      "V5W 1P3\n",
      "problem with zone V5W 1P3\n",
      "V5L 3X2\n",
      "49.2745208 -123.0692635\n",
      "V6A2V7\n",
      "problem with zone V6A2V7\n",
      "V5Y 1B3\n",
      "problem with zone V5Y 1B3\n",
      "V6A 4C7\n",
      "problem with zone V6A 4C7\n",
      "V5R 6H5\n",
      "problem with zone V5R 6H5\n",
      "V5L 2P7\n",
      "problem with zone V5L 2P7\n",
      "V6B 1T5\n",
      "problem with zone V6B 1T5\n",
      "V6T\n",
      "49.2685678 -123.2178896\n",
      "V5T 1W9\n",
      "problem with zone V5T 1W9\n",
      "V5M 2E9\n",
      "problem with zone V5M 2E9\n",
      "V5L 1V3\n",
      "problem with zone V5L 1V3\n",
      "V6H 1L3\n",
      "problem with zone V6H 1L3\n",
      "V6B 1G6\n",
      "problem with zone V6B 1G6\n",
      "V6A 2W5\n",
      "problem with zone V6A 2W5\n",
      "V5K 1Y8\n",
      "problem with zone V5K 1Y8\n",
      "V6A 3L8\n",
      "problem with zone V6A 3L8\n",
      "V6B 1H7\n",
      "problem with zone V6B 1H7\n",
      "V7X\n",
      "problem with zone V7X\n",
      "V6A 2W1\n",
      "problem with zone V6A 2W1\n",
      "V3L 3A9\n",
      "problem with zone V3L 3A9\n",
      "V5P 3W5\n",
      "problem with zone V5P 3W5\n",
      "V5X\n",
      "49.2154902 -123.1138536\n",
      "V5L 3K9\n",
      "49.2720496 -123.0777653\n",
      "V6C 2R7\n",
      "problem with zone V6C 2R7\n",
      "V6J 1X6\n",
      "problem with zone V6J 1X6\n",
      "V3L 3X1\n",
      "problem with zone V3L 3X1\n",
      "V6M 2W9\n",
      "problem with zone V6M 2W9\n",
      "V5P 3Z7\n",
      "problem with zone V5P 3Z7\n",
      "V6H\n",
      "49.2658088 -123.1299151\n",
      "V6H 3S2\n",
      "problem with zone V6H 3S2\n",
      "V6L\n",
      "49.2561388 -123.1634375\n",
      "V3L 0H4\n",
      "problem with zone V3L 0H4\n",
      "V5T 4T6\n",
      "problem with zone V5T 4T6\n",
      "V5H 2B3\n",
      "problem with zone V5H 2B3\n",
      "V6H 3J7\n",
      "problem with zone V6H 3J7\n",
      "V6H 3P7\n",
      "problem with zone V6H 3P7\n",
      "V6M 1M1\n",
      "problem with zone V6M 1M1\n",
      "V6A 1R1\n",
      "problem with zone V6A 1R1\n",
      "V6H 3R9\n",
      "problem with zone V6H 3R9\n",
      "V6A 2E3\n",
      "problem with zone V6A 2E3\n",
      "V5Y 3J6\n",
      "problem with zone V5Y 3J6\n",
      "V3L 3X6\n",
      "problem with zone V3L 3X6\n",
      "V6K\n",
      "49.269879 -123.1635425\n",
      "V7L\n",
      "49.3065259 -123.0551161\n",
      "V6E 1Z3\n",
      "problem with zone V6E 1Z3\n",
      "V5R 0B2\n",
      "problem with zone V5R 0B2\n",
      "V5N 4L3\n",
      "problem with zone V5N 4L3\n",
      "V5V 4E6\n",
      "problem with zone V5V 4E6\n",
      "V6P 3T9\n",
      "problem with zone V6P 3T9\n",
      "V6N 2C4\n",
      "problem with zone V6N 2C4\n",
      "V5Y 3R4\n",
      "problem with zone V5Y 3R4\n",
      "V5Z 2L5\n",
      "problem with zone V5Z 2L5\n",
      "V6R 1B9\n",
      "problem with zone V6R 1B9\n",
      "V6K 1T2\n",
      "problem with zone V6K 1T2\n",
      "V6E 4S7\n",
      "problem with zone V6E 4S7\n",
      "V3L 1A9\n",
      "problem with zone V3L 1A9\n",
      "V6J\n",
      "49.2750332 -123.1486865\n",
      "V6B 1C5\n",
      "problem with zone V6B 1C5\n",
      "V6A 1R2\n",
      "problem with zone V6A 1R2\n",
      "V6H 1J4\n",
      "problem with zone V6H 1J4\n",
      "V6E 1T7\n",
      "49.2771176 -123.1358988\n",
      "V6B 2Z4\n",
      "problem with zone V6B 2Z4\n",
      "V6H 4A7\n",
      "problem with zone V6H 4A7\n",
      "V3L 1G2\n",
      "problem with zone V3L 1G2\n",
      "V5R 6G4\n",
      "problem with zone V5R 6G4\n",
      "V5L 1H3\n",
      "problem with zone V5L 1H3\n",
      "V2J 3A9\n",
      "problem with zone V2J 3A9\n",
      "V6C\n",
      "49.2854069 -123.1187459\n",
      "V5L 1K5\n",
      "problem with zone V5L 1K5\n",
      "V7M 3K2\n",
      "problem with zone V7M 3K2\n",
      "V5X 0C4\n",
      "problem with zone V5X 0C4\n",
      "V6H 1T7\n",
      "problem with zone V6H 1T7\n",
      "V6Z 3B4\n",
      "problem with zone V6Z 3B4\n",
      "V5Y 2H5\n",
      "problem with zone V5Y 2H5\n",
      "V3M 6B9\n",
      "problem with zone V3M 6B9\n",
      "V5R 5L1\n",
      "problem with zone V5R 5L1\n",
      "V3L 5S3\n",
      "problem with zone V3L 5S3\n",
      "V6E 1Z6\n",
      "problem with zone V6E 1Z6\n",
      "V6B 2M8\n",
      "problem with zone V6B 2M8\n",
      "V5R 5L4\n",
      "problem with zone V5R 5L4\n",
      "V5N 2B7\n",
      "problem with zone V5N 2B7\n",
      "V5M 3E4\n",
      "problem with zone V5M 3E4\n",
      "V6E 1G7\n",
      "problem with zone V6E 1G7\n",
      "V5M 4C1\n",
      "49.2558695 -123.0284308\n",
      "V5T 1C7\n",
      "problem with zone V5T 1C7\n",
      "V6H 3S3\n",
      "problem with zone V6H 3S3\n",
      "V3M 5Z5\n",
      "problem with zone V3M 5Z5\n",
      "V5Y 3H4\n",
      "problem with zone V5Y 3H4\n",
      "V6A 1X5\n",
      "problem with zone V6A 1X5\n",
      "V6B 0J4\n",
      "problem with zone V6B 0J4\n",
      "V5N 4K1\n",
      "problem with zone V5N 4K1\n",
      "V7Y 1G5\n",
      "problem with zone V7Y 1G5\n",
      "V5T 1X4\n",
      "49.2627093 -123.092422\n",
      "V6A 2V7\n",
      "49.2778106 -123.0993132\n",
      "V7P 1S2\n",
      "problem with zone V7P 1S2\n",
      "V6J 2C2\n",
      "problem with zone V6J 2C2\n",
      "V6A 1G2\n",
      "problem with zone V6A 1G2\n",
      "V3M 2S7\n",
      "problem with zone V3M 2S7\n",
      "V6E 1Z7\n",
      "problem with zone V6E 1Z7\n",
      "V5Y 3X2\n",
      "problem with zone V5Y 3X2\n",
      "V5L 4E7\n",
      "problem with zone V5L 4E7\n",
      "V6B 1Y1\n",
      "problem with zone V6B 1Y1\n",
      "V6A 1B1\n",
      "problem with zone V6A 1B1\n",
      "V6G 2P7\n",
      "problem with zone V6G 2P7\n",
      "V6J 1M6\n",
      "problem with zone V6J 1M6\n",
      "V5K 1Z3\n",
      "problem with zone V5K 1Z3\n",
      "V3M 4G9\n",
      "problem with zone V3M 4G9\n",
      "V6E 1N1\n",
      "problem with zone V6E 1N1\n",
      "V5V\n",
      "49.2450856 -123.1016386\n",
      "V6H 1S5\n",
      "problem with zone V6H 1S5\n",
      "V6E 1L6\n",
      "49.28285409999999 -123.1332696\n",
      "V7L 4B3\n",
      "problem with zone V7L 4B3\n",
      "V6E 1T8\n",
      "problem with zone V6E 1T8\n",
      "V6A 2P3\n",
      "problem with zone V6A 2P3\n",
      "V6M\n",
      "49.2407644 -123.1362284\n",
      "V5L 2C4\n",
      "problem with zone V5L 2C4\n",
      "V3L 2G1\n",
      "problem with zone V3L 2G1\n",
      "V6S 0A3\n",
      "problem with zone V6S 0A3\n",
      "V3N 3N4\n",
      "49.21947170000001 -122.9284603\n",
      "V5S 4B3\n",
      "problem with zone V5S 4B3\n",
      "V3M 0J2\n",
      "problem with zone V3M 0J2\n",
      "V6J 3H6\n",
      "problem with zone V6J 3H6\n"
     ]
    },
    {
     "name": "stdout",
     "output_type": "stream",
     "text": [
      "V6Z 2M4\n",
      "problem with zone V6Z 2M4\n",
      "V5L 2W2\n",
      "problem with zone V5L 2W2\n",
      "V5T 3K4\n",
      "problem with zone V5T 3K4\n",
      "V5N 1A9\n",
      "49.269823 -123.0684064\n",
      "V5K 4Z6\n",
      "problem with zone V5K 4Z6\n",
      "V5Z 3N2\n",
      "problem with zone V5Z 3N2\n",
      "V5V 5E9\n",
      "problem with zone V5V 5E9\n",
      "V5X 4K1\n",
      "problem with zone V5X 4K1\n",
      "V6A 1E3\n",
      "problem with zone V6A 1E3\n",
      "V3M 2M9\n",
      "problem with zone V3M 2M9\n"
     ]
    },
    {
     "data": {
      "text/plain": [
       "'{\"available\": {\"V6M 1X5\": {\"cars\": [10.0, 9.0, 5.0, 9.0, 3.0, 1.0, 1.0, 2.0, 3.0, 5.0, 15.0, 20.0, 21.0, 6.0, 10.0, 6.0, 7.0, 9.0, 7.0, 11.0, 12.0, 12.0, 11.0, 11.0]}, \"V5Y 3X2\": {\"cars\": [10.0, 9.0, 5.0, 9.0, 3.0, 1.0, 1.0, 2.0, 3.0, 5.0, 15.0, 20.0, 21.0, 6.0, 10.0, 6.0, 7.0, 9.0, 7.0, 11.0, 12.0, 12.0, 11.0, 11.0]}, \"V6M 1X1\": {\"cars\": [10.0, 9.0, 5.0, 9.0, 3.0, 1.0, 1.0, 2.0, 3.0, 5.0, 15.0, 20.0, 21.0, 6.0, 10.0, 6.0, 7.0, 9.0, 7.0, 11.0, 12.0, 12.0, 11.0, 11.0]}, \"V3M 3N7\": {\"cars\": [10.0, 9.0, 5.0, 9.0, 3.0, 1.0, 1.0, 2.0, 3.0, 5.0, 15.0, 20.0, 21.0, 6.0, 10.0, 6.0, 7.0, 9.0, 7.0, 11.0, 12.0, 12.0, 11.0, 11.0]}, \"V6A 3K1\": {\"cars\": [10.0, 9.0, 5.0, 9.0, 3.0, 1.0, 1.0, 2.0, 3.0, 5.0, 15.0, 20.0, 21.0, 6.0, 10.0, 6.0, 7.0, 9.0, 7.0, 11.0, 12.0, 12.0, 11.0, 11.0]}, \"V6C 1S4\": {\"cars\": [10.0, 9.0, 5.0, 9.0, 3.0, 1.0, 1.0, 2.0, 3.0, 5.0, 15.0, 20.0, 21.0, 6.0, 10.0, 6.0, 7.0, 9.0, 7.0, 11.0, 12.0, 12.0, 11.0, 11.0]}, \"V6G 3B1\": {\"cars\": [10.0, 9.0, 5.0, 9.0, 3.0, 1.0, 1.0, 2.0, 3.0, 5.0, 15.0, 20.0, 21.0, 6.0, 10.0, 6.0, 7.0, 9.0, 7.0, 11.0, 12.0, 12.0, 11.0, 11.0]}, \"V6G 2J7\": {\"cars\": [10.0, 9.0, 5.0, 9.0, 3.0, 1.0, 1.0, 2.0, 3.0, 5.0, 15.0, 20.0, 21.0, 6.0, 10.0, 6.0, 7.0, 9.0, 7.0, 11.0, 12.0, 12.0, 11.0, 11.0]}, \"V7L\": {\"lat_long\": [49.3065259, -123.0551161], \"cars\": [10.0, 9.0, 5.0, 9.0, 3.0, 1.0, 1.0, 2.0, 3.0, 5.0, 15.0, 20.0, 21.0, 6.0, 10.0, 6.0, 7.0, 9.0, 7.0, 11.0, 12.0, 12.0, 11.0, 11.0]}, \"V5G 4L7\": {\"cars\": [10.0, 9.0, 5.0, 9.0, 3.0, 1.0, 1.0, 2.0, 3.0, 5.0, 15.0, 20.0, 21.0, 6.0, 10.0, 6.0, 7.0, 9.0, 7.0, 11.0, 12.0, 12.0, 11.0, 11.0]}, \"V6A 1M9\": {\"cars\": [10.0, 9.0, 5.0, 9.0, 3.0, 1.0, 1.0, 2.0, 3.0, 5.0, 15.0, 20.0, 21.0, 6.0, 10.0, 6.0, 7.0, 9.0, 7.0, 11.0, 12.0, 12.0, 11.0, 11.0]}, \"V6H 1J4\": {\"cars\": [10.0, 9.0, 5.0, 9.0, 3.0, 1.0, 1.0, 2.0, 3.0, 5.0, 15.0, 20.0, 21.0, 6.0, 10.0, 6.0, 7.0, 9.0, 7.0, 11.0, 12.0, 12.0, 11.0, 11.0]}, \"V3L 5S3\": {\"cars\": [10.0, 9.0, 5.0, 9.0, 3.0, 1.0, 1.0, 2.0, 3.0, 5.0, 15.0, 20.0, 21.0, 6.0, 10.0, 6.0, 7.0, 9.0, 7.0, 11.0, 12.0, 12.0, 11.0, 11.0]}, \"V6B 4M3\": {\"cars\": [10.0, 9.0, 5.0, 9.0, 3.0, 1.0, 1.0, 2.0, 3.0, 5.0, 15.0, 20.0, 21.0, 6.0, 10.0, 6.0, 7.0, 9.0, 7.0, 11.0, 12.0, 12.0, 11.0, 11.0]}, \"V7B 1C7\": {\"cars\": [10.0, 9.0, 5.0, 9.0, 3.0, 1.0, 1.0, 2.0, 3.0, 5.0, 15.0, 20.0, 21.0, 6.0, 10.0, 6.0, 7.0, 9.0, 7.0, 11.0, 12.0, 12.0, 11.0, 11.0]}, \"V5P 3Z7\": {\"cars\": [10.0, 9.0, 5.0, 9.0, 3.0, 1.0, 1.0, 2.0, 3.0, 5.0, 15.0, 20.0, 21.0, 6.0, 10.0, 6.0, 7.0, 9.0, 7.0, 11.0, 12.0, 12.0, 11.0, 11.0]}, \"V6B 1C5\": {\"cars\": [10.0, 9.0, 5.0, 9.0, 3.0, 1.0, 1.0, 2.0, 3.0, 5.0, 15.0, 20.0, 21.0, 6.0, 10.0, 6.0, 7.0, 9.0, 7.0, 11.0, 12.0, 12.0, 11.0, 11.0]}, \"V6B 2M8\": {\"cars\": [10.0, 9.0, 5.0, 9.0, 3.0, 1.0, 1.0, 2.0, 3.0, 5.0, 15.0, 20.0, 21.0, 6.0, 10.0, 6.0, 7.0, 9.0, 7.0, 11.0, 12.0, 12.0, 11.0, 11.0]}, \"V6A 3S7\": {\"cars\": [10.0, 9.0, 5.0, 9.0, 3.0, 1.0, 1.0, 2.0, 3.0, 5.0, 15.0, 20.0, 21.0, 6.0, 10.0, 6.0, 7.0, 9.0, 7.0, 11.0, 12.0, 12.0, 11.0, 11.0]}, \"V3L4C9\": {\"cars\": [10.0, 9.0, 5.0, 9.0, 3.0, 1.0, 1.0, 2.0, 3.0, 5.0, 15.0, 20.0, 21.0, 6.0, 10.0, 6.0, 7.0, 9.0, 7.0, 11.0, 12.0, 12.0, 11.0, 11.0]}, \"V3N 3N4\": {\"lat_long\": [49.21947170000001, -122.9284603], \"cars\": [10.0, 9.0, 5.0, 9.0, 3.0, 1.0, 1.0, 2.0, 3.0, 5.0, 15.0, 20.0, 21.0, 6.0, 10.0, 6.0, 7.0, 9.0, 7.0, 11.0, 12.0, 12.0, 11.0, 11.0]}, \"V7L 1A4\": {\"cars\": [10.0, 9.0, 5.0, 9.0, 3.0, 1.0, 1.0, 2.0, 3.0, 5.0, 15.0, 20.0, 21.0, 6.0, 10.0, 6.0, 7.0, 9.0, 7.0, 11.0, 12.0, 12.0, 11.0, 11.0]}, \"V3L 1B9\": {\"cars\": [10.0, 9.0, 5.0, 9.0, 3.0, 1.0, 1.0, 2.0, 3.0, 5.0, 15.0, 20.0, 21.0, 6.0, 10.0, 6.0, 7.0, 9.0, 7.0, 11.0, 12.0, 12.0, 11.0, 11.0]}, \"V6H 3S3\": {\"cars\": [10.0, 9.0, 5.0, 9.0, 3.0, 1.0, 1.0, 2.0, 3.0, 5.0, 15.0, 20.0, 21.0, 6.0, 10.0, 6.0, 7.0, 9.0, 7.0, 11.0, 12.0, 12.0, 11.0, 11.0]}, \"V3L 1A7\": {\"cars\": [10.0, 9.0, 5.0, 9.0, 3.0, 1.0, 1.0, 2.0, 3.0, 5.0, 15.0, 20.0, 21.0, 6.0, 10.0, 6.0, 7.0, 9.0, 7.0, 11.0, 12.0, 12.0, 11.0, 11.0]}, \"V7H 1A8\": {\"cars\": [10.0, 9.0, 5.0, 9.0, 3.0, 1.0, 1.0, 2.0, 3.0, 5.0, 15.0, 20.0, 21.0, 6.0, 10.0, 6.0, 7.0, 9.0, 7.0, 11.0, 12.0, 12.0, 11.0, 11.0]}, \"V5N 4L1\": {\"cars\": [10.0, 9.0, 5.0, 9.0, 3.0, 1.0, 1.0, 2.0, 3.0, 5.0, 15.0, 20.0, 21.0, 6.0, 10.0, 6.0, 7.0, 9.0, 7.0, 11.0, 12.0, 12.0, 11.0, 11.0]}, \"V5N 1X8\": {\"cars\": [10.0, 9.0, 5.0, 9.0, 3.0, 1.0, 1.0, 2.0, 3.0, 5.0, 15.0, 20.0, 21.0, 6.0, 10.0, 6.0, 7.0, 9.0, 7.0, 11.0, 12.0, 12.0, 11.0, 11.0]}, \"V5Y 3H4\": {\"cars\": [10.0, 9.0, 5.0, 9.0, 3.0, 1.0, 1.0, 2.0, 3.0, 5.0, 15.0, 20.0, 21.0, 6.0, 10.0, 6.0, 7.0, 9.0, 7.0, 11.0, 12.0, 12.0, 11.0, 11.0]}, \"V5L 2K8\": {\"cars\": [10.0, 9.0, 5.0, 9.0, 3.0, 1.0, 1.0, 2.0, 3.0, 5.0, 15.0, 20.0, 21.0, 6.0, 10.0, 6.0, 7.0, 9.0, 7.0, 11.0, 12.0, 12.0, 11.0, 11.0]}, \"V3C 2S9\": {\"cars\": [10.0, 9.0, 5.0, 9.0, 3.0, 1.0, 1.0, 2.0, 3.0, 5.0, 15.0, 20.0, 21.0, 6.0, 10.0, 6.0, 7.0, 9.0, 7.0, 11.0, 12.0, 12.0, 11.0, 11.0]}, \"V6B 6L2\": {\"cars\": [10.0, 9.0, 5.0, 9.0, 3.0, 1.0, 1.0, 2.0, 3.0, 5.0, 15.0, 20.0, 21.0, 6.0, 10.0, 6.0, 7.0, 9.0, 7.0, 11.0, 12.0, 12.0, 11.0, 11.0]}, \"V6K 2G8\": {\"cars\": [10.0, 9.0, 5.0, 9.0, 3.0, 1.0, 1.0, 2.0, 3.0, 5.0, 15.0, 20.0, 21.0, 6.0, 10.0, 6.0, 7.0, 9.0, 7.0, 11.0, 12.0, 12.0, 11.0, 11.0]}, \"V6A 2E3\": {\"cars\": [10.0, 9.0, 5.0, 9.0, 3.0, 1.0, 1.0, 2.0, 3.0, 5.0, 15.0, 20.0, 21.0, 6.0, 10.0, 6.0, 7.0, 9.0, 7.0, 11.0, 12.0, 12.0, 11.0, 11.0]}, \"V6E 2P4\": {\"cars\": [10.0, 9.0, 5.0, 9.0, 3.0, 1.0, 1.0, 2.0, 3.0, 5.0, 15.0, 20.0, 21.0, 6.0, 10.0, 6.0, 7.0, 9.0, 7.0, 11.0, 12.0, 12.0, 11.0, 11.0]}, \"V6B 1T3\": {\"cars\": [10.0, 9.0, 5.0, 9.0, 3.0, 1.0, 1.0, 2.0, 3.0, 5.0, 15.0, 20.0, 21.0, 6.0, 10.0, 6.0, 7.0, 9.0, 7.0, 11.0, 12.0, 12.0, 11.0, 11.0]}, \"V5R 3Z5\": {\"lat_long\": [49.2370448, -123.0428101], \"cars\": [10.0, 9.0, 5.0, 9.0, 3.0, 1.0, 1.0, 2.0, 3.0, 5.0, 15.0, 20.0, 21.0, 6.0, 10.0, 6.0, 7.0, 9.0, 7.0, 11.0, 12.0, 12.0, 11.0, 11.0]}, \"V3M 1K3\": {\"cars\": [10.0, 9.0, 5.0, 9.0, 3.0, 1.0, 1.0, 2.0, 3.0, 5.0, 15.0, 20.0, 21.0, 6.0, 10.0, 6.0, 7.0, 9.0, 7.0, 11.0, 12.0, 12.0, 11.0, 11.0]}, \"V7M 3K2\": {\"cars\": [10.0, 9.0, 5.0, 9.0, 3.0, 1.0, 1.0, 2.0, 3.0, 5.0, 15.0, 20.0, 21.0, 6.0, 10.0, 6.0, 7.0, 9.0, 7.0, 11.0, 12.0, 12.0, 11.0, 11.0]}, \"V5K 4H6\": {\"cars\": [10.0, 9.0, 5.0, 9.0, 3.0, 1.0, 1.0, 2.0, 3.0, 5.0, 15.0, 20.0, 21.0, 6.0, 10.0, 6.0, 7.0, 9.0, 7.0, 11.0, 12.0, 12.0, 11.0, 11.0]}, \"V6A 2M9\": {\"cars\": [10.0, 9.0, 5.0, 9.0, 3.0, 1.0, 1.0, 2.0, 3.0, 5.0, 15.0, 20.0, 21.0, 6.0, 10.0, 6.0, 7.0, 9.0, 7.0, 11.0, 12.0, 12.0, 11.0, 11.0]}, \"V6B 1E1\": {\"cars\": [10.0, 9.0, 5.0, 9.0, 3.0, 1.0, 1.0, 2.0, 3.0, 5.0, 15.0, 20.0, 21.0, 6.0, 10.0, 6.0, 7.0, 9.0, 7.0, 11.0, 12.0, 12.0, 11.0, 11.0]}, \"V6E 1C2\": {\"cars\": [10.0, 9.0, 5.0, 9.0, 3.0, 1.0, 1.0, 2.0, 3.0, 5.0, 15.0, 20.0, 21.0, 6.0, 10.0, 6.0, 7.0, 9.0, 7.0, 11.0, 12.0, 12.0, 11.0, 11.0]}, \"V5L 1V3\": {\"cars\": [10.0, 9.0, 5.0, 9.0, 3.0, 1.0, 1.0, 2.0, 3.0, 5.0, 15.0, 20.0, 21.0, 6.0, 10.0, 6.0, 7.0, 9.0, 7.0, 11.0, 12.0, 12.0, 11.0, 11.0]}, \"V6R\": {\"lat_long\": [49.2710022, -123.1848155], \"cars\": [10.0, 9.0, 5.0, 9.0, 3.0, 1.0, 1.0, 2.0, 3.0, 5.0, 15.0, 20.0, 21.0, 6.0, 10.0, 6.0, 7.0, 9.0, 7.0, 11.0, 12.0, 12.0, 11.0, 11.0]}, \"V5W 1P3\": {\"cars\": [10.0, 9.0, 5.0, 9.0, 3.0, 1.0, 1.0, 2.0, 3.0, 5.0, 15.0, 20.0, 21.0, 6.0, 10.0, 6.0, 7.0, 9.0, 7.0, 11.0, 12.0, 12.0, 11.0, 11.0]}, \"V6M 2V5\": {\"cars\": [10.0, 9.0, 5.0, 9.0, 3.0, 1.0, 1.0, 2.0, 3.0, 5.0, 15.0, 20.0, 21.0, 6.0, 10.0, 6.0, 7.0, 9.0, 7.0, 11.0, 12.0, 12.0, 11.0, 11.0]}, \"V5L 1Y3\": {\"cars\": [10.0, 9.0, 5.0, 9.0, 3.0, 1.0, 1.0, 2.0, 3.0, 5.0, 15.0, 20.0, 21.0, 6.0, 10.0, 6.0, 7.0, 9.0, 7.0, 11.0, 12.0, 12.0, 11.0, 11.0]}, \"V3L 1G2\": {\"cars\": [10.0, 9.0, 5.0, 9.0, 3.0, 1.0, 1.0, 2.0, 3.0, 5.0, 15.0, 20.0, 21.0, 6.0, 10.0, 6.0, 7.0, 9.0, 7.0, 11.0, 12.0, 12.0, 11.0, 11.0]}, \"V7M 2Y4\": {\"lat_long\": [49.3239753, -123.0837488], \"cars\": [10.0, 9.0, 5.0, 9.0, 3.0, 1.0, 1.0, 2.0, 3.0, 5.0, 15.0, 20.0, 21.0, 6.0, 10.0, 6.0, 7.0, 9.0, 7.0, 11.0, 12.0, 12.0, 11.0, 11.0]}, \"V5Y 1M8\": {\"cars\": [10.0, 9.0, 5.0, 9.0, 3.0, 1.0, 1.0, 2.0, 3.0, 5.0, 15.0, 20.0, 21.0, 6.0, 10.0, 6.0, 7.0, 9.0, 7.0, 11.0, 12.0, 12.0, 11.0, 11.0]}, \"V6B 2Z5\": {\"cars\": [10.0, 9.0, 5.0, 9.0, 3.0, 1.0, 1.0, 2.0, 3.0, 5.0, 15.0, 20.0, 21.0, 6.0, 10.0, 6.0, 7.0, 9.0, 7.0, 11.0, 12.0, 12.0, 11.0, 11.0]}, \"V5X 2S5\": {\"cars\": [10.0, 9.0, 5.0, 9.0, 3.0, 1.0, 1.0, 2.0, 3.0, 5.0, 15.0, 20.0, 21.0, 6.0, 10.0, 6.0, 7.0, 9.0, 7.0, 11.0, 12.0, 12.0, 11.0, 11.0]}, \"V5P 3W5\": {\"cars\": [10.0, 9.0, 5.0, 9.0, 3.0, 1.0, 1.0, 2.0, 3.0, 5.0, 15.0, 20.0, 21.0, 6.0, 10.0, 6.0, 7.0, 9.0, 7.0, 11.0, 12.0, 12.0, 11.0, 11.0]}, \"V5T 3K5\": {\"lat_long\": [49.2573626, -123.0905485], \"cars\": [10.0, 9.0, 5.0, 9.0, 3.0, 1.0, 1.0, 2.0, 3.0, 5.0, 15.0, 20.0, 21.0, 6.0, 10.0, 6.0, 7.0, 9.0, 7.0, 11.0, 12.0, 12.0, 11.0, 11.0]}, \"V3L 0H4\": {\"cars\": [10.0, 9.0, 5.0, 9.0, 3.0, 1.0, 1.0, 2.0, 3.0, 5.0, 15.0, 20.0, 21.0, 6.0, 10.0, 6.0, 7.0, 9.0, 7.0, 11.0, 12.0, 12.0, 11.0, 11.0]}, \"V6E 1Z3\": {\"cars\": [10.0, 9.0, 5.0, 9.0, 3.0, 1.0, 1.0, 2.0, 3.0, 5.0, 15.0, 20.0, 21.0, 6.0, 10.0, 6.0, 7.0, 9.0, 7.0, 11.0, 12.0, 12.0, 11.0, 11.0]}, \"V3L 4C9\": {\"cars\": [10.0, 9.0, 5.0, 9.0, 3.0, 1.0, 1.0, 2.0, 3.0, 5.0, 15.0, 20.0, 21.0, 6.0, 10.0, 6.0, 7.0, 9.0, 7.0, 11.0, 12.0, 12.0, 11.0, 11.0]}, \"V6B 1P2\": {\"cars\": [10.0, 9.0, 5.0, 9.0, 3.0, 1.0, 1.0, 2.0, 3.0, 5.0, 15.0, 20.0, 21.0, 6.0, 10.0, 6.0, 7.0, 9.0, 7.0, 11.0, 12.0, 12.0, 11.0, 11.0]}, \"V5Y 1H4\": {\"cars\": [10.0, 9.0, 5.0, 9.0, 3.0, 1.0, 1.0, 2.0, 3.0, 5.0, 15.0, 20.0, 21.0, 6.0, 10.0, 6.0, 7.0, 9.0, 7.0, 11.0, 12.0, 12.0, 11.0, 11.0]}, \"V6M 2W9\": {\"cars\": [10.0, 9.0, 5.0, 9.0, 3.0, 1.0, 1.0, 2.0, 3.0, 5.0, 15.0, 20.0, 21.0, 6.0, 10.0, 6.0, 7.0, 9.0, 7.0, 11.0, 12.0, 12.0, 11.0, 11.0]}, \"V6B 6R5\": {\"cars\": [10.0, 9.0, 5.0, 9.0, 3.0, 1.0, 1.0, 2.0, 3.0, 5.0, 15.0, 20.0, 21.0, 6.0, 10.0, 6.0, 7.0, 9.0, 7.0, 11.0, 12.0, 12.0, 11.0, 11.0]}, \"V6B 3L9\": {\"cars\": [10.0, 9.0, 5.0, 9.0, 3.0, 1.0, 1.0, 2.0, 3.0, 5.0, 15.0, 20.0, 21.0, 6.0, 10.0, 6.0, 7.0, 9.0, 7.0, 11.0, 12.0, 12.0, 11.0, 11.0]}, \"V6E 2E9\": {\"cars\": [10.0, 9.0, 5.0, 9.0, 3.0, 1.0, 1.0, 2.0, 3.0, 5.0, 15.0, 20.0, 21.0, 6.0, 10.0, 6.0, 7.0, 9.0, 7.0, 11.0, 12.0, 12.0, 11.0, 11.0]}, \"V5Z 3M9\": {\"cars\": [10.0, 9.0, 5.0, 9.0, 3.0, 1.0, 1.0, 2.0, 3.0, 5.0, 15.0, 20.0, 21.0, 6.0, 10.0, 6.0, 7.0, 9.0, 7.0, 11.0, 12.0, 12.0, 11.0, 11.0]}, \"V6A 1X5\": {\"cars\": [10.0, 9.0, 5.0, 9.0, 3.0, 1.0, 1.0, 2.0, 3.0, 5.0, 15.0, 20.0, 21.0, 6.0, 10.0, 6.0, 7.0, 9.0, 7.0, 11.0, 12.0, 12.0, 11.0, 11.0]}, \"V6C 1T2\": {\"cars\": [10.0, 9.0, 5.0, 9.0, 3.0, 1.0, 1.0, 2.0, 3.0, 5.0, 15.0, 20.0, 21.0, 6.0, 10.0, 6.0, 7.0, 9.0, 7.0, 11.0, 12.0, 12.0, 11.0, 11.0]}, \"V5M 2Z2\": {\"cars\": [10.0, 9.0, 5.0, 9.0, 3.0, 1.0, 1.0, 2.0, 3.0, 5.0, 15.0, 20.0, 21.0, 6.0, 10.0, 6.0, 7.0, 9.0, 7.0, 11.0, 12.0, 12.0, 11.0, 11.0]}, \"V6M 4J6\": {\"lat_long\": [49.2370674, -123.1304866], \"cars\": [10.0, 9.0, 5.0, 9.0, 3.0, 1.0, 1.0, 2.0, 3.0, 5.0, 15.0, 20.0, 21.0, 6.0, 10.0, 6.0, 7.0, 9.0, 7.0, 11.0, 12.0, 12.0, 11.0, 11.0]}, \"V6E 1G7\": {\"cars\": [10.0, 9.0, 5.0, 9.0, 3.0, 1.0, 1.0, 2.0, 3.0, 5.0, 15.0, 20.0, 21.0, 6.0, 10.0, 6.0, 7.0, 9.0, 7.0, 11.0, 12.0, 12.0, 11.0, 11.0]}, \"V7L 2J2\": {\"cars\": [10.0, 9.0, 5.0, 9.0, 3.0, 1.0, 1.0, 2.0, 3.0, 5.0, 15.0, 20.0, 21.0, 6.0, 10.0, 6.0, 7.0, 9.0, 7.0, 11.0, 12.0, 12.0, 11.0, 11.0]}, \"V5S 4B3\": {\"cars\": [10.0, 9.0, 5.0, 9.0, 3.0, 1.0, 1.0, 2.0, 3.0, 5.0, 15.0, 20.0, 21.0, 6.0, 10.0, 6.0, 7.0, 9.0, 7.0, 11.0, 12.0, 12.0, 11.0, 11.0]}, \"V7X\": {\"cars\": [10.0, 9.0, 5.0, 9.0, 3.0, 1.0, 1.0, 2.0, 3.0, 5.0, 15.0, 20.0, 21.0, 6.0, 10.0, 6.0, 7.0, 9.0, 7.0, 11.0, 12.0, 12.0, 11.0, 11.0]}, \"V5L 3X2\": {\"lat_long\": [49.2745208, -123.0692635], \"cars\": [10.0, 9.0, 5.0, 9.0, 3.0, 1.0, 1.0, 2.0, 3.0, 5.0, 15.0, 20.0, 21.0, 6.0, 10.0, 6.0, 7.0, 9.0, 7.0, 11.0, 12.0, 12.0, 11.0, 11.0]}, \"V3M 3K3\": {\"cars\": [10.0, 9.0, 5.0, 9.0, 3.0, 1.0, 1.0, 2.0, 3.0, 5.0, 15.0, 20.0, 21.0, 6.0, 10.0, 6.0, 7.0, 9.0, 7.0, 11.0, 12.0, 12.0, 11.0, 11.0]}, \"V5K 4Z6\": {\"cars\": [10.0, 9.0, 5.0, 9.0, 3.0, 1.0, 1.0, 2.0, 3.0, 5.0, 15.0, 20.0, 21.0, 6.0, 10.0, 6.0, 7.0, 9.0, 7.0, 11.0, 12.0, 12.0, 11.0, 11.0]}, \"V6J\": {\"lat_long\": [49.2750332, -123.1486865], \"cars\": [10.0, 9.0, 5.0, 9.0, 3.0, 1.0, 1.0, 2.0, 3.0, 5.0, 15.0, 20.0, 21.0, 6.0, 10.0, 6.0, 7.0, 9.0, 7.0, 11.0, 12.0, 12.0, 11.0, 11.0]}, \"V6E 1Z6\": {\"cars\": [10.0, 9.0, 5.0, 9.0, 3.0, 1.0, 1.0, 2.0, 3.0, 5.0, 15.0, 20.0, 21.0, 6.0, 10.0, 6.0, 7.0, 9.0, 7.0, 11.0, 12.0, 12.0, 11.0, 11.0]}, \"V6C 1V5\": {\"cars\": [10.0, 9.0, 5.0, 9.0, 3.0, 1.0, 1.0, 2.0, 3.0, 5.0, 15.0, 20.0, 21.0, 6.0, 10.0, 6.0, 7.0, 9.0, 7.0, 11.0, 12.0, 12.0, 11.0, 11.0]}, \"V6B 2Z4\": {\"cars\": [10.0, 9.0, 5.0, 9.0, 3.0, 1.0, 1.0, 2.0, 3.0, 5.0, 15.0, 20.0, 21.0, 6.0, 10.0, 6.0, 7.0, 9.0, 7.0, 11.0, 12.0, 12.0, 11.0, 11.0]}, \"V6A 1G2\": {\"cars\": [10.0, 9.0, 5.0, 9.0, 3.0, 1.0, 1.0, 2.0, 3.0, 5.0, 15.0, 20.0, 21.0, 6.0, 10.0, 6.0, 7.0, 9.0, 7.0, 11.0, 12.0, 12.0, 11.0, 11.0]}, \"V6B 2E2\": {\"cars\": [10.0, 9.0, 5.0, 9.0, 3.0, 1.0, 1.0, 2.0, 3.0, 5.0, 15.0, 20.0, 21.0, 6.0, 10.0, 6.0, 7.0, 9.0, 7.0, 11.0, 12.0, 12.0, 11.0, 11.0]}, \"V5N 1S2\": {\"cars\": [10.0, 9.0, 5.0, 9.0, 3.0, 1.0, 1.0, 2.0, 3.0, 5.0, 15.0, 20.0, 21.0, 6.0, 10.0, 6.0, 7.0, 9.0, 7.0, 11.0, 12.0, 12.0, 11.0, 11.0]}, \"V5M 4P3\": {\"cars\": [10.0, 9.0, 5.0, 9.0, 3.0, 1.0, 1.0, 2.0, 3.0, 5.0, 15.0, 20.0, 21.0, 6.0, 10.0, 6.0, 7.0, 9.0, 7.0, 11.0, 12.0, 12.0, 11.0, 11.0]}, \"V5P\": {\"lat_long\": [49.23866229999999, -123.0601234], \"cars\": [10.0, 9.0, 5.0, 9.0, 3.0, 1.0, 1.0, 2.0, 3.0, 5.0, 15.0, 20.0, 21.0, 6.0, 10.0, 6.0, 7.0, 9.0, 7.0, 11.0, 12.0, 12.0, 11.0, 11.0]}, \"V3M 4G9\": {\"cars\": [10.0, 9.0, 5.0, 9.0, 3.0, 1.0, 1.0, 2.0, 3.0, 5.0, 15.0, 20.0, 21.0, 6.0, 10.0, 6.0, 7.0, 9.0, 7.0, 11.0, 12.0, 12.0, 11.0, 11.0]}, \"V6H 1L3\": {\"cars\": [10.0, 9.0, 5.0, 9.0, 3.0, 1.0, 1.0, 2.0, 3.0, 5.0, 15.0, 20.0, 21.0, 6.0, 10.0, 6.0, 7.0, 9.0, 7.0, 11.0, 12.0, 12.0, 11.0, 11.0]}, \"V6E 1N2\": {\"cars\": [10.0, 9.0, 5.0, 9.0, 3.0, 1.0, 1.0, 2.0, 3.0, 5.0, 15.0, 20.0, 21.0, 6.0, 10.0, 6.0, 7.0, 9.0, 7.0, 11.0, 12.0, 12.0, 11.0, 11.0]}, \"V6E 1T8\": {\"cars\": [10.0, 9.0, 5.0, 9.0, 3.0, 1.0, 1.0, 2.0, 3.0, 5.0, 15.0, 20.0, 21.0, 6.0, 10.0, 6.0, 7.0, 9.0, 7.0, 11.0, 12.0, 12.0, 11.0, 11.0]}, \"V6B 2K9\": {\"cars\": [10.0, 9.0, 5.0, 9.0, 3.0, 1.0, 1.0, 2.0, 3.0, 5.0, 15.0, 20.0, 21.0, 6.0, 10.0, 6.0, 7.0, 9.0, 7.0, 11.0, 12.0, 12.0, 11.0, 11.0]}, \"V6A 1P1\": {\"cars\": [10.0, 9.0, 5.0, 9.0, 3.0, 1.0, 1.0, 2.0, 3.0, 5.0, 15.0, 20.0, 21.0, 6.0, 10.0, 6.0, 7.0, 9.0, 7.0, 11.0, 12.0, 12.0, 11.0, 11.0]}, \"V5Z 4K6\": {\"cars\": [10.0, 9.0, 5.0, 9.0, 3.0, 1.0, 1.0, 2.0, 3.0, 5.0, 15.0, 20.0, 21.0, 6.0, 10.0, 6.0, 7.0, 9.0, 7.0, 11.0, 12.0, 12.0, 11.0, 11.0]}, \"V5T 2K4\": {\"cars\": [10.0, 9.0, 5.0, 9.0, 3.0, 1.0, 1.0, 2.0, 3.0, 5.0, 15.0, 20.0, 21.0, 6.0, 10.0, 6.0, 7.0, 9.0, 7.0, 11.0, 12.0, 12.0, 11.0, 11.0]}, \"V5L 4T6\": {\"cars\": [10.0, 9.0, 5.0, 9.0, 3.0, 1.0, 1.0, 2.0, 3.0, 5.0, 15.0, 20.0, 21.0, 6.0, 10.0, 6.0, 7.0, 9.0, 7.0, 11.0, 12.0, 12.0, 11.0, 11.0]}, \"V5T 4T6\": {\"cars\": [10.0, 9.0, 5.0, 9.0, 3.0, 1.0, 1.0, 2.0, 3.0, 5.0, 15.0, 20.0, 21.0, 6.0, 10.0, 6.0, 7.0, 9.0, 7.0, 11.0, 12.0, 12.0, 11.0, 11.0]}, \"V6E 1Y4\": {\"cars\": [10.0, 9.0, 5.0, 9.0, 3.0, 1.0, 1.0, 2.0, 3.0, 5.0, 15.0, 20.0, 21.0, 6.0, 10.0, 6.0, 7.0, 9.0, 7.0, 11.0, 12.0, 12.0, 11.0, 11.0]}, \"V5Z 2G9\": {\"cars\": [10.0, 9.0, 5.0, 9.0, 3.0, 1.0, 1.0, 2.0, 3.0, 5.0, 15.0, 20.0, 21.0, 6.0, 10.0, 6.0, 7.0, 9.0, 7.0, 11.0, 12.0, 12.0, 11.0, 11.0]}, \"V5V 3E2\": {\"lat_long\": [49.2520943, -123.0790627], \"cars\": [10.0, 9.0, 5.0, 9.0, 3.0, 1.0, 1.0, 2.0, 3.0, 5.0, 15.0, 20.0, 21.0, 6.0, 10.0, 6.0, 7.0, 9.0, 7.0, 11.0, 12.0, 12.0, 11.0, 11.0]}, \"V5R 6G4\": {\"cars\": [10.0, 9.0, 5.0, 9.0, 3.0, 1.0, 1.0, 2.0, 3.0, 5.0, 15.0, 20.0, 21.0, 6.0, 10.0, 6.0, 7.0, 9.0, 7.0, 11.0, 12.0, 12.0, 11.0, 11.0]}, \"V6L\": {\"lat_long\": [49.2561388, -123.1634375], \"cars\": [10.0, 9.0, 5.0, 9.0, 3.0, 1.0, 1.0, 2.0, 3.0, 5.0, 15.0, 20.0, 21.0, 6.0, 10.0, 6.0, 7.0, 9.0, 7.0, 11.0, 12.0, 12.0, 11.0, 11.0]}, \"V6Z 2M4\": {\"cars\": [10.0, 9.0, 5.0, 9.0, 3.0, 1.0, 1.0, 2.0, 3.0, 5.0, 15.0, 20.0, 21.0, 6.0, 10.0, 6.0, 7.0, 9.0, 7.0, 11.0, 12.0, 12.0, 11.0, 11.0]}, \"V3L 1K3\": {\"cars\": [10.0, 9.0, 5.0, 9.0, 3.0, 1.0, 1.0, 2.0, 3.0, 5.0, 15.0, 20.0, 21.0, 6.0, 10.0, 6.0, 7.0, 9.0, 7.0, 11.0, 12.0, 12.0, 11.0, 11.0]}, \"V5Z\": {\"lat_long\": [49.2648452, -123.1251921], \"cars\": [10.0, 9.0, 5.0, 9.0, 3.0, 1.0, 1.0, 2.0, 3.0, 5.0, 15.0, 20.0, 21.0, 6.0, 10.0, 6.0, 7.0, 9.0, 7.0, 11.0, 12.0, 12.0, 11.0, 11.0]}, \"V5T 1X4\": {\"lat_long\": [49.2627093, -123.092422], \"cars\": [10.0, 9.0, 5.0, 9.0, 3.0, 1.0, 1.0, 2.0, 3.0, 5.0, 15.0, 20.0, 21.0, 6.0, 10.0, 6.0, 7.0, 9.0, 7.0, 11.0, 12.0, 12.0, 11.0, 11.0]}, \"V6B 5A7\": {\"cars\": [10.0, 9.0, 5.0, 9.0, 3.0, 1.0, 1.0, 2.0, 3.0, 5.0, 15.0, 20.0, 21.0, 6.0, 10.0, 6.0, 7.0, 9.0, 7.0, 11.0, 12.0, 12.0, 11.0, 11.0]}, \"V6K 1A1\": {\"cars\": [10.0, 9.0, 5.0, 9.0, 3.0, 1.0, 1.0, 2.0, 3.0, 5.0, 15.0, 20.0, 21.0, 6.0, 10.0, 6.0, 7.0, 9.0, 7.0, 11.0, 12.0, 12.0, 11.0, 11.0]}, \"V6J 2B8\": {\"cars\": [10.0, 9.0, 5.0, 9.0, 3.0, 1.0, 1.0, 2.0, 3.0, 5.0, 15.0, 20.0, 21.0, 6.0, 10.0, 6.0, 7.0, 9.0, 7.0, 11.0, 12.0, 12.0, 11.0, 11.0]}, \"V3M 1C4\": {\"cars\": [10.0, 9.0, 5.0, 9.0, 3.0, 1.0, 1.0, 2.0, 3.0, 5.0, 15.0, 20.0, 21.0, 6.0, 10.0, 6.0, 7.0, 9.0, 7.0, 11.0, 12.0, 12.0, 11.0, 11.0]}, \"V5L 5C3\": {\"cars\": [10.0, 9.0, 5.0, 9.0, 3.0, 1.0, 1.0, 2.0, 3.0, 5.0, 15.0, 20.0, 21.0, 6.0, 10.0, 6.0, 7.0, 9.0, 7.0, 11.0, 12.0, 12.0, 11.0, 11.0]}, \"V6A2V7\": {\"cars\": [10.0, 9.0, 5.0, 9.0, 3.0, 1.0, 1.0, 2.0, 3.0, 5.0, 15.0, 20.0, 21.0, 6.0, 10.0, 6.0, 7.0, 9.0, 7.0, 11.0, 12.0, 12.0, 11.0, 11.0]}, \"V5L 1N9\": {\"cars\": [10.0, 9.0, 5.0, 9.0, 3.0, 1.0, 1.0, 2.0, 3.0, 5.0, 15.0, 20.0, 21.0, 6.0, 10.0, 6.0, 7.0, 9.0, 7.0, 11.0, 12.0, 12.0, 11.0, 11.0]}, \"V5Y 2Z6\": {\"cars\": [10.0, 9.0, 5.0, 9.0, 3.0, 1.0, 1.0, 2.0, 3.0, 5.0, 15.0, 20.0, 21.0, 6.0, 10.0, 6.0, 7.0, 9.0, 7.0, 11.0, 12.0, 12.0, 11.0, 11.0]}, \"V3L 5B3\": {\"cars\": [10.0, 9.0, 5.0, 9.0, 3.0, 1.0, 1.0, 2.0, 3.0, 5.0, 15.0, 20.0, 21.0, 6.0, 10.0, 6.0, 7.0, 9.0, 7.0, 11.0, 12.0, 12.0, 11.0, 11.0]}, \"V3M 2S7\": {\"cars\": [10.0, 9.0, 5.0, 9.0, 3.0, 1.0, 1.0, 2.0, 3.0, 5.0, 15.0, 20.0, 21.0, 6.0, 10.0, 6.0, 7.0, 9.0, 7.0, 11.0, 12.0, 12.0, 11.0, 11.0]}, \"V6B 1Y1\": {\"cars\": [10.0, 9.0, 5.0, 9.0, 3.0, 1.0, 1.0, 2.0, 3.0, 5.0, 15.0, 20.0, 21.0, 6.0, 10.0, 6.0, 7.0, 9.0, 7.0, 11.0, 12.0, 12.0, 11.0, 11.0]}, \"V6B 2J2\": {\"cars\": [10.0, 9.0, 5.0, 9.0, 3.0, 1.0, 1.0, 2.0, 3.0, 5.0, 15.0, 20.0, 21.0, 6.0, 10.0, 6.0, 7.0, 9.0, 7.0, 11.0, 12.0, 12.0, 11.0, 11.0]}, \"V6N 2C4\": {\"cars\": [10.0, 9.0, 5.0, 9.0, 3.0, 1.0, 1.0, 2.0, 3.0, 5.0, 15.0, 20.0, 21.0, 6.0, 10.0, 6.0, 7.0, 9.0, 7.0, 11.0, 12.0, 12.0, 11.0, 11.0]}, \"V6K 2M4\": {\"cars\": [10.0, 9.0, 5.0, 9.0, 3.0, 1.0, 1.0, 2.0, 3.0, 5.0, 15.0, 20.0, 21.0, 6.0, 10.0, 6.0, 7.0, 9.0, 7.0, 11.0, 12.0, 12.0, 11.0, 11.0]}, \"V6Z 3B4\": {\"cars\": [10.0, 9.0, 5.0, 9.0, 3.0, 1.0, 1.0, 2.0, 3.0, 5.0, 15.0, 20.0, 21.0, 6.0, 10.0, 6.0, 7.0, 9.0, 7.0, 11.0, 12.0, 12.0, 11.0, 11.0]}, \"V5R 2T3\": {\"cars\": [10.0, 9.0, 5.0, 9.0, 3.0, 1.0, 1.0, 2.0, 3.0, 5.0, 15.0, 20.0, 21.0, 6.0, 10.0, 6.0, 7.0, 9.0, 7.0, 11.0, 12.0, 12.0, 11.0, 11.0]}, \"V6J 1M6\": {\"cars\": [10.0, 9.0, 5.0, 9.0, 3.0, 1.0, 1.0, 2.0, 3.0, 5.0, 15.0, 20.0, 21.0, 6.0, 10.0, 6.0, 7.0, 9.0, 7.0, 11.0, 12.0, 12.0, 11.0, 11.0]}, \"V6B 1R3\": {\"cars\": [10.0, 9.0, 5.0, 9.0, 3.0, 1.0, 1.0, 2.0, 3.0, 5.0, 15.0, 20.0, 21.0, 6.0, 10.0, 6.0, 7.0, 9.0, 7.0, 11.0, 12.0, 12.0, 11.0, 11.0]}, \"V6M 2W7\": {\"cars\": [10.0, 9.0, 5.0, 9.0, 3.0, 1.0, 1.0, 2.0, 3.0, 5.0, 15.0, 20.0, 21.0, 6.0, 10.0, 6.0, 7.0, 9.0, 7.0, 11.0, 12.0, 12.0, 11.0, 11.0]}, \"V6S 0A3\": {\"cars\": [10.0, 9.0, 5.0, 9.0, 3.0, 1.0, 1.0, 2.0, 3.0, 5.0, 15.0, 20.0, 21.0, 6.0, 10.0, 6.0, 7.0, 9.0, 7.0, 11.0, 12.0, 12.0, 11.0, 11.0]}, \"V6J 2L7\": {\"cars\": [10.0, 9.0, 5.0, 9.0, 3.0, 1.0, 1.0, 2.0, 3.0, 5.0, 15.0, 20.0, 21.0, 6.0, 10.0, 6.0, 7.0, 9.0, 7.0, 11.0, 12.0, 12.0, 11.0, 11.0]}, \"V6A 3L8\": {\"cars\": [10.0, 9.0, 5.0, 9.0, 3.0, 1.0, 1.0, 2.0, 3.0, 5.0, 15.0, 20.0, 21.0, 6.0, 10.0, 6.0, 7.0, 9.0, 7.0, 11.0, 12.0, 12.0, 11.0, 11.0]}, \"V6Z 2H2\": {\"cars\": [10.0, 9.0, 5.0, 9.0, 3.0, 1.0, 1.0, 2.0, 3.0, 5.0, 15.0, 20.0, 21.0, 6.0, 10.0, 6.0, 7.0, 9.0, 7.0, 11.0, 12.0, 12.0, 11.0, 11.0]}, \"V6B 1S5\": {\"cars\": [10.0, 9.0, 5.0, 9.0, 3.0, 1.0, 1.0, 2.0, 3.0, 5.0, 15.0, 20.0, 21.0, 6.0, 10.0, 6.0, 7.0, 9.0, 7.0, 11.0, 12.0, 12.0, 11.0, 11.0]}, \"V6Z 3G5\": {\"cars\": [10.0, 9.0, 5.0, 9.0, 3.0, 1.0, 1.0, 2.0, 3.0, 5.0, 15.0, 20.0, 21.0, 6.0, 10.0, 6.0, 7.0, 9.0, 7.0, 11.0, 12.0, 12.0, 11.0, 11.0]}, \"V6E 3T3\": {\"cars\": [10.0, 9.0, 5.0, 9.0, 3.0, 1.0, 1.0, 2.0, 3.0, 5.0, 15.0, 20.0, 21.0, 6.0, 10.0, 6.0, 7.0, 9.0, 7.0, 11.0, 12.0, 12.0, 11.0, 11.0]}, \"V6A 0A7\": {\"cars\": [10.0, 9.0, 5.0, 9.0, 3.0, 1.0, 1.0, 2.0, 3.0, 5.0, 15.0, 20.0, 21.0, 6.0, 10.0, 6.0, 7.0, 9.0, 7.0, 11.0, 12.0, 12.0, 11.0, 11.0]}, \"V5W\": {\"lat_long\": [49.2382917, -123.0995778], \"cars\": [10.0, 9.0, 5.0, 9.0, 3.0, 1.0, 1.0, 2.0, 3.0, 5.0, 15.0, 20.0, 21.0, 6.0, 10.0, 6.0, 7.0, 9.0, 7.0, 11.0, 12.0, 12.0, 11.0, 11.0]}, \"V5T 1C7\": {\"cars\": [10.0, 9.0, 5.0, 9.0, 3.0, 1.0, 1.0, 2.0, 3.0, 5.0, 15.0, 20.0, 21.0, 6.0, 10.0, 6.0, 7.0, 9.0, 7.0, 11.0, 12.0, 12.0, 11.0, 11.0]}, \"V5L 1H3\": {\"cars\": [10.0, 9.0, 5.0, 9.0, 3.0, 1.0, 1.0, 2.0, 3.0, 5.0, 15.0, 20.0, 21.0, 6.0, 10.0, 6.0, 7.0, 9.0, 7.0, 11.0, 12.0, 12.0, 11.0, 11.0]}, \"V3M 1R2\": {\"cars\": [10.0, 9.0, 5.0, 9.0, 3.0, 1.0, 1.0, 2.0, 3.0, 5.0, 15.0, 20.0, 21.0, 6.0, 10.0, 6.0, 7.0, 9.0, 7.0, 11.0, 12.0, 12.0, 11.0, 11.0]}, \"V3M 5Z5\": {\"cars\": [10.0, 9.0, 5.0, 9.0, 3.0, 1.0, 1.0, 2.0, 3.0, 5.0, 15.0, 20.0, 21.0, 6.0, 10.0, 6.0, 7.0, 9.0, 7.0, 11.0, 12.0, 12.0, 11.0, 11.0]}, \"V5P 4R6\": {\"cars\": [10.0, 9.0, 5.0, 9.0, 3.0, 1.0, 1.0, 2.0, 3.0, 5.0, 15.0, 20.0, 21.0, 6.0, 10.0, 6.0, 7.0, 9.0, 7.0, 11.0, 12.0, 12.0, 11.0, 11.0]}, \"V5M\": {\"lat_long\": [49.2691675, -123.0514035], \"cars\": [10.0, 9.0, 5.0, 9.0, 3.0, 1.0, 1.0, 2.0, 3.0, 5.0, 15.0, 20.0, 21.0, 6.0, 10.0, 6.0, 7.0, 9.0, 7.0, 11.0, 12.0, 12.0, 11.0, 11.0]}, \"V6A\": {\"lat_long\": [49.2815044, -123.0922622], \"cars\": [10.0, 9.0, 5.0, 9.0, 3.0, 1.0, 1.0, 2.0, 3.0, 5.0, 15.0, 20.0, 21.0, 6.0, 10.0, 6.0, 7.0, 9.0, 7.0, 11.0, 12.0, 12.0, 11.0, 11.0]}, \"V6Z 1Y5\": {\"cars\": [10.0, 9.0, 5.0, 9.0, 3.0, 1.0, 1.0, 2.0, 3.0, 5.0, 15.0, 20.0, 21.0, 6.0, 10.0, 6.0, 7.0, 9.0, 7.0, 11.0, 12.0, 12.0, 11.0, 11.0]}, \"V6E 4H6\": {\"cars\": [10.0, 9.0, 5.0, 9.0, 3.0, 1.0, 1.0, 2.0, 3.0, 5.0, 15.0, 20.0, 21.0, 6.0, 10.0, 6.0, 7.0, 9.0, 7.0, 11.0, 12.0, 12.0, 11.0, 11.0]}, \"V6C\": {\"lat_long\": [49.2854069, -123.1187459], \"cars\": [10.0, 9.0, 5.0, 9.0, 3.0, 1.0, 1.0, 2.0, 3.0, 5.0, 15.0, 20.0, 21.0, 6.0, 10.0, 6.0, 7.0, 9.0, 7.0, 11.0, 12.0, 12.0, 11.0, 11.0]}, \"V6A 1G4\": {\"cars\": [10.0, 9.0, 5.0, 9.0, 3.0, 1.0, 1.0, 2.0, 3.0, 5.0, 15.0, 20.0, 21.0, 6.0, 10.0, 6.0, 7.0, 9.0, 7.0, 11.0, 12.0, 12.0, 11.0, 11.0]}, \"V5T\": {\"lat_long\": [49.26619119999999, -123.0882315], \"cars\": [10.0, 9.0, 5.0, 9.0, 3.0, 1.0, 1.0, 2.0, 3.0, 5.0, 15.0, 20.0, 21.0, 6.0, 10.0, 6.0, 7.0, 9.0, 7.0, 11.0, 12.0, 12.0, 11.0, 11.0]}, \"V6J 3X2\": {\"cars\": [10.0, 9.0, 5.0, 9.0, 3.0, 1.0, 1.0, 2.0, 3.0, 5.0, 15.0, 20.0, 21.0, 6.0, 10.0, 6.0, 7.0, 9.0, 7.0, 11.0, 12.0, 12.0, 11.0, 11.0]}, \"V6B 1G6\": {\"cars\": [10.0, 9.0, 5.0, 9.0, 3.0, 1.0, 1.0, 2.0, 3.0, 5.0, 15.0, 20.0, 21.0, 6.0, 10.0, 6.0, 7.0, 9.0, 7.0, 11.0, 12.0, 12.0, 11.0, 11.0]}, \"V6H 1R3\": {\"cars\": [10.0, 9.0, 5.0, 9.0, 3.0, 1.0, 1.0, 2.0, 3.0, 5.0, 15.0, 20.0, 21.0, 6.0, 10.0, 6.0, 7.0, 9.0, 7.0, 11.0, 12.0, 12.0, 11.0, 11.0]}, \"V6S 0B5\": {\"cars\": [10.0, 9.0, 5.0, 9.0, 3.0, 1.0, 1.0, 2.0, 3.0, 5.0, 15.0, 20.0, 21.0, 6.0, 10.0, 6.0, 7.0, 9.0, 7.0, 11.0, 12.0, 12.0, 11.0, 11.0]}, \"V5N 4L3\": {\"cars\": [10.0, 9.0, 5.0, 9.0, 3.0, 1.0, 1.0, 2.0, 3.0, 5.0, 15.0, 20.0, 21.0, 6.0, 10.0, 6.0, 7.0, 9.0, 7.0, 11.0, 12.0, 12.0, 11.0, 11.0]}, \"V6B 0J9\": {\"cars\": [10.0, 9.0, 5.0, 9.0, 3.0, 1.0, 1.0, 2.0, 3.0, 5.0, 15.0, 20.0, 21.0, 6.0, 10.0, 6.0, 7.0, 9.0, 7.0, 11.0, 12.0, 12.0, 11.0, 11.0]}, \"V6J 1A3\": {\"cars\": [10.0, 9.0, 5.0, 9.0, 3.0, 1.0, 1.0, 2.0, 3.0, 5.0, 15.0, 20.0, 21.0, 6.0, 10.0, 6.0, 7.0, 9.0, 7.0, 11.0, 12.0, 12.0, 11.0, 11.0]}, \"V7L 2T3\": {\"cars\": [10.0, 9.0, 5.0, 9.0, 3.0, 1.0, 1.0, 2.0, 3.0, 5.0, 15.0, 20.0, 21.0, 6.0, 10.0, 6.0, 7.0, 9.0, 7.0, 11.0, 12.0, 12.0, 11.0, 11.0]}, \"V5M 1Z6\": {\"cars\": [10.0, 9.0, 5.0, 9.0, 3.0, 1.0, 1.0, 2.0, 3.0, 5.0, 15.0, 20.0, 21.0, 6.0, 10.0, 6.0, 7.0, 9.0, 7.0, 11.0, 12.0, 12.0, 11.0, 11.0]}, \"V6B 2X1\": {\"cars\": [10.0, 9.0, 5.0, 9.0, 3.0, 1.0, 1.0, 2.0, 3.0, 5.0, 15.0, 20.0, 21.0, 6.0, 10.0, 6.0, 7.0, 9.0, 7.0, 11.0, 12.0, 12.0, 11.0, 11.0]}, \"V6Z 2B7\": {\"cars\": [10.0, 9.0, 5.0, 9.0, 3.0, 1.0, 1.0, 2.0, 3.0, 5.0, 15.0, 20.0, 21.0, 6.0, 10.0, 6.0, 7.0, 9.0, 7.0, 11.0, 12.0, 12.0, 11.0, 11.0]}, \"V6Z 2X4\": {\"cars\": [10.0, 9.0, 5.0, 9.0, 3.0, 1.0, 1.0, 2.0, 3.0, 5.0, 15.0, 20.0, 21.0, 6.0, 10.0, 6.0, 7.0, 9.0, 7.0, 11.0, 12.0, 12.0, 11.0, 11.0]}, \"V5N 4M4\": {\"cars\": [10.0, 9.0, 5.0, 9.0, 3.0, 1.0, 1.0, 2.0, 3.0, 5.0, 15.0, 20.0, 21.0, 6.0, 10.0, 6.0, 7.0, 9.0, 7.0, 11.0, 12.0, 12.0, 11.0, 11.0]}, \"V6K 2X8\": {\"cars\": [10.0, 9.0, 5.0, 9.0, 3.0, 1.0, 1.0, 2.0, 3.0, 5.0, 15.0, 20.0, 21.0, 6.0, 10.0, 6.0, 7.0, 9.0, 7.0, 11.0, 12.0, 12.0, 11.0, 11.0]}, \"V6Z 2X7\": {\"cars\": [10.0, 9.0, 5.0, 9.0, 3.0, 1.0, 1.0, 2.0, 3.0, 5.0, 15.0, 20.0, 21.0, 6.0, 10.0, 6.0, 7.0, 9.0, 7.0, 11.0, 12.0, 12.0, 11.0, 11.0]}, \"V3M 6B9\": {\"cars\": [10.0, 9.0, 5.0, 9.0, 3.0, 1.0, 1.0, 2.0, 3.0, 5.0, 15.0, 20.0, 21.0, 6.0, 10.0, 6.0, 7.0, 9.0, 7.0, 11.0, 12.0, 12.0, 11.0, 11.0]}, \"V7J 2K7\": {\"cars\": [10.0, 9.0, 5.0, 9.0, 3.0, 1.0, 1.0, 2.0, 3.0, 5.0, 15.0, 20.0, 21.0, 6.0, 10.0, 6.0, 7.0, 9.0, 7.0, 11.0, 12.0, 12.0, 11.0, 11.0]}, \"V5Y 1B8\": {\"cars\": [10.0, 9.0, 5.0, 9.0, 3.0, 1.0, 1.0, 2.0, 3.0, 5.0, 15.0, 20.0, 21.0, 6.0, 10.0, 6.0, 7.0, 9.0, 7.0, 11.0, 12.0, 12.0, 11.0, 11.0]}, \"V6E 1N4\": {\"cars\": [10.0, 9.0, 5.0, 9.0, 3.0, 1.0, 1.0, 2.0, 3.0, 5.0, 15.0, 20.0, 21.0, 6.0, 10.0, 6.0, 7.0, 9.0, 7.0, 11.0, 12.0, 12.0, 11.0, 11.0]}, \"V6A 2V4\": {\"cars\": [10.0, 9.0, 5.0, 9.0, 3.0, 1.0, 1.0, 2.0, 3.0, 5.0, 15.0, 20.0, 21.0, 6.0, 10.0, 6.0, 7.0, 9.0, 7.0, 11.0, 12.0, 12.0, 11.0, 11.0]}, \"V5N\": {\"lat_long\": [49.2663951, -123.0699288], \"cars\": [10.0, 9.0, 5.0, 9.0, 3.0, 1.0, 1.0, 2.0, 3.0, 5.0, 15.0, 20.0, 21.0, 6.0, 10.0, 6.0, 7.0, 9.0, 7.0, 11.0, 12.0, 12.0, 11.0, 11.0]}, \"V5K\": {\"lat_long\": [49.28635389999999, -123.0288899], \"cars\": [10.0, 9.0, 5.0, 9.0, 3.0, 1.0, 1.0, 2.0, 3.0, 5.0, 15.0, 20.0, 21.0, 6.0, 10.0, 6.0, 7.0, 9.0, 7.0, 11.0, 12.0, 12.0, 11.0, 11.0]}, \"V6B 6B1\": {\"cars\": [10.0, 9.0, 5.0, 9.0, 3.0, 1.0, 1.0, 2.0, 3.0, 5.0, 15.0, 20.0, 21.0, 6.0, 10.0, 6.0, 7.0, 9.0, 7.0, 11.0, 12.0, 12.0, 11.0, 11.0]}, \"V6B 0J4\": {\"cars\": [10.0, 9.0, 5.0, 9.0, 3.0, 1.0, 1.0, 2.0, 3.0, 5.0, 15.0, 20.0, 21.0, 6.0, 10.0, 6.0, 7.0, 9.0, 7.0, 11.0, 12.0, 12.0, 11.0, 11.0]}, \"V5Z 2L7\": {\"cars\": [10.0, 9.0, 5.0, 9.0, 3.0, 1.0, 1.0, 2.0, 3.0, 5.0, 15.0, 20.0, 21.0, 6.0, 10.0, 6.0, 7.0, 9.0, 7.0, 11.0, 12.0, 12.0, 11.0, 11.0]}, \"V6M 2A9\": {\"cars\": [10.0, 9.0, 5.0, 9.0, 3.0, 1.0, 1.0, 2.0, 3.0, 5.0, 15.0, 20.0, 21.0, 6.0, 10.0, 6.0, 7.0, 9.0, 7.0, 11.0, 12.0, 12.0, 11.0, 11.0]}, \"V6M 1L8\": {\"cars\": [10.0, 9.0, 5.0, 9.0, 3.0, 1.0, 1.0, 2.0, 3.0, 5.0, 15.0, 20.0, 21.0, 6.0, 10.0, 6.0, 7.0, 9.0, 7.0, 11.0, 12.0, 12.0, 11.0, 11.0]}, \"V6P 3T9\": {\"cars\": [10.0, 9.0, 5.0, 9.0, 3.0, 1.0, 1.0, 2.0, 3.0, 5.0, 15.0, 20.0, 21.0, 6.0, 10.0, 6.0, 7.0, 9.0, 7.0, 11.0, 12.0, 12.0, 11.0, 11.0]}, \"V6A 3G1\": {\"cars\": [10.0, 9.0, 5.0, 9.0, 3.0, 1.0, 1.0, 2.0, 3.0, 5.0, 15.0, 20.0, 21.0, 6.0, 10.0, 6.0, 7.0, 9.0, 7.0, 11.0, 12.0, 12.0, 11.0, 11.0]}, \"V5G 4X7\": {\"cars\": [10.0, 9.0, 5.0, 9.0, 3.0, 1.0, 1.0, 2.0, 3.0, 5.0, 15.0, 20.0, 21.0, 6.0, 10.0, 6.0, 7.0, 9.0, 7.0, 11.0, 12.0, 12.0, 11.0, 11.0]}, \"V7L 2A4\": {\"cars\": [10.0, 9.0, 5.0, 9.0, 3.0, 1.0, 1.0, 2.0, 3.0, 5.0, 15.0, 20.0, 21.0, 6.0, 10.0, 6.0, 7.0, 9.0, 7.0, 11.0, 12.0, 12.0, 11.0, 11.0]}, \"V6Z 2T9\": {\"cars\": [10.0, 9.0, 5.0, 9.0, 3.0, 1.0, 1.0, 2.0, 3.0, 5.0, 15.0, 20.0, 21.0, 6.0, 10.0, 6.0, 7.0, 9.0, 7.0, 11.0, 12.0, 12.0, 11.0, 11.0]}, \"V6B 1H4\": {\"cars\": [10.0, 9.0, 5.0, 9.0, 3.0, 1.0, 1.0, 2.0, 3.0, 5.0, 15.0, 20.0, 21.0, 6.0, 10.0, 6.0, 7.0, 9.0, 7.0, 11.0, 12.0, 12.0, 11.0, 11.0]}, \"V6A 1X9\": {\"cars\": [10.0, 9.0, 5.0, 9.0, 3.0, 1.0, 1.0, 2.0, 3.0, 5.0, 15.0, 20.0, 21.0, 6.0, 10.0, 6.0, 7.0, 9.0, 7.0, 11.0, 12.0, 12.0, 11.0, 11.0]}, \"V6A 1R8\": {\"cars\": [10.0, 9.0, 5.0, 9.0, 3.0, 1.0, 1.0, 2.0, 3.0, 5.0, 15.0, 20.0, 21.0, 6.0, 10.0, 6.0, 7.0, 9.0, 7.0, 11.0, 12.0, 12.0, 11.0, 11.0]}, \"V3L 3B2\": {\"cars\": [10.0, 9.0, 5.0, 9.0, 3.0, 1.0, 1.0, 2.0, 3.0, 5.0, 15.0, 20.0, 21.0, 6.0, 10.0, 6.0, 7.0, 9.0, 7.0, 11.0, 12.0, 12.0, 11.0, 11.0]}, \"V3L 3C2\": {\"cars\": [10.0, 9.0, 5.0, 9.0, 3.0, 1.0, 1.0, 2.0, 3.0, 5.0, 15.0, 20.0, 21.0, 6.0, 10.0, 6.0, 7.0, 9.0, 7.0, 11.0, 12.0, 12.0, 11.0, 11.0]}, \"V6M 2Z2\": {\"cars\": [10.0, 9.0, 5.0, 9.0, 3.0, 1.0, 1.0, 2.0, 3.0, 5.0, 15.0, 20.0, 21.0, 6.0, 10.0, 6.0, 7.0, 9.0, 7.0, 11.0, 12.0, 12.0, 11.0, 11.0]}, \"V3L 2G1\": {\"cars\": [10.0, 9.0, 5.0, 9.0, 3.0, 1.0, 1.0, 2.0, 3.0, 5.0, 15.0, 20.0, 21.0, 6.0, 10.0, 6.0, 7.0, 9.0, 7.0, 11.0, 12.0, 12.0, 11.0, 11.0]}, \"V5L 1S3\": {\"cars\": [10.0, 9.0, 5.0, 9.0, 3.0, 1.0, 1.0, 2.0, 3.0, 5.0, 15.0, 20.0, 21.0, 6.0, 10.0, 6.0, 7.0, 9.0, 7.0, 11.0, 12.0, 12.0, 11.0, 11.0]}, \"V6A 1Z3\": {\"lat_long\": [49.2787065, -123.0802639], \"cars\": [10.0, 9.0, 5.0, 9.0, 3.0, 1.0, 1.0, 2.0, 3.0, 5.0, 15.0, 20.0, 21.0, 6.0, 10.0, 6.0, 7.0, 9.0, 7.0, 11.0, 12.0, 12.0, 11.0, 11.0]}, \"V5M 3E4\": {\"cars\": [10.0, 9.0, 5.0, 9.0, 3.0, 1.0, 1.0, 2.0, 3.0, 5.0, 15.0, 20.0, 21.0, 6.0, 10.0, 6.0, 7.0, 9.0, 7.0, 11.0, 12.0, 12.0, 11.0, 11.0]}, \"V3M 6H5\": {\"cars\": [10.0, 9.0, 5.0, 9.0, 3.0, 1.0, 1.0, 2.0, 3.0, 5.0, 15.0, 20.0, 21.0, 6.0, 10.0, 6.0, 7.0, 9.0, 7.0, 11.0, 12.0, 12.0, 11.0, 11.0]}, \"V6G 2W3\": {\"cars\": [10.0, 9.0, 5.0, 9.0, 3.0, 1.0, 1.0, 2.0, 3.0, 5.0, 15.0, 20.0, 21.0, 6.0, 10.0, 6.0, 7.0, 9.0, 7.0, 11.0, 12.0, 12.0, 11.0, 11.0]}, \"V5G 4M9\": {\"cars\": [10.0, 9.0, 5.0, 9.0, 3.0, 1.0, 1.0, 2.0, 3.0, 5.0, 15.0, 20.0, 21.0, 6.0, 10.0, 6.0, 7.0, 9.0, 7.0, 11.0, 12.0, 12.0, 11.0, 11.0]}, \"V5N 4V1\": {\"cars\": [10.0, 9.0, 5.0, 9.0, 3.0, 1.0, 1.0, 2.0, 3.0, 5.0, 15.0, 20.0, 21.0, 6.0, 10.0, 6.0, 7.0, 9.0, 7.0, 11.0, 12.0, 12.0, 11.0, 11.0]}, \"V3N 4C3\": {\"cars\": [10.0, 9.0, 5.0, 9.0, 3.0, 1.0, 1.0, 2.0, 3.0, 5.0, 15.0, 20.0, 21.0, 6.0, 10.0, 6.0, 7.0, 9.0, 7.0, 11.0, 12.0, 12.0, 11.0, 11.0]}, \"V6M 1M3\": {\"cars\": [10.0, 9.0, 5.0, 9.0, 3.0, 1.0, 1.0, 2.0, 3.0, 5.0, 15.0, 20.0, 21.0, 6.0, 10.0, 6.0, 7.0, 9.0, 7.0, 11.0, 12.0, 12.0, 11.0, 11.0]}, \"V6A 1S2\": {\"cars\": [10.0, 9.0, 5.0, 9.0, 3.0, 1.0, 1.0, 2.0, 3.0, 5.0, 15.0, 20.0, 21.0, 6.0, 10.0, 6.0, 7.0, 9.0, 7.0, 11.0, 12.0, 12.0, 11.0, 11.0]}, \"V5R\": {\"lat_long\": [49.2495001, -123.048236], \"cars\": [10.0, 9.0, 5.0, 9.0, 3.0, 1.0, 1.0, 2.0, 3.0, 5.0, 15.0, 20.0, 21.0, 6.0, 10.0, 6.0, 7.0, 9.0, 7.0, 11.0, 12.0, 12.0, 11.0, 11.0]}, \"V5Y 2H5\": {\"cars\": [10.0, 9.0, 5.0, 9.0, 3.0, 1.0, 1.0, 2.0, 3.0, 5.0, 15.0, 20.0, 21.0, 6.0, 10.0, 6.0, 7.0, 9.0, 7.0, 11.0, 12.0, 12.0, 11.0, 11.0]}, \"V6H 1S5\": {\"cars\": [10.0, 9.0, 5.0, 9.0, 3.0, 1.0, 1.0, 2.0, 3.0, 5.0, 15.0, 20.0, 21.0, 6.0, 10.0, 6.0, 7.0, 9.0, 7.0, 11.0, 12.0, 12.0, 11.0, 11.0]}, \"V5T 4R8\": {\"cars\": [10.0, 9.0, 5.0, 9.0, 3.0, 1.0, 1.0, 2.0, 3.0, 5.0, 15.0, 20.0, 21.0, 6.0, 10.0, 6.0, 7.0, 9.0, 7.0, 11.0, 12.0, 12.0, 11.0, 11.0]}, \"V3L 2K1\": {\"cars\": [10.0, 9.0, 5.0, 9.0, 3.0, 1.0, 1.0, 2.0, 3.0, 5.0, 15.0, 20.0, 21.0, 6.0, 10.0, 6.0, 7.0, 9.0, 7.0, 11.0, 12.0, 12.0, 11.0, 11.0]}, \"V5R 5L4\": {\"cars\": [10.0, 9.0, 5.0, 9.0, 3.0, 1.0, 1.0, 2.0, 3.0, 5.0, 15.0, 20.0, 21.0, 6.0, 10.0, 6.0, 7.0, 9.0, 7.0, 11.0, 12.0, 12.0, 11.0, 11.0]}, \"V6G 2A7\": {\"cars\": [10.0, 9.0, 5.0, 9.0, 3.0, 1.0, 1.0, 2.0, 3.0, 5.0, 15.0, 20.0, 21.0, 6.0, 10.0, 6.0, 7.0, 9.0, 7.0, 11.0, 12.0, 12.0, 11.0, 11.0]}, \"V6B 1T5\": {\"cars\": [10.0, 9.0, 5.0, 9.0, 3.0, 1.0, 1.0, 2.0, 3.0, 5.0, 15.0, 20.0, 21.0, 6.0, 10.0, 6.0, 7.0, 9.0, 7.0, 11.0, 12.0, 12.0, 11.0, 11.0]}, \"V5N 1A9\": {\"lat_long\": [49.269823, -123.0684064], \"cars\": [10.0, 9.0, 5.0, 9.0, 3.0, 1.0, 1.0, 2.0, 3.0, 5.0, 15.0, 20.0, 21.0, 6.0, 10.0, 6.0, 7.0, 9.0, 7.0, 11.0, 12.0, 12.0, 11.0, 11.0]}, \"V6M 2Z4\": {\"cars\": [10.0, 9.0, 5.0, 9.0, 3.0, 1.0, 1.0, 2.0, 3.0, 5.0, 15.0, 20.0, 21.0, 6.0, 10.0, 6.0, 7.0, 9.0, 7.0, 11.0, 12.0, 12.0, 11.0, 11.0]}, \"V7N 1X1\": {\"cars\": [10.0, 9.0, 5.0, 9.0, 3.0, 1.0, 1.0, 2.0, 3.0, 5.0, 15.0, 20.0, 21.0, 6.0, 10.0, 6.0, 7.0, 9.0, 7.0, 11.0, 12.0, 12.0, 11.0, 11.0]}, \"V6A 1T3\": {\"cars\": [10.0, 9.0, 5.0, 9.0, 3.0, 1.0, 1.0, 2.0, 3.0, 5.0, 15.0, 20.0, 21.0, 6.0, 10.0, 6.0, 7.0, 9.0, 7.0, 11.0, 12.0, 12.0, 11.0, 11.0]}, \"V6B 5X5\": {\"cars\": [10.0, 9.0, 5.0, 9.0, 3.0, 1.0, 1.0, 2.0, 3.0, 5.0, 15.0, 20.0, 21.0, 6.0, 10.0, 6.0, 7.0, 9.0, 7.0, 11.0, 12.0, 12.0, 11.0, 11.0]}, \"V5N 2B7\": {\"cars\": [10.0, 9.0, 5.0, 9.0, 3.0, 1.0, 1.0, 2.0, 3.0, 5.0, 15.0, 20.0, 21.0, 6.0, 10.0, 6.0, 7.0, 9.0, 7.0, 11.0, 12.0, 12.0, 11.0, 11.0]}, \"V5M 2E9\": {\"cars\": [10.0, 9.0, 5.0, 9.0, 3.0, 1.0, 1.0, 2.0, 3.0, 5.0, 15.0, 20.0, 21.0, 6.0, 10.0, 6.0, 7.0, 9.0, 7.0, 11.0, 12.0, 12.0, 11.0, 11.0]}, \"V7J 1H2\": {\"cars\": [10.0, 9.0, 5.0, 9.0, 3.0, 1.0, 1.0, 2.0, 3.0, 5.0, 15.0, 20.0, 21.0, 6.0, 10.0, 6.0, 7.0, 9.0, 7.0, 11.0, 12.0, 12.0, 11.0, 11.0]}, \"V5L 1K5\": {\"cars\": [10.0, 9.0, 5.0, 9.0, 3.0, 1.0, 1.0, 2.0, 3.0, 5.0, 15.0, 20.0, 21.0, 6.0, 10.0, 6.0, 7.0, 9.0, 7.0, 11.0, 12.0, 12.0, 11.0, 11.0]}, \"V6A 1T1\": {\"cars\": [10.0, 9.0, 5.0, 9.0, 3.0, 1.0, 1.0, 2.0, 3.0, 5.0, 15.0, 20.0, 21.0, 6.0, 10.0, 6.0, 7.0, 9.0, 7.0, 11.0, 12.0, 12.0, 11.0, 11.0]}, \"V6A 1X3\": {\"cars\": [10.0, 9.0, 5.0, 9.0, 3.0, 1.0, 1.0, 2.0, 3.0, 5.0, 15.0, 20.0, 21.0, 6.0, 10.0, 6.0, 7.0, 9.0, 7.0, 11.0, 12.0, 12.0, 11.0, 11.0]}, \"V5V 3M5\": {\"cars\": [10.0, 9.0, 5.0, 9.0, 3.0, 1.0, 1.0, 2.0, 3.0, 5.0, 15.0, 20.0, 21.0, 6.0, 10.0, 6.0, 7.0, 9.0, 7.0, 11.0, 12.0, 12.0, 11.0, 11.0]}, \"V5L 4E5\": {\"cars\": [10.0, 9.0, 5.0, 9.0, 3.0, 1.0, 1.0, 2.0, 3.0, 5.0, 15.0, 20.0, 21.0, 6.0, 10.0, 6.0, 7.0, 9.0, 7.0, 11.0, 12.0, 12.0, 11.0, 11.0]}, \"V6A 2S5\": {\"cars\": [10.0, 9.0, 5.0, 9.0, 3.0, 1.0, 1.0, 2.0, 3.0, 5.0, 15.0, 20.0, 21.0, 6.0, 10.0, 6.0, 7.0, 9.0, 7.0, 11.0, 12.0, 12.0, 11.0, 11.0]}, \"V6H 1L6\": {\"cars\": [10.0, 9.0, 5.0, 9.0, 3.0, 1.0, 1.0, 2.0, 3.0, 5.0, 15.0, 20.0, 21.0, 6.0, 10.0, 6.0, 7.0, 9.0, 7.0, 11.0, 12.0, 12.0, 11.0, 11.0]}, \"V3M 4H4\": {\"cars\": [10.0, 9.0, 5.0, 9.0, 3.0, 1.0, 1.0, 2.0, 3.0, 5.0, 15.0, 20.0, 21.0, 6.0, 10.0, 6.0, 7.0, 9.0, 7.0, 11.0, 12.0, 12.0, 11.0, 11.0]}, \"V5Y 1G9\": {\"cars\": [10.0, 9.0, 5.0, 9.0, 3.0, 1.0, 1.0, 2.0, 3.0, 5.0, 15.0, 20.0, 21.0, 6.0, 10.0, 6.0, 7.0, 9.0, 7.0, 11.0, 12.0, 12.0, 11.0, 11.0]}, \"V6B 3G2\": {\"cars\": [10.0, 9.0, 5.0, 9.0, 3.0, 1.0, 1.0, 2.0, 3.0, 5.0, 15.0, 20.0, 21.0, 6.0, 10.0, 6.0, 7.0, 9.0, 7.0, 11.0, 12.0, 12.0, 11.0, 11.0]}, \"V5N 5E5\": {\"cars\": [10.0, 9.0, 5.0, 9.0, 3.0, 1.0, 1.0, 2.0, 3.0, 5.0, 15.0, 20.0, 21.0, 6.0, 10.0, 6.0, 7.0, 9.0, 7.0, 11.0, 12.0, 12.0, 11.0, 11.0]}, \"V7M 2K1\": {\"cars\": [10.0, 9.0, 5.0, 9.0, 3.0, 1.0, 1.0, 2.0, 3.0, 5.0, 15.0, 20.0, 21.0, 6.0, 10.0, 6.0, 7.0, 9.0, 7.0, 11.0, 12.0, 12.0, 11.0, 11.0]}, \"V6Z 2C7\": {\"cars\": [10.0, 9.0, 5.0, 9.0, 3.0, 1.0, 1.0, 2.0, 3.0, 5.0, 15.0, 20.0, 21.0, 6.0, 10.0, 6.0, 7.0, 9.0, 7.0, 11.0, 12.0, 12.0, 11.0, 11.0]}, \"V5Y 1B3\": {\"cars\": [10.0, 9.0, 5.0, 9.0, 3.0, 1.0, 1.0, 2.0, 3.0, 5.0, 15.0, 20.0, 21.0, 6.0, 10.0, 6.0, 7.0, 9.0, 7.0, 11.0, 12.0, 12.0, 11.0, 11.0]}, \"V5Y\": {\"lat_long\": [49.2694492, -123.1068107], \"cars\": [10.0, 9.0, 5.0, 9.0, 3.0, 1.0, 1.0, 2.0, 3.0, 5.0, 15.0, 20.0, 21.0, 6.0, 10.0, 6.0, 7.0, 9.0, 7.0, 11.0, 12.0, 12.0, 11.0, 11.0]}, \"V6J 4A1\": {\"cars\": [10.0, 9.0, 5.0, 9.0, 3.0, 1.0, 1.0, 2.0, 3.0, 5.0, 15.0, 20.0, 21.0, 6.0, 10.0, 6.0, 7.0, 9.0, 7.0, 11.0, 12.0, 12.0, 11.0, 11.0]}, \"V6H 2R5\": {\"cars\": [10.0, 9.0, 5.0, 9.0, 3.0, 1.0, 1.0, 2.0, 3.0, 5.0, 15.0, 20.0, 21.0, 6.0, 10.0, 6.0, 7.0, 9.0, 7.0, 11.0, 12.0, 12.0, 11.0, 11.0]}, \"V6A 1A4\": {\"cars\": [10.0, 9.0, 5.0, 9.0, 3.0, 1.0, 1.0, 2.0, 3.0, 5.0, 15.0, 20.0, 21.0, 6.0, 10.0, 6.0, 7.0, 9.0, 7.0, 11.0, 12.0, 12.0, 11.0, 11.0]}, \"V3J 3Z9\": {\"cars\": [10.0, 9.0, 5.0, 9.0, 3.0, 1.0, 1.0, 2.0, 3.0, 5.0, 15.0, 20.0, 21.0, 6.0, 10.0, 6.0, 7.0, 9.0, 7.0, 11.0, 12.0, 12.0, 11.0, 11.0]}, \"V6B 3P3\": {\"cars\": [10.0, 9.0, 5.0, 9.0, 3.0, 1.0, 1.0, 2.0, 3.0, 5.0, 15.0, 20.0, 21.0, 6.0, 10.0, 6.0, 7.0, 9.0, 7.0, 11.0, 12.0, 12.0, 11.0, 11.0]}, \"V6E 4M8\": {\"cars\": [10.0, 9.0, 5.0, 9.0, 3.0, 1.0, 1.0, 2.0, 3.0, 5.0, 15.0, 20.0, 21.0, 6.0, 10.0, 6.0, 7.0, 9.0, 7.0, 11.0, 12.0, 12.0, 11.0, 11.0]}, \"V6A 2S7\": {\"cars\": [10.0, 9.0, 5.0, 9.0, 3.0, 1.0, 1.0, 2.0, 3.0, 5.0, 15.0, 20.0, 21.0, 6.0, 10.0, 6.0, 7.0, 9.0, 7.0, 11.0, 12.0, 12.0, 11.0, 11.0]}, \"V6K 2G3\": {\"cars\": [10.0, 9.0, 5.0, 9.0, 3.0, 1.0, 1.0, 2.0, 3.0, 5.0, 15.0, 20.0, 21.0, 6.0, 10.0, 6.0, 7.0, 9.0, 7.0, 11.0, 12.0, 12.0, 11.0, 11.0]}, \"V6Z 1X6\": {\"cars\": [10.0, 9.0, 5.0, 9.0, 3.0, 1.0, 1.0, 2.0, 3.0, 5.0, 15.0, 20.0, 21.0, 6.0, 10.0, 6.0, 7.0, 9.0, 7.0, 11.0, 12.0, 12.0, 11.0, 11.0]}, \"V5T 3K4\": {\"cars\": [10.0, 9.0, 5.0, 9.0, 3.0, 1.0, 1.0, 2.0, 3.0, 5.0, 15.0, 20.0, 21.0, 6.0, 10.0, 6.0, 7.0, 9.0, 7.0, 11.0, 12.0, 12.0, 11.0, 11.0]}, \"V5V\": {\"lat_long\": [49.2450856, -123.1016386], \"cars\": [10.0, 9.0, 5.0, 9.0, 3.0, 1.0, 1.0, 2.0, 3.0, 5.0, 15.0, 20.0, 21.0, 6.0, 10.0, 6.0, 7.0, 9.0, 7.0, 11.0, 12.0, 12.0, 11.0, 11.0]}, \"V5T 1S1\": {\"cars\": [10.0, 9.0, 5.0, 9.0, 3.0, 1.0, 1.0, 2.0, 3.0, 5.0, 15.0, 20.0, 21.0, 6.0, 10.0, 6.0, 7.0, 9.0, 7.0, 11.0, 12.0, 12.0, 11.0, 11.0]}, \"V5P 4K6\": {\"cars\": [10.0, 9.0, 5.0, 9.0, 3.0, 1.0, 1.0, 2.0, 3.0, 5.0, 15.0, 20.0, 21.0, 6.0, 10.0, 6.0, 7.0, 9.0, 7.0, 11.0, 12.0, 12.0, 11.0, 11.0]}, \"V3M 2M9\": {\"cars\": [10.0, 9.0, 5.0, 9.0, 3.0, 1.0, 1.0, 2.0, 3.0, 5.0, 15.0, 20.0, 21.0, 6.0, 10.0, 6.0, 7.0, 9.0, 7.0, 11.0, 12.0, 12.0, 11.0, 11.0]}, \"V7R 4P6\": {\"cars\": [10.0, 9.0, 5.0, 9.0, 3.0, 1.0, 1.0, 2.0, 3.0, 5.0, 15.0, 20.0, 21.0, 6.0, 10.0, 6.0, 7.0, 9.0, 7.0, 11.0, 12.0, 12.0, 11.0, 11.0]}, \"V6A 1G7\": {\"cars\": [10.0, 9.0, 5.0, 9.0, 3.0, 1.0, 1.0, 2.0, 3.0, 5.0, 15.0, 20.0, 21.0, 6.0, 10.0, 6.0, 7.0, 9.0, 7.0, 11.0, 12.0, 12.0, 11.0, 11.0]}, \"V5Y 4B1\": {\"cars\": [10.0, 9.0, 5.0, 9.0, 3.0, 1.0, 1.0, 2.0, 3.0, 5.0, 15.0, 20.0, 21.0, 6.0, 10.0, 6.0, 7.0, 9.0, 7.0, 11.0, 12.0, 12.0, 11.0, 11.0]}, \"V6H 2K5\": {\"cars\": [10.0, 9.0, 5.0, 9.0, 3.0, 1.0, 1.0, 2.0, 3.0, 5.0, 15.0, 20.0, 21.0, 6.0, 10.0, 6.0, 7.0, 9.0, 7.0, 11.0, 12.0, 12.0, 11.0, 11.0]}, \"V6C 2R7\": {\"cars\": [10.0, 9.0, 5.0, 9.0, 3.0, 1.0, 1.0, 2.0, 3.0, 5.0, 15.0, 20.0, 21.0, 6.0, 10.0, 6.0, 7.0, 9.0, 7.0, 11.0, 12.0, 12.0, 11.0, 11.0]}, \"V5T 1E8\": {\"cars\": [10.0, 9.0, 5.0, 9.0, 3.0, 1.0, 1.0, 2.0, 3.0, 5.0, 15.0, 20.0, 21.0, 6.0, 10.0, 6.0, 7.0, 9.0, 7.0, 11.0, 12.0, 12.0, 11.0, 11.0]}, \"V5R 1P3\": {\"cars\": [10.0, 9.0, 5.0, 9.0, 3.0, 1.0, 1.0, 2.0, 3.0, 5.0, 15.0, 20.0, 21.0, 6.0, 10.0, 6.0, 7.0, 9.0, 7.0, 11.0, 12.0, 12.0, 11.0, 11.0]}, \"V6M 2X2\": {\"cars\": [10.0, 9.0, 5.0, 9.0, 3.0, 1.0, 1.0, 2.0, 3.0, 5.0, 15.0, 20.0, 21.0, 6.0, 10.0, 6.0, 7.0, 9.0, 7.0, 11.0, 12.0, 12.0, 11.0, 11.0]}, \"V5Y 1P3\": {\"cars\": [10.0, 9.0, 5.0, 9.0, 3.0, 1.0, 1.0, 2.0, 3.0, 5.0, 15.0, 20.0, 21.0, 6.0, 10.0, 6.0, 7.0, 9.0, 7.0, 11.0, 12.0, 12.0, 11.0, 11.0]}, \"V5R 6G8\": {\"cars\": [10.0, 9.0, 5.0, 9.0, 3.0, 1.0, 1.0, 2.0, 3.0, 5.0, 15.0, 20.0, 21.0, 6.0, 10.0, 6.0, 7.0, 9.0, 7.0, 11.0, 12.0, 12.0, 11.0, 11.0]}, \"V5T 4C2\": {\"cars\": [10.0, 9.0, 5.0, 9.0, 3.0, 1.0, 1.0, 2.0, 3.0, 5.0, 15.0, 20.0, 21.0, 6.0, 10.0, 6.0, 7.0, 9.0, 7.0, 11.0, 12.0, 12.0, 11.0, 11.0]}, \"V5R 5L7\": {\"cars\": [10.0, 9.0, 5.0, 9.0, 3.0, 1.0, 1.0, 2.0, 3.0, 5.0, 15.0, 20.0, 21.0, 6.0, 10.0, 6.0, 7.0, 9.0, 7.0, 11.0, 12.0, 12.0, 11.0, 11.0]}, \"V6K\": {\"lat_long\": [49.269879, -123.1635425], \"cars\": [10.0, 9.0, 5.0, 9.0, 3.0, 1.0, 1.0, 2.0, 3.0, 5.0, 15.0, 20.0, 21.0, 6.0, 10.0, 6.0, 7.0, 9.0, 7.0, 11.0, 12.0, 12.0, 11.0, 11.0]}, \"V6E 1V1\": {\"lat_long\": [49.2787634, -123.1360312], \"cars\": [10.0, 9.0, 5.0, 9.0, 3.0, 1.0, 1.0, 2.0, 3.0, 5.0, 15.0, 20.0, 21.0, 6.0, 10.0, 6.0, 7.0, 9.0, 7.0, 11.0, 12.0, 12.0, 11.0, 11.0]}, \"V5V 4E6\": {\"cars\": [10.0, 9.0, 5.0, 9.0, 3.0, 1.0, 1.0, 2.0, 3.0, 5.0, 15.0, 20.0, 21.0, 6.0, 10.0, 6.0, 7.0, 9.0, 7.0, 11.0, 12.0, 12.0, 11.0, 11.0]}, \"V5N 1X6\": {\"cars\": [10.0, 9.0, 5.0, 9.0, 3.0, 1.0, 1.0, 2.0, 3.0, 5.0, 15.0, 20.0, 21.0, 6.0, 10.0, 6.0, 7.0, 9.0, 7.0, 11.0, 12.0, 12.0, 11.0, 11.0]}, \"V6E 4M3\": {\"cars\": [10.0, 9.0, 5.0, 9.0, 3.0, 1.0, 1.0, 2.0, 3.0, 5.0, 15.0, 20.0, 21.0, 6.0, 10.0, 6.0, 7.0, 9.0, 7.0, 11.0, 12.0, 12.0, 11.0, 11.0]}, \"V1M 3G1\": {\"cars\": [10.0, 9.0, 5.0, 9.0, 3.0, 1.0, 1.0, 2.0, 3.0, 5.0, 15.0, 20.0, 21.0, 6.0, 10.0, 6.0, 7.0, 9.0, 7.0, 11.0, 12.0, 12.0, 11.0, 11.0]}, \"V6H 3R9\": {\"cars\": [10.0, 9.0, 5.0, 9.0, 3.0, 1.0, 1.0, 2.0, 3.0, 5.0, 15.0, 20.0, 21.0, 6.0, 10.0, 6.0, 7.0, 9.0, 7.0, 11.0, 12.0, 12.0, 11.0, 11.0]}, \"V5N 1X7\": {\"cars\": [10.0, 9.0, 5.0, 9.0, 3.0, 1.0, 1.0, 2.0, 3.0, 5.0, 15.0, 20.0, 21.0, 6.0, 10.0, 6.0, 7.0, 9.0, 7.0, 11.0, 12.0, 12.0, 11.0, 11.0]}, \"V5X\": {\"lat_long\": [49.2154902, -123.1138536], \"cars\": [10.0, 9.0, 5.0, 9.0, 3.0, 1.0, 1.0, 2.0, 3.0, 5.0, 15.0, 20.0, 21.0, 6.0, 10.0, 6.0, 7.0, 9.0, 7.0, 11.0, 12.0, 12.0, 11.0, 11.0]}, \"V6E 1V8\": {\"cars\": [10.0, 9.0, 5.0, 9.0, 3.0, 1.0, 1.0, 2.0, 3.0, 5.0, 15.0, 20.0, 21.0, 6.0, 10.0, 6.0, 7.0, 9.0, 7.0, 11.0, 12.0, 12.0, 11.0, 11.0]}, \"V5N 2P7\": {\"cars\": [10.0, 9.0, 5.0, 9.0, 3.0, 1.0, 1.0, 2.0, 3.0, 5.0, 15.0, 20.0, 21.0, 6.0, 10.0, 6.0, 7.0, 9.0, 7.0, 11.0, 12.0, 12.0, 11.0, 11.0]}, \"V5L 4X9\": {\"cars\": [10.0, 9.0, 5.0, 9.0, 3.0, 1.0, 1.0, 2.0, 3.0, 5.0, 15.0, 20.0, 21.0, 6.0, 10.0, 6.0, 7.0, 9.0, 7.0, 11.0, 12.0, 12.0, 11.0, 11.0]}, \"V6A 2H2\": {\"cars\": [10.0, 9.0, 5.0, 9.0, 3.0, 1.0, 1.0, 2.0, 3.0, 5.0, 15.0, 20.0, 21.0, 6.0, 10.0, 6.0, 7.0, 9.0, 7.0, 11.0, 12.0, 12.0, 11.0, 11.0]}, \"V5L 4E7\": {\"cars\": [10.0, 9.0, 5.0, 9.0, 3.0, 1.0, 1.0, 2.0, 3.0, 5.0, 15.0, 20.0, 21.0, 6.0, 10.0, 6.0, 7.0, 9.0, 7.0, 11.0, 12.0, 12.0, 11.0, 11.0]}, \"V5R 5L1\": {\"cars\": [10.0, 9.0, 5.0, 9.0, 3.0, 1.0, 1.0, 2.0, 3.0, 5.0, 15.0, 20.0, 21.0, 6.0, 10.0, 6.0, 7.0, 9.0, 7.0, 11.0, 12.0, 12.0, 11.0, 11.0]}, \"V6R 1B9\": {\"cars\": [10.0, 9.0, 5.0, 9.0, 3.0, 1.0, 1.0, 2.0, 3.0, 5.0, 15.0, 20.0, 21.0, 6.0, 10.0, 6.0, 7.0, 9.0, 7.0, 11.0, 12.0, 12.0, 11.0, 11.0]}, \"V3N 3H7\": {\"cars\": [10.0, 9.0, 5.0, 9.0, 3.0, 1.0, 1.0, 2.0, 3.0, 5.0, 15.0, 20.0, 21.0, 6.0, 10.0, 6.0, 7.0, 9.0, 7.0, 11.0, 12.0, 12.0, 11.0, 11.0]}, \"V5L 4E2\": {\"cars\": [10.0, 9.0, 5.0, 9.0, 3.0, 1.0, 1.0, 2.0, 3.0, 5.0, 15.0, 20.0, 21.0, 6.0, 10.0, 6.0, 7.0, 9.0, 7.0, 11.0, 12.0, 12.0, 11.0, 11.0]}, \"V5R 5G9\": {\"cars\": [10.0, 9.0, 5.0, 9.0, 3.0, 1.0, 1.0, 2.0, 3.0, 5.0, 15.0, 20.0, 21.0, 6.0, 10.0, 6.0, 7.0, 9.0, 7.0, 11.0, 12.0, 12.0, 11.0, 11.0]}, \"V6P\": {\"lat_long\": [49.2175428, -123.125648], \"cars\": [10.0, 9.0, 5.0, 9.0, 3.0, 1.0, 1.0, 2.0, 3.0, 5.0, 15.0, 20.0, 21.0, 6.0, 10.0, 6.0, 7.0, 9.0, 7.0, 11.0, 12.0, 12.0, 11.0, 11.0]}, \"V6E 1B5\": {\"cars\": [10.0, 9.0, 5.0, 9.0, 3.0, 1.0, 1.0, 2.0, 3.0, 5.0, 15.0, 20.0, 21.0, 6.0, 10.0, 6.0, 7.0, 9.0, 7.0, 11.0, 12.0, 12.0, 11.0, 11.0]}, \"V5P 1E4\": {\"cars\": [10.0, 9.0, 5.0, 9.0, 3.0, 1.0, 1.0, 2.0, 3.0, 5.0, 15.0, 20.0, 21.0, 6.0, 10.0, 6.0, 7.0, 9.0, 7.0, 11.0, 12.0, 12.0, 11.0, 11.0]}, \"V5Z 0A2\": {\"cars\": [10.0, 9.0, 5.0, 9.0, 3.0, 1.0, 1.0, 2.0, 3.0, 5.0, 15.0, 20.0, 21.0, 6.0, 10.0, 6.0, 7.0, 9.0, 7.0, 11.0, 12.0, 12.0, 11.0, 11.0]}, \"V5L 2P7\": {\"cars\": [10.0, 9.0, 5.0, 9.0, 3.0, 1.0, 1.0, 2.0, 3.0, 5.0, 15.0, 20.0, 21.0, 6.0, 10.0, 6.0, 7.0, 9.0, 7.0, 11.0, 12.0, 12.0, 11.0, 11.0]}, \"V6R 4K5\": {\"cars\": [10.0, 9.0, 5.0, 9.0, 3.0, 1.0, 1.0, 2.0, 3.0, 5.0, 15.0, 20.0, 21.0, 6.0, 10.0, 6.0, 7.0, 9.0, 7.0, 11.0, 12.0, 12.0, 11.0, 11.0]}, \"V6C 3A8\": {\"cars\": [10.0, 9.0, 5.0, 9.0, 3.0, 1.0, 1.0, 2.0, 3.0, 5.0, 15.0, 20.0, 21.0, 6.0, 10.0, 6.0, 7.0, 9.0, 7.0, 11.0, 12.0, 12.0, 11.0, 11.0]}, \"V5T 2G1\": {\"cars\": [10.0, 9.0, 5.0, 9.0, 3.0, 1.0, 1.0, 2.0, 3.0, 5.0, 15.0, 20.0, 21.0, 6.0, 10.0, 6.0, 7.0, 9.0, 7.0, 11.0, 12.0, 12.0, 11.0, 11.0]}, \"V6H 3P7\": {\"cars\": [10.0, 9.0, 5.0, 9.0, 3.0, 1.0, 1.0, 2.0, 3.0, 5.0, 15.0, 20.0, 21.0, 6.0, 10.0, 6.0, 7.0, 9.0, 7.0, 11.0, 12.0, 12.0, 11.0, 11.0]}, \"V5L 1G8\": {\"cars\": [10.0, 9.0, 5.0, 9.0, 3.0, 1.0, 1.0, 2.0, 3.0, 5.0, 15.0, 20.0, 21.0, 6.0, 10.0, 6.0, 7.0, 9.0, 7.0, 11.0, 12.0, 12.0, 11.0, 11.0]}, \"V5N 3T2\": {\"cars\": [10.0, 9.0, 5.0, 9.0, 3.0, 1.0, 1.0, 2.0, 3.0, 5.0, 15.0, 20.0, 21.0, 6.0, 10.0, 6.0, 7.0, 9.0, 7.0, 11.0, 12.0, 12.0, 11.0, 11.0]}, \"V6A 3P8\": {\"cars\": [10.0, 9.0, 5.0, 9.0, 3.0, 1.0, 1.0, 2.0, 3.0, 5.0, 15.0, 20.0, 21.0, 6.0, 10.0, 6.0, 7.0, 9.0, 7.0, 11.0, 12.0, 12.0, 11.0, 11.0]}, \"V6J 1X6\": {\"cars\": [10.0, 9.0, 5.0, 9.0, 3.0, 1.0, 1.0, 2.0, 3.0, 5.0, 15.0, 20.0, 21.0, 6.0, 10.0, 6.0, 7.0, 9.0, 7.0, 11.0, 12.0, 12.0, 11.0, 11.0]}, \"V5M 3Y4\": {\"cars\": [10.0, 9.0, 5.0, 9.0, 3.0, 1.0, 1.0, 2.0, 3.0, 5.0, 15.0, 20.0, 21.0, 6.0, 10.0, 6.0, 7.0, 9.0, 7.0, 11.0, 12.0, 12.0, 11.0, 11.0]}, \"V7Y\": {\"lat_long\": [49.2832353, -123.1177638], \"cars\": [10.0, 9.0, 5.0, 9.0, 3.0, 1.0, 1.0, 2.0, 3.0, 5.0, 15.0, 20.0, 21.0, 6.0, 10.0, 6.0, 7.0, 9.0, 7.0, 11.0, 12.0, 12.0, 11.0, 11.0]}, \"V7L 1L1\": {\"cars\": [10.0, 9.0, 5.0, 9.0, 3.0, 1.0, 1.0, 2.0, 3.0, 5.0, 15.0, 20.0, 21.0, 6.0, 10.0, 6.0, 7.0, 9.0, 7.0, 11.0, 12.0, 12.0, 11.0, 11.0]}, \"V6B 1K6\": {\"cars\": [10.0, 9.0, 5.0, 9.0, 3.0, 1.0, 1.0, 2.0, 3.0, 5.0, 15.0, 20.0, 21.0, 6.0, 10.0, 6.0, 7.0, 9.0, 7.0, 11.0, 12.0, 12.0, 11.0, 11.0]}, \"V5M 4C1\": {\"lat_long\": [49.2558695, -123.0284308], \"cars\": [10.0, 9.0, 5.0, 9.0, 3.0, 1.0, 1.0, 2.0, 3.0, 5.0, 15.0, 20.0, 21.0, 6.0, 10.0, 6.0, 7.0, 9.0, 7.0, 11.0, 12.0, 12.0, 11.0, 11.0]}, \"V6A 2Z9\": {\"cars\": [10.0, 9.0, 5.0, 9.0, 3.0, 1.0, 1.0, 2.0, 3.0, 5.0, 15.0, 20.0, 21.0, 6.0, 10.0, 6.0, 7.0, 9.0, 7.0, 11.0, 12.0, 12.0, 11.0, 11.0]}, \"V3L 3X6\": {\"cars\": [10.0, 9.0, 5.0, 9.0, 3.0, 1.0, 1.0, 2.0, 3.0, 5.0, 15.0, 20.0, 21.0, 6.0, 10.0, 6.0, 7.0, 9.0, 7.0, 11.0, 12.0, 12.0, 11.0, 11.0]}, \"V6H 3S2\": {\"cars\": [10.0, 9.0, 5.0, 9.0, 3.0, 1.0, 1.0, 2.0, 3.0, 5.0, 15.0, 20.0, 21.0, 6.0, 10.0, 6.0, 7.0, 9.0, 7.0, 11.0, 12.0, 12.0, 11.0, 11.0]}, \"V6M 3A5\": {\"cars\": [10.0, 9.0, 5.0, 9.0, 3.0, 1.0, 1.0, 2.0, 3.0, 5.0, 15.0, 20.0, 21.0, 6.0, 10.0, 6.0, 7.0, 9.0, 7.0, 11.0, 12.0, 12.0, 11.0, 11.0]}, \"V6R 3S5\": {\"cars\": [10.0, 9.0, 5.0, 9.0, 3.0, 1.0, 1.0, 2.0, 3.0, 5.0, 15.0, 20.0, 21.0, 6.0, 10.0, 6.0, 7.0, 9.0, 7.0, 11.0, 12.0, 12.0, 11.0, 11.0]}, \"V6A 2W1\": {\"cars\": [10.0, 9.0, 5.0, 9.0, 3.0, 1.0, 1.0, 2.0, 3.0, 5.0, 15.0, 20.0, 21.0, 6.0, 10.0, 6.0, 7.0, 9.0, 7.0, 11.0, 12.0, 12.0, 11.0, 11.0]}, \"V5T 4K8\": {\"lat_long\": [49.2609072, -123.0955336], \"cars\": [10.0, 9.0, 5.0, 9.0, 3.0, 1.0, 1.0, 2.0, 3.0, 5.0, 15.0, 20.0, 21.0, 6.0, 10.0, 6.0, 7.0, 9.0, 7.0, 11.0, 12.0, 12.0, 11.0, 11.0]}, \"V7R 4L9\": {\"cars\": [10.0, 9.0, 5.0, 9.0, 3.0, 1.0, 1.0, 2.0, 3.0, 5.0, 15.0, 20.0, 21.0, 6.0, 10.0, 6.0, 7.0, 9.0, 7.0, 11.0, 12.0, 12.0, 11.0, 11.0]}, \"V5T 2W6\": {\"cars\": [10.0, 9.0, 5.0, 9.0, 3.0, 1.0, 1.0, 2.0, 3.0, 5.0, 15.0, 20.0, 21.0, 6.0, 10.0, 6.0, 7.0, 9.0, 7.0, 11.0, 12.0, 12.0, 11.0, 11.0]}, \"V6B 1B7\": {\"cars\": [10.0, 9.0, 5.0, 9.0, 3.0, 1.0, 1.0, 2.0, 3.0, 5.0, 15.0, 20.0, 21.0, 6.0, 10.0, 6.0, 7.0, 9.0, 7.0, 11.0, 12.0, 12.0, 11.0, 11.0]}, \"V3M 0J2\": {\"cars\": [10.0, 9.0, 5.0, 9.0, 3.0, 1.0, 1.0, 2.0, 3.0, 5.0, 15.0, 20.0, 21.0, 6.0, 10.0, 6.0, 7.0, 9.0, 7.0, 11.0, 12.0, 12.0, 11.0, 11.0]}, \"V5L\": {\"lat_long\": [49.287259, -123.0614253], \"cars\": [10.0, 9.0, 5.0, 9.0, 3.0, 1.0, 1.0, 2.0, 3.0, 5.0, 15.0, 20.0, 21.0, 6.0, 10.0, 6.0, 7.0, 9.0, 7.0, 11.0, 12.0, 12.0, 11.0, 11.0]}, \"V6J 2C2\": {\"cars\": [10.0, 9.0, 5.0, 9.0, 3.0, 1.0, 1.0, 2.0, 3.0, 5.0, 15.0, 20.0, 21.0, 6.0, 10.0, 6.0, 7.0, 9.0, 7.0, 11.0, 12.0, 12.0, 11.0, 11.0]}, \"V2J 3A9\": {\"cars\": [10.0, 9.0, 5.0, 9.0, 3.0, 1.0, 1.0, 2.0, 3.0, 5.0, 15.0, 20.0, 21.0, 6.0, 10.0, 6.0, 7.0, 9.0, 7.0, 11.0, 12.0, 12.0, 11.0, 11.0]}, \"V6B 4P4\": {\"cars\": [10.0, 9.0, 5.0, 9.0, 3.0, 1.0, 1.0, 2.0, 3.0, 5.0, 15.0, 20.0, 21.0, 6.0, 10.0, 6.0, 7.0, 9.0, 7.0, 11.0, 12.0, 12.0, 11.0, 11.0]}, \"V5Y 0B2\": {\"cars\": [10.0, 9.0, 5.0, 9.0, 3.0, 1.0, 1.0, 2.0, 3.0, 5.0, 15.0, 20.0, 21.0, 6.0, 10.0, 6.0, 7.0, 9.0, 7.0, 11.0, 12.0, 12.0, 11.0, 11.0]}, \"V6A 1E9\": {\"cars\": [10.0, 9.0, 5.0, 9.0, 3.0, 1.0, 1.0, 2.0, 3.0, 5.0, 15.0, 20.0, 21.0, 6.0, 10.0, 6.0, 7.0, 9.0, 7.0, 11.0, 12.0, 12.0, 11.0, 11.0]}, \"V7B 0A1\": {\"cars\": [10.0, 9.0, 5.0, 9.0, 3.0, 1.0, 1.0, 2.0, 3.0, 5.0, 15.0, 20.0, 21.0, 6.0, 10.0, 6.0, 7.0, 9.0, 7.0, 11.0, 12.0, 12.0, 11.0, 11.0]}, \"V6A 2W5\": {\"cars\": [10.0, 9.0, 5.0, 9.0, 3.0, 1.0, 1.0, 2.0, 3.0, 5.0, 15.0, 20.0, 21.0, 6.0, 10.0, 6.0, 7.0, 9.0, 7.0, 11.0, 12.0, 12.0, 11.0, 11.0]}, \"V7P 1S2\": {\"cars\": [10.0, 9.0, 5.0, 9.0, 3.0, 1.0, 1.0, 2.0, 3.0, 5.0, 15.0, 20.0, 21.0, 6.0, 10.0, 6.0, 7.0, 9.0, 7.0, 11.0, 12.0, 12.0, 11.0, 11.0]}, \"V3L 0E7\": {\"cars\": [10.0, 9.0, 5.0, 9.0, 3.0, 1.0, 1.0, 2.0, 3.0, 5.0, 15.0, 20.0, 21.0, 6.0, 10.0, 6.0, 7.0, 9.0, 7.0, 11.0, 12.0, 12.0, 11.0, 11.0]}, \"V5Y 4B7\": {\"cars\": [10.0, 9.0, 5.0, 9.0, 3.0, 1.0, 1.0, 2.0, 3.0, 5.0, 15.0, 20.0, 21.0, 6.0, 10.0, 6.0, 7.0, 9.0, 7.0, 11.0, 12.0, 12.0, 11.0, 11.0]}, \"V6A 4H6\": {\"cars\": [10.0, 9.0, 5.0, 9.0, 3.0, 1.0, 1.0, 2.0, 3.0, 5.0, 15.0, 20.0, 21.0, 6.0, 10.0, 6.0, 7.0, 9.0, 7.0, 11.0, 12.0, 12.0, 11.0, 11.0]}, \"V7L 4B3\": {\"cars\": [10.0, 9.0, 5.0, 9.0, 3.0, 1.0, 1.0, 2.0, 3.0, 5.0, 15.0, 20.0, 21.0, 6.0, 10.0, 6.0, 7.0, 9.0, 7.0, 11.0, 12.0, 12.0, 11.0, 11.0]}, \"V3M 5T5\": {\"cars\": [10.0, 9.0, 5.0, 9.0, 3.0, 1.0, 1.0, 2.0, 3.0, 5.0, 15.0, 20.0, 21.0, 6.0, 10.0, 6.0, 7.0, 9.0, 7.0, 11.0, 12.0, 12.0, 11.0, 11.0]}, \"V6H 3K2\": {\"cars\": [10.0, 9.0, 5.0, 9.0, 3.0, 1.0, 1.0, 2.0, 3.0, 5.0, 15.0, 20.0, 21.0, 6.0, 10.0, 6.0, 7.0, 9.0, 7.0, 11.0, 12.0, 12.0, 11.0, 11.0]}, \"V6A 1K7\": {\"cars\": [10.0, 9.0, 5.0, 9.0, 3.0, 1.0, 1.0, 2.0, 3.0, 5.0, 15.0, 20.0, 21.0, 6.0, 10.0, 6.0, 7.0, 9.0, 7.0, 11.0, 12.0, 12.0, 11.0, 11.0]}, \"V5H 2B3\": {\"cars\": [10.0, 9.0, 5.0, 9.0, 3.0, 1.0, 1.0, 2.0, 3.0, 5.0, 15.0, 20.0, 21.0, 6.0, 10.0, 6.0, 7.0, 9.0, 7.0, 11.0, 12.0, 12.0, 11.0, 11.0]}, \"V5K 1B5\": {\"cars\": [10.0, 9.0, 5.0, 9.0, 3.0, 1.0, 1.0, 2.0, 3.0, 5.0, 15.0, 20.0, 21.0, 6.0, 10.0, 6.0, 7.0, 9.0, 7.0, 11.0, 12.0, 12.0, 11.0, 11.0]}, \"V5N 1W3\": {\"cars\": [10.0, 9.0, 5.0, 9.0, 3.0, 1.0, 1.0, 2.0, 3.0, 5.0, 15.0, 20.0, 21.0, 6.0, 10.0, 6.0, 7.0, 9.0, 7.0, 11.0, 12.0, 12.0, 11.0, 11.0]}, \"V5X 0C4\": {\"cars\": [10.0, 9.0, 5.0, 9.0, 3.0, 1.0, 1.0, 2.0, 3.0, 5.0, 15.0, 20.0, 21.0, 6.0, 10.0, 6.0, 7.0, 9.0, 7.0, 11.0, 12.0, 12.0, 11.0, 11.0]}, \"V6A 3X2\": {\"cars\": [10.0, 9.0, 5.0, 9.0, 3.0, 1.0, 1.0, 2.0, 3.0, 5.0, 15.0, 20.0, 21.0, 6.0, 10.0, 6.0, 7.0, 9.0, 7.0, 11.0, 12.0, 12.0, 11.0, 11.0]}, \"V6E 1J7\": {\"cars\": [10.0, 9.0, 5.0, 9.0, 3.0, 1.0, 1.0, 2.0, 3.0, 5.0, 15.0, 20.0, 21.0, 6.0, 10.0, 6.0, 7.0, 9.0, 7.0, 11.0, 12.0, 12.0, 11.0, 11.0]}, \"V6Z 1M1\": {\"cars\": [10.0, 9.0, 5.0, 9.0, 3.0, 1.0, 1.0, 2.0, 3.0, 5.0, 15.0, 20.0, 21.0, 6.0, 10.0, 6.0, 7.0, 9.0, 7.0, 11.0, 12.0, 12.0, 11.0, 11.0]}, \"V5N 1H2\": {\"cars\": [10.0, 9.0, 5.0, 9.0, 3.0, 1.0, 1.0, 2.0, 3.0, 5.0, 15.0, 20.0, 21.0, 6.0, 10.0, 6.0, 7.0, 9.0, 7.0, 11.0, 12.0, 12.0, 11.0, 11.0]}, \"V5T 1A7\": {\"cars\": [10.0, 9.0, 5.0, 9.0, 3.0, 1.0, 1.0, 2.0, 3.0, 5.0, 15.0, 20.0, 21.0, 6.0, 10.0, 6.0, 7.0, 9.0, 7.0, 11.0, 12.0, 12.0, 11.0, 11.0]}, \"V6R 2R1\": {\"cars\": [10.0, 9.0, 5.0, 9.0, 3.0, 1.0, 1.0, 2.0, 3.0, 5.0, 15.0, 20.0, 21.0, 6.0, 10.0, 6.0, 7.0, 9.0, 7.0, 11.0, 12.0, 12.0, 11.0, 11.0]}, \"V5Y 3J6\": {\"cars\": [10.0, 9.0, 5.0, 9.0, 3.0, 1.0, 1.0, 2.0, 3.0, 5.0, 15.0, 20.0, 21.0, 6.0, 10.0, 6.0, 7.0, 9.0, 7.0, 11.0, 12.0, 12.0, 11.0, 11.0]}, \"V5N 3P9\": {\"cars\": [10.0, 9.0, 5.0, 9.0, 3.0, 1.0, 1.0, 2.0, 3.0, 5.0, 15.0, 20.0, 21.0, 6.0, 10.0, 6.0, 7.0, 9.0, 7.0, 11.0, 12.0, 12.0, 11.0, 11.0]}, \"V6E 1N1\": {\"cars\": [10.0, 9.0, 5.0, 9.0, 3.0, 1.0, 1.0, 2.0, 3.0, 5.0, 15.0, 20.0, 21.0, 6.0, 10.0, 6.0, 7.0, 9.0, 7.0, 11.0, 12.0, 12.0, 11.0, 11.0]}, \"V6E 1Z7\": {\"cars\": [10.0, 9.0, 5.0, 9.0, 3.0, 1.0, 1.0, 2.0, 3.0, 5.0, 15.0, 20.0, 21.0, 6.0, 10.0, 6.0, 7.0, 9.0, 7.0, 11.0, 12.0, 12.0, 11.0, 11.0]}, \"V5K 3K3\": {\"cars\": [10.0, 9.0, 5.0, 9.0, 3.0, 1.0, 1.0, 2.0, 3.0, 5.0, 15.0, 20.0, 21.0, 6.0, 10.0, 6.0, 7.0, 9.0, 7.0, 11.0, 12.0, 12.0, 11.0, 11.0]}, \"V6B 2T5\": {\"cars\": [10.0, 9.0, 5.0, 9.0, 3.0, 1.0, 1.0, 2.0, 3.0, 5.0, 15.0, 20.0, 21.0, 6.0, 10.0, 6.0, 7.0, 9.0, 7.0, 11.0, 12.0, 12.0, 11.0, 11.0]}, \"V6A 2V7\": {\"lat_long\": [49.2778106, -123.0993132], \"cars\": [10.0, 9.0, 5.0, 9.0, 3.0, 1.0, 1.0, 2.0, 3.0, 5.0, 15.0, 20.0, 21.0, 6.0, 10.0, 6.0, 7.0, 9.0, 7.0, 11.0, 12.0, 12.0, 11.0, 11.0]}, \"V6E 1P1\": {\"cars\": [10.0, 9.0, 5.0, 9.0, 3.0, 1.0, 1.0, 2.0, 3.0, 5.0, 15.0, 20.0, 21.0, 6.0, 10.0, 6.0, 7.0, 9.0, 7.0, 11.0, 12.0, 12.0, 11.0, 11.0]}, \"V6N\": {\"lat_long\": [49.237282, -123.1637835], \"cars\": [10.0, 9.0, 5.0, 9.0, 3.0, 1.0, 1.0, 2.0, 3.0, 5.0, 15.0, 20.0, 21.0, 6.0, 10.0, 6.0, 7.0, 9.0, 7.0, 11.0, 12.0, 12.0, 11.0, 11.0]}, \"V1M 2R6\": {\"cars\": [10.0, 9.0, 5.0, 9.0, 3.0, 1.0, 1.0, 2.0, 3.0, 5.0, 15.0, 20.0, 21.0, 6.0, 10.0, 6.0, 7.0, 9.0, 7.0, 11.0, 12.0, 12.0, 11.0, 11.0]}, \"V6B 5P2\": {\"cars\": [10.0, 9.0, 5.0, 9.0, 3.0, 1.0, 1.0, 2.0, 3.0, 5.0, 15.0, 20.0, 21.0, 6.0, 10.0, 6.0, 7.0, 9.0, 7.0, 11.0, 12.0, 12.0, 11.0, 11.0]}, \"V7M 1B3\": {\"cars\": [10.0, 9.0, 5.0, 9.0, 3.0, 1.0, 1.0, 2.0, 3.0, 5.0, 15.0, 20.0, 21.0, 6.0, 10.0, 6.0, 7.0, 9.0, 7.0, 11.0, 12.0, 12.0, 11.0, 11.0]}, \"V6A 1G1\": {\"cars\": [10.0, 9.0, 5.0, 9.0, 3.0, 1.0, 1.0, 2.0, 3.0, 5.0, 15.0, 20.0, 21.0, 6.0, 10.0, 6.0, 7.0, 9.0, 7.0, 11.0, 12.0, 12.0, 11.0, 11.0]}, \"V6A 1M3\": {\"cars\": [10.0, 9.0, 5.0, 9.0, 3.0, 1.0, 1.0, 2.0, 3.0, 5.0, 15.0, 20.0, 21.0, 6.0, 10.0, 6.0, 7.0, 9.0, 7.0, 11.0, 12.0, 12.0, 11.0, 11.0]}, \"V6M 1Z6\": {\"cars\": [10.0, 9.0, 5.0, 9.0, 3.0, 1.0, 1.0, 2.0, 3.0, 5.0, 15.0, 20.0, 21.0, 6.0, 10.0, 6.0, 7.0, 9.0, 7.0, 11.0, 12.0, 12.0, 11.0, 11.0]}, \"V6B 1V8\": {\"cars\": [10.0, 9.0, 5.0, 9.0, 3.0, 1.0, 1.0, 2.0, 3.0, 5.0, 15.0, 20.0, 21.0, 6.0, 10.0, 6.0, 7.0, 9.0, 7.0, 11.0, 12.0, 12.0, 11.0, 11.0]}, \"V5Y 1K7\": {\"cars\": [10.0, 9.0, 5.0, 9.0, 3.0, 1.0, 1.0, 2.0, 3.0, 5.0, 15.0, 20.0, 21.0, 6.0, 10.0, 6.0, 7.0, 9.0, 7.0, 11.0, 12.0, 12.0, 11.0, 11.0]}, \"V6B 1C6\": {\"cars\": [10.0, 9.0, 5.0, 9.0, 3.0, 1.0, 1.0, 2.0, 3.0, 5.0, 15.0, 20.0, 21.0, 6.0, 10.0, 6.0, 7.0, 9.0, 7.0, 11.0, 12.0, 12.0, 11.0, 11.0]}, \"V6E 1N5\": {\"cars\": [10.0, 9.0, 5.0, 9.0, 3.0, 1.0, 1.0, 2.0, 3.0, 5.0, 15.0, 20.0, 21.0, 6.0, 10.0, 6.0, 7.0, 9.0, 7.0, 11.0, 12.0, 12.0, 11.0, 11.0]}, \"V7M 1J6\": {\"cars\": [10.0, 9.0, 5.0, 9.0, 3.0, 1.0, 1.0, 2.0, 3.0, 5.0, 15.0, 20.0, 21.0, 6.0, 10.0, 6.0, 7.0, 9.0, 7.0, 11.0, 12.0, 12.0, 11.0, 11.0]}, \"V6B 5J3\": {\"cars\": [10.0, 9.0, 5.0, 9.0, 3.0, 1.0, 1.0, 2.0, 3.0, 5.0, 15.0, 20.0, 21.0, 6.0, 10.0, 6.0, 7.0, 9.0, 7.0, 11.0, 12.0, 12.0, 11.0, 11.0]}, \"V5Y 3R4\": {\"cars\": [10.0, 9.0, 5.0, 9.0, 3.0, 1.0, 1.0, 2.0, 3.0, 5.0, 15.0, 20.0, 21.0, 6.0, 10.0, 6.0, 7.0, 9.0, 7.0, 11.0, 12.0, 12.0, 11.0, 11.0]}, \"V6H 2R2\": {\"cars\": [10.0, 9.0, 5.0, 9.0, 3.0, 1.0, 1.0, 2.0, 3.0, 5.0, 15.0, 20.0, 21.0, 6.0, 10.0, 6.0, 7.0, 9.0, 7.0, 11.0, 12.0, 12.0, 11.0, 11.0]}, \"V6B 3J5\": {\"cars\": [10.0, 9.0, 5.0, 9.0, 3.0, 1.0, 1.0, 2.0, 3.0, 5.0, 15.0, 20.0, 21.0, 6.0, 10.0, 6.0, 7.0, 9.0, 7.0, 11.0, 12.0, 12.0, 11.0, 11.0]}, \"V5Z 3M5\": {\"cars\": [10.0, 9.0, 5.0, 9.0, 3.0, 1.0, 1.0, 2.0, 3.0, 5.0, 15.0, 20.0, 21.0, 6.0, 10.0, 6.0, 7.0, 9.0, 7.0, 11.0, 12.0, 12.0, 11.0, 11.0]}, \"V6B 1V4\": {\"cars\": [10.0, 9.0, 5.0, 9.0, 3.0, 1.0, 1.0, 2.0, 3.0, 5.0, 15.0, 20.0, 21.0, 6.0, 10.0, 6.0, 7.0, 9.0, 7.0, 11.0, 12.0, 12.0, 11.0, 11.0]}, \"V7P\": {\"lat_long\": [49.3237588, -123.0982218], \"cars\": [10.0, 9.0, 5.0, 9.0, 3.0, 1.0, 1.0, 2.0, 3.0, 5.0, 15.0, 20.0, 21.0, 6.0, 10.0, 6.0, 7.0, 9.0, 7.0, 11.0, 12.0, 12.0, 11.0, 11.0]}, \"V5R 5G8\": {\"cars\": [10.0, 9.0, 5.0, 9.0, 3.0, 1.0, 1.0, 2.0, 3.0, 5.0, 15.0, 20.0, 21.0, 6.0, 10.0, 6.0, 7.0, 9.0, 7.0, 11.0, 12.0, 12.0, 11.0, 11.0]}, \"V3N 2G5\": {\"cars\": [10.0, 9.0, 5.0, 9.0, 3.0, 1.0, 1.0, 2.0, 3.0, 5.0, 15.0, 20.0, 21.0, 6.0, 10.0, 6.0, 7.0, 9.0, 7.0, 11.0, 12.0, 12.0, 11.0, 11.0]}, \"V6K 1T2\": {\"cars\": [10.0, 9.0, 5.0, 9.0, 3.0, 1.0, 1.0, 2.0, 3.0, 5.0, 15.0, 20.0, 21.0, 6.0, 10.0, 6.0, 7.0, 9.0, 7.0, 11.0, 12.0, 12.0, 11.0, 11.0]}, \"V6M 2B8\": {\"cars\": [10.0, 9.0, 5.0, 9.0, 3.0, 1.0, 1.0, 2.0, 3.0, 5.0, 15.0, 20.0, 21.0, 6.0, 10.0, 6.0, 7.0, 9.0, 7.0, 11.0, 12.0, 12.0, 11.0, 11.0]}, \"V6E 1L6\": {\"lat_long\": [49.28285409999999, -123.1332696], \"cars\": [10.0, 9.0, 5.0, 9.0, 3.0, 1.0, 1.0, 2.0, 3.0, 5.0, 15.0, 20.0, 21.0, 6.0, 10.0, 6.0, 7.0, 9.0, 7.0, 11.0, 12.0, 12.0, 11.0, 11.0]}, \"V5Y 0B8\": {\"cars\": [10.0, 9.0, 5.0, 9.0, 3.0, 1.0, 1.0, 2.0, 3.0, 5.0, 15.0, 20.0, 21.0, 6.0, 10.0, 6.0, 7.0, 9.0, 7.0, 11.0, 12.0, 12.0, 11.0, 11.0]}, \"V6G\": {\"lat_long\": [49.2885483, -123.1332516], \"cars\": [10.0, 9.0, 5.0, 9.0, 3.0, 1.0, 1.0, 2.0, 3.0, 5.0, 15.0, 20.0, 21.0, 6.0, 10.0, 6.0, 7.0, 9.0, 7.0, 11.0, 12.0, 12.0, 11.0, 11.0]}, \"V5W 2A2\": {\"cars\": [10.0, 9.0, 5.0, 9.0, 3.0, 1.0, 1.0, 2.0, 3.0, 5.0, 15.0, 20.0, 21.0, 6.0, 10.0, 6.0, 7.0, 9.0, 7.0, 11.0, 12.0, 12.0, 11.0, 11.0]}, \"V6K 3E6\": {\"cars\": [10.0, 9.0, 5.0, 9.0, 3.0, 1.0, 1.0, 2.0, 3.0, 5.0, 15.0, 20.0, 21.0, 6.0, 10.0, 6.0, 7.0, 9.0, 7.0, 11.0, 12.0, 12.0, 11.0, 11.0]}, \"V3L 0C9\": {\"cars\": [10.0, 9.0, 5.0, 9.0, 3.0, 1.0, 1.0, 2.0, 3.0, 5.0, 15.0, 20.0, 21.0, 6.0, 10.0, 6.0, 7.0, 9.0, 7.0, 11.0, 12.0, 12.0, 11.0, 11.0]}, \"V5Z 2L5\": {\"cars\": [10.0, 9.0, 5.0, 9.0, 3.0, 1.0, 1.0, 2.0, 3.0, 5.0, 15.0, 20.0, 21.0, 6.0, 10.0, 6.0, 7.0, 9.0, 7.0, 11.0, 12.0, 12.0, 11.0, 11.0]}, \"V6E 4S7\": {\"cars\": [10.0, 9.0, 5.0, 9.0, 3.0, 1.0, 1.0, 2.0, 3.0, 5.0, 15.0, 20.0, 21.0, 6.0, 10.0, 6.0, 7.0, 9.0, 7.0, 11.0, 12.0, 12.0, 11.0, 11.0]}, \"V5V 5E9\": {\"cars\": [10.0, 9.0, 5.0, 9.0, 3.0, 1.0, 1.0, 2.0, 3.0, 5.0, 15.0, 20.0, 21.0, 6.0, 10.0, 6.0, 7.0, 9.0, 7.0, 11.0, 12.0, 12.0, 11.0, 11.0]}, \"V5Y 4B6\": {\"cars\": [10.0, 9.0, 5.0, 9.0, 3.0, 1.0, 1.0, 2.0, 3.0, 5.0, 15.0, 20.0, 21.0, 6.0, 10.0, 6.0, 7.0, 9.0, 7.0, 11.0, 12.0, 12.0, 11.0, 11.0]}, \"V5T 2R6\": {\"cars\": [10.0, 9.0, 5.0, 9.0, 3.0, 1.0, 1.0, 2.0, 3.0, 5.0, 15.0, 20.0, 21.0, 6.0, 10.0, 6.0, 7.0, 9.0, 7.0, 11.0, 12.0, 12.0, 11.0, 11.0]}, \"V5R 1N4\": {\"cars\": [10.0, 9.0, 5.0, 9.0, 3.0, 1.0, 1.0, 2.0, 3.0, 5.0, 15.0, 20.0, 21.0, 6.0, 10.0, 6.0, 7.0, 9.0, 7.0, 11.0, 12.0, 12.0, 11.0, 11.0]}, \"V6B 6L9\": {\"cars\": [10.0, 9.0, 5.0, 9.0, 3.0, 1.0, 1.0, 2.0, 3.0, 5.0, 15.0, 20.0, 21.0, 6.0, 10.0, 6.0, 7.0, 9.0, 7.0, 11.0, 12.0, 12.0, 11.0, 11.0]}, \"V6E 3P3\": {\"cars\": [10.0, 9.0, 5.0, 9.0, 3.0, 1.0, 1.0, 2.0, 3.0, 5.0, 15.0, 20.0, 21.0, 6.0, 10.0, 6.0, 7.0, 9.0, 7.0, 11.0, 12.0, 12.0, 11.0, 11.0]}, \"V5T 1W9\": {\"cars\": [10.0, 9.0, 5.0, 9.0, 3.0, 1.0, 1.0, 2.0, 3.0, 5.0, 15.0, 20.0, 21.0, 6.0, 10.0, 6.0, 7.0, 9.0, 7.0, 11.0, 12.0, 12.0, 11.0, 11.0]}, \"V6H 3J7\": {\"cars\": [10.0, 9.0, 5.0, 9.0, 3.0, 1.0, 1.0, 2.0, 3.0, 5.0, 15.0, 20.0, 21.0, 6.0, 10.0, 6.0, 7.0, 9.0, 7.0, 11.0, 12.0, 12.0, 11.0, 11.0]}, \"V6M 2P7\": {\"cars\": [10.0, 9.0, 5.0, 9.0, 3.0, 1.0, 1.0, 2.0, 3.0, 5.0, 15.0, 20.0, 21.0, 6.0, 10.0, 6.0, 7.0, 9.0, 7.0, 11.0, 12.0, 12.0, 11.0, 11.0]}, \"V6S 0A6\": {\"cars\": [10.0, 9.0, 5.0, 9.0, 3.0, 1.0, 1.0, 2.0, 3.0, 5.0, 15.0, 20.0, 21.0, 6.0, 10.0, 6.0, 7.0, 9.0, 7.0, 11.0, 12.0, 12.0, 11.0, 11.0]}, \"V5N 2T6\": {\"lat_long\": [49.24342830000001, -123.0607594], \"cars\": [10.0, 9.0, 5.0, 9.0, 3.0, 1.0, 1.0, 2.0, 3.0, 5.0, 15.0, 20.0, 21.0, 6.0, 10.0, 6.0, 7.0, 9.0, 7.0, 11.0, 12.0, 12.0, 11.0, 11.0]}, \"V6T\": {\"lat_long\": [49.2685678, -123.2178896], \"cars\": [10.0, 9.0, 5.0, 9.0, 3.0, 1.0, 1.0, 2.0, 3.0, 5.0, 15.0, 20.0, 21.0, 6.0, 10.0, 6.0, 7.0, 9.0, 7.0, 11.0, 12.0, 12.0, 11.0, 11.0]}, \"V5T 1J5\": {\"cars\": [10.0, 9.0, 5.0, 9.0, 3.0, 1.0, 1.0, 2.0, 3.0, 5.0, 15.0, 20.0, 21.0, 6.0, 10.0, 6.0, 7.0, 9.0, 7.0, 11.0, 12.0, 12.0, 11.0, 11.0]}, \"V5L 2W2\": {\"cars\": [10.0, 9.0, 5.0, 9.0, 3.0, 1.0, 1.0, 2.0, 3.0, 5.0, 15.0, 20.0, 21.0, 6.0, 10.0, 6.0, 7.0, 9.0, 7.0, 11.0, 12.0, 12.0, 11.0, 11.0]}, \"V5V 2T3\": {\"cars\": [10.0, 9.0, 5.0, 9.0, 3.0, 1.0, 1.0, 2.0, 3.0, 5.0, 15.0, 20.0, 21.0, 6.0, 10.0, 6.0, 7.0, 9.0, 7.0, 11.0, 12.0, 12.0, 11.0, 11.0]}, \"V5X 4C5\": {\"cars\": [10.0, 9.0, 5.0, 9.0, 3.0, 1.0, 1.0, 2.0, 3.0, 5.0, 15.0, 20.0, 21.0, 6.0, 10.0, 6.0, 7.0, 9.0, 7.0, 11.0, 12.0, 12.0, 11.0, 11.0]}, \"V6B 2L3\": {\"cars\": [10.0, 9.0, 5.0, 9.0, 3.0, 1.0, 1.0, 2.0, 3.0, 5.0, 15.0, 20.0, 21.0, 6.0, 10.0, 6.0, 7.0, 9.0, 7.0, 11.0, 12.0, 12.0, 11.0, 11.0]}, \"V5Y 1L6\": {\"cars\": [10.0, 9.0, 5.0, 9.0, 3.0, 1.0, 1.0, 2.0, 3.0, 5.0, 15.0, 20.0, 21.0, 6.0, 10.0, 6.0, 7.0, 9.0, 7.0, 11.0, 12.0, 12.0, 11.0, 11.0]}, \"V6J 3H6\": {\"cars\": [10.0, 9.0, 5.0, 9.0, 3.0, 1.0, 1.0, 2.0, 3.0, 5.0, 15.0, 20.0, 21.0, 6.0, 10.0, 6.0, 7.0, 9.0, 7.0, 11.0, 12.0, 12.0, 11.0, 11.0]}, \"V6K 3G6\": {\"cars\": [10.0, 9.0, 5.0, 9.0, 3.0, 1.0, 1.0, 2.0, 3.0, 5.0, 15.0, 20.0, 21.0, 6.0, 10.0, 6.0, 7.0, 9.0, 7.0, 11.0, 12.0, 12.0, 11.0, 11.0]}, \"V5V 3P3\": {\"cars\": [10.0, 9.0, 5.0, 9.0, 3.0, 1.0, 1.0, 2.0, 3.0, 5.0, 15.0, 20.0, 21.0, 6.0, 10.0, 6.0, 7.0, 9.0, 7.0, 11.0, 12.0, 12.0, 11.0, 11.0]}, \"V5N 3Z8\": {\"cars\": [10.0, 9.0, 5.0, 9.0, 3.0, 1.0, 1.0, 2.0, 3.0, 5.0, 15.0, 20.0, 21.0, 6.0, 10.0, 6.0, 7.0, 9.0, 7.0, 11.0, 12.0, 12.0, 11.0, 11.0]}, \"V6N 4G1\": {\"cars\": [10.0, 9.0, 5.0, 9.0, 3.0, 1.0, 1.0, 2.0, 3.0, 5.0, 15.0, 20.0, 21.0, 6.0, 10.0, 6.0, 7.0, 9.0, 7.0, 11.0, 12.0, 12.0, 11.0, 11.0]}, \"V6B 6N7\": {\"cars\": [10.0, 9.0, 5.0, 9.0, 3.0, 1.0, 1.0, 2.0, 3.0, 5.0, 15.0, 20.0, 21.0, 6.0, 10.0, 6.0, 7.0, 9.0, 7.0, 11.0, 12.0, 12.0, 11.0, 11.0]}, \"V6B 1H7\": {\"cars\": [10.0, 9.0, 5.0, 9.0, 3.0, 1.0, 1.0, 2.0, 3.0, 5.0, 15.0, 20.0, 21.0, 6.0, 10.0, 6.0, 7.0, 9.0, 7.0, 11.0, 12.0, 12.0, 11.0, 11.0]}, \"V5N 1V6\": {\"cars\": [10.0, 9.0, 5.0, 9.0, 3.0, 1.0, 1.0, 2.0, 3.0, 5.0, 15.0, 20.0, 21.0, 6.0, 10.0, 6.0, 7.0, 9.0, 7.0, 11.0, 12.0, 12.0, 11.0, 11.0]}, \"V6A 1R2\": {\"cars\": [10.0, 9.0, 5.0, 9.0, 3.0, 1.0, 1.0, 2.0, 3.0, 5.0, 15.0, 20.0, 21.0, 6.0, 10.0, 6.0, 7.0, 9.0, 7.0, 11.0, 12.0, 12.0, 11.0, 11.0]}, \"V5Z 3N2\": {\"cars\": [10.0, 9.0, 5.0, 9.0, 3.0, 1.0, 1.0, 2.0, 3.0, 5.0, 15.0, 20.0, 21.0, 6.0, 10.0, 6.0, 7.0, 9.0, 7.0, 11.0, 12.0, 12.0, 11.0, 11.0]}, \"V6A 3A3\": {\"cars\": [10.0, 9.0, 5.0, 9.0, 3.0, 1.0, 1.0, 2.0, 3.0, 5.0, 15.0, 20.0, 21.0, 6.0, 10.0, 6.0, 7.0, 9.0, 7.0, 11.0, 12.0, 12.0, 11.0, 11.0]}, \"V6L 2H8\": {\"cars\": [10.0, 9.0, 5.0, 9.0, 3.0, 1.0, 1.0, 2.0, 3.0, 5.0, 15.0, 20.0, 21.0, 6.0, 10.0, 6.0, 7.0, 9.0, 7.0, 11.0, 12.0, 12.0, 11.0, 11.0]}, \"V5L 3K9\": {\"lat_long\": [49.2720496, -123.0777653], \"cars\": [10.0, 9.0, 5.0, 9.0, 3.0, 1.0, 1.0, 2.0, 3.0, 5.0, 15.0, 20.0, 21.0, 6.0, 10.0, 6.0, 7.0, 9.0, 7.0, 11.0, 12.0, 12.0, 11.0, 11.0]}, \"V6B 2R7\": {\"cars\": [10.0, 9.0, 5.0, 9.0, 3.0, 1.0, 1.0, 2.0, 3.0, 5.0, 15.0, 20.0, 21.0, 6.0, 10.0, 6.0, 7.0, 9.0, 7.0, 11.0, 12.0, 12.0, 11.0, 11.0]}, \"V6H 4A7\": {\"cars\": [10.0, 9.0, 5.0, 9.0, 3.0, 1.0, 1.0, 2.0, 3.0, 5.0, 15.0, 20.0, 21.0, 6.0, 10.0, 6.0, 7.0, 9.0, 7.0, 11.0, 12.0, 12.0, 11.0, 11.0]}, \"V5V 3A4\": {\"cars\": [10.0, 9.0, 5.0, 9.0, 3.0, 1.0, 1.0, 2.0, 3.0, 5.0, 15.0, 20.0, 21.0, 6.0, 10.0, 6.0, 7.0, 9.0, 7.0, 11.0, 12.0, 12.0, 11.0, 11.0]}, \"V5L 1L5\": {\"cars\": [10.0, 9.0, 5.0, 9.0, 3.0, 1.0, 1.0, 2.0, 3.0, 5.0, 15.0, 20.0, 21.0, 6.0, 10.0, 6.0, 7.0, 9.0, 7.0, 11.0, 12.0, 12.0, 11.0, 11.0]}, \"V6B 5A1\": {\"cars\": [10.0, 9.0, 5.0, 9.0, 3.0, 1.0, 1.0, 2.0, 3.0, 5.0, 15.0, 20.0, 21.0, 6.0, 10.0, 6.0, 7.0, 9.0, 7.0, 11.0, 12.0, 12.0, 11.0, 11.0]}, \"V6G 1X5\": {\"cars\": [10.0, 9.0, 5.0, 9.0, 3.0, 1.0, 1.0, 2.0, 3.0, 5.0, 15.0, 20.0, 21.0, 6.0, 10.0, 6.0, 7.0, 9.0, 7.0, 11.0, 12.0, 12.0, 11.0, 11.0]}, \"V5N 4E9\": {\"cars\": [10.0, 9.0, 5.0, 9.0, 3.0, 1.0, 1.0, 2.0, 3.0, 5.0, 15.0, 20.0, 21.0, 6.0, 10.0, 6.0, 7.0, 9.0, 7.0, 11.0, 12.0, 12.0, 11.0, 11.0]}, \"V6Z 2N2\": {\"cars\": [10.0, 9.0, 5.0, 9.0, 3.0, 1.0, 1.0, 2.0, 3.0, 5.0, 15.0, 20.0, 21.0, 6.0, 10.0, 6.0, 7.0, 9.0, 7.0, 11.0, 12.0, 12.0, 11.0, 11.0]}, \"V5G 4J3\": {\"cars\": [10.0, 9.0, 5.0, 9.0, 3.0, 1.0, 1.0, 2.0, 3.0, 5.0, 15.0, 20.0, 21.0, 6.0, 10.0, 6.0, 7.0, 9.0, 7.0, 11.0, 12.0, 12.0, 11.0, 11.0]}, \"V6B 1X4\": {\"cars\": [10.0, 9.0, 5.0, 9.0, 3.0, 1.0, 1.0, 2.0, 3.0, 5.0, 15.0, 20.0, 21.0, 6.0, 10.0, 6.0, 7.0, 9.0, 7.0, 11.0, 12.0, 12.0, 11.0, 11.0]}, \"V7J\": {\"lat_long\": [49.307039, -123.0413649], \"cars\": [10.0, 9.0, 5.0, 9.0, 3.0, 1.0, 1.0, 2.0, 3.0, 5.0, 15.0, 20.0, 21.0, 6.0, 10.0, 6.0, 7.0, 9.0, 7.0, 11.0, 12.0, 12.0, 11.0, 11.0]}, \"V6E 1M5\": {\"cars\": [10.0, 9.0, 5.0, 9.0, 3.0, 1.0, 1.0, 2.0, 3.0, 5.0, 15.0, 20.0, 21.0, 6.0, 10.0, 6.0, 7.0, 9.0, 7.0, 11.0, 12.0, 12.0, 11.0, 11.0]}, \"V7M 3N2\": {\"cars\": [10.0, 9.0, 5.0, 9.0, 3.0, 1.0, 1.0, 2.0, 3.0, 5.0, 15.0, 20.0, 21.0, 6.0, 10.0, 6.0, 7.0, 9.0, 7.0, 11.0, 12.0, 12.0, 11.0, 11.0]}, \"V6T 0B3\": {\"cars\": [10.0, 9.0, 5.0, 9.0, 3.0, 1.0, 1.0, 2.0, 3.0, 5.0, 15.0, 20.0, 21.0, 6.0, 10.0, 6.0, 7.0, 9.0, 7.0, 11.0, 12.0, 12.0, 11.0, 11.0]}, \"V6E3W1\": {\"cars\": [10.0, 9.0, 5.0, 9.0, 3.0, 1.0, 1.0, 2.0, 3.0, 5.0, 15.0, 20.0, 21.0, 6.0, 10.0, 6.0, 7.0, 9.0, 7.0, 11.0, 12.0, 12.0, 11.0, 11.0]}, \"V6A 2M2\": {\"cars\": [10.0, 9.0, 5.0, 9.0, 3.0, 1.0, 1.0, 2.0, 3.0, 5.0, 15.0, 20.0, 21.0, 6.0, 10.0, 6.0, 7.0, 9.0, 7.0, 11.0, 12.0, 12.0, 11.0, 11.0]}, \"V6J 3H1\": {\"cars\": [10.0, 9.0, 5.0, 9.0, 3.0, 1.0, 1.0, 2.0, 3.0, 5.0, 15.0, 20.0, 21.0, 6.0, 10.0, 6.0, 7.0, 9.0, 7.0, 11.0, 12.0, 12.0, 11.0, 11.0]}, \"V6A 3Y9\": {\"cars\": [10.0, 9.0, 5.0, 9.0, 3.0, 1.0, 1.0, 2.0, 3.0, 5.0, 15.0, 20.0, 21.0, 6.0, 10.0, 6.0, 7.0, 9.0, 7.0, 11.0, 12.0, 12.0, 11.0, 11.0]}, \"V7Y 1E8\": {\"cars\": [10.0, 9.0, 5.0, 9.0, 3.0, 1.0, 1.0, 2.0, 3.0, 5.0, 15.0, 20.0, 21.0, 6.0, 10.0, 6.0, 7.0, 9.0, 7.0, 11.0, 12.0, 12.0, 11.0, 11.0]}, \"V6E 1T7\": {\"lat_long\": [49.2771176, -123.1358988], \"cars\": [10.0, 9.0, 5.0, 9.0, 3.0, 1.0, 1.0, 2.0, 3.0, 5.0, 15.0, 20.0, 21.0, 6.0, 10.0, 6.0, 7.0, 9.0, 7.0, 11.0, 12.0, 12.0, 11.0, 11.0]}, \"V6E 1B2\": {\"cars\": [10.0, 9.0, 5.0, 9.0, 3.0, 1.0, 1.0, 2.0, 3.0, 5.0, 15.0, 20.0, 21.0, 6.0, 10.0, 6.0, 7.0, 9.0, 7.0, 11.0, 12.0, 12.0, 11.0, 11.0]}, \"V6S 2E1\": {\"cars\": [10.0, 9.0, 5.0, 9.0, 3.0, 1.0, 1.0, 2.0, 3.0, 5.0, 15.0, 20.0, 21.0, 6.0, 10.0, 6.0, 7.0, 9.0, 7.0, 11.0, 12.0, 12.0, 11.0, 11.0]}, \"V7Y 1G5\": {\"cars\": [10.0, 9.0, 5.0, 9.0, 3.0, 1.0, 1.0, 2.0, 3.0, 5.0, 15.0, 20.0, 21.0, 6.0, 10.0, 6.0, 7.0, 9.0, 7.0, 11.0, 12.0, 12.0, 11.0, 11.0]}, \"V5T 2C3\": {\"cars\": [10.0, 9.0, 5.0, 9.0, 3.0, 1.0, 1.0, 2.0, 3.0, 5.0, 15.0, 20.0, 21.0, 6.0, 10.0, 6.0, 7.0, 9.0, 7.0, 11.0, 12.0, 12.0, 11.0, 11.0]}, \"V3M 0G8\": {\"cars\": [10.0, 9.0, 5.0, 9.0, 3.0, 1.0, 1.0, 2.0, 3.0, 5.0, 15.0, 20.0, 21.0, 6.0, 10.0, 6.0, 7.0, 9.0, 7.0, 11.0, 12.0, 12.0, 11.0, 11.0]}, \"V5N 4K1\": {\"cars\": [10.0, 9.0, 5.0, 9.0, 3.0, 1.0, 1.0, 2.0, 3.0, 5.0, 15.0, 20.0, 21.0, 6.0, 10.0, 6.0, 7.0, 9.0, 7.0, 11.0, 12.0, 12.0, 11.0, 11.0]}, \"V3M 1A5\": {\"cars\": [10.0, 9.0, 5.0, 9.0, 3.0, 1.0, 1.0, 2.0, 3.0, 5.0, 15.0, 20.0, 21.0, 6.0, 10.0, 6.0, 7.0, 9.0, 7.0, 11.0, 12.0, 12.0, 11.0, 11.0]}, \"V6P 3M4\": {\"cars\": [10.0, 9.0, 5.0, 9.0, 3.0, 1.0, 1.0, 2.0, 3.0, 5.0, 15.0, 20.0, 21.0, 6.0, 10.0, 6.0, 7.0, 9.0, 7.0, 11.0, 12.0, 12.0, 11.0, 11.0]}, \"V5L 2C4\": {\"cars\": [10.0, 9.0, 5.0, 9.0, 3.0, 1.0, 1.0, 2.0, 3.0, 5.0, 15.0, 20.0, 21.0, 6.0, 10.0, 6.0, 7.0, 9.0, 7.0, 11.0, 12.0, 12.0, 11.0, 11.0]}, \"V5K 1Y8\": {\"cars\": [10.0, 9.0, 5.0, 9.0, 3.0, 1.0, 1.0, 2.0, 3.0, 5.0, 15.0, 20.0, 21.0, 6.0, 10.0, 6.0, 7.0, 9.0, 7.0, 11.0, 12.0, 12.0, 11.0, 11.0]}, \"V5S\": {\"lat_long\": [49.2279388, -123.0575954], \"cars\": [10.0, 9.0, 5.0, 9.0, 3.0, 1.0, 1.0, 2.0, 3.0, 5.0, 15.0, 20.0, 21.0, 6.0, 10.0, 6.0, 7.0, 9.0, 7.0, 11.0, 12.0, 12.0, 11.0, 11.0]}, \"V3L 3P2\": {\"cars\": [10.0, 9.0, 5.0, 9.0, 3.0, 1.0, 1.0, 2.0, 3.0, 5.0, 15.0, 20.0, 21.0, 6.0, 10.0, 6.0, 7.0, 9.0, 7.0, 11.0, 12.0, 12.0, 11.0, 11.0]}, \"V5T 1B3\": {\"cars\": [10.0, 9.0, 5.0, 9.0, 3.0, 1.0, 1.0, 2.0, 3.0, 5.0, 15.0, 20.0, 21.0, 6.0, 10.0, 6.0, 7.0, 9.0, 7.0, 11.0, 12.0, 12.0, 11.0, 11.0]}, \"V5R 5S1\": {\"lat_long\": [49.2403521, -123.0272829], \"cars\": [10.0, 9.0, 5.0, 9.0, 3.0, 1.0, 1.0, 2.0, 3.0, 5.0, 15.0, 20.0, 21.0, 6.0, 10.0, 6.0, 7.0, 9.0, 7.0, 11.0, 12.0, 12.0, 11.0, 11.0]}, \"V6J 1R1\": {\"cars\": [10.0, 9.0, 5.0, 9.0, 3.0, 1.0, 1.0, 2.0, 3.0, 5.0, 15.0, 20.0, 21.0, 6.0, 10.0, 6.0, 7.0, 9.0, 7.0, 11.0, 12.0, 12.0, 11.0, 11.0]}, \"V6Z 1Y6\": {\"cars\": [10.0, 9.0, 5.0, 9.0, 3.0, 1.0, 1.0, 2.0, 3.0, 5.0, 15.0, 20.0, 21.0, 6.0, 10.0, 6.0, 7.0, 9.0, 7.0, 11.0, 12.0, 12.0, 11.0, 11.0]}, \"V6R 1V9\": {\"cars\": [10.0, 9.0, 5.0, 9.0, 3.0, 1.0, 1.0, 2.0, 3.0, 5.0, 15.0, 20.0, 21.0, 6.0, 10.0, 6.0, 7.0, 9.0, 7.0, 11.0, 12.0, 12.0, 11.0, 11.0]}, \"V5X 4K1\": {\"cars\": [10.0, 9.0, 5.0, 9.0, 3.0, 1.0, 1.0, 2.0, 3.0, 5.0, 15.0, 20.0, 21.0, 6.0, 10.0, 6.0, 7.0, 9.0, 7.0, 11.0, 12.0, 12.0, 11.0, 11.0]}, \"V3L 1A9\": {\"cars\": [10.0, 9.0, 5.0, 9.0, 3.0, 1.0, 1.0, 2.0, 3.0, 5.0, 15.0, 20.0, 21.0, 6.0, 10.0, 6.0, 7.0, 9.0, 7.0, 11.0, 12.0, 12.0, 11.0, 11.0]}, \"V5N 4Z2\": {\"cars\": [10.0, 9.0, 5.0, 9.0, 3.0, 1.0, 1.0, 2.0, 3.0, 5.0, 15.0, 20.0, 21.0, 6.0, 10.0, 6.0, 7.0, 9.0, 7.0, 11.0, 12.0, 12.0, 11.0, 11.0]}, \"V5T 1J3\": {\"cars\": [10.0, 9.0, 5.0, 9.0, 3.0, 1.0, 1.0, 2.0, 3.0, 5.0, 15.0, 20.0, 21.0, 6.0, 10.0, 6.0, 7.0, 9.0, 7.0, 11.0, 12.0, 12.0, 11.0, 11.0]}, \"V3L 3X1\": {\"cars\": [10.0, 9.0, 5.0, 9.0, 3.0, 1.0, 1.0, 2.0, 3.0, 5.0, 15.0, 20.0, 21.0, 6.0, 10.0, 6.0, 7.0, 9.0, 7.0, 11.0, 12.0, 12.0, 11.0, 11.0]}, \"V5Z 2T1\": {\"cars\": [10.0, 9.0, 5.0, 9.0, 3.0, 1.0, 1.0, 2.0, 3.0, 5.0, 15.0, 20.0, 21.0, 6.0, 10.0, 6.0, 7.0, 9.0, 7.0, 11.0, 12.0, 12.0, 11.0, 11.0]}, \"V6A 1E3\": {\"cars\": [10.0, 9.0, 5.0, 9.0, 3.0, 1.0, 1.0, 2.0, 3.0, 5.0, 15.0, 20.0, 21.0, 6.0, 10.0, 6.0, 7.0, 9.0, 7.0, 11.0, 12.0, 12.0, 11.0, 11.0]}, \"V3L 2W6\": {\"cars\": [10.0, 9.0, 5.0, 9.0, 3.0, 1.0, 1.0, 2.0, 3.0, 5.0, 15.0, 20.0, 21.0, 6.0, 10.0, 6.0, 7.0, 9.0, 7.0, 11.0, 12.0, 12.0, 11.0, 11.0]}, \"V3L 3A9\": {\"cars\": [10.0, 9.0, 5.0, 9.0, 3.0, 1.0, 1.0, 2.0, 3.0, 5.0, 15.0, 20.0, 21.0, 6.0, 10.0, 6.0, 7.0, 9.0, 7.0, 11.0, 12.0, 12.0, 11.0, 11.0]}, \"V6P 6Y5\": {\"cars\": [10.0, 9.0, 5.0, 9.0, 3.0, 1.0, 1.0, 2.0, 3.0, 5.0, 15.0, 20.0, 21.0, 6.0, 10.0, 6.0, 7.0, 9.0, 7.0, 11.0, 12.0, 12.0, 11.0, 11.0]}, \"V6H\": {\"lat_long\": [49.2658088, -123.1299151], \"cars\": [10.0, 9.0, 5.0, 9.0, 3.0, 1.0, 1.0, 2.0, 3.0, 5.0, 15.0, 20.0, 21.0, 6.0, 10.0, 6.0, 7.0, 9.0, 7.0, 11.0, 12.0, 12.0, 11.0, 11.0]}, \"V6E 1B0\": {\"cars\": [10.0, 9.0, 5.0, 9.0, 3.0, 1.0, 1.0, 2.0, 3.0, 5.0, 15.0, 20.0, 21.0, 6.0, 10.0, 6.0, 7.0, 9.0, 7.0, 11.0, 12.0, 12.0, 11.0, 11.0]}, \"V3L 0E3\": {\"cars\": [10.0, 9.0, 5.0, 9.0, 3.0, 1.0, 1.0, 2.0, 3.0, 5.0, 15.0, 20.0, 21.0, 6.0, 10.0, 6.0, 7.0, 9.0, 7.0, 11.0, 12.0, 12.0, 11.0, 11.0]}, \"V6B 1G7\": {\"cars\": [10.0, 9.0, 5.0, 9.0, 3.0, 1.0, 1.0, 2.0, 3.0, 5.0, 15.0, 20.0, 21.0, 6.0, 10.0, 6.0, 7.0, 9.0, 7.0, 11.0, 12.0, 12.0, 11.0, 11.0]}, \"V6A 1R1\": {\"cars\": [10.0, 9.0, 5.0, 9.0, 3.0, 1.0, 1.0, 2.0, 3.0, 5.0, 15.0, 20.0, 21.0, 6.0, 10.0, 6.0, 7.0, 9.0, 7.0, 11.0, 12.0, 12.0, 11.0, 11.0]}, \"V6Z 1B1\": {\"cars\": [10.0, 9.0, 5.0, 9.0, 3.0, 1.0, 1.0, 2.0, 3.0, 5.0, 15.0, 20.0, 21.0, 6.0, 10.0, 6.0, 7.0, 9.0, 7.0, 11.0, 12.0, 12.0, 11.0, 11.0]}, \"V6M 1V5\": {\"cars\": [10.0, 9.0, 5.0, 9.0, 3.0, 1.0, 1.0, 2.0, 3.0, 5.0, 15.0, 20.0, 21.0, 6.0, 10.0, 6.0, 7.0, 9.0, 7.0, 11.0, 12.0, 12.0, 11.0, 11.0]}, \"V6B 3K4\": {\"cars\": [10.0, 9.0, 5.0, 9.0, 3.0, 1.0, 1.0, 2.0, 3.0, 5.0, 15.0, 20.0, 21.0, 6.0, 10.0, 6.0, 7.0, 9.0, 7.0, 11.0, 12.0, 12.0, 11.0, 11.0]}, \"V6A 2P3\": {\"cars\": [10.0, 9.0, 5.0, 9.0, 3.0, 1.0, 1.0, 2.0, 3.0, 5.0, 15.0, 20.0, 21.0, 6.0, 10.0, 6.0, 7.0, 9.0, 7.0, 11.0, 12.0, 12.0, 11.0, 11.0]}, \"V7M 2H3\": {\"cars\": [10.0, 9.0, 5.0, 9.0, 3.0, 1.0, 1.0, 2.0, 3.0, 5.0, 15.0, 20.0, 21.0, 6.0, 10.0, 6.0, 7.0, 9.0, 7.0, 11.0, 12.0, 12.0, 11.0, 11.0]}, \"V5L 2E3\": {\"cars\": [10.0, 9.0, 5.0, 9.0, 3.0, 1.0, 1.0, 2.0, 3.0, 5.0, 15.0, 20.0, 21.0, 6.0, 10.0, 6.0, 7.0, 9.0, 7.0, 11.0, 12.0, 12.0, 11.0, 11.0]}, \"V5M 4T5\": {\"cars\": [10.0, 9.0, 5.0, 9.0, 3.0, 1.0, 1.0, 2.0, 3.0, 5.0, 15.0, 20.0, 21.0, 6.0, 10.0, 6.0, 7.0, 9.0, 7.0, 11.0, 12.0, 12.0, 11.0, 11.0]}, \"V5L 4N8\": {\"cars\": [10.0, 9.0, 5.0, 9.0, 3.0, 1.0, 1.0, 2.0, 3.0, 5.0, 15.0, 20.0, 21.0, 6.0, 10.0, 6.0, 7.0, 9.0, 7.0, 11.0, 12.0, 12.0, 11.0, 11.0]}, \"V6M 1M1\": {\"cars\": [10.0, 9.0, 5.0, 9.0, 3.0, 1.0, 1.0, 2.0, 3.0, 5.0, 15.0, 20.0, 21.0, 6.0, 10.0, 6.0, 7.0, 9.0, 7.0, 11.0, 12.0, 12.0, 11.0, 11.0]}, \"V5R 6H5\": {\"cars\": [10.0, 9.0, 5.0, 9.0, 3.0, 1.0, 1.0, 2.0, 3.0, 5.0, 15.0, 20.0, 21.0, 6.0, 10.0, 6.0, 7.0, 9.0, 7.0, 11.0, 12.0, 12.0, 11.0, 11.0]}, \"V6M 1P8\": {\"lat_long\": [49.23705469999999, -123.1314889], \"cars\": [10.0, 9.0, 5.0, 9.0, 3.0, 1.0, 1.0, 2.0, 3.0, 5.0, 15.0, 20.0, 21.0, 6.0, 10.0, 6.0, 7.0, 9.0, 7.0, 11.0, 12.0, 12.0, 11.0, 11.0]}, \"V7M 2K3\": {\"cars\": [10.0, 9.0, 5.0, 9.0, 3.0, 1.0, 1.0, 2.0, 3.0, 5.0, 15.0, 20.0, 21.0, 6.0, 10.0, 6.0, 7.0, 9.0, 7.0, 11.0, 12.0, 12.0, 11.0, 11.0]}, \"V5L 3T4\": {\"cars\": [10.0, 9.0, 5.0, 9.0, 3.0, 1.0, 1.0, 2.0, 3.0, 5.0, 15.0, 20.0, 21.0, 6.0, 10.0, 6.0, 7.0, 9.0, 7.0, 11.0, 12.0, 12.0, 11.0, 11.0]}, \"V5Z 2M9\": {\"cars\": [10.0, 9.0, 5.0, 9.0, 3.0, 1.0, 1.0, 2.0, 3.0, 5.0, 15.0, 20.0, 21.0, 6.0, 10.0, 6.0, 7.0, 9.0, 7.0, 11.0, 12.0, 12.0, 11.0, 11.0]}, \"V6K 4T4\": {\"cars\": [10.0, 9.0, 5.0, 9.0, 3.0, 1.0, 1.0, 2.0, 3.0, 5.0, 15.0, 20.0, 21.0, 6.0, 10.0, 6.0, 7.0, 9.0, 7.0, 11.0, 12.0, 12.0, 11.0, 11.0]}, \"V6R 3W6\": {\"cars\": [10.0, 9.0, 5.0, 9.0, 3.0, 1.0, 1.0, 2.0, 3.0, 5.0, 15.0, 20.0, 21.0, 6.0, 10.0, 6.0, 7.0, 9.0, 7.0, 11.0, 12.0, 12.0, 11.0, 11.0]}, \"V5W 1A6\": {\"cars\": [10.0, 9.0, 5.0, 9.0, 3.0, 1.0, 1.0, 2.0, 3.0, 5.0, 15.0, 20.0, 21.0, 6.0, 10.0, 6.0, 7.0, 9.0, 7.0, 11.0, 12.0, 12.0, 11.0, 11.0]}, \"V5M 0C4\": {\"cars\": [10.0, 9.0, 5.0, 9.0, 3.0, 1.0, 1.0, 2.0, 3.0, 5.0, 15.0, 20.0, 21.0, 6.0, 10.0, 6.0, 7.0, 9.0, 7.0, 11.0, 12.0, 12.0, 11.0, 11.0]}, \"V6A 1P6\": {\"cars\": [10.0, 9.0, 5.0, 9.0, 3.0, 1.0, 1.0, 2.0, 3.0, 5.0, 15.0, 20.0, 21.0, 6.0, 10.0, 6.0, 7.0, 9.0, 7.0, 11.0, 12.0, 12.0, 11.0, 11.0]}, \"V6B 3A7\": {\"cars\": [10.0, 9.0, 5.0, 9.0, 3.0, 1.0, 1.0, 2.0, 3.0, 5.0, 15.0, 20.0, 21.0, 6.0, 10.0, 6.0, 7.0, 9.0, 7.0, 11.0, 12.0, 12.0, 11.0, 11.0]}, \"V6A 1E1\": {\"cars\": [10.0, 9.0, 5.0, 9.0, 3.0, 1.0, 1.0, 2.0, 3.0, 5.0, 15.0, 20.0, 21.0, 6.0, 10.0, 6.0, 7.0, 9.0, 7.0, 11.0, 12.0, 12.0, 11.0, 11.0]}, \"V6G 2J6\": {\"cars\": [10.0, 9.0, 5.0, 9.0, 3.0, 1.0, 1.0, 2.0, 3.0, 5.0, 15.0, 20.0, 21.0, 6.0, 10.0, 6.0, 7.0, 9.0, 7.0, 11.0, 12.0, 12.0, 11.0, 11.0]}, \"V5R 0B2\": {\"cars\": [10.0, 9.0, 5.0, 9.0, 3.0, 1.0, 1.0, 2.0, 3.0, 5.0, 15.0, 20.0, 21.0, 6.0, 10.0, 6.0, 7.0, 9.0, 7.0, 11.0, 12.0, 12.0, 11.0, 11.0]}, \"V6A 4C7\": {\"cars\": [10.0, 9.0, 5.0, 9.0, 3.0, 1.0, 1.0, 2.0, 3.0, 5.0, 15.0, 20.0, 21.0, 6.0, 10.0, 6.0, 7.0, 9.0, 7.0, 11.0, 12.0, 12.0, 11.0, 11.0]}, \"V5P 4K7\": {\"cars\": [10.0, 9.0, 5.0, 9.0, 3.0, 1.0, 1.0, 2.0, 3.0, 5.0, 15.0, 20.0, 21.0, 6.0, 10.0, 6.0, 7.0, 9.0, 7.0, 11.0, 12.0, 12.0, 11.0, 11.0]}, \"V6A 2V8\": {\"cars\": [10.0, 9.0, 5.0, 9.0, 3.0, 1.0, 1.0, 2.0, 3.0, 5.0, 15.0, 20.0, 21.0, 6.0, 10.0, 6.0, 7.0, 9.0, 7.0, 11.0, 12.0, 12.0, 11.0, 11.0]}, \"V5R 5K6\": {\"lat_long\": [49.2333228, -123.03369], \"cars\": [10.0, 9.0, 5.0, 9.0, 3.0, 1.0, 1.0, 2.0, 3.0, 5.0, 15.0, 20.0, 21.0, 6.0, 10.0, 6.0, 7.0, 9.0, 7.0, 11.0, 12.0, 12.0, 11.0, 11.0]}, \"V3L 5P5\": {\"cars\": [10.0, 9.0, 5.0, 9.0, 3.0, 1.0, 1.0, 2.0, 3.0, 5.0, 15.0, 20.0, 21.0, 6.0, 10.0, 6.0, 7.0, 9.0, 7.0, 11.0, 12.0, 12.0, 11.0, 11.0]}, \"V5K 1Z3\": {\"cars\": [10.0, 9.0, 5.0, 9.0, 3.0, 1.0, 1.0, 2.0, 3.0, 5.0, 15.0, 20.0, 21.0, 6.0, 10.0, 6.0, 7.0, 9.0, 7.0, 11.0, 12.0, 12.0, 11.0, 11.0]}, \"V6B 1E5\": {\"cars\": [10.0, 9.0, 5.0, 9.0, 3.0, 1.0, 1.0, 2.0, 3.0, 5.0, 15.0, 20.0, 21.0, 6.0, 10.0, 6.0, 7.0, 9.0, 7.0, 11.0, 12.0, 12.0, 11.0, 11.0]}, \"V6A 1B1\": {\"cars\": [10.0, 9.0, 5.0, 9.0, 3.0, 1.0, 1.0, 2.0, 3.0, 5.0, 15.0, 20.0, 21.0, 6.0, 10.0, 6.0, 7.0, 9.0, 7.0, 11.0, 12.0, 12.0, 11.0, 11.0]}, \"V6Z 2K8\": {\"cars\": [10.0, 9.0, 5.0, 9.0, 3.0, 1.0, 1.0, 2.0, 3.0, 5.0, 15.0, 20.0, 21.0, 6.0, 10.0, 6.0, 7.0, 9.0, 7.0, 11.0, 12.0, 12.0, 11.0, 11.0]}, \"V6Z\": {\"lat_long\": [49.2755926, -123.1293344], \"cars\": [10.0, 9.0, 5.0, 9.0, 3.0, 1.0, 1.0, 2.0, 3.0, 5.0, 15.0, 20.0, 21.0, 6.0, 10.0, 6.0, 7.0, 9.0, 7.0, 11.0, 12.0, 12.0, 11.0, 11.0]}, \"V6G 1Y7\": {\"lat_long\": [49.28405979999999, -123.1419258], \"cars\": [10.0, 9.0, 5.0, 9.0, 3.0, 1.0, 1.0, 2.0, 3.0, 5.0, 15.0, 20.0, 21.0, 6.0, 10.0, 6.0, 7.0, 9.0, 7.0, 11.0, 12.0, 12.0, 11.0, 11.0]}, \"V3M 3L9\": {\"cars\": [10.0, 9.0, 5.0, 9.0, 3.0, 1.0, 1.0, 2.0, 3.0, 5.0, 15.0, 20.0, 21.0, 6.0, 10.0, 6.0, 7.0, 9.0, 7.0, 11.0, 12.0, 12.0, 11.0, 11.0]}, \"V6Z 2Z2\": {\"cars\": [10.0, 9.0, 5.0, 9.0, 3.0, 1.0, 1.0, 2.0, 3.0, 5.0, 15.0, 20.0, 21.0, 6.0, 10.0, 6.0, 7.0, 9.0, 7.0, 11.0, 12.0, 12.0, 11.0, 11.0]}, \"V6M\": {\"lat_long\": [49.2407644, -123.1362284], \"cars\": [10.0, 9.0, 5.0, 9.0, 3.0, 1.0, 1.0, 2.0, 3.0, 5.0, 15.0, 20.0, 21.0, 6.0, 10.0, 6.0, 7.0, 9.0, 7.0, 11.0, 12.0, 12.0, 11.0, 11.0]}, \"V6H 1T7\": {\"cars\": [10.0, 9.0, 5.0, 9.0, 3.0, 1.0, 1.0, 2.0, 3.0, 5.0, 15.0, 20.0, 21.0, 6.0, 10.0, 6.0, 7.0, 9.0, 7.0, 11.0, 12.0, 12.0, 11.0, 11.0]}, \"V5W 2L8\": {\"cars\": [10.0, 9.0, 5.0, 9.0, 3.0, 1.0, 1.0, 2.0, 3.0, 5.0, 15.0, 20.0, 21.0, 6.0, 10.0, 6.0, 7.0, 9.0, 7.0, 11.0, 12.0, 12.0, 11.0, 11.0]}, \"V5N 3S5\": {\"cars\": [10.0, 9.0, 5.0, 9.0, 3.0, 1.0, 1.0, 2.0, 3.0, 5.0, 15.0, 20.0, 21.0, 6.0, 10.0, 6.0, 7.0, 9.0, 7.0, 11.0, 12.0, 12.0, 11.0, 11.0]}, \"V5R 5L6\": {\"cars\": [10.0, 9.0, 5.0, 9.0, 3.0, 1.0, 1.0, 2.0, 3.0, 5.0, 15.0, 20.0, 21.0, 6.0, 10.0, 6.0, 7.0, 9.0, 7.0, 11.0, 12.0, 12.0, 11.0, 11.0]}, \"V6G 2P7\": {\"cars\": [10.0, 9.0, 5.0, 9.0, 3.0, 1.0, 1.0, 2.0, 3.0, 5.0, 15.0, 20.0, 21.0, 6.0, 10.0, 6.0, 7.0, 9.0, 7.0, 11.0, 12.0, 12.0, 11.0, 11.0]}}, \"booked\": {\"V6M 1X5\": {\"cars\": [10.0, 9.0, 5.0, 9.0, 3.0, 1.0, 1.0, 2.0, 3.0, 5.0, 15.0, 20.0, 21.0, 6.0, 10.0, 6.0, 7.0, 9.0, 7.0, 11.0, 12.0, 12.0, 11.0, 11.0]}, \"V5Y 3X2\": {\"cars\": [10.0, 9.0, 5.0, 9.0, 3.0, 1.0, 1.0, 2.0, 3.0, 5.0, 15.0, 20.0, 21.0, 6.0, 10.0, 6.0, 7.0, 9.0, 7.0, 11.0, 12.0, 12.0, 11.0, 11.0]}, \"V6M 1X1\": {\"cars\": [10.0, 9.0, 5.0, 9.0, 3.0, 1.0, 1.0, 2.0, 3.0, 5.0, 15.0, 20.0, 21.0, 6.0, 10.0, 6.0, 7.0, 9.0, 7.0, 11.0, 12.0, 12.0, 11.0, 11.0]}, \"V6E 1Z7\": {\"cars\": [10.0, 9.0, 5.0, 9.0, 3.0, 1.0, 1.0, 2.0, 3.0, 5.0, 15.0, 20.0, 21.0, 6.0, 10.0, 6.0, 7.0, 9.0, 7.0, 11.0, 12.0, 12.0, 11.0, 11.0]}, \"V3M 3N7\": {\"cars\": [10.0, 9.0, 5.0, 9.0, 3.0, 1.0, 1.0, 2.0, 3.0, 5.0, 15.0, 20.0, 21.0, 6.0, 10.0, 6.0, 7.0, 9.0, 7.0, 11.0, 12.0, 12.0, 11.0, 11.0]}, \"V6A 3K1\": {\"cars\": [10.0, 9.0, 5.0, 9.0, 3.0, 1.0, 1.0, 2.0, 3.0, 5.0, 15.0, 20.0, 21.0, 6.0, 10.0, 6.0, 7.0, 9.0, 7.0, 11.0, 12.0, 12.0, 11.0, 11.0]}, \"V6C 1S4\": {\"cars\": [10.0, 9.0, 5.0, 9.0, 3.0, 1.0, 1.0, 2.0, 3.0, 5.0, 15.0, 20.0, 21.0, 6.0, 10.0, 6.0, 7.0, 9.0, 7.0, 11.0, 12.0, 12.0, 11.0, 11.0]}, \"V6G 3B1\": {\"cars\": [10.0, 9.0, 5.0, 9.0, 3.0, 1.0, 1.0, 2.0, 3.0, 5.0, 15.0, 20.0, 21.0, 6.0, 10.0, 6.0, 7.0, 9.0, 7.0, 11.0, 12.0, 12.0, 11.0, 11.0]}, \"V3L 3C2\": {\"cars\": [10.0, 9.0, 5.0, 9.0, 3.0, 1.0, 1.0, 2.0, 3.0, 5.0, 15.0, 20.0, 21.0, 6.0, 10.0, 6.0, 7.0, 9.0, 7.0, 11.0, 12.0, 12.0, 11.0, 11.0]}, \"V6M 4J6\": {\"lat_long\": [49.2370674, -123.1304866], \"cars\": [10.0, 9.0, 5.0, 9.0, 3.0, 1.0, 1.0, 2.0, 3.0, 5.0, 15.0, 20.0, 21.0, 6.0, 10.0, 6.0, 7.0, 9.0, 7.0, 11.0, 12.0, 12.0, 11.0, 11.0]}, \"V7L\": {\"lat_long\": [49.3065259, -123.0551161], \"cars\": [10.0, 9.0, 5.0, 9.0, 3.0, 1.0, 1.0, 2.0, 3.0, 5.0, 15.0, 20.0, 21.0, 6.0, 10.0, 6.0, 7.0, 9.0, 7.0, 11.0, 12.0, 12.0, 11.0, 11.0]}, \"V6B 2E2\": {\"cars\": [10.0, 9.0, 5.0, 9.0, 3.0, 1.0, 1.0, 2.0, 3.0, 5.0, 15.0, 20.0, 21.0, 6.0, 10.0, 6.0, 7.0, 9.0, 7.0, 11.0, 12.0, 12.0, 11.0, 11.0]}, \"V6B 2N3\": {\"cars\": [10.0, 9.0, 5.0, 9.0, 3.0, 1.0, 1.0, 2.0, 3.0, 5.0, 15.0, 20.0, 21.0, 6.0, 10.0, 6.0, 7.0, 9.0, 7.0, 11.0, 12.0, 12.0, 11.0, 11.0]}, \"V6A 1M9\": {\"cars\": [10.0, 9.0, 5.0, 9.0, 3.0, 1.0, 1.0, 2.0, 3.0, 5.0, 15.0, 20.0, 21.0, 6.0, 10.0, 6.0, 7.0, 9.0, 7.0, 11.0, 12.0, 12.0, 11.0, 11.0]}, \"V6H 1J4\": {\"cars\": [10.0, 9.0, 5.0, 9.0, 3.0, 1.0, 1.0, 2.0, 3.0, 5.0, 15.0, 20.0, 21.0, 6.0, 10.0, 6.0, 7.0, 9.0, 7.0, 11.0, 12.0, 12.0, 11.0, 11.0]}, \"V3L 5S3\": {\"cars\": [10.0, 9.0, 5.0, 9.0, 3.0, 1.0, 1.0, 2.0, 3.0, 5.0, 15.0, 20.0, 21.0, 6.0, 10.0, 6.0, 7.0, 9.0, 7.0, 11.0, 12.0, 12.0, 11.0, 11.0]}, \"V6B 4M3\": {\"cars\": [10.0, 9.0, 5.0, 9.0, 3.0, 1.0, 1.0, 2.0, 3.0, 5.0, 15.0, 20.0, 21.0, 6.0, 10.0, 6.0, 7.0, 9.0, 7.0, 11.0, 12.0, 12.0, 11.0, 11.0]}, \"V7B 1C7\": {\"cars\": [10.0, 9.0, 5.0, 9.0, 3.0, 1.0, 1.0, 2.0, 3.0, 5.0, 15.0, 20.0, 21.0, 6.0, 10.0, 6.0, 7.0, 9.0, 7.0, 11.0, 12.0, 12.0, 11.0, 11.0]}, \"V5P 3Z7\": {\"cars\": [10.0, 9.0, 5.0, 9.0, 3.0, 1.0, 1.0, 2.0, 3.0, 5.0, 15.0, 20.0, 21.0, 6.0, 10.0, 6.0, 7.0, 9.0, 7.0, 11.0, 12.0, 12.0, 11.0, 11.0]}, \"V6B 2M8\": {\"cars\": [10.0, 9.0, 5.0, 9.0, 3.0, 1.0, 1.0, 2.0, 3.0, 5.0, 15.0, 20.0, 21.0, 6.0, 10.0, 6.0, 7.0, 9.0, 7.0, 11.0, 12.0, 12.0, 11.0, 11.0]}, \"V6A 3S7\": {\"cars\": [10.0, 9.0, 5.0, 9.0, 3.0, 1.0, 1.0, 2.0, 3.0, 5.0, 15.0, 20.0, 21.0, 6.0, 10.0, 6.0, 7.0, 9.0, 7.0, 11.0, 12.0, 12.0, 11.0, 11.0]}, \"V3L4C9\": {\"cars\": [10.0, 9.0, 5.0, 9.0, 3.0, 1.0, 1.0, 2.0, 3.0, 5.0, 15.0, 20.0, 21.0, 6.0, 10.0, 6.0, 7.0, 9.0, 7.0, 11.0, 12.0, 12.0, 11.0, 11.0]}, \"V7L 2A4\": {\"cars\": [10.0, 9.0, 5.0, 9.0, 3.0, 1.0, 1.0, 2.0, 3.0, 5.0, 15.0, 20.0, 21.0, 6.0, 10.0, 6.0, 7.0, 9.0, 7.0, 11.0, 12.0, 12.0, 11.0, 11.0]}, \"V7L 1A4\": {\"cars\": [10.0, 9.0, 5.0, 9.0, 3.0, 1.0, 1.0, 2.0, 3.0, 5.0, 15.0, 20.0, 21.0, 6.0, 10.0, 6.0, 7.0, 9.0, 7.0, 11.0, 12.0, 12.0, 11.0, 11.0]}, \"V3L 1B9\": {\"cars\": [10.0, 9.0, 5.0, 9.0, 3.0, 1.0, 1.0, 2.0, 3.0, 5.0, 15.0, 20.0, 21.0, 6.0, 10.0, 6.0, 7.0, 9.0, 7.0, 11.0, 12.0, 12.0, 11.0, 11.0]}, \"V6H 3S3\": {\"cars\": [10.0, 9.0, 5.0, 9.0, 3.0, 1.0, 1.0, 2.0, 3.0, 5.0, 15.0, 20.0, 21.0, 6.0, 10.0, 6.0, 7.0, 9.0, 7.0, 11.0, 12.0, 12.0, 11.0, 11.0]}, \"V3L 1A7\": {\"cars\": [10.0, 9.0, 5.0, 9.0, 3.0, 1.0, 1.0, 2.0, 3.0, 5.0, 15.0, 20.0, 21.0, 6.0, 10.0, 6.0, 7.0, 9.0, 7.0, 11.0, 12.0, 12.0, 11.0, 11.0]}, \"V7H 1A8\": {\"cars\": [10.0, 9.0, 5.0, 9.0, 3.0, 1.0, 1.0, 2.0, 3.0, 5.0, 15.0, 20.0, 21.0, 6.0, 10.0, 6.0, 7.0, 9.0, 7.0, 11.0, 12.0, 12.0, 11.0, 11.0]}, \"V5N 4L1\": {\"cars\": [10.0, 9.0, 5.0, 9.0, 3.0, 1.0, 1.0, 2.0, 3.0, 5.0, 15.0, 20.0, 21.0, 6.0, 10.0, 6.0, 7.0, 9.0, 7.0, 11.0, 12.0, 12.0, 11.0, 11.0]}, \"V5N 1X8\": {\"cars\": [10.0, 9.0, 5.0, 9.0, 3.0, 1.0, 1.0, 2.0, 3.0, 5.0, 15.0, 20.0, 21.0, 6.0, 10.0, 6.0, 7.0, 9.0, 7.0, 11.0, 12.0, 12.0, 11.0, 11.0]}, \"V5Y 3H4\": {\"cars\": [10.0, 9.0, 5.0, 9.0, 3.0, 1.0, 1.0, 2.0, 3.0, 5.0, 15.0, 20.0, 21.0, 6.0, 10.0, 6.0, 7.0, 9.0, 7.0, 11.0, 12.0, 12.0, 11.0, 11.0]}, \"V5L 2K8\": {\"cars\": [10.0, 9.0, 5.0, 9.0, 3.0, 1.0, 1.0, 2.0, 3.0, 5.0, 15.0, 20.0, 21.0, 6.0, 10.0, 6.0, 7.0, 9.0, 7.0, 11.0, 12.0, 12.0, 11.0, 11.0]}, \"V3C 2S9\": {\"cars\": [10.0, 9.0, 5.0, 9.0, 3.0, 1.0, 1.0, 2.0, 3.0, 5.0, 15.0, 20.0, 21.0, 6.0, 10.0, 6.0, 7.0, 9.0, 7.0, 11.0, 12.0, 12.0, 11.0, 11.0]}, \"V5R 2A1\": {\"cars\": [10.0, 9.0, 5.0, 9.0, 3.0, 1.0, 1.0, 2.0, 3.0, 5.0, 15.0, 20.0, 21.0, 6.0, 10.0, 6.0, 7.0, 9.0, 7.0, 11.0, 12.0, 12.0, 11.0, 11.0]}, \"V6B 6L2\": {\"cars\": [10.0, 9.0, 5.0, 9.0, 3.0, 1.0, 1.0, 2.0, 3.0, 5.0, 15.0, 20.0, 21.0, 6.0, 10.0, 6.0, 7.0, 9.0, 7.0, 11.0, 12.0, 12.0, 11.0, 11.0]}, \"V6K 2G8\": {\"cars\": [10.0, 9.0, 5.0, 9.0, 3.0, 1.0, 1.0, 2.0, 3.0, 5.0, 15.0, 20.0, 21.0, 6.0, 10.0, 6.0, 7.0, 9.0, 7.0, 11.0, 12.0, 12.0, 11.0, 11.0]}, \"V6A 2E3\": {\"cars\": [10.0, 9.0, 5.0, 9.0, 3.0, 1.0, 1.0, 2.0, 3.0, 5.0, 15.0, 20.0, 21.0, 6.0, 10.0, 6.0, 7.0, 9.0, 7.0, 11.0, 12.0, 12.0, 11.0, 11.0]}, \"V6E 2P4\": {\"cars\": [10.0, 9.0, 5.0, 9.0, 3.0, 1.0, 1.0, 2.0, 3.0, 5.0, 15.0, 20.0, 21.0, 6.0, 10.0, 6.0, 7.0, 9.0, 7.0, 11.0, 12.0, 12.0, 11.0, 11.0]}, \"V6B 1T3\": {\"cars\": [10.0, 9.0, 5.0, 9.0, 3.0, 1.0, 1.0, 2.0, 3.0, 5.0, 15.0, 20.0, 21.0, 6.0, 10.0, 6.0, 7.0, 9.0, 7.0, 11.0, 12.0, 12.0, 11.0, 11.0]}, \"V5H 0C6\": {\"cars\": [10.0, 9.0, 5.0, 9.0, 3.0, 1.0, 1.0, 2.0, 3.0, 5.0, 15.0, 20.0, 21.0, 6.0, 10.0, 6.0, 7.0, 9.0, 7.0, 11.0, 12.0, 12.0, 11.0, 11.0]}, \"V5R 3Z5\": {\"lat_long\": [49.2370448, -123.0428101], \"cars\": [10.0, 9.0, 5.0, 9.0, 3.0, 1.0, 1.0, 2.0, 3.0, 5.0, 15.0, 20.0, 21.0, 6.0, 10.0, 6.0, 7.0, 9.0, 7.0, 11.0, 12.0, 12.0, 11.0, 11.0]}, \"V3M 1K3\": {\"cars\": [10.0, 9.0, 5.0, 9.0, 3.0, 1.0, 1.0, 2.0, 3.0, 5.0, 15.0, 20.0, 21.0, 6.0, 10.0, 6.0, 7.0, 9.0, 7.0, 11.0, 12.0, 12.0, 11.0, 11.0]}, \"V7M 3K2\": {\"cars\": [10.0, 9.0, 5.0, 9.0, 3.0, 1.0, 1.0, 2.0, 3.0, 5.0, 15.0, 20.0, 21.0, 6.0, 10.0, 6.0, 7.0, 9.0, 7.0, 11.0, 12.0, 12.0, 11.0, 11.0]}, \"V3M 2M9\": {\"cars\": [10.0, 9.0, 5.0, 9.0, 3.0, 1.0, 1.0, 2.0, 3.0, 5.0, 15.0, 20.0, 21.0, 6.0, 10.0, 6.0, 7.0, 9.0, 7.0, 11.0, 12.0, 12.0, 11.0, 11.0]}, \"V5K 4H6\": {\"cars\": [10.0, 9.0, 5.0, 9.0, 3.0, 1.0, 1.0, 2.0, 3.0, 5.0, 15.0, 20.0, 21.0, 6.0, 10.0, 6.0, 7.0, 9.0, 7.0, 11.0, 12.0, 12.0, 11.0, 11.0]}, \"V6A 2M9\": {\"cars\": [10.0, 9.0, 5.0, 9.0, 3.0, 1.0, 1.0, 2.0, 3.0, 5.0, 15.0, 20.0, 21.0, 6.0, 10.0, 6.0, 7.0, 9.0, 7.0, 11.0, 12.0, 12.0, 11.0, 11.0]}, \"V6B 1P1\": {\"cars\": [10.0, 9.0, 5.0, 9.0, 3.0, 1.0, 1.0, 2.0, 3.0, 5.0, 15.0, 20.0, 21.0, 6.0, 10.0, 6.0, 7.0, 9.0, 7.0, 11.0, 12.0, 12.0, 11.0, 11.0]}, \"V6E 1C2\": {\"cars\": [10.0, 9.0, 5.0, 9.0, 3.0, 1.0, 1.0, 2.0, 3.0, 5.0, 15.0, 20.0, 21.0, 6.0, 10.0, 6.0, 7.0, 9.0, 7.0, 11.0, 12.0, 12.0, 11.0, 11.0]}, \"V5L 1V3\": {\"cars\": [10.0, 9.0, 5.0, 9.0, 3.0, 1.0, 1.0, 2.0, 3.0, 5.0, 15.0, 20.0, 21.0, 6.0, 10.0, 6.0, 7.0, 9.0, 7.0, 11.0, 12.0, 12.0, 11.0, 11.0]}, \"V6R\": {\"lat_long\": [49.2710022, -123.1848155], \"cars\": [10.0, 9.0, 5.0, 9.0, 3.0, 1.0, 1.0, 2.0, 3.0, 5.0, 15.0, 20.0, 21.0, 6.0, 10.0, 6.0, 7.0, 9.0, 7.0, 11.0, 12.0, 12.0, 11.0, 11.0]}, \"V5W 1P3\": {\"cars\": [10.0, 9.0, 5.0, 9.0, 3.0, 1.0, 1.0, 2.0, 3.0, 5.0, 15.0, 20.0, 21.0, 6.0, 10.0, 6.0, 7.0, 9.0, 7.0, 11.0, 12.0, 12.0, 11.0, 11.0]}, \"V6M 2V5\": {\"cars\": [10.0, 9.0, 5.0, 9.0, 3.0, 1.0, 1.0, 2.0, 3.0, 5.0, 15.0, 20.0, 21.0, 6.0, 10.0, 6.0, 7.0, 9.0, 7.0, 11.0, 12.0, 12.0, 11.0, 11.0]}, \"V5L 1Y3\": {\"cars\": [10.0, 9.0, 5.0, 9.0, 3.0, 1.0, 1.0, 2.0, 3.0, 5.0, 15.0, 20.0, 21.0, 6.0, 10.0, 6.0, 7.0, 9.0, 7.0, 11.0, 12.0, 12.0, 11.0, 11.0]}, \"V3L 1G2\": {\"cars\": [10.0, 9.0, 5.0, 9.0, 3.0, 1.0, 1.0, 2.0, 3.0, 5.0, 15.0, 20.0, 21.0, 6.0, 10.0, 6.0, 7.0, 9.0, 7.0, 11.0, 12.0, 12.0, 11.0, 11.0]}, \"V7M 2Y4\": {\"lat_long\": [49.3239753, -123.0837488], \"cars\": [10.0, 9.0, 5.0, 9.0, 3.0, 1.0, 1.0, 2.0, 3.0, 5.0, 15.0, 20.0, 21.0, 6.0, 10.0, 6.0, 7.0, 9.0, 7.0, 11.0, 12.0, 12.0, 11.0, 11.0]}, \"V5L 2P7\": {\"cars\": [10.0, 9.0, 5.0, 9.0, 3.0, 1.0, 1.0, 2.0, 3.0, 5.0, 15.0, 20.0, 21.0, 6.0, 10.0, 6.0, 7.0, 9.0, 7.0, 11.0, 12.0, 12.0, 11.0, 11.0]}, \"V6B 2Z5\": {\"cars\": [10.0, 9.0, 5.0, 9.0, 3.0, 1.0, 1.0, 2.0, 3.0, 5.0, 15.0, 20.0, 21.0, 6.0, 10.0, 6.0, 7.0, 9.0, 7.0, 11.0, 12.0, 12.0, 11.0, 11.0]}, \"V5X 2S5\": {\"cars\": [10.0, 9.0, 5.0, 9.0, 3.0, 1.0, 1.0, 2.0, 3.0, 5.0, 15.0, 20.0, 21.0, 6.0, 10.0, 6.0, 7.0, 9.0, 7.0, 11.0, 12.0, 12.0, 11.0, 11.0]}, \"V5T 3K5\": {\"lat_long\": [49.2573626, -123.0905485], \"cars\": [10.0, 9.0, 5.0, 9.0, 3.0, 1.0, 1.0, 2.0, 3.0, 5.0, 15.0, 20.0, 21.0, 6.0, 10.0, 6.0, 7.0, 9.0, 7.0, 11.0, 12.0, 12.0, 11.0, 11.0]}, \"V3L 0H4\": {\"cars\": [10.0, 9.0, 5.0, 9.0, 3.0, 1.0, 1.0, 2.0, 3.0, 5.0, 15.0, 20.0, 21.0, 6.0, 10.0, 6.0, 7.0, 9.0, 7.0, 11.0, 12.0, 12.0, 11.0, 11.0]}, \"V6E 1Z3\": {\"cars\": [10.0, 9.0, 5.0, 9.0, 3.0, 1.0, 1.0, 2.0, 3.0, 5.0, 15.0, 20.0, 21.0, 6.0, 10.0, 6.0, 7.0, 9.0, 7.0, 11.0, 12.0, 12.0, 11.0, 11.0]}, \"V3L 4C9\": {\"cars\": [10.0, 9.0, 5.0, 9.0, 3.0, 1.0, 1.0, 2.0, 3.0, 5.0, 15.0, 20.0, 21.0, 6.0, 10.0, 6.0, 7.0, 9.0, 7.0, 11.0, 12.0, 12.0, 11.0, 11.0]}, \"V6B 1P2\": {\"cars\": [10.0, 9.0, 5.0, 9.0, 3.0, 1.0, 1.0, 2.0, 3.0, 5.0, 15.0, 20.0, 21.0, 6.0, 10.0, 6.0, 7.0, 9.0, 7.0, 11.0, 12.0, 12.0, 11.0, 11.0]}, \"V6M 2W9\": {\"cars\": [10.0, 9.0, 5.0, 9.0, 3.0, 1.0, 1.0, 2.0, 3.0, 5.0, 15.0, 20.0, 21.0, 6.0, 10.0, 6.0, 7.0, 9.0, 7.0, 11.0, 12.0, 12.0, 11.0, 11.0]}, \"V6B 6R5\": {\"cars\": [10.0, 9.0, 5.0, 9.0, 3.0, 1.0, 1.0, 2.0, 3.0, 5.0, 15.0, 20.0, 21.0, 6.0, 10.0, 6.0, 7.0, 9.0, 7.0, 11.0, 12.0, 12.0, 11.0, 11.0]}, \"V6B 3L9\": {\"cars\": [10.0, 9.0, 5.0, 9.0, 3.0, 1.0, 1.0, 2.0, 3.0, 5.0, 15.0, 20.0, 21.0, 6.0, 10.0, 6.0, 7.0, 9.0, 7.0, 11.0, 12.0, 12.0, 11.0, 11.0]}, \"V5N 5E4\": {\"cars\": [10.0, 9.0, 5.0, 9.0, 3.0, 1.0, 1.0, 2.0, 3.0, 5.0, 15.0, 20.0, 21.0, 6.0, 10.0, 6.0, 7.0, 9.0, 7.0, 11.0, 12.0, 12.0, 11.0, 11.0]}, \"V5Z 3M9\": {\"cars\": [10.0, 9.0, 5.0, 9.0, 3.0, 1.0, 1.0, 2.0, 3.0, 5.0, 15.0, 20.0, 21.0, 6.0, 10.0, 6.0, 7.0, 9.0, 7.0, 11.0, 12.0, 12.0, 11.0, 11.0]}, \"V6A 1X5\": {\"cars\": [10.0, 9.0, 5.0, 9.0, 3.0, 1.0, 1.0, 2.0, 3.0, 5.0, 15.0, 20.0, 21.0, 6.0, 10.0, 6.0, 7.0, 9.0, 7.0, 11.0, 12.0, 12.0, 11.0, 11.0]}, \"V6C 1T2\": {\"cars\": [10.0, 9.0, 5.0, 9.0, 3.0, 1.0, 1.0, 2.0, 3.0, 5.0, 15.0, 20.0, 21.0, 6.0, 10.0, 6.0, 7.0, 9.0, 7.0, 11.0, 12.0, 12.0, 11.0, 11.0]}, \"V5M 2Z2\": {\"cars\": [10.0, 9.0, 5.0, 9.0, 3.0, 1.0, 1.0, 2.0, 3.0, 5.0, 15.0, 20.0, 21.0, 6.0, 10.0, 6.0, 7.0, 9.0, 7.0, 11.0, 12.0, 12.0, 11.0, 11.0]}, \"V6E 1J6\": {\"cars\": [10.0, 9.0, 5.0, 9.0, 3.0, 1.0, 1.0, 2.0, 3.0, 5.0, 15.0, 20.0, 21.0, 6.0, 10.0, 6.0, 7.0, 9.0, 7.0, 11.0, 12.0, 12.0, 11.0, 11.0]}, \"V7L 2J2\": {\"cars\": [10.0, 9.0, 5.0, 9.0, 3.0, 1.0, 1.0, 2.0, 3.0, 5.0, 15.0, 20.0, 21.0, 6.0, 10.0, 6.0, 7.0, 9.0, 7.0, 11.0, 12.0, 12.0, 11.0, 11.0]}, \"V5A 4X6\": {\"lat_long\": [49.2785576, -122.910379], \"cars\": [10.0, 9.0, 5.0, 9.0, 3.0, 1.0, 1.0, 2.0, 3.0, 5.0, 15.0, 20.0, 21.0, 6.0, 10.0, 6.0, 7.0, 9.0, 7.0, 11.0, 12.0, 12.0, 11.0, 11.0]}, \"V5S 4B3\": {\"cars\": [10.0, 9.0, 5.0, 9.0, 3.0, 1.0, 1.0, 2.0, 3.0, 5.0, 15.0, 20.0, 21.0, 6.0, 10.0, 6.0, 7.0, 9.0, 7.0, 11.0, 12.0, 12.0, 11.0, 11.0]}, \"V5L 3X2\": {\"lat_long\": [49.2745208, -123.0692635], \"cars\": [10.0, 9.0, 5.0, 9.0, 3.0, 1.0, 1.0, 2.0, 3.0, 5.0, 15.0, 20.0, 21.0, 6.0, 10.0, 6.0, 7.0, 9.0, 7.0, 11.0, 12.0, 12.0, 11.0, 11.0]}, \"V3M 3K3\": {\"cars\": [10.0, 9.0, 5.0, 9.0, 3.0, 1.0, 1.0, 2.0, 3.0, 5.0, 15.0, 20.0, 21.0, 6.0, 10.0, 6.0, 7.0, 9.0, 7.0, 11.0, 12.0, 12.0, 11.0, 11.0]}, \"V5K 4Z6\": {\"cars\": [10.0, 9.0, 5.0, 9.0, 3.0, 1.0, 1.0, 2.0, 3.0, 5.0, 15.0, 20.0, 21.0, 6.0, 10.0, 6.0, 7.0, 9.0, 7.0, 11.0, 12.0, 12.0, 11.0, 11.0]}, \"V6J\": {\"lat_long\": [49.2750332, -123.1486865], \"cars\": [10.0, 9.0, 5.0, 9.0, 3.0, 1.0, 1.0, 2.0, 3.0, 5.0, 15.0, 20.0, 21.0, 6.0, 10.0, 6.0, 7.0, 9.0, 7.0, 11.0, 12.0, 12.0, 11.0, 11.0]}, \"V6E 1Z6\": {\"cars\": [10.0, 9.0, 5.0, 9.0, 3.0, 1.0, 1.0, 2.0, 3.0, 5.0, 15.0, 20.0, 21.0, 6.0, 10.0, 6.0, 7.0, 9.0, 7.0, 11.0, 12.0, 12.0, 11.0, 11.0]}, \"V6C 1V5\": {\"cars\": [10.0, 9.0, 5.0, 9.0, 3.0, 1.0, 1.0, 2.0, 3.0, 5.0, 15.0, 20.0, 21.0, 6.0, 10.0, 6.0, 7.0, 9.0, 7.0, 11.0, 12.0, 12.0, 11.0, 11.0]}, \"V6B 2Z4\": {\"cars\": [10.0, 9.0, 5.0, 9.0, 3.0, 1.0, 1.0, 2.0, 3.0, 5.0, 15.0, 20.0, 21.0, 6.0, 10.0, 6.0, 7.0, 9.0, 7.0, 11.0, 12.0, 12.0, 11.0, 11.0]}, \"V6A 1G2\": {\"cars\": [10.0, 9.0, 5.0, 9.0, 3.0, 1.0, 1.0, 2.0, 3.0, 5.0, 15.0, 20.0, 21.0, 6.0, 10.0, 6.0, 7.0, 9.0, 7.0, 11.0, 12.0, 12.0, 11.0, 11.0]}, \"V5G 4L7\": {\"cars\": [10.0, 9.0, 5.0, 9.0, 3.0, 1.0, 1.0, 2.0, 3.0, 5.0, 15.0, 20.0, 21.0, 6.0, 10.0, 6.0, 7.0, 9.0, 7.0, 11.0, 12.0, 12.0, 11.0, 11.0]}, \"V6J 2B8\": {\"cars\": [10.0, 9.0, 5.0, 9.0, 3.0, 1.0, 1.0, 2.0, 3.0, 5.0, 15.0, 20.0, 21.0, 6.0, 10.0, 6.0, 7.0, 9.0, 7.0, 11.0, 12.0, 12.0, 11.0, 11.0]}, \"V5M 4P3\": {\"cars\": [10.0, 9.0, 5.0, 9.0, 3.0, 1.0, 1.0, 2.0, 3.0, 5.0, 15.0, 20.0, 21.0, 6.0, 10.0, 6.0, 7.0, 9.0, 7.0, 11.0, 12.0, 12.0, 11.0, 11.0]}, \"V3L 3C5\": {\"cars\": [10.0, 9.0, 5.0, 9.0, 3.0, 1.0, 1.0, 2.0, 3.0, 5.0, 15.0, 20.0, 21.0, 6.0, 10.0, 6.0, 7.0, 9.0, 7.0, 11.0, 12.0, 12.0, 11.0, 11.0]}, \"V5P\": {\"lat_long\": [49.23866229999999, -123.0601234], \"cars\": [10.0, 9.0, 5.0, 9.0, 3.0, 1.0, 1.0, 2.0, 3.0, 5.0, 15.0, 20.0, 21.0, 6.0, 10.0, 6.0, 7.0, 9.0, 7.0, 11.0, 12.0, 12.0, 11.0, 11.0]}, \"V3M 4G9\": {\"cars\": [10.0, 9.0, 5.0, 9.0, 3.0, 1.0, 1.0, 2.0, 3.0, 5.0, 15.0, 20.0, 21.0, 6.0, 10.0, 6.0, 7.0, 9.0, 7.0, 11.0, 12.0, 12.0, 11.0, 11.0]}, \"V6H 1L3\": {\"cars\": [10.0, 9.0, 5.0, 9.0, 3.0, 1.0, 1.0, 2.0, 3.0, 5.0, 15.0, 20.0, 21.0, 6.0, 10.0, 6.0, 7.0, 9.0, 7.0, 11.0, 12.0, 12.0, 11.0, 11.0]}, \"V6E 1N2\": {\"cars\": [10.0, 9.0, 5.0, 9.0, 3.0, 1.0, 1.0, 2.0, 3.0, 5.0, 15.0, 20.0, 21.0, 6.0, 10.0, 6.0, 7.0, 9.0, 7.0, 11.0, 12.0, 12.0, 11.0, 11.0]}, \"V6E 1T8\": {\"cars\": [10.0, 9.0, 5.0, 9.0, 3.0, 1.0, 1.0, 2.0, 3.0, 5.0, 15.0, 20.0, 21.0, 6.0, 10.0, 6.0, 7.0, 9.0, 7.0, 11.0, 12.0, 12.0, 11.0, 11.0]}, \"V5L 5C3\": {\"cars\": [10.0, 9.0, 5.0, 9.0, 3.0, 1.0, 1.0, 2.0, 3.0, 5.0, 15.0, 20.0, 21.0, 6.0, 10.0, 6.0, 7.0, 9.0, 7.0, 11.0, 12.0, 12.0, 11.0, 11.0]}, \"V5T 3A8\": {\"cars\": [10.0, 9.0, 5.0, 9.0, 3.0, 1.0, 1.0, 2.0, 3.0, 5.0, 15.0, 20.0, 21.0, 6.0, 10.0, 6.0, 7.0, 9.0, 7.0, 11.0, 12.0, 12.0, 11.0, 11.0]}, \"V6A 1P1\": {\"cars\": [10.0, 9.0, 5.0, 9.0, 3.0, 1.0, 1.0, 2.0, 3.0, 5.0, 15.0, 20.0, 21.0, 6.0, 10.0, 6.0, 7.0, 9.0, 7.0, 11.0, 12.0, 12.0, 11.0, 11.0]}, \"V5Z 4K6\": {\"cars\": [10.0, 9.0, 5.0, 9.0, 3.0, 1.0, 1.0, 2.0, 3.0, 5.0, 15.0, 20.0, 21.0, 6.0, 10.0, 6.0, 7.0, 9.0, 7.0, 11.0, 12.0, 12.0, 11.0, 11.0]}, \"V5T 2K4\": {\"cars\": [10.0, 9.0, 5.0, 9.0, 3.0, 1.0, 1.0, 2.0, 3.0, 5.0, 15.0, 20.0, 21.0, 6.0, 10.0, 6.0, 7.0, 9.0, 7.0, 11.0, 12.0, 12.0, 11.0, 11.0]}, \"V5L 4T6\": {\"cars\": [10.0, 9.0, 5.0, 9.0, 3.0, 1.0, 1.0, 2.0, 3.0, 5.0, 15.0, 20.0, 21.0, 6.0, 10.0, 6.0, 7.0, 9.0, 7.0, 11.0, 12.0, 12.0, 11.0, 11.0]}, \"V5T 4T6\": {\"cars\": [10.0, 9.0, 5.0, 9.0, 3.0, 1.0, 1.0, 2.0, 3.0, 5.0, 15.0, 20.0, 21.0, 6.0, 10.0, 6.0, 7.0, 9.0, 7.0, 11.0, 12.0, 12.0, 11.0, 11.0]}, \"V6E 1Y4\": {\"cars\": [10.0, 9.0, 5.0, 9.0, 3.0, 1.0, 1.0, 2.0, 3.0, 5.0, 15.0, 20.0, 21.0, 6.0, 10.0, 6.0, 7.0, 9.0, 7.0, 11.0, 12.0, 12.0, 11.0, 11.0]}, \"V5Z 2G9\": {\"cars\": [10.0, 9.0, 5.0, 9.0, 3.0, 1.0, 1.0, 2.0, 3.0, 5.0, 15.0, 20.0, 21.0, 6.0, 10.0, 6.0, 7.0, 9.0, 7.0, 11.0, 12.0, 12.0, 11.0, 11.0]}, \"V5V 3E2\": {\"lat_long\": [49.2520943, -123.0790627], \"cars\": [10.0, 9.0, 5.0, 9.0, 3.0, 1.0, 1.0, 2.0, 3.0, 5.0, 15.0, 20.0, 21.0, 6.0, 10.0, 6.0, 7.0, 9.0, 7.0, 11.0, 12.0, 12.0, 11.0, 11.0]}, \"V5R 6G4\": {\"cars\": [10.0, 9.0, 5.0, 9.0, 3.0, 1.0, 1.0, 2.0, 3.0, 5.0, 15.0, 20.0, 21.0, 6.0, 10.0, 6.0, 7.0, 9.0, 7.0, 11.0, 12.0, 12.0, 11.0, 11.0]}, \"V6L\": {\"lat_long\": [49.2561388, -123.1634375], \"cars\": [10.0, 9.0, 5.0, 9.0, 3.0, 1.0, 1.0, 2.0, 3.0, 5.0, 15.0, 20.0, 21.0, 6.0, 10.0, 6.0, 7.0, 9.0, 7.0, 11.0, 12.0, 12.0, 11.0, 11.0]}, \"V6Z 2M4\": {\"cars\": [10.0, 9.0, 5.0, 9.0, 3.0, 1.0, 1.0, 2.0, 3.0, 5.0, 15.0, 20.0, 21.0, 6.0, 10.0, 6.0, 7.0, 9.0, 7.0, 11.0, 12.0, 12.0, 11.0, 11.0]}, \"V3L 1K3\": {\"cars\": [10.0, 9.0, 5.0, 9.0, 3.0, 1.0, 1.0, 2.0, 3.0, 5.0, 15.0, 20.0, 21.0, 6.0, 10.0, 6.0, 7.0, 9.0, 7.0, 11.0, 12.0, 12.0, 11.0, 11.0]}, \"V5Z\": {\"lat_long\": [49.2648452, -123.1251921], \"cars\": [10.0, 9.0, 5.0, 9.0, 3.0, 1.0, 1.0, 2.0, 3.0, 5.0, 15.0, 20.0, 21.0, 6.0, 10.0, 6.0, 7.0, 9.0, 7.0, 11.0, 12.0, 12.0, 11.0, 11.0]}, \"V5T 1X4\": {\"lat_long\": [49.2627093, -123.092422], \"cars\": [10.0, 9.0, 5.0, 9.0, 3.0, 1.0, 1.0, 2.0, 3.0, 5.0, 15.0, 20.0, 21.0, 6.0, 10.0, 6.0, 7.0, 9.0, 7.0, 11.0, 12.0, 12.0, 11.0, 11.0]}, \"V6K 1A1\": {\"cars\": [10.0, 9.0, 5.0, 9.0, 3.0, 1.0, 1.0, 2.0, 3.0, 5.0, 15.0, 20.0, 21.0, 6.0, 10.0, 6.0, 7.0, 9.0, 7.0, 11.0, 12.0, 12.0, 11.0, 11.0]}, \"V5N 1S2\": {\"cars\": [10.0, 9.0, 5.0, 9.0, 3.0, 1.0, 1.0, 2.0, 3.0, 5.0, 15.0, 20.0, 21.0, 6.0, 10.0, 6.0, 7.0, 9.0, 7.0, 11.0, 12.0, 12.0, 11.0, 11.0]}, \"V3M 1C4\": {\"cars\": [10.0, 9.0, 5.0, 9.0, 3.0, 1.0, 1.0, 2.0, 3.0, 5.0, 15.0, 20.0, 21.0, 6.0, 10.0, 6.0, 7.0, 9.0, 7.0, 11.0, 12.0, 12.0, 11.0, 11.0]}, \"V6B 2K9\": {\"cars\": [10.0, 9.0, 5.0, 9.0, 3.0, 1.0, 1.0, 2.0, 3.0, 5.0, 15.0, 20.0, 21.0, 6.0, 10.0, 6.0, 7.0, 9.0, 7.0, 11.0, 12.0, 12.0, 11.0, 11.0]}, \"V5R 5K6\": {\"lat_long\": [49.2333228, -123.03369], \"cars\": [10.0, 9.0, 5.0, 9.0, 3.0, 1.0, 1.0, 2.0, 3.0, 5.0, 15.0, 20.0, 21.0, 6.0, 10.0, 6.0, 7.0, 9.0, 7.0, 11.0, 12.0, 12.0, 11.0, 11.0]}, \"V6A2V7\": {\"cars\": [10.0, 9.0, 5.0, 9.0, 3.0, 1.0, 1.0, 2.0, 3.0, 5.0, 15.0, 20.0, 21.0, 6.0, 10.0, 6.0, 7.0, 9.0, 7.0, 11.0, 12.0, 12.0, 11.0, 11.0]}, \"V5L 1N9\": {\"cars\": [10.0, 9.0, 5.0, 9.0, 3.0, 1.0, 1.0, 2.0, 3.0, 5.0, 15.0, 20.0, 21.0, 6.0, 10.0, 6.0, 7.0, 9.0, 7.0, 11.0, 12.0, 12.0, 11.0, 11.0]}, \"V3L 3V9\": {\"cars\": [10.0, 9.0, 5.0, 9.0, 3.0, 1.0, 1.0, 2.0, 3.0, 5.0, 15.0, 20.0, 21.0, 6.0, 10.0, 6.0, 7.0, 9.0, 7.0, 11.0, 12.0, 12.0, 11.0, 11.0]}, \"V6S 0A6\": {\"cars\": [10.0, 9.0, 5.0, 9.0, 3.0, 1.0, 1.0, 2.0, 3.0, 5.0, 15.0, 20.0, 21.0, 6.0, 10.0, 6.0, 7.0, 9.0, 7.0, 11.0, 12.0, 12.0, 11.0, 11.0]}, \"V5L 2H1\": {\"cars\": [10.0, 9.0, 5.0, 9.0, 3.0, 1.0, 1.0, 2.0, 3.0, 5.0, 15.0, 20.0, 21.0, 6.0, 10.0, 6.0, 7.0, 9.0, 7.0, 11.0, 12.0, 12.0, 11.0, 11.0]}, \"V5K 1Z3\": {\"cars\": [10.0, 9.0, 5.0, 9.0, 3.0, 1.0, 1.0, 2.0, 3.0, 5.0, 15.0, 20.0, 21.0, 6.0, 10.0, 6.0, 7.0, 9.0, 7.0, 11.0, 12.0, 12.0, 11.0, 11.0]}, \"V3M 2S7\": {\"cars\": [10.0, 9.0, 5.0, 9.0, 3.0, 1.0, 1.0, 2.0, 3.0, 5.0, 15.0, 20.0, 21.0, 6.0, 10.0, 6.0, 7.0, 9.0, 7.0, 11.0, 12.0, 12.0, 11.0, 11.0]}, \"V6B 1Y1\": {\"cars\": [10.0, 9.0, 5.0, 9.0, 3.0, 1.0, 1.0, 2.0, 3.0, 5.0, 15.0, 20.0, 21.0, 6.0, 10.0, 6.0, 7.0, 9.0, 7.0, 11.0, 12.0, 12.0, 11.0, 11.0]}, \"V6B 2J2\": {\"cars\": [10.0, 9.0, 5.0, 9.0, 3.0, 1.0, 1.0, 2.0, 3.0, 5.0, 15.0, 20.0, 21.0, 6.0, 10.0, 6.0, 7.0, 9.0, 7.0, 11.0, 12.0, 12.0, 11.0, 11.0]}, \"V6N 2C4\": {\"cars\": [10.0, 9.0, 5.0, 9.0, 3.0, 1.0, 1.0, 2.0, 3.0, 5.0, 15.0, 20.0, 21.0, 6.0, 10.0, 6.0, 7.0, 9.0, 7.0, 11.0, 12.0, 12.0, 11.0, 11.0]}, \"V6K 2M4\": {\"cars\": [10.0, 9.0, 5.0, 9.0, 3.0, 1.0, 1.0, 2.0, 3.0, 5.0, 15.0, 20.0, 21.0, 6.0, 10.0, 6.0, 7.0, 9.0, 7.0, 11.0, 12.0, 12.0, 11.0, 11.0]}, \"V7L 2N3\": {\"cars\": [10.0, 9.0, 5.0, 9.0, 3.0, 1.0, 1.0, 2.0, 3.0, 5.0, 15.0, 20.0, 21.0, 6.0, 10.0, 6.0, 7.0, 9.0, 7.0, 11.0, 12.0, 12.0, 11.0, 11.0]}, \"V6J 1M6\": {\"cars\": [10.0, 9.0, 5.0, 9.0, 3.0, 1.0, 1.0, 2.0, 3.0, 5.0, 15.0, 20.0, 21.0, 6.0, 10.0, 6.0, 7.0, 9.0, 7.0, 11.0, 12.0, 12.0, 11.0, 11.0]}, \"V6B 1R3\": {\"cars\": [10.0, 9.0, 5.0, 9.0, 3.0, 1.0, 1.0, 2.0, 3.0, 5.0, 15.0, 20.0, 21.0, 6.0, 10.0, 6.0, 7.0, 9.0, 7.0, 11.0, 12.0, 12.0, 11.0, 11.0]}, \"V6M 2W7\": {\"cars\": [10.0, 9.0, 5.0, 9.0, 3.0, 1.0, 1.0, 2.0, 3.0, 5.0, 15.0, 20.0, 21.0, 6.0, 10.0, 6.0, 7.0, 9.0, 7.0, 11.0, 12.0, 12.0, 11.0, 11.0]}, \"V6J 2L7\": {\"cars\": [10.0, 9.0, 5.0, 9.0, 3.0, 1.0, 1.0, 2.0, 3.0, 5.0, 15.0, 20.0, 21.0, 6.0, 10.0, 6.0, 7.0, 9.0, 7.0, 11.0, 12.0, 12.0, 11.0, 11.0]}, \"V6A 3L8\": {\"cars\": [10.0, 9.0, 5.0, 9.0, 3.0, 1.0, 1.0, 2.0, 3.0, 5.0, 15.0, 20.0, 21.0, 6.0, 10.0, 6.0, 7.0, 9.0, 7.0, 11.0, 12.0, 12.0, 11.0, 11.0]}, \"V6Z 2H2\": {\"cars\": [10.0, 9.0, 5.0, 9.0, 3.0, 1.0, 1.0, 2.0, 3.0, 5.0, 15.0, 20.0, 21.0, 6.0, 10.0, 6.0, 7.0, 9.0, 7.0, 11.0, 12.0, 12.0, 11.0, 11.0]}, \"V6B 1S5\": {\"cars\": [10.0, 9.0, 5.0, 9.0, 3.0, 1.0, 1.0, 2.0, 3.0, 5.0, 15.0, 20.0, 21.0, 6.0, 10.0, 6.0, 7.0, 9.0, 7.0, 11.0, 12.0, 12.0, 11.0, 11.0]}, \"V6Z 3G5\": {\"cars\": [10.0, 9.0, 5.0, 9.0, 3.0, 1.0, 1.0, 2.0, 3.0, 5.0, 15.0, 20.0, 21.0, 6.0, 10.0, 6.0, 7.0, 9.0, 7.0, 11.0, 12.0, 12.0, 11.0, 11.0]}, \"V6E 3T3\": {\"cars\": [10.0, 9.0, 5.0, 9.0, 3.0, 1.0, 1.0, 2.0, 3.0, 5.0, 15.0, 20.0, 21.0, 6.0, 10.0, 6.0, 7.0, 9.0, 7.0, 11.0, 12.0, 12.0, 11.0, 11.0]}, \"V6A 0A7\": {\"cars\": [10.0, 9.0, 5.0, 9.0, 3.0, 1.0, 1.0, 2.0, 3.0, 5.0, 15.0, 20.0, 21.0, 6.0, 10.0, 6.0, 7.0, 9.0, 7.0, 11.0, 12.0, 12.0, 11.0, 11.0]}, \"V5W\": {\"lat_long\": [49.2382917, -123.0995778], \"cars\": [10.0, 9.0, 5.0, 9.0, 3.0, 1.0, 1.0, 2.0, 3.0, 5.0, 15.0, 20.0, 21.0, 6.0, 10.0, 6.0, 7.0, 9.0, 7.0, 11.0, 12.0, 12.0, 11.0, 11.0]}, \"V5T 1C7\": {\"cars\": [10.0, 9.0, 5.0, 9.0, 3.0, 1.0, 1.0, 2.0, 3.0, 5.0, 15.0, 20.0, 21.0, 6.0, 10.0, 6.0, 7.0, 9.0, 7.0, 11.0, 12.0, 12.0, 11.0, 11.0]}, \"V5L 1H3\": {\"cars\": [10.0, 9.0, 5.0, 9.0, 3.0, 1.0, 1.0, 2.0, 3.0, 5.0, 15.0, 20.0, 21.0, 6.0, 10.0, 6.0, 7.0, 9.0, 7.0, 11.0, 12.0, 12.0, 11.0, 11.0]}, \"V3M 1R2\": {\"cars\": [10.0, 9.0, 5.0, 9.0, 3.0, 1.0, 1.0, 2.0, 3.0, 5.0, 15.0, 20.0, 21.0, 6.0, 10.0, 6.0, 7.0, 9.0, 7.0, 11.0, 12.0, 12.0, 11.0, 11.0]}, \"V5P 4R6\": {\"cars\": [10.0, 9.0, 5.0, 9.0, 3.0, 1.0, 1.0, 2.0, 3.0, 5.0, 15.0, 20.0, 21.0, 6.0, 10.0, 6.0, 7.0, 9.0, 7.0, 11.0, 12.0, 12.0, 11.0, 11.0]}, \"V5M\": {\"lat_long\": [49.2691675, -123.0514035], \"cars\": [10.0, 9.0, 5.0, 9.0, 3.0, 1.0, 1.0, 2.0, 3.0, 5.0, 15.0, 20.0, 21.0, 6.0, 10.0, 6.0, 7.0, 9.0, 7.0, 11.0, 12.0, 12.0, 11.0, 11.0]}, \"V6Z 1Y5\": {\"cars\": [10.0, 9.0, 5.0, 9.0, 3.0, 1.0, 1.0, 2.0, 3.0, 5.0, 15.0, 20.0, 21.0, 6.0, 10.0, 6.0, 7.0, 9.0, 7.0, 11.0, 12.0, 12.0, 11.0, 11.0]}, \"V6E 4H6\": {\"cars\": [10.0, 9.0, 5.0, 9.0, 3.0, 1.0, 1.0, 2.0, 3.0, 5.0, 15.0, 20.0, 21.0, 6.0, 10.0, 6.0, 7.0, 9.0, 7.0, 11.0, 12.0, 12.0, 11.0, 11.0]}, \"V6B 3B4\": {\"cars\": [10.0, 9.0, 5.0, 9.0, 3.0, 1.0, 1.0, 2.0, 3.0, 5.0, 15.0, 20.0, 21.0, 6.0, 10.0, 6.0, 7.0, 9.0, 7.0, 11.0, 12.0, 12.0, 11.0, 11.0]}, \"V5T\": {\"lat_long\": [49.26619119999999, -123.0882315], \"cars\": [10.0, 9.0, 5.0, 9.0, 3.0, 1.0, 1.0, 2.0, 3.0, 5.0, 15.0, 20.0, 21.0, 6.0, 10.0, 6.0, 7.0, 9.0, 7.0, 11.0, 12.0, 12.0, 11.0, 11.0]}, \"V6J 3X2\": {\"cars\": [10.0, 9.0, 5.0, 9.0, 3.0, 1.0, 1.0, 2.0, 3.0, 5.0, 15.0, 20.0, 21.0, 6.0, 10.0, 6.0, 7.0, 9.0, 7.0, 11.0, 12.0, 12.0, 11.0, 11.0]}, \"V6B 1G6\": {\"cars\": [10.0, 9.0, 5.0, 9.0, 3.0, 1.0, 1.0, 2.0, 3.0, 5.0, 15.0, 20.0, 21.0, 6.0, 10.0, 6.0, 7.0, 9.0, 7.0, 11.0, 12.0, 12.0, 11.0, 11.0]}, \"V6H 1R3\": {\"cars\": [10.0, 9.0, 5.0, 9.0, 3.0, 1.0, 1.0, 2.0, 3.0, 5.0, 15.0, 20.0, 21.0, 6.0, 10.0, 6.0, 7.0, 9.0, 7.0, 11.0, 12.0, 12.0, 11.0, 11.0]}, \"V6S 0B5\": {\"cars\": [10.0, 9.0, 5.0, 9.0, 3.0, 1.0, 1.0, 2.0, 3.0, 5.0, 15.0, 20.0, 21.0, 6.0, 10.0, 6.0, 7.0, 9.0, 7.0, 11.0, 12.0, 12.0, 11.0, 11.0]}, \"V5N 4L3\": {\"cars\": [10.0, 9.0, 5.0, 9.0, 3.0, 1.0, 1.0, 2.0, 3.0, 5.0, 15.0, 20.0, 21.0, 6.0, 10.0, 6.0, 7.0, 9.0, 7.0, 11.0, 12.0, 12.0, 11.0, 11.0]}, \"V6B 0J9\": {\"cars\": [10.0, 9.0, 5.0, 9.0, 3.0, 1.0, 1.0, 2.0, 3.0, 5.0, 15.0, 20.0, 21.0, 6.0, 10.0, 6.0, 7.0, 9.0, 7.0, 11.0, 12.0, 12.0, 11.0, 11.0]}, \"V6J 1A3\": {\"cars\": [10.0, 9.0, 5.0, 9.0, 3.0, 1.0, 1.0, 2.0, 3.0, 5.0, 15.0, 20.0, 21.0, 6.0, 10.0, 6.0, 7.0, 9.0, 7.0, 11.0, 12.0, 12.0, 11.0, 11.0]}, \"V3N 3H7\": {\"cars\": [10.0, 9.0, 5.0, 9.0, 3.0, 1.0, 1.0, 2.0, 3.0, 5.0, 15.0, 20.0, 21.0, 6.0, 10.0, 6.0, 7.0, 9.0, 7.0, 11.0, 12.0, 12.0, 11.0, 11.0]}, \"V5M 1Z6\": {\"cars\": [10.0, 9.0, 5.0, 9.0, 3.0, 1.0, 1.0, 2.0, 3.0, 5.0, 15.0, 20.0, 21.0, 6.0, 10.0, 6.0, 7.0, 9.0, 7.0, 11.0, 12.0, 12.0, 11.0, 11.0]}, \"V6B 2X1\": {\"cars\": [10.0, 9.0, 5.0, 9.0, 3.0, 1.0, 1.0, 2.0, 3.0, 5.0, 15.0, 20.0, 21.0, 6.0, 10.0, 6.0, 7.0, 9.0, 7.0, 11.0, 12.0, 12.0, 11.0, 11.0]}, \"V6Z 2B7\": {\"cars\": [10.0, 9.0, 5.0, 9.0, 3.0, 1.0, 1.0, 2.0, 3.0, 5.0, 15.0, 20.0, 21.0, 6.0, 10.0, 6.0, 7.0, 9.0, 7.0, 11.0, 12.0, 12.0, 11.0, 11.0]}, \"V6Z 2X4\": {\"cars\": [10.0, 9.0, 5.0, 9.0, 3.0, 1.0, 1.0, 2.0, 3.0, 5.0, 15.0, 20.0, 21.0, 6.0, 10.0, 6.0, 7.0, 9.0, 7.0, 11.0, 12.0, 12.0, 11.0, 11.0]}, \"V5N 4M4\": {\"cars\": [10.0, 9.0, 5.0, 9.0, 3.0, 1.0, 1.0, 2.0, 3.0, 5.0, 15.0, 20.0, 21.0, 6.0, 10.0, 6.0, 7.0, 9.0, 7.0, 11.0, 12.0, 12.0, 11.0, 11.0]}, \"V6K 2X8\": {\"cars\": [10.0, 9.0, 5.0, 9.0, 3.0, 1.0, 1.0, 2.0, 3.0, 5.0, 15.0, 20.0, 21.0, 6.0, 10.0, 6.0, 7.0, 9.0, 7.0, 11.0, 12.0, 12.0, 11.0, 11.0]}, \"V6Z 2X7\": {\"cars\": [10.0, 9.0, 5.0, 9.0, 3.0, 1.0, 1.0, 2.0, 3.0, 5.0, 15.0, 20.0, 21.0, 6.0, 10.0, 6.0, 7.0, 9.0, 7.0, 11.0, 12.0, 12.0, 11.0, 11.0]}, \"V3M 6B9\": {\"cars\": [10.0, 9.0, 5.0, 9.0, 3.0, 1.0, 1.0, 2.0, 3.0, 5.0, 15.0, 20.0, 21.0, 6.0, 10.0, 6.0, 7.0, 9.0, 7.0, 11.0, 12.0, 12.0, 11.0, 11.0]}, \"V7J 2K7\": {\"cars\": [10.0, 9.0, 5.0, 9.0, 3.0, 1.0, 1.0, 2.0, 3.0, 5.0, 15.0, 20.0, 21.0, 6.0, 10.0, 6.0, 7.0, 9.0, 7.0, 11.0, 12.0, 12.0, 11.0, 11.0]}, \"V6H 1T7\": {\"cars\": [10.0, 9.0, 5.0, 9.0, 3.0, 1.0, 1.0, 2.0, 3.0, 5.0, 15.0, 20.0, 21.0, 6.0, 10.0, 6.0, 7.0, 9.0, 7.0, 11.0, 12.0, 12.0, 11.0, 11.0]}, \"V5Y 2H5\": {\"cars\": [10.0, 9.0, 5.0, 9.0, 3.0, 1.0, 1.0, 2.0, 3.0, 5.0, 15.0, 20.0, 21.0, 6.0, 10.0, 6.0, 7.0, 9.0, 7.0, 11.0, 12.0, 12.0, 11.0, 11.0]}, \"V6E 1N4\": {\"cars\": [10.0, 9.0, 5.0, 9.0, 3.0, 1.0, 1.0, 2.0, 3.0, 5.0, 15.0, 20.0, 21.0, 6.0, 10.0, 6.0, 7.0, 9.0, 7.0, 11.0, 12.0, 12.0, 11.0, 11.0]}, \"V6A 2V4\": {\"cars\": [10.0, 9.0, 5.0, 9.0, 3.0, 1.0, 1.0, 2.0, 3.0, 5.0, 15.0, 20.0, 21.0, 6.0, 10.0, 6.0, 7.0, 9.0, 7.0, 11.0, 12.0, 12.0, 11.0, 11.0]}, \"V6B 2R7\": {\"cars\": [10.0, 9.0, 5.0, 9.0, 3.0, 1.0, 1.0, 2.0, 3.0, 5.0, 15.0, 20.0, 21.0, 6.0, 10.0, 6.0, 7.0, 9.0, 7.0, 11.0, 12.0, 12.0, 11.0, 11.0]}, \"V5K\": {\"lat_long\": [49.28635389999999, -123.0288899], \"cars\": [10.0, 9.0, 5.0, 9.0, 3.0, 1.0, 1.0, 2.0, 3.0, 5.0, 15.0, 20.0, 21.0, 6.0, 10.0, 6.0, 7.0, 9.0, 7.0, 11.0, 12.0, 12.0, 11.0, 11.0]}, \"V6B 6B1\": {\"cars\": [10.0, 9.0, 5.0, 9.0, 3.0, 1.0, 1.0, 2.0, 3.0, 5.0, 15.0, 20.0, 21.0, 6.0, 10.0, 6.0, 7.0, 9.0, 7.0, 11.0, 12.0, 12.0, 11.0, 11.0]}, \"V6B 0J4\": {\"cars\": [10.0, 9.0, 5.0, 9.0, 3.0, 1.0, 1.0, 2.0, 3.0, 5.0, 15.0, 20.0, 21.0, 6.0, 10.0, 6.0, 7.0, 9.0, 7.0, 11.0, 12.0, 12.0, 11.0, 11.0]}, \"V5Z 2L7\": {\"cars\": [10.0, 9.0, 5.0, 9.0, 3.0, 1.0, 1.0, 2.0, 3.0, 5.0, 15.0, 20.0, 21.0, 6.0, 10.0, 6.0, 7.0, 9.0, 7.0, 11.0, 12.0, 12.0, 11.0, 11.0]}, \"V6M 2A9\": {\"cars\": [10.0, 9.0, 5.0, 9.0, 3.0, 1.0, 1.0, 2.0, 3.0, 5.0, 15.0, 20.0, 21.0, 6.0, 10.0, 6.0, 7.0, 9.0, 7.0, 11.0, 12.0, 12.0, 11.0, 11.0]}, \"V6M 1L8\": {\"cars\": [10.0, 9.0, 5.0, 9.0, 3.0, 1.0, 1.0, 2.0, 3.0, 5.0, 15.0, 20.0, 21.0, 6.0, 10.0, 6.0, 7.0, 9.0, 7.0, 11.0, 12.0, 12.0, 11.0, 11.0]}, \"V6P 3T9\": {\"cars\": [10.0, 9.0, 5.0, 9.0, 3.0, 1.0, 1.0, 2.0, 3.0, 5.0, 15.0, 20.0, 21.0, 6.0, 10.0, 6.0, 7.0, 9.0, 7.0, 11.0, 12.0, 12.0, 11.0, 11.0]}, \"V3L 3A9\": {\"cars\": [10.0, 9.0, 5.0, 9.0, 3.0, 1.0, 1.0, 2.0, 3.0, 5.0, 15.0, 20.0, 21.0, 6.0, 10.0, 6.0, 7.0, 9.0, 7.0, 11.0, 12.0, 12.0, 11.0, 11.0]}, \"V5G 4X7\": {\"cars\": [10.0, 9.0, 5.0, 9.0, 3.0, 1.0, 1.0, 2.0, 3.0, 5.0, 15.0, 20.0, 21.0, 6.0, 10.0, 6.0, 7.0, 9.0, 7.0, 11.0, 12.0, 12.0, 11.0, 11.0]}, \"V6M 2B8\": {\"cars\": [10.0, 9.0, 5.0, 9.0, 3.0, 1.0, 1.0, 2.0, 3.0, 5.0, 15.0, 20.0, 21.0, 6.0, 10.0, 6.0, 7.0, 9.0, 7.0, 11.0, 12.0, 12.0, 11.0, 11.0]}, \"V6Z 2T9\": {\"cars\": [10.0, 9.0, 5.0, 9.0, 3.0, 1.0, 1.0, 2.0, 3.0, 5.0, 15.0, 20.0, 21.0, 6.0, 10.0, 6.0, 7.0, 9.0, 7.0, 11.0, 12.0, 12.0, 11.0, 11.0]}, \"V6B 1H4\": {\"cars\": [10.0, 9.0, 5.0, 9.0, 3.0, 1.0, 1.0, 2.0, 3.0, 5.0, 15.0, 20.0, 21.0, 6.0, 10.0, 6.0, 7.0, 9.0, 7.0, 11.0, 12.0, 12.0, 11.0, 11.0]}, \"V6A 1X9\": {\"cars\": [10.0, 9.0, 5.0, 9.0, 3.0, 1.0, 1.0, 2.0, 3.0, 5.0, 15.0, 20.0, 21.0, 6.0, 10.0, 6.0, 7.0, 9.0, 7.0, 11.0, 12.0, 12.0, 11.0, 11.0]}, \"V6A 1R8\": {\"cars\": [10.0, 9.0, 5.0, 9.0, 3.0, 1.0, 1.0, 2.0, 3.0, 5.0, 15.0, 20.0, 21.0, 6.0, 10.0, 6.0, 7.0, 9.0, 7.0, 11.0, 12.0, 12.0, 11.0, 11.0]}, \"V3L 1A9\": {\"cars\": [10.0, 9.0, 5.0, 9.0, 3.0, 1.0, 1.0, 2.0, 3.0, 5.0, 15.0, 20.0, 21.0, 6.0, 10.0, 6.0, 7.0, 9.0, 7.0, 11.0, 12.0, 12.0, 11.0, 11.0]}, \"V5N 0B5\": {\"cars\": [10.0, 9.0, 5.0, 9.0, 3.0, 1.0, 1.0, 2.0, 3.0, 5.0, 15.0, 20.0, 21.0, 6.0, 10.0, 6.0, 7.0, 9.0, 7.0, 11.0, 12.0, 12.0, 11.0, 11.0]}, \"V6M 2Z2\": {\"cars\": [10.0, 9.0, 5.0, 9.0, 3.0, 1.0, 1.0, 2.0, 3.0, 5.0, 15.0, 20.0, 21.0, 6.0, 10.0, 6.0, 7.0, 9.0, 7.0, 11.0, 12.0, 12.0, 11.0, 11.0]}, \"V3L 2G1\": {\"cars\": [10.0, 9.0, 5.0, 9.0, 3.0, 1.0, 1.0, 2.0, 3.0, 5.0, 15.0, 20.0, 21.0, 6.0, 10.0, 6.0, 7.0, 9.0, 7.0, 11.0, 12.0, 12.0, 11.0, 11.0]}, \"V5L 1S3\": {\"cars\": [10.0, 9.0, 5.0, 9.0, 3.0, 1.0, 1.0, 2.0, 3.0, 5.0, 15.0, 20.0, 21.0, 6.0, 10.0, 6.0, 7.0, 9.0, 7.0, 11.0, 12.0, 12.0, 11.0, 11.0]}, \"V6A 1Z3\": {\"lat_long\": [49.2787065, -123.0802639], \"cars\": [10.0, 9.0, 5.0, 9.0, 3.0, 1.0, 1.0, 2.0, 3.0, 5.0, 15.0, 20.0, 21.0, 6.0, 10.0, 6.0, 7.0, 9.0, 7.0, 11.0, 12.0, 12.0, 11.0, 11.0]}, \"V5M 3E4\": {\"cars\": [10.0, 9.0, 5.0, 9.0, 3.0, 1.0, 1.0, 2.0, 3.0, 5.0, 15.0, 20.0, 21.0, 6.0, 10.0, 6.0, 7.0, 9.0, 7.0, 11.0, 12.0, 12.0, 11.0, 11.0]}, \"V3M 6H5\": {\"cars\": [10.0, 9.0, 5.0, 9.0, 3.0, 1.0, 1.0, 2.0, 3.0, 5.0, 15.0, 20.0, 21.0, 6.0, 10.0, 6.0, 7.0, 9.0, 7.0, 11.0, 12.0, 12.0, 11.0, 11.0]}, \"V6G 2W3\": {\"cars\": [10.0, 9.0, 5.0, 9.0, 3.0, 1.0, 1.0, 2.0, 3.0, 5.0, 15.0, 20.0, 21.0, 6.0, 10.0, 6.0, 7.0, 9.0, 7.0, 11.0, 12.0, 12.0, 11.0, 11.0]}, \"V5G 4M9\": {\"cars\": [10.0, 9.0, 5.0, 9.0, 3.0, 1.0, 1.0, 2.0, 3.0, 5.0, 15.0, 20.0, 21.0, 6.0, 10.0, 6.0, 7.0, 9.0, 7.0, 11.0, 12.0, 12.0, 11.0, 11.0]}, \"V6E 3J7\": {\"cars\": [10.0, 9.0, 5.0, 9.0, 3.0, 1.0, 1.0, 2.0, 3.0, 5.0, 15.0, 20.0, 21.0, 6.0, 10.0, 6.0, 7.0, 9.0, 7.0, 11.0, 12.0, 12.0, 11.0, 11.0]}, \"V5N 4V1\": {\"cars\": [10.0, 9.0, 5.0, 9.0, 3.0, 1.0, 1.0, 2.0, 3.0, 5.0, 15.0, 20.0, 21.0, 6.0, 10.0, 6.0, 7.0, 9.0, 7.0, 11.0, 12.0, 12.0, 11.0, 11.0]}, \"V6A 2V8\": {\"cars\": [10.0, 9.0, 5.0, 9.0, 3.0, 1.0, 1.0, 2.0, 3.0, 5.0, 15.0, 20.0, 21.0, 6.0, 10.0, 6.0, 7.0, 9.0, 7.0, 11.0, 12.0, 12.0, 11.0, 11.0]}, \"V6M 1M3\": {\"cars\": [10.0, 9.0, 5.0, 9.0, 3.0, 1.0, 1.0, 2.0, 3.0, 5.0, 15.0, 20.0, 21.0, 6.0, 10.0, 6.0, 7.0, 9.0, 7.0, 11.0, 12.0, 12.0, 11.0, 11.0]}, \"V6A 1S2\": {\"cars\": [10.0, 9.0, 5.0, 9.0, 3.0, 1.0, 1.0, 2.0, 3.0, 5.0, 15.0, 20.0, 21.0, 6.0, 10.0, 6.0, 7.0, 9.0, 7.0, 11.0, 12.0, 12.0, 11.0, 11.0]}, \"V5R\": {\"lat_long\": [49.2495001, -123.048236], \"cars\": [10.0, 9.0, 5.0, 9.0, 3.0, 1.0, 1.0, 2.0, 3.0, 5.0, 15.0, 20.0, 21.0, 6.0, 10.0, 6.0, 7.0, 9.0, 7.0, 11.0, 12.0, 12.0, 11.0, 11.0]}, \"V5R 5L1\": {\"cars\": [10.0, 9.0, 5.0, 9.0, 3.0, 1.0, 1.0, 2.0, 3.0, 5.0, 15.0, 20.0, 21.0, 6.0, 10.0, 6.0, 7.0, 9.0, 7.0, 11.0, 12.0, 12.0, 11.0, 11.0]}, \"V6A 3T8\": {\"cars\": [10.0, 9.0, 5.0, 9.0, 3.0, 1.0, 1.0, 2.0, 3.0, 5.0, 15.0, 20.0, 21.0, 6.0, 10.0, 6.0, 7.0, 9.0, 7.0, 11.0, 12.0, 12.0, 11.0, 11.0]}, \"V6H 1S5\": {\"cars\": [10.0, 9.0, 5.0, 9.0, 3.0, 1.0, 1.0, 2.0, 3.0, 5.0, 15.0, 20.0, 21.0, 6.0, 10.0, 6.0, 7.0, 9.0, 7.0, 11.0, 12.0, 12.0, 11.0, 11.0]}, \"V5T 4R8\": {\"cars\": [10.0, 9.0, 5.0, 9.0, 3.0, 1.0, 1.0, 2.0, 3.0, 5.0, 15.0, 20.0, 21.0, 6.0, 10.0, 6.0, 7.0, 9.0, 7.0, 11.0, 12.0, 12.0, 11.0, 11.0]}, \"V3L 2K1\": {\"cars\": [10.0, 9.0, 5.0, 9.0, 3.0, 1.0, 1.0, 2.0, 3.0, 5.0, 15.0, 20.0, 21.0, 6.0, 10.0, 6.0, 7.0, 9.0, 7.0, 11.0, 12.0, 12.0, 11.0, 11.0]}, \"V5R 5L4\": {\"cars\": [10.0, 9.0, 5.0, 9.0, 3.0, 1.0, 1.0, 2.0, 3.0, 5.0, 15.0, 20.0, 21.0, 6.0, 10.0, 6.0, 7.0, 9.0, 7.0, 11.0, 12.0, 12.0, 11.0, 11.0]}, \"V6G 2A7\": {\"cars\": [10.0, 9.0, 5.0, 9.0, 3.0, 1.0, 1.0, 2.0, 3.0, 5.0, 15.0, 20.0, 21.0, 6.0, 10.0, 6.0, 7.0, 9.0, 7.0, 11.0, 12.0, 12.0, 11.0, 11.0]}, \"V6B 1T5\": {\"cars\": [10.0, 9.0, 5.0, 9.0, 3.0, 1.0, 1.0, 2.0, 3.0, 5.0, 15.0, 20.0, 21.0, 6.0, 10.0, 6.0, 7.0, 9.0, 7.0, 11.0, 12.0, 12.0, 11.0, 11.0]}, \"V5N 1A9\": {\"lat_long\": [49.269823, -123.0684064], \"cars\": [10.0, 9.0, 5.0, 9.0, 3.0, 1.0, 1.0, 2.0, 3.0, 5.0, 15.0, 20.0, 21.0, 6.0, 10.0, 6.0, 7.0, 9.0, 7.0, 11.0, 12.0, 12.0, 11.0, 11.0]}, \"V3L 5B3\": {\"cars\": [10.0, 9.0, 5.0, 9.0, 3.0, 1.0, 1.0, 2.0, 3.0, 5.0, 15.0, 20.0, 21.0, 6.0, 10.0, 6.0, 7.0, 9.0, 7.0, 11.0, 12.0, 12.0, 11.0, 11.0]}, \"V6M 2Z4\": {\"cars\": [10.0, 9.0, 5.0, 9.0, 3.0, 1.0, 1.0, 2.0, 3.0, 5.0, 15.0, 20.0, 21.0, 6.0, 10.0, 6.0, 7.0, 9.0, 7.0, 11.0, 12.0, 12.0, 11.0, 11.0]}, \"V7N 1X1\": {\"cars\": [10.0, 9.0, 5.0, 9.0, 3.0, 1.0, 1.0, 2.0, 3.0, 5.0, 15.0, 20.0, 21.0, 6.0, 10.0, 6.0, 7.0, 9.0, 7.0, 11.0, 12.0, 12.0, 11.0, 11.0]}, \"V6A 1T3\": {\"cars\": [10.0, 9.0, 5.0, 9.0, 3.0, 1.0, 1.0, 2.0, 3.0, 5.0, 15.0, 20.0, 21.0, 6.0, 10.0, 6.0, 7.0, 9.0, 7.0, 11.0, 12.0, 12.0, 11.0, 11.0]}, \"V6M 1L9\": {\"cars\": [10.0, 9.0, 5.0, 9.0, 3.0, 1.0, 1.0, 2.0, 3.0, 5.0, 15.0, 20.0, 21.0, 6.0, 10.0, 6.0, 7.0, 9.0, 7.0, 11.0, 12.0, 12.0, 11.0, 11.0]}, \"V3M 2A5\": {\"cars\": [10.0, 9.0, 5.0, 9.0, 3.0, 1.0, 1.0, 2.0, 3.0, 5.0, 15.0, 20.0, 21.0, 6.0, 10.0, 6.0, 7.0, 9.0, 7.0, 11.0, 12.0, 12.0, 11.0, 11.0]}, \"V5M 2E9\": {\"cars\": [10.0, 9.0, 5.0, 9.0, 3.0, 1.0, 1.0, 2.0, 3.0, 5.0, 15.0, 20.0, 21.0, 6.0, 10.0, 6.0, 7.0, 9.0, 7.0, 11.0, 12.0, 12.0, 11.0, 11.0]}, \"V7J 1H2\": {\"cars\": [10.0, 9.0, 5.0, 9.0, 3.0, 1.0, 1.0, 2.0, 3.0, 5.0, 15.0, 20.0, 21.0, 6.0, 10.0, 6.0, 7.0, 9.0, 7.0, 11.0, 12.0, 12.0, 11.0, 11.0]}, \"V6E 1X9\": {\"cars\": [10.0, 9.0, 5.0, 9.0, 3.0, 1.0, 1.0, 2.0, 3.0, 5.0, 15.0, 20.0, 21.0, 6.0, 10.0, 6.0, 7.0, 9.0, 7.0, 11.0, 12.0, 12.0, 11.0, 11.0]}, \"V6A 1T1\": {\"cars\": [10.0, 9.0, 5.0, 9.0, 3.0, 1.0, 1.0, 2.0, 3.0, 5.0, 15.0, 20.0, 21.0, 6.0, 10.0, 6.0, 7.0, 9.0, 7.0, 11.0, 12.0, 12.0, 11.0, 11.0]}, \"V6A 1X3\": {\"cars\": [10.0, 9.0, 5.0, 9.0, 3.0, 1.0, 1.0, 2.0, 3.0, 5.0, 15.0, 20.0, 21.0, 6.0, 10.0, 6.0, 7.0, 9.0, 7.0, 11.0, 12.0, 12.0, 11.0, 11.0]}, \"V5V 3M5\": {\"cars\": [10.0, 9.0, 5.0, 9.0, 3.0, 1.0, 1.0, 2.0, 3.0, 5.0, 15.0, 20.0, 21.0, 6.0, 10.0, 6.0, 7.0, 9.0, 7.0, 11.0, 12.0, 12.0, 11.0, 11.0]}, \"V5L 4E5\": {\"cars\": [10.0, 9.0, 5.0, 9.0, 3.0, 1.0, 1.0, 2.0, 3.0, 5.0, 15.0, 20.0, 21.0, 6.0, 10.0, 6.0, 7.0, 9.0, 7.0, 11.0, 12.0, 12.0, 11.0, 11.0]}, \"V7M 3N2\": {\"cars\": [10.0, 9.0, 5.0, 9.0, 3.0, 1.0, 1.0, 2.0, 3.0, 5.0, 15.0, 20.0, 21.0, 6.0, 10.0, 6.0, 7.0, 9.0, 7.0, 11.0, 12.0, 12.0, 11.0, 11.0]}, \"V6A 2S5\": {\"cars\": [10.0, 9.0, 5.0, 9.0, 3.0, 1.0, 1.0, 2.0, 3.0, 5.0, 15.0, 20.0, 21.0, 6.0, 10.0, 6.0, 7.0, 9.0, 7.0, 11.0, 12.0, 12.0, 11.0, 11.0]}, \"V6H 1L6\": {\"cars\": [10.0, 9.0, 5.0, 9.0, 3.0, 1.0, 1.0, 2.0, 3.0, 5.0, 15.0, 20.0, 21.0, 6.0, 10.0, 6.0, 7.0, 9.0, 7.0, 11.0, 12.0, 12.0, 11.0, 11.0]}, \"V6B 5X5\": {\"cars\": [10.0, 9.0, 5.0, 9.0, 3.0, 1.0, 1.0, 2.0, 3.0, 5.0, 15.0, 20.0, 21.0, 6.0, 10.0, 6.0, 7.0, 9.0, 7.0, 11.0, 12.0, 12.0, 11.0, 11.0]}, \"V5Y 1G9\": {\"cars\": [10.0, 9.0, 5.0, 9.0, 3.0, 1.0, 1.0, 2.0, 3.0, 5.0, 15.0, 20.0, 21.0, 6.0, 10.0, 6.0, 7.0, 9.0, 7.0, 11.0, 12.0, 12.0, 11.0, 11.0]}, \"V6B 3G2\": {\"cars\": [10.0, 9.0, 5.0, 9.0, 3.0, 1.0, 1.0, 2.0, 3.0, 5.0, 15.0, 20.0, 21.0, 6.0, 10.0, 6.0, 7.0, 9.0, 7.0, 11.0, 12.0, 12.0, 11.0, 11.0]}, \"V5N 5E5\": {\"cars\": [10.0, 9.0, 5.0, 9.0, 3.0, 1.0, 1.0, 2.0, 3.0, 5.0, 15.0, 20.0, 21.0, 6.0, 10.0, 6.0, 7.0, 9.0, 7.0, 11.0, 12.0, 12.0, 11.0, 11.0]}, \"V7M 2K1\": {\"cars\": [10.0, 9.0, 5.0, 9.0, 3.0, 1.0, 1.0, 2.0, 3.0, 5.0, 15.0, 20.0, 21.0, 6.0, 10.0, 6.0, 7.0, 9.0, 7.0, 11.0, 12.0, 12.0, 11.0, 11.0]}, \"V6Z 2C7\": {\"cars\": [10.0, 9.0, 5.0, 9.0, 3.0, 1.0, 1.0, 2.0, 3.0, 5.0, 15.0, 20.0, 21.0, 6.0, 10.0, 6.0, 7.0, 9.0, 7.0, 11.0, 12.0, 12.0, 11.0, 11.0]}, \"V5Y 1B3\": {\"cars\": [10.0, 9.0, 5.0, 9.0, 3.0, 1.0, 1.0, 2.0, 3.0, 5.0, 15.0, 20.0, 21.0, 6.0, 10.0, 6.0, 7.0, 9.0, 7.0, 11.0, 12.0, 12.0, 11.0, 11.0]}, \"V5Y\": {\"lat_long\": [49.2694492, -123.1068107], \"cars\": [10.0, 9.0, 5.0, 9.0, 3.0, 1.0, 1.0, 2.0, 3.0, 5.0, 15.0, 20.0, 21.0, 6.0, 10.0, 6.0, 7.0, 9.0, 7.0, 11.0, 12.0, 12.0, 11.0, 11.0]}, \"V6J 4A1\": {\"cars\": [10.0, 9.0, 5.0, 9.0, 3.0, 1.0, 1.0, 2.0, 3.0, 5.0, 15.0, 20.0, 21.0, 6.0, 10.0, 6.0, 7.0, 9.0, 7.0, 11.0, 12.0, 12.0, 11.0, 11.0]}, \"V6A 1A4\": {\"cars\": [10.0, 9.0, 5.0, 9.0, 3.0, 1.0, 1.0, 2.0, 3.0, 5.0, 15.0, 20.0, 21.0, 6.0, 10.0, 6.0, 7.0, 9.0, 7.0, 11.0, 12.0, 12.0, 11.0, 11.0]}, \"V3J 3Z9\": {\"cars\": [10.0, 9.0, 5.0, 9.0, 3.0, 1.0, 1.0, 2.0, 3.0, 5.0, 15.0, 20.0, 21.0, 6.0, 10.0, 6.0, 7.0, 9.0, 7.0, 11.0, 12.0, 12.0, 11.0, 11.0]}, \"V6B 3P3\": {\"cars\": [10.0, 9.0, 5.0, 9.0, 3.0, 1.0, 1.0, 2.0, 3.0, 5.0, 15.0, 20.0, 21.0, 6.0, 10.0, 6.0, 7.0, 9.0, 7.0, 11.0, 12.0, 12.0, 11.0, 11.0]}, \"V6E 4M8\": {\"cars\": [10.0, 9.0, 5.0, 9.0, 3.0, 1.0, 1.0, 2.0, 3.0, 5.0, 15.0, 20.0, 21.0, 6.0, 10.0, 6.0, 7.0, 9.0, 7.0, 11.0, 12.0, 12.0, 11.0, 11.0]}, \"V5N 3Z8\": {\"cars\": [10.0, 9.0, 5.0, 9.0, 3.0, 1.0, 1.0, 2.0, 3.0, 5.0, 15.0, 20.0, 21.0, 6.0, 10.0, 6.0, 7.0, 9.0, 7.0, 11.0, 12.0, 12.0, 11.0, 11.0]}, \"V6K 2G3\": {\"cars\": [10.0, 9.0, 5.0, 9.0, 3.0, 1.0, 1.0, 2.0, 3.0, 5.0, 15.0, 20.0, 21.0, 6.0, 10.0, 6.0, 7.0, 9.0, 7.0, 11.0, 12.0, 12.0, 11.0, 11.0]}, \"V5L 1K5\": {\"cars\": [10.0, 9.0, 5.0, 9.0, 3.0, 1.0, 1.0, 2.0, 3.0, 5.0, 15.0, 20.0, 21.0, 6.0, 10.0, 6.0, 7.0, 9.0, 7.0, 11.0, 12.0, 12.0, 11.0, 11.0]}, \"V6Z 1X6\": {\"cars\": [10.0, 9.0, 5.0, 9.0, 3.0, 1.0, 1.0, 2.0, 3.0, 5.0, 15.0, 20.0, 21.0, 6.0, 10.0, 6.0, 7.0, 9.0, 7.0, 11.0, 12.0, 12.0, 11.0, 11.0]}, \"V5V\": {\"lat_long\": [49.2450856, -123.1016386], \"cars\": [10.0, 9.0, 5.0, 9.0, 3.0, 1.0, 1.0, 2.0, 3.0, 5.0, 15.0, 20.0, 21.0, 6.0, 10.0, 6.0, 7.0, 9.0, 7.0, 11.0, 12.0, 12.0, 11.0, 11.0]}, \"V5T 1S1\": {\"cars\": [10.0, 9.0, 5.0, 9.0, 3.0, 1.0, 1.0, 2.0, 3.0, 5.0, 15.0, 20.0, 21.0, 6.0, 10.0, 6.0, 7.0, 9.0, 7.0, 11.0, 12.0, 12.0, 11.0, 11.0]}, \"V5P 4K6\": {\"cars\": [10.0, 9.0, 5.0, 9.0, 3.0, 1.0, 1.0, 2.0, 3.0, 5.0, 15.0, 20.0, 21.0, 6.0, 10.0, 6.0, 7.0, 9.0, 7.0, 11.0, 12.0, 12.0, 11.0, 11.0]}, \"V3L 4M8\": {\"cars\": [10.0, 9.0, 5.0, 9.0, 3.0, 1.0, 1.0, 2.0, 3.0, 5.0, 15.0, 20.0, 21.0, 6.0, 10.0, 6.0, 7.0, 9.0, 7.0, 11.0, 12.0, 12.0, 11.0, 11.0]}, \"V7R 4P6\": {\"cars\": [10.0, 9.0, 5.0, 9.0, 3.0, 1.0, 1.0, 2.0, 3.0, 5.0, 15.0, 20.0, 21.0, 6.0, 10.0, 6.0, 7.0, 9.0, 7.0, 11.0, 12.0, 12.0, 11.0, 11.0]}, \"V6A 1G7\": {\"cars\": [10.0, 9.0, 5.0, 9.0, 3.0, 1.0, 1.0, 2.0, 3.0, 5.0, 15.0, 20.0, 21.0, 6.0, 10.0, 6.0, 7.0, 9.0, 7.0, 11.0, 12.0, 12.0, 11.0, 11.0]}, \"V5Y 4B1\": {\"cars\": [10.0, 9.0, 5.0, 9.0, 3.0, 1.0, 1.0, 2.0, 3.0, 5.0, 15.0, 20.0, 21.0, 6.0, 10.0, 6.0, 7.0, 9.0, 7.0, 11.0, 12.0, 12.0, 11.0, 11.0]}, \"V6H 2K5\": {\"cars\": [10.0, 9.0, 5.0, 9.0, 3.0, 1.0, 1.0, 2.0, 3.0, 5.0, 15.0, 20.0, 21.0, 6.0, 10.0, 6.0, 7.0, 9.0, 7.0, 11.0, 12.0, 12.0, 11.0, 11.0]}, \"V6C 2R7\": {\"cars\": [10.0, 9.0, 5.0, 9.0, 3.0, 1.0, 1.0, 2.0, 3.0, 5.0, 15.0, 20.0, 21.0, 6.0, 10.0, 6.0, 7.0, 9.0, 7.0, 11.0, 12.0, 12.0, 11.0, 11.0]}, \"V5T 1E8\": {\"cars\": [10.0, 9.0, 5.0, 9.0, 3.0, 1.0, 1.0, 2.0, 3.0, 5.0, 15.0, 20.0, 21.0, 6.0, 10.0, 6.0, 7.0, 9.0, 7.0, 11.0, 12.0, 12.0, 11.0, 11.0]}, \"V5R 1P3\": {\"cars\": [10.0, 9.0, 5.0, 9.0, 3.0, 1.0, 1.0, 2.0, 3.0, 5.0, 15.0, 20.0, 21.0, 6.0, 10.0, 6.0, 7.0, 9.0, 7.0, 11.0, 12.0, 12.0, 11.0, 11.0]}, \"V6M 2X2\": {\"cars\": [10.0, 9.0, 5.0, 9.0, 3.0, 1.0, 1.0, 2.0, 3.0, 5.0, 15.0, 20.0, 21.0, 6.0, 10.0, 6.0, 7.0, 9.0, 7.0, 11.0, 12.0, 12.0, 11.0, 11.0]}, \"V5Y 1P3\": {\"cars\": [10.0, 9.0, 5.0, 9.0, 3.0, 1.0, 1.0, 2.0, 3.0, 5.0, 15.0, 20.0, 21.0, 6.0, 10.0, 6.0, 7.0, 9.0, 7.0, 11.0, 12.0, 12.0, 11.0, 11.0]}, \"V5R 6G8\": {\"cars\": [10.0, 9.0, 5.0, 9.0, 3.0, 1.0, 1.0, 2.0, 3.0, 5.0, 15.0, 20.0, 21.0, 6.0, 10.0, 6.0, 7.0, 9.0, 7.0, 11.0, 12.0, 12.0, 11.0, 11.0]}, \"V5T 4C2\": {\"cars\": [10.0, 9.0, 5.0, 9.0, 3.0, 1.0, 1.0, 2.0, 3.0, 5.0, 15.0, 20.0, 21.0, 6.0, 10.0, 6.0, 7.0, 9.0, 7.0, 11.0, 12.0, 12.0, 11.0, 11.0]}, \"V5R 5L7\": {\"cars\": [10.0, 9.0, 5.0, 9.0, 3.0, 1.0, 1.0, 2.0, 3.0, 5.0, 15.0, 20.0, 21.0, 6.0, 10.0, 6.0, 7.0, 9.0, 7.0, 11.0, 12.0, 12.0, 11.0, 11.0]}, \"V6K\": {\"lat_long\": [49.269879, -123.1635425], \"cars\": [10.0, 9.0, 5.0, 9.0, 3.0, 1.0, 1.0, 2.0, 3.0, 5.0, 15.0, 20.0, 21.0, 6.0, 10.0, 6.0, 7.0, 9.0, 7.0, 11.0, 12.0, 12.0, 11.0, 11.0]}, \"V6E 1V1\": {\"lat_long\": [49.2787634, -123.1360312], \"cars\": [10.0, 9.0, 5.0, 9.0, 3.0, 1.0, 1.0, 2.0, 3.0, 5.0, 15.0, 20.0, 21.0, 6.0, 10.0, 6.0, 7.0, 9.0, 7.0, 11.0, 12.0, 12.0, 11.0, 11.0]}, \"V5V 4E6\": {\"cars\": [10.0, 9.0, 5.0, 9.0, 3.0, 1.0, 1.0, 2.0, 3.0, 5.0, 15.0, 20.0, 21.0, 6.0, 10.0, 6.0, 7.0, 9.0, 7.0, 11.0, 12.0, 12.0, 11.0, 11.0]}, \"V5N 1X6\": {\"cars\": [10.0, 9.0, 5.0, 9.0, 3.0, 1.0, 1.0, 2.0, 3.0, 5.0, 15.0, 20.0, 21.0, 6.0, 10.0, 6.0, 7.0, 9.0, 7.0, 11.0, 12.0, 12.0, 11.0, 11.0]}, \"V6E 4M3\": {\"cars\": [10.0, 9.0, 5.0, 9.0, 3.0, 1.0, 1.0, 2.0, 3.0, 5.0, 15.0, 20.0, 21.0, 6.0, 10.0, 6.0, 7.0, 9.0, 7.0, 11.0, 12.0, 12.0, 11.0, 11.0]}, \"V7H 1B1\": {\"cars\": [10.0, 9.0, 5.0, 9.0, 3.0, 1.0, 1.0, 2.0, 3.0, 5.0, 15.0, 20.0, 21.0, 6.0, 10.0, 6.0, 7.0, 9.0, 7.0, 11.0, 12.0, 12.0, 11.0, 11.0]}, \"V1M 3G1\": {\"cars\": [10.0, 9.0, 5.0, 9.0, 3.0, 1.0, 1.0, 2.0, 3.0, 5.0, 15.0, 20.0, 21.0, 6.0, 10.0, 6.0, 7.0, 9.0, 7.0, 11.0, 12.0, 12.0, 11.0, 11.0]}, \"V6H 3R9\": {\"cars\": [10.0, 9.0, 5.0, 9.0, 3.0, 1.0, 1.0, 2.0, 3.0, 5.0, 15.0, 20.0, 21.0, 6.0, 10.0, 6.0, 7.0, 9.0, 7.0, 11.0, 12.0, 12.0, 11.0, 11.0]}, \"V5N 1X7\": {\"cars\": [10.0, 9.0, 5.0, 9.0, 3.0, 1.0, 1.0, 2.0, 3.0, 5.0, 15.0, 20.0, 21.0, 6.0, 10.0, 6.0, 7.0, 9.0, 7.0, 11.0, 12.0, 12.0, 11.0, 11.0]}, \"V5X\": {\"lat_long\": [49.2154902, -123.1138536], \"cars\": [10.0, 9.0, 5.0, 9.0, 3.0, 1.0, 1.0, 2.0, 3.0, 5.0, 15.0, 20.0, 21.0, 6.0, 10.0, 6.0, 7.0, 9.0, 7.0, 11.0, 12.0, 12.0, 11.0, 11.0]}, \"V6E 1V8\": {\"cars\": [10.0, 9.0, 5.0, 9.0, 3.0, 1.0, 1.0, 2.0, 3.0, 5.0, 15.0, 20.0, 21.0, 6.0, 10.0, 6.0, 7.0, 9.0, 7.0, 11.0, 12.0, 12.0, 11.0, 11.0]}, \"V7P 1E4\": {\"cars\": [10.0, 9.0, 5.0, 9.0, 3.0, 1.0, 1.0, 2.0, 3.0, 5.0, 15.0, 20.0, 21.0, 6.0, 10.0, 6.0, 7.0, 9.0, 7.0, 11.0, 12.0, 12.0, 11.0, 11.0]}, \"V5N 2P7\": {\"cars\": [10.0, 9.0, 5.0, 9.0, 3.0, 1.0, 1.0, 2.0, 3.0, 5.0, 15.0, 20.0, 21.0, 6.0, 10.0, 6.0, 7.0, 9.0, 7.0, 11.0, 12.0, 12.0, 11.0, 11.0]}, \"V5L 4X9\": {\"cars\": [10.0, 9.0, 5.0, 9.0, 3.0, 1.0, 1.0, 2.0, 3.0, 5.0, 15.0, 20.0, 21.0, 6.0, 10.0, 6.0, 7.0, 9.0, 7.0, 11.0, 12.0, 12.0, 11.0, 11.0]}, \"V6A 2H2\": {\"cars\": [10.0, 9.0, 5.0, 9.0, 3.0, 1.0, 1.0, 2.0, 3.0, 5.0, 15.0, 20.0, 21.0, 6.0, 10.0, 6.0, 7.0, 9.0, 7.0, 11.0, 12.0, 12.0, 11.0, 11.0]}, \"V5L 4E7\": {\"cars\": [10.0, 9.0, 5.0, 9.0, 3.0, 1.0, 1.0, 2.0, 3.0, 5.0, 15.0, 20.0, 21.0, 6.0, 10.0, 6.0, 7.0, 9.0, 7.0, 11.0, 12.0, 12.0, 11.0, 11.0]}, \"V3L 4G6\": {\"lat_long\": [49.2209088, -122.9070855], \"cars\": [10.0, 9.0, 5.0, 9.0, 3.0, 1.0, 1.0, 2.0, 3.0, 5.0, 15.0, 20.0, 21.0, 6.0, 10.0, 6.0, 7.0, 9.0, 7.0, 11.0, 12.0, 12.0, 11.0, 11.0]}, \"V5Y 2M4\": {\"cars\": [10.0, 9.0, 5.0, 9.0, 3.0, 1.0, 1.0, 2.0, 3.0, 5.0, 15.0, 20.0, 21.0, 6.0, 10.0, 6.0, 7.0, 9.0, 7.0, 11.0, 12.0, 12.0, 11.0, 11.0]}, \"V6Z 1B1\": {\"cars\": [10.0, 9.0, 5.0, 9.0, 3.0, 1.0, 1.0, 2.0, 3.0, 5.0, 15.0, 20.0, 21.0, 6.0, 10.0, 6.0, 7.0, 9.0, 7.0, 11.0, 12.0, 12.0, 11.0, 11.0]}, \"V6E 1J7\": {\"cars\": [10.0, 9.0, 5.0, 9.0, 3.0, 1.0, 1.0, 2.0, 3.0, 5.0, 15.0, 20.0, 21.0, 6.0, 10.0, 6.0, 7.0, 9.0, 7.0, 11.0, 12.0, 12.0, 11.0, 11.0]}, \"V5L 4E2\": {\"cars\": [10.0, 9.0, 5.0, 9.0, 3.0, 1.0, 1.0, 2.0, 3.0, 5.0, 15.0, 20.0, 21.0, 6.0, 10.0, 6.0, 7.0, 9.0, 7.0, 11.0, 12.0, 12.0, 11.0, 11.0]}, \"V5R 5G9\": {\"cars\": [10.0, 9.0, 5.0, 9.0, 3.0, 1.0, 1.0, 2.0, 3.0, 5.0, 15.0, 20.0, 21.0, 6.0, 10.0, 6.0, 7.0, 9.0, 7.0, 11.0, 12.0, 12.0, 11.0, 11.0]}, \"V6P\": {\"lat_long\": [49.2175428, -123.125648], \"cars\": [10.0, 9.0, 5.0, 9.0, 3.0, 1.0, 1.0, 2.0, 3.0, 5.0, 15.0, 20.0, 21.0, 6.0, 10.0, 6.0, 7.0, 9.0, 7.0, 11.0, 12.0, 12.0, 11.0, 11.0]}, \"V6E 1N1\": {\"cars\": [10.0, 9.0, 5.0, 9.0, 3.0, 1.0, 1.0, 2.0, 3.0, 5.0, 15.0, 20.0, 21.0, 6.0, 10.0, 6.0, 7.0, 9.0, 7.0, 11.0, 12.0, 12.0, 11.0, 11.0]}, \"V6A\": {\"lat_long\": [49.2815044, -123.0922622], \"cars\": [10.0, 9.0, 5.0, 9.0, 3.0, 1.0, 1.0, 2.0, 3.0, 5.0, 15.0, 20.0, 21.0, 6.0, 10.0, 6.0, 7.0, 9.0, 7.0, 11.0, 12.0, 12.0, 11.0, 11.0]}, \"V5Z 0A2\": {\"cars\": [10.0, 9.0, 5.0, 9.0, 3.0, 1.0, 1.0, 2.0, 3.0, 5.0, 15.0, 20.0, 21.0, 6.0, 10.0, 6.0, 7.0, 9.0, 7.0, 11.0, 12.0, 12.0, 11.0, 11.0]}, \"V6E 1G7\": {\"cars\": [10.0, 9.0, 5.0, 9.0, 3.0, 1.0, 1.0, 2.0, 3.0, 5.0, 15.0, 20.0, 21.0, 6.0, 10.0, 6.0, 7.0, 9.0, 7.0, 11.0, 12.0, 12.0, 11.0, 11.0]}, \"V6C\": {\"lat_long\": [49.2854069, -123.1187459], \"cars\": [10.0, 9.0, 5.0, 9.0, 3.0, 1.0, 1.0, 2.0, 3.0, 5.0, 15.0, 20.0, 21.0, 6.0, 10.0, 6.0, 7.0, 9.0, 7.0, 11.0, 12.0, 12.0, 11.0, 11.0]}, \"V6R 4K5\": {\"cars\": [10.0, 9.0, 5.0, 9.0, 3.0, 1.0, 1.0, 2.0, 3.0, 5.0, 15.0, 20.0, 21.0, 6.0, 10.0, 6.0, 7.0, 9.0, 7.0, 11.0, 12.0, 12.0, 11.0, 11.0]}, \"V6C 3A8\": {\"cars\": [10.0, 9.0, 5.0, 9.0, 3.0, 1.0, 1.0, 2.0, 3.0, 5.0, 15.0, 20.0, 21.0, 6.0, 10.0, 6.0, 7.0, 9.0, 7.0, 11.0, 12.0, 12.0, 11.0, 11.0]}, \"V5T 2G1\": {\"cars\": [10.0, 9.0, 5.0, 9.0, 3.0, 1.0, 1.0, 2.0, 3.0, 5.0, 15.0, 20.0, 21.0, 6.0, 10.0, 6.0, 7.0, 9.0, 7.0, 11.0, 12.0, 12.0, 11.0, 11.0]}, \"V6H 3P7\": {\"cars\": [10.0, 9.0, 5.0, 9.0, 3.0, 1.0, 1.0, 2.0, 3.0, 5.0, 15.0, 20.0, 21.0, 6.0, 10.0, 6.0, 7.0, 9.0, 7.0, 11.0, 12.0, 12.0, 11.0, 11.0]}, \"V5L 1G8\": {\"cars\": [10.0, 9.0, 5.0, 9.0, 3.0, 1.0, 1.0, 2.0, 3.0, 5.0, 15.0, 20.0, 21.0, 6.0, 10.0, 6.0, 7.0, 9.0, 7.0, 11.0, 12.0, 12.0, 11.0, 11.0]}, \"V5N 3T2\": {\"cars\": [10.0, 9.0, 5.0, 9.0, 3.0, 1.0, 1.0, 2.0, 3.0, 5.0, 15.0, 20.0, 21.0, 6.0, 10.0, 6.0, 7.0, 9.0, 7.0, 11.0, 12.0, 12.0, 11.0, 11.0]}, \"V6A 3P8\": {\"cars\": [10.0, 9.0, 5.0, 9.0, 3.0, 1.0, 1.0, 2.0, 3.0, 5.0, 15.0, 20.0, 21.0, 6.0, 10.0, 6.0, 7.0, 9.0, 7.0, 11.0, 12.0, 12.0, 11.0, 11.0]}, \"V5T 4V5\": {\"cars\": [10.0, 9.0, 5.0, 9.0, 3.0, 1.0, 1.0, 2.0, 3.0, 5.0, 15.0, 20.0, 21.0, 6.0, 10.0, 6.0, 7.0, 9.0, 7.0, 11.0, 12.0, 12.0, 11.0, 11.0]}, \"V6J 1X6\": {\"cars\": [10.0, 9.0, 5.0, 9.0, 3.0, 1.0, 1.0, 2.0, 3.0, 5.0, 15.0, 20.0, 21.0, 6.0, 10.0, 6.0, 7.0, 9.0, 7.0, 11.0, 12.0, 12.0, 11.0, 11.0]}, \"V7Y\": {\"lat_long\": [49.2832353, -123.1177638], \"cars\": [10.0, 9.0, 5.0, 9.0, 3.0, 1.0, 1.0, 2.0, 3.0, 5.0, 15.0, 20.0, 21.0, 6.0, 10.0, 6.0, 7.0, 9.0, 7.0, 11.0, 12.0, 12.0, 11.0, 11.0]}, \"V7L 1L1\": {\"cars\": [10.0, 9.0, 5.0, 9.0, 3.0, 1.0, 1.0, 2.0, 3.0, 5.0, 15.0, 20.0, 21.0, 6.0, 10.0, 6.0, 7.0, 9.0, 7.0, 11.0, 12.0, 12.0, 11.0, 11.0]}, \"V6B 1K6\": {\"cars\": [10.0, 9.0, 5.0, 9.0, 3.0, 1.0, 1.0, 2.0, 3.0, 5.0, 15.0, 20.0, 21.0, 6.0, 10.0, 6.0, 7.0, 9.0, 7.0, 11.0, 12.0, 12.0, 11.0, 11.0]}, \"V5M 4C1\": {\"lat_long\": [49.2558695, -123.0284308], \"cars\": [10.0, 9.0, 5.0, 9.0, 3.0, 1.0, 1.0, 2.0, 3.0, 5.0, 15.0, 20.0, 21.0, 6.0, 10.0, 6.0, 7.0, 9.0, 7.0, 11.0, 12.0, 12.0, 11.0, 11.0]}, \"V6A 2Z9\": {\"cars\": [10.0, 9.0, 5.0, 9.0, 3.0, 1.0, 1.0, 2.0, 3.0, 5.0, 15.0, 20.0, 21.0, 6.0, 10.0, 6.0, 7.0, 9.0, 7.0, 11.0, 12.0, 12.0, 11.0, 11.0]}, \"V3L 3X6\": {\"cars\": [10.0, 9.0, 5.0, 9.0, 3.0, 1.0, 1.0, 2.0, 3.0, 5.0, 15.0, 20.0, 21.0, 6.0, 10.0, 6.0, 7.0, 9.0, 7.0, 11.0, 12.0, 12.0, 11.0, 11.0]}, \"V6H 3S2\": {\"cars\": [10.0, 9.0, 5.0, 9.0, 3.0, 1.0, 1.0, 2.0, 3.0, 5.0, 15.0, 20.0, 21.0, 6.0, 10.0, 6.0, 7.0, 9.0, 7.0, 11.0, 12.0, 12.0, 11.0, 11.0]}, \"V6M 3A5\": {\"cars\": [10.0, 9.0, 5.0, 9.0, 3.0, 1.0, 1.0, 2.0, 3.0, 5.0, 15.0, 20.0, 21.0, 6.0, 10.0, 6.0, 7.0, 9.0, 7.0, 11.0, 12.0, 12.0, 11.0, 11.0]}, \"V6R 3S5\": {\"cars\": [10.0, 9.0, 5.0, 9.0, 3.0, 1.0, 1.0, 2.0, 3.0, 5.0, 15.0, 20.0, 21.0, 6.0, 10.0, 6.0, 7.0, 9.0, 7.0, 11.0, 12.0, 12.0, 11.0, 11.0]}, \"V6A 2W1\": {\"cars\": [10.0, 9.0, 5.0, 9.0, 3.0, 1.0, 1.0, 2.0, 3.0, 5.0, 15.0, 20.0, 21.0, 6.0, 10.0, 6.0, 7.0, 9.0, 7.0, 11.0, 12.0, 12.0, 11.0, 11.0]}, \"V5T 4K8\": {\"lat_long\": [49.2609072, -123.0955336], \"cars\": [10.0, 9.0, 5.0, 9.0, 3.0, 1.0, 1.0, 2.0, 3.0, 5.0, 15.0, 20.0, 21.0, 6.0, 10.0, 6.0, 7.0, 9.0, 7.0, 11.0, 12.0, 12.0, 11.0, 11.0]}, \"V7R 4L9\": {\"cars\": [10.0, 9.0, 5.0, 9.0, 3.0, 1.0, 1.0, 2.0, 3.0, 5.0, 15.0, 20.0, 21.0, 6.0, 10.0, 6.0, 7.0, 9.0, 7.0, 11.0, 12.0, 12.0, 11.0, 11.0]}, \"V5T 2W6\": {\"cars\": [10.0, 9.0, 5.0, 9.0, 3.0, 1.0, 1.0, 2.0, 3.0, 5.0, 15.0, 20.0, 21.0, 6.0, 10.0, 6.0, 7.0, 9.0, 7.0, 11.0, 12.0, 12.0, 11.0, 11.0]}, \"V6B 1B7\": {\"cars\": [10.0, 9.0, 5.0, 9.0, 3.0, 1.0, 1.0, 2.0, 3.0, 5.0, 15.0, 20.0, 21.0, 6.0, 10.0, 6.0, 7.0, 9.0, 7.0, 11.0, 12.0, 12.0, 11.0, 11.0]}, \"V3M 0J2\": {\"cars\": [10.0, 9.0, 5.0, 9.0, 3.0, 1.0, 1.0, 2.0, 3.0, 5.0, 15.0, 20.0, 21.0, 6.0, 10.0, 6.0, 7.0, 9.0, 7.0, 11.0, 12.0, 12.0, 11.0, 11.0]}, \"V6E 1C1\": {\"cars\": [10.0, 9.0, 5.0, 9.0, 3.0, 1.0, 1.0, 2.0, 3.0, 5.0, 15.0, 20.0, 21.0, 6.0, 10.0, 6.0, 7.0, 9.0, 7.0, 11.0, 12.0, 12.0, 11.0, 11.0]}, \"V5L\": {\"lat_long\": [49.287259, -123.0614253], \"cars\": [10.0, 9.0, 5.0, 9.0, 3.0, 1.0, 1.0, 2.0, 3.0, 5.0, 15.0, 20.0, 21.0, 6.0, 10.0, 6.0, 7.0, 9.0, 7.0, 11.0, 12.0, 12.0, 11.0, 11.0]}, \"V6J 2C2\": {\"cars\": [10.0, 9.0, 5.0, 9.0, 3.0, 1.0, 1.0, 2.0, 3.0, 5.0, 15.0, 20.0, 21.0, 6.0, 10.0, 6.0, 7.0, 9.0, 7.0, 11.0, 12.0, 12.0, 11.0, 11.0]}, \"V2J 3A9\": {\"cars\": [10.0, 9.0, 5.0, 9.0, 3.0, 1.0, 1.0, 2.0, 3.0, 5.0, 15.0, 20.0, 21.0, 6.0, 10.0, 6.0, 7.0, 9.0, 7.0, 11.0, 12.0, 12.0, 11.0, 11.0]}, \"V5K 3K3\": {\"cars\": [10.0, 9.0, 5.0, 9.0, 3.0, 1.0, 1.0, 2.0, 3.0, 5.0, 15.0, 20.0, 21.0, 6.0, 10.0, 6.0, 7.0, 9.0, 7.0, 11.0, 12.0, 12.0, 11.0, 11.0]}, \"V5Y 0B2\": {\"cars\": [10.0, 9.0, 5.0, 9.0, 3.0, 1.0, 1.0, 2.0, 3.0, 5.0, 15.0, 20.0, 21.0, 6.0, 10.0, 6.0, 7.0, 9.0, 7.0, 11.0, 12.0, 12.0, 11.0, 11.0]}, \"V6A 1E9\": {\"cars\": [10.0, 9.0, 5.0, 9.0, 3.0, 1.0, 1.0, 2.0, 3.0, 5.0, 15.0, 20.0, 21.0, 6.0, 10.0, 6.0, 7.0, 9.0, 7.0, 11.0, 12.0, 12.0, 11.0, 11.0]}, \"V5N 2B7\": {\"cars\": [10.0, 9.0, 5.0, 9.0, 3.0, 1.0, 1.0, 2.0, 3.0, 5.0, 15.0, 20.0, 21.0, 6.0, 10.0, 6.0, 7.0, 9.0, 7.0, 11.0, 12.0, 12.0, 11.0, 11.0]}, \"V6A 2W5\": {\"cars\": [10.0, 9.0, 5.0, 9.0, 3.0, 1.0, 1.0, 2.0, 3.0, 5.0, 15.0, 20.0, 21.0, 6.0, 10.0, 6.0, 7.0, 9.0, 7.0, 11.0, 12.0, 12.0, 11.0, 11.0]}, \"V7P 1S2\": {\"cars\": [10.0, 9.0, 5.0, 9.0, 3.0, 1.0, 1.0, 2.0, 3.0, 5.0, 15.0, 20.0, 21.0, 6.0, 10.0, 6.0, 7.0, 9.0, 7.0, 11.0, 12.0, 12.0, 11.0, 11.0]}, \"V3L 0E7\": {\"cars\": [10.0, 9.0, 5.0, 9.0, 3.0, 1.0, 1.0, 2.0, 3.0, 5.0, 15.0, 20.0, 21.0, 6.0, 10.0, 6.0, 7.0, 9.0, 7.0, 11.0, 12.0, 12.0, 11.0, 11.0]}, \"V6B 2R5\": {\"cars\": [10.0, 9.0, 5.0, 9.0, 3.0, 1.0, 1.0, 2.0, 3.0, 5.0, 15.0, 20.0, 21.0, 6.0, 10.0, 6.0, 7.0, 9.0, 7.0, 11.0, 12.0, 12.0, 11.0, 11.0]}, \"V5Y 4B7\": {\"cars\": [10.0, 9.0, 5.0, 9.0, 3.0, 1.0, 1.0, 2.0, 3.0, 5.0, 15.0, 20.0, 21.0, 6.0, 10.0, 6.0, 7.0, 9.0, 7.0, 11.0, 12.0, 12.0, 11.0, 11.0]}, \"V6A 4H6\": {\"cars\": [10.0, 9.0, 5.0, 9.0, 3.0, 1.0, 1.0, 2.0, 3.0, 5.0, 15.0, 20.0, 21.0, 6.0, 10.0, 6.0, 7.0, 9.0, 7.0, 11.0, 12.0, 12.0, 11.0, 11.0]}, \"V3L 3H7\": {\"cars\": [10.0, 9.0, 5.0, 9.0, 3.0, 1.0, 1.0, 2.0, 3.0, 5.0, 15.0, 20.0, 21.0, 6.0, 10.0, 6.0, 7.0, 9.0, 7.0, 11.0, 12.0, 12.0, 11.0, 11.0]}, \"V7L 4B3\": {\"cars\": [10.0, 9.0, 5.0, 9.0, 3.0, 1.0, 1.0, 2.0, 3.0, 5.0, 15.0, 20.0, 21.0, 6.0, 10.0, 6.0, 7.0, 9.0, 7.0, 11.0, 12.0, 12.0, 11.0, 11.0]}, \"V3M 5T5\": {\"cars\": [10.0, 9.0, 5.0, 9.0, 3.0, 1.0, 1.0, 2.0, 3.0, 5.0, 15.0, 20.0, 21.0, 6.0, 10.0, 6.0, 7.0, 9.0, 7.0, 11.0, 12.0, 12.0, 11.0, 11.0]}, \"V6H 3K2\": {\"cars\": [10.0, 9.0, 5.0, 9.0, 3.0, 1.0, 1.0, 2.0, 3.0, 5.0, 15.0, 20.0, 21.0, 6.0, 10.0, 6.0, 7.0, 9.0, 7.0, 11.0, 12.0, 12.0, 11.0, 11.0]}, \"V6A 1K7\": {\"cars\": [10.0, 9.0, 5.0, 9.0, 3.0, 1.0, 1.0, 2.0, 3.0, 5.0, 15.0, 20.0, 21.0, 6.0, 10.0, 6.0, 7.0, 9.0, 7.0, 11.0, 12.0, 12.0, 11.0, 11.0]}, \"V5H 2B3\": {\"cars\": [10.0, 9.0, 5.0, 9.0, 3.0, 1.0, 1.0, 2.0, 3.0, 5.0, 15.0, 20.0, 21.0, 6.0, 10.0, 6.0, 7.0, 9.0, 7.0, 11.0, 12.0, 12.0, 11.0, 11.0]}, \"V5K 1B5\": {\"cars\": [10.0, 9.0, 5.0, 9.0, 3.0, 1.0, 1.0, 2.0, 3.0, 5.0, 15.0, 20.0, 21.0, 6.0, 10.0, 6.0, 7.0, 9.0, 7.0, 11.0, 12.0, 12.0, 11.0, 11.0]}, \"V5R 6H5\": {\"cars\": [10.0, 9.0, 5.0, 9.0, 3.0, 1.0, 1.0, 2.0, 3.0, 5.0, 15.0, 20.0, 21.0, 6.0, 10.0, 6.0, 7.0, 9.0, 7.0, 11.0, 12.0, 12.0, 11.0, 11.0]}, \"V5X 0C4\": {\"cars\": [10.0, 9.0, 5.0, 9.0, 3.0, 1.0, 1.0, 2.0, 3.0, 5.0, 15.0, 20.0, 21.0, 6.0, 10.0, 6.0, 7.0, 9.0, 7.0, 11.0, 12.0, 12.0, 11.0, 11.0]}, \"V6A 3X2\": {\"cars\": [10.0, 9.0, 5.0, 9.0, 3.0, 1.0, 1.0, 2.0, 3.0, 5.0, 15.0, 20.0, 21.0, 6.0, 10.0, 6.0, 7.0, 9.0, 7.0, 11.0, 12.0, 12.0, 11.0, 11.0]}, \"V6Z 1M1\": {\"cars\": [10.0, 9.0, 5.0, 9.0, 3.0, 1.0, 1.0, 2.0, 3.0, 5.0, 15.0, 20.0, 21.0, 6.0, 10.0, 6.0, 7.0, 9.0, 7.0, 11.0, 12.0, 12.0, 11.0, 11.0]}, \"V5N 1H2\": {\"cars\": [10.0, 9.0, 5.0, 9.0, 3.0, 1.0, 1.0, 2.0, 3.0, 5.0, 15.0, 20.0, 21.0, 6.0, 10.0, 6.0, 7.0, 9.0, 7.0, 11.0, 12.0, 12.0, 11.0, 11.0]}, \"V5L 3T4\": {\"cars\": [10.0, 9.0, 5.0, 9.0, 3.0, 1.0, 1.0, 2.0, 3.0, 5.0, 15.0, 20.0, 21.0, 6.0, 10.0, 6.0, 7.0, 9.0, 7.0, 11.0, 12.0, 12.0, 11.0, 11.0]}, \"V7L 2T3\": {\"cars\": [10.0, 9.0, 5.0, 9.0, 3.0, 1.0, 1.0, 2.0, 3.0, 5.0, 15.0, 20.0, 21.0, 6.0, 10.0, 6.0, 7.0, 9.0, 7.0, 11.0, 12.0, 12.0, 11.0, 11.0]}, \"V6R 2R1\": {\"cars\": [10.0, 9.0, 5.0, 9.0, 3.0, 1.0, 1.0, 2.0, 3.0, 5.0, 15.0, 20.0, 21.0, 6.0, 10.0, 6.0, 7.0, 9.0, 7.0, 11.0, 12.0, 12.0, 11.0, 11.0]}, \"V6B 1C6\": {\"cars\": [10.0, 9.0, 5.0, 9.0, 3.0, 1.0, 1.0, 2.0, 3.0, 5.0, 15.0, 20.0, 21.0, 6.0, 10.0, 6.0, 7.0, 9.0, 7.0, 11.0, 12.0, 12.0, 11.0, 11.0]}, \"V6E 2E9\": {\"cars\": [10.0, 9.0, 5.0, 9.0, 3.0, 1.0, 1.0, 2.0, 3.0, 5.0, 15.0, 20.0, 21.0, 6.0, 10.0, 6.0, 7.0, 9.0, 7.0, 11.0, 12.0, 12.0, 11.0, 11.0]}, \"V5N 3P9\": {\"cars\": [10.0, 9.0, 5.0, 9.0, 3.0, 1.0, 1.0, 2.0, 3.0, 5.0, 15.0, 20.0, 21.0, 6.0, 10.0, 6.0, 7.0, 9.0, 7.0, 11.0, 12.0, 12.0, 11.0, 11.0]}, \"V6M 2G8\": {\"cars\": [10.0, 9.0, 5.0, 9.0, 3.0, 1.0, 1.0, 2.0, 3.0, 5.0, 15.0, 20.0, 21.0, 6.0, 10.0, 6.0, 7.0, 9.0, 7.0, 11.0, 12.0, 12.0, 11.0, 11.0]}, \"V6B 2T5\": {\"cars\": [10.0, 9.0, 5.0, 9.0, 3.0, 1.0, 1.0, 2.0, 3.0, 5.0, 15.0, 20.0, 21.0, 6.0, 10.0, 6.0, 7.0, 9.0, 7.0, 11.0, 12.0, 12.0, 11.0, 11.0]}, \"V6B 1C9\": {\"cars\": [10.0, 9.0, 5.0, 9.0, 3.0, 1.0, 1.0, 2.0, 3.0, 5.0, 15.0, 20.0, 21.0, 6.0, 10.0, 6.0, 7.0, 9.0, 7.0, 11.0, 12.0, 12.0, 11.0, 11.0]}, \"V6E 1P1\": {\"cars\": [10.0, 9.0, 5.0, 9.0, 3.0, 1.0, 1.0, 2.0, 3.0, 5.0, 15.0, 20.0, 21.0, 6.0, 10.0, 6.0, 7.0, 9.0, 7.0, 11.0, 12.0, 12.0, 11.0, 11.0]}, \"V6N\": {\"lat_long\": [49.237282, -123.1637835], \"cars\": [10.0, 9.0, 5.0, 9.0, 3.0, 1.0, 1.0, 2.0, 3.0, 5.0, 15.0, 20.0, 21.0, 6.0, 10.0, 6.0, 7.0, 9.0, 7.0, 11.0, 12.0, 12.0, 11.0, 11.0]}, \"V1M 2R6\": {\"cars\": [10.0, 9.0, 5.0, 9.0, 3.0, 1.0, 1.0, 2.0, 3.0, 5.0, 15.0, 20.0, 21.0, 6.0, 10.0, 6.0, 7.0, 9.0, 7.0, 11.0, 12.0, 12.0, 11.0, 11.0]}, \"V7M 1B3\": {\"cars\": [10.0, 9.0, 5.0, 9.0, 3.0, 1.0, 1.0, 2.0, 3.0, 5.0, 15.0, 20.0, 21.0, 6.0, 10.0, 6.0, 7.0, 9.0, 7.0, 11.0, 12.0, 12.0, 11.0, 11.0]}, \"V6A 1G1\": {\"cars\": [10.0, 9.0, 5.0, 9.0, 3.0, 1.0, 1.0, 2.0, 3.0, 5.0, 15.0, 20.0, 21.0, 6.0, 10.0, 6.0, 7.0, 9.0, 7.0, 11.0, 12.0, 12.0, 11.0, 11.0]}, \"V6A 1M3\": {\"cars\": [10.0, 9.0, 5.0, 9.0, 3.0, 1.0, 1.0, 2.0, 3.0, 5.0, 15.0, 20.0, 21.0, 6.0, 10.0, 6.0, 7.0, 9.0, 7.0, 11.0, 12.0, 12.0, 11.0, 11.0]}, \"V6M 1Z6\": {\"cars\": [10.0, 9.0, 5.0, 9.0, 3.0, 1.0, 1.0, 2.0, 3.0, 5.0, 15.0, 20.0, 21.0, 6.0, 10.0, 6.0, 7.0, 9.0, 7.0, 11.0, 12.0, 12.0, 11.0, 11.0]}, \"V6B 1V8\": {\"cars\": [10.0, 9.0, 5.0, 9.0, 3.0, 1.0, 1.0, 2.0, 3.0, 5.0, 15.0, 20.0, 21.0, 6.0, 10.0, 6.0, 7.0, 9.0, 7.0, 11.0, 12.0, 12.0, 11.0, 11.0]}, \"V5Y 1K7\": {\"cars\": [10.0, 9.0, 5.0, 9.0, 3.0, 1.0, 1.0, 2.0, 3.0, 5.0, 15.0, 20.0, 21.0, 6.0, 10.0, 6.0, 7.0, 9.0, 7.0, 11.0, 12.0, 12.0, 11.0, 11.0]}, \"V5L 2C4\": {\"cars\": [10.0, 9.0, 5.0, 9.0, 3.0, 1.0, 1.0, 2.0, 3.0, 5.0, 15.0, 20.0, 21.0, 6.0, 10.0, 6.0, 7.0, 9.0, 7.0, 11.0, 12.0, 12.0, 11.0, 11.0]}, \"V6B\": {\"lat_long\": [49.2735935, -123.1139088], \"cars\": [10.0, 9.0, 5.0, 9.0, 3.0, 1.0, 1.0, 2.0, 3.0, 5.0, 15.0, 20.0, 21.0, 6.0, 10.0, 6.0, 7.0, 9.0, 7.0, 11.0, 12.0, 12.0, 11.0, 11.0]}, \"V6E 1N5\": {\"cars\": [10.0, 9.0, 5.0, 9.0, 3.0, 1.0, 1.0, 2.0, 3.0, 5.0, 15.0, 20.0, 21.0, 6.0, 10.0, 6.0, 7.0, 9.0, 7.0, 11.0, 12.0, 12.0, 11.0, 11.0]}, \"V7M 1J6\": {\"cars\": [10.0, 9.0, 5.0, 9.0, 3.0, 1.0, 1.0, 2.0, 3.0, 5.0, 15.0, 20.0, 21.0, 6.0, 10.0, 6.0, 7.0, 9.0, 7.0, 11.0, 12.0, 12.0, 11.0, 11.0]}, \"V6B 5J3\": {\"cars\": [10.0, 9.0, 5.0, 9.0, 3.0, 1.0, 1.0, 2.0, 3.0, 5.0, 15.0, 20.0, 21.0, 6.0, 10.0, 6.0, 7.0, 9.0, 7.0, 11.0, 12.0, 12.0, 11.0, 11.0]}, \"V3L 5M4\": {\"cars\": [10.0, 9.0, 5.0, 9.0, 3.0, 1.0, 1.0, 2.0, 3.0, 5.0, 15.0, 20.0, 21.0, 6.0, 10.0, 6.0, 7.0, 9.0, 7.0, 11.0, 12.0, 12.0, 11.0, 11.0]}, \"V6H 2R2\": {\"cars\": [10.0, 9.0, 5.0, 9.0, 3.0, 1.0, 1.0, 2.0, 3.0, 5.0, 15.0, 20.0, 21.0, 6.0, 10.0, 6.0, 7.0, 9.0, 7.0, 11.0, 12.0, 12.0, 11.0, 11.0]}, \"V6B 3J5\": {\"cars\": [10.0, 9.0, 5.0, 9.0, 3.0, 1.0, 1.0, 2.0, 3.0, 5.0, 15.0, 20.0, 21.0, 6.0, 10.0, 6.0, 7.0, 9.0, 7.0, 11.0, 12.0, 12.0, 11.0, 11.0]}, \"V5Z 3M5\": {\"cars\": [10.0, 9.0, 5.0, 9.0, 3.0, 1.0, 1.0, 2.0, 3.0, 5.0, 15.0, 20.0, 21.0, 6.0, 10.0, 6.0, 7.0, 9.0, 7.0, 11.0, 12.0, 12.0, 11.0, 11.0]}, \"V6B 1V4\": {\"cars\": [10.0, 9.0, 5.0, 9.0, 3.0, 1.0, 1.0, 2.0, 3.0, 5.0, 15.0, 20.0, 21.0, 6.0, 10.0, 6.0, 7.0, 9.0, 7.0, 11.0, 12.0, 12.0, 11.0, 11.0]}, \"V7P\": {\"lat_long\": [49.3237588, -123.0982218], \"cars\": [10.0, 9.0, 5.0, 9.0, 3.0, 1.0, 1.0, 2.0, 3.0, 5.0, 15.0, 20.0, 21.0, 6.0, 10.0, 6.0, 7.0, 9.0, 7.0, 11.0, 12.0, 12.0, 11.0, 11.0]}, \"V3N 2G5\": {\"cars\": [10.0, 9.0, 5.0, 9.0, 3.0, 1.0, 1.0, 2.0, 3.0, 5.0, 15.0, 20.0, 21.0, 6.0, 10.0, 6.0, 7.0, 9.0, 7.0, 11.0, 12.0, 12.0, 11.0, 11.0]}, \"V6K 1T2\": {\"cars\": [10.0, 9.0, 5.0, 9.0, 3.0, 1.0, 1.0, 2.0, 3.0, 5.0, 15.0, 20.0, 21.0, 6.0, 10.0, 6.0, 7.0, 9.0, 7.0, 11.0, 12.0, 12.0, 11.0, 11.0]}, \"V3M 4H4\": {\"cars\": [10.0, 9.0, 5.0, 9.0, 3.0, 1.0, 1.0, 2.0, 3.0, 5.0, 15.0, 20.0, 21.0, 6.0, 10.0, 6.0, 7.0, 9.0, 7.0, 11.0, 12.0, 12.0, 11.0, 11.0]}, \"V6E 1L6\": {\"lat_long\": [49.28285409999999, -123.1332696], \"cars\": [10.0, 9.0, 5.0, 9.0, 3.0, 1.0, 1.0, 2.0, 3.0, 5.0, 15.0, 20.0, 21.0, 6.0, 10.0, 6.0, 7.0, 9.0, 7.0, 11.0, 12.0, 12.0, 11.0, 11.0]}, \"V5Y 0B8\": {\"cars\": [10.0, 9.0, 5.0, 9.0, 3.0, 1.0, 1.0, 2.0, 3.0, 5.0, 15.0, 20.0, 21.0, 6.0, 10.0, 6.0, 7.0, 9.0, 7.0, 11.0, 12.0, 12.0, 11.0, 11.0]}, \"V6G\": {\"lat_long\": [49.2885483, -123.1332516], \"cars\": [10.0, 9.0, 5.0, 9.0, 3.0, 1.0, 1.0, 2.0, 3.0, 5.0, 15.0, 20.0, 21.0, 6.0, 10.0, 6.0, 7.0, 9.0, 7.0, 11.0, 12.0, 12.0, 11.0, 11.0]}, \"V5W 2A2\": {\"cars\": [10.0, 9.0, 5.0, 9.0, 3.0, 1.0, 1.0, 2.0, 3.0, 5.0, 15.0, 20.0, 21.0, 6.0, 10.0, 6.0, 7.0, 9.0, 7.0, 11.0, 12.0, 12.0, 11.0, 11.0]}, \"V5Y 0B1\": {\"cars\": [10.0, 9.0, 5.0, 9.0, 3.0, 1.0, 1.0, 2.0, 3.0, 5.0, 15.0, 20.0, 21.0, 6.0, 10.0, 6.0, 7.0, 9.0, 7.0, 11.0, 12.0, 12.0, 11.0, 11.0]}, \"V6K 3E6\": {\"cars\": [10.0, 9.0, 5.0, 9.0, 3.0, 1.0, 1.0, 2.0, 3.0, 5.0, 15.0, 20.0, 21.0, 6.0, 10.0, 6.0, 7.0, 9.0, 7.0, 11.0, 12.0, 12.0, 11.0, 11.0]}, \"V5Z 2L5\": {\"cars\": [10.0, 9.0, 5.0, 9.0, 3.0, 1.0, 1.0, 2.0, 3.0, 5.0, 15.0, 20.0, 21.0, 6.0, 10.0, 6.0, 7.0, 9.0, 7.0, 11.0, 12.0, 12.0, 11.0, 11.0]}, \"V6E 4S7\": {\"cars\": [10.0, 9.0, 5.0, 9.0, 3.0, 1.0, 1.0, 2.0, 3.0, 5.0, 15.0, 20.0, 21.0, 6.0, 10.0, 6.0, 7.0, 9.0, 7.0, 11.0, 12.0, 12.0, 11.0, 11.0]}, \"V5V 5E9\": {\"cars\": [10.0, 9.0, 5.0, 9.0, 3.0, 1.0, 1.0, 2.0, 3.0, 5.0, 15.0, 20.0, 21.0, 6.0, 10.0, 6.0, 7.0, 9.0, 7.0, 11.0, 12.0, 12.0, 11.0, 11.0]}, \"V5Y 4B6\": {\"cars\": [10.0, 9.0, 5.0, 9.0, 3.0, 1.0, 1.0, 2.0, 3.0, 5.0, 15.0, 20.0, 21.0, 6.0, 10.0, 6.0, 7.0, 9.0, 7.0, 11.0, 12.0, 12.0, 11.0, 11.0]}, \"V5T 2R6\": {\"cars\": [10.0, 9.0, 5.0, 9.0, 3.0, 1.0, 1.0, 2.0, 3.0, 5.0, 15.0, 20.0, 21.0, 6.0, 10.0, 6.0, 7.0, 9.0, 7.0, 11.0, 12.0, 12.0, 11.0, 11.0]}, \"V5R 1N4\": {\"cars\": [10.0, 9.0, 5.0, 9.0, 3.0, 1.0, 1.0, 2.0, 3.0, 5.0, 15.0, 20.0, 21.0, 6.0, 10.0, 6.0, 7.0, 9.0, 7.0, 11.0, 12.0, 12.0, 11.0, 11.0]}, \"V6B 6L9\": {\"cars\": [10.0, 9.0, 5.0, 9.0, 3.0, 1.0, 1.0, 2.0, 3.0, 5.0, 15.0, 20.0, 21.0, 6.0, 10.0, 6.0, 7.0, 9.0, 7.0, 11.0, 12.0, 12.0, 11.0, 11.0]}, \"V6A 1H7\": {\"cars\": [10.0, 9.0, 5.0, 9.0, 3.0, 1.0, 1.0, 2.0, 3.0, 5.0, 15.0, 20.0, 21.0, 6.0, 10.0, 6.0, 7.0, 9.0, 7.0, 11.0, 12.0, 12.0, 11.0, 11.0]}, \"V5Y 2Z6\": {\"cars\": [10.0, 9.0, 5.0, 9.0, 3.0, 1.0, 1.0, 2.0, 3.0, 5.0, 15.0, 20.0, 21.0, 6.0, 10.0, 6.0, 7.0, 9.0, 7.0, 11.0, 12.0, 12.0, 11.0, 11.0]}, \"V6E 3P3\": {\"cars\": [10.0, 9.0, 5.0, 9.0, 3.0, 1.0, 1.0, 2.0, 3.0, 5.0, 15.0, 20.0, 21.0, 6.0, 10.0, 6.0, 7.0, 9.0, 7.0, 11.0, 12.0, 12.0, 11.0, 11.0]}, \"V5T 1W9\": {\"cars\": [10.0, 9.0, 5.0, 9.0, 3.0, 1.0, 1.0, 2.0, 3.0, 5.0, 15.0, 20.0, 21.0, 6.0, 10.0, 6.0, 7.0, 9.0, 7.0, 11.0, 12.0, 12.0, 11.0, 11.0]}, \"V6H 3J7\": {\"cars\": [10.0, 9.0, 5.0, 9.0, 3.0, 1.0, 1.0, 2.0, 3.0, 5.0, 15.0, 20.0, 21.0, 6.0, 10.0, 6.0, 7.0, 9.0, 7.0, 11.0, 12.0, 12.0, 11.0, 11.0]}, \"V6M 2P7\": {\"cars\": [10.0, 9.0, 5.0, 9.0, 3.0, 1.0, 1.0, 2.0, 3.0, 5.0, 15.0, 20.0, 21.0, 6.0, 10.0, 6.0, 7.0, 9.0, 7.0, 11.0, 12.0, 12.0, 11.0, 11.0]}, \"V3N 3N4\": {\"lat_long\": [49.21947170000001, -122.9284603], \"cars\": [10.0, 9.0, 5.0, 9.0, 3.0, 1.0, 1.0, 2.0, 3.0, 5.0, 15.0, 20.0, 21.0, 6.0, 10.0, 6.0, 7.0, 9.0, 7.0, 11.0, 12.0, 12.0, 11.0, 11.0]}, \"V5N 2T6\": {\"lat_long\": [49.24342830000001, -123.0607594], \"cars\": [10.0, 9.0, 5.0, 9.0, 3.0, 1.0, 1.0, 2.0, 3.0, 5.0, 15.0, 20.0, 21.0, 6.0, 10.0, 6.0, 7.0, 9.0, 7.0, 11.0, 12.0, 12.0, 11.0, 11.0]}, \"V5T 1J5\": {\"cars\": [10.0, 9.0, 5.0, 9.0, 3.0, 1.0, 1.0, 2.0, 3.0, 5.0, 15.0, 20.0, 21.0, 6.0, 10.0, 6.0, 7.0, 9.0, 7.0, 11.0, 12.0, 12.0, 11.0, 11.0]}, \"V5L 2W2\": {\"cars\": [10.0, 9.0, 5.0, 9.0, 3.0, 1.0, 1.0, 2.0, 3.0, 5.0, 15.0, 20.0, 21.0, 6.0, 10.0, 6.0, 7.0, 9.0, 7.0, 11.0, 12.0, 12.0, 11.0, 11.0]}, \"V5V 2T3\": {\"cars\": [10.0, 9.0, 5.0, 9.0, 3.0, 1.0, 1.0, 2.0, 3.0, 5.0, 15.0, 20.0, 21.0, 6.0, 10.0, 6.0, 7.0, 9.0, 7.0, 11.0, 12.0, 12.0, 11.0, 11.0]}, \"V5X 4C5\": {\"cars\": [10.0, 9.0, 5.0, 9.0, 3.0, 1.0, 1.0, 2.0, 3.0, 5.0, 15.0, 20.0, 21.0, 6.0, 10.0, 6.0, 7.0, 9.0, 7.0, 11.0, 12.0, 12.0, 11.0, 11.0]}, \"V6B 2L3\": {\"cars\": [10.0, 9.0, 5.0, 9.0, 3.0, 1.0, 1.0, 2.0, 3.0, 5.0, 15.0, 20.0, 21.0, 6.0, 10.0, 6.0, 7.0, 9.0, 7.0, 11.0, 12.0, 12.0, 11.0, 11.0]}, \"V5Y 1L6\": {\"cars\": [10.0, 9.0, 5.0, 9.0, 3.0, 1.0, 1.0, 2.0, 3.0, 5.0, 15.0, 20.0, 21.0, 6.0, 10.0, 6.0, 7.0, 9.0, 7.0, 11.0, 12.0, 12.0, 11.0, 11.0]}, \"V6J 3H6\": {\"cars\": [10.0, 9.0, 5.0, 9.0, 3.0, 1.0, 1.0, 2.0, 3.0, 5.0, 15.0, 20.0, 21.0, 6.0, 10.0, 6.0, 7.0, 9.0, 7.0, 11.0, 12.0, 12.0, 11.0, 11.0]}, \"V6K 3G6\": {\"cars\": [10.0, 9.0, 5.0, 9.0, 3.0, 1.0, 1.0, 2.0, 3.0, 5.0, 15.0, 20.0, 21.0, 6.0, 10.0, 6.0, 7.0, 9.0, 7.0, 11.0, 12.0, 12.0, 11.0, 11.0]}, \"V5V 3P3\": {\"cars\": [10.0, 9.0, 5.0, 9.0, 3.0, 1.0, 1.0, 2.0, 3.0, 5.0, 15.0, 20.0, 21.0, 6.0, 10.0, 6.0, 7.0, 9.0, 7.0, 11.0, 12.0, 12.0, 11.0, 11.0]}, \"V6A 2S7\": {\"cars\": [10.0, 9.0, 5.0, 9.0, 3.0, 1.0, 1.0, 2.0, 3.0, 5.0, 15.0, 20.0, 21.0, 6.0, 10.0, 6.0, 7.0, 9.0, 7.0, 11.0, 12.0, 12.0, 11.0, 11.0]}, \"V6N 4G1\": {\"cars\": [10.0, 9.0, 5.0, 9.0, 3.0, 1.0, 1.0, 2.0, 3.0, 5.0, 15.0, 20.0, 21.0, 6.0, 10.0, 6.0, 7.0, 9.0, 7.0, 11.0, 12.0, 12.0, 11.0, 11.0]}, \"V6B 6N7\": {\"cars\": [10.0, 9.0, 5.0, 9.0, 3.0, 1.0, 1.0, 2.0, 3.0, 5.0, 15.0, 20.0, 21.0, 6.0, 10.0, 6.0, 7.0, 9.0, 7.0, 11.0, 12.0, 12.0, 11.0, 11.0]}, \"V6B 1H7\": {\"cars\": [10.0, 9.0, 5.0, 9.0, 3.0, 1.0, 1.0, 2.0, 3.0, 5.0, 15.0, 20.0, 21.0, 6.0, 10.0, 6.0, 7.0, 9.0, 7.0, 11.0, 12.0, 12.0, 11.0, 11.0]}, \"V5N 1V6\": {\"cars\": [10.0, 9.0, 5.0, 9.0, 3.0, 1.0, 1.0, 2.0, 3.0, 5.0, 15.0, 20.0, 21.0, 6.0, 10.0, 6.0, 7.0, 9.0, 7.0, 11.0, 12.0, 12.0, 11.0, 11.0]}, \"V6A 1R2\": {\"cars\": [10.0, 9.0, 5.0, 9.0, 3.0, 1.0, 1.0, 2.0, 3.0, 5.0, 15.0, 20.0, 21.0, 6.0, 10.0, 6.0, 7.0, 9.0, 7.0, 11.0, 12.0, 12.0, 11.0, 11.0]}, \"V5Z 3N2\": {\"cars\": [10.0, 9.0, 5.0, 9.0, 3.0, 1.0, 1.0, 2.0, 3.0, 5.0, 15.0, 20.0, 21.0, 6.0, 10.0, 6.0, 7.0, 9.0, 7.0, 11.0, 12.0, 12.0, 11.0, 11.0]}, \"V6B 1C1\": {\"cars\": [10.0, 9.0, 5.0, 9.0, 3.0, 1.0, 1.0, 2.0, 3.0, 5.0, 15.0, 20.0, 21.0, 6.0, 10.0, 6.0, 7.0, 9.0, 7.0, 11.0, 12.0, 12.0, 11.0, 11.0]}, \"V6R 1B9\": {\"cars\": [10.0, 9.0, 5.0, 9.0, 3.0, 1.0, 1.0, 2.0, 3.0, 5.0, 15.0, 20.0, 21.0, 6.0, 10.0, 6.0, 7.0, 9.0, 7.0, 11.0, 12.0, 12.0, 11.0, 11.0]}, \"V6L 2H8\": {\"cars\": [10.0, 9.0, 5.0, 9.0, 3.0, 1.0, 1.0, 2.0, 3.0, 5.0, 15.0, 20.0, 21.0, 6.0, 10.0, 6.0, 7.0, 9.0, 7.0, 11.0, 12.0, 12.0, 11.0, 11.0]}, \"V3L 5P5\": {\"cars\": [10.0, 9.0, 5.0, 9.0, 3.0, 1.0, 1.0, 2.0, 3.0, 5.0, 15.0, 20.0, 21.0, 6.0, 10.0, 6.0, 7.0, 9.0, 7.0, 11.0, 12.0, 12.0, 11.0, 11.0]}, \"V5L 3K9\": {\"lat_long\": [49.2720496, -123.0777653], \"cars\": [10.0, 9.0, 5.0, 9.0, 3.0, 1.0, 1.0, 2.0, 3.0, 5.0, 15.0, 20.0, 21.0, 6.0, 10.0, 6.0, 7.0, 9.0, 7.0, 11.0, 12.0, 12.0, 11.0, 11.0]}, \"V5N\": {\"lat_long\": [49.2663951, -123.0699288], \"cars\": [10.0, 9.0, 5.0, 9.0, 3.0, 1.0, 1.0, 2.0, 3.0, 5.0, 15.0, 20.0, 21.0, 6.0, 10.0, 6.0, 7.0, 9.0, 7.0, 11.0, 12.0, 12.0, 11.0, 11.0]}, \"V6H 4A7\": {\"cars\": [10.0, 9.0, 5.0, 9.0, 3.0, 1.0, 1.0, 2.0, 3.0, 5.0, 15.0, 20.0, 21.0, 6.0, 10.0, 6.0, 7.0, 9.0, 7.0, 11.0, 12.0, 12.0, 11.0, 11.0]}, \"V5V 3A4\": {\"cars\": [10.0, 9.0, 5.0, 9.0, 3.0, 1.0, 1.0, 2.0, 3.0, 5.0, 15.0, 20.0, 21.0, 6.0, 10.0, 6.0, 7.0, 9.0, 7.0, 11.0, 12.0, 12.0, 11.0, 11.0]}, \"V5L 1L5\": {\"cars\": [10.0, 9.0, 5.0, 9.0, 3.0, 1.0, 1.0, 2.0, 3.0, 5.0, 15.0, 20.0, 21.0, 6.0, 10.0, 6.0, 7.0, 9.0, 7.0, 11.0, 12.0, 12.0, 11.0, 11.0]}, \"V6B 5A1\": {\"cars\": [10.0, 9.0, 5.0, 9.0, 3.0, 1.0, 1.0, 2.0, 3.0, 5.0, 15.0, 20.0, 21.0, 6.0, 10.0, 6.0, 7.0, 9.0, 7.0, 11.0, 12.0, 12.0, 11.0, 11.0]}, \"V6G 1X5\": {\"cars\": [10.0, 9.0, 5.0, 9.0, 3.0, 1.0, 1.0, 2.0, 3.0, 5.0, 15.0, 20.0, 21.0, 6.0, 10.0, 6.0, 7.0, 9.0, 7.0, 11.0, 12.0, 12.0, 11.0, 11.0]}, \"V5N 4E9\": {\"cars\": [10.0, 9.0, 5.0, 9.0, 3.0, 1.0, 1.0, 2.0, 3.0, 5.0, 15.0, 20.0, 21.0, 6.0, 10.0, 6.0, 7.0, 9.0, 7.0, 11.0, 12.0, 12.0, 11.0, 11.0]}, \"V6Z 2N2\": {\"cars\": [10.0, 9.0, 5.0, 9.0, 3.0, 1.0, 1.0, 2.0, 3.0, 5.0, 15.0, 20.0, 21.0, 6.0, 10.0, 6.0, 7.0, 9.0, 7.0, 11.0, 12.0, 12.0, 11.0, 11.0]}, \"V5G 4J3\": {\"cars\": [10.0, 9.0, 5.0, 9.0, 3.0, 1.0, 1.0, 2.0, 3.0, 5.0, 15.0, 20.0, 21.0, 6.0, 10.0, 6.0, 7.0, 9.0, 7.0, 11.0, 12.0, 12.0, 11.0, 11.0]}, \"V5Y 3J6\": {\"cars\": [10.0, 9.0, 5.0, 9.0, 3.0, 1.0, 1.0, 2.0, 3.0, 5.0, 15.0, 20.0, 21.0, 6.0, 10.0, 6.0, 7.0, 9.0, 7.0, 11.0, 12.0, 12.0, 11.0, 11.0]}, \"V6B 1E1\": {\"cars\": [10.0, 9.0, 5.0, 9.0, 3.0, 1.0, 1.0, 2.0, 3.0, 5.0, 15.0, 20.0, 21.0, 6.0, 10.0, 6.0, 7.0, 9.0, 7.0, 11.0, 12.0, 12.0, 11.0, 11.0]}, \"V6T 0B3\": {\"cars\": [10.0, 9.0, 5.0, 9.0, 3.0, 1.0, 1.0, 2.0, 3.0, 5.0, 15.0, 20.0, 21.0, 6.0, 10.0, 6.0, 7.0, 9.0, 7.0, 11.0, 12.0, 12.0, 11.0, 11.0]}, \"V6E3W1\": {\"cars\": [10.0, 9.0, 5.0, 9.0, 3.0, 1.0, 1.0, 2.0, 3.0, 5.0, 15.0, 20.0, 21.0, 6.0, 10.0, 6.0, 7.0, 9.0, 7.0, 11.0, 12.0, 12.0, 11.0, 11.0]}, \"V5Y 1H4\": {\"cars\": [10.0, 9.0, 5.0, 9.0, 3.0, 1.0, 1.0, 2.0, 3.0, 5.0, 15.0, 20.0, 21.0, 6.0, 10.0, 6.0, 7.0, 9.0, 7.0, 11.0, 12.0, 12.0, 11.0, 11.0]}, \"V6J 3H1\": {\"cars\": [10.0, 9.0, 5.0, 9.0, 3.0, 1.0, 1.0, 2.0, 3.0, 5.0, 15.0, 20.0, 21.0, 6.0, 10.0, 6.0, 7.0, 9.0, 7.0, 11.0, 12.0, 12.0, 11.0, 11.0]}, \"V6A 3Y9\": {\"cars\": [10.0, 9.0, 5.0, 9.0, 3.0, 1.0, 1.0, 2.0, 3.0, 5.0, 15.0, 20.0, 21.0, 6.0, 10.0, 6.0, 7.0, 9.0, 7.0, 11.0, 12.0, 12.0, 11.0, 11.0]}, \"V7Y 1E8\": {\"cars\": [10.0, 9.0, 5.0, 9.0, 3.0, 1.0, 1.0, 2.0, 3.0, 5.0, 15.0, 20.0, 21.0, 6.0, 10.0, 6.0, 7.0, 9.0, 7.0, 11.0, 12.0, 12.0, 11.0, 11.0]}, \"V6E 1T7\": {\"lat_long\": [49.2771176, -123.1358988], \"cars\": [10.0, 9.0, 5.0, 9.0, 3.0, 1.0, 1.0, 2.0, 3.0, 5.0, 15.0, 20.0, 21.0, 6.0, 10.0, 6.0, 7.0, 9.0, 7.0, 11.0, 12.0, 12.0, 11.0, 11.0]}, \"V6E 1B2\": {\"cars\": [10.0, 9.0, 5.0, 9.0, 3.0, 1.0, 1.0, 2.0, 3.0, 5.0, 15.0, 20.0, 21.0, 6.0, 10.0, 6.0, 7.0, 9.0, 7.0, 11.0, 12.0, 12.0, 11.0, 11.0]}, \"V6S 2E1\": {\"cars\": [10.0, 9.0, 5.0, 9.0, 3.0, 1.0, 1.0, 2.0, 3.0, 5.0, 15.0, 20.0, 21.0, 6.0, 10.0, 6.0, 7.0, 9.0, 7.0, 11.0, 12.0, 12.0, 11.0, 11.0]}, \"V7Y 1G5\": {\"cars\": [10.0, 9.0, 5.0, 9.0, 3.0, 1.0, 1.0, 2.0, 3.0, 5.0, 15.0, 20.0, 21.0, 6.0, 10.0, 6.0, 7.0, 9.0, 7.0, 11.0, 12.0, 12.0, 11.0, 11.0]}, \"V7B 0A1\": {\"cars\": [10.0, 9.0, 5.0, 9.0, 3.0, 1.0, 1.0, 2.0, 3.0, 5.0, 15.0, 20.0, 21.0, 6.0, 10.0, 6.0, 7.0, 9.0, 7.0, 11.0, 12.0, 12.0, 11.0, 11.0]}, \"V3M 0G8\": {\"cars\": [10.0, 9.0, 5.0, 9.0, 3.0, 1.0, 1.0, 2.0, 3.0, 5.0, 15.0, 20.0, 21.0, 6.0, 10.0, 6.0, 7.0, 9.0, 7.0, 11.0, 12.0, 12.0, 11.0, 11.0]}, \"V5N 4K1\": {\"cars\": [10.0, 9.0, 5.0, 9.0, 3.0, 1.0, 1.0, 2.0, 3.0, 5.0, 15.0, 20.0, 21.0, 6.0, 10.0, 6.0, 7.0, 9.0, 7.0, 11.0, 12.0, 12.0, 11.0, 11.0]}, \"V6Z 3B4\": {\"cars\": [10.0, 9.0, 5.0, 9.0, 3.0, 1.0, 1.0, 2.0, 3.0, 5.0, 15.0, 20.0, 21.0, 6.0, 10.0, 6.0, 7.0, 9.0, 7.0, 11.0, 12.0, 12.0, 11.0, 11.0]}, \"V6P 3M4\": {\"cars\": [10.0, 9.0, 5.0, 9.0, 3.0, 1.0, 1.0, 2.0, 3.0, 5.0, 15.0, 20.0, 21.0, 6.0, 10.0, 6.0, 7.0, 9.0, 7.0, 11.0, 12.0, 12.0, 11.0, 11.0]}, \"V6A 1Z5\": {\"cars\": [10.0, 9.0, 5.0, 9.0, 3.0, 1.0, 1.0, 2.0, 3.0, 5.0, 15.0, 20.0, 21.0, 6.0, 10.0, 6.0, 7.0, 9.0, 7.0, 11.0, 12.0, 12.0, 11.0, 11.0]}, \"V5K 1Y8\": {\"cars\": [10.0, 9.0, 5.0, 9.0, 3.0, 1.0, 1.0, 2.0, 3.0, 5.0, 15.0, 20.0, 21.0, 6.0, 10.0, 6.0, 7.0, 9.0, 7.0, 11.0, 12.0, 12.0, 11.0, 11.0]}, \"V5S\": {\"lat_long\": [49.2279388, -123.0575954], \"cars\": [10.0, 9.0, 5.0, 9.0, 3.0, 1.0, 1.0, 2.0, 3.0, 5.0, 15.0, 20.0, 21.0, 6.0, 10.0, 6.0, 7.0, 9.0, 7.0, 11.0, 12.0, 12.0, 11.0, 11.0]}, \"V3L 3P2\": {\"cars\": [10.0, 9.0, 5.0, 9.0, 3.0, 1.0, 1.0, 2.0, 3.0, 5.0, 15.0, 20.0, 21.0, 6.0, 10.0, 6.0, 7.0, 9.0, 7.0, 11.0, 12.0, 12.0, 11.0, 11.0]}, \"V5T 1B3\": {\"cars\": [10.0, 9.0, 5.0, 9.0, 3.0, 1.0, 1.0, 2.0, 3.0, 5.0, 15.0, 20.0, 21.0, 6.0, 10.0, 6.0, 7.0, 9.0, 7.0, 11.0, 12.0, 12.0, 11.0, 11.0]}, \"V5R 5S1\": {\"lat_long\": [49.2403521, -123.0272829], \"cars\": [10.0, 9.0, 5.0, 9.0, 3.0, 1.0, 1.0, 2.0, 3.0, 5.0, 15.0, 20.0, 21.0, 6.0, 10.0, 6.0, 7.0, 9.0, 7.0, 11.0, 12.0, 12.0, 11.0, 11.0]}, \"V6J 1R1\": {\"cars\": [10.0, 9.0, 5.0, 9.0, 3.0, 1.0, 1.0, 2.0, 3.0, 5.0, 15.0, 20.0, 21.0, 6.0, 10.0, 6.0, 7.0, 9.0, 7.0, 11.0, 12.0, 12.0, 11.0, 11.0]}, \"V6Z 1Y6\": {\"cars\": [10.0, 9.0, 5.0, 9.0, 3.0, 1.0, 1.0, 2.0, 3.0, 5.0, 15.0, 20.0, 21.0, 6.0, 10.0, 6.0, 7.0, 9.0, 7.0, 11.0, 12.0, 12.0, 11.0, 11.0]}, \"V6R 1V9\": {\"cars\": [10.0, 9.0, 5.0, 9.0, 3.0, 1.0, 1.0, 2.0, 3.0, 5.0, 15.0, 20.0, 21.0, 6.0, 10.0, 6.0, 7.0, 9.0, 7.0, 11.0, 12.0, 12.0, 11.0, 11.0]}, \"V5X 4K1\": {\"cars\": [10.0, 9.0, 5.0, 9.0, 3.0, 1.0, 1.0, 2.0, 3.0, 5.0, 15.0, 20.0, 21.0, 6.0, 10.0, 6.0, 7.0, 9.0, 7.0, 11.0, 12.0, 12.0, 11.0, 11.0]}, \"V5N 4Z2\": {\"cars\": [10.0, 9.0, 5.0, 9.0, 3.0, 1.0, 1.0, 2.0, 3.0, 5.0, 15.0, 20.0, 21.0, 6.0, 10.0, 6.0, 7.0, 9.0, 7.0, 11.0, 12.0, 12.0, 11.0, 11.0]}, \"V5T 1J3\": {\"cars\": [10.0, 9.0, 5.0, 9.0, 3.0, 1.0, 1.0, 2.0, 3.0, 5.0, 15.0, 20.0, 21.0, 6.0, 10.0, 6.0, 7.0, 9.0, 7.0, 11.0, 12.0, 12.0, 11.0, 11.0]}, \"V3L 3X1\": {\"cars\": [10.0, 9.0, 5.0, 9.0, 3.0, 1.0, 1.0, 2.0, 3.0, 5.0, 15.0, 20.0, 21.0, 6.0, 10.0, 6.0, 7.0, 9.0, 7.0, 11.0, 12.0, 12.0, 11.0, 11.0]}, \"V5Z 2T1\": {\"cars\": [10.0, 9.0, 5.0, 9.0, 3.0, 1.0, 1.0, 2.0, 3.0, 5.0, 15.0, 20.0, 21.0, 6.0, 10.0, 6.0, 7.0, 9.0, 7.0, 11.0, 12.0, 12.0, 11.0, 11.0]}, \"V6A 1E3\": {\"cars\": [10.0, 9.0, 5.0, 9.0, 3.0, 1.0, 1.0, 2.0, 3.0, 5.0, 15.0, 20.0, 21.0, 6.0, 10.0, 6.0, 7.0, 9.0, 7.0, 11.0, 12.0, 12.0, 11.0, 11.0]}, \"V3L 2W6\": {\"cars\": [10.0, 9.0, 5.0, 9.0, 3.0, 1.0, 1.0, 2.0, 3.0, 5.0, 15.0, 20.0, 21.0, 6.0, 10.0, 6.0, 7.0, 9.0, 7.0, 11.0, 12.0, 12.0, 11.0, 11.0]}, \"V5M 4J1\": {\"cars\": [10.0, 9.0, 5.0, 9.0, 3.0, 1.0, 1.0, 2.0, 3.0, 5.0, 15.0, 20.0, 21.0, 6.0, 10.0, 6.0, 7.0, 9.0, 7.0, 11.0, 12.0, 12.0, 11.0, 11.0]}, \"V6P 6Y5\": {\"cars\": [10.0, 9.0, 5.0, 9.0, 3.0, 1.0, 1.0, 2.0, 3.0, 5.0, 15.0, 20.0, 21.0, 6.0, 10.0, 6.0, 7.0, 9.0, 7.0, 11.0, 12.0, 12.0, 11.0, 11.0]}, \"V6H\": {\"lat_long\": [49.2658088, -123.1299151], \"cars\": [10.0, 9.0, 5.0, 9.0, 3.0, 1.0, 1.0, 2.0, 3.0, 5.0, 15.0, 20.0, 21.0, 6.0, 10.0, 6.0, 7.0, 9.0, 7.0, 11.0, 12.0, 12.0, 11.0, 11.0]}, \"V6E 1B0\": {\"cars\": [10.0, 9.0, 5.0, 9.0, 3.0, 1.0, 1.0, 2.0, 3.0, 5.0, 15.0, 20.0, 21.0, 6.0, 10.0, 6.0, 7.0, 9.0, 7.0, 11.0, 12.0, 12.0, 11.0, 11.0]}, \"V3L 0E3\": {\"cars\": [10.0, 9.0, 5.0, 9.0, 3.0, 1.0, 1.0, 2.0, 3.0, 5.0, 15.0, 20.0, 21.0, 6.0, 10.0, 6.0, 7.0, 9.0, 7.0, 11.0, 12.0, 12.0, 11.0, 11.0]}, \"V6B 1G7\": {\"cars\": [10.0, 9.0, 5.0, 9.0, 3.0, 1.0, 1.0, 2.0, 3.0, 5.0, 15.0, 20.0, 21.0, 6.0, 10.0, 6.0, 7.0, 9.0, 7.0, 11.0, 12.0, 12.0, 11.0, 11.0]}, \"V3M 4K4\": {\"lat_long\": [49.2116003, -122.9353234], \"cars\": [10.0, 9.0, 5.0, 9.0, 3.0, 1.0, 1.0, 2.0, 3.0, 5.0, 15.0, 20.0, 21.0, 6.0, 10.0, 6.0, 7.0, 9.0, 7.0, 11.0, 12.0, 12.0, 11.0, 11.0]}, \"V6A 1R1\": {\"cars\": [10.0, 9.0, 5.0, 9.0, 3.0, 1.0, 1.0, 2.0, 3.0, 5.0, 15.0, 20.0, 21.0, 6.0, 10.0, 6.0, 7.0, 9.0, 7.0, 11.0, 12.0, 12.0, 11.0, 11.0]}, \"V5V 4S9\": {\"cars\": [10.0, 9.0, 5.0, 9.0, 3.0, 1.0, 1.0, 2.0, 3.0, 5.0, 15.0, 20.0, 21.0, 6.0, 10.0, 6.0, 7.0, 9.0, 7.0, 11.0, 12.0, 12.0, 11.0, 11.0]}, \"V6M 1V5\": {\"cars\": [10.0, 9.0, 5.0, 9.0, 3.0, 1.0, 1.0, 2.0, 3.0, 5.0, 15.0, 20.0, 21.0, 6.0, 10.0, 6.0, 7.0, 9.0, 7.0, 11.0, 12.0, 12.0, 11.0, 11.0]}, \"V6B 3K4\": {\"cars\": [10.0, 9.0, 5.0, 9.0, 3.0, 1.0, 1.0, 2.0, 3.0, 5.0, 15.0, 20.0, 21.0, 6.0, 10.0, 6.0, 7.0, 9.0, 7.0, 11.0, 12.0, 12.0, 11.0, 11.0]}, \"V6A 2P3\": {\"cars\": [10.0, 9.0, 5.0, 9.0, 3.0, 1.0, 1.0, 2.0, 3.0, 5.0, 15.0, 20.0, 21.0, 6.0, 10.0, 6.0, 7.0, 9.0, 7.0, 11.0, 12.0, 12.0, 11.0, 11.0]}, \"V7M 2H3\": {\"cars\": [10.0, 9.0, 5.0, 9.0, 3.0, 1.0, 1.0, 2.0, 3.0, 5.0, 15.0, 20.0, 21.0, 6.0, 10.0, 6.0, 7.0, 9.0, 7.0, 11.0, 12.0, 12.0, 11.0, 11.0]}, \"V5L 2E3\": {\"cars\": [10.0, 9.0, 5.0, 9.0, 3.0, 1.0, 1.0, 2.0, 3.0, 5.0, 15.0, 20.0, 21.0, 6.0, 10.0, 6.0, 7.0, 9.0, 7.0, 11.0, 12.0, 12.0, 11.0, 11.0]}, \"V5M 4T5\": {\"cars\": [10.0, 9.0, 5.0, 9.0, 3.0, 1.0, 1.0, 2.0, 3.0, 5.0, 15.0, 20.0, 21.0, 6.0, 10.0, 6.0, 7.0, 9.0, 7.0, 11.0, 12.0, 12.0, 11.0, 11.0]}, \"V5L 4N8\": {\"cars\": [10.0, 9.0, 5.0, 9.0, 3.0, 1.0, 1.0, 2.0, 3.0, 5.0, 15.0, 20.0, 21.0, 6.0, 10.0, 6.0, 7.0, 9.0, 7.0, 11.0, 12.0, 12.0, 11.0, 11.0]}, \"V7M\": {\"lat_long\": [49.31323099999999, -123.0848137], \"cars\": [10.0, 9.0, 5.0, 9.0, 3.0, 1.0, 1.0, 2.0, 3.0, 5.0, 15.0, 20.0, 21.0, 6.0, 10.0, 6.0, 7.0, 9.0, 7.0, 11.0, 12.0, 12.0, 11.0, 11.0]}, \"V6M 1M1\": {\"cars\": [10.0, 9.0, 5.0, 9.0, 3.0, 1.0, 1.0, 2.0, 3.0, 5.0, 15.0, 20.0, 21.0, 6.0, 10.0, 6.0, 7.0, 9.0, 7.0, 11.0, 12.0, 12.0, 11.0, 11.0]}, \"V6B 2K7\": {\"cars\": [10.0, 9.0, 5.0, 9.0, 3.0, 1.0, 1.0, 2.0, 3.0, 5.0, 15.0, 20.0, 21.0, 6.0, 10.0, 6.0, 7.0, 9.0, 7.0, 11.0, 12.0, 12.0, 11.0, 11.0]}, \"V6M 1P8\": {\"lat_long\": [49.23705469999999, -123.1314889], \"cars\": [10.0, 9.0, 5.0, 9.0, 3.0, 1.0, 1.0, 2.0, 3.0, 5.0, 15.0, 20.0, 21.0, 6.0, 10.0, 6.0, 7.0, 9.0, 7.0, 11.0, 12.0, 12.0, 11.0, 11.0]}, \"V7M 2K3\": {\"cars\": [10.0, 9.0, 5.0, 9.0, 3.0, 1.0, 1.0, 2.0, 3.0, 5.0, 15.0, 20.0, 21.0, 6.0, 10.0, 6.0, 7.0, 9.0, 7.0, 11.0, 12.0, 12.0, 11.0, 11.0]}, \"V5Z 2M9\": {\"cars\": [10.0, 9.0, 5.0, 9.0, 3.0, 1.0, 1.0, 2.0, 3.0, 5.0, 15.0, 20.0, 21.0, 6.0, 10.0, 6.0, 7.0, 9.0, 7.0, 11.0, 12.0, 12.0, 11.0, 11.0]}, \"V6G 3A5\": {\"cars\": [10.0, 9.0, 5.0, 9.0, 3.0, 1.0, 1.0, 2.0, 3.0, 5.0, 15.0, 20.0, 21.0, 6.0, 10.0, 6.0, 7.0, 9.0, 7.0, 11.0, 12.0, 12.0, 11.0, 11.0]}, \"V6K 4T4\": {\"cars\": [10.0, 9.0, 5.0, 9.0, 3.0, 1.0, 1.0, 2.0, 3.0, 5.0, 15.0, 20.0, 21.0, 6.0, 10.0, 6.0, 7.0, 9.0, 7.0, 11.0, 12.0, 12.0, 11.0, 11.0]}, \"V6R 3W6\": {\"cars\": [10.0, 9.0, 5.0, 9.0, 3.0, 1.0, 1.0, 2.0, 3.0, 5.0, 15.0, 20.0, 21.0, 6.0, 10.0, 6.0, 7.0, 9.0, 7.0, 11.0, 12.0, 12.0, 11.0, 11.0]}, \"V5W 1A6\": {\"cars\": [10.0, 9.0, 5.0, 9.0, 3.0, 1.0, 1.0, 2.0, 3.0, 5.0, 15.0, 20.0, 21.0, 6.0, 10.0, 6.0, 7.0, 9.0, 7.0, 11.0, 12.0, 12.0, 11.0, 11.0]}, \"V5M 0C4\": {\"cars\": [10.0, 9.0, 5.0, 9.0, 3.0, 1.0, 1.0, 2.0, 3.0, 5.0, 15.0, 20.0, 21.0, 6.0, 10.0, 6.0, 7.0, 9.0, 7.0, 11.0, 12.0, 12.0, 11.0, 11.0]}, \"V5T 4T1\": {\"cars\": [10.0, 9.0, 5.0, 9.0, 3.0, 1.0, 1.0, 2.0, 3.0, 5.0, 15.0, 20.0, 21.0, 6.0, 10.0, 6.0, 7.0, 9.0, 7.0, 11.0, 12.0, 12.0, 11.0, 11.0]}, \"V6A 1P6\": {\"cars\": [10.0, 9.0, 5.0, 9.0, 3.0, 1.0, 1.0, 2.0, 3.0, 5.0, 15.0, 20.0, 21.0, 6.0, 10.0, 6.0, 7.0, 9.0, 7.0, 11.0, 12.0, 12.0, 11.0, 11.0]}, \"V6B 3A7\": {\"cars\": [10.0, 9.0, 5.0, 9.0, 3.0, 1.0, 1.0, 2.0, 3.0, 5.0, 15.0, 20.0, 21.0, 6.0, 10.0, 6.0, 7.0, 9.0, 7.0, 11.0, 12.0, 12.0, 11.0, 11.0]}, \"V6A 1E1\": {\"cars\": [10.0, 9.0, 5.0, 9.0, 3.0, 1.0, 1.0, 2.0, 3.0, 5.0, 15.0, 20.0, 21.0, 6.0, 10.0, 6.0, 7.0, 9.0, 7.0, 11.0, 12.0, 12.0, 11.0, 11.0]}, \"V6G 2J6\": {\"cars\": [10.0, 9.0, 5.0, 9.0, 3.0, 1.0, 1.0, 2.0, 3.0, 5.0, 15.0, 20.0, 21.0, 6.0, 10.0, 6.0, 7.0, 9.0, 7.0, 11.0, 12.0, 12.0, 11.0, 11.0]}, \"V5R 0B2\": {\"cars\": [10.0, 9.0, 5.0, 9.0, 3.0, 1.0, 1.0, 2.0, 3.0, 5.0, 15.0, 20.0, 21.0, 6.0, 10.0, 6.0, 7.0, 9.0, 7.0, 11.0, 12.0, 12.0, 11.0, 11.0]}, \"V6A 4C7\": {\"cars\": [10.0, 9.0, 5.0, 9.0, 3.0, 1.0, 1.0, 2.0, 3.0, 5.0, 15.0, 20.0, 21.0, 6.0, 10.0, 6.0, 7.0, 9.0, 7.0, 11.0, 12.0, 12.0, 11.0, 11.0]}, \"V5P 4K7\": {\"cars\": [10.0, 9.0, 5.0, 9.0, 3.0, 1.0, 1.0, 2.0, 3.0, 5.0, 15.0, 20.0, 21.0, 6.0, 10.0, 6.0, 7.0, 9.0, 7.0, 11.0, 12.0, 12.0, 11.0, 11.0]}, \"V6A 3A3\": {\"cars\": [10.0, 9.0, 5.0, 9.0, 3.0, 1.0, 1.0, 2.0, 3.0, 5.0, 15.0, 20.0, 21.0, 6.0, 10.0, 6.0, 7.0, 9.0, 7.0, 11.0, 12.0, 12.0, 11.0, 11.0]}, \"V5L 3B1\": {\"cars\": [10.0, 9.0, 5.0, 9.0, 3.0, 1.0, 1.0, 2.0, 3.0, 5.0, 15.0, 20.0, 21.0, 6.0, 10.0, 6.0, 7.0, 9.0, 7.0, 11.0, 12.0, 12.0, 11.0, 11.0]}, \"V5R 2T3\": {\"cars\": [10.0, 9.0, 5.0, 9.0, 3.0, 1.0, 1.0, 2.0, 3.0, 5.0, 15.0, 20.0, 21.0, 6.0, 10.0, 6.0, 7.0, 9.0, 7.0, 11.0, 12.0, 12.0, 11.0, 11.0]}, \"V6B 1E5\": {\"cars\": [10.0, 9.0, 5.0, 9.0, 3.0, 1.0, 1.0, 2.0, 3.0, 5.0, 15.0, 20.0, 21.0, 6.0, 10.0, 6.0, 7.0, 9.0, 7.0, 11.0, 12.0, 12.0, 11.0, 11.0]}, \"V6A 1B1\": {\"cars\": [10.0, 9.0, 5.0, 9.0, 3.0, 1.0, 1.0, 2.0, 3.0, 5.0, 15.0, 20.0, 21.0, 6.0, 10.0, 6.0, 7.0, 9.0, 7.0, 11.0, 12.0, 12.0, 11.0, 11.0]}, \"V6Z 2K8\": {\"cars\": [10.0, 9.0, 5.0, 9.0, 3.0, 1.0, 1.0, 2.0, 3.0, 5.0, 15.0, 20.0, 21.0, 6.0, 10.0, 6.0, 7.0, 9.0, 7.0, 11.0, 12.0, 12.0, 11.0, 11.0]}, \"V6Z\": {\"lat_long\": [49.2755926, -123.1293344], \"cars\": [10.0, 9.0, 5.0, 9.0, 3.0, 1.0, 1.0, 2.0, 3.0, 5.0, 15.0, 20.0, 21.0, 6.0, 10.0, 6.0, 7.0, 9.0, 7.0, 11.0, 12.0, 12.0, 11.0, 11.0]}, \"V5P 1E4\": {\"cars\": [10.0, 9.0, 5.0, 9.0, 3.0, 1.0, 1.0, 2.0, 3.0, 5.0, 15.0, 20.0, 21.0, 6.0, 10.0, 6.0, 7.0, 9.0, 7.0, 11.0, 12.0, 12.0, 11.0, 11.0]}, \"V6G 1Y7\": {\"lat_long\": [49.28405979999999, -123.1419258], \"cars\": [10.0, 9.0, 5.0, 9.0, 3.0, 1.0, 1.0, 2.0, 3.0, 5.0, 15.0, 20.0, 21.0, 6.0, 10.0, 6.0, 7.0, 9.0, 7.0, 11.0, 12.0, 12.0, 11.0, 11.0]}, \"V3M 3L9\": {\"cars\": [10.0, 9.0, 5.0, 9.0, 3.0, 1.0, 1.0, 2.0, 3.0, 5.0, 15.0, 20.0, 21.0, 6.0, 10.0, 6.0, 7.0, 9.0, 7.0, 11.0, 12.0, 12.0, 11.0, 11.0]}, \"V6Z 2Z2\": {\"cars\": [10.0, 9.0, 5.0, 9.0, 3.0, 1.0, 1.0, 2.0, 3.0, 5.0, 15.0, 20.0, 21.0, 6.0, 10.0, 6.0, 7.0, 9.0, 7.0, 11.0, 12.0, 12.0, 11.0, 11.0]}, \"V6M\": {\"lat_long\": [49.2407644, -123.1362284], \"cars\": [10.0, 9.0, 5.0, 9.0, 3.0, 1.0, 1.0, 2.0, 3.0, 5.0, 15.0, 20.0, 21.0, 6.0, 10.0, 6.0, 7.0, 9.0, 7.0, 11.0, 12.0, 12.0, 11.0, 11.0]}, \"V5W 2L8\": {\"cars\": [10.0, 9.0, 5.0, 9.0, 3.0, 1.0, 1.0, 2.0, 3.0, 5.0, 15.0, 20.0, 21.0, 6.0, 10.0, 6.0, 7.0, 9.0, 7.0, 11.0, 12.0, 12.0, 11.0, 11.0]}, \"V5Y 3R4\": {\"cars\": [10.0, 9.0, 5.0, 9.0, 3.0, 1.0, 1.0, 2.0, 3.0, 5.0, 15.0, 20.0, 21.0, 6.0, 10.0, 6.0, 7.0, 9.0, 7.0, 11.0, 12.0, 12.0, 11.0, 11.0]}, \"V5N 3S5\": {\"cars\": [10.0, 9.0, 5.0, 9.0, 3.0, 1.0, 1.0, 2.0, 3.0, 5.0, 15.0, 20.0, 21.0, 6.0, 10.0, 6.0, 7.0, 9.0, 7.0, 11.0, 12.0, 12.0, 11.0, 11.0]}, \"V5R 5L6\": {\"cars\": [10.0, 9.0, 5.0, 9.0, 3.0, 1.0, 1.0, 2.0, 3.0, 5.0, 15.0, 20.0, 21.0, 6.0, 10.0, 6.0, 7.0, 9.0, 7.0, 11.0, 12.0, 12.0, 11.0, 11.0]}, \"V6G 2P7\": {\"cars\": [10.0, 9.0, 5.0, 9.0, 3.0, 1.0, 1.0, 2.0, 3.0, 5.0, 15.0, 20.0, 21.0, 6.0, 10.0, 6.0, 7.0, 9.0, 7.0, 11.0, 12.0, 12.0, 11.0, 11.0]}}}'"
      ]
     },
     "execution_count": 97,
     "metadata": {},
     "output_type": "execute_result"
    }
   ],
   "source": [
    "model_load_predict('/opt/apps/Jaarvis_Demand_Supply/demand_models/','/opt/apps/Jaarvis_Demand_Supply/available_models/')"
   ]
  },
  {
   "cell_type": "code",
   "execution_count": 73,
   "metadata": {},
   "outputs": [
    {
     "data": {
      "text/plain": [
       "'V1M 2W4'"
      ]
     },
     "execution_count": 73,
     "metadata": {},
     "output_type": "execute_result"
    }
   ],
   "source": [
    "import re\n",
    "a=re.findall('[a-zA-Z]\\d[a-zA-Z]\\s{0,1}\\d{0,1}[a-zA-Z]{0,1}\\d{0,1}','/opt/apps/Jaarvis_Demand_Supply/demand_models/V1M 2W4.pkl')[0]\n",
    "a"
   ]
  },
  {
   "cell_type": "code",
   "execution_count": 77,
   "metadata": {},
   "outputs": [],
   "source": [
    "Sql_connection2 = create_connection('/opt/apps/scripts/jaarvis_demand_supply/zone_lat_log.db')"
   ]
  },
  {
   "cell_type": "code",
   "execution_count": 81,
   "metadata": {},
   "outputs": [
    {
     "data": {
      "text/html": [
       "<div>\n",
       "<style scoped>\n",
       "    .dataframe tbody tr th:only-of-type {\n",
       "        vertical-align: middle;\n",
       "    }\n",
       "\n",
       "    .dataframe tbody tr th {\n",
       "        vertical-align: top;\n",
       "    }\n",
       "\n",
       "    .dataframe thead th {\n",
       "        text-align: right;\n",
       "    }\n",
       "</style>\n",
       "<table border=\"1\" class=\"dataframe\">\n",
       "  <thead>\n",
       "    <tr style=\"text-align: right;\">\n",
       "      <th></th>\n",
       "      <th>zone</th>\n",
       "      <th>lat</th>\n",
       "      <th>log</th>\n",
       "    </tr>\n",
       "  </thead>\n",
       "  <tbody>\n",
       "    <tr>\n",
       "      <th>0</th>\n",
       "      <td>14340</td>\n",
       "      <td>34.184386</td>\n",
       "      <td>-118.445851</td>\n",
       "    </tr>\n",
       "    <tr>\n",
       "      <th>1</th>\n",
       "      <td>14430</td>\n",
       "      <td>34.148527</td>\n",
       "      <td>-118.447572</td>\n",
       "    </tr>\n",
       "    <tr>\n",
       "      <th>2</th>\n",
       "      <td>14640</td>\n",
       "      <td>47.632604</td>\n",
       "      <td>-122.143808</td>\n",
       "    </tr>\n",
       "    <tr>\n",
       "      <th>3</th>\n",
       "      <td>V3L 1M6</td>\n",
       "      <td>49.209934</td>\n",
       "      <td>-122.912854</td>\n",
       "    </tr>\n",
       "    <tr>\n",
       "      <th>4</th>\n",
       "      <td>V3L 1P2</td>\n",
       "      <td>49.211574</td>\n",
       "      <td>-122.914376</td>\n",
       "    </tr>\n",
       "    <tr>\n",
       "      <th>5</th>\n",
       "      <td>V3L 1P3</td>\n",
       "      <td>49.210620</td>\n",
       "      <td>-122.916248</td>\n",
       "    </tr>\n",
       "    <tr>\n",
       "      <th>6</th>\n",
       "      <td>V3L 1T8</td>\n",
       "      <td>49.214772</td>\n",
       "      <td>-122.916844</td>\n",
       "    </tr>\n",
       "    <tr>\n",
       "      <th>7</th>\n",
       "      <td>V3L 1V3</td>\n",
       "      <td>49.213286</td>\n",
       "      <td>-122.919269</td>\n",
       "    </tr>\n",
       "    <tr>\n",
       "      <th>8</th>\n",
       "      <td>V3L 1V9</td>\n",
       "      <td>49.219355</td>\n",
       "      <td>-122.913324</td>\n",
       "    </tr>\n",
       "    <tr>\n",
       "      <th>9</th>\n",
       "      <td>V3L 1W6</td>\n",
       "      <td>49.215750</td>\n",
       "      <td>-122.920154</td>\n",
       "    </tr>\n",
       "    <tr>\n",
       "      <th>10</th>\n",
       "      <td>V3L 1X7</td>\n",
       "      <td>49.220534</td>\n",
       "      <td>-122.915178</td>\n",
       "    </tr>\n",
       "    <tr>\n",
       "      <th>11</th>\n",
       "      <td>V3L 2E2</td>\n",
       "      <td>49.220273</td>\n",
       "      <td>-122.914056</td>\n",
       "    </tr>\n",
       "    <tr>\n",
       "      <th>12</th>\n",
       "      <td>V3L 2H3</td>\n",
       "      <td>49.218242</td>\n",
       "      <td>-122.912647</td>\n",
       "    </tr>\n",
       "    <tr>\n",
       "      <th>13</th>\n",
       "      <td>V3L 2J4</td>\n",
       "      <td>49.222821</td>\n",
       "      <td>-122.919109</td>\n",
       "    </tr>\n",
       "    <tr>\n",
       "      <th>14</th>\n",
       "      <td>V3L 2L4</td>\n",
       "      <td>49.213981</td>\n",
       "      <td>-122.911285</td>\n",
       "    </tr>\n",
       "    <tr>\n",
       "      <th>15</th>\n",
       "      <td>V3L 2M2</td>\n",
       "      <td>49.216316</td>\n",
       "      <td>-122.913404</td>\n",
       "    </tr>\n",
       "    <tr>\n",
       "      <th>16</th>\n",
       "      <td>V3L 2V4</td>\n",
       "      <td>49.212351</td>\n",
       "      <td>-122.915548</td>\n",
       "    </tr>\n",
       "    <tr>\n",
       "      <th>17</th>\n",
       "      <td>V3L 2W1</td>\n",
       "      <td>49.215782</td>\n",
       "      <td>-122.918947</td>\n",
       "    </tr>\n",
       "    <tr>\n",
       "      <th>18</th>\n",
       "      <td>V3L 3G9</td>\n",
       "      <td>49.223210</td>\n",
       "      <td>-122.906819</td>\n",
       "    </tr>\n",
       "    <tr>\n",
       "      <th>19</th>\n",
       "      <td>V3L 3Z7</td>\n",
       "      <td>49.228988</td>\n",
       "      <td>-122.895963</td>\n",
       "    </tr>\n",
       "    <tr>\n",
       "      <th>20</th>\n",
       "      <td>V3L 4A7</td>\n",
       "      <td>49.235013</td>\n",
       "      <td>-122.895416</td>\n",
       "    </tr>\n",
       "    <tr>\n",
       "      <th>21</th>\n",
       "      <td>V3L 4C8</td>\n",
       "      <td>49.233685</td>\n",
       "      <td>-122.898596</td>\n",
       "    </tr>\n",
       "    <tr>\n",
       "      <th>22</th>\n",
       "      <td>V3L 4G6</td>\n",
       "      <td>49.220909</td>\n",
       "      <td>-122.907085</td>\n",
       "    </tr>\n",
       "    <tr>\n",
       "      <th>23</th>\n",
       "      <td>V3L 4J1</td>\n",
       "      <td>49.224859</td>\n",
       "      <td>-122.905543</td>\n",
       "    </tr>\n",
       "    <tr>\n",
       "      <th>24</th>\n",
       "      <td>V3L 4K1</td>\n",
       "      <td>49.226226</td>\n",
       "      <td>-122.905148</td>\n",
       "    </tr>\n",
       "    <tr>\n",
       "      <th>25</th>\n",
       "      <td>V3L 4K4</td>\n",
       "      <td>49.227376</td>\n",
       "      <td>-122.903218</td>\n",
       "    </tr>\n",
       "    <tr>\n",
       "      <th>26</th>\n",
       "      <td>V3L 4M1</td>\n",
       "      <td>49.225993</td>\n",
       "      <td>-122.912801</td>\n",
       "    </tr>\n",
       "    <tr>\n",
       "      <th>27</th>\n",
       "      <td>V3L 4N5</td>\n",
       "      <td>49.231533</td>\n",
       "      <td>-122.902414</td>\n",
       "    </tr>\n",
       "    <tr>\n",
       "      <th>28</th>\n",
       "      <td>V3L 4N7</td>\n",
       "      <td>49.227145</td>\n",
       "      <td>-122.907677</td>\n",
       "    </tr>\n",
       "    <tr>\n",
       "      <th>29</th>\n",
       "      <td>V3L 4R5</td>\n",
       "      <td>49.226774</td>\n",
       "      <td>-122.912576</td>\n",
       "    </tr>\n",
       "    <tr>\n",
       "      <th>...</th>\n",
       "      <td>...</td>\n",
       "      <td>...</td>\n",
       "      <td>...</td>\n",
       "    </tr>\n",
       "    <tr>\n",
       "      <th>894</th>\n",
       "      <td>V7P 2M3</td>\n",
       "      <td>49.328977</td>\n",
       "      <td>-123.099136</td>\n",
       "    </tr>\n",
       "    <tr>\n",
       "      <th>895</th>\n",
       "      <td>V7P 3C4</td>\n",
       "      <td>49.324003</td>\n",
       "      <td>-123.102155</td>\n",
       "    </tr>\n",
       "    <tr>\n",
       "      <th>896</th>\n",
       "      <td>V7P 3J6</td>\n",
       "      <td>49.320444</td>\n",
       "      <td>-123.104370</td>\n",
       "    </tr>\n",
       "    <tr>\n",
       "      <th>897</th>\n",
       "      <td>V7P 3N4</td>\n",
       "      <td>49.318579</td>\n",
       "      <td>-123.100499</td>\n",
       "    </tr>\n",
       "    <tr>\n",
       "      <th>898</th>\n",
       "      <td>V7P 3N9</td>\n",
       "      <td>49.324339</td>\n",
       "      <td>-123.096906</td>\n",
       "    </tr>\n",
       "    <tr>\n",
       "      <th>899</th>\n",
       "      <td>V7P 3P3</td>\n",
       "      <td>49.321423</td>\n",
       "      <td>-123.104092</td>\n",
       "    </tr>\n",
       "    <tr>\n",
       "      <th>900</th>\n",
       "      <td>V7P 3P7</td>\n",
       "      <td>49.319701</td>\n",
       "      <td>-123.099779</td>\n",
       "    </tr>\n",
       "    <tr>\n",
       "      <th>901</th>\n",
       "      <td>V7P 3P9</td>\n",
       "      <td>49.319833</td>\n",
       "      <td>-123.098540</td>\n",
       "    </tr>\n",
       "    <tr>\n",
       "      <th>902</th>\n",
       "      <td>V7P 3R8</td>\n",
       "      <td>49.316583</td>\n",
       "      <td>-123.097866</td>\n",
       "    </tr>\n",
       "    <tr>\n",
       "      <th>903</th>\n",
       "      <td>V7P 3T8</td>\n",
       "      <td>49.314821</td>\n",
       "      <td>-123.098368</td>\n",
       "    </tr>\n",
       "    <tr>\n",
       "      <th>904</th>\n",
       "      <td>V7R 4K9</td>\n",
       "      <td>49.375186</td>\n",
       "      <td>-123.091565</td>\n",
       "    </tr>\n",
       "    <tr>\n",
       "      <th>905</th>\n",
       "      <td>V7R 4T8</td>\n",
       "      <td>49.366939</td>\n",
       "      <td>-123.096723</td>\n",
       "    </tr>\n",
       "    <tr>\n",
       "      <th>906</th>\n",
       "      <td>V7R 4W1</td>\n",
       "      <td>49.369222</td>\n",
       "      <td>-123.098477</td>\n",
       "    </tr>\n",
       "    <tr>\n",
       "      <th>907</th>\n",
       "      <td>V7Y 0A1</td>\n",
       "      <td>49.283235</td>\n",
       "      <td>-123.117764</td>\n",
       "    </tr>\n",
       "    <tr>\n",
       "      <th>908</th>\n",
       "      <td>V7Y 1K8</td>\n",
       "      <td>49.282374</td>\n",
       "      <td>-123.119608</td>\n",
       "    </tr>\n",
       "    <tr>\n",
       "      <th>909</th>\n",
       "      <td>V6K 4R5</td>\n",
       "      <td>49.260333</td>\n",
       "      <td>-123.172042</td>\n",
       "    </tr>\n",
       "    <tr>\n",
       "      <th>910</th>\n",
       "      <td>V5P 0B8</td>\n",
       "      <td>49.222518</td>\n",
       "      <td>-123.071124</td>\n",
       "    </tr>\n",
       "    <tr>\n",
       "      <th>911</th>\n",
       "      <td>V5W 1Y5</td>\n",
       "      <td>49.228946</td>\n",
       "      <td>-123.083268</td>\n",
       "    </tr>\n",
       "    <tr>\n",
       "      <th>912</th>\n",
       "      <td>V6S 2L2</td>\n",
       "      <td>49.256128</td>\n",
       "      <td>-123.233788</td>\n",
       "    </tr>\n",
       "    <tr>\n",
       "      <th>913</th>\n",
       "      <td>V5M 3W5</td>\n",
       "      <td>49.268196</td>\n",
       "      <td>-123.031094</td>\n",
       "    </tr>\n",
       "    <tr>\n",
       "      <th>914</th>\n",
       "      <td>V5V 3Y1</td>\n",
       "      <td>49.252350</td>\n",
       "      <td>-123.096873</td>\n",
       "    </tr>\n",
       "    <tr>\n",
       "      <th>915</th>\n",
       "      <td>V6R 4M7</td>\n",
       "      <td>49.261552</td>\n",
       "      <td>-123.191085</td>\n",
       "    </tr>\n",
       "    <tr>\n",
       "      <th>916</th>\n",
       "      <td>V5R 5T9</td>\n",
       "      <td>49.248534</td>\n",
       "      <td>-123.031232</td>\n",
       "    </tr>\n",
       "    <tr>\n",
       "      <th>917</th>\n",
       "      <td>V5V 5E4</td>\n",
       "      <td>49.247467</td>\n",
       "      <td>-123.095766</td>\n",
       "    </tr>\n",
       "    <tr>\n",
       "      <th>918</th>\n",
       "      <td>V3L 3H3</td>\n",
       "      <td>49.226819</td>\n",
       "      <td>-122.911464</td>\n",
       "    </tr>\n",
       "    <tr>\n",
       "      <th>919</th>\n",
       "      <td>V5S 3H2</td>\n",
       "      <td>49.225271</td>\n",
       "      <td>-123.036794</td>\n",
       "    </tr>\n",
       "    <tr>\n",
       "      <th>920</th>\n",
       "      <td>V6N 1P1</td>\n",
       "      <td>49.237889</td>\n",
       "      <td>-123.178394</td>\n",
       "    </tr>\n",
       "    <tr>\n",
       "      <th>921</th>\n",
       "      <td>V3L 3Z5</td>\n",
       "      <td>49.228277</td>\n",
       "      <td>-122.895969</td>\n",
       "    </tr>\n",
       "    <tr>\n",
       "      <th>922</th>\n",
       "      <td>V6N 1B5</td>\n",
       "      <td>49.241118</td>\n",
       "      <td>-123.165794</td>\n",
       "    </tr>\n",
       "    <tr>\n",
       "      <th>923</th>\n",
       "      <td>V5M 0G4</td>\n",
       "      <td>49.255220</td>\n",
       "      <td>-123.055050</td>\n",
       "    </tr>\n",
       "  </tbody>\n",
       "</table>\n",
       "<p>924 rows × 3 columns</p>\n",
       "</div>"
      ],
      "text/plain": [
       "        zone        lat         log\n",
       "0      14340  34.184386 -118.445851\n",
       "1      14430  34.148527 -118.447572\n",
       "2      14640  47.632604 -122.143808\n",
       "3    V3L 1M6  49.209934 -122.912854\n",
       "4    V3L 1P2  49.211574 -122.914376\n",
       "5    V3L 1P3  49.210620 -122.916248\n",
       "6    V3L 1T8  49.214772 -122.916844\n",
       "7    V3L 1V3  49.213286 -122.919269\n",
       "8    V3L 1V9  49.219355 -122.913324\n",
       "9    V3L 1W6  49.215750 -122.920154\n",
       "10   V3L 1X7  49.220534 -122.915178\n",
       "11   V3L 2E2  49.220273 -122.914056\n",
       "12   V3L 2H3  49.218242 -122.912647\n",
       "13   V3L 2J4  49.222821 -122.919109\n",
       "14   V3L 2L4  49.213981 -122.911285\n",
       "15   V3L 2M2  49.216316 -122.913404\n",
       "16   V3L 2V4  49.212351 -122.915548\n",
       "17   V3L 2W1  49.215782 -122.918947\n",
       "18   V3L 3G9  49.223210 -122.906819\n",
       "19   V3L 3Z7  49.228988 -122.895963\n",
       "20   V3L 4A7  49.235013 -122.895416\n",
       "21   V3L 4C8  49.233685 -122.898596\n",
       "22   V3L 4G6  49.220909 -122.907085\n",
       "23   V3L 4J1  49.224859 -122.905543\n",
       "24   V3L 4K1  49.226226 -122.905148\n",
       "25   V3L 4K4  49.227376 -122.903218\n",
       "26   V3L 4M1  49.225993 -122.912801\n",
       "27   V3L 4N5  49.231533 -122.902414\n",
       "28   V3L 4N7  49.227145 -122.907677\n",
       "29   V3L 4R5  49.226774 -122.912576\n",
       "..       ...        ...         ...\n",
       "894  V7P 2M3  49.328977 -123.099136\n",
       "895  V7P 3C4  49.324003 -123.102155\n",
       "896  V7P 3J6  49.320444 -123.104370\n",
       "897  V7P 3N4  49.318579 -123.100499\n",
       "898  V7P 3N9  49.324339 -123.096906\n",
       "899  V7P 3P3  49.321423 -123.104092\n",
       "900  V7P 3P7  49.319701 -123.099779\n",
       "901  V7P 3P9  49.319833 -123.098540\n",
       "902  V7P 3R8  49.316583 -123.097866\n",
       "903  V7P 3T8  49.314821 -123.098368\n",
       "904  V7R 4K9  49.375186 -123.091565\n",
       "905  V7R 4T8  49.366939 -123.096723\n",
       "906  V7R 4W1  49.369222 -123.098477\n",
       "907  V7Y 0A1  49.283235 -123.117764\n",
       "908  V7Y 1K8  49.282374 -123.119608\n",
       "909  V6K 4R5  49.260333 -123.172042\n",
       "910  V5P 0B8  49.222518 -123.071124\n",
       "911  V5W 1Y5  49.228946 -123.083268\n",
       "912  V6S 2L2  49.256128 -123.233788\n",
       "913  V5M 3W5  49.268196 -123.031094\n",
       "914  V5V 3Y1  49.252350 -123.096873\n",
       "915  V6R 4M7  49.261552 -123.191085\n",
       "916  V5R 5T9  49.248534 -123.031232\n",
       "917  V5V 5E4  49.247467 -123.095766\n",
       "918  V3L 3H3  49.226819 -122.911464\n",
       "919  V5S 3H2  49.225271 -123.036794\n",
       "920  V6N 1P1  49.237889 -123.178394\n",
       "921  V3L 3Z5  49.228277 -122.895969\n",
       "922  V6N 1B5  49.241118 -123.165794\n",
       "923  V5M 0G4  49.255220 -123.055050\n",
       "\n",
       "[924 rows x 3 columns]"
      ]
     },
     "execution_count": 81,
     "metadata": {},
     "output_type": "execute_result"
    }
   ],
   "source": [
    "lat_long_df = pd.read_sql_query(\"select * from zone_lat_log;\", Sql_connection2)\n",
    "lat_long_df"
   ]
  },
  {
   "cell_type": "code",
   "execution_count": 79,
   "metadata": {},
   "outputs": [
    {
     "name": "stdout",
     "output_type": "stream",
     "text": [
      "[('zone_lat_log',)]\n"
     ]
    }
   ],
   "source": [
    "cursor = Sql_connection2.cursor()\n",
    "cursor.execute(\"SELECT name FROM sqlite_master WHERE type='table';\")\n",
    "print(cursor.fetchall())"
   ]
  },
  {
   "cell_type": "code",
   "execution_count": 108,
   "metadata": {},
   "outputs": [
    {
     "ename": "IndexError",
     "evalue": "index 0 is out of bounds for axis 0 with size 0",
     "output_type": "error",
     "traceback": [
      "\u001b[0;31m---------------------------------------------------------------------------\u001b[0m",
      "\u001b[0;31mIndexError\u001b[0m                                Traceback (most recent call last)",
      "\u001b[0;32m<ipython-input-108-8a0d2f512e63>\u001b[0m in \u001b[0;36m<module>\u001b[0;34m\u001b[0m\n\u001b[1;32m      1\u001b[0m \u001b[0mzone\u001b[0m\u001b[0;34m=\u001b[0m\u001b[0;34m'V6B 2J2'\u001b[0m\u001b[0;34m\u001b[0m\u001b[0m\n\u001b[0;32m----> 2\u001b[0;31m \u001b[0mlat_long_df\u001b[0m\u001b[0;34m[\u001b[0m\u001b[0mlat_long_df\u001b[0m\u001b[0;34m[\u001b[0m\u001b[0;34m'zone'\u001b[0m\u001b[0;34m]\u001b[0m\u001b[0;34m.\u001b[0m\u001b[0mstr\u001b[0m\u001b[0;34m.\u001b[0m\u001b[0mcontains\u001b[0m\u001b[0;34m(\u001b[0m\u001b[0mzone\u001b[0m\u001b[0;34m)\u001b[0m\u001b[0;34m]\u001b[0m\u001b[0;34m[\u001b[0m\u001b[0;34m'lat'\u001b[0m\u001b[0;34m]\u001b[0m\u001b[0;34m.\u001b[0m\u001b[0mvalues\u001b[0m\u001b[0;34m[\u001b[0m\u001b[0;36m0\u001b[0m\u001b[0;34m]\u001b[0m\u001b[0;34m,\u001b[0m\u001b[0mlat_long_df\u001b[0m\u001b[0;34m[\u001b[0m\u001b[0mlat_long_df\u001b[0m\u001b[0;34m[\u001b[0m\u001b[0;34m'zone'\u001b[0m\u001b[0;34m]\u001b[0m\u001b[0;34m.\u001b[0m\u001b[0mstr\u001b[0m\u001b[0;34m.\u001b[0m\u001b[0mcontains\u001b[0m\u001b[0;34m(\u001b[0m\u001b[0mzone\u001b[0m\u001b[0;34m)\u001b[0m\u001b[0;34m]\u001b[0m\u001b[0;34m[\u001b[0m\u001b[0;34m'log'\u001b[0m\u001b[0;34m]\u001b[0m\u001b[0;34m.\u001b[0m\u001b[0mvalues\u001b[0m\u001b[0;34m[\u001b[0m\u001b[0;36m0\u001b[0m\u001b[0;34m]\u001b[0m\u001b[0;34m\u001b[0m\u001b[0m\n\u001b[0m",
      "\u001b[0;31mIndexError\u001b[0m: index 0 is out of bounds for axis 0 with size 0"
     ]
    }
   ],
   "source": [
    "zone='V6B 2J2'\n",
    "lat_long_df[lat_long_df['zone'].str.contains(zone)]['lat'].values[0],lat_long_df[lat_long_df['zone'].str.contains(zone)]['log'].values[0]"
   ]
  },
  {
   "cell_type": "code",
   "execution_count": 2,
   "metadata": {},
   "outputs": [],
   "source": [
    "import re\n",
    "import sqlite3\n",
    "import numpy\n",
    "import pandas as pd\n",
    "import os\n",
    "from sqlite3 import Error\n",
    "import glob\n",
    "import pickle\n",
    "import json\n",
    "from collections import defaultdict\n",
    "\n",
    "class forecasting():\n",
    "\n",
    "    def __init__(self):\n",
    "\n",
    "        self.zones_list = pd.read_csv('zones_list.csv')\n",
    "        self.Sql_connection1 = self.create_connection('/opt/apps/scripts/jaarvis_demand_supply/zone_lat_log.db')\n",
    "        self.lat_long_df = pd.read_sql_query(\"select * from zone_lat_log;\", self.Sql_connection1)\n",
    "        self.path1 = '/opt/apps/Jaarvis_Demand_Supply/demand_models'\n",
    "        self.path2 = '/opt/apps/Jaarvis_Demand_Supply/available_models'\n",
    "\n",
    "    def create_connection(self, db_file):\n",
    "        \"\"\" create a database connection to the SQLite database\n",
    "            specified by the db_file\n",
    "        :param db_file: database file\n",
    "        :return: Connection object or None\n",
    "        \"\"\"\n",
    "        try:\n",
    "            conn = sqlite3.connect(db_file)\n",
    "            return conn\n",
    "        except Error as e:\n",
    "            print(e)\n",
    "        return None\n",
    "\n",
    "    def forecaster(self):\n",
    "\n",
    "        booked = defaultdict(dict)\n",
    "        available = defaultdict(dict)\n",
    "        demand = defaultdict(dict)\n",
    "        for x in glob.glob(os.path.join(self.path1, '*.pkl')):\n",
    "            try:\n",
    "                model_book = pickle.load(open(x, 'rb'))\n",
    "                zone = re.findall('[a-zA-Z]\\d[a-zA-Z]\\s{0,1}\\d{0,1}[a-zA-Z]{0,1}\\d{0,1}', x)[0]\n",
    "                # print(zone)\n",
    "                demand[zone]['booked'] = [0 if i < 0 else i for i in numpy.ceil((model_book.forecast(24)))]\n",
    "                # print(self.lat_long_df[self.lat_long_df['zone'].str.contains(zone)]['lat'].values[0],\n",
    "                #       self.lat_long_df[self.lat_long_df['zone'].str.contains(zone)]['log'].values[0])\n",
    "                demand[zone]['lat_long'] = self.lat_long_df[self.lat_long_df['zone'].str.contains(zone)]['lat'].values[0], \\\n",
    "                                           self.lat_long_df[self.lat_long_df['zone'].str.contains(zone)]['log'].values[0]\n",
    "            except:\n",
    "                # print('problem with zone ' + zone)\n",
    "                pass\n",
    "        for y in glob.glob(os.path.join(self.path2, '*.pkl')):\n",
    "            try:\n",
    "                model_free = pickle.load(open(y, 'rb'))\n",
    "                zone = re.findall('[a-zA-Z]\\d[a-zA-Z]\\s{0,1}\\d{0,1}[a-zA-Z]{0,1}\\d{0,1}', y)[0]\n",
    "                # print(zone)\n",
    "                demand[zone]['available'] = [0 if i < 0 else i for i in numpy.ceil((model_free.forecast(24)))]\n",
    "                # print(self.lat_long_df[self.lat_long_df['zone'].str.contains(zone)]['lat'].values[0],\n",
    "                #       self.lat_long_df[self.lat_long_df['zone'].str.contains(zone)]['log'].values[0])\n",
    "                demand[zone]['lat_long'] = self.lat_long_df[self.lat_long_df['zone'].str.contains(zone)]['lat'].values[0], \\\n",
    "                                           self.lat_long_df[self.lat_long_df['zone'].str.contains(zone)]['log'].values[0]\n",
    "\n",
    "            except:\n",
    "                # print('problem with zone ' + zone)\n",
    "                pass\n",
    "        # demand['booked'] = booked\n",
    "        # demand['available'] = available\n",
    "        data = json.dumps(demand)\n",
    "        with open('demand.json', 'w') as f:\n",
    "            f.write(data)\n",
    "\n",
    "forecastingObj = forecasting()\n",
    "forecastingObj.forecaster()"
   ]
  },
  {
   "cell_type": "code",
   "execution_count": 8,
   "metadata": {},
   "outputs": [
    {
     "data": {
      "text/html": [
       "<div>\n",
       "<style scoped>\n",
       "    .dataframe tbody tr th:only-of-type {\n",
       "        vertical-align: middle;\n",
       "    }\n",
       "\n",
       "    .dataframe tbody tr th {\n",
       "        vertical-align: top;\n",
       "    }\n",
       "\n",
       "    .dataframe thead th {\n",
       "        text-align: right;\n",
       "    }\n",
       "</style>\n",
       "<table border=\"1\" class=\"dataframe\">\n",
       "  <thead>\n",
       "    <tr style=\"text-align: right;\">\n",
       "      <th></th>\n",
       "      <th>V1M 2R6</th>\n",
       "      <th>V1M 3G1</th>\n",
       "      <th>V2J 3A9</th>\n",
       "      <th>V3C 2S9</th>\n",
       "      <th>V3J 3Z9</th>\n",
       "      <th>V3L 0C9</th>\n",
       "      <th>V3L 0E3</th>\n",
       "      <th>V3L 0E7</th>\n",
       "      <th>V3L 0H4</th>\n",
       "      <th>V3L 1A7</th>\n",
       "      <th>...</th>\n",
       "      <th>V7N 1X1</th>\n",
       "      <th>V7P</th>\n",
       "      <th>V7P 1E4</th>\n",
       "      <th>V7P 1S2</th>\n",
       "      <th>V7R 4L9</th>\n",
       "      <th>V7R 4P6</th>\n",
       "      <th>V7X</th>\n",
       "      <th>V7Y</th>\n",
       "      <th>V7Y 1E8</th>\n",
       "      <th>V7Y 1G5</th>\n",
       "    </tr>\n",
       "  </thead>\n",
       "  <tbody>\n",
       "    <tr>\n",
       "      <th>available</th>\n",
       "      <td>[-0.0, 1.0, -0.0, -0.0, -0.0, -0.0, -0.0, -0.0...</td>\n",
       "      <td>[-0.0, -0.0, -0.0, -0.0, -0.0, -0.0, -0.0, -0....</td>\n",
       "      <td>[-0.0, 1.0, -0.0, 1.0, -0.0, 1.0, -0.0, 1.0, -...</td>\n",
       "      <td>[1.0, 1.0, 2.0, 1.0, 1.0, 1.0, 1.0, 1.0, 1.0, ...</td>\n",
       "      <td>[-0.0, 1.0, 1.0, -0.0, 1.0, -0.0, 1.0, 1.0, 1....</td>\n",
       "      <td>[1.0, 1.0, 1.0, 1.0, 1.0, 1.0, 1.0, 1.0, 1.0, ...</td>\n",
       "      <td>[1.0, 1.0, 1.0, 1.0, 1.0, 1.0, 1.0, 1.0, 1.0, ...</td>\n",
       "      <td>[1.0, -0.0, 1.0, -0.0, 1.0, -0.0, 1.0, -0.0, 1...</td>\n",
       "      <td>[-0.0, -0.0, -0.0, -0.0, 1.0, 1.0, 1.0, -0.0, ...</td>\n",
       "      <td>[3.0, 1.0, -0.0, 1.0, -0.0, 1.0, -0.0, 1.0, -0...</td>\n",
       "      <td>...</td>\n",
       "      <td>[-0.0, 1.0, -0.0, 1.0, -0.0, -0.0, 1.0, -0.0, ...</td>\n",
       "      <td>[2.0, 2.0, -0.0, -0.0, 1.0, 1.0, -0.0, 1.0, -0...</td>\n",
       "      <td>NaN</td>\n",
       "      <td>[-0.0, -0.0, -0.0, -0.0, -0.0, -0.0, -0.0, -0....</td>\n",
       "      <td>[-0.0, -0.0, -0.0, -0.0, -0.0, -0.0, -0.0, -0....</td>\n",
       "      <td>[-0.0, -0.0, 1.0, -0.0, -0.0, -0.0, -0.0, -0.0...</td>\n",
       "      <td>[1.0, -0.0, -0.0, -0.0, -0.0, -0.0, -0.0, -0.0...</td>\n",
       "      <td>[1.0, 1.0, -0.0, -0.0, -0.0, 1.0, -0.0, 2.0, -...</td>\n",
       "      <td>[-0.0, 1.0, -0.0, 1.0, -0.0, 1.0, 1.0, -0.0, 1...</td>\n",
       "      <td>[-0.0, 1.0, 1.0, 1.0, -0.0, -0.0, -0.0, -0.0, ...</td>\n",
       "    </tr>\n",
       "    <tr>\n",
       "      <th>booked</th>\n",
       "      <td>[-0.0, 1.0, -0.0, -0.0, 1.0, 1.0, 1.0, -0.0, -...</td>\n",
       "      <td>[-0.0, 1.0, 1.0, 1.0, 1.0, 1.0, 1.0, 1.0, 1.0,...</td>\n",
       "      <td>[1.0, 1.0, 1.0, 1.0, 1.0, 1.0, 1.0, 1.0, -0.0,...</td>\n",
       "      <td>[-0.0, -0.0, 1.0, 1.0, -0.0, -0.0, -0.0, -0.0,...</td>\n",
       "      <td>[-0.0, 1.0, 1.0, -0.0, 1.0, -0.0, 1.0, 1.0, 1....</td>\n",
       "      <td>NaN</td>\n",
       "      <td>[-0.0, 1.0, -0.0, 1.0, -0.0, 1.0, 1.0, 1.0, -0...</td>\n",
       "      <td>[-0.0, -0.0, -0.0, -0.0, -0.0, -0.0, -0.0, -0....</td>\n",
       "      <td>[-0.0, 1.0, -0.0, -0.0, -0.0, -0.0, -0.0, -0.0...</td>\n",
       "      <td>[2.0, 1.0, 1.0, -0.0, 1.0, -0.0, -0.0, -0.0, -...</td>\n",
       "      <td>...</td>\n",
       "      <td>[1.0, 1.0, 1.0, 1.0, 1.0, 1.0, 1.0, 1.0, 1.0, ...</td>\n",
       "      <td>[5.0, 2.0, 1.0, 2.0, -0.0, -0.0, -0.0, 1.0, 1....</td>\n",
       "      <td>[1.0, -0.0, 1.0, -0.0, 1.0, -0.0, 1.0, -0.0, 1...</td>\n",
       "      <td>[-0.0, -0.0, -0.0, -0.0, -0.0, -0.0, -0.0, -0....</td>\n",
       "      <td>[-0.0, 1.0, -0.0, 1.0, -0.0, 1.0, -0.0, 1.0, -...</td>\n",
       "      <td>[7.0, 2.0, 1.0, 1.0, 1.0, 1.0, 1.0, 1.0, 1.0, ...</td>\n",
       "      <td>NaN</td>\n",
       "      <td>[3.0, 1.0, 1.0, -0.0, 1.0, 1.0, 1.0, -0.0, 1.0...</td>\n",
       "      <td>[-0.0, 1.0, -0.0, 1.0, -0.0, 1.0, -0.0, 1.0, -...</td>\n",
       "      <td>[1.0, 1.0, 1.0, 2.0, -0.0, -0.0, 1.0, -0.0, -0...</td>\n",
       "    </tr>\n",
       "    <tr>\n",
       "      <th>lat_long</th>\n",
       "      <td>[49.165906, -122.5705149]</td>\n",
       "      <td>[49.1810513, -122.6609925]</td>\n",
       "      <td>[52.9752637, -122.4735091]</td>\n",
       "      <td>[49.2448805, -122.7759246]</td>\n",
       "      <td>[49.2686959, -122.8868533]</td>\n",
       "      <td>[49.20871469999999, -122.9150029]</td>\n",
       "      <td>[49.2241052, -122.8923865]</td>\n",
       "      <td>[49.216698, -122.900781]</td>\n",
       "      <td>[49.2209898, -122.8990775]</td>\n",
       "      <td>[49.205517, -122.9039549]</td>\n",
       "      <td>...</td>\n",
       "      <td>[49.3363104, -123.0671135]</td>\n",
       "      <td>[49.3237588, -123.0982218]</td>\n",
       "      <td>[49.32001349999999, -123.1012908]</td>\n",
       "      <td>[49.322799, -123.1000967]</td>\n",
       "      <td>[49.3617317, -123.0929994]</td>\n",
       "      <td>[49.3654904, -123.1009431]</td>\n",
       "      <td>[49.2860035, -123.1193761]</td>\n",
       "      <td>[49.2832353, -123.1177638]</td>\n",
       "      <td>[49.2830972, -123.1175032]</td>\n",
       "      <td>[49.2830972, -123.1175032]</td>\n",
       "    </tr>\n",
       "  </tbody>\n",
       "</table>\n",
       "<p>3 rows × 532 columns</p>\n",
       "</div>"
      ],
      "text/plain": [
       "                                                     V1M 2R6  \\\n",
       "available  [-0.0, 1.0, -0.0, -0.0, -0.0, -0.0, -0.0, -0.0...   \n",
       "booked     [-0.0, 1.0, -0.0, -0.0, 1.0, 1.0, 1.0, -0.0, -...   \n",
       "lat_long                           [49.165906, -122.5705149]   \n",
       "\n",
       "                                                     V1M 3G1  \\\n",
       "available  [-0.0, -0.0, -0.0, -0.0, -0.0, -0.0, -0.0, -0....   \n",
       "booked     [-0.0, 1.0, 1.0, 1.0, 1.0, 1.0, 1.0, 1.0, 1.0,...   \n",
       "lat_long                          [49.1810513, -122.6609925]   \n",
       "\n",
       "                                                     V2J 3A9  \\\n",
       "available  [-0.0, 1.0, -0.0, 1.0, -0.0, 1.0, -0.0, 1.0, -...   \n",
       "booked     [1.0, 1.0, 1.0, 1.0, 1.0, 1.0, 1.0, 1.0, -0.0,...   \n",
       "lat_long                          [52.9752637, -122.4735091]   \n",
       "\n",
       "                                                     V3C 2S9  \\\n",
       "available  [1.0, 1.0, 2.0, 1.0, 1.0, 1.0, 1.0, 1.0, 1.0, ...   \n",
       "booked     [-0.0, -0.0, 1.0, 1.0, -0.0, -0.0, -0.0, -0.0,...   \n",
       "lat_long                          [49.2448805, -122.7759246]   \n",
       "\n",
       "                                                     V3J 3Z9  \\\n",
       "available  [-0.0, 1.0, 1.0, -0.0, 1.0, -0.0, 1.0, 1.0, 1....   \n",
       "booked     [-0.0, 1.0, 1.0, -0.0, 1.0, -0.0, 1.0, 1.0, 1....   \n",
       "lat_long                          [49.2686959, -122.8868533]   \n",
       "\n",
       "                                                     V3L 0C9  \\\n",
       "available  [1.0, 1.0, 1.0, 1.0, 1.0, 1.0, 1.0, 1.0, 1.0, ...   \n",
       "booked                                                   NaN   \n",
       "lat_long                   [49.20871469999999, -122.9150029]   \n",
       "\n",
       "                                                     V3L 0E3  \\\n",
       "available  [1.0, 1.0, 1.0, 1.0, 1.0, 1.0, 1.0, 1.0, 1.0, ...   \n",
       "booked     [-0.0, 1.0, -0.0, 1.0, -0.0, 1.0, 1.0, 1.0, -0...   \n",
       "lat_long                          [49.2241052, -122.8923865]   \n",
       "\n",
       "                                                     V3L 0E7  \\\n",
       "available  [1.0, -0.0, 1.0, -0.0, 1.0, -0.0, 1.0, -0.0, 1...   \n",
       "booked     [-0.0, -0.0, -0.0, -0.0, -0.0, -0.0, -0.0, -0....   \n",
       "lat_long                            [49.216698, -122.900781]   \n",
       "\n",
       "                                                     V3L 0H4  \\\n",
       "available  [-0.0, -0.0, -0.0, -0.0, 1.0, 1.0, 1.0, -0.0, ...   \n",
       "booked     [-0.0, 1.0, -0.0, -0.0, -0.0, -0.0, -0.0, -0.0...   \n",
       "lat_long                          [49.2209898, -122.8990775]   \n",
       "\n",
       "                                                     V3L 1A7  \\\n",
       "available  [3.0, 1.0, -0.0, 1.0, -0.0, 1.0, -0.0, 1.0, -0...   \n",
       "booked     [2.0, 1.0, 1.0, -0.0, 1.0, -0.0, -0.0, -0.0, -...   \n",
       "lat_long                           [49.205517, -122.9039549]   \n",
       "\n",
       "                                 ...                          \\\n",
       "available                        ...                           \n",
       "booked                           ...                           \n",
       "lat_long                         ...                           \n",
       "\n",
       "                                                     V7N 1X1  \\\n",
       "available  [-0.0, 1.0, -0.0, 1.0, -0.0, -0.0, 1.0, -0.0, ...   \n",
       "booked     [1.0, 1.0, 1.0, 1.0, 1.0, 1.0, 1.0, 1.0, 1.0, ...   \n",
       "lat_long                          [49.3363104, -123.0671135]   \n",
       "\n",
       "                                                         V7P  \\\n",
       "available  [2.0, 2.0, -0.0, -0.0, 1.0, 1.0, -0.0, 1.0, -0...   \n",
       "booked     [5.0, 2.0, 1.0, 2.0, -0.0, -0.0, -0.0, 1.0, 1....   \n",
       "lat_long                          [49.3237588, -123.0982218]   \n",
       "\n",
       "                                                     V7P 1E4  \\\n",
       "available                                                NaN   \n",
       "booked     [1.0, -0.0, 1.0, -0.0, 1.0, -0.0, 1.0, -0.0, 1...   \n",
       "lat_long                   [49.32001349999999, -123.1012908]   \n",
       "\n",
       "                                                     V7P 1S2  \\\n",
       "available  [-0.0, -0.0, -0.0, -0.0, -0.0, -0.0, -0.0, -0....   \n",
       "booked     [-0.0, -0.0, -0.0, -0.0, -0.0, -0.0, -0.0, -0....   \n",
       "lat_long                           [49.322799, -123.1000967]   \n",
       "\n",
       "                                                     V7R 4L9  \\\n",
       "available  [-0.0, -0.0, -0.0, -0.0, -0.0, -0.0, -0.0, -0....   \n",
       "booked     [-0.0, 1.0, -0.0, 1.0, -0.0, 1.0, -0.0, 1.0, -...   \n",
       "lat_long                          [49.3617317, -123.0929994]   \n",
       "\n",
       "                                                     V7R 4P6  \\\n",
       "available  [-0.0, -0.0, 1.0, -0.0, -0.0, -0.0, -0.0, -0.0...   \n",
       "booked     [7.0, 2.0, 1.0, 1.0, 1.0, 1.0, 1.0, 1.0, 1.0, ...   \n",
       "lat_long                          [49.3654904, -123.1009431]   \n",
       "\n",
       "                                                         V7X  \\\n",
       "available  [1.0, -0.0, -0.0, -0.0, -0.0, -0.0, -0.0, -0.0...   \n",
       "booked                                                   NaN   \n",
       "lat_long                          [49.2860035, -123.1193761]   \n",
       "\n",
       "                                                         V7Y  \\\n",
       "available  [1.0, 1.0, -0.0, -0.0, -0.0, 1.0, -0.0, 2.0, -...   \n",
       "booked     [3.0, 1.0, 1.0, -0.0, 1.0, 1.0, 1.0, -0.0, 1.0...   \n",
       "lat_long                          [49.2832353, -123.1177638]   \n",
       "\n",
       "                                                     V7Y 1E8  \\\n",
       "available  [-0.0, 1.0, -0.0, 1.0, -0.0, 1.0, 1.0, -0.0, 1...   \n",
       "booked     [-0.0, 1.0, -0.0, 1.0, -0.0, 1.0, -0.0, 1.0, -...   \n",
       "lat_long                          [49.2830972, -123.1175032]   \n",
       "\n",
       "                                                     V7Y 1G5  \n",
       "available  [-0.0, 1.0, 1.0, 1.0, -0.0, -0.0, -0.0, -0.0, ...  \n",
       "booked     [1.0, 1.0, 1.0, 2.0, -0.0, -0.0, 1.0, -0.0, -0...  \n",
       "lat_long                          [49.2830972, -123.1175032]  \n",
       "\n",
       "[3 rows x 532 columns]"
      ]
     },
     "execution_count": 8,
     "metadata": {},
     "output_type": "execute_result"
    }
   ],
   "source": [
    "pd.read_json('demand.json')"
   ]
  },
  {
   "cell_type": "code",
   "execution_count": null,
   "metadata": {},
   "outputs": [],
   "source": []
  }
 ],
 "metadata": {
  "kernelspec": {
   "display_name": "Python 3",
   "language": "python",
   "name": "python3"
  },
  "language_info": {
   "codemirror_mode": {
    "name": "ipython",
    "version": 3
   },
   "file_extension": ".py",
   "mimetype": "text/x-python",
   "name": "python",
   "nbconvert_exporter": "python",
   "pygments_lexer": "ipython3",
   "version": "3.5.2"
  }
 },
 "nbformat": 4,
 "nbformat_minor": 2
}
