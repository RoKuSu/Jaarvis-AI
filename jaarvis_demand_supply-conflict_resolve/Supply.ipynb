{
 "cells": [
  {
   "cell_type": "markdown",
   "metadata": {},
   "source": [
    "This is a recommender system built using K nearest neighbors"
   ]
  },
  {
   "cell_type": "code",
   "execution_count": 14,
   "metadata": {},
   "outputs": [],
   "source": [
    "#!/usr/bin/env python\n",
    "# coding: utf-8\n",
    "\n",
    "# general purpose libraries\n",
    "import platform\n",
    "import os\n",
    "import dateutil\n",
    "import itertools\n",
    "\n",
    "# database connection libraries\n",
    "import sqlite3\n",
    "from sqlite3 import Error\n",
    "\n",
    "# mathematics libraries\n",
    "import pandas as pd\n",
    "import numpy as np\n",
    "\n",
    "# ML libraries\n",
    "from sklearn.neighbors import KDTree                    # Nearest neighbors\n",
    "from sklearn.preprocessing import StandardScaler        # scales all values between a range \n",
    "from sklearn.model_selection import train_test_split    # cross-validation\n",
    "from tpot import TPOTRegressor                          # genetic algorithm implementation\n",
    "from sklearn.externals import joblib                    # model loading\n",
    "import pickle                                           # model saving\n",
    "\n",
    "# data visualisation libraries\n",
    "import matplotlib.pyplot as plt\n",
    "from mpl_toolkits.mplot3d import Axes3D"
   ]
  },
  {
   "cell_type": "markdown",
   "metadata": {},
   "source": [
    "this Function connects with the SQL DB"
   ]
  },
  {
   "cell_type": "code",
   "execution_count": 15,
   "metadata": {},
   "outputs": [],
   "source": [
    "def create_connection(db_file):\n",
    "        \"\"\" create a database connection to the SQLite database\n",
    "            specified by the db_file\n",
    "        :param db_file: database file\n",
    "        :return: Connection object or None\n",
    "        \"\"\"\n",
    "        try:\n",
    "            conn = sqlite3.connect(db_file)\n",
    "            return conn\n",
    "        except Error as e:\n",
    "            print(e)\n",
    "        return None"
   ]
  },
  {
   "cell_type": "markdown",
   "metadata": {},
   "source": [
    "Connecting all the DBs"
   ]
  },
  {
   "cell_type": "code",
   "execution_count": 49,
   "metadata": {},
   "outputs": [],
   "source": [
    "Sql_connection1 = create_connection('/opt/apps/scripts/jaarvis_demand_supply/evo.db')\n",
    "Sql_connection = create_connection('/opt/apps/scripts/jaarvis_demand_supply/zone_travel.db')\n",
    "Sql_connection2 = create_connection('/opt/apps/scripts/jaarvis_demand_supply/zone_lat_log.db')"
   ]
  },
  {
   "cell_type": "markdown",
   "metadata": {},
   "source": [
    "Here we are checking what tables are there in our DB"
   ]
  },
  {
   "cell_type": "code",
   "execution_count": 17,
   "metadata": {},
   "outputs": [
    {
     "name": "stdout",
     "output_type": "stream",
     "text": [
      "[('vehicles',), ('sqlite_sequence',), ('zones',), ('zone_technician',), ('zone_trip_avg',), ('zone_bound',)]\n"
     ]
    }
   ],
   "source": [
    "cursor = Sql_connection1.cursor()\n",
    "cursor.execute(\"SELECT name FROM sqlite_master WHERE type='table';\")\n",
    "print(cursor.fetchall())"
   ]
  },
  {
   "cell_type": "code",
   "execution_count": 18,
   "metadata": {},
   "outputs": [],
   "source": [
    "technician_db = pd.read_sql_query(\"select * from zone_technician;\", Sql_connection1)\n",
    "technician_db = technician_db.fillna(-9999)"
   ]
  },
  {
   "cell_type": "code",
   "execution_count": 19,
   "metadata": {},
   "outputs": [],
   "source": [
    "avg_trip_cost = pd.read_sql_query(\"select * from zone_trip_avg;\", Sql_connection1)\n"
   ]
  },
  {
   "cell_type": "code",
   "execution_count": 20,
   "metadata": {},
   "outputs": [],
   "source": [
    "zone_detail_df = pd.read_sql_query(\"select * from zone_travel_detail;\", Sql_connection)\n",
    "# zone_detail_df.head()"
   ]
  },
  {
   "cell_type": "markdown",
   "metadata": {},
   "source": [
    "Data Preprocessing"
   ]
  },
  {
   "cell_type": "code",
   "execution_count": 21,
   "metadata": {},
   "outputs": [],
   "source": [
    "temp = zone_detail_df.loc[zone_detail_df['to_zone'].isin(list(avg_trip_cost.zone.unique()))]\n",
    "temp = temp.loc[temp['from_zone'].isin(list(avg_trip_cost.zone.unique()))]\n",
    "\n",
    "zone_detail_df = temp"
   ]
  },
  {
   "cell_type": "code",
   "execution_count": 22,
   "metadata": {},
   "outputs": [],
   "source": [
    "avg_trip_cost.total_trips = avg_trip_cost.total_trips.astype(int)"
   ]
  },
  {
   "cell_type": "code",
   "execution_count": 23,
   "metadata": {},
   "outputs": [],
   "source": [
    "avg_trip_cost = avg_trip_cost.sort_values(by = 'zone')"
   ]
  },
  {
   "cell_type": "code",
   "execution_count": 24,
   "metadata": {},
   "outputs": [],
   "source": [
    "# bringing all DFs in same format so that they can be joined to pass to the ML model\n",
    "cost_diff=pd.DataFrame(list(itertools.product(avg_trip_cost.zone,avg_trip_cost.zone)),columns=['from_zone','to_zone'])\n",
    "dic = dict(zip(avg_trip_cost.zone,avg_trip_cost.avg_cost))\n",
    "cost_diff['cost_diff']=cost_diff.from_zone.map(dic)-cost_diff.to_zone.map(dic)\n",
    "cost_diff.head()\n",
    "\n",
    "cost_diff = cost_diff.fillna(-9999)"
   ]
  },
  {
   "cell_type": "code",
   "execution_count": 25,
   "metadata": {},
   "outputs": [],
   "source": [
    "# Missing values handling\n",
    "technician_db = technician_db.loc[technician_db['zone'].isin(list(avg_trip_cost.zone.unique()))]"
   ]
  },
  {
   "cell_type": "code",
   "execution_count": 26,
   "metadata": {},
   "outputs": [
    {
     "name": "stderr",
     "output_type": "stream",
     "text": [
      "/usr/local/lib/python3.5/dist-packages/pandas/core/indexing.py:189: SettingWithCopyWarning: \n",
      "A value is trying to be set on a copy of a slice from a DataFrame\n",
      "\n",
      "See the caveats in the documentation: http://pandas.pydata.org/pandas-docs/stable/indexing.html#indexing-view-versus-copy\n",
      "  self._setitem_with_indexer(indexer, value)\n"
     ]
    }
   ],
   "source": [
    "technician_db.avg.loc[technician_db['avg'] < 3 ] = -15\n",
    "technician_db.avg.loc[technician_db['avg'] > 10] = -1\n",
    "technician_db.avg.loc[technician_db['avg'] > 3] = 10\n",
    "technician_db.avg.loc[technician_db['avg'] == -1] = 0\n",
    "\n",
    "technician_db = technician_db.fillna(-9999)"
   ]
  },
  {
   "cell_type": "code",
   "execution_count": 27,
   "metadata": {},
   "outputs": [],
   "source": [
    "# missing_zones = pd.DataFrame({'id':[],'avg':[],'zone':[],'from_time':[],'to_time':[]})\n",
    "# missing_zones.zone= avg_trip_cost.zone[~avg_trip_cost.zone.isin(technician_db.zone)]"
   ]
  },
  {
   "cell_type": "code",
   "execution_count": 28,
   "metadata": {},
   "outputs": [],
   "source": [
    "# temp_df = pd.concat([technician_db,missing_zones],ignore_index=True)"
   ]
  },
  {
   "cell_type": "code",
   "execution_count": 29,
   "metadata": {},
   "outputs": [],
   "source": [
    "technician_db = technician_db.drop_duplicates('zone', keep='last')"
   ]
  },
  {
   "cell_type": "code",
   "execution_count": 30,
   "metadata": {},
   "outputs": [],
   "source": [
    "import itertools\n",
    "tech_diff=pd.DataFrame(list(itertools.product(technician_db.zone,technician_db.zone)),columns=['from_zone','to_zone'])\n",
    "dic = dict(zip(technician_db.zone,technician_db.avg))\n",
    "tech_diff['tech_diff']=tech_diff.from_zone.map(dic)\n",
    "\n",
    "tech_diff = tech_diff.fillna(-9999)\n",
    "\n"
   ]
  },
  {
   "cell_type": "code",
   "execution_count": 31,
   "metadata": {},
   "outputs": [],
   "source": [
    "# final DF after data preprocessing & cleaning & joining\n",
    "supply_df = pd.merge(zone_detail_df, tech_diff,  how='left', left_on=['from_zone','to_zone'], right_on = ['from_zone','to_zone'])\n",
    "supply_df = pd.merge(supply_df,cost_diff ,  how='left', left_on=['from_zone','to_zone'], right_on = ['from_zone','to_zone'])\n",
    "supply_df = supply_df.fillna(-9999)"
   ]
  },
  {
   "cell_type": "code",
   "execution_count": 32,
   "metadata": {},
   "outputs": [],
   "source": [
    "supply_df['vector'] = list(map(list,(zip(supply_df.kilometers,supply_df.minutes,supply_df.cost_diff,supply_df.tech_diff))))"
   ]
  },
  {
   "cell_type": "code",
   "execution_count": 33,
   "metadata": {},
   "outputs": [],
   "source": [
    "supply_pivot_df = pd.pivot_table(supply_df,values=['vector'],index=['from_zone'],columns=['to_zone'],aggfunc='first')"
   ]
  },
  {
   "cell_type": "code",
   "execution_count": 34,
   "metadata": {},
   "outputs": [],
   "source": [
    "supply_pivot_df = supply_pivot_df.vector"
   ]
  },
  {
   "cell_type": "code",
   "execution_count": 35,
   "metadata": {},
   "outputs": [],
   "source": [
    "supply_pivot_df = supply_pivot_df.sort_index()\n",
    "supply_pivot_df = supply_pivot_df[supply_pivot_df.columns.sort_values()]\n"
   ]
  },
  {
   "cell_type": "code",
   "execution_count": 36,
   "metadata": {},
   "outputs": [],
   "source": [
    "supply_pivot_df=supply_pivot_df.applymap(lambda x: [-9999,-9999,-9999,-9999] if x is np.nan else x)\n",
    "supply_pivot_df = supply_pivot_df[supply_pivot_df.index.isin(supply_pivot_df.columns)]\n",
    "supply_pivot_df = supply_pivot_df.loc[:, supply_pivot_df.columns.isin(supply_pivot_df.index)]"
   ]
  },
  {
   "cell_type": "code",
   "execution_count": 37,
   "metadata": {},
   "outputs": [],
   "source": [
    "for i in range(supply_pivot_df.shape[0]):\n",
    "    supply_pivot_df.iloc[i,i]=[0,0,0,0]"
   ]
  },
  {
   "cell_type": "markdown",
   "metadata": {},
   "source": [
    "weighted_score = time*x1+distance*x2+average_trip_cost*x3+no_of_tech*x4+cost_of_relocating*x5+hot_zone*x6+supply gap*x7"
   ]
  },
  {
   "cell_type": "markdown",
   "metadata": {},
   "source": [
    "Garstin_Bastion = "
   ]
  },
  {
   "cell_type": "code",
   "execution_count": 59,
   "metadata": {},
   "outputs": [],
   "source": [
    "import json\n",
    "\n",
    "# def nearest_neighbors():\n",
    "from sklearn.neighbors import KDTree\n",
    "from collections import defaultdict\n",
    "neighbor_dict=defaultdict(dict)\n",
    "for x in range(0,supply_pivot_df.shape[0]):\n",
    "    df  = [np.array(j) for i,j in supply_pivot_df.iloc[x,:].iteritems()]\n",
    "    kdt = KDTree(df, leaf_size=30, metric='euclidean')\n",
    "    zone_neighbors = kdt.query(df, k=10, return_distance=False)[x]\n",
    "    neighbor_dict[supply_pivot_df.columns[x]]['supply'] = list([supply_pivot_df.columns[i] for i in zone_neighbors])\n",
    "    neighbor_dict[supply_pivot_df.columns[x]]['lat_long'] = lat_long_df[lat_long_df['zone'].str.contains(supply_pivot_df.columns[x])]['lat'].values[0], \\\n",
    "                                           lat_long_df[lat_long_df['zone'].str.contains(supply_pivot_df.columns[x])]['log'].values[0]\n",
    "\n",
    "data = json.dumps(neighbor_dict)\n",
    "with open('supply.json', 'w') as f:\n",
    "            f.write(data)"
   ]
  },
  {
   "cell_type": "code",
   "execution_count": 341,
   "metadata": {},
   "outputs": [
    {
     "data": {
      "text/plain": [
       "30"
      ]
     },
     "execution_count": 341,
     "metadata": {},
     "output_type": "execute_result"
    }
   ],
   "source": [
    "# import matplotlib.pyplot as plt\n",
    "# from mpl_toolkits.mplot3d import Axes3D\n",
    "# import numpy as np\n",
    "# # X, Y, Z, U, V, W = zip(*df)\n",
    "# # fig = plt.figure()\n",
    "# # ax = fig.add_subplot(111, projection='3d')\n",
    "# # ax.quiver(X, Y, Z, U, V, W)\n",
    "\n",
    "# # ax.set_xlim([-2, 2])\n",
    "# # ax.set_ylim([-2, 2])\n",
    "# # ax.set_zlim([-2, 2])\n",
    "# # ax.legend()\n",
    "# # plt.show()\n",
    "\n",
    "# avg_trip_cost = avg_trip_cost[2:]\n",
    "# # np.where(avg_trip_cost.zone =='V5Z 2L5')\n",
    "# # df = avg_trip_cost.set_index('zone')\n",
    "# # mux = pd.MultiIndex.from_product([avg_trip_cost.zone, avg_trip_cost.zone], names=['name1','name2'])\n",
    "\n",
    "# # df = (avg_trip_cost['avg_cost'].reindex(mux, level=0)\n",
    "# #         .sub(df.reindex(mux, level=1)['avg_cost'])\n",
    "# #         .rename('time_diff')\n",
    "# #         .reset_index())\n",
    "# supply_df = supply_df[numpy.isfinite(supply_df['cost_diff'])]\n",
    "# supply_df = supply_df[numpy.isfinite(supply_df['kilometers'])]\n",
    "# list(set(supply_df.to_zone) - set(supply_df.from_zone))\n",
    "# # zone_detail_df.to_zone.isin()\n",
    "len(set(avg_trip_cost.zone.unique()).difference((set(zone_detail_df.to_zone.unique()))))\n"
   ]
  },
  {
   "cell_type": "code",
   "execution_count": 286,
   "metadata": {},
   "outputs": [
    {
     "name": "stdout",
     "output_type": "stream",
     "text": [
      "nan\n"
     ]
    }
   ],
   "source": [
    "# demand = pd.read_json('http://139.59.93.34:5000/demand')\n",
    "# live_cars = pd.read_json('live_cars.json')\n",
    "# demand = demand.T\n",
    "# live_cars = live_cars.T\n",
    "# # demand = demand.fillna(0)\n",
    "# # live_cars = live_cars.fillna(0)\n",
    "\n",
    "# def type_conversion(x):\n",
    "#     if type(x)== list:\n",
    "#         return tuple(x)\n",
    "#     else:\n",
    "#         print(x)\n",
    "    \n",
    "# live_cars.lat_long = live_cars.lat_long.apply(lambda x: type_conversion(x))\n",
    "# demand.lat_long = demand.lat_long.apply(lambda x: type_conversion(x))\n",
    "\n",
    "# result= pd.merge(live_cars,demand, how='outer',on='lat_long')\n",
    "\n"
   ]
  },
  {
   "cell_type": "code",
   "execution_count": null,
   "metadata": {},
   "outputs": [],
   "source": [
    "#!/usr/bin/env python\n",
    "# coding: utf-8\n",
    "\n",
    "\"\"\"recommender system built on euclidean distance and K-nearest neighbors\"\"\"\n",
    "\n",
    "# general purpose libraries\n",
    "import platform\n",
    "import os\n",
    "import dateutil\n",
    "import itertools\n",
    "\n",
    "# database connection libraries\n",
    "import sqlite3\n",
    "from sqlite3 import Error\n",
    "\n",
    "# mathematics libraries\n",
    "import pandas as pd\n",
    "import numpy as np\n",
    "\n",
    "# ML libraries\n",
    "from sklearn.neighbors import KDTree                    # Nearest neighbors\n",
    "from sklearn.preprocessing import StandardScaler        # scales all values between a range \n",
    "from sklearn.model_selection import train_test_split    # cross-validation\n",
    "from tpot import TPOTRegressor                          # genetic algorithm implementation\n",
    "from sklearn.externals import joblib                    # model loading\n",
    "import pickle                                           # model saving\n",
    "\n",
    "# data visualisation libraries\n",
    "import matplotlib.pyplot as plt\n",
    "from mpl_toolkits.mplot3d import Axes3D\n",
    "\n",
    "# serializing libraries\n",
    "import json\n",
    "\n",
    "class SupplyRecommender():\n",
    "    \n",
    "    def __init__(self):\n",
    "        self.Sql_connection1 = self.create_connection('/opt/apps/scripts/jaarvis_demand_supply/evo.db')\n",
    "        self.Sql_connection = self.create_connection('/opt/apps/scripts/jaarvis_demand_supply/zone_travel.db')\n",
    "        self.Sql_connection2 = self.create_connection('/opt/apps/scripts/jaarvis_demand_supply/zone_lat_log.db')\n",
    "        \n",
    "\n",
    "    def create_connection(self,db_file):\n",
    "        \"\"\" create a database connection to the SQLite database\n",
    "            specified by the db_file\n",
    "        :param db_file: database file\n",
    "        :return: Connection object or None\n",
    "        \"\"\"\n",
    "        try:\n",
    "            conn = sqlite3.connect(db_file)\n",
    "            return conn\n",
    "        except Error as e:\n",
    "            print(e)\n",
    "        return None\n",
    "    \n",
    "    def getTechnicians(self):\n",
    "\n",
    "        technician_db = pd.read_sql_query(\"select * from zone_technician;\", self.Sql_connection1)\n",
    "        technician_db = technician_db.fillna(-9999)\n",
    "        \n",
    "        # Missing values handling\n",
    "        technician_db = technician_db.loc[technician_db['zone'].isin(list(avg_trip_cost.zone.unique()))]\n",
    "        \n",
    "        # Scaling values in range (-9999,10)\n",
    "        technician_db.avg.loc[technician_db['avg'] < 3 ] = -15\n",
    "        technician_db.avg.loc[technician_db['avg'] > 10] = -1\n",
    "        technician_db.avg.loc[technician_db['avg'] > 3] = 10\n",
    "        technician_db.avg.loc[technician_db['avg'] == -1] = 0\n",
    "        technician_db = technician_db.fillna(-9999)\n",
    "\n",
    "        \n",
    "        technician_db = technician_db.drop_duplicates('zone', keep='last')\n",
    "        \n",
    "        # calculating technicians in zones\n",
    "        tech_diff=pd.DataFrame(list(itertools.product(technician_db.zone,technician_db.zone)),columns=['from_zone','to_zone'])\n",
    "        dic = dict(zip(technician_db.zone,technician_db.avg))\n",
    "        tech_diff['tech_diff']=tech_diff.from_zone.map(dic)\n",
    "\n",
    "        tech_diff = tech_diff.fillna(-9999)\n",
    "        \n",
    "        return tech_diff\n",
    "\n",
    "    # cursor = Sql_connection1.cursor()\n",
    "    # cursor.execute(\"SELECT name FROM sqlite_master WHERE type='table';\")\n",
    "    # print(cursor.fetchall())\n",
    "\n",
    "    def getAvgTripCost(self):\n",
    "        \n",
    "        avg_trip_cost = pd.read_sql_query(\"select * from zone_trip_avg;\", self.Sql_connection1)\n",
    "        avg_trip_cost.total_trips = avg_trip_cost.total_trips.astype(int)\n",
    "        avg_trip_cost = avg_trip_cost.sort_values(by = 'zone')\n",
    "\n",
    "        cost_diff=pd.DataFrame(list(itertools.product(avg_trip_cost.zone,avg_trip_cost.zone)),columns=['from_zone','to_zone'])\n",
    "        dic = dict(zip(avg_trip_cost.zone,avg_trip_cost.avg_cost))\n",
    "        cost_diff['cost_diff']=cost_diff.from_zone.map(dic)-cost_diff.to_zone.map(dic)\n",
    "        cost_diff.head()\n",
    "\n",
    "        cost_diff = cost_diff.fillna(-9999)\n",
    "\n",
    "        return cost_diff\n",
    "\n",
    "    def getDistanceTime(self):\n",
    "        \n",
    "        zone_detail_df = pd.read_sql_query(\"select * from zone_travel_detail;\", self.Sql_connection)\n",
    "        # zone_detail_df.head()\n",
    "\n",
    "        temp = zone_detail_df.loc[zone_detail_df['to_zone'].isin(list(avg_trip_cost.zone.unique()))]\n",
    "        temp = temp.loc[temp['from_zone'].isin(list(avg_trip_cost.zone.unique()))]\n",
    "\n",
    "        zone_detail_df = temp\n",
    "        \n",
    "        return zone_detail_df\n",
    "\n",
    "# bringing all DFs in same format so that they can be joined to pass to the ML model\n",
    "\n",
    "    def supplyData(self):\n",
    "        \n",
    "        zone_detail_df = self.getDistanceTime()\n",
    "        tech_diff = self.getTechnicians()\n",
    "        cost_diff = self.getAvgTripCost\n",
    "        \n",
    "        # final DF after data preprocessing & cleaning & joining\n",
    "        supply_df = pd.merge(zone_detail_df, tech_diff,  how='left', left_on=['from_zone','to_zone'], right_on = ['from_zone','to_zone'])\n",
    "        supply_df = pd.merge(supply_df,cost_diff ,  how='left', left_on=['from_zone','to_zone'], right_on = ['from_zone','to_zone'])\n",
    "        supply_df = supply_df.fillna(-9999)\n",
    "\n",
    "        supply_df['vector'] = list(map(list,(zip(supply_df.kilometers,supply_df.minutes,supply_df.cost_diff,supply_df.tech_diff))))\n",
    "\n",
    "        supply_pivot_df = pd.pivot_table(supply_df,values=['vector'],index=['from_zone'],columns=['to_zone'],aggfunc='first')\n",
    "\n",
    "        supply_pivot_df = supply_pivot_df.vector\n",
    "\n",
    "        supply_pivot_df = supply_pivot_df.sort_index()\n",
    "        supply_pivot_df = supply_pivot_df[supply_pivot_df.columns.sort_values()]\n",
    "\n",
    "        supply_pivot_df=supply_pivot_df.applymap(lambda x: [-9999,-9999,-9999,-9999] if x is np.nan else x)\n",
    "        supply_pivot_df = supply_pivot_df[supply_pivot_df.index.isin(supply_pivot_df.columns)]\n",
    "        supply_pivot_df = supply_pivot_df.loc[:, supply_pivot_df.columns.isin(supply_pivot_df.index)]\n",
    "\n",
    "        for i in range(supply_pivot_df.shape[0]):\n",
    "            supply_pivot_df.iloc[i,i]=[0,0,0,0]\n",
    "\n",
    "        return supply_pivot_df\n",
    "    \n",
    "    def nearest_neighbors():\n",
    "        supply_pivot_df = self.supplyData()\n",
    "        \n",
    "        from sklearn.neighbors import KDTree\n",
    "        from collections import defaultdict\n",
    "        neighbor_dict=defaultdict(dict)\n",
    "        for x in range(0,supply_pivot_df.shape[0]):\n",
    "            df  = [np.array(j) for i,j in supply_pivot_df.iloc[x,:].iteritems()]\n",
    "            kdt = KDTree(df, leaf_size=30, metric='euclidean')\n",
    "            zone_neighbors = kdt.query(df, k=10, return_distance=False)[x]\n",
    "            neighbor_dict[supply_pivot_df.columns[x]]['supply'] = list([supply_pivot_df.columns[i] for i in zone_neighbors])\n",
    "            neighbor_dict[supply_pivot_df.columns[x]]['lat_long'] = lat_long_df[lat_long_df['zone'].str.contains(supply_pivot_df.columns[x])]['lat'].values[0], \\\n",
    "                                                   lat_long_df[lat_long_df['zone'].str.contains(supply_pivot_df.columns[x])]['log'].values[0]\n",
    "    \n",
    "        data = json.dumps(neighbor_dict)\n",
    "        with open('supply.json', 'w') as f:\n",
    "                    f.write(data)"
   ]
  },
  {
   "cell_type": "code",
   "execution_count": 62,
   "metadata": {},
   "outputs": [
    {
     "data": {
      "text/plain": [
       "'/opt/apps/Jaarvis_Demand_Supply/available_models'"
      ]
     },
     "execution_count": 62,
     "metadata": {},
     "output_type": "execute_result"
    }
   ],
   "source": [
    "import os\n",
    "os.getcwd()"
   ]
  },
  {
   "cell_type": "code",
   "execution_count": null,
   "metadata": {},
   "outputs": [],
   "source": []
  }
 ],
 "metadata": {
  "kernelspec": {
   "display_name": "Python 3",
   "language": "python",
   "name": "python3"
  },
  "language_info": {
   "codemirror_mode": {
    "name": "ipython",
    "version": 3
   },
   "file_extension": ".py",
   "mimetype": "text/x-python",
   "name": "python",
   "nbconvert_exporter": "python",
   "pygments_lexer": "ipython3",
   "version": "3.5.2"
  }
 },
 "nbformat": 4,
 "nbformat_minor": 2
}
